{
 "cells": [
  {
   "cell_type": "code",
   "execution_count": 1,
   "id": "bdb6d1d9",
   "metadata": {},
   "outputs": [],
   "source": [
    "import numpy as np"
   ]
  },
  {
   "cell_type": "code",
   "execution_count": 2,
   "id": "dbd6f561",
   "metadata": {},
   "outputs": [],
   "source": [
    "import pandas as pd"
   ]
  },
  {
   "cell_type": "code",
   "execution_count": 3,
   "id": "31deef63",
   "metadata": {},
   "outputs": [],
   "source": [
    "df=pd.read_csv(\"staffing_train.csv\")"
   ]
  },
  {
   "cell_type": "code",
   "execution_count": 4,
   "id": "8ebcc784",
   "metadata": {},
   "outputs": [
    {
     "name": "stdout",
     "output_type": "stream",
     "text": [
      "          date section_id  employees_on_duty  total_task_time_minutes\n",
      "0   2021-01-01    SEC-001                  1               834.569483\n",
      "1   2021-01-01    SEC-002                  4              1525.368990\n",
      "2   2021-01-01    SEC-003                  2               662.095279\n",
      "3   2021-01-01    SEC-004                  4              1499.112620\n",
      "4   2021-01-01    SEC-005                  3              1238.533073\n",
      "5   2021-01-01    SEC-006                 11              4283.154645\n",
      "6   2021-01-04    SEC-001                  1               767.698506\n",
      "7   2021-01-04    SEC-002                  7              2717.770275\n",
      "8   2021-01-04    SEC-003                  6              2485.334696\n",
      "9   2021-01-04    SEC-004                  6              2097.884599\n",
      "10  2021-01-04    SEC-005                  4              1556.520829\n",
      "11  2021-01-04    SEC-006                  6              1873.923819\n",
      "12  2021-01-05    SEC-001                  4              1530.652495\n",
      "13  2021-01-05    SEC-002                  6              2177.474405\n",
      "14  2021-01-05    SEC-003                  3               459.171861\n",
      "15  2021-01-05    SEC-004                  4              1138.464777\n",
      "16  2021-01-05    SEC-005                  6              2411.319418\n",
      "17  2021-01-05    SEC-006                  5              1933.867596\n",
      "18  2021-01-06    SEC-001                  2               481.229090\n",
      "19  2021-01-06    SEC-002                  5              1814.401207\n"
     ]
    }
   ],
   "source": [
    "print(df.head(20))"
   ]
  },
  {
   "cell_type": "code",
   "execution_count": 5,
   "id": "50f7520a",
   "metadata": {},
   "outputs": [
    {
     "name": "stdout",
     "output_type": "stream",
     "text": [
      "            date section_id  employees_on_duty  total_task_time_minutes\n",
      "5782  2024-12-26    SEC-005                  7              2543.213107\n",
      "5783  2024-12-26    SEC-006                  8              2955.184394\n",
      "5784  2024-12-27    SEC-001                  5              1413.942415\n",
      "5785  2024-12-27    SEC-002                  2              1022.775682\n",
      "5786  2024-12-27    SEC-003                  2               615.576246\n",
      "5787  2024-12-27    SEC-004                  4              1288.723110\n",
      "5788  2024-12-27    SEC-005                 10              3623.308966\n",
      "5789  2024-12-27    SEC-006                  5              1987.666281\n",
      "5790  2024-12-30    SEC-001                  3              1476.008272\n",
      "5791  2024-12-30    SEC-002                  5              2094.648238\n",
      "5792  2024-12-30    SEC-003                  1               836.813742\n",
      "5793  2024-12-30    SEC-004                  3               907.255329\n",
      "5794  2024-12-30    SEC-005                  5              1721.295918\n",
      "5795  2024-12-30    SEC-006                  8              3566.771606\n",
      "5796  2024-12-31    SEC-001                  4              1080.785210\n",
      "5797  2024-12-31    SEC-002                  3              1108.127212\n",
      "5798  2024-12-31    SEC-003                  1               345.808093\n",
      "5799  2024-12-31    SEC-004                  3              1293.492842\n",
      "5800  2024-12-31    SEC-005                  5              1968.530130\n",
      "5801  2024-12-31    SEC-006                  4              1318.902481\n"
     ]
    }
   ],
   "source": [
    "print(df.tail(20))"
   ]
  },
  {
   "cell_type": "code",
   "execution_count": 6,
   "id": "aa3a6074",
   "metadata": {},
   "outputs": [
    {
     "name": "stdout",
     "output_type": "stream",
     "text": [
      "Dates that do NOT have all 6 sections:\n",
      "Series([], dtype: int64)\n"
     ]
    }
   ],
   "source": [
    "# CHECK 1 – each date has 6 sections\n",
    "# -----------------------------------\n",
    "counts = df.groupby('date').size()\n",
    "dates_missing_sections = counts[counts != 6]\n",
    "print(\"Dates that do NOT have all 6 sections:\")\n",
    "print(dates_missing_sections)"
   ]
  },
  {
   "cell_type": "code",
   "execution_count": 7,
   "id": "3372172f",
   "metadata": {},
   "outputs": [],
   "source": [
    "# CHECK 2 – dates are continuous\n",
    "# -----------------------------------\n",
    "# convert 'date' to datetime format if it's still a string\n",
    "df['date'] = pd.to_datetime(df['date'])\n"
   ]
  },
  {
   "cell_type": "code",
   "execution_count": 8,
   "id": "b633250c",
   "metadata": {},
   "outputs": [],
   "source": [
    "# generate full date range from min to max\n",
    "full_range = pd.date_range(start=df['date'].min(), end=df['date'].max(), freq='D')\n"
   ]
  },
  {
   "cell_type": "code",
   "execution_count": 9,
   "id": "8f826d7a",
   "metadata": {},
   "outputs": [
    {
     "name": "stdout",
     "output_type": "stream",
     "text": [
      "Missing calendar dates:\n",
      "DatetimeIndex(['2021-01-02', '2021-01-03', '2021-01-09', '2021-01-10',\n",
      "               '2021-01-14', '2021-01-16', '2021-01-17', '2021-01-23',\n",
      "               '2021-01-24', '2021-01-28',\n",
      "               ...\n",
      "               '2024-12-01', '2024-12-07', '2024-12-08', '2024-12-14',\n",
      "               '2024-12-15', '2024-12-21', '2024-12-22', '2024-12-25',\n",
      "               '2024-12-28', '2024-12-29'],\n",
      "              dtype='datetime64[ns]', length=494, freq=None)\n"
     ]
    }
   ],
   "source": [
    "# convert the dataframe dates into a DatetimeIndex and take the difference\n",
    "missing_dates = full_range.difference(pd.DatetimeIndex(df['date']))\n",
    "\n",
    "print(\"Missing calendar dates:\")\n",
    "print(missing_dates)"
   ]
  },
  {
   "cell_type": "code",
   "execution_count": 10,
   "id": "67da4338",
   "metadata": {},
   "outputs": [
    {
     "name": "stdout",
     "output_type": "stream",
     "text": [
      "          date day_of_week\n",
      "0   2021-01-02    Saturday\n",
      "1   2021-01-03      Sunday\n",
      "2   2021-01-09    Saturday\n",
      "3   2021-01-10      Sunday\n",
      "4   2021-01-14    Thursday\n",
      "..         ...         ...\n",
      "489 2024-12-21    Saturday\n",
      "490 2024-12-22      Sunday\n",
      "491 2024-12-25   Wednesday\n",
      "492 2024-12-28    Saturday\n",
      "493 2024-12-29      Sunday\n",
      "\n",
      "[494 rows x 2 columns]\n"
     ]
    }
   ],
   "source": [
    "# Show missing dates with their day of week\n",
    "missing_dates_df = pd.DataFrame({'date': missing_dates})\n",
    "missing_dates_df['day_of_week'] = missing_dates_df['date'].dt.day_name()\n",
    "print(missing_dates_df)"
   ]
  },
  {
   "cell_type": "code",
   "execution_count": 11,
   "id": "fc3053ed",
   "metadata": {},
   "outputs": [
    {
     "name": "stdout",
     "output_type": "stream",
     "text": [
      "day_of_week\n",
      "Saturday     209\n",
      "Sunday       209\n",
      "Monday        19\n",
      "Thursday      18\n",
      "Friday        18\n",
      "Wednesday     11\n",
      "Tuesday       10\n",
      "Name: count, dtype: int64\n"
     ]
    }
   ],
   "source": [
    "# Count missing dates by day of week\n",
    "day_counts = missing_dates_df['day_of_week'].value_counts()\n",
    "print(day_counts)"
   ]
  },
  {
   "cell_type": "code",
   "execution_count": null,
   "id": "e37724d0",
   "metadata": {},
   "outputs": [],
   "source": []
  },
  {
   "cell_type": "code",
   "execution_count": null,
   "id": "c894b39c",
   "metadata": {},
   "outputs": [],
   "source": [
    "import matplotlib.pyplot as plt\n",
    "\n",
    "# Get unique services\n",
    "services = df['section_id'].unique()\n",
    "\n",
    "# Set up the figure\n",
    "fig, axes = plt.subplots(3, 2, figsize=(15, 12), sharex=True)\n",
    "axes = axes.flatten()\n",
    "\n",
    "for i, service in enumerate(services):\n",
    "    service_df = df[df['service'] == service]\n",
    "    axes[i].plot(service_df['date'], service_df['employees_on_duty'], marker='o')\n",
    "    axes[i].set_title(f'Service: {service}')\n",
    "    axes[i].set_xlabel('Date')\n",
    "    axes[i].set_ylabel('Employees on Duty')\n",
    "    axes[i].tick_params(axis='x', rotation=45)\n",
    "\n",
    "plt.tight_layout()\n",
    "plt.show()"
   ]
  }
 ],
 "metadata": {
  "kernelspec": {
   "display_name": "venv",
   "language": "python",
   "name": "python3"
  },
  "language_info": {
   "codemirror_mode": {
    "name": "ipython",
    "version": 3
   },
   "file_extension": ".py",
   "mimetype": "text/x-python",
   "name": "python",
   "nbconvert_exporter": "python",
   "pygments_lexer": "ipython3",
   "version": "3.12.4"
  }
 },
 "nbformat": 4,
 "nbformat_minor": 5
}

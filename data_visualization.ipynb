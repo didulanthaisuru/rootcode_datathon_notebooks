{
 "cells": [
  {
   "cell_type": "code",
   "execution_count": 1,
   "id": "bdb6d1d9",
   "metadata": {},
   "outputs": [
    {
     "ename": "ModuleNotFoundError",
     "evalue": "No module named 'numpy'",
     "output_type": "error",
     "traceback": [
      "\u001b[31m---------------------------------------------------------------------------\u001b[39m",
      "\u001b[31mModuleNotFoundError\u001b[39m                       Traceback (most recent call last)",
      "\u001b[36mCell\u001b[39m\u001b[36m \u001b[39m\u001b[32mIn[1]\u001b[39m\u001b[32m, line 1\u001b[39m\n\u001b[32m----> \u001b[39m\u001b[32m1\u001b[39m \u001b[38;5;28;01mimport\u001b[39;00m\u001b[38;5;250m \u001b[39m\u001b[34;01mnumpy\u001b[39;00m\u001b[38;5;250m \u001b[39m\u001b[38;5;28;01mas\u001b[39;00m\u001b[38;5;250m \u001b[39m\u001b[34;01mnp\u001b[39;00m\n",
      "\u001b[31mModuleNotFoundError\u001b[39m: No module named 'numpy'"
     ]
    }
   ],
   "source": [
    "import numpy as np"
   ]
  },
  {
   "cell_type": "code",
   "execution_count": 4,
   "id": "dbd6f561",
   "metadata": {},
   "outputs": [],
   "source": [
    "import pandas as pd"
   ]
  },
  {
   "cell_type": "code",
   "execution_count": 6,
   "id": "31deef63",
   "metadata": {},
   "outputs": [],
   "source": [
    "df=pd.read_csv(\"staffing_train.csv\")"
   ]
  },
  {
   "cell_type": "code",
   "execution_count": 8,
   "id": "8ebcc784",
   "metadata": {},
   "outputs": [
    {
     "name": "stdout",
     "output_type": "stream",
     "text": [
      "          date section_id  employees_on_duty  total_task_time_minutes\n",
      "0   2021-01-01    SEC-001                  1               834.569483\n",
      "1   2021-01-01    SEC-002                  4              1525.368990\n",
      "2   2021-01-01    SEC-003                  2               662.095279\n",
      "3   2021-01-01    SEC-004                  4              1499.112620\n",
      "4   2021-01-01    SEC-005                  3              1238.533073\n",
      "5   2021-01-01    SEC-006                 11              4283.154645\n",
      "6   2021-01-04    SEC-001                  1               767.698506\n",
      "7   2021-01-04    SEC-002                  7              2717.770275\n",
      "8   2021-01-04    SEC-003                  6              2485.334696\n",
      "9   2021-01-04    SEC-004                  6              2097.884599\n",
      "10  2021-01-04    SEC-005                  4              1556.520829\n",
      "11  2021-01-04    SEC-006                  6              1873.923819\n",
      "12  2021-01-05    SEC-001                  4              1530.652495\n",
      "13  2021-01-05    SEC-002                  6              2177.474405\n",
      "14  2021-01-05    SEC-003                  3               459.171861\n",
      "15  2021-01-05    SEC-004                  4              1138.464777\n",
      "16  2021-01-05    SEC-005                  6              2411.319418\n",
      "17  2021-01-05    SEC-006                  5              1933.867596\n",
      "18  2021-01-06    SEC-001                  2               481.229090\n",
      "19  2021-01-06    SEC-002                  5              1814.401207\n"
     ]
    }
   ],
   "source": [
    "print(df.head(20))"
   ]
  },
  {
   "cell_type": "code",
   "execution_count": 9,
   "id": "50f7520a",
   "metadata": {},
   "outputs": [
    {
     "name": "stdout",
     "output_type": "stream",
     "text": [
      "            date section_id  employees_on_duty  total_task_time_minutes\n",
      "5782  2024-12-26    SEC-005                  7              2543.213107\n",
      "5783  2024-12-26    SEC-006                  8              2955.184394\n",
      "5784  2024-12-27    SEC-001                  5              1413.942415\n",
      "5785  2024-12-27    SEC-002                  2              1022.775682\n",
      "5786  2024-12-27    SEC-003                  2               615.576246\n",
      "5787  2024-12-27    SEC-004                  4              1288.723110\n",
      "5788  2024-12-27    SEC-005                 10              3623.308966\n",
      "5789  2024-12-27    SEC-006                  5              1987.666281\n",
      "5790  2024-12-30    SEC-001                  3              1476.008272\n",
      "5791  2024-12-30    SEC-002                  5              2094.648238\n",
      "5792  2024-12-30    SEC-003                  1               836.813742\n",
      "5793  2024-12-30    SEC-004                  3               907.255329\n",
      "5794  2024-12-30    SEC-005                  5              1721.295918\n",
      "5795  2024-12-30    SEC-006                  8              3566.771606\n",
      "5796  2024-12-31    SEC-001                  4              1080.785210\n",
      "5797  2024-12-31    SEC-002                  3              1108.127212\n",
      "5798  2024-12-31    SEC-003                  1               345.808093\n",
      "5799  2024-12-31    SEC-004                  3              1293.492842\n",
      "5800  2024-12-31    SEC-005                  5              1968.530130\n",
      "5801  2024-12-31    SEC-006                  4              1318.902481\n"
     ]
    }
   ],
   "source": [
    "print(df.tail(20))"
   ]
  },
  {
   "cell_type": "code",
   "execution_count": null,
   "id": "aa3a6074",
   "metadata": {},
   "outputs": [],
   "source": []
  }
 ],
 "metadata": {
  "kernelspec": {
   "display_name": "venv",
   "language": "python",
   "name": "python3"
  },
  "language_info": {
   "codemirror_mode": {
    "name": "ipython",
    "version": 3
   },
   "file_extension": ".py",
   "mimetype": "text/x-python",
   "name": "python",
   "nbconvert_exporter": "python",
   "pygments_lexer": "ipython3",
   "version": "3.12.4"
  }
 },
 "nbformat": 4,
 "nbformat_minor": 5
}

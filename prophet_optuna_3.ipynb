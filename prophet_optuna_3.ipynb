{
 "cells": [
  {
   "cell_type": "code",
   "execution_count": 2,
   "id": "0cd41fb6",
   "metadata": {},
   "outputs": [
    {
     "name": "stderr",
     "output_type": "stream",
     "text": [
      "[I 2025-08-23 01:29:34,160] A new study created in memory with name: no-name-cbe319c8-fed0-4cb6-9b4c-414b9373ce04\n"
     ]
    },
    {
     "name": "stdout",
     "output_type": "stream",
     "text": [
      "\n",
      "[Main Loop] Processing section: SEC-001\n",
      "[Optuna] Tuning section: SEC-001\n"
     ]
    },
    {
     "data": {
      "application/vnd.jupyter.widget-view+json": {
       "model_id": "32762ab65d69433ab383345cb5d68e34",
       "version_major": 2,
       "version_minor": 0
      },
      "text/plain": [
       "  0%|          | 0/70 [00:00<?, ?it/s]"
      ]
     },
     "metadata": {},
     "output_type": "display_data"
    },
    {
     "name": "stderr",
     "output_type": "stream",
     "text": [
      "01:29:34 - cmdstanpy - INFO - Chain [1] start processing\n",
      "01:29:34 - cmdstanpy - INFO - Chain [1] done processing\n",
      "01:29:35 - cmdstanpy - INFO - Chain [1] start processing\n",
      "01:29:35 - cmdstanpy - INFO - Chain [1] start processing\n",
      "01:29:35 - cmdstanpy - INFO - Chain [1] start processing\n",
      "01:29:35 - cmdstanpy - INFO - Chain [1] start processing\n",
      "01:29:35 - cmdstanpy - INFO - Chain [1] start processing\n",
      "01:29:35 - cmdstanpy - INFO - Chain [1] start processing\n",
      "01:29:35 - cmdstanpy - INFO - Chain [1] done processing\n",
      "01:29:35 - cmdstanpy - INFO - Chain [1] start processing\n",
      "01:29:35 - cmdstanpy - INFO - Chain [1] start processing\n",
      "01:29:35 - cmdstanpy - INFO - Chain [1] start processing\n",
      "01:29:35 - cmdstanpy - INFO - Chain [1] start processing\n",
      "01:29:36 - cmdstanpy - INFO - Chain [1] done processing\n",
      "01:29:36 - cmdstanpy - INFO - Chain [1] done processing\n",
      "01:29:36 - cmdstanpy - INFO - Chain [1] done processing\n",
      "01:29:36 - cmdstanpy - INFO - Chain [1] done processing\n",
      "01:29:36 - cmdstanpy - INFO - Chain [1] done processing\n",
      "01:29:36 - cmdstanpy - INFO - Chain [1] done processing\n",
      "01:29:36 - cmdstanpy - INFO - Chain [1] done processing\n",
      "01:29:36 - cmdstanpy - INFO - Chain [1] done processing\n",
      "01:29:36 - cmdstanpy - INFO - Chain [1] done processing\n",
      "01:29:37 - cmdstanpy - INFO - Chain [1] start processing\n"
     ]
    },
    {
     "name": "stdout",
     "output_type": "stream",
     "text": [
      "[I 2025-08-23 01:29:36,938] Trial 0 finished with value: 324.8163187189757 and parameters: {'changepoint_prior_scale': 0.0042399146924145675, 'seasonality_prior_scale': 3.262043795414582, 'holidays_prior_scale': 2.9842825350410114}. Best is trial 0 with value: 324.8163187189757.\n"
     ]
    },
    {
     "name": "stderr",
     "output_type": "stream",
     "text": [
      "01:29:37 - cmdstanpy - INFO - Chain [1] done processing\n",
      "01:29:37 - cmdstanpy - INFO - Chain [1] start processing\n",
      "01:29:37 - cmdstanpy - INFO - Chain [1] start processing\n",
      "01:29:37 - cmdstanpy - INFO - Chain [1] start processing\n",
      "01:29:37 - cmdstanpy - INFO - Chain [1] done processing\n",
      "01:29:38 - cmdstanpy - INFO - Chain [1] done processing\n",
      "01:29:38 - cmdstanpy - INFO - Chain [1] done processing\n",
      "01:29:38 - cmdstanpy - INFO - Chain [1] start processing\n",
      "01:29:38 - cmdstanpy - INFO - Chain [1] start processing\n",
      "01:29:38 - cmdstanpy - INFO - Chain [1] start processing\n",
      "01:29:38 - cmdstanpy - INFO - Chain [1] start processing\n",
      "01:29:38 - cmdstanpy - INFO - Chain [1] start processing\n",
      "01:29:38 - cmdstanpy - INFO - Chain [1] start processing\n",
      "01:29:38 - cmdstanpy - INFO - Chain [1] done processing\n",
      "01:29:38 - cmdstanpy - INFO - Chain [1] done processing\n",
      "01:29:38 - cmdstanpy - INFO - Chain [1] done processing\n",
      "01:29:38 - cmdstanpy - INFO - Chain [1] start processing\n",
      "01:29:38 - cmdstanpy - INFO - Chain [1] done processing\n",
      "01:29:38 - cmdstanpy - INFO - Chain [1] done processing\n",
      "01:29:38 - cmdstanpy - INFO - Chain [1] done processing\n",
      "01:29:39 - cmdstanpy - INFO - Chain [1] done processing\n",
      "01:29:39 - cmdstanpy - INFO - Chain [1] start processing\n"
     ]
    },
    {
     "name": "stdout",
     "output_type": "stream",
     "text": [
      "[I 2025-08-23 01:29:39,316] Trial 1 finished with value: 317.20185088961057 and parameters: {'changepoint_prior_scale': 0.39899368308717476, 'seasonality_prior_scale': 25.947686965739777, 'holidays_prior_scale': 28.77742399411145}. Best is trial 1 with value: 317.20185088961057.\n"
     ]
    },
    {
     "name": "stderr",
     "output_type": "stream",
     "text": [
      "01:29:39 - cmdstanpy - INFO - Chain [1] done processing\n",
      "01:29:39 - cmdstanpy - ERROR - Chain [1] error: error during processing Operation not permitted\n",
      "Optimization terminated abnormally. Falling back to Newton.\n",
      "01:29:39 - cmdstanpy - INFO - Chain [1] start processing\n",
      "01:29:41 - cmdstanpy - INFO - Chain [1] done processing\n",
      "01:29:41 - cmdstanpy - INFO - Chain [1] start processing\n",
      "01:29:41 - cmdstanpy - INFO - Chain [1] start processing\n",
      "01:29:42 - cmdstanpy - INFO - Chain [1] start processing\n",
      "01:29:42 - cmdstanpy - INFO - Chain [1] start processing\n",
      "01:29:42 - cmdstanpy - INFO - Chain [1] done processing\n",
      "01:29:42 - cmdstanpy - INFO - Chain [1] start processing\n",
      "01:29:42 - cmdstanpy - INFO - Chain [1] start processing\n",
      "01:29:42 - cmdstanpy - INFO - Chain [1] start processing\n",
      "01:29:42 - cmdstanpy - INFO - Chain [1] start processing\n",
      "01:29:42 - cmdstanpy - INFO - Chain [1] done processing\n",
      "01:29:42 - cmdstanpy - INFO - Chain [1] start processing\n",
      "01:29:42 - cmdstanpy - INFO - Chain [1] done processing\n",
      "01:29:42 - cmdstanpy - ERROR - Chain [1] error: error during processing Operation not permitted\n",
      "01:29:42 - cmdstanpy - INFO - Chain [1] start processing\n",
      "01:29:42 - cmdstanpy - ERROR - Chain [1] error: error during processing Operation not permitted\n",
      "01:29:42 - cmdstanpy - INFO - Chain [1] done processing\n",
      "01:29:42 - cmdstanpy - INFO - Chain [1] done processing\n",
      "01:29:42 - cmdstanpy - ERROR - Chain [1] error: error during processing Operation not permitted\n",
      "01:29:42 - cmdstanpy - ERROR - Chain [1] error: error during processing Operation not permitted\n",
      "Optimization terminated abnormally. Falling back to Newton.\n",
      "01:29:42 - cmdstanpy - INFO - Chain [1] done processing\n",
      "Optimization terminated abnormally. Falling back to Newton.\n",
      "Optimization terminated abnormally. Falling back to Newton.\n",
      "01:29:42 - cmdstanpy - INFO - Chain [1] done processing\n",
      "01:29:42 - cmdstanpy - INFO - Chain [1] done processing\n",
      "Optimization terminated abnormally. Falling back to Newton.\n",
      "01:29:42 - cmdstanpy - ERROR - Chain [1] error: error during processing Operation not permitted\n",
      "01:29:42 - cmdstanpy - INFO - Chain [1] done processing\n",
      "01:29:42 - cmdstanpy - ERROR - Chain [1] error: error during processing Operation not permitted\n",
      "Optimization terminated abnormally. Falling back to Newton.\n",
      "01:29:42 - cmdstanpy - INFO - Chain [1] done processing\n",
      "01:29:42 - cmdstanpy - ERROR - Chain [1] error: error during processing Operation not permitted\n",
      "Optimization terminated abnormally. Falling back to Newton.\n",
      "01:29:42 - cmdstanpy - ERROR - Chain [1] error: error during processing Operation not permitted\n",
      "01:29:42 - cmdstanpy - INFO - Chain [1] start processing\n",
      "Optimization terminated abnormally. Falling back to Newton.\n",
      "01:29:42 - cmdstanpy - INFO - Chain [1] start processing\n",
      "Optimization terminated abnormally. Falling back to Newton.\n",
      "01:29:42 - cmdstanpy - INFO - Chain [1] start processing\n",
      "01:29:42 - cmdstanpy - INFO - Chain [1] start processing\n",
      "01:29:43 - cmdstanpy - INFO - Chain [1] start processing\n",
      "01:29:43 - cmdstanpy - INFO - Chain [1] start processing\n",
      "01:29:43 - cmdstanpy - INFO - Chain [1] start processing\n",
      "01:29:43 - cmdstanpy - INFO - Chain [1] start processing\n",
      "01:29:46 - cmdstanpy - INFO - Chain [1] done processing\n",
      "01:29:46 - cmdstanpy - INFO - Chain [1] done processing\n",
      "01:29:46 - cmdstanpy - INFO - Chain [1] done processing\n",
      "01:29:47 - cmdstanpy - INFO - Chain [1] done processing\n",
      "01:29:57 - cmdstanpy - INFO - Chain [1] done processing\n",
      "01:29:57 - cmdstanpy - INFO - Chain [1] done processing\n",
      "01:30:17 - cmdstanpy - INFO - Chain [1] done processing\n",
      "01:30:26 - cmdstanpy - INFO - Chain [1] done processing\n",
      "01:30:26 - cmdstanpy - INFO - Chain [1] start processing\n",
      "01:30:26 - cmdstanpy - INFO - Chain [1] done processing\n"
     ]
    },
    {
     "name": "stdout",
     "output_type": "stream",
     "text": [
      "[I 2025-08-23 01:30:26,551] Trial 2 finished with value: 351.4913232621483 and parameters: {'changepoint_prior_scale': 0.00016975515993337904, 'seasonality_prior_scale': 6.442393091248497, 'holidays_prior_scale': 0.01555879700016466}. Best is trial 1 with value: 317.20185088961057.\n"
     ]
    },
    {
     "name": "stderr",
     "output_type": "stream",
     "text": [
      "01:30:26 - cmdstanpy - ERROR - Chain [1] error: error during processing Operation not permitted\n",
      "Optimization terminated abnormally. Falling back to Newton.\n",
      "01:30:26 - cmdstanpy - INFO - Chain [1] start processing\n",
      "01:30:28 - cmdstanpy - INFO - Chain [1] done processing\n",
      "01:30:28 - cmdstanpy - INFO - Chain [1] start processing\n",
      "01:30:28 - cmdstanpy - INFO - Chain [1] done processing\n",
      "01:30:28 - cmdstanpy - ERROR - Chain [1] error: error during processing Operation not permitted\n",
      "Optimization terminated abnormally. Falling back to Newton.\n",
      "01:30:29 - cmdstanpy - INFO - Chain [1] start processing\n",
      "01:30:29 - cmdstanpy - INFO - Chain [1] start processing\n",
      "01:30:29 - cmdstanpy - INFO - Chain [1] start processing\n",
      "01:30:29 - cmdstanpy - INFO - Chain [1] start processing\n",
      "01:30:29 - cmdstanpy - INFO - Chain [1] start processing\n",
      "01:30:29 - cmdstanpy - INFO - Chain [1] start processing\n",
      "01:30:29 - cmdstanpy - INFO - Chain [1] start processing\n",
      "01:30:29 - cmdstanpy - INFO - Chain [1] done processing\n",
      "01:30:29 - cmdstanpy - INFO - Chain [1] start processing\n",
      "01:30:29 - cmdstanpy - INFO - Chain [1] done processing\n",
      "01:30:29 - cmdstanpy - INFO - Chain [1] done processing\n",
      "01:30:29 - cmdstanpy - INFO - Chain [1] start processing\n",
      "01:30:29 - cmdstanpy - INFO - Chain [1] done processing\n",
      "01:30:29 - cmdstanpy - ERROR - Chain [1] error: error during processing Operation not permitted\n",
      "01:30:29 - cmdstanpy - ERROR - Chain [1] error: error during processing Operation not permitted\n",
      "Optimization terminated abnormally. Falling back to Newton.\n",
      "01:30:29 - cmdstanpy - INFO - Chain [1] done processing\n",
      "01:30:29 - cmdstanpy - INFO - Chain [1] done processing\n",
      "01:30:29 - cmdstanpy - INFO - Chain [1] done processing\n",
      "Optimization terminated abnormally. Falling back to Newton.\n",
      "01:30:29 - cmdstanpy - ERROR - Chain [1] error: error during processing Operation not permitted\n",
      "01:30:29 - cmdstanpy - INFO - Chain [1] done processing\n",
      "01:30:29 - cmdstanpy - ERROR - Chain [1] error: error during processing Operation not permitted\n",
      "Optimization terminated abnormally. Falling back to Newton.\n",
      "01:30:29 - cmdstanpy - INFO - Chain [1] start processing\n",
      "01:30:29 - cmdstanpy - ERROR - Chain [1] error: error during processing Operation not permitted\n",
      "Optimization terminated abnormally. Falling back to Newton.\n",
      "01:30:30 - cmdstanpy - ERROR - Chain [1] error: error during processing Operation not permitted\n",
      "01:30:30 - cmdstanpy - INFO - Chain [1] done processing\n",
      "Optimization terminated abnormally. Falling back to Newton.\n",
      "01:30:30 - cmdstanpy - ERROR - Chain [1] error: error during processing Operation not permitted\n",
      "Optimization terminated abnormally. Falling back to Newton.\n",
      "01:30:30 - cmdstanpy - INFO - Chain [1] start processing\n",
      "Optimization terminated abnormally. Falling back to Newton.\n",
      "01:30:30 - cmdstanpy - INFO - Chain [1] start processing\n",
      "01:30:30 - cmdstanpy - INFO - Chain [1] start processing\n",
      "01:30:30 - cmdstanpy - INFO - Chain [1] start processing\n",
      "01:30:30 - cmdstanpy - INFO - Chain [1] start processing\n",
      "01:30:30 - cmdstanpy - INFO - Chain [1] start processing\n",
      "01:30:30 - cmdstanpy - INFO - Chain [1] start processing\n",
      "01:30:32 - cmdstanpy - INFO - Chain [1] done processing\n",
      "01:30:33 - cmdstanpy - INFO - Chain [1] done processing\n",
      "01:30:33 - cmdstanpy - INFO - Chain [1] done processing\n",
      "01:30:34 - cmdstanpy - INFO - Chain [1] done processing\n",
      "01:30:34 - cmdstanpy - INFO - Chain [1] done processing\n",
      "01:30:34 - cmdstanpy - INFO - Chain [1] done processing\n",
      "01:30:34 - cmdstanpy - INFO - Chain [1] done processing\n",
      "01:30:36 - cmdstanpy - INFO - Chain [1] done processing\n",
      "01:30:36 - cmdstanpy - INFO - Chain [1] start processing\n"
     ]
    },
    {
     "name": "stdout",
     "output_type": "stream",
     "text": [
      "[I 2025-08-23 01:30:36,566] Trial 3 finished with value: 336.98038388302587 and parameters: {'changepoint_prior_scale': 0.0004376278283539089, 'seasonality_prior_scale': 8.264942574593187, 'holidays_prior_scale': 18.464618436408013}. Best is trial 1 with value: 317.20185088961057.\n"
     ]
    },
    {
     "name": "stderr",
     "output_type": "stream",
     "text": [
      "01:30:36 - cmdstanpy - INFO - Chain [1] done processing\n",
      "01:30:36 - cmdstanpy - ERROR - Chain [1] error: error during processing Operation not permitted\n",
      "Optimization terminated abnormally. Falling back to Newton.\n",
      "01:30:36 - cmdstanpy - INFO - Chain [1] start processing\n",
      "01:30:39 - cmdstanpy - INFO - Chain [1] done processing\n",
      "01:30:39 - cmdstanpy - INFO - Chain [1] start processing\n",
      "01:30:40 - cmdstanpy - INFO - Chain [1] done processing\n",
      "01:30:40 - cmdstanpy - INFO - Chain [1] start processing\n",
      "01:30:40 - cmdstanpy - ERROR - Chain [1] error: error during processing Operation not permitted\n",
      "01:30:40 - cmdstanpy - INFO - Chain [1] start processing\n",
      "01:30:40 - cmdstanpy - INFO - Chain [1] start processing\n",
      "01:30:40 - cmdstanpy - INFO - Chain [1] start processing\n",
      "01:30:40 - cmdstanpy - INFO - Chain [1] start processing\n",
      "01:30:40 - cmdstanpy - INFO - Chain [1] start processing\n",
      "Optimization terminated abnormally. Falling back to Newton.\n",
      "01:30:40 - cmdstanpy - INFO - Chain [1] start processing\n",
      "01:30:40 - cmdstanpy - INFO - Chain [1] start processing\n",
      "01:30:40 - cmdstanpy - INFO - Chain [1] start processing\n",
      "01:30:40 - cmdstanpy - INFO - Chain [1] done processing\n",
      "01:30:40 - cmdstanpy - ERROR - Chain [1] error: error during processing Operation not permitted\n",
      "Optimization terminated abnormally. Falling back to Newton.\n",
      "01:30:40 - cmdstanpy - INFO - Chain [1] done processing\n",
      "01:30:40 - cmdstanpy - INFO - Chain [1] done processing\n",
      "01:30:40 - cmdstanpy - INFO - Chain [1] done processing\n",
      "01:30:40 - cmdstanpy - ERROR - Chain [1] error: error during processing Operation not permitted\n",
      "01:30:40 - cmdstanpy - ERROR - Chain [1] error: error during processing Operation not permitted\n",
      "01:30:40 - cmdstanpy - INFO - Chain [1] done processing\n",
      "01:30:40 - cmdstanpy - INFO - Chain [1] done processing\n",
      "01:30:40 - cmdstanpy - INFO - Chain [1] done processing\n",
      "Optimization terminated abnormally. Falling back to Newton.\n",
      "01:30:40 - cmdstanpy - INFO - Chain [1] done processing\n",
      "Optimization terminated abnormally. Falling back to Newton.\n",
      "01:30:40 - cmdstanpy - INFO - Chain [1] done processing\n",
      "01:30:40 - cmdstanpy - ERROR - Chain [1] error: error during processing Operation not permitted\n",
      "01:30:40 - cmdstanpy - INFO - Chain [1] start processing\n",
      "01:30:40 - cmdstanpy - ERROR - Chain [1] error: error during processing Operation not permitted\n",
      "01:30:40 - cmdstanpy - ERROR - Chain [1] error: error during processing Operation not permitted\n",
      "Optimization terminated abnormally. Falling back to Newton.\n",
      "Optimization terminated abnormally. Falling back to Newton.\n",
      "01:30:40 - cmdstanpy - ERROR - Chain [1] error: error during processing Operation not permitted\n",
      "01:30:40 - cmdstanpy - INFO - Chain [1] start processing\n",
      "Optimization terminated abnormally. Falling back to Newton.\n",
      "01:30:41 - cmdstanpy - INFO - Chain [1] start processing\n",
      "Optimization terminated abnormally. Falling back to Newton.\n",
      "01:30:41 - cmdstanpy - INFO - Chain [1] start processing\n",
      "01:30:41 - cmdstanpy - INFO - Chain [1] start processing\n",
      "01:30:41 - cmdstanpy - INFO - Chain [1] start processing\n",
      "01:30:41 - cmdstanpy - INFO - Chain [1] start processing\n",
      "01:30:41 - cmdstanpy - INFO - Chain [1] start processing\n",
      "01:30:44 - cmdstanpy - INFO - Chain [1] done processing\n",
      "01:30:45 - cmdstanpy - INFO - Chain [1] done processing\n",
      "01:30:45 - cmdstanpy - INFO - Chain [1] done processing\n",
      "01:30:45 - cmdstanpy - INFO - Chain [1] done processing\n",
      "01:30:48 - cmdstanpy - INFO - Chain [1] done processing\n",
      "01:30:56 - cmdstanpy - INFO - Chain [1] done processing\n",
      "01:30:57 - cmdstanpy - INFO - Chain [1] done processing\n",
      "01:30:58 - cmdstanpy - INFO - Chain [1] done processing\n",
      "01:30:58 - cmdstanpy - INFO - Chain [1] start processing\n"
     ]
    },
    {
     "name": "stdout",
     "output_type": "stream",
     "text": [
      "[I 2025-08-23 01:30:58,467] Trial 4 finished with value: 345.19038391125815 and parameters: {'changepoint_prior_scale': 0.00040449185512550533, 'seasonality_prior_scale': 0.025889501524158254, 'holidays_prior_scale': 0.8895217044829071}. Best is trial 1 with value: 317.20185088961057.\n"
     ]
    },
    {
     "name": "stderr",
     "output_type": "stream",
     "text": [
      "01:30:58 - cmdstanpy - INFO - Chain [1] done processing\n",
      "01:30:59 - cmdstanpy - INFO - Chain [1] start processing\n",
      "01:30:59 - cmdstanpy - INFO - Chain [1] start processing\n",
      "01:30:59 - cmdstanpy - INFO - Chain [1] done processing\n",
      "01:30:59 - cmdstanpy - INFO - Chain [1] done processing\n",
      "01:30:59 - cmdstanpy - INFO - Chain [1] start processing\n",
      "01:30:59 - cmdstanpy - INFO - Chain [1] start processing\n",
      "01:30:59 - cmdstanpy - INFO - Chain [1] start processing\n",
      "01:30:59 - cmdstanpy - INFO - Chain [1] start processing\n",
      "01:30:59 - cmdstanpy - INFO - Chain [1] start processing\n",
      "01:30:59 - cmdstanpy - INFO - Chain [1] start processing\n",
      "01:30:59 - cmdstanpy - INFO - Chain [1] start processing\n",
      "01:30:59 - cmdstanpy - INFO - Chain [1] start processing\n",
      "01:31:00 - cmdstanpy - INFO - Chain [1] done processing\n",
      "01:31:00 - cmdstanpy - INFO - Chain [1] done processing\n",
      "01:31:00 - cmdstanpy - INFO - Chain [1] done processing\n",
      "01:31:00 - cmdstanpy - INFO - Chain [1] done processing\n",
      "01:31:00 - cmdstanpy - INFO - Chain [1] done processing\n",
      "01:31:00 - cmdstanpy - INFO - Chain [1] done processing\n",
      "01:31:00 - cmdstanpy - INFO - Chain [1] done processing\n",
      "01:31:00 - cmdstanpy - INFO - Chain [1] done processing\n",
      "01:31:00 - cmdstanpy - INFO - Chain [1] start processing\n"
     ]
    },
    {
     "name": "stdout",
     "output_type": "stream",
     "text": [
      "[I 2025-08-23 01:31:00,778] Trial 5 finished with value: 319.3105346652402 and parameters: {'changepoint_prior_scale': 0.24567966287474807, 'seasonality_prior_scale': 0.15504842515074982, 'holidays_prior_scale': 0.10765823932782018}. Best is trial 1 with value: 317.20185088961057.\n"
     ]
    },
    {
     "name": "stderr",
     "output_type": "stream",
     "text": [
      "01:31:01 - cmdstanpy - INFO - Chain [1] done processing\n",
      "01:31:01 - cmdstanpy - INFO - Chain [1] start processing\n",
      "01:31:01 - cmdstanpy - INFO - Chain [1] done processing\n",
      "01:31:01 - cmdstanpy - INFO - Chain [1] start processing\n",
      "01:31:02 - cmdstanpy - INFO - Chain [1] start processing\n",
      "01:31:02 - cmdstanpy - INFO - Chain [1] start processing\n",
      "01:31:02 - cmdstanpy - INFO - Chain [1] start processing\n",
      "01:31:02 - cmdstanpy - INFO - Chain [1] start processing\n",
      "01:31:02 - cmdstanpy - INFO - Chain [1] start processing\n",
      "01:31:02 - cmdstanpy - INFO - Chain [1] done processing\n",
      "01:31:02 - cmdstanpy - INFO - Chain [1] done processing\n",
      "01:31:02 - cmdstanpy - INFO - Chain [1] start processing\n",
      "01:31:02 - cmdstanpy - INFO - Chain [1] done processing\n",
      "01:31:02 - cmdstanpy - INFO - Chain [1] done processing\n",
      "01:31:02 - cmdstanpy - INFO - Chain [1] start processing\n",
      "01:31:02 - cmdstanpy - INFO - Chain [1] done processing\n",
      "01:31:02 - cmdstanpy - INFO - Chain [1] done processing\n",
      "01:31:02 - cmdstanpy - INFO - Chain [1] start processing\n",
      "01:31:02 - cmdstanpy - INFO - Chain [1] done processing\n",
      "01:31:03 - cmdstanpy - INFO - Chain [1] done processing\n",
      "01:31:03 - cmdstanpy - INFO - Chain [1] done processing\n",
      "01:31:03 - cmdstanpy - INFO - Chain [1] start processing\n"
     ]
    },
    {
     "name": "stdout",
     "output_type": "stream",
     "text": [
      "[I 2025-08-23 01:31:03,349] Trial 6 finished with value: 320.5101321476247 and parameters: {'changepoint_prior_scale': 0.07529007578379168, 'seasonality_prior_scale': 0.04508026154730324, 'holidays_prior_scale': 8.520476081513518}. Best is trial 1 with value: 317.20185088961057.\n"
     ]
    },
    {
     "name": "stderr",
     "output_type": "stream",
     "text": [
      "01:31:03 - cmdstanpy - INFO - Chain [1] done processing\n",
      "01:31:04 - cmdstanpy - INFO - Chain [1] start processing\n",
      "01:31:04 - cmdstanpy - INFO - Chain [1] done processing\n",
      "01:31:04 - cmdstanpy - INFO - Chain [1] start processing\n",
      "01:31:04 - cmdstanpy - INFO - Chain [1] start processing\n",
      "01:31:04 - cmdstanpy - INFO - Chain [1] start processing\n",
      "01:31:04 - cmdstanpy - INFO - Chain [1] start processing\n",
      "01:31:04 - cmdstanpy - INFO - Chain [1] start processing\n",
      "01:31:04 - cmdstanpy - INFO - Chain [1] done processing\n",
      "01:31:05 - cmdstanpy - INFO - Chain [1] start processing\n",
      "01:31:05 - cmdstanpy - INFO - Chain [1] start processing\n",
      "01:31:05 - cmdstanpy - INFO - Chain [1] done processing\n",
      "01:31:05 - cmdstanpy - INFO - Chain [1] done processing\n",
      "01:31:05 - cmdstanpy - INFO - Chain [1] start processing\n",
      "01:31:05 - cmdstanpy - INFO - Chain [1] done processing\n",
      "01:31:05 - cmdstanpy - INFO - Chain [1] start processing\n",
      "01:31:05 - cmdstanpy - INFO - Chain [1] done processing\n",
      "01:31:05 - cmdstanpy - INFO - Chain [1] done processing\n",
      "01:31:05 - cmdstanpy - INFO - Chain [1] done processing\n",
      "01:31:05 - cmdstanpy - INFO - Chain [1] done processing\n",
      "01:31:05 - cmdstanpy - INFO - Chain [1] done processing\n",
      "01:31:06 - cmdstanpy - INFO - Chain [1] start processing\n"
     ]
    },
    {
     "name": "stdout",
     "output_type": "stream",
     "text": [
      "[I 2025-08-23 01:31:06,007] Trial 7 finished with value: 320.7425846153819 and parameters: {'changepoint_prior_scale': 0.055557120497919756, 'seasonality_prior_scale': 0.07453701556130722, 'holidays_prior_scale': 0.8939192843076496}. Best is trial 1 with value: 317.20185088961057.\n"
     ]
    },
    {
     "name": "stderr",
     "output_type": "stream",
     "text": [
      "01:31:06 - cmdstanpy - INFO - Chain [1] done processing\n",
      "01:31:06 - cmdstanpy - INFO - Chain [1] start processing\n",
      "01:31:06 - cmdstanpy - INFO - Chain [1] start processing\n",
      "01:31:07 - cmdstanpy - INFO - Chain [1] done processing\n",
      "01:31:07 - cmdstanpy - INFO - Chain [1] done processing\n",
      "01:31:07 - cmdstanpy - ERROR - Chain [1] error: error during processing Operation not permitted\n",
      "Optimization terminated abnormally. Falling back to Newton.\n",
      "01:31:07 - cmdstanpy - INFO - Chain [1] start processing\n",
      "01:31:07 - cmdstanpy - INFO - Chain [1] start processing\n",
      "01:31:07 - cmdstanpy - INFO - Chain [1] start processing\n",
      "01:31:07 - cmdstanpy - INFO - Chain [1] start processing\n",
      "01:31:07 - cmdstanpy - INFO - Chain [1] start processing\n",
      "01:31:07 - cmdstanpy - INFO - Chain [1] start processing\n",
      "01:31:07 - cmdstanpy - INFO - Chain [1] start processing\n",
      "01:31:07 - cmdstanpy - INFO - Chain [1] start processing\n",
      "01:31:07 - cmdstanpy - INFO - Chain [1] start processing\n",
      "01:31:08 - cmdstanpy - INFO - Chain [1] done processing\n",
      "01:31:08 - cmdstanpy - ERROR - Chain [1] error: error during processing Operation not permitted\n",
      "Optimization terminated abnormally. Falling back to Newton.\n",
      "01:31:08 - cmdstanpy - INFO - Chain [1] done processing\n",
      "01:31:08 - cmdstanpy - ERROR - Chain [1] error: error during processing Operation not permitted\n",
      "01:31:08 - cmdstanpy - INFO - Chain [1] done processing\n",
      "01:31:08 - cmdstanpy - INFO - Chain [1] done processing\n",
      "01:31:08 - cmdstanpy - INFO - Chain [1] done processing\n",
      "01:31:08 - cmdstanpy - INFO - Chain [1] done processing\n",
      "Optimization terminated abnormally. Falling back to Newton.\n",
      "01:31:08 - cmdstanpy - ERROR - Chain [1] error: error during processing Operation not permitted\n",
      "01:31:08 - cmdstanpy - ERROR - Chain [1] error: error during processing Operation not permitted\n",
      "01:31:08 - cmdstanpy - INFO - Chain [1] done processing\n",
      "01:31:08 - cmdstanpy - INFO - Chain [1] done processing\n",
      "01:31:08 - cmdstanpy - ERROR - Chain [1] error: error during processing Operation not permitted\n",
      "Optimization terminated abnormally. Falling back to Newton.\n",
      "01:31:08 - cmdstanpy - ERROR - Chain [1] error: error during processing Operation not permitted\n",
      "Optimization terminated abnormally. Falling back to Newton.\n",
      "01:31:08 - cmdstanpy - ERROR - Chain [1] error: error during processing Operation not permitted\n",
      "Optimization terminated abnormally. Falling back to Newton.\n",
      "01:31:08 - cmdstanpy - INFO - Chain [1] start processing\n",
      "Optimization terminated abnormally. Falling back to Newton.\n",
      "Optimization terminated abnormally. Falling back to Newton.\n",
      "01:31:08 - cmdstanpy - INFO - Chain [1] start processing\n",
      "01:31:08 - cmdstanpy - INFO - Chain [1] start processing\n",
      "01:31:09 - cmdstanpy - INFO - Chain [1] start processing\n",
      "01:31:09 - cmdstanpy - INFO - Chain [1] start processing\n",
      "01:31:09 - cmdstanpy - INFO - Chain [1] start processing\n",
      "01:31:09 - cmdstanpy - INFO - Chain [1] start processing\n",
      "01:31:12 - cmdstanpy - INFO - Chain [1] done processing\n",
      "01:31:13 - cmdstanpy - INFO - Chain [1] done processing\n",
      "01:31:14 - cmdstanpy - INFO - Chain [1] done processing\n",
      "01:31:14 - cmdstanpy - INFO - Chain [1] done processing\n",
      "01:31:14 - cmdstanpy - INFO - Chain [1] done processing\n",
      "01:31:17 - cmdstanpy - INFO - Chain [1] done processing\n",
      "01:31:22 - cmdstanpy - INFO - Chain [1] done processing\n",
      "01:31:28 - cmdstanpy - INFO - Chain [1] done processing\n"
     ]
    },
    {
     "name": "stdout",
     "output_type": "stream",
     "text": [
      "[I 2025-08-23 01:31:29,127] Trial 8 finished with value: 335.7270777624071 and parameters: {'changepoint_prior_scale': 0.0005116728736384509, 'seasonality_prior_scale': 25.95832969914869, 'holidays_prior_scale': 1.102103126562013}. Best is trial 1 with value: 317.20185088961057.\n"
     ]
    },
    {
     "name": "stderr",
     "output_type": "stream",
     "text": [
      "01:31:29 - cmdstanpy - INFO - Chain [1] start processing\n",
      "01:31:29 - cmdstanpy - INFO - Chain [1] done processing\n",
      "01:31:31 - cmdstanpy - INFO - Chain [1] start processing\n",
      "01:31:31 - cmdstanpy - INFO - Chain [1] start processing\n",
      "01:31:31 - cmdstanpy - INFO - Chain [1] start processing\n",
      "01:31:31 - cmdstanpy - INFO - Chain [1] start processing\n",
      "01:31:31 - cmdstanpy - INFO - Chain [1] start processing\n",
      "01:31:31 - cmdstanpy - INFO - Chain [1] start processing\n",
      "01:31:31 - cmdstanpy - INFO - Chain [1] start processing\n",
      "01:31:31 - cmdstanpy - INFO - Chain [1] start processing\n",
      "01:31:31 - cmdstanpy - INFO - Chain [1] start processing\n",
      "01:31:31 - cmdstanpy - INFO - Chain [1] start processing\n",
      "01:31:31 - cmdstanpy - INFO - Chain [1] done processing\n",
      "01:31:31 - cmdstanpy - INFO - Chain [1] done processing\n",
      "01:31:31 - cmdstanpy - INFO - Chain [1] done processing\n",
      "01:31:31 - cmdstanpy - INFO - Chain [1] done processing\n",
      "01:31:31 - cmdstanpy - INFO - Chain [1] done processing\n",
      "01:31:31 - cmdstanpy - INFO - Chain [1] done processing\n",
      "01:31:31 - cmdstanpy - INFO - Chain [1] done processing\n",
      "01:31:31 - cmdstanpy - INFO - Chain [1] done processing\n",
      "01:31:31 - cmdstanpy - INFO - Chain [1] done processing\n",
      "01:31:31 - cmdstanpy - INFO - Chain [1] done processing\n"
     ]
    },
    {
     "name": "stdout",
     "output_type": "stream",
     "text": [
      "[I 2025-08-23 01:31:32,442] Trial 9 finished with value: 322.1636734793241 and parameters: {'changepoint_prior_scale': 0.030296394726934295, 'seasonality_prior_scale': 3.5969592965966104, 'holidays_prior_scale': 0.024377129205844696}. Best is trial 1 with value: 317.20185088961057.\n"
     ]
    },
    {
     "name": "stderr",
     "output_type": "stream",
     "text": [
      "01:31:32 - cmdstanpy - INFO - Chain [1] start processing\n",
      "01:31:32 - cmdstanpy - INFO - Chain [1] done processing\n",
      "01:31:33 - cmdstanpy - INFO - Chain [1] start processing\n",
      "01:31:33 - cmdstanpy - INFO - Chain [1] done processing\n",
      "01:31:33 - cmdstanpy - INFO - Chain [1] start processing\n",
      "01:31:33 - cmdstanpy - INFO - Chain [1] start processing\n",
      "01:31:34 - cmdstanpy - INFO - Chain [1] start processing\n",
      "01:31:34 - cmdstanpy - INFO - Chain [1] start processing\n",
      "01:31:34 - cmdstanpy - INFO - Chain [1] done processing\n",
      "01:31:34 - cmdstanpy - INFO - Chain [1] start processing\n",
      "01:31:34 - cmdstanpy - INFO - Chain [1] start processing\n",
      "01:31:34 - cmdstanpy - INFO - Chain [1] start processing\n",
      "01:31:34 - cmdstanpy - INFO - Chain [1] start processing\n",
      "01:31:34 - cmdstanpy - INFO - Chain [1] done processing\n",
      "01:31:34 - cmdstanpy - INFO - Chain [1] done processing\n",
      "01:31:34 - cmdstanpy - INFO - Chain [1] done processing\n",
      "01:31:34 - cmdstanpy - INFO - Chain [1] done processing\n",
      "01:31:34 - cmdstanpy - INFO - Chain [1] done processing\n",
      "01:31:34 - cmdstanpy - INFO - Chain [1] done processing\n",
      "01:31:34 - cmdstanpy - INFO - Chain [1] done processing\n",
      "01:31:34 - cmdstanpy - INFO - Chain [1] start processing\n",
      "01:31:35 - cmdstanpy - INFO - Chain [1] done processing\n",
      "01:31:35 - cmdstanpy - INFO - Chain [1] start processing\n"
     ]
    },
    {
     "name": "stdout",
     "output_type": "stream",
     "text": [
      "[I 2025-08-23 01:31:35,303] Trial 10 finished with value: 317.45256936283073 and parameters: {'changepoint_prior_scale': 0.38728520632483715, 'seasonality_prior_scale': 0.5311180293224348, 'holidays_prior_scale': 28.666139127613352}. Best is trial 1 with value: 317.20185088961057.\n"
     ]
    },
    {
     "name": "stderr",
     "output_type": "stream",
     "text": [
      "01:31:35 - cmdstanpy - INFO - Chain [1] done processing\n",
      "01:31:36 - cmdstanpy - INFO - Chain [1] start processing\n",
      "01:31:36 - cmdstanpy - INFO - Chain [1] done processing\n",
      "01:31:36 - cmdstanpy - INFO - Chain [1] start processing\n",
      "01:31:36 - cmdstanpy - INFO - Chain [1] start processing\n",
      "01:31:36 - cmdstanpy - INFO - Chain [1] start processing\n",
      "01:31:36 - cmdstanpy - INFO - Chain [1] start processing\n",
      "01:31:37 - cmdstanpy - INFO - Chain [1] start processing\n",
      "01:31:37 - cmdstanpy - INFO - Chain [1] start processing\n",
      "01:31:37 - cmdstanpy - INFO - Chain [1] done processing\n",
      "01:31:37 - cmdstanpy - INFO - Chain [1] start processing\n",
      "01:31:37 - cmdstanpy - INFO - Chain [1] start processing\n",
      "01:31:37 - cmdstanpy - INFO - Chain [1] start processing\n",
      "01:31:37 - cmdstanpy - INFO - Chain [1] done processing\n",
      "01:31:37 - cmdstanpy - INFO - Chain [1] done processing\n",
      "01:31:37 - cmdstanpy - INFO - Chain [1] done processing\n",
      "01:31:37 - cmdstanpy - INFO - Chain [1] done processing\n",
      "01:31:37 - cmdstanpy - INFO - Chain [1] done processing\n",
      "01:31:37 - cmdstanpy - INFO - Chain [1] done processing\n",
      "01:31:37 - cmdstanpy - INFO - Chain [1] done processing\n",
      "01:31:37 - cmdstanpy - INFO - Chain [1] done processing\n",
      "01:31:38 - cmdstanpy - INFO - Chain [1] start processing\n"
     ]
    },
    {
     "name": "stdout",
     "output_type": "stream",
     "text": [
      "[I 2025-08-23 01:31:38,115] Trial 11 finished with value: 316.7433056581792 and parameters: {'changepoint_prior_scale': 0.46653569872581674, 'seasonality_prior_scale': 0.6196024103470872, 'holidays_prior_scale': 22.45278898148216}. Best is trial 11 with value: 316.7433056581792.\n"
     ]
    },
    {
     "name": "stderr",
     "output_type": "stream",
     "text": [
      "01:31:38 - cmdstanpy - INFO - Chain [1] done processing\n",
      "01:31:39 - cmdstanpy - INFO - Chain [1] start processing\n",
      "01:31:39 - cmdstanpy - INFO - Chain [1] done processing\n",
      "01:31:39 - cmdstanpy - INFO - Chain [1] start processing\n",
      "01:31:39 - cmdstanpy - INFO - Chain [1] start processing\n",
      "01:31:40 - cmdstanpy - INFO - Chain [1] start processing\n",
      "01:31:40 - cmdstanpy - INFO - Chain [1] done processing\n",
      "01:31:40 - cmdstanpy - INFO - Chain [1] start processing\n",
      "01:31:40 - cmdstanpy - INFO - Chain [1] start processing\n",
      "01:31:40 - cmdstanpy - INFO - Chain [1] start processing\n",
      "01:31:40 - cmdstanpy - INFO - Chain [1] start processing\n",
      "01:31:40 - cmdstanpy - INFO - Chain [1] start processing\n",
      "01:31:40 - cmdstanpy - INFO - Chain [1] start processing\n",
      "01:31:40 - cmdstanpy - INFO - Chain [1] done processing\n",
      "01:31:40 - cmdstanpy - INFO - Chain [1] done processing\n",
      "01:31:40 - cmdstanpy - INFO - Chain [1] done processing\n",
      "01:31:40 - cmdstanpy - INFO - Chain [1] done processing\n",
      "01:31:40 - cmdstanpy - INFO - Chain [1] done processing\n",
      "01:31:40 - cmdstanpy - INFO - Chain [1] done processing\n",
      "01:31:40 - cmdstanpy - INFO - Chain [1] done processing\n",
      "01:31:40 - cmdstanpy - INFO - Chain [1] done processing\n",
      "01:31:41 - cmdstanpy - INFO - Chain [1] start processing\n"
     ]
    },
    {
     "name": "stdout",
     "output_type": "stream",
     "text": [
      "[I 2025-08-23 01:31:41,144] Trial 12 finished with value: 319.55978651738087 and parameters: {'changepoint_prior_scale': 0.00968996175891734, 'seasonality_prior_scale': 0.7116861441389054, 'holidays_prior_scale': 39.36150419451201}. Best is trial 11 with value: 316.7433056581792.\n"
     ]
    },
    {
     "name": "stderr",
     "output_type": "stream",
     "text": [
      "01:31:41 - cmdstanpy - INFO - Chain [1] done processing\n",
      "01:31:42 - cmdstanpy - INFO - Chain [1] start processing\n",
      "01:31:42 - cmdstanpy - INFO - Chain [1] start processing\n",
      "01:31:42 - cmdstanpy - INFO - Chain [1] start processing\n",
      "01:31:42 - cmdstanpy - INFO - Chain [1] start processing\n",
      "01:31:42 - cmdstanpy - INFO - Chain [1] start processing\n",
      "01:31:42 - cmdstanpy - INFO - Chain [1] start processing\n",
      "01:31:42 - cmdstanpy - INFO - Chain [1] done processing\n",
      "01:31:42 - cmdstanpy - INFO - Chain [1] start processing\n",
      "01:31:43 - cmdstanpy - INFO - Chain [1] done processing\n",
      "01:31:43 - cmdstanpy - INFO - Chain [1] done processing\n",
      "01:31:43 - cmdstanpy - INFO - Chain [1] start processing\n",
      "01:31:43 - cmdstanpy - INFO - Chain [1] start processing\n",
      "01:31:43 - cmdstanpy - INFO - Chain [1] done processing\n",
      "01:31:43 - cmdstanpy - INFO - Chain [1] start processing\n",
      "01:31:43 - cmdstanpy - INFO - Chain [1] done processing\n",
      "01:31:43 - cmdstanpy - INFO - Chain [1] done processing\n",
      "01:31:43 - cmdstanpy - INFO - Chain [1] done processing\n",
      "01:31:43 - cmdstanpy - INFO - Chain [1] done processing\n",
      "01:31:43 - cmdstanpy - INFO - Chain [1] done processing\n",
      "01:31:43 - cmdstanpy - INFO - Chain [1] done processing\n",
      "01:31:44 - cmdstanpy - INFO - Chain [1] start processing\n"
     ]
    },
    {
     "name": "stdout",
     "output_type": "stream",
     "text": [
      "[I 2025-08-23 01:31:43,989] Trial 13 finished with value: 317.26899068260167 and parameters: {'changepoint_prior_scale': 0.40859817339984683, 'seasonality_prior_scale': 0.6966188538875505, 'holidays_prior_scale': 4.982853006008318}. Best is trial 11 with value: 316.7433056581792.\n"
     ]
    },
    {
     "name": "stderr",
     "output_type": "stream",
     "text": [
      "01:31:44 - cmdstanpy - INFO - Chain [1] done processing\n",
      "01:31:44 - cmdstanpy - INFO - Chain [1] start processing\n",
      "01:31:44 - cmdstanpy - INFO - Chain [1] done processing\n",
      "01:31:45 - cmdstanpy - INFO - Chain [1] start processing\n",
      "01:31:45 - cmdstanpy - INFO - Chain [1] start processing\n",
      "01:31:45 - cmdstanpy - INFO - Chain [1] start processing\n",
      "01:31:45 - cmdstanpy - INFO - Chain [1] start processing\n",
      "01:31:45 - cmdstanpy - INFO - Chain [1] start processing\n",
      "01:31:45 - cmdstanpy - INFO - Chain [1] start processing\n",
      "01:31:45 - cmdstanpy - INFO - Chain [1] start processing\n",
      "01:31:45 - cmdstanpy - INFO - Chain [1] start processing\n",
      "01:31:45 - cmdstanpy - INFO - Chain [1] start processing\n",
      "01:31:45 - cmdstanpy - INFO - Chain [1] done processing\n",
      "01:31:45 - cmdstanpy - INFO - Chain [1] done processing\n",
      "01:31:46 - cmdstanpy - INFO - Chain [1] done processing\n",
      "01:31:46 - cmdstanpy - INFO - Chain [1] done processing\n",
      "01:31:46 - cmdstanpy - INFO - Chain [1] done processing\n",
      "01:31:46 - cmdstanpy - INFO - Chain [1] done processing\n",
      "01:31:46 - cmdstanpy - INFO - Chain [1] done processing\n",
      "01:31:46 - cmdstanpy - INFO - Chain [1] done processing\n",
      "01:31:46 - cmdstanpy - INFO - Chain [1] done processing\n",
      "01:31:46 - cmdstanpy - INFO - Chain [1] start processing\n"
     ]
    },
    {
     "name": "stdout",
     "output_type": "stream",
     "text": [
      "[I 2025-08-23 01:31:46,663] Trial 14 finished with value: 314.37359524179465 and parameters: {'changepoint_prior_scale': 0.1424829948771883, 'seasonality_prior_scale': 0.010188902512049156, 'holidays_prior_scale': 0.16180730069132393}. Best is trial 14 with value: 314.37359524179465.\n"
     ]
    },
    {
     "name": "stderr",
     "output_type": "stream",
     "text": [
      "01:31:46 - cmdstanpy - INFO - Chain [1] done processing\n",
      "01:31:47 - cmdstanpy - INFO - Chain [1] start processing\n",
      "01:31:47 - cmdstanpy - INFO - Chain [1] done processing\n",
      "01:31:47 - cmdstanpy - INFO - Chain [1] start processing\n",
      "01:31:48 - cmdstanpy - INFO - Chain [1] start processing\n",
      "01:31:48 - cmdstanpy - INFO - Chain [1] start processing\n",
      "01:31:48 - cmdstanpy - INFO - Chain [1] done processing\n",
      "01:31:48 - cmdstanpy - INFO - Chain [1] start processing\n",
      "01:31:48 - cmdstanpy - INFO - Chain [1] start processing\n",
      "01:31:48 - cmdstanpy - INFO - Chain [1] start processing\n",
      "01:31:48 - cmdstanpy - INFO - Chain [1] done processing\n",
      "01:31:48 - cmdstanpy - INFO - Chain [1] start processing\n",
      "01:31:48 - cmdstanpy - INFO - Chain [1] done processing\n",
      "01:31:48 - cmdstanpy - INFO - Chain [1] start processing\n",
      "01:31:48 - cmdstanpy - INFO - Chain [1] done processing\n",
      "01:31:48 - cmdstanpy - INFO - Chain [1] done processing\n",
      "01:31:48 - cmdstanpy - INFO - Chain [1] done processing\n",
      "01:31:48 - cmdstanpy - INFO - Chain [1] start processing\n",
      "01:31:49 - cmdstanpy - INFO - Chain [1] done processing\n",
      "01:31:49 - cmdstanpy - INFO - Chain [1] done processing\n",
      "01:31:49 - cmdstanpy - INFO - Chain [1] done processing\n",
      "01:31:49 - cmdstanpy - INFO - Chain [1] start processing\n"
     ]
    },
    {
     "name": "stdout",
     "output_type": "stream",
     "text": [
      "[I 2025-08-23 01:31:49,540] Trial 15 finished with value: 314.23407109390587 and parameters: {'changepoint_prior_scale': 0.13397417207403042, 'seasonality_prior_scale': 0.010054979829682531, 'holidays_prior_scale': 0.16881837902821256}. Best is trial 15 with value: 314.23407109390587.\n"
     ]
    },
    {
     "name": "stderr",
     "output_type": "stream",
     "text": [
      "01:31:49 - cmdstanpy - INFO - Chain [1] done processing\n",
      "01:31:50 - cmdstanpy - INFO - Chain [1] start processing\n",
      "01:31:50 - cmdstanpy - INFO - Chain [1] start processing\n",
      "01:31:50 - cmdstanpy - INFO - Chain [1] done processing\n",
      "01:31:50 - cmdstanpy - INFO - Chain [1] done processing\n",
      "01:31:51 - cmdstanpy - INFO - Chain [1] start processing\n",
      "01:31:51 - cmdstanpy - INFO - Chain [1] start processing\n",
      "01:31:51 - cmdstanpy - INFO - Chain [1] done processing\n",
      "01:31:51 - cmdstanpy - INFO - Chain [1] start processing\n",
      "01:31:51 - cmdstanpy - INFO - Chain [1] start processing\n",
      "01:31:51 - cmdstanpy - INFO - Chain [1] start processing\n",
      "01:31:51 - cmdstanpy - INFO - Chain [1] start processing\n",
      "01:31:51 - cmdstanpy - INFO - Chain [1] start processing\n",
      "01:31:51 - cmdstanpy - INFO - Chain [1] start processing\n",
      "01:31:51 - cmdstanpy - INFO - Chain [1] done processing\n",
      "01:31:51 - cmdstanpy - INFO - Chain [1] done processing\n",
      "01:31:51 - cmdstanpy - INFO - Chain [1] done processing\n",
      "01:31:51 - cmdstanpy - INFO - Chain [1] done processing\n",
      "01:31:51 - cmdstanpy - INFO - Chain [1] done processing\n",
      "01:31:51 - cmdstanpy - INFO - Chain [1] done processing\n",
      "01:31:51 - cmdstanpy - INFO - Chain [1] done processing\n",
      "01:31:52 - cmdstanpy - INFO - Chain [1] start processing\n"
     ]
    },
    {
     "name": "stdout",
     "output_type": "stream",
     "text": [
      "[I 2025-08-23 01:31:52,223] Trial 16 finished with value: 316.1764423734822 and parameters: {'changepoint_prior_scale': 0.009835214676297676, 'seasonality_prior_scale': 0.012692903039841528, 'holidays_prior_scale': 0.1629841339480176}. Best is trial 15 with value: 314.23407109390587.\n"
     ]
    },
    {
     "name": "stderr",
     "output_type": "stream",
     "text": [
      "01:31:52 - cmdstanpy - INFO - Chain [1] done processing\n",
      "01:31:53 - cmdstanpy - INFO - Chain [1] start processing\n",
      "01:31:53 - cmdstanpy - INFO - Chain [1] done processing\n",
      "01:31:53 - cmdstanpy - INFO - Chain [1] start processing\n",
      "01:31:53 - cmdstanpy - INFO - Chain [1] start processing\n",
      "01:31:53 - cmdstanpy - INFO - Chain [1] done processing\n",
      "01:31:53 - cmdstanpy - INFO - Chain [1] start processing\n",
      "01:31:54 - cmdstanpy - INFO - Chain [1] done processing\n",
      "01:31:54 - cmdstanpy - INFO - Chain [1] start processing\n",
      "01:31:54 - cmdstanpy - INFO - Chain [1] start processing\n",
      "01:31:54 - cmdstanpy - INFO - Chain [1] start processing\n",
      "01:31:54 - cmdstanpy - INFO - Chain [1] start processing\n",
      "01:31:54 - cmdstanpy - INFO - Chain [1] start processing\n",
      "01:31:54 - cmdstanpy - INFO - Chain [1] start processing\n",
      "01:31:54 - cmdstanpy - INFO - Chain [1] done processing\n",
      "01:31:54 - cmdstanpy - INFO - Chain [1] done processing\n",
      "01:31:54 - cmdstanpy - INFO - Chain [1] done processing\n",
      "01:31:54 - cmdstanpy - INFO - Chain [1] done processing\n",
      "01:31:54 - cmdstanpy - INFO - Chain [1] done processing\n",
      "01:31:54 - cmdstanpy - INFO - Chain [1] done processing\n",
      "01:31:54 - cmdstanpy - INFO - Chain [1] done processing\n"
     ]
    },
    {
     "name": "stdout",
     "output_type": "stream",
     "text": [
      "[I 2025-08-23 01:31:54,951] Trial 17 finished with value: 313.47159263370384 and parameters: {'changepoint_prior_scale': 0.09329397444775944, 'seasonality_prior_scale': 0.010117398520421681, 'holidays_prior_scale': 0.1823788855897414}. Best is trial 17 with value: 313.47159263370384.\n"
     ]
    },
    {
     "name": "stderr",
     "output_type": "stream",
     "text": [
      "01:31:55 - cmdstanpy - INFO - Chain [1] start processing\n",
      "01:31:55 - cmdstanpy - INFO - Chain [1] done processing\n",
      "01:31:56 - cmdstanpy - INFO - Chain [1] start processing\n",
      "01:31:56 - cmdstanpy - INFO - Chain [1] done processing\n",
      "01:31:56 - cmdstanpy - INFO - Chain [1] start processing\n",
      "01:31:56 - cmdstanpy - INFO - Chain [1] start processing\n",
      "01:31:57 - cmdstanpy - INFO - Chain [1] start processing\n",
      "01:31:57 - cmdstanpy - INFO - Chain [1] start processing\n",
      "01:31:57 - cmdstanpy - INFO - Chain [1] start processing\n",
      "01:31:57 - cmdstanpy - INFO - Chain [1] start processing\n",
      "01:31:57 - cmdstanpy - INFO - Chain [1] start processing\n",
      "01:31:57 - cmdstanpy - INFO - Chain [1] done processing\n",
      "01:31:57 - cmdstanpy - INFO - Chain [1] done processing\n",
      "01:31:57 - cmdstanpy - INFO - Chain [1] start processing\n",
      "01:31:57 - cmdstanpy - INFO - Chain [1] start processing\n",
      "01:31:57 - cmdstanpy - INFO - Chain [1] done processing\n",
      "01:31:57 - cmdstanpy - INFO - Chain [1] done processing\n",
      "01:31:57 - cmdstanpy - INFO - Chain [1] done processing\n",
      "01:31:57 - cmdstanpy - INFO - Chain [1] done processing\n",
      "01:31:57 - cmdstanpy - INFO - Chain [1] done processing\n",
      "01:31:57 - cmdstanpy - INFO - Chain [1] done processing\n",
      "01:31:57 - cmdstanpy - INFO - Chain [1] done processing\n",
      "01:31:58 - cmdstanpy - INFO - Chain [1] start processing\n"
     ]
    },
    {
     "name": "stdout",
     "output_type": "stream",
     "text": [
      "[I 2025-08-23 01:31:58,457] Trial 18 finished with value: 319.9938443991532 and parameters: {'changepoint_prior_scale': 0.021388573069034127, 'seasonality_prior_scale': 0.15678487004475683, 'holidays_prior_scale': 0.06870091858785174}. Best is trial 17 with value: 313.47159263370384.\n"
     ]
    },
    {
     "name": "stderr",
     "output_type": "stream",
     "text": [
      "01:31:58 - cmdstanpy - INFO - Chain [1] done processing\n",
      "01:31:59 - cmdstanpy - INFO - Chain [1] start processing\n",
      "01:31:59 - cmdstanpy - INFO - Chain [1] start processing\n",
      "01:31:59 - cmdstanpy - INFO - Chain [1] done processing\n",
      "01:31:59 - cmdstanpy - INFO - Chain [1] done processing\n",
      "01:32:00 - cmdstanpy - INFO - Chain [1] start processing\n",
      "01:32:00 - cmdstanpy - INFO - Chain [1] start processing\n",
      "01:32:00 - cmdstanpy - INFO - Chain [1] start processing\n",
      "01:32:00 - cmdstanpy - INFO - Chain [1] start processing\n",
      "01:32:00 - cmdstanpy - INFO - Chain [1] start processing\n",
      "01:32:00 - cmdstanpy - INFO - Chain [1] start processing\n",
      "01:32:00 - cmdstanpy - INFO - Chain [1] start processing\n",
      "01:32:00 - cmdstanpy - INFO - Chain [1] done processing\n",
      "01:32:00 - cmdstanpy - INFO - Chain [1] start processing\n",
      "01:32:00 - cmdstanpy - INFO - Chain [1] done processing\n",
      "01:32:00 - cmdstanpy - INFO - Chain [1] done processing\n",
      "01:32:00 - cmdstanpy - INFO - Chain [1] done processing\n",
      "01:32:01 - cmdstanpy - INFO - Chain [1] done processing\n",
      "01:32:01 - cmdstanpy - INFO - Chain [1] done processing\n",
      "01:32:01 - cmdstanpy - INFO - Chain [1] done processing\n",
      "01:32:01 - cmdstanpy - INFO - Chain [1] done processing\n"
     ]
    },
    {
     "name": "stdout",
     "output_type": "stream",
     "text": [
      "[I 2025-08-23 01:32:01,569] Trial 19 finished with value: 323.37168163009306 and parameters: {'changepoint_prior_scale': 0.0016568985837555775, 'seasonality_prior_scale': 0.025395067739639593, 'holidays_prior_scale': 0.3469648900915441}. Best is trial 17 with value: 313.47159263370384.\n"
     ]
    },
    {
     "name": "stderr",
     "output_type": "stream",
     "text": [
      "01:32:01 - cmdstanpy - INFO - Chain [1] start processing\n",
      "01:32:01 - cmdstanpy - INFO - Chain [1] done processing\n",
      "01:32:02 - cmdstanpy - INFO - Chain [1] start processing\n",
      "01:32:02 - cmdstanpy - INFO - Chain [1] done processing\n",
      "01:32:03 - cmdstanpy - INFO - Chain [1] start processing\n",
      "01:32:03 - cmdstanpy - INFO - Chain [1] start processing\n",
      "01:32:03 - cmdstanpy - INFO - Chain [1] start processing\n",
      "01:32:03 - cmdstanpy - INFO - Chain [1] start processing\n",
      "01:32:03 - cmdstanpy - INFO - Chain [1] start processing\n",
      "01:32:03 - cmdstanpy - INFO - Chain [1] start processing\n",
      "01:32:03 - cmdstanpy - INFO - Chain [1] start processing\n",
      "01:32:03 - cmdstanpy - INFO - Chain [1] start processing\n",
      "01:32:03 - cmdstanpy - INFO - Chain [1] start processing\n",
      "01:32:03 - cmdstanpy - INFO - Chain [1] done processing\n",
      "01:32:03 - cmdstanpy - INFO - Chain [1] done processing\n",
      "01:32:03 - cmdstanpy - INFO - Chain [1] done processing\n",
      "01:32:03 - cmdstanpy - INFO - Chain [1] done processing\n",
      "01:32:03 - cmdstanpy - INFO - Chain [1] done processing\n",
      "01:32:03 - cmdstanpy - INFO - Chain [1] done processing\n",
      "01:32:03 - cmdstanpy - INFO - Chain [1] done processing\n",
      "01:32:04 - cmdstanpy - INFO - Chain [1] done processing\n",
      "01:32:04 - cmdstanpy - INFO - Chain [1] done processing\n"
     ]
    },
    {
     "name": "stdout",
     "output_type": "stream",
     "text": [
      "[I 2025-08-23 01:32:04,694] Trial 20 finished with value: 322.90132333868286 and parameters: {'changepoint_prior_scale': 0.09943483808720596, 'seasonality_prior_scale': 0.12470367204407565, 'holidays_prior_scale': 0.04632974072215858}. Best is trial 17 with value: 313.47159263370384.\n"
     ]
    },
    {
     "name": "stderr",
     "output_type": "stream",
     "text": [
      "01:32:05 - cmdstanpy - INFO - Chain [1] start processing\n",
      "01:32:05 - cmdstanpy - INFO - Chain [1] done processing\n",
      "01:32:05 - cmdstanpy - INFO - Chain [1] start processing\n",
      "01:32:05 - cmdstanpy - INFO - Chain [1] done processing\n",
      "01:32:06 - cmdstanpy - INFO - Chain [1] start processing\n",
      "01:32:06 - cmdstanpy - INFO - Chain [1] start processing\n",
      "01:32:06 - cmdstanpy - INFO - Chain [1] start processing\n",
      "01:32:06 - cmdstanpy - INFO - Chain [1] start processing\n",
      "01:32:06 - cmdstanpy - INFO - Chain [1] start processing\n",
      "01:32:06 - cmdstanpy - INFO - Chain [1] start processing\n",
      "01:32:06 - cmdstanpy - INFO - Chain [1] done processing\n",
      "01:32:06 - cmdstanpy - INFO - Chain [1] start processing\n",
      "01:32:06 - cmdstanpy - INFO - Chain [1] start processing\n",
      "01:32:06 - cmdstanpy - INFO - Chain [1] done processing\n",
      "01:32:06 - cmdstanpy - INFO - Chain [1] done processing\n",
      "01:32:06 - cmdstanpy - INFO - Chain [1] done processing\n",
      "01:32:06 - cmdstanpy - INFO - Chain [1] done processing\n",
      "01:32:06 - cmdstanpy - INFO - Chain [1] start processing\n",
      "01:32:07 - cmdstanpy - INFO - Chain [1] done processing\n",
      "01:32:07 - cmdstanpy - INFO - Chain [1] done processing\n",
      "01:32:07 - cmdstanpy - INFO - Chain [1] done processing\n",
      "01:32:07 - cmdstanpy - INFO - Chain [1] done processing\n"
     ]
    },
    {
     "name": "stdout",
     "output_type": "stream",
     "text": [
      "[I 2025-08-23 01:32:07,620] Trial 21 finished with value: 314.006138907674 and parameters: {'changepoint_prior_scale': 0.13671095312659756, 'seasonality_prior_scale': 0.01029464307034842, 'holidays_prior_scale': 0.3303699875050422}. Best is trial 17 with value: 313.47159263370384.\n"
     ]
    },
    {
     "name": "stderr",
     "output_type": "stream",
     "text": [
      "01:32:07 - cmdstanpy - INFO - Chain [1] start processing\n",
      "01:32:07 - cmdstanpy - INFO - Chain [1] done processing\n",
      "01:32:08 - cmdstanpy - INFO - Chain [1] start processing\n",
      "01:32:08 - cmdstanpy - INFO - Chain [1] done processing\n",
      "01:32:08 - cmdstanpy - INFO - Chain [1] start processing\n",
      "01:32:09 - cmdstanpy - INFO - Chain [1] start processing\n",
      "01:32:09 - cmdstanpy - INFO - Chain [1] start processing\n",
      "01:32:09 - cmdstanpy - INFO - Chain [1] done processing\n",
      "01:32:09 - cmdstanpy - INFO - Chain [1] start processing\n",
      "01:32:09 - cmdstanpy - INFO - Chain [1] done processing\n",
      "01:32:09 - cmdstanpy - INFO - Chain [1] start processing\n",
      "01:32:09 - cmdstanpy - INFO - Chain [1] start processing\n",
      "01:32:09 - cmdstanpy - INFO - Chain [1] start processing\n",
      "01:32:09 - cmdstanpy - INFO - Chain [1] start processing\n",
      "01:32:09 - cmdstanpy - INFO - Chain [1] done processing\n",
      "01:32:09 - cmdstanpy - INFO - Chain [1] done processing\n",
      "01:32:09 - cmdstanpy - INFO - Chain [1] start processing\n",
      "01:32:09 - cmdstanpy - INFO - Chain [1] done processing\n",
      "01:32:09 - cmdstanpy - INFO - Chain [1] done processing\n",
      "01:32:10 - cmdstanpy - INFO - Chain [1] done processing\n",
      "01:32:10 - cmdstanpy - INFO - Chain [1] done processing\n",
      "01:32:10 - cmdstanpy - INFO - Chain [1] done processing\n",
      "01:32:10 - cmdstanpy - INFO - Chain [1] start processing\n"
     ]
    },
    {
     "name": "stdout",
     "output_type": "stream",
     "text": [
      "[I 2025-08-23 01:32:10,541] Trial 22 finished with value: 318.8268935085798 and parameters: {'changepoint_prior_scale': 0.031035673021979196, 'seasonality_prior_scale': 0.024219245349332865, 'holidays_prior_scale': 0.41483970949473153}. Best is trial 17 with value: 313.47159263370384.\n"
     ]
    },
    {
     "name": "stderr",
     "output_type": "stream",
     "text": [
      "01:32:10 - cmdstanpy - INFO - Chain [1] done processing\n",
      "01:32:11 - cmdstanpy - INFO - Chain [1] start processing\n",
      "01:32:11 - cmdstanpy - INFO - Chain [1] start processing\n",
      "01:32:12 - cmdstanpy - INFO - Chain [1] done processing\n",
      "01:32:12 - cmdstanpy - INFO - Chain [1] done processing\n",
      "01:32:12 - cmdstanpy - INFO - Chain [1] start processing\n",
      "01:32:12 - cmdstanpy - INFO - Chain [1] start processing\n",
      "01:32:12 - cmdstanpy - INFO - Chain [1] start processing\n",
      "01:32:12 - cmdstanpy - INFO - Chain [1] start processing\n",
      "01:32:12 - cmdstanpy - INFO - Chain [1] start processing\n",
      "01:32:12 - cmdstanpy - INFO - Chain [1] start processing\n",
      "01:32:12 - cmdstanpy - INFO - Chain [1] start processing\n",
      "01:32:12 - cmdstanpy - INFO - Chain [1] start processing\n",
      "01:32:12 - cmdstanpy - INFO - Chain [1] done processing\n",
      "01:32:12 - cmdstanpy - INFO - Chain [1] done processing\n",
      "01:32:12 - cmdstanpy - INFO - Chain [1] done processing\n",
      "01:32:12 - cmdstanpy - INFO - Chain [1] done processing\n",
      "01:32:12 - cmdstanpy - INFO - Chain [1] done processing\n",
      "01:32:12 - cmdstanpy - INFO - Chain [1] done processing\n",
      "01:32:12 - cmdstanpy - INFO - Chain [1] done processing\n",
      "01:32:13 - cmdstanpy - INFO - Chain [1] done processing\n",
      "01:32:13 - cmdstanpy - INFO - Chain [1] start processing\n"
     ]
    },
    {
     "name": "stdout",
     "output_type": "stream",
     "text": [
      "[I 2025-08-23 01:32:13,437] Trial 23 finished with value: 314.57116760764404 and parameters: {'changepoint_prior_scale': 0.16614612450090396, 'seasonality_prior_scale': 0.010631207734287463, 'holidays_prior_scale': 0.3023085351546426}. Best is trial 17 with value: 313.47159263370384.\n"
     ]
    },
    {
     "name": "stderr",
     "output_type": "stream",
     "text": [
      "01:32:13 - cmdstanpy - INFO - Chain [1] done processing\n",
      "01:32:14 - cmdstanpy - INFO - Chain [1] start processing\n",
      "01:32:14 - cmdstanpy - INFO - Chain [1] done processing\n",
      "01:32:15 - cmdstanpy - INFO - Chain [1] start processing\n",
      "01:32:15 - cmdstanpy - INFO - Chain [1] start processing\n",
      "01:32:15 - cmdstanpy - INFO - Chain [1] start processing\n",
      "01:32:15 - cmdstanpy - INFO - Chain [1] start processing\n",
      "01:32:15 - cmdstanpy - INFO - Chain [1] start processing\n",
      "01:32:15 - cmdstanpy - INFO - Chain [1] done processing\n",
      "01:32:15 - cmdstanpy - INFO - Chain [1] done processing\n",
      "01:32:15 - cmdstanpy - INFO - Chain [1] start processing\n",
      "01:32:15 - cmdstanpy - INFO - Chain [1] done processing\n",
      "01:32:15 - cmdstanpy - INFO - Chain [1] start processing\n",
      "01:32:15 - cmdstanpy - INFO - Chain [1] done processing\n",
      "01:32:15 - cmdstanpy - INFO - Chain [1] start processing\n",
      "01:32:15 - cmdstanpy - INFO - Chain [1] done processing\n",
      "01:32:15 - cmdstanpy - INFO - Chain [1] done processing\n",
      "01:32:15 - cmdstanpy - INFO - Chain [1] done processing\n",
      "01:32:15 - cmdstanpy - INFO - Chain [1] start processing\n",
      "01:32:16 - cmdstanpy - INFO - Chain [1] done processing\n",
      "01:32:16 - cmdstanpy - INFO - Chain [1] done processing\n"
     ]
    },
    {
     "name": "stdout",
     "output_type": "stream",
     "text": [
      "[I 2025-08-23 01:32:16,491] Trial 24 finished with value: 320.02141205825546 and parameters: {'changepoint_prior_scale': 0.04070710396689144, 'seasonality_prior_scale': 0.051725303915995884, 'holidays_prior_scale': 1.5934905785050475}. Best is trial 17 with value: 313.47159263370384.\n"
     ]
    },
    {
     "name": "stderr",
     "output_type": "stream",
     "text": [
      "01:32:16 - cmdstanpy - INFO - Chain [1] start processing\n",
      "01:32:16 - cmdstanpy - INFO - Chain [1] done processing\n",
      "01:32:17 - cmdstanpy - INFO - Chain [1] start processing\n",
      "01:32:18 - cmdstanpy - INFO - Chain [1] start processing\n",
      "01:32:18 - cmdstanpy - INFO - Chain [1] start processing\n",
      "01:32:18 - cmdstanpy - INFO - Chain [1] start processing\n",
      "01:32:18 - cmdstanpy - INFO - Chain [1] done processing\n",
      "01:32:18 - cmdstanpy - INFO - Chain [1] start processing\n",
      "01:32:18 - cmdstanpy - INFO - Chain [1] start processing\n",
      "01:32:18 - cmdstanpy - INFO - Chain [1] start processing\n",
      "01:32:18 - cmdstanpy - INFO - Chain [1] start processing\n",
      "01:32:18 - cmdstanpy - INFO - Chain [1] start processing\n",
      "01:32:18 - cmdstanpy - INFO - Chain [1] start processing\n",
      "01:32:18 - cmdstanpy - INFO - Chain [1] done processing\n",
      "01:32:18 - cmdstanpy - INFO - Chain [1] done processing\n",
      "01:32:18 - cmdstanpy - INFO - Chain [1] done processing\n",
      "01:32:18 - cmdstanpy - INFO - Chain [1] done processing\n",
      "01:32:18 - cmdstanpy - INFO - Chain [1] done processing\n",
      "01:32:18 - cmdstanpy - INFO - Chain [1] done processing\n",
      "01:32:18 - cmdstanpy - INFO - Chain [1] done processing\n",
      "01:32:18 - cmdstanpy - INFO - Chain [1] done processing\n",
      "01:32:18 - cmdstanpy - INFO - Chain [1] done processing\n",
      "01:32:19 - cmdstanpy - INFO - Chain [1] start processing\n"
     ]
    },
    {
     "name": "stdout",
     "output_type": "stream",
     "text": [
      "[I 2025-08-23 01:32:19,221] Trial 25 finished with value: 318.79894634043524 and parameters: {'changepoint_prior_scale': 0.17603032791877268, 'seasonality_prior_scale': 0.01942766639969129, 'holidays_prior_scale': 0.21417166216588773}. Best is trial 17 with value: 313.47159263370384.\n"
     ]
    },
    {
     "name": "stderr",
     "output_type": "stream",
     "text": [
      "01:32:19 - cmdstanpy - INFO - Chain [1] done processing\n",
      "01:32:20 - cmdstanpy - INFO - Chain [1] start processing\n",
      "01:32:20 - cmdstanpy - INFO - Chain [1] start processing\n",
      "01:32:20 - cmdstanpy - INFO - Chain [1] start processing\n",
      "01:32:20 - cmdstanpy - INFO - Chain [1] done processing\n",
      "01:32:21 - cmdstanpy - INFO - Chain [1] done processing\n",
      "01:32:21 - cmdstanpy - INFO - Chain [1] done processing\n",
      "01:32:21 - cmdstanpy - INFO - Chain [1] start processing\n",
      "01:32:21 - cmdstanpy - INFO - Chain [1] start processing\n",
      "01:32:21 - cmdstanpy - INFO - Chain [1] start processing\n",
      "01:32:21 - cmdstanpy - INFO - Chain [1] start processing\n",
      "01:32:21 - cmdstanpy - INFO - Chain [1] start processing\n",
      "01:32:21 - cmdstanpy - INFO - Chain [1] start processing\n",
      "01:32:21 - cmdstanpy - INFO - Chain [1] done processing\n",
      "01:32:21 - cmdstanpy - INFO - Chain [1] start processing\n",
      "01:32:21 - cmdstanpy - INFO - Chain [1] done processing\n",
      "01:32:21 - cmdstanpy - INFO - Chain [1] done processing\n",
      "01:32:21 - cmdstanpy - INFO - Chain [1] done processing\n",
      "01:32:21 - cmdstanpy - INFO - Chain [1] done processing\n",
      "01:32:21 - cmdstanpy - INFO - Chain [1] done processing\n",
      "01:32:21 - cmdstanpy - INFO - Chain [1] done processing\n",
      "01:32:22 - cmdstanpy - INFO - Chain [1] start processing\n"
     ]
    },
    {
     "name": "stdout",
     "output_type": "stream",
     "text": [
      "[I 2025-08-23 01:32:22,115] Trial 26 finished with value: 320.33107743171973 and parameters: {'changepoint_prior_scale': 0.016757737492713903, 'seasonality_prior_scale': 0.04438973536405476, 'holidays_prior_scale': 0.05136690150335995}. Best is trial 17 with value: 313.47159263370384.\n"
     ]
    },
    {
     "name": "stderr",
     "output_type": "stream",
     "text": [
      "01:32:22 - cmdstanpy - INFO - Chain [1] done processing\n",
      "01:32:23 - cmdstanpy - INFO - Chain [1] start processing\n",
      "01:32:23 - cmdstanpy - INFO - Chain [1] start processing\n",
      "01:32:23 - cmdstanpy - INFO - Chain [1] done processing\n",
      "01:32:23 - cmdstanpy - INFO - Chain [1] done processing\n",
      "01:32:23 - cmdstanpy - INFO - Chain [1] start processing\n",
      "01:32:23 - cmdstanpy - INFO - Chain [1] start processing\n",
      "01:32:23 - cmdstanpy - INFO - Chain [1] done processing\n",
      "01:32:23 - cmdstanpy - INFO - Chain [1] start processing\n",
      "01:32:23 - cmdstanpy - INFO - Chain [1] start processing\n",
      "01:32:23 - cmdstanpy - INFO - Chain [1] start processing\n",
      "01:32:24 - cmdstanpy - INFO - Chain [1] start processing\n",
      "01:32:24 - cmdstanpy - INFO - Chain [1] done processing\n",
      "01:32:24 - cmdstanpy - INFO - Chain [1] start processing\n",
      "01:32:24 - cmdstanpy - INFO - Chain [1] start processing\n",
      "01:32:24 - cmdstanpy - INFO - Chain [1] done processing\n",
      "01:32:24 - cmdstanpy - INFO - Chain [1] done processing\n",
      "01:32:24 - cmdstanpy - INFO - Chain [1] done processing\n",
      "01:32:24 - cmdstanpy - INFO - Chain [1] done processing\n",
      "01:32:24 - cmdstanpy - INFO - Chain [1] done processing\n",
      "01:32:24 - cmdstanpy - INFO - Chain [1] done processing\n",
      "01:32:25 - cmdstanpy - INFO - Chain [1] start processing\n"
     ]
    },
    {
     "name": "stdout",
     "output_type": "stream",
     "text": [
      "[I 2025-08-23 01:32:24,836] Trial 27 finished with value: 318.37021410097975 and parameters: {'changepoint_prior_scale': 0.08649078620772102, 'seasonality_prior_scale': 0.016762598609202015, 'holidays_prior_scale': 0.5515199494280467}. Best is trial 17 with value: 313.47159263370384.\n"
     ]
    },
    {
     "name": "stderr",
     "output_type": "stream",
     "text": [
      "01:32:25 - cmdstanpy - INFO - Chain [1] done processing\n",
      "01:32:26 - cmdstanpy - INFO - Chain [1] start processing\n",
      "01:32:26 - cmdstanpy - INFO - Chain [1] start processing\n",
      "01:32:26 - cmdstanpy - INFO - Chain [1] start processing\n",
      "01:32:26 - cmdstanpy - INFO - Chain [1] start processing\n",
      "01:32:26 - cmdstanpy - INFO - Chain [1] done processing\n",
      "01:32:26 - cmdstanpy - INFO - Chain [1] done processing\n",
      "01:32:26 - cmdstanpy - INFO - Chain [1] done processing\n",
      "01:32:26 - cmdstanpy - INFO - Chain [1] done processing\n",
      "01:32:26 - cmdstanpy - INFO - Chain [1] start processing\n",
      "01:32:26 - cmdstanpy - INFO - Chain [1] start processing\n",
      "01:32:26 - cmdstanpy - INFO - Chain [1] start processing\n",
      "01:32:26 - cmdstanpy - INFO - Chain [1] start processing\n",
      "01:32:26 - cmdstanpy - INFO - Chain [1] start processing\n",
      "01:32:27 - cmdstanpy - INFO - Chain [1] start processing\n",
      "01:32:27 - cmdstanpy - INFO - Chain [1] done processing\n",
      "01:32:27 - cmdstanpy - INFO - Chain [1] done processing\n",
      "01:32:27 - cmdstanpy - INFO - Chain [1] done processing\n",
      "01:32:27 - cmdstanpy - INFO - Chain [1] done processing\n",
      "01:32:27 - cmdstanpy - INFO - Chain [1] done processing\n",
      "01:32:27 - cmdstanpy - INFO - Chain [1] done processing\n",
      "01:32:28 - cmdstanpy - INFO - Chain [1] start processing\n"
     ]
    },
    {
     "name": "stdout",
     "output_type": "stream",
     "text": [
      "[I 2025-08-23 01:32:27,839] Trial 28 finished with value: 320.92327167494693 and parameters: {'changepoint_prior_scale': 0.002423583070512164, 'seasonality_prior_scale': 0.08200214230267396, 'holidays_prior_scale': 0.09347140581546957}. Best is trial 17 with value: 313.47159263370384.\n"
     ]
    },
    {
     "name": "stderr",
     "output_type": "stream",
     "text": [
      "01:32:28 - cmdstanpy - INFO - Chain [1] done processing\n",
      "01:32:29 - cmdstanpy - INFO - Chain [1] start processing\n",
      "01:32:29 - cmdstanpy - INFO - Chain [1] start processing\n",
      "01:32:29 - cmdstanpy - INFO - Chain [1] start processing\n",
      "01:32:29 - cmdstanpy - INFO - Chain [1] start processing\n",
      "01:32:29 - cmdstanpy - INFO - Chain [1] done processing\n",
      "01:32:29 - cmdstanpy - INFO - Chain [1] start processing\n",
      "01:32:29 - cmdstanpy - INFO - Chain [1] done processing\n",
      "01:32:29 - cmdstanpy - INFO - Chain [1] start processing\n",
      "01:32:29 - cmdstanpy - INFO - Chain [1] done processing\n",
      "01:32:29 - cmdstanpy - INFO - Chain [1] start processing\n",
      "01:32:29 - cmdstanpy - INFO - Chain [1] done processing\n",
      "01:32:29 - cmdstanpy - INFO - Chain [1] done processing\n",
      "01:32:29 - cmdstanpy - INFO - Chain [1] done processing\n",
      "01:32:30 - cmdstanpy - INFO - Chain [1] done processing\n",
      "01:32:30 - cmdstanpy - INFO - Chain [1] start processing\n",
      "01:32:30 - cmdstanpy - INFO - Chain [1] start processing\n",
      "01:32:30 - cmdstanpy - INFO - Chain [1] start processing\n",
      "01:32:30 - cmdstanpy - INFO - Chain [1] done processing\n",
      "01:32:30 - cmdstanpy - INFO - Chain [1] done processing\n",
      "01:32:30 - cmdstanpy - INFO - Chain [1] done processing\n"
     ]
    },
    {
     "name": "stdout",
     "output_type": "stream",
     "text": [
      "[I 2025-08-23 01:32:30,737] Trial 29 finished with value: 318.9639734317968 and parameters: {'changepoint_prior_scale': 0.0057932178990720146, 'seasonality_prior_scale': 1.5862768520908834, 'holidays_prior_scale': 2.4047173299348374}. Best is trial 17 with value: 313.47159263370384.\n"
     ]
    },
    {
     "name": "stderr",
     "output_type": "stream",
     "text": [
      "01:32:30 - cmdstanpy - INFO - Chain [1] start processing\n",
      "01:32:31 - cmdstanpy - INFO - Chain [1] done processing\n",
      "01:32:31 - cmdstanpy - INFO - Chain [1] start processing\n",
      "01:32:32 - cmdstanpy - INFO - Chain [1] start processing\n",
      "01:32:32 - cmdstanpy - INFO - Chain [1] start processing\n",
      "01:32:32 - cmdstanpy - INFO - Chain [1] start processing\n",
      "01:32:32 - cmdstanpy - INFO - Chain [1] done processing\n",
      "01:32:32 - cmdstanpy - INFO - Chain [1] done processing\n",
      "01:32:32 - cmdstanpy - INFO - Chain [1] done processing\n",
      "01:32:32 - cmdstanpy - INFO - Chain [1] start processing\n",
      "01:32:32 - cmdstanpy - INFO - Chain [1] start processing\n",
      "01:32:32 - cmdstanpy - INFO - Chain [1] done processing\n",
      "01:32:32 - cmdstanpy - INFO - Chain [1] start processing\n",
      "01:32:32 - cmdstanpy - INFO - Chain [1] start processing\n",
      "01:32:32 - cmdstanpy - INFO - Chain [1] start processing\n",
      "01:32:32 - cmdstanpy - INFO - Chain [1] start processing\n",
      "01:32:32 - cmdstanpy - INFO - Chain [1] done processing\n",
      "01:32:32 - cmdstanpy - INFO - Chain [1] done processing\n",
      "01:32:32 - cmdstanpy - INFO - Chain [1] done processing\n",
      "01:32:33 - cmdstanpy - INFO - Chain [1] done processing\n",
      "01:32:33 - cmdstanpy - INFO - Chain [1] done processing\n",
      "01:32:33 - cmdstanpy - INFO - Chain [1] done processing\n",
      "01:32:33 - cmdstanpy - INFO - Chain [1] start processing\n"
     ]
    },
    {
     "name": "stdout",
     "output_type": "stream",
     "text": [
      "[I 2025-08-23 01:32:33,505] Trial 30 finished with value: 323.2287378280532 and parameters: {'changepoint_prior_scale': 0.056334157910264096, 'seasonality_prior_scale': 0.30090993750294664, 'holidays_prior_scale': 0.02501943771116343}. Best is trial 17 with value: 313.47159263370384.\n"
     ]
    },
    {
     "name": "stderr",
     "output_type": "stream",
     "text": [
      "01:32:33 - cmdstanpy - INFO - Chain [1] done processing\n",
      "01:32:34 - cmdstanpy - INFO - Chain [1] start processing\n",
      "01:32:34 - cmdstanpy - INFO - Chain [1] done processing\n",
      "01:32:34 - cmdstanpy - INFO - Chain [1] start processing\n",
      "01:32:34 - cmdstanpy - INFO - Chain [1] done processing\n",
      "01:32:35 - cmdstanpy - INFO - Chain [1] start processing\n",
      "01:32:35 - cmdstanpy - INFO - Chain [1] start processing\n",
      "01:32:35 - cmdstanpy - INFO - Chain [1] start processing\n",
      "01:32:35 - cmdstanpy - INFO - Chain [1] start processing\n",
      "01:32:35 - cmdstanpy - INFO - Chain [1] start processing\n",
      "01:32:35 - cmdstanpy - INFO - Chain [1] start processing\n",
      "01:32:35 - cmdstanpy - INFO - Chain [1] done processing\n",
      "01:32:35 - cmdstanpy - INFO - Chain [1] done processing\n",
      "01:32:35 - cmdstanpy - INFO - Chain [1] done processing\n",
      "01:32:35 - cmdstanpy - INFO - Chain [1] done processing\n",
      "01:32:35 - cmdstanpy - INFO - Chain [1] done processing\n",
      "01:32:35 - cmdstanpy - INFO - Chain [1] done processing\n",
      "01:32:35 - cmdstanpy - INFO - Chain [1] start processing\n",
      "01:32:35 - cmdstanpy - INFO - Chain [1] start processing\n",
      "01:32:36 - cmdstanpy - INFO - Chain [1] done processing\n",
      "01:32:36 - cmdstanpy - INFO - Chain [1] done processing\n",
      "01:32:36 - cmdstanpy - INFO - Chain [1] start processing\n"
     ]
    },
    {
     "name": "stdout",
     "output_type": "stream",
     "text": [
      "[I 2025-08-23 01:32:36,379] Trial 31 finished with value: 314.226070661827 and parameters: {'changepoint_prior_scale': 0.14616235434776928, 'seasonality_prior_scale': 0.010454346096690175, 'holidays_prior_scale': 0.151672179029728}. Best is trial 17 with value: 313.47159263370384.\n"
     ]
    },
    {
     "name": "stderr",
     "output_type": "stream",
     "text": [
      "01:32:36 - cmdstanpy - INFO - Chain [1] done processing\n",
      "01:32:37 - cmdstanpy - INFO - Chain [1] start processing\n",
      "01:32:37 - cmdstanpy - INFO - Chain [1] done processing\n",
      "01:32:38 - cmdstanpy - INFO - Chain [1] start processing\n",
      "01:32:38 - cmdstanpy - INFO - Chain [1] start processing\n",
      "01:32:38 - cmdstanpy - INFO - Chain [1] start processing\n",
      "01:32:38 - cmdstanpy - INFO - Chain [1] start processing\n",
      "01:32:38 - cmdstanpy - INFO - Chain [1] start processing\n",
      "01:32:38 - cmdstanpy - INFO - Chain [1] start processing\n",
      "01:32:38 - cmdstanpy - INFO - Chain [1] start processing\n",
      "01:32:38 - cmdstanpy - INFO - Chain [1] start processing\n",
      "01:32:38 - cmdstanpy - INFO - Chain [1] start processing\n",
      "01:32:38 - cmdstanpy - INFO - Chain [1] done processing\n",
      "01:32:38 - cmdstanpy - INFO - Chain [1] done processing\n",
      "01:32:38 - cmdstanpy - INFO - Chain [1] done processing\n",
      "01:32:38 - cmdstanpy - INFO - Chain [1] done processing\n",
      "01:32:38 - cmdstanpy - INFO - Chain [1] done processing\n",
      "01:32:38 - cmdstanpy - INFO - Chain [1] done processing\n",
      "01:32:38 - cmdstanpy - INFO - Chain [1] done processing\n",
      "01:32:38 - cmdstanpy - INFO - Chain [1] done processing\n",
      "01:32:38 - cmdstanpy - INFO - Chain [1] done processing\n"
     ]
    },
    {
     "name": "stdout",
     "output_type": "stream",
     "text": [
      "[I 2025-08-23 01:32:39,301] Trial 32 finished with value: 319.7137393291165 and parameters: {'changepoint_prior_scale': 0.2103165496945694, 'seasonality_prior_scale': 0.03614763462114723, 'holidays_prior_scale': 0.21089434956716388}. Best is trial 17 with value: 313.47159263370384.\n"
     ]
    },
    {
     "name": "stderr",
     "output_type": "stream",
     "text": [
      "01:32:39 - cmdstanpy - INFO - Chain [1] start processing\n",
      "01:32:39 - cmdstanpy - INFO - Chain [1] done processing\n",
      "01:32:40 - cmdstanpy - INFO - Chain [1] start processing\n",
      "01:32:40 - cmdstanpy - INFO - Chain [1] done processing\n",
      "01:32:40 - cmdstanpy - INFO - Chain [1] start processing\n",
      "01:32:40 - cmdstanpy - INFO - Chain [1] start processing\n",
      "01:32:40 - cmdstanpy - INFO - Chain [1] start processing\n",
      "01:32:41 - cmdstanpy - INFO - Chain [1] done processing\n",
      "01:32:41 - cmdstanpy - INFO - Chain [1] start processing\n",
      "01:32:41 - cmdstanpy - INFO - Chain [1] done processing\n",
      "01:32:41 - cmdstanpy - INFO - Chain [1] start processing\n",
      "01:32:41 - cmdstanpy - INFO - Chain [1] start processing\n",
      "01:32:41 - cmdstanpy - INFO - Chain [1] start processing\n",
      "01:32:41 - cmdstanpy - INFO - Chain [1] start processing\n",
      "01:32:41 - cmdstanpy - INFO - Chain [1] done processing\n",
      "01:32:41 - cmdstanpy - INFO - Chain [1] done processing\n",
      "01:32:41 - cmdstanpy - INFO - Chain [1] done processing\n",
      "01:32:41 - cmdstanpy - INFO - Chain [1] done processing\n",
      "01:32:41 - cmdstanpy - INFO - Chain [1] start processing\n",
      "01:32:41 - cmdstanpy - INFO - Chain [1] done processing\n",
      "01:32:41 - cmdstanpy - INFO - Chain [1] done processing\n",
      "01:32:41 - cmdstanpy - INFO - Chain [1] done processing\n"
     ]
    },
    {
     "name": "stdout",
     "output_type": "stream",
     "text": [
      "[I 2025-08-23 01:32:42,266] Trial 33 finished with value: 318.42637267739906 and parameters: {'changepoint_prior_scale': 0.12414302361451243, 'seasonality_prior_scale': 0.015925982555271744, 'holidays_prior_scale': 0.1135016456354425}. Best is trial 17 with value: 313.47159263370384.\n"
     ]
    },
    {
     "name": "stderr",
     "output_type": "stream",
     "text": [
      "01:32:42 - cmdstanpy - INFO - Chain [1] start processing\n",
      "01:32:42 - cmdstanpy - INFO - Chain [1] done processing\n",
      "01:32:43 - cmdstanpy - INFO - Chain [1] start processing\n",
      "01:32:43 - cmdstanpy - INFO - Chain [1] done processing\n",
      "01:32:43 - cmdstanpy - INFO - Chain [1] start processing\n",
      "01:32:43 - cmdstanpy - INFO - Chain [1] start processing\n",
      "01:32:43 - cmdstanpy - INFO - Chain [1] start processing\n",
      "01:32:44 - cmdstanpy - INFO - Chain [1] start processing\n",
      "01:32:44 - cmdstanpy - INFO - Chain [1] start processing\n",
      "01:32:44 - cmdstanpy - INFO - Chain [1] start processing\n",
      "01:32:44 - cmdstanpy - INFO - Chain [1] start processing\n",
      "01:32:44 - cmdstanpy - INFO - Chain [1] start processing\n",
      "01:32:44 - cmdstanpy - INFO - Chain [1] start processing\n",
      "01:32:44 - cmdstanpy - INFO - Chain [1] done processing\n",
      "01:32:44 - cmdstanpy - INFO - Chain [1] done processing\n",
      "01:32:44 - cmdstanpy - INFO - Chain [1] done processing\n",
      "01:32:44 - cmdstanpy - INFO - Chain [1] done processing\n",
      "01:32:44 - cmdstanpy - INFO - Chain [1] done processing\n",
      "01:32:44 - cmdstanpy - INFO - Chain [1] done processing\n",
      "01:32:44 - cmdstanpy - INFO - Chain [1] done processing\n",
      "01:32:44 - cmdstanpy - INFO - Chain [1] done processing\n",
      "01:32:44 - cmdstanpy - INFO - Chain [1] done processing\n"
     ]
    },
    {
     "name": "stdout",
     "output_type": "stream",
     "text": [
      "[I 2025-08-23 01:32:45,149] Trial 34 finished with value: 312.66604573776283 and parameters: {'changepoint_prior_scale': 0.2648909760365785, 'seasonality_prior_scale': 0.01098020672486051, 'holidays_prior_scale': 0.5123803648382903}. Best is trial 34 with value: 312.66604573776283.\n"
     ]
    },
    {
     "name": "stderr",
     "output_type": "stream",
     "text": [
      "01:32:45 - cmdstanpy - INFO - Chain [1] start processing\n",
      "01:32:45 - cmdstanpy - INFO - Chain [1] done processing\n",
      "01:32:46 - cmdstanpy - INFO - Chain [1] start processing\n",
      "01:32:46 - cmdstanpy - INFO - Chain [1] start processing\n",
      "01:32:46 - cmdstanpy - INFO - Chain [1] start processing\n",
      "01:32:46 - cmdstanpy - INFO - Chain [1] start processing\n",
      "01:32:46 - cmdstanpy - INFO - Chain [1] start processing\n",
      "01:32:47 - cmdstanpy - INFO - Chain [1] done processing\n",
      "01:32:47 - cmdstanpy - INFO - Chain [1] done processing\n",
      "01:32:47 - cmdstanpy - INFO - Chain [1] done processing\n",
      "01:32:47 - cmdstanpy - INFO - Chain [1] start processing\n",
      "01:32:47 - cmdstanpy - INFO - Chain [1] start processing\n",
      "01:32:47 - cmdstanpy - INFO - Chain [1] done processing\n",
      "01:32:47 - cmdstanpy - INFO - Chain [1] done processing\n",
      "01:32:47 - cmdstanpy - INFO - Chain [1] start processing\n",
      "01:32:47 - cmdstanpy - INFO - Chain [1] start processing\n",
      "01:32:47 - cmdstanpy - INFO - Chain [1] done processing\n",
      "01:32:47 - cmdstanpy - INFO - Chain [1] done processing\n",
      "01:32:47 - cmdstanpy - INFO - Chain [1] start processing\n",
      "01:32:47 - cmdstanpy - INFO - Chain [1] done processing\n",
      "01:32:47 - cmdstanpy - INFO - Chain [1] done processing\n",
      "01:32:47 - cmdstanpy - INFO - Chain [1] done processing\n"
     ]
    },
    {
     "name": "stdout",
     "output_type": "stream",
     "text": [
      "[I 2025-08-23 01:32:48,217] Trial 35 finished with value: 318.7049684053599 and parameters: {'changepoint_prior_scale': 0.25320297764741556, 'seasonality_prior_scale': 0.03136324206042862, 'holidays_prior_scale': 0.5889768041299439}. Best is trial 34 with value: 312.66604573776283.\n"
     ]
    },
    {
     "name": "stderr",
     "output_type": "stream",
     "text": [
      "01:32:48 - cmdstanpy - INFO - Chain [1] start processing\n",
      "01:32:48 - cmdstanpy - INFO - Chain [1] done processing\n",
      "01:32:49 - cmdstanpy - INFO - Chain [1] start processing\n",
      "01:32:49 - cmdstanpy - INFO - Chain [1] start processing\n",
      "01:32:50 - cmdstanpy - INFO - Chain [1] start processing\n",
      "01:32:50 - cmdstanpy - INFO - Chain [1] start processing\n",
      "01:32:50 - cmdstanpy - INFO - Chain [1] start processing\n",
      "01:32:50 - cmdstanpy - INFO - Chain [1] done processing\n",
      "01:32:50 - cmdstanpy - INFO - Chain [1] start processing\n",
      "01:32:50 - cmdstanpy - INFO - Chain [1] start processing\n",
      "01:32:50 - cmdstanpy - INFO - Chain [1] done processing\n",
      "01:32:50 - cmdstanpy - INFO - Chain [1] start processing\n",
      "01:32:50 - cmdstanpy - INFO - Chain [1] done processing\n",
      "01:32:50 - cmdstanpy - INFO - Chain [1] done processing\n",
      "01:32:50 - cmdstanpy - INFO - Chain [1] done processing\n",
      "01:32:50 - cmdstanpy - INFO - Chain [1] done processing\n",
      "01:32:50 - cmdstanpy - INFO - Chain [1] done processing\n",
      "01:32:50 - cmdstanpy - INFO - Chain [1] done processing\n",
      "01:32:50 - cmdstanpy - INFO - Chain [1] start processing\n",
      "01:32:50 - cmdstanpy - INFO - Chain [1] start processing\n",
      "01:32:51 - cmdstanpy - INFO - Chain [1] done processing\n",
      "01:32:51 - cmdstanpy - INFO - Chain [1] done processing\n",
      "01:32:51 - cmdstanpy - INFO - Chain [1] start processing\n"
     ]
    },
    {
     "name": "stdout",
     "output_type": "stream",
     "text": [
      "[I 2025-08-23 01:32:51,350] Trial 36 finished with value: 317.32616589768554 and parameters: {'changepoint_prior_scale': 0.24777064939750368, 'seasonality_prior_scale': 0.018991379673399676, 'holidays_prior_scale': 1.6349973800295259}. Best is trial 34 with value: 312.66604573776283.\n"
     ]
    },
    {
     "name": "stderr",
     "output_type": "stream",
     "text": [
      "01:32:51 - cmdstanpy - INFO - Chain [1] done processing\n",
      "01:32:52 - cmdstanpy - INFO - Chain [1] start processing\n",
      "01:32:52 - cmdstanpy - INFO - Chain [1] done processing\n",
      "01:32:52 - cmdstanpy - INFO - Chain [1] start processing\n",
      "01:32:53 - cmdstanpy - INFO - Chain [1] start processing\n",
      "01:32:53 - cmdstanpy - INFO - Chain [1] start processing\n",
      "01:32:53 - cmdstanpy - INFO - Chain [1] start processing\n",
      "01:32:53 - cmdstanpy - INFO - Chain [1] start processing\n",
      "01:32:53 - cmdstanpy - INFO - Chain [1] start processing\n",
      "01:32:53 - cmdstanpy - INFO - Chain [1] start processing\n",
      "01:32:53 - cmdstanpy - INFO - Chain [1] start processing\n",
      "01:32:53 - cmdstanpy - INFO - Chain [1] start processing\n",
      "01:32:53 - cmdstanpy - INFO - Chain [1] done processing\n",
      "01:32:53 - cmdstanpy - INFO - Chain [1] done processing\n",
      "01:32:53 - cmdstanpy - INFO - Chain [1] done processing\n",
      "01:32:53 - cmdstanpy - INFO - Chain [1] done processing\n",
      "01:32:53 - cmdstanpy - INFO - Chain [1] done processing\n",
      "01:32:53 - cmdstanpy - INFO - Chain [1] done processing\n",
      "01:32:53 - cmdstanpy - INFO - Chain [1] done processing\n",
      "01:32:53 - cmdstanpy - INFO - Chain [1] done processing\n",
      "01:32:53 - cmdstanpy - INFO - Chain [1] done processing\n",
      "01:32:54 - cmdstanpy - INFO - Chain [1] start processing\n"
     ]
    },
    {
     "name": "stdout",
     "output_type": "stream",
     "text": [
      "[I 2025-08-23 01:32:54,069] Trial 37 finished with value: 321.37482018024315 and parameters: {'changepoint_prior_scale': 0.061884032508531896, 'seasonality_prior_scale': 14.46808014375924, 'holidays_prior_scale': 0.2908827379348783}. Best is trial 34 with value: 312.66604573776283.\n"
     ]
    },
    {
     "name": "stderr",
     "output_type": "stream",
     "text": [
      "01:32:54 - cmdstanpy - INFO - Chain [1] done processing\n",
      "01:32:55 - cmdstanpy - INFO - Chain [1] start processing\n",
      "01:32:55 - cmdstanpy - INFO - Chain [1] done processing\n",
      "01:32:55 - cmdstanpy - INFO - Chain [1] start processing\n",
      "01:32:55 - cmdstanpy - INFO - Chain [1] start processing\n",
      "01:32:55 - cmdstanpy - INFO - Chain [1] start processing\n",
      "01:32:55 - cmdstanpy - INFO - Chain [1] start processing\n",
      "01:32:55 - cmdstanpy - INFO - Chain [1] start processing\n",
      "01:32:55 - cmdstanpy - INFO - Chain [1] start processing\n",
      "01:32:55 - cmdstanpy - INFO - Chain [1] start processing\n",
      "01:32:55 - cmdstanpy - INFO - Chain [1] done processing\n",
      "01:32:56 - cmdstanpy - INFO - Chain [1] done processing\n",
      "01:32:56 - cmdstanpy - INFO - Chain [1] done processing\n",
      "01:32:56 - cmdstanpy - INFO - Chain [1] done processing\n",
      "01:32:56 - cmdstanpy - INFO - Chain [1] done processing\n",
      "01:32:56 - cmdstanpy - INFO - Chain [1] done processing\n",
      "01:32:56 - cmdstanpy - INFO - Chain [1] done processing\n",
      "01:32:56 - cmdstanpy - INFO - Chain [1] start processing\n",
      "01:32:56 - cmdstanpy - INFO - Chain [1] start processing\n",
      "01:32:56 - cmdstanpy - INFO - Chain [1] done processing\n",
      "01:32:56 - cmdstanpy - INFO - Chain [1] done processing\n",
      "01:32:57 - cmdstanpy - INFO - Chain [1] start processing\n"
     ]
    },
    {
     "name": "stdout",
     "output_type": "stream",
     "text": [
      "[I 2025-08-23 01:32:57,276] Trial 38 finished with value: 318.8418739834557 and parameters: {'changepoint_prior_scale': 0.2981019700281421, 'seasonality_prior_scale': 0.05823087164161001, 'holidays_prior_scale': 0.5064019220396985}. Best is trial 34 with value: 312.66604573776283.\n"
     ]
    },
    {
     "name": "stderr",
     "output_type": "stream",
     "text": [
      "01:32:57 - cmdstanpy - INFO - Chain [1] done processing\n",
      "01:32:58 - cmdstanpy - INFO - Chain [1] start processing\n",
      "01:32:58 - cmdstanpy - INFO - Chain [1] done processing\n",
      "01:32:58 - cmdstanpy - INFO - Chain [1] start processing\n",
      "01:32:58 - cmdstanpy - INFO - Chain [1] start processing\n",
      "01:32:58 - cmdstanpy - INFO - Chain [1] start processing\n",
      "01:32:59 - cmdstanpy - INFO - Chain [1] start processing\n",
      "01:32:59 - cmdstanpy - INFO - Chain [1] done processing\n",
      "01:32:59 - cmdstanpy - INFO - Chain [1] start processing\n",
      "01:32:59 - cmdstanpy - INFO - Chain [1] start processing\n",
      "01:32:59 - cmdstanpy - INFO - Chain [1] start processing\n",
      "01:32:59 - cmdstanpy - INFO - Chain [1] start processing\n",
      "01:32:59 - cmdstanpy - INFO - Chain [1] start processing\n",
      "01:32:59 - cmdstanpy - INFO - Chain [1] done processing\n",
      "01:32:59 - cmdstanpy - INFO - Chain [1] done processing\n",
      "01:32:59 - cmdstanpy - INFO - Chain [1] done processing\n",
      "01:32:59 - cmdstanpy - INFO - Chain [1] done processing\n",
      "01:32:59 - cmdstanpy - INFO - Chain [1] done processing\n",
      "01:32:59 - cmdstanpy - INFO - Chain [1] done processing\n",
      "01:32:59 - cmdstanpy - INFO - Chain [1] done processing\n",
      "01:32:59 - cmdstanpy - INFO - Chain [1] done processing\n"
     ]
    },
    {
     "name": "stdout",
     "output_type": "stream",
     "text": [
      "[I 2025-08-23 01:32:59,999] Trial 39 finished with value: 324.80163541295525 and parameters: {'changepoint_prior_scale': 0.08898368649805898, 'seasonality_prior_scale': 0.027071983658510476, 'holidays_prior_scale': 0.011772667207028114}. Best is trial 34 with value: 312.66604573776283.\n"
     ]
    },
    {
     "name": "stderr",
     "output_type": "stream",
     "text": [
      "01:33:00 - cmdstanpy - INFO - Chain [1] start processing\n",
      "01:33:00 - cmdstanpy - INFO - Chain [1] done processing\n",
      "01:33:01 - cmdstanpy - INFO - Chain [1] start processing\n",
      "01:33:01 - cmdstanpy - INFO - Chain [1] start processing\n",
      "01:33:01 - cmdstanpy - INFO - Chain [1] done processing\n",
      "01:33:01 - cmdstanpy - INFO - Chain [1] done processing\n",
      "01:33:01 - cmdstanpy - INFO - Chain [1] start processing\n",
      "01:33:01 - cmdstanpy - INFO - Chain [1] start processing\n",
      "01:33:01 - cmdstanpy - INFO - Chain [1] start processing\n",
      "01:33:01 - cmdstanpy - INFO - Chain [1] start processing\n",
      "01:33:01 - cmdstanpy - INFO - Chain [1] start processing\n",
      "01:33:01 - cmdstanpy - INFO - Chain [1] done processing\n",
      "01:33:02 - cmdstanpy - INFO - Chain [1] start processing\n",
      "01:33:02 - cmdstanpy - INFO - Chain [1] done processing\n",
      "01:33:02 - cmdstanpy - INFO - Chain [1] done processing\n",
      "01:33:02 - cmdstanpy - INFO - Chain [1] done processing\n",
      "01:33:02 - cmdstanpy - INFO - Chain [1] done processing\n",
      "01:33:02 - cmdstanpy - INFO - Chain [1] start processing\n",
      "01:33:02 - cmdstanpy - INFO - Chain [1] done processing\n",
      "01:33:02 - cmdstanpy - INFO - Chain [1] start processing\n",
      "01:33:02 - cmdstanpy - INFO - Chain [1] done processing\n",
      "01:33:02 - cmdstanpy - INFO - Chain [1] done processing\n"
     ]
    },
    {
     "name": "stdout",
     "output_type": "stream",
     "text": [
      "[I 2025-08-23 01:33:03,021] Trial 40 finished with value: 318.32778050142355 and parameters: {'changepoint_prior_scale': 0.017844756177183722, 'seasonality_prior_scale': 0.09784833572902171, 'holidays_prior_scale': 0.8751083244121572}. Best is trial 34 with value: 312.66604573776283.\n"
     ]
    },
    {
     "name": "stderr",
     "output_type": "stream",
     "text": [
      "01:33:03 - cmdstanpy - INFO - Chain [1] start processing\n",
      "01:33:03 - cmdstanpy - INFO - Chain [1] done processing\n",
      "01:33:04 - cmdstanpy - INFO - Chain [1] start processing\n",
      "01:33:04 - cmdstanpy - INFO - Chain [1] start processing\n",
      "01:33:04 - cmdstanpy - INFO - Chain [1] start processing\n",
      "01:33:04 - cmdstanpy - INFO - Chain [1] start processing\n",
      "01:33:04 - cmdstanpy - INFO - Chain [1] done processing\n",
      "01:33:04 - cmdstanpy - INFO - Chain [1] start processing\n",
      "01:33:04 - cmdstanpy - INFO - Chain [1] start processing\n",
      "01:33:04 - cmdstanpy - INFO - Chain [1] start processing\n",
      "01:33:04 - cmdstanpy - INFO - Chain [1] start processing\n",
      "01:33:04 - cmdstanpy - INFO - Chain [1] start processing\n",
      "01:33:05 - cmdstanpy - INFO - Chain [1] done processing\n",
      "01:33:05 - cmdstanpy - INFO - Chain [1] done processing\n",
      "01:33:05 - cmdstanpy - INFO - Chain [1] start processing\n",
      "01:33:05 - cmdstanpy - INFO - Chain [1] done processing\n",
      "01:33:05 - cmdstanpy - INFO - Chain [1] done processing\n",
      "01:33:05 - cmdstanpy - INFO - Chain [1] done processing\n",
      "01:33:05 - cmdstanpy - INFO - Chain [1] done processing\n",
      "01:33:05 - cmdstanpy - INFO - Chain [1] done processing\n",
      "01:33:05 - cmdstanpy - INFO - Chain [1] done processing\n",
      "01:33:05 - cmdstanpy - INFO - Chain [1] done processing\n"
     ]
    },
    {
     "name": "stdout",
     "output_type": "stream",
     "text": [
      "[I 2025-08-23 01:33:06,093] Trial 41 finished with value: 314.80098069114746 and parameters: {'changepoint_prior_scale': 0.15464254304605102, 'seasonality_prior_scale': 0.010458382327137227, 'holidays_prior_scale': 0.126814494512816}. Best is trial 34 with value: 312.66604573776283.\n"
     ]
    },
    {
     "name": "stderr",
     "output_type": "stream",
     "text": [
      "01:33:06 - cmdstanpy - INFO - Chain [1] start processing\n",
      "01:33:06 - cmdstanpy - INFO - Chain [1] done processing\n",
      "01:33:07 - cmdstanpy - INFO - Chain [1] start processing\n",
      "01:33:07 - cmdstanpy - INFO - Chain [1] start processing\n",
      "01:33:07 - cmdstanpy - INFO - Chain [1] done processing\n",
      "01:33:07 - cmdstanpy - INFO - Chain [1] done processing\n",
      "01:33:07 - cmdstanpy - INFO - Chain [1] start processing\n",
      "01:33:08 - cmdstanpy - INFO - Chain [1] start processing\n",
      "01:33:08 - cmdstanpy - INFO - Chain [1] start processing\n",
      "01:33:08 - cmdstanpy - INFO - Chain [1] start processing\n",
      "01:33:08 - cmdstanpy - INFO - Chain [1] start processing\n",
      "01:33:08 - cmdstanpy - INFO - Chain [1] done processing\n",
      "01:33:08 - cmdstanpy - INFO - Chain [1] start processing\n",
      "01:33:08 - cmdstanpy - INFO - Chain [1] start processing\n",
      "01:33:08 - cmdstanpy - INFO - Chain [1] start processing\n",
      "01:33:08 - cmdstanpy - INFO - Chain [1] done processing\n",
      "01:33:08 - cmdstanpy - INFO - Chain [1] done processing\n",
      "01:33:08 - cmdstanpy - INFO - Chain [1] done processing\n",
      "01:33:08 - cmdstanpy - INFO - Chain [1] done processing\n",
      "01:33:08 - cmdstanpy - INFO - Chain [1] done processing\n",
      "01:33:08 - cmdstanpy - INFO - Chain [1] done processing\n",
      "01:33:08 - cmdstanpy - INFO - Chain [1] done processing\n"
     ]
    },
    {
     "name": "stdout",
     "output_type": "stream",
     "text": [
      "[I 2025-08-23 01:33:09,016] Trial 42 finished with value: 316.2544699807822 and parameters: {'changepoint_prior_scale': 0.039896534506030604, 'seasonality_prior_scale': 0.014923779957898205, 'holidays_prior_scale': 0.2268407220835366}. Best is trial 34 with value: 312.66604573776283.\n"
     ]
    },
    {
     "name": "stderr",
     "output_type": "stream",
     "text": [
      "01:33:09 - cmdstanpy - INFO - Chain [1] start processing\n",
      "01:33:09 - cmdstanpy - INFO - Chain [1] done processing\n",
      "01:33:10 - cmdstanpy - INFO - Chain [1] start processing\n",
      "01:33:10 - cmdstanpy - INFO - Chain [1] done processing\n",
      "01:33:11 - cmdstanpy - INFO - Chain [1] start processing\n",
      "01:33:11 - cmdstanpy - INFO - Chain [1] start processing\n",
      "01:33:11 - cmdstanpy - INFO - Chain [1] start processing\n",
      "01:33:11 - cmdstanpy - INFO - Chain [1] start processing\n",
      "01:33:11 - cmdstanpy - INFO - Chain [1] start processing\n",
      "01:33:11 - cmdstanpy - INFO - Chain [1] start processing\n",
      "01:33:11 - cmdstanpy - INFO - Chain [1] start processing\n",
      "01:33:11 - cmdstanpy - INFO - Chain [1] start processing\n",
      "01:33:11 - cmdstanpy - INFO - Chain [1] start processing\n",
      "01:33:11 - cmdstanpy - INFO - Chain [1] done processing\n",
      "01:33:11 - cmdstanpy - INFO - Chain [1] done processing\n",
      "01:33:11 - cmdstanpy - INFO - Chain [1] done processing\n",
      "01:33:11 - cmdstanpy - INFO - Chain [1] done processing\n",
      "01:33:11 - cmdstanpy - INFO - Chain [1] done processing\n",
      "01:33:11 - cmdstanpy - INFO - Chain [1] done processing\n",
      "01:33:11 - cmdstanpy - INFO - Chain [1] done processing\n",
      "01:33:11 - cmdstanpy - INFO - Chain [1] done processing\n",
      "01:33:11 - cmdstanpy - INFO - Chain [1] done processing\n"
     ]
    },
    {
     "name": "stdout",
     "output_type": "stream",
     "text": [
      "[I 2025-08-23 01:33:12,423] Trial 43 finished with value: 314.68323422437527 and parameters: {'changepoint_prior_scale': 0.3257003069333173, 'seasonality_prior_scale': 0.01670949474795714, 'holidays_prior_scale': 0.07420620174663921}. Best is trial 34 with value: 312.66604573776283.\n"
     ]
    },
    {
     "name": "stderr",
     "output_type": "stream",
     "text": [
      "01:33:12 - cmdstanpy - INFO - Chain [1] start processing\n",
      "01:33:12 - cmdstanpy - INFO - Chain [1] done processing\n",
      "01:33:12 - cmdstanpy - ERROR - Chain [1] error: error during processing Operation not permitted\n",
      "Optimization terminated abnormally. Falling back to Newton.\n",
      "01:33:12 - cmdstanpy - INFO - Chain [1] start processing\n",
      "01:33:35 - cmdstanpy - INFO - Chain [1] done processing\n",
      "01:33:35 - cmdstanpy - INFO - Chain [1] start processing\n",
      "01:33:36 - cmdstanpy - INFO - Chain [1] done processing\n",
      "01:33:36 - cmdstanpy - ERROR - Chain [1] error: error during processing Operation not permitted\n",
      "01:33:36 - cmdstanpy - INFO - Chain [1] start processing\n",
      "01:33:36 - cmdstanpy - INFO - Chain [1] start processing\n",
      "Optimization terminated abnormally. Falling back to Newton.\n",
      "01:33:36 - cmdstanpy - INFO - Chain [1] start processing\n",
      "01:33:36 - cmdstanpy - INFO - Chain [1] start processing\n",
      "01:33:36 - cmdstanpy - INFO - Chain [1] done processing\n",
      "01:33:36 - cmdstanpy - ERROR - Chain [1] error: error during processing Operation not permitted\n",
      "01:33:36 - cmdstanpy - INFO - Chain [1] done processing\n",
      "01:33:36 - cmdstanpy - INFO - Chain [1] done processing\n",
      "01:33:36 - cmdstanpy - INFO - Chain [1] done processing\n",
      "Optimization terminated abnormally. Falling back to Newton.\n",
      "01:33:36 - cmdstanpy - ERROR - Chain [1] error: error during processing Operation not permitted\n",
      "01:33:36 - cmdstanpy - INFO - Chain [1] start processing\n",
      "01:33:36 - cmdstanpy - INFO - Chain [1] start processing\n",
      "01:33:36 - cmdstanpy - INFO - Chain [1] start processing\n",
      "01:33:37 - cmdstanpy - INFO - Chain [1] start processing\n",
      "Optimization terminated abnormally. Falling back to Newton.\n",
      "01:33:37 - cmdstanpy - INFO - Chain [1] start processing\n",
      "01:33:37 - cmdstanpy - INFO - Chain [1] done processing\n",
      "01:33:37 - cmdstanpy - INFO - Chain [1] done processing\n",
      "01:33:37 - cmdstanpy - INFO - Chain [1] done processing\n",
      "01:33:37 - cmdstanpy - INFO - Chain [1] start processing\n",
      "01:33:37 - cmdstanpy - ERROR - Chain [1] error: error during processing Operation not permitted\n",
      "01:33:37 - cmdstanpy - INFO - Chain [1] done processing\n",
      "01:33:37 - cmdstanpy - ERROR - Chain [1] error: error during processing Operation not permitted\n",
      "01:33:37 - cmdstanpy - ERROR - Chain [1] error: error during processing Operation not permitted\n",
      "01:33:37 - cmdstanpy - INFO - Chain [1] done processing\n",
      "01:33:37 - cmdstanpy - INFO - Chain [1] start processing\n",
      "Optimization terminated abnormally. Falling back to Newton.\n",
      "Optimization terminated abnormally. Falling back to Newton.\n",
      "01:33:37 - cmdstanpy - ERROR - Chain [1] error: error during processing Operation not permitted\n",
      "01:33:37 - cmdstanpy - ERROR - Chain [1] error: error during processing Operation not permitted\n",
      "Optimization terminated abnormally. Falling back to Newton.\n",
      "Optimization terminated abnormally. Falling back to Newton.\n",
      "01:33:37 - cmdstanpy - INFO - Chain [1] start processing\n",
      "Optimization terminated abnormally. Falling back to Newton.\n",
      "01:33:38 - cmdstanpy - INFO - Chain [1] start processing\n",
      "01:33:38 - cmdstanpy - INFO - Chain [1] start processing\n",
      "01:33:38 - cmdstanpy - INFO - Chain [1] start processing\n",
      "01:33:38 - cmdstanpy - INFO - Chain [1] start processing\n",
      "01:33:38 - cmdstanpy - INFO - Chain [1] start processing\n",
      "01:33:41 - cmdstanpy - INFO - Chain [1] done processing\n",
      "01:33:42 - cmdstanpy - INFO - Chain [1] done processing\n",
      "01:33:44 - cmdstanpy - INFO - Chain [1] done processing\n",
      "01:33:44 - cmdstanpy - INFO - Chain [1] done processing\n",
      "01:33:58 - cmdstanpy - INFO - Chain [1] done processing\n",
      "01:34:02 - cmdstanpy - INFO - Chain [1] done processing\n",
      "01:34:05 - cmdstanpy - INFO - Chain [1] done processing\n",
      "01:34:06 - cmdstanpy - INFO - Chain [1] done processing\n"
     ]
    },
    {
     "name": "stdout",
     "output_type": "stream",
     "text": [
      "[I 2025-08-23 01:34:07,075] Trial 44 finished with value: 349.0655677060917 and parameters: {'changepoint_prior_scale': 0.00010668724652633064, 'seasonality_prior_scale': 0.030741926381029454, 'holidays_prior_scale': 0.393362785929745}. Best is trial 34 with value: 312.66604573776283.\n"
     ]
    },
    {
     "name": "stderr",
     "output_type": "stream",
     "text": [
      "01:34:07 - cmdstanpy - INFO - Chain [1] start processing\n",
      "01:34:07 - cmdstanpy - INFO - Chain [1] done processing\n",
      "01:34:08 - cmdstanpy - INFO - Chain [1] start processing\n",
      "01:34:08 - cmdstanpy - INFO - Chain [1] done processing\n",
      "01:34:09 - cmdstanpy - INFO - Chain [1] start processing\n",
      "01:34:09 - cmdstanpy - INFO - Chain [1] start processing\n",
      "01:34:09 - cmdstanpy - INFO - Chain [1] start processing\n",
      "01:34:09 - cmdstanpy - INFO - Chain [1] start processing\n",
      "01:34:09 - cmdstanpy - INFO - Chain [1] start processing\n",
      "01:34:09 - cmdstanpy - INFO - Chain [1] start processing\n",
      "01:34:09 - cmdstanpy - INFO - Chain [1] start processing\n",
      "01:34:09 - cmdstanpy - INFO - Chain [1] start processing\n",
      "01:34:09 - cmdstanpy - INFO - Chain [1] start processing\n",
      "01:34:09 - cmdstanpy - INFO - Chain [1] done processing\n",
      "01:34:09 - cmdstanpy - INFO - Chain [1] done processing\n",
      "01:34:09 - cmdstanpy - INFO - Chain [1] done processing\n",
      "01:34:09 - cmdstanpy - INFO - Chain [1] done processing\n",
      "01:34:09 - cmdstanpy - INFO - Chain [1] done processing\n",
      "01:34:09 - cmdstanpy - INFO - Chain [1] done processing\n",
      "01:34:09 - cmdstanpy - INFO - Chain [1] done processing\n",
      "01:34:09 - cmdstanpy - INFO - Chain [1] done processing\n",
      "01:34:09 - cmdstanpy - INFO - Chain [1] done processing\n"
     ]
    },
    {
     "name": "stdout",
     "output_type": "stream",
     "text": [
      "[I 2025-08-23 01:34:10,536] Trial 45 finished with value: 314.84863688141047 and parameters: {'changepoint_prior_scale': 0.12255055097759264, 'seasonality_prior_scale': 0.01122501255138959, 'holidays_prior_scale': 0.03110437240693023}. Best is trial 34 with value: 312.66604573776283.\n"
     ]
    },
    {
     "name": "stderr",
     "output_type": "stream",
     "text": [
      "01:34:10 - cmdstanpy - INFO - Chain [1] start processing\n",
      "01:34:10 - cmdstanpy - INFO - Chain [1] done processing\n",
      "01:34:12 - cmdstanpy - INFO - Chain [1] start processing\n",
      "01:34:12 - cmdstanpy - INFO - Chain [1] start processing\n",
      "01:34:12 - cmdstanpy - INFO - Chain [1] done processing\n",
      "01:34:12 - cmdstanpy - INFO - Chain [1] start processing\n",
      "01:34:12 - cmdstanpy - INFO - Chain [1] start processing\n",
      "01:34:12 - cmdstanpy - INFO - Chain [1] done processing\n",
      "01:34:12 - cmdstanpy - INFO - Chain [1] start processing\n",
      "01:34:12 - cmdstanpy - INFO - Chain [1] start processing\n",
      "01:34:12 - cmdstanpy - INFO - Chain [1] done processing\n",
      "01:34:12 - cmdstanpy - INFO - Chain [1] start processing\n",
      "01:34:12 - cmdstanpy - INFO - Chain [1] start processing\n",
      "01:34:12 - cmdstanpy - INFO - Chain [1] done processing\n",
      "01:34:12 - cmdstanpy - INFO - Chain [1] start processing\n",
      "01:34:12 - cmdstanpy - INFO - Chain [1] done processing\n",
      "01:34:12 - cmdstanpy - INFO - Chain [1] done processing\n",
      "01:34:12 - cmdstanpy - INFO - Chain [1] done processing\n",
      "01:34:13 - cmdstanpy - INFO - Chain [1] start processing\n",
      "01:34:13 - cmdstanpy - INFO - Chain [1] done processing\n",
      "01:34:13 - cmdstanpy - INFO - Chain [1] done processing\n",
      "01:34:13 - cmdstanpy - INFO - Chain [1] done processing\n",
      "01:34:14 - cmdstanpy - INFO - Chain [1] start processing\n"
     ]
    },
    {
     "name": "stdout",
     "output_type": "stream",
     "text": [
      "[I 2025-08-23 01:34:14,000] Trial 46 finished with value: 319.65959248029355 and parameters: {'changepoint_prior_scale': 0.06967695112062845, 'seasonality_prior_scale': 0.02210515961582836, 'holidays_prior_scale': 0.8415876617064268}. Best is trial 34 with value: 312.66604573776283.\n"
     ]
    },
    {
     "name": "stderr",
     "output_type": "stream",
     "text": [
      "01:34:14 - cmdstanpy - INFO - Chain [1] done processing\n",
      "01:34:15 - cmdstanpy - INFO - Chain [1] start processing\n",
      "01:34:15 - cmdstanpy - INFO - Chain [1] done processing\n",
      "01:34:15 - cmdstanpy - INFO - Chain [1] start processing\n",
      "01:34:16 - cmdstanpy - INFO - Chain [1] start processing\n",
      "01:34:16 - cmdstanpy - INFO - Chain [1] start processing\n",
      "01:34:16 - cmdstanpy - INFO - Chain [1] start processing\n",
      "01:34:16 - cmdstanpy - INFO - Chain [1] start processing\n",
      "01:34:16 - cmdstanpy - INFO - Chain [1] start processing\n",
      "01:34:16 - cmdstanpy - INFO - Chain [1] start processing\n",
      "01:34:16 - cmdstanpy - INFO - Chain [1] start processing\n",
      "01:34:16 - cmdstanpy - INFO - Chain [1] start processing\n",
      "01:34:16 - cmdstanpy - INFO - Chain [1] done processing\n",
      "01:34:16 - cmdstanpy - INFO - Chain [1] done processing\n",
      "01:34:16 - cmdstanpy - INFO - Chain [1] done processing\n",
      "01:34:16 - cmdstanpy - INFO - Chain [1] done processing\n",
      "01:34:16 - cmdstanpy - INFO - Chain [1] done processing\n",
      "01:34:16 - cmdstanpy - INFO - Chain [1] done processing\n",
      "01:34:16 - cmdstanpy - INFO - Chain [1] done processing\n",
      "01:34:16 - cmdstanpy - INFO - Chain [1] done processing\n",
      "01:34:16 - cmdstanpy - INFO - Chain [1] done processing\n"
     ]
    },
    {
     "name": "stdout",
     "output_type": "stream",
     "text": [
      "[I 2025-08-23 01:34:17,202] Trial 47 finished with value: 317.0219220475928 and parameters: {'changepoint_prior_scale': 0.4164807534766521, 'seasonality_prior_scale': 0.04273808630889008, 'holidays_prior_scale': 0.15885457909194198}. Best is trial 34 with value: 312.66604573776283.\n"
     ]
    },
    {
     "name": "stderr",
     "output_type": "stream",
     "text": [
      "01:34:17 - cmdstanpy - INFO - Chain [1] start processing\n",
      "01:34:17 - cmdstanpy - INFO - Chain [1] done processing\n",
      "01:34:18 - cmdstanpy - INFO - Chain [1] start processing\n",
      "01:34:18 - cmdstanpy - INFO - Chain [1] done processing\n",
      "01:34:18 - cmdstanpy - INFO - Chain [1] start processing\n",
      "01:34:18 - cmdstanpy - INFO - Chain [1] done processing\n",
      "01:34:19 - cmdstanpy - INFO - Chain [1] start processing\n",
      "01:34:19 - cmdstanpy - INFO - Chain [1] done processing\n",
      "01:34:19 - cmdstanpy - INFO - Chain [1] start processing\n",
      "01:34:19 - cmdstanpy - INFO - Chain [1] start processing\n",
      "01:34:19 - cmdstanpy - INFO - Chain [1] start processing\n",
      "01:34:19 - cmdstanpy - INFO - Chain [1] start processing\n",
      "01:34:19 - cmdstanpy - INFO - Chain [1] start processing\n",
      "01:34:19 - cmdstanpy - INFO - Chain [1] start processing\n",
      "01:34:19 - cmdstanpy - INFO - Chain [1] start processing\n",
      "01:34:19 - cmdstanpy - INFO - Chain [1] done processing\n",
      "01:34:19 - cmdstanpy - INFO - Chain [1] done processing\n",
      "01:34:19 - cmdstanpy - INFO - Chain [1] done processing\n",
      "01:34:19 - cmdstanpy - INFO - Chain [1] done processing\n",
      "01:34:19 - cmdstanpy - INFO - Chain [1] done processing\n",
      "01:34:19 - cmdstanpy - INFO - Chain [1] done processing\n",
      "01:34:19 - cmdstanpy - INFO - Chain [1] done processing\n"
     ]
    },
    {
     "name": "stdout",
     "output_type": "stream",
     "text": [
      "[I 2025-08-23 01:34:20,475] Trial 48 finished with value: 320.6563962846298 and parameters: {'changepoint_prior_scale': 0.04566955786559027, 'seasonality_prior_scale': 40.88219481916488, 'holidays_prior_scale': 10.681778411673996}. Best is trial 34 with value: 312.66604573776283.\n"
     ]
    },
    {
     "name": "stderr",
     "output_type": "stream",
     "text": [
      "01:34:20 - cmdstanpy - INFO - Chain [1] start processing\n",
      "01:34:20 - cmdstanpy - INFO - Chain [1] done processing\n",
      "01:34:22 - cmdstanpy - INFO - Chain [1] start processing\n",
      "01:34:22 - cmdstanpy - INFO - Chain [1] start processing\n",
      "01:34:22 - cmdstanpy - INFO - Chain [1] done processing\n",
      "01:34:22 - cmdstanpy - INFO - Chain [1] start processing\n",
      "01:34:22 - cmdstanpy - INFO - Chain [1] start processing\n",
      "01:34:22 - cmdstanpy - INFO - Chain [1] start processing\n",
      "01:34:22 - cmdstanpy - INFO - Chain [1] done processing\n",
      "01:34:22 - cmdstanpy - INFO - Chain [1] start processing\n",
      "01:34:22 - cmdstanpy - INFO - Chain [1] start processing\n",
      "01:34:22 - cmdstanpy - INFO - Chain [1] start processing\n",
      "01:34:22 - cmdstanpy - INFO - Chain [1] start processing\n",
      "01:34:22 - cmdstanpy - INFO - Chain [1] start processing\n",
      "01:34:22 - cmdstanpy - INFO - Chain [1] done processing\n",
      "01:34:22 - cmdstanpy - INFO - Chain [1] done processing\n",
      "01:34:22 - cmdstanpy - INFO - Chain [1] done processing\n",
      "01:34:23 - cmdstanpy - INFO - Chain [1] done processing\n",
      "01:34:23 - cmdstanpy - INFO - Chain [1] done processing\n",
      "01:34:23 - cmdstanpy - INFO - Chain [1] done processing\n",
      "01:34:23 - cmdstanpy - INFO - Chain [1] done processing\n",
      "01:34:23 - cmdstanpy - INFO - Chain [1] done processing\n"
     ]
    },
    {
     "name": "stdout",
     "output_type": "stream",
     "text": [
      "[I 2025-08-23 01:34:23,705] Trial 49 finished with value: 317.31828270273144 and parameters: {'changepoint_prior_scale': 0.11115000052080833, 'seasonality_prior_scale': 0.013776852873240975, 'holidays_prior_scale': 1.176245673500564}. Best is trial 34 with value: 312.66604573776283.\n"
     ]
    },
    {
     "name": "stderr",
     "output_type": "stream",
     "text": [
      "01:34:23 - cmdstanpy - INFO - Chain [1] start processing\n",
      "01:34:24 - cmdstanpy - INFO - Chain [1] done processing\n",
      "01:34:24 - cmdstanpy - INFO - Chain [1] start processing\n",
      "01:34:25 - cmdstanpy - INFO - Chain [1] done processing\n",
      "01:34:25 - cmdstanpy - INFO - Chain [1] start processing\n",
      "01:34:25 - cmdstanpy - INFO - Chain [1] start processing\n",
      "01:34:25 - cmdstanpy - INFO - Chain [1] done processing\n",
      "01:34:25 - cmdstanpy - INFO - Chain [1] start processing\n",
      "01:34:25 - cmdstanpy - INFO - Chain [1] start processing\n",
      "01:34:25 - cmdstanpy - INFO - Chain [1] start processing\n",
      "01:34:25 - cmdstanpy - INFO - Chain [1] start processing\n",
      "01:34:25 - cmdstanpy - INFO - Chain [1] start processing\n",
      "01:34:26 - cmdstanpy - INFO - Chain [1] start processing\n",
      "01:34:26 - cmdstanpy - INFO - Chain [1] done processing\n",
      "01:34:26 - cmdstanpy - INFO - Chain [1] done processing\n",
      "01:34:26 - cmdstanpy - INFO - Chain [1] done processing\n",
      "01:34:26 - cmdstanpy - INFO - Chain [1] done processing\n",
      "01:34:26 - cmdstanpy - INFO - Chain [1] done processing\n",
      "01:34:26 - cmdstanpy - INFO - Chain [1] done processing\n",
      "01:34:26 - cmdstanpy - INFO - Chain [1] done processing\n",
      "01:34:26 - cmdstanpy - INFO - Chain [1] start processing\n",
      "01:34:26 - cmdstanpy - INFO - Chain [1] done processing\n"
     ]
    },
    {
     "name": "stdout",
     "output_type": "stream",
     "text": [
      "[I 2025-08-23 01:34:27,279] Trial 50 finished with value: 320.3125219327615 and parameters: {'changepoint_prior_scale': 0.2223658155355237, 'seasonality_prior_scale': 0.23606022854032324, 'holidays_prior_scale': 0.055256341385027205}. Best is trial 34 with value: 312.66604573776283.\n"
     ]
    },
    {
     "name": "stderr",
     "output_type": "stream",
     "text": [
      "01:34:27 - cmdstanpy - INFO - Chain [1] start processing\n",
      "01:34:27 - cmdstanpy - INFO - Chain [1] done processing\n",
      "01:34:29 - cmdstanpy - INFO - Chain [1] start processing\n",
      "01:34:29 - cmdstanpy - INFO - Chain [1] start processing\n",
      "01:34:29 - cmdstanpy - INFO - Chain [1] start processing\n",
      "01:34:29 - cmdstanpy - INFO - Chain [1] start processing\n",
      "01:34:29 - cmdstanpy - INFO - Chain [1] done processing\n",
      "01:34:29 - cmdstanpy - INFO - Chain [1] start processing\n",
      "01:34:29 - cmdstanpy - INFO - Chain [1] start processing\n",
      "01:34:29 - cmdstanpy - INFO - Chain [1] start processing\n",
      "01:34:29 - cmdstanpy - INFO - Chain [1] done processing\n",
      "01:34:29 - cmdstanpy - INFO - Chain [1] done processing\n",
      "01:34:29 - cmdstanpy - INFO - Chain [1] start processing\n",
      "01:34:29 - cmdstanpy - INFO - Chain [1] done processing\n",
      "01:34:29 - cmdstanpy - INFO - Chain [1] start processing\n",
      "01:34:29 - cmdstanpy - INFO - Chain [1] done processing\n",
      "01:34:29 - cmdstanpy - INFO - Chain [1] done processing\n",
      "01:34:29 - cmdstanpy - INFO - Chain [1] done processing\n",
      "01:34:29 - cmdstanpy - INFO - Chain [1] start processing\n",
      "01:34:29 - cmdstanpy - INFO - Chain [1] done processing\n",
      "01:34:30 - cmdstanpy - INFO - Chain [1] done processing\n",
      "01:34:30 - cmdstanpy - INFO - Chain [1] done processing\n"
     ]
    },
    {
     "name": "stdout",
     "output_type": "stream",
     "text": [
      "[I 2025-08-23 01:34:30,818] Trial 51 finished with value: 314.7171626983858 and parameters: {'changepoint_prior_scale': 0.14210061388160744, 'seasonality_prior_scale': 0.010827240538970283, 'holidays_prior_scale': 0.15785173249700793}. Best is trial 34 with value: 312.66604573776283.\n"
     ]
    },
    {
     "name": "stderr",
     "output_type": "stream",
     "text": [
      "01:34:31 - cmdstanpy - INFO - Chain [1] start processing\n",
      "01:34:31 - cmdstanpy - INFO - Chain [1] done processing\n",
      "01:34:32 - cmdstanpy - INFO - Chain [1] start processing\n",
      "01:34:32 - cmdstanpy - INFO - Chain [1] start processing\n",
      "01:34:32 - cmdstanpy - INFO - Chain [1] done processing\n",
      "01:34:32 - cmdstanpy - INFO - Chain [1] done processing\n",
      "01:34:33 - cmdstanpy - INFO - Chain [1] start processing\n",
      "01:34:33 - cmdstanpy - INFO - Chain [1] start processing\n",
      "01:34:33 - cmdstanpy - INFO - Chain [1] start processing\n",
      "01:34:33 - cmdstanpy - INFO - Chain [1] start processing\n",
      "01:34:33 - cmdstanpy - INFO - Chain [1] start processing\n",
      "01:34:33 - cmdstanpy - INFO - Chain [1] start processing\n",
      "01:34:33 - cmdstanpy - INFO - Chain [1] start processing\n",
      "01:34:33 - cmdstanpy - INFO - Chain [1] start processing\n",
      "01:34:33 - cmdstanpy - INFO - Chain [1] done processing\n",
      "01:34:33 - cmdstanpy - INFO - Chain [1] done processing\n",
      "01:34:34 - cmdstanpy - INFO - Chain [1] done processing\n",
      "01:34:34 - cmdstanpy - INFO - Chain [1] done processing\n",
      "01:34:34 - cmdstanpy - INFO - Chain [1] done processing\n",
      "01:34:34 - cmdstanpy - INFO - Chain [1] done processing\n",
      "01:34:34 - cmdstanpy - INFO - Chain [1] done processing\n",
      "01:34:34 - cmdstanpy - INFO - Chain [1] done processing\n"
     ]
    },
    {
     "name": "stdout",
     "output_type": "stream",
     "text": [
      "[I 2025-08-23 01:34:34,725] Trial 52 finished with value: 313.78776854085726 and parameters: {'changepoint_prior_scale': 0.18028518874501406, 'seasonality_prior_scale': 0.010139451851793976, 'holidays_prior_scale': 0.09653436604770843}. Best is trial 34 with value: 312.66604573776283.\n"
     ]
    },
    {
     "name": "stderr",
     "output_type": "stream",
     "text": [
      "01:34:34 - cmdstanpy - INFO - Chain [1] start processing\n",
      "01:34:35 - cmdstanpy - INFO - Chain [1] done processing\n",
      "01:34:35 - cmdstanpy - INFO - Chain [1] start processing\n",
      "01:34:36 - cmdstanpy - INFO - Chain [1] done processing\n",
      "01:34:36 - cmdstanpy - INFO - Chain [1] start processing\n",
      "01:34:36 - cmdstanpy - INFO - Chain [1] start processing\n",
      "01:34:36 - cmdstanpy - INFO - Chain [1] done processing\n",
      "01:34:36 - cmdstanpy - INFO - Chain [1] start processing\n",
      "01:34:36 - cmdstanpy - INFO - Chain [1] start processing\n",
      "01:34:36 - cmdstanpy - INFO - Chain [1] start processing\n",
      "01:34:36 - cmdstanpy - INFO - Chain [1] start processing\n",
      "01:34:36 - cmdstanpy - INFO - Chain [1] done processing\n",
      "01:34:36 - cmdstanpy - INFO - Chain [1] start processing\n",
      "01:34:37 - cmdstanpy - INFO - Chain [1] start processing\n",
      "01:34:37 - cmdstanpy - INFO - Chain [1] done processing\n",
      "01:34:37 - cmdstanpy - INFO - Chain [1] done processing\n",
      "01:34:37 - cmdstanpy - INFO - Chain [1] start processing\n",
      "01:34:37 - cmdstanpy - ERROR - Chain [1] error: error during processing Operation not permitted\n",
      "01:34:37 - cmdstanpy - INFO - Chain [1] done processing\n",
      "01:34:37 - cmdstanpy - INFO - Chain [1] done processing\n",
      "01:34:37 - cmdstanpy - INFO - Chain [1] done processing\n",
      "Optimization terminated abnormally. Falling back to Newton.\n",
      "01:34:37 - cmdstanpy - INFO - Chain [1] done processing\n",
      "01:34:37 - cmdstanpy - INFO - Chain [1] done processing\n",
      "01:34:38 - cmdstanpy - INFO - Chain [1] start processing\n",
      "01:34:39 - cmdstanpy - INFO - Chain [1] done processing\n"
     ]
    },
    {
     "name": "stdout",
     "output_type": "stream",
     "text": [
      "[I 2025-08-23 01:34:39,748] Trial 53 finished with value: 381.42697167394186 and parameters: {'changepoint_prior_scale': 0.0007179588418099248, 'seasonality_prior_scale': 0.021212208252270933, 'holidays_prior_scale': 0.07670187521004465}. Best is trial 34 with value: 312.66604573776283.\n"
     ]
    },
    {
     "name": "stderr",
     "output_type": "stream",
     "text": [
      "01:34:40 - cmdstanpy - INFO - Chain [1] start processing\n",
      "01:34:40 - cmdstanpy - INFO - Chain [1] done processing\n",
      "01:34:40 - cmdstanpy - INFO - Chain [1] start processing\n",
      "01:34:41 - cmdstanpy - INFO - Chain [1] done processing\n",
      "01:34:41 - cmdstanpy - INFO - Chain [1] start processing\n",
      "01:34:41 - cmdstanpy - INFO - Chain [1] done processing\n",
      "01:34:41 - cmdstanpy - INFO - Chain [1] start processing\n",
      "01:34:42 - cmdstanpy - INFO - Chain [1] start processing\n",
      "01:34:42 - cmdstanpy - INFO - Chain [1] start processing\n",
      "01:34:42 - cmdstanpy - INFO - Chain [1] start processing\n",
      "01:34:42 - cmdstanpy - INFO - Chain [1] start processing\n",
      "01:34:42 - cmdstanpy - INFO - Chain [1] start processing\n",
      "01:34:42 - cmdstanpy - INFO - Chain [1] start processing\n",
      "01:34:42 - cmdstanpy - INFO - Chain [1] done processing\n",
      "01:34:42 - cmdstanpy - INFO - Chain [1] done processing\n",
      "01:34:42 - cmdstanpy - INFO - Chain [1] start processing\n",
      "01:34:42 - cmdstanpy - INFO - Chain [1] done processing\n",
      "01:34:42 - cmdstanpy - INFO - Chain [1] done processing\n",
      "01:34:42 - cmdstanpy - INFO - Chain [1] done processing\n",
      "01:34:42 - cmdstanpy - INFO - Chain [1] done processing\n",
      "01:34:42 - cmdstanpy - INFO - Chain [1] done processing\n",
      "01:34:42 - cmdstanpy - INFO - Chain [1] done processing\n",
      "01:34:43 - cmdstanpy - INFO - Chain [1] start processing\n"
     ]
    },
    {
     "name": "stdout",
     "output_type": "stream",
     "text": [
      "[I 2025-08-23 01:34:43,348] Trial 54 finished with value: 313.6741006643251 and parameters: {'changepoint_prior_scale': 0.3419151984196663, 'seasonality_prior_scale': 0.01462343635565297, 'holidays_prior_scale': 0.037843343099199865}. Best is trial 34 with value: 312.66604573776283.\n"
     ]
    },
    {
     "name": "stderr",
     "output_type": "stream",
     "text": [
      "01:34:43 - cmdstanpy - INFO - Chain [1] done processing\n",
      "01:34:44 - cmdstanpy - INFO - Chain [1] start processing\n",
      "01:34:45 - cmdstanpy - INFO - Chain [1] done processing\n",
      "01:34:45 - cmdstanpy - INFO - Chain [1] start processing\n",
      "01:34:45 - cmdstanpy - INFO - Chain [1] start processing\n",
      "01:34:45 - cmdstanpy - INFO - Chain [1] done processing\n",
      "01:34:45 - cmdstanpy - INFO - Chain [1] done processing\n",
      "01:34:45 - cmdstanpy - INFO - Chain [1] start processing\n",
      "01:34:45 - cmdstanpy - INFO - Chain [1] start processing\n",
      "01:34:45 - cmdstanpy - INFO - Chain [1] start processing\n",
      "01:34:45 - cmdstanpy - INFO - Chain [1] start processing\n",
      "01:34:45 - cmdstanpy - INFO - Chain [1] start processing\n",
      "01:34:45 - cmdstanpy - INFO - Chain [1] done processing\n",
      "01:34:45 - cmdstanpy - INFO - Chain [1] start processing\n",
      "01:34:46 - cmdstanpy - INFO - Chain [1] start processing\n",
      "01:34:46 - cmdstanpy - INFO - Chain [1] done processing\n",
      "01:34:46 - cmdstanpy - INFO - Chain [1] done processing\n",
      "01:34:46 - cmdstanpy - INFO - Chain [1] done processing\n",
      "01:34:46 - cmdstanpy - INFO - Chain [1] done processing\n",
      "01:34:46 - cmdstanpy - INFO - Chain [1] done processing\n",
      "01:34:46 - cmdstanpy - INFO - Chain [1] done processing\n",
      "01:34:47 - cmdstanpy - INFO - Chain [1] start processing\n"
     ]
    },
    {
     "name": "stdout",
     "output_type": "stream",
     "text": [
      "[I 2025-08-23 01:34:46,850] Trial 55 finished with value: 313.85079617755724 and parameters: {'changepoint_prior_scale': 0.3370753353122111, 'seasonality_prior_scale': 0.014184258062981328, 'holidays_prior_scale': 0.035140473075420856}. Best is trial 34 with value: 312.66604573776283.\n"
     ]
    },
    {
     "name": "stderr",
     "output_type": "stream",
     "text": [
      "01:34:47 - cmdstanpy - INFO - Chain [1] done processing\n",
      "01:34:47 - cmdstanpy - INFO - Chain [1] start processing\n",
      "01:34:47 - cmdstanpy - INFO - Chain [1] done processing\n",
      "01:34:48 - cmdstanpy - INFO - Chain [1] start processing\n",
      "01:34:48 - cmdstanpy - INFO - Chain [1] start processing\n",
      "01:34:48 - cmdstanpy - INFO - Chain [1] start processing\n",
      "01:34:48 - cmdstanpy - INFO - Chain [1] done processing\n",
      "01:34:48 - cmdstanpy - INFO - Chain [1] start processing\n",
      "01:34:49 - cmdstanpy - INFO - Chain [1] start processing\n",
      "01:34:49 - cmdstanpy - INFO - Chain [1] start processing\n",
      "01:34:49 - cmdstanpy - INFO - Chain [1] done processing\n",
      "01:34:49 - cmdstanpy - INFO - Chain [1] start processing\n",
      "01:34:49 - cmdstanpy - INFO - Chain [1] done processing\n",
      "01:34:49 - cmdstanpy - INFO - Chain [1] start processing\n",
      "01:34:49 - cmdstanpy - INFO - Chain [1] start processing\n",
      "01:34:49 - cmdstanpy - INFO - Chain [1] done processing\n",
      "01:34:49 - cmdstanpy - INFO - Chain [1] done processing\n",
      "01:34:49 - cmdstanpy - INFO - Chain [1] done processing\n",
      "01:34:49 - cmdstanpy - INFO - Chain [1] done processing\n",
      "01:34:49 - cmdstanpy - INFO - Chain [1] done processing\n",
      "01:34:49 - cmdstanpy - INFO - Chain [1] done processing\n",
      "01:34:50 - cmdstanpy - INFO - Chain [1] start processing\n"
     ]
    },
    {
     "name": "stdout",
     "output_type": "stream",
     "text": [
      "[I 2025-08-23 01:34:50,209] Trial 56 finished with value: 318.8100018150152 and parameters: {'changepoint_prior_scale': 0.4714667306883308, 'seasonality_prior_scale': 1.7500747216824029, 'holidays_prior_scale': 0.020482264471338323}. Best is trial 34 with value: 312.66604573776283.\n"
     ]
    },
    {
     "name": "stderr",
     "output_type": "stream",
     "text": [
      "01:34:50 - cmdstanpy - INFO - Chain [1] done processing\n",
      "01:34:51 - cmdstanpy - INFO - Chain [1] start processing\n",
      "01:34:51 - cmdstanpy - INFO - Chain [1] done processing\n",
      "01:34:52 - cmdstanpy - INFO - Chain [1] start processing\n",
      "01:34:52 - cmdstanpy - INFO - Chain [1] done processing\n",
      "01:34:52 - cmdstanpy - INFO - Chain [1] start processing\n",
      "01:34:52 - cmdstanpy - INFO - Chain [1] start processing\n",
      "01:34:52 - cmdstanpy - INFO - Chain [1] start processing\n",
      "01:34:52 - cmdstanpy - INFO - Chain [1] done processing\n",
      "01:34:52 - cmdstanpy - INFO - Chain [1] start processing\n",
      "01:34:52 - cmdstanpy - INFO - Chain [1] start processing\n",
      "01:34:52 - cmdstanpy - INFO - Chain [1] start processing\n",
      "01:34:52 - cmdstanpy - INFO - Chain [1] start processing\n",
      "01:34:52 - cmdstanpy - INFO - Chain [1] start processing\n",
      "01:34:52 - cmdstanpy - INFO - Chain [1] done processing\n",
      "01:34:53 - cmdstanpy - INFO - Chain [1] done processing\n",
      "01:34:53 - cmdstanpy - INFO - Chain [1] done processing\n",
      "01:34:53 - cmdstanpy - INFO - Chain [1] done processing\n",
      "01:34:53 - cmdstanpy - INFO - Chain [1] done processing\n",
      "01:34:53 - cmdstanpy - INFO - Chain [1] done processing\n",
      "01:34:53 - cmdstanpy - INFO - Chain [1] done processing\n",
      "01:34:54 - cmdstanpy - INFO - Chain [1] start processing\n"
     ]
    },
    {
     "name": "stdout",
     "output_type": "stream",
     "text": [
      "[I 2025-08-23 01:34:53,885] Trial 57 finished with value: 317.4185912733031 and parameters: {'changepoint_prior_scale': 0.33782340109762005, 'seasonality_prior_scale': 0.0345154984590777, 'holidays_prior_scale': 0.030304058043115242}. Best is trial 34 with value: 312.66604573776283.\n"
     ]
    },
    {
     "name": "stderr",
     "output_type": "stream",
     "text": [
      "01:34:54 - cmdstanpy - INFO - Chain [1] done processing\n",
      "01:34:55 - cmdstanpy - INFO - Chain [1] start processing\n",
      "01:34:55 - cmdstanpy - INFO - Chain [1] start processing\n",
      "01:34:55 - cmdstanpy - INFO - Chain [1] done processing\n",
      "01:34:55 - cmdstanpy - INFO - Chain [1] done processing\n",
      "01:34:56 - cmdstanpy - INFO - Chain [1] start processing\n",
      "01:34:56 - cmdstanpy - INFO - Chain [1] start processing\n",
      "01:34:56 - cmdstanpy - INFO - Chain [1] start processing\n",
      "01:34:56 - cmdstanpy - INFO - Chain [1] start processing\n",
      "01:34:56 - cmdstanpy - INFO - Chain [1] start processing\n",
      "01:34:56 - cmdstanpy - INFO - Chain [1] start processing\n",
      "01:34:56 - cmdstanpy - INFO - Chain [1] start processing\n",
      "01:34:56 - cmdstanpy - INFO - Chain [1] done processing\n",
      "01:34:56 - cmdstanpy - INFO - Chain [1] start processing\n",
      "01:34:57 - cmdstanpy - INFO - Chain [1] done processing\n",
      "01:34:57 - cmdstanpy - INFO - Chain [1] done processing\n",
      "01:34:57 - cmdstanpy - INFO - Chain [1] done processing\n",
      "01:34:57 - cmdstanpy - INFO - Chain [1] done processing\n",
      "01:34:57 - cmdstanpy - INFO - Chain [1] done processing\n",
      "01:34:57 - cmdstanpy - INFO - Chain [1] done processing\n",
      "01:34:57 - cmdstanpy - INFO - Chain [1] done processing\n"
     ]
    },
    {
     "name": "stdout",
     "output_type": "stream",
     "text": [
      "[I 2025-08-23 01:34:58,023] Trial 58 finished with value: 312.89426458560797 and parameters: {'changepoint_prior_scale': 0.4923644825111514, 'seasonality_prior_scale': 0.014737240045510582, 'holidays_prior_scale': 0.03690240984320636}. Best is trial 34 with value: 312.66604573776283.\n"
     ]
    },
    {
     "name": "stderr",
     "output_type": "stream",
     "text": [
      "01:34:58 - cmdstanpy - INFO - Chain [1] start processing\n",
      "01:34:58 - cmdstanpy - INFO - Chain [1] done processing\n",
      "01:34:59 - cmdstanpy - INFO - Chain [1] start processing\n",
      "01:35:00 - cmdstanpy - INFO - Chain [1] start processing\n",
      "01:35:00 - cmdstanpy - INFO - Chain [1] done processing\n",
      "01:35:00 - cmdstanpy - INFO - Chain [1] done processing\n",
      "01:35:00 - cmdstanpy - INFO - Chain [1] start processing\n",
      "01:35:01 - cmdstanpy - INFO - Chain [1] start processing\n",
      "01:35:01 - cmdstanpy - INFO - Chain [1] start processing\n",
      "01:35:01 - cmdstanpy - INFO - Chain [1] start processing\n",
      "01:35:01 - cmdstanpy - INFO - Chain [1] done processing\n",
      "01:35:01 - cmdstanpy - INFO - Chain [1] start processing\n",
      "01:35:01 - cmdstanpy - INFO - Chain [1] start processing\n",
      "01:35:01 - cmdstanpy - INFO - Chain [1] start processing\n",
      "01:35:01 - cmdstanpy - INFO - Chain [1] start processing\n",
      "01:35:01 - cmdstanpy - INFO - Chain [1] done processing\n",
      "01:35:01 - cmdstanpy - INFO - Chain [1] done processing\n",
      "01:35:01 - cmdstanpy - INFO - Chain [1] done processing\n",
      "01:35:01 - cmdstanpy - INFO - Chain [1] done processing\n",
      "01:35:01 - cmdstanpy - INFO - Chain [1] done processing\n",
      "01:35:01 - cmdstanpy - INFO - Chain [1] done processing\n",
      "01:35:01 - cmdstanpy - INFO - Chain [1] done processing\n"
     ]
    },
    {
     "name": "stdout",
     "output_type": "stream",
     "text": [
      "[I 2025-08-23 01:35:02,528] Trial 59 finished with value: 312.676690542204 and parameters: {'changepoint_prior_scale': 0.4603688502815025, 'seasonality_prior_scale': 0.014357521886588388, 'holidays_prior_scale': 0.038365590469416955}. Best is trial 34 with value: 312.66604573776283.\n"
     ]
    },
    {
     "name": "stderr",
     "output_type": "stream",
     "text": [
      "01:35:02 - cmdstanpy - INFO - Chain [1] start processing\n",
      "01:35:02 - cmdstanpy - INFO - Chain [1] done processing\n",
      "01:35:03 - cmdstanpy - INFO - Chain [1] start processing\n",
      "01:35:03 - cmdstanpy - INFO - Chain [1] done processing\n",
      "01:35:03 - cmdstanpy - INFO - Chain [1] start processing\n",
      "01:35:03 - cmdstanpy - INFO - Chain [1] start processing\n",
      "01:35:04 - cmdstanpy - INFO - Chain [1] start processing\n",
      "01:35:04 - cmdstanpy - INFO - Chain [1] start processing\n",
      "01:35:04 - cmdstanpy - INFO - Chain [1] start processing\n",
      "01:35:04 - cmdstanpy - INFO - Chain [1] start processing\n",
      "01:35:04 - cmdstanpy - INFO - Chain [1] start processing\n",
      "01:35:04 - cmdstanpy - INFO - Chain [1] done processing\n",
      "01:35:04 - cmdstanpy - INFO - Chain [1] done processing\n",
      "01:35:04 - cmdstanpy - INFO - Chain [1] start processing\n",
      "01:35:04 - cmdstanpy - INFO - Chain [1] start processing\n",
      "01:35:04 - cmdstanpy - INFO - Chain [1] done processing\n",
      "01:35:04 - cmdstanpy - INFO - Chain [1] done processing\n",
      "01:35:04 - cmdstanpy - INFO - Chain [1] done processing\n",
      "01:35:04 - cmdstanpy - INFO - Chain [1] done processing\n",
      "01:35:04 - cmdstanpy - INFO - Chain [1] done processing\n",
      "01:35:04 - cmdstanpy - INFO - Chain [1] done processing\n",
      "01:35:04 - cmdstanpy - INFO - Chain [1] done processing\n",
      "01:35:05 - cmdstanpy - INFO - Chain [1] start processing\n"
     ]
    },
    {
     "name": "stdout",
     "output_type": "stream",
     "text": [
      "[I 2025-08-23 01:35:05,278] Trial 60 finished with value: 323.87065794930817 and parameters: {'changepoint_prior_scale': 0.19730644910543152, 'seasonality_prior_scale': 0.05948108932397631, 'holidays_prior_scale': 0.015760327173945175}. Best is trial 34 with value: 312.66604573776283.\n"
     ]
    },
    {
     "name": "stderr",
     "output_type": "stream",
     "text": [
      "01:35:05 - cmdstanpy - INFO - Chain [1] done processing\n",
      "01:35:06 - cmdstanpy - INFO - Chain [1] start processing\n",
      "01:35:06 - cmdstanpy - INFO - Chain [1] start processing\n",
      "01:35:06 - cmdstanpy - INFO - Chain [1] start processing\n",
      "01:35:06 - cmdstanpy - INFO - Chain [1] start processing\n",
      "01:35:06 - cmdstanpy - INFO - Chain [1] start processing\n",
      "01:35:06 - cmdstanpy - INFO - Chain [1] start processing\n",
      "01:35:07 - cmdstanpy - INFO - Chain [1] done processing\n",
      "01:35:07 - cmdstanpy - INFO - Chain [1] start processing\n",
      "01:35:07 - cmdstanpy - INFO - Chain [1] start processing\n",
      "01:35:07 - cmdstanpy - INFO - Chain [1] done processing\n",
      "01:35:07 - cmdstanpy - INFO - Chain [1] done processing\n",
      "01:35:07 - cmdstanpy - INFO - Chain [1] start processing\n",
      "01:35:07 - cmdstanpy - INFO - Chain [1] start processing\n",
      "01:35:07 - cmdstanpy - INFO - Chain [1] done processing\n",
      "01:35:07 - cmdstanpy - INFO - Chain [1] done processing\n",
      "01:35:07 - cmdstanpy - INFO - Chain [1] done processing\n",
      "01:35:07 - cmdstanpy - INFO - Chain [1] done processing\n",
      "01:35:07 - cmdstanpy - INFO - Chain [1] done processing\n",
      "01:35:07 - cmdstanpy - INFO - Chain [1] done processing\n",
      "01:35:07 - cmdstanpy - INFO - Chain [1] done processing\n",
      "01:35:08 - cmdstanpy - INFO - Chain [1] start processing\n"
     ]
    },
    {
     "name": "stdout",
     "output_type": "stream",
     "text": [
      "[I 2025-08-23 01:35:08,099] Trial 61 finished with value: 314.05015242547813 and parameters: {'changepoint_prior_scale': 0.3145013475254446, 'seasonality_prior_scale': 0.01429915068492843, 'holidays_prior_scale': 0.040274760829101613}. Best is trial 34 with value: 312.66604573776283.\n"
     ]
    },
    {
     "name": "stderr",
     "output_type": "stream",
     "text": [
      "01:35:08 - cmdstanpy - INFO - Chain [1] done processing\n",
      "01:35:09 - cmdstanpy - INFO - Chain [1] start processing\n",
      "01:35:09 - cmdstanpy - INFO - Chain [1] done processing\n",
      "01:35:09 - cmdstanpy - INFO - Chain [1] start processing\n",
      "01:35:09 - cmdstanpy - INFO - Chain [1] start processing\n",
      "01:35:09 - cmdstanpy - INFO - Chain [1] start processing\n",
      "01:35:09 - cmdstanpy - INFO - Chain [1] start processing\n",
      "01:35:09 - cmdstanpy - INFO - Chain [1] start processing\n",
      "01:35:09 - cmdstanpy - INFO - Chain [1] start processing\n",
      "01:35:09 - cmdstanpy - INFO - Chain [1] start processing\n",
      "01:35:09 - cmdstanpy - INFO - Chain [1] start processing\n",
      "01:35:09 - cmdstanpy - INFO - Chain [1] start processing\n",
      "01:35:10 - cmdstanpy - INFO - Chain [1] done processing\n",
      "01:35:10 - cmdstanpy - INFO - Chain [1] done processing\n",
      "01:35:10 - cmdstanpy - INFO - Chain [1] done processing\n",
      "01:35:10 - cmdstanpy - INFO - Chain [1] done processing\n",
      "01:35:10 - cmdstanpy - INFO - Chain [1] done processing\n",
      "01:35:10 - cmdstanpy - INFO - Chain [1] done processing\n",
      "01:35:10 - cmdstanpy - INFO - Chain [1] done processing\n",
      "01:35:10 - cmdstanpy - INFO - Chain [1] done processing\n",
      "01:35:10 - cmdstanpy - INFO - Chain [1] done processing\n",
      "01:35:11 - cmdstanpy - INFO - Chain [1] start processing\n"
     ]
    },
    {
     "name": "stdout",
     "output_type": "stream",
     "text": [
      "[I 2025-08-23 01:35:11,107] Trial 62 finished with value: 314.7682269979135 and parameters: {'changepoint_prior_scale': 0.4744085744322393, 'seasonality_prior_scale': 0.023161892577233813, 'holidays_prior_scale': 0.037473244256628055}. Best is trial 34 with value: 312.66604573776283.\n"
     ]
    },
    {
     "name": "stderr",
     "output_type": "stream",
     "text": [
      "01:35:11 - cmdstanpy - INFO - Chain [1] done processing\n",
      "01:35:12 - cmdstanpy - INFO - Chain [1] start processing\n",
      "01:35:12 - cmdstanpy - INFO - Chain [1] done processing\n",
      "01:35:12 - cmdstanpy - INFO - Chain [1] start processing\n",
      "01:35:12 - cmdstanpy - INFO - Chain [1] start processing\n",
      "01:35:12 - cmdstanpy - INFO - Chain [1] start processing\n",
      "01:35:12 - cmdstanpy - INFO - Chain [1] start processing\n",
      "01:35:12 - cmdstanpy - INFO - Chain [1] start processing\n",
      "01:35:12 - cmdstanpy - INFO - Chain [1] start processing\n",
      "01:35:12 - cmdstanpy - INFO - Chain [1] start processing\n",
      "01:35:12 - cmdstanpy - INFO - Chain [1] start processing\n",
      "01:35:12 - cmdstanpy - INFO - Chain [1] start processing\n",
      "01:35:13 - cmdstanpy - INFO - Chain [1] done processing\n",
      "01:35:13 - cmdstanpy - INFO - Chain [1] done processing\n",
      "01:35:13 - cmdstanpy - INFO - Chain [1] done processing\n",
      "01:35:13 - cmdstanpy - INFO - Chain [1] done processing\n",
      "01:35:13 - cmdstanpy - INFO - Chain [1] done processing\n",
      "01:35:13 - cmdstanpy - INFO - Chain [1] done processing\n",
      "01:35:13 - cmdstanpy - INFO - Chain [1] done processing\n",
      "01:35:13 - cmdstanpy - INFO - Chain [1] done processing\n",
      "01:35:13 - cmdstanpy - INFO - Chain [1] done processing\n",
      "01:35:14 - cmdstanpy - INFO - Chain [1] start processing\n"
     ]
    },
    {
     "name": "stdout",
     "output_type": "stream",
     "text": [
      "[I 2025-08-23 01:35:14,005] Trial 63 finished with value: 316.21892324373607 and parameters: {'changepoint_prior_scale': 0.4858902789362887, 'seasonality_prior_scale': 0.014809028519213114, 'holidays_prior_scale': 0.018282104770429426}. Best is trial 34 with value: 312.66604573776283.\n"
     ]
    },
    {
     "name": "stderr",
     "output_type": "stream",
     "text": [
      "01:35:14 - cmdstanpy - INFO - Chain [1] done processing\n",
      "01:35:14 - cmdstanpy - INFO - Chain [1] start processing\n",
      "01:35:15 - cmdstanpy - INFO - Chain [1] start processing\n",
      "01:35:15 - cmdstanpy - INFO - Chain [1] done processing\n",
      "01:35:15 - cmdstanpy - INFO - Chain [1] done processing\n",
      "01:35:15 - cmdstanpy - INFO - Chain [1] start processing\n",
      "01:35:15 - cmdstanpy - INFO - Chain [1] start processing\n",
      "01:35:15 - cmdstanpy - INFO - Chain [1] start processing\n",
      "01:35:15 - cmdstanpy - INFO - Chain [1] start processing\n",
      "01:35:15 - cmdstanpy - INFO - Chain [1] start processing\n",
      "01:35:15 - cmdstanpy - INFO - Chain [1] start processing\n",
      "01:35:15 - cmdstanpy - INFO - Chain [1] start processing\n",
      "01:35:15 - cmdstanpy - INFO - Chain [1] done processing\n",
      "01:35:15 - cmdstanpy - INFO - Chain [1] done processing\n",
      "01:35:15 - cmdstanpy - INFO - Chain [1] done processing\n",
      "01:35:16 - cmdstanpy - INFO - Chain [1] done processing\n",
      "01:35:16 - cmdstanpy - INFO - Chain [1] done processing\n",
      "01:35:16 - cmdstanpy - INFO - Chain [1] done processing\n",
      "01:35:16 - cmdstanpy - INFO - Chain [1] done processing\n",
      "01:35:16 - cmdstanpy - INFO - Chain [1] start processing\n",
      "01:35:16 - cmdstanpy - INFO - Chain [1] done processing\n",
      "01:35:16 - cmdstanpy - INFO - Chain [1] start processing\n"
     ]
    },
    {
     "name": "stdout",
     "output_type": "stream",
     "text": [
      "[I 2025-08-23 01:35:16,681] Trial 64 finished with value: 316.2786314565302 and parameters: {'changepoint_prior_scale': 0.3017403082532581, 'seasonality_prior_scale': 0.019823715287495037, 'holidays_prior_scale': 0.08445055462019373}. Best is trial 34 with value: 312.66604573776283.\n"
     ]
    },
    {
     "name": "stderr",
     "output_type": "stream",
     "text": [
      "01:35:17 - cmdstanpy - INFO - Chain [1] done processing\n",
      "01:35:17 - cmdstanpy - INFO - Chain [1] start processing\n",
      "01:35:17 - cmdstanpy - INFO - Chain [1] done processing\n",
      "01:35:17 - cmdstanpy - INFO - Chain [1] start processing\n",
      "01:35:18 - cmdstanpy - INFO - Chain [1] start processing\n",
      "01:35:18 - cmdstanpy - INFO - Chain [1] done processing\n",
      "01:35:18 - cmdstanpy - INFO - Chain [1] done processing\n",
      "01:35:18 - cmdstanpy - INFO - Chain [1] start processing\n",
      "01:35:18 - cmdstanpy - INFO - Chain [1] start processing\n",
      "01:35:18 - cmdstanpy - INFO - Chain [1] start processing\n",
      "01:35:18 - cmdstanpy - INFO - Chain [1] start processing\n",
      "01:35:18 - cmdstanpy - INFO - Chain [1] start processing\n",
      "01:35:18 - cmdstanpy - INFO - Chain [1] start processing\n",
      "01:35:18 - cmdstanpy - INFO - Chain [1] start processing\n",
      "01:35:18 - cmdstanpy - INFO - Chain [1] done processing\n",
      "01:35:18 - cmdstanpy - INFO - Chain [1] done processing\n",
      "01:35:18 - cmdstanpy - INFO - Chain [1] done processing\n",
      "01:35:19 - cmdstanpy - INFO - Chain [1] done processing\n",
      "01:35:19 - cmdstanpy - INFO - Chain [1] done processing\n",
      "01:35:19 - cmdstanpy - INFO - Chain [1] done processing\n",
      "01:35:19 - cmdstanpy - INFO - Chain [1] done processing\n",
      "01:35:19 - cmdstanpy - INFO - Chain [1] start processing\n"
     ]
    },
    {
     "name": "stdout",
     "output_type": "stream",
     "text": [
      "[I 2025-08-23 01:35:19,541] Trial 65 finished with value: 323.33059380864654 and parameters: {'changepoint_prior_scale': 0.2597538401226022, 'seasonality_prior_scale': 0.02660401691057988, 'holidays_prior_scale': 0.010127965234493715}. Best is trial 34 with value: 312.66604573776283.\n"
     ]
    },
    {
     "name": "stderr",
     "output_type": "stream",
     "text": [
      "01:35:19 - cmdstanpy - INFO - Chain [1] done processing\n",
      "01:35:20 - cmdstanpy - INFO - Chain [1] start processing\n",
      "01:35:20 - cmdstanpy - INFO - Chain [1] done processing\n",
      "01:35:20 - cmdstanpy - INFO - Chain [1] start processing\n",
      "01:35:20 - cmdstanpy - INFO - Chain [1] start processing\n",
      "01:35:21 - cmdstanpy - INFO - Chain [1] start processing\n",
      "01:35:21 - cmdstanpy - INFO - Chain [1] start processing\n",
      "01:35:21 - cmdstanpy - INFO - Chain [1] start processing\n",
      "01:35:21 - cmdstanpy - INFO - Chain [1] start processing\n",
      "01:35:21 - cmdstanpy - INFO - Chain [1] start processing\n",
      "01:35:21 - cmdstanpy - INFO - Chain [1] done processing\n",
      "01:35:21 - cmdstanpy - INFO - Chain [1] done processing\n",
      "01:35:21 - cmdstanpy - INFO - Chain [1] done processing\n",
      "01:35:21 - cmdstanpy - INFO - Chain [1] start processing\n",
      "01:35:21 - cmdstanpy - INFO - Chain [1] done processing\n",
      "01:35:21 - cmdstanpy - INFO - Chain [1] done processing\n",
      "01:35:21 - cmdstanpy - INFO - Chain [1] done processing\n",
      "01:35:21 - cmdstanpy - INFO - Chain [1] start processing\n",
      "01:35:21 - cmdstanpy - INFO - Chain [1] done processing\n",
      "01:35:21 - cmdstanpy - INFO - Chain [1] done processing\n",
      "01:35:21 - cmdstanpy - INFO - Chain [1] done processing\n",
      "01:35:22 - cmdstanpy - INFO - Chain [1] start processing\n"
     ]
    },
    {
     "name": "stdout",
     "output_type": "stream",
     "text": [
      "[I 2025-08-23 01:35:22,188] Trial 66 finished with value: 317.06790354962925 and parameters: {'changepoint_prior_scale': 0.36430649387455066, 'seasonality_prior_scale': 0.03886654196017638, 'holidays_prior_scale': 0.06205764328457385}. Best is trial 34 with value: 312.66604573776283.\n"
     ]
    },
    {
     "name": "stderr",
     "output_type": "stream",
     "text": [
      "01:35:22 - cmdstanpy - INFO - Chain [1] done processing\n",
      "01:35:23 - cmdstanpy - INFO - Chain [1] start processing\n",
      "01:35:23 - cmdstanpy - INFO - Chain [1] done processing\n",
      "01:35:23 - cmdstanpy - INFO - Chain [1] start processing\n",
      "01:35:23 - cmdstanpy - INFO - Chain [1] start processing\n",
      "01:35:23 - cmdstanpy - INFO - Chain [1] start processing\n",
      "01:35:23 - cmdstanpy - INFO - Chain [1] start processing\n",
      "01:35:23 - cmdstanpy - INFO - Chain [1] start processing\n",
      "01:35:23 - cmdstanpy - INFO - Chain [1] start processing\n",
      "01:35:23 - cmdstanpy - INFO - Chain [1] start processing\n",
      "01:35:23 - cmdstanpy - INFO - Chain [1] start processing\n",
      "01:35:24 - cmdstanpy - INFO - Chain [1] start processing\n",
      "01:35:24 - cmdstanpy - INFO - Chain [1] done processing\n",
      "01:35:24 - cmdstanpy - INFO - Chain [1] done processing\n",
      "01:35:24 - cmdstanpy - INFO - Chain [1] done processing\n",
      "01:35:24 - cmdstanpy - INFO - Chain [1] done processing\n",
      "01:35:24 - cmdstanpy - INFO - Chain [1] done processing\n",
      "01:35:24 - cmdstanpy - INFO - Chain [1] done processing\n",
      "01:35:24 - cmdstanpy - INFO - Chain [1] done processing\n",
      "01:35:24 - cmdstanpy - INFO - Chain [1] done processing\n",
      "01:35:24 - cmdstanpy - INFO - Chain [1] done processing\n",
      "01:35:25 - cmdstanpy - INFO - Chain [1] start processing\n"
     ]
    },
    {
     "name": "stdout",
     "output_type": "stream",
     "text": [
      "[I 2025-08-23 01:35:24,999] Trial 67 finished with value: 315.9274694218605 and parameters: {'changepoint_prior_scale': 0.20768867906777908, 'seasonality_prior_scale': 0.013091963505450813, 'holidays_prior_scale': 0.029312833048916503}. Best is trial 34 with value: 312.66604573776283.\n"
     ]
    },
    {
     "name": "stderr",
     "output_type": "stream",
     "text": [
      "01:35:25 - cmdstanpy - INFO - Chain [1] done processing\n",
      "01:35:25 - cmdstanpy - INFO - Chain [1] start processing\n",
      "01:35:25 - cmdstanpy - INFO - Chain [1] done processing\n",
      "01:35:26 - cmdstanpy - INFO - Chain [1] start processing\n",
      "01:35:26 - cmdstanpy - INFO - Chain [1] start processing\n",
      "01:35:26 - cmdstanpy - INFO - Chain [1] start processing\n",
      "01:35:26 - cmdstanpy - INFO - Chain [1] start processing\n",
      "01:35:26 - cmdstanpy - INFO - Chain [1] start processing\n",
      "01:35:26 - cmdstanpy - INFO - Chain [1] start processing\n",
      "01:35:26 - cmdstanpy - INFO - Chain [1] start processing\n",
      "01:35:26 - cmdstanpy - INFO - Chain [1] start processing\n",
      "01:35:26 - cmdstanpy - INFO - Chain [1] done processing\n",
      "01:35:26 - cmdstanpy - INFO - Chain [1] done processing\n",
      "01:35:26 - cmdstanpy - INFO - Chain [1] done processing\n",
      "01:35:27 - cmdstanpy - INFO - Chain [1] done processing\n",
      "01:35:27 - cmdstanpy - INFO - Chain [1] start processing\n",
      "01:35:27 - cmdstanpy - INFO - Chain [1] done processing\n",
      "01:35:27 - cmdstanpy - INFO - Chain [1] done processing\n",
      "01:35:27 - cmdstanpy - INFO - Chain [1] done processing\n",
      "01:35:27 - cmdstanpy - INFO - Chain [1] done processing\n",
      "01:35:27 - cmdstanpy - INFO - Chain [1] done processing\n",
      "01:35:27 - cmdstanpy - INFO - Chain [1] start processing\n"
     ]
    },
    {
     "name": "stdout",
     "output_type": "stream",
     "text": [
      "[I 2025-08-23 01:35:27,681] Trial 68 finished with value: 318.21795435568504 and parameters: {'changepoint_prior_scale': 0.18532651829396735, 'seasonality_prior_scale': 0.018386815957655813, 'holidays_prior_scale': 0.03884996677619114}. Best is trial 34 with value: 312.66604573776283.\n"
     ]
    },
    {
     "name": "stderr",
     "output_type": "stream",
     "text": [
      "01:35:28 - cmdstanpy - INFO - Chain [1] done processing\n",
      "01:35:28 - cmdstanpy - INFO - Chain [1] start processing\n",
      "01:35:28 - cmdstanpy - INFO - Chain [1] done processing\n",
      "01:35:29 - cmdstanpy - INFO - Chain [1] start processing\n",
      "01:35:29 - cmdstanpy - INFO - Chain [1] start processing\n",
      "01:35:29 - cmdstanpy - INFO - Chain [1] done processing\n",
      "01:35:29 - cmdstanpy - INFO - Chain [1] start processing\n",
      "01:35:29 - cmdstanpy - INFO - Chain [1] start processing\n",
      "01:35:29 - cmdstanpy - INFO - Chain [1] start processing\n",
      "01:35:29 - cmdstanpy - INFO - Chain [1] done processing\n",
      "01:35:29 - cmdstanpy - INFO - Chain [1] start processing\n",
      "01:35:29 - cmdstanpy - INFO - Chain [1] start processing\n",
      "01:35:29 - cmdstanpy - INFO - Chain [1] done processing\n",
      "01:35:29 - cmdstanpy - INFO - Chain [1] done processing\n",
      "01:35:29 - cmdstanpy - INFO - Chain [1] done processing\n",
      "01:35:29 - cmdstanpy - INFO - Chain [1] start processing\n",
      "01:35:30 - cmdstanpy - INFO - Chain [1] done processing\n",
      "01:35:30 - cmdstanpy - INFO - Chain [1] start processing\n",
      "01:35:30 - cmdstanpy - INFO - Chain [1] done processing\n",
      "01:35:30 - cmdstanpy - INFO - Chain [1] done processing\n",
      "01:35:30 - cmdstanpy - INFO - Chain [1] done processing\n",
      "01:35:30 - cmdstanpy - INFO - Chain [1] start processing\n"
     ]
    },
    {
     "name": "stdout",
     "output_type": "stream",
     "text": [
      "[I 2025-08-23 01:35:30,695] Trial 69 finished with value: 318.18296085713666 and parameters: {'changepoint_prior_scale': 0.36134186464995594, 'seasonality_prior_scale': 4.238032158356131, 'holidays_prior_scale': 0.09899088009685578}. Best is trial 34 with value: 312.66604573776283.\n",
      "SEC-001 best params: {'changepoint_prior_scale': 0.2648909760365785, 'seasonality_prior_scale': 0.01098020672486051, 'holidays_prior_scale': 0.5123803648382903}\n"
     ]
    },
    {
     "name": "stderr",
     "output_type": "stream",
     "text": [
      "01:35:31 - cmdstanpy - INFO - Chain [1] done processing\n",
      "[I 2025-08-23 01:35:31,142] A new study created in memory with name: no-name-e9d0d9c2-b834-4762-9492-a7b7963f97ad\n"
     ]
    },
    {
     "name": "stdout",
     "output_type": "stream",
     "text": [
      "\n",
      "[Main Loop] Processing section: SEC-002\n",
      "[Optuna] Tuning section: SEC-002\n"
     ]
    },
    {
     "data": {
      "application/vnd.jupyter.widget-view+json": {
       "model_id": "2024f3acd2cc408886fefd2bd014b3ea",
       "version_major": 2,
       "version_minor": 0
      },
      "text/plain": [
       "  0%|          | 0/70 [00:00<?, ?it/s]"
      ]
     },
     "metadata": {},
     "output_type": "display_data"
    },
    {
     "name": "stderr",
     "output_type": "stream",
     "text": [
      "01:35:31 - cmdstanpy - INFO - Chain [1] start processing\n",
      "01:35:31 - cmdstanpy - INFO - Chain [1] done processing\n",
      "01:35:32 - cmdstanpy - INFO - Chain [1] start processing\n",
      "01:35:32 - cmdstanpy - INFO - Chain [1] done processing\n",
      "01:35:32 - cmdstanpy - INFO - Chain [1] start processing\n",
      "01:35:32 - cmdstanpy - INFO - Chain [1] start processing\n",
      "01:35:32 - cmdstanpy - INFO - Chain [1] start processing\n",
      "01:35:32 - cmdstanpy - INFO - Chain [1] start processing\n",
      "01:35:32 - cmdstanpy - INFO - Chain [1] start processing\n",
      "01:35:33 - cmdstanpy - INFO - Chain [1] start processing\n",
      "01:35:33 - cmdstanpy - INFO - Chain [1] start processing\n",
      "01:35:33 - cmdstanpy - INFO - Chain [1] start processing\n",
      "01:35:33 - cmdstanpy - INFO - Chain [1] done processing\n",
      "01:35:33 - cmdstanpy - INFO - Chain [1] done processing\n",
      "01:35:33 - cmdstanpy - INFO - Chain [1] done processing\n",
      "01:35:33 - cmdstanpy - INFO - Chain [1] start processing\n",
      "01:35:33 - cmdstanpy - INFO - Chain [1] done processing\n",
      "01:35:33 - cmdstanpy - INFO - Chain [1] done processing\n",
      "01:35:33 - cmdstanpy - INFO - Chain [1] done processing\n",
      "01:35:33 - cmdstanpy - INFO - Chain [1] done processing\n",
      "01:35:33 - cmdstanpy - INFO - Chain [1] done processing\n",
      "01:35:33 - cmdstanpy - INFO - Chain [1] done processing\n"
     ]
    },
    {
     "name": "stdout",
     "output_type": "stream",
     "text": [
      "[I 2025-08-23 01:35:34,000] Trial 0 finished with value: 292.3720539488811 and parameters: {'changepoint_prior_scale': 0.09493378491568327, 'seasonality_prior_scale': 6.716239929623618, 'holidays_prior_scale': 10.679558501300805}. Best is trial 0 with value: 292.3720539488811.\n"
     ]
    },
    {
     "name": "stderr",
     "output_type": "stream",
     "text": [
      "01:35:34 - cmdstanpy - INFO - Chain [1] start processing\n",
      "01:35:34 - cmdstanpy - INFO - Chain [1] done processing\n",
      "01:35:34 - cmdstanpy - INFO - Chain [1] start processing\n",
      "01:35:34 - cmdstanpy - INFO - Chain [1] done processing\n",
      "01:35:35 - cmdstanpy - INFO - Chain [1] start processing\n",
      "01:35:35 - cmdstanpy - INFO - Chain [1] start processing\n",
      "01:35:35 - cmdstanpy - INFO - Chain [1] start processing\n",
      "01:35:35 - cmdstanpy - INFO - Chain [1] done processing\n",
      "01:35:35 - cmdstanpy - INFO - Chain [1] start processing\n",
      "01:35:35 - cmdstanpy - INFO - Chain [1] start processing\n",
      "01:35:35 - cmdstanpy - INFO - Chain [1] start processing\n",
      "01:35:35 - cmdstanpy - INFO - Chain [1] start processing\n",
      "01:35:35 - cmdstanpy - INFO - Chain [1] start processing\n",
      "01:35:35 - cmdstanpy - INFO - Chain [1] start processing\n",
      "01:35:35 - cmdstanpy - INFO - Chain [1] done processing\n",
      "01:35:35 - cmdstanpy - INFO - Chain [1] done processing\n",
      "01:35:35 - cmdstanpy - INFO - Chain [1] done processing\n",
      "01:35:35 - cmdstanpy - INFO - Chain [1] done processing\n",
      "01:35:35 - cmdstanpy - INFO - Chain [1] done processing\n",
      "01:35:36 - cmdstanpy - INFO - Chain [1] done processing\n",
      "01:35:36 - cmdstanpy - INFO - Chain [1] done processing\n",
      "01:35:36 - cmdstanpy - INFO - Chain [1] done processing\n",
      "01:35:36 - cmdstanpy - INFO - Chain [1] start processing\n"
     ]
    },
    {
     "name": "stdout",
     "output_type": "stream",
     "text": [
      "[I 2025-08-23 01:35:36,487] Trial 1 finished with value: 293.3189795208338 and parameters: {'changepoint_prior_scale': 0.010477613643480647, 'seasonality_prior_scale': 0.2037872346794444, 'holidays_prior_scale': 2.0489729091729463}. Best is trial 0 with value: 292.3720539488811.\n"
     ]
    },
    {
     "name": "stderr",
     "output_type": "stream",
     "text": [
      "01:35:36 - cmdstanpy - INFO - Chain [1] done processing\n",
      "01:35:37 - cmdstanpy - INFO - Chain [1] start processing\n",
      "01:35:37 - cmdstanpy - INFO - Chain [1] done processing\n",
      "01:35:37 - cmdstanpy - INFO - Chain [1] start processing\n",
      "01:35:38 - cmdstanpy - INFO - Chain [1] start processing\n",
      "01:35:38 - cmdstanpy - INFO - Chain [1] done processing\n",
      "01:35:38 - cmdstanpy - INFO - Chain [1] start processing\n",
      "01:35:38 - cmdstanpy - INFO - Chain [1] start processing\n",
      "01:35:38 - cmdstanpy - INFO - Chain [1] start processing\n",
      "01:35:38 - cmdstanpy - INFO - Chain [1] start processing\n",
      "01:35:38 - cmdstanpy - INFO - Chain [1] start processing\n",
      "01:35:38 - cmdstanpy - INFO - Chain [1] start processing\n",
      "01:35:38 - cmdstanpy - INFO - Chain [1] start processing\n",
      "01:35:38 - cmdstanpy - INFO - Chain [1] done processing\n",
      "01:35:38 - cmdstanpy - INFO - Chain [1] done processing\n",
      "01:35:38 - cmdstanpy - INFO - Chain [1] done processing\n",
      "01:35:38 - cmdstanpy - INFO - Chain [1] done processing\n",
      "01:35:38 - cmdstanpy - INFO - Chain [1] done processing\n",
      "01:35:38 - cmdstanpy - INFO - Chain [1] done processing\n",
      "01:35:38 - cmdstanpy - INFO - Chain [1] done processing\n",
      "01:35:38 - cmdstanpy - INFO - Chain [1] done processing\n",
      "01:35:39 - cmdstanpy - INFO - Chain [1] start processing\n"
     ]
    },
    {
     "name": "stdout",
     "output_type": "stream",
     "text": [
      "[I 2025-08-23 01:35:39,116] Trial 2 finished with value: 291.49263701836026 and parameters: {'changepoint_prior_scale': 0.1375601695322433, 'seasonality_prior_scale': 0.01887909959943952, 'holidays_prior_scale': 0.37439144709078026}. Best is trial 2 with value: 291.49263701836026.\n"
     ]
    },
    {
     "name": "stderr",
     "output_type": "stream",
     "text": [
      "01:35:39 - cmdstanpy - INFO - Chain [1] done processing\n",
      "01:35:40 - cmdstanpy - INFO - Chain [1] start processing\n",
      "01:35:40 - cmdstanpy - INFO - Chain [1] start processing\n",
      "01:35:40 - cmdstanpy - INFO - Chain [1] start processing\n",
      "01:35:40 - cmdstanpy - INFO - Chain [1] done processing\n",
      "01:35:40 - cmdstanpy - INFO - Chain [1] start processing\n",
      "01:35:40 - cmdstanpy - INFO - Chain [1] done processing\n",
      "01:35:40 - cmdstanpy - INFO - Chain [1] start processing\n",
      "01:35:40 - cmdstanpy - INFO - Chain [1] done processing\n",
      "01:35:40 - cmdstanpy - INFO - Chain [1] start processing\n",
      "01:35:40 - cmdstanpy - INFO - Chain [1] start processing\n",
      "01:35:40 - cmdstanpy - INFO - Chain [1] start processing\n",
      "01:35:40 - cmdstanpy - INFO - Chain [1] start processing\n",
      "01:35:41 - cmdstanpy - INFO - Chain [1] start processing\n",
      "01:35:41 - cmdstanpy - INFO - Chain [1] done processing\n",
      "01:35:41 - cmdstanpy - INFO - Chain [1] done processing\n",
      "01:35:41 - cmdstanpy - INFO - Chain [1] done processing\n",
      "01:35:41 - cmdstanpy - INFO - Chain [1] done processing\n",
      "01:35:41 - cmdstanpy - INFO - Chain [1] done processing\n",
      "01:35:41 - cmdstanpy - INFO - Chain [1] done processing\n",
      "01:35:41 - cmdstanpy - INFO - Chain [1] done processing\n",
      "01:35:41 - cmdstanpy - INFO - Chain [1] start processing\n"
     ]
    },
    {
     "name": "stdout",
     "output_type": "stream",
     "text": [
      "[I 2025-08-23 01:35:41,838] Trial 3 finished with value: 294.2067007088656 and parameters: {'changepoint_prior_scale': 0.03386529230425616, 'seasonality_prior_scale': 6.093806973877461, 'holidays_prior_scale': 0.15178316932212638}. Best is trial 2 with value: 291.49263701836026.\n"
     ]
    },
    {
     "name": "stderr",
     "output_type": "stream",
     "text": [
      "01:35:42 - cmdstanpy - INFO - Chain [1] done processing\n",
      "01:35:42 - cmdstanpy - INFO - Chain [1] start processing\n",
      "01:35:42 - cmdstanpy - INFO - Chain [1] start processing\n",
      "01:35:42 - cmdstanpy - INFO - Chain [1] done processing\n",
      "01:35:42 - cmdstanpy - INFO - Chain [1] done processing\n",
      "01:35:43 - cmdstanpy - INFO - Chain [1] start processing\n",
      "01:35:43 - cmdstanpy - INFO - Chain [1] start processing\n",
      "01:35:43 - cmdstanpy - INFO - Chain [1] start processing\n",
      "01:35:43 - cmdstanpy - INFO - Chain [1] start processing\n",
      "01:35:43 - cmdstanpy - INFO - Chain [1] start processing\n",
      "01:35:43 - cmdstanpy - INFO - Chain [1] start processing\n",
      "01:35:43 - cmdstanpy - INFO - Chain [1] start processing\n",
      "01:35:43 - cmdstanpy - INFO - Chain [1] start processing\n",
      "01:35:43 - cmdstanpy - INFO - Chain [1] done processing\n",
      "01:35:43 - cmdstanpy - INFO - Chain [1] done processing\n",
      "01:35:43 - cmdstanpy - INFO - Chain [1] done processing\n",
      "01:35:43 - cmdstanpy - INFO - Chain [1] done processing\n",
      "01:35:43 - cmdstanpy - INFO - Chain [1] done processing\n",
      "01:35:43 - cmdstanpy - INFO - Chain [1] done processing\n",
      "01:35:43 - cmdstanpy - INFO - Chain [1] done processing\n",
      "01:35:43 - cmdstanpy - INFO - Chain [1] done processing\n",
      "01:35:44 - cmdstanpy - INFO - Chain [1] start processing\n"
     ]
    },
    {
     "name": "stdout",
     "output_type": "stream",
     "text": [
      "[I 2025-08-23 01:35:44,337] Trial 4 finished with value: 295.0268167238169 and parameters: {'changepoint_prior_scale': 0.006562143915382146, 'seasonality_prior_scale': 1.6955667893325923, 'holidays_prior_scale': 10.775304403211496}. Best is trial 2 with value: 291.49263701836026.\n"
     ]
    },
    {
     "name": "stderr",
     "output_type": "stream",
     "text": [
      "01:35:44 - cmdstanpy - INFO - Chain [1] done processing\n",
      "01:35:45 - cmdstanpy - INFO - Chain [1] start processing\n",
      "01:35:45 - cmdstanpy - INFO - Chain [1] done processing\n",
      "01:35:45 - cmdstanpy - INFO - Chain [1] start processing\n",
      "01:35:45 - cmdstanpy - INFO - Chain [1] start processing\n",
      "01:35:45 - cmdstanpy - INFO - Chain [1] start processing\n",
      "01:35:45 - cmdstanpy - INFO - Chain [1] start processing\n",
      "01:35:45 - cmdstanpy - INFO - Chain [1] start processing\n",
      "01:35:45 - cmdstanpy - INFO - Chain [1] start processing\n",
      "01:35:45 - cmdstanpy - INFO - Chain [1] start processing\n",
      "01:35:45 - cmdstanpy - INFO - Chain [1] start processing\n",
      "01:35:45 - cmdstanpy - INFO - Chain [1] done processing\n",
      "01:35:46 - cmdstanpy - INFO - Chain [1] done processing\n",
      "01:35:46 - cmdstanpy - INFO - Chain [1] start processing\n",
      "01:35:46 - cmdstanpy - INFO - Chain [1] done processing\n",
      "01:35:46 - cmdstanpy - INFO - Chain [1] done processing\n",
      "01:35:46 - cmdstanpy - INFO - Chain [1] done processing\n",
      "01:35:46 - cmdstanpy - INFO - Chain [1] done processing\n",
      "01:35:46 - cmdstanpy - INFO - Chain [1] done processing\n",
      "01:35:46 - cmdstanpy - ERROR - Chain [1] error: error during processing Operation not permitted\n",
      "01:35:46 - cmdstanpy - INFO - Chain [1] done processing\n",
      "01:35:46 - cmdstanpy - INFO - Chain [1] done processing\n",
      "Optimization terminated abnormally. Falling back to Newton.\n",
      "01:35:46 - cmdstanpy - INFO - Chain [1] start processing\n",
      "01:35:47 - cmdstanpy - INFO - Chain [1] done processing\n",
      "01:35:48 - cmdstanpy - INFO - Chain [1] start processing\n"
     ]
    },
    {
     "name": "stdout",
     "output_type": "stream",
     "text": [
      "[I 2025-08-23 01:35:48,093] Trial 5 finished with value: 301.5042103099087 and parameters: {'changepoint_prior_scale': 0.0022395162897677454, 'seasonality_prior_scale': 4.772282414089532, 'holidays_prior_scale': 0.13840368009422102}. Best is trial 2 with value: 291.49263701836026.\n"
     ]
    },
    {
     "name": "stderr",
     "output_type": "stream",
     "text": [
      "01:35:48 - cmdstanpy - INFO - Chain [1] done processing\n",
      "01:35:48 - cmdstanpy - ERROR - Chain [1] error: error during processing Operation not permitted\n",
      "Optimization terminated abnormally. Falling back to Newton.\n",
      "01:35:48 - cmdstanpy - INFO - Chain [1] start processing\n",
      "01:35:50 - cmdstanpy - INFO - Chain [1] done processing\n",
      "01:35:51 - cmdstanpy - INFO - Chain [1] start processing\n",
      "01:35:51 - cmdstanpy - INFO - Chain [1] start processing\n",
      "01:35:51 - cmdstanpy - INFO - Chain [1] done processing\n",
      "01:35:51 - cmdstanpy - ERROR - Chain [1] error: error during processing Operation not permitted\n",
      "01:35:51 - cmdstanpy - INFO - Chain [1] done processing\n",
      "Optimization terminated abnormally. Falling back to Newton.\n",
      "01:35:51 - cmdstanpy - ERROR - Chain [1] error: error during processing Operation not permitted\n",
      "01:35:51 - cmdstanpy - INFO - Chain [1] start processing\n",
      "01:35:51 - cmdstanpy - INFO - Chain [1] start processing\n",
      "Optimization terminated abnormally. Falling back to Newton.\n",
      "01:35:52 - cmdstanpy - INFO - Chain [1] start processing\n",
      "01:35:52 - cmdstanpy - INFO - Chain [1] start processing\n",
      "01:35:52 - cmdstanpy - INFO - Chain [1] done processing\n",
      "01:35:52 - cmdstanpy - INFO - Chain [1] start processing\n",
      "01:35:52 - cmdstanpy - INFO - Chain [1] done processing\n",
      "01:35:52 - cmdstanpy - INFO - Chain [1] start processing\n",
      "01:35:52 - cmdstanpy - INFO - Chain [1] start processing\n",
      "01:35:52 - cmdstanpy - ERROR - Chain [1] error: error during processing Operation not permitted\n",
      "01:35:52 - cmdstanpy - INFO - Chain [1] start processing\n",
      "01:35:52 - cmdstanpy - INFO - Chain [1] done processing\n",
      "01:35:52 - cmdstanpy - INFO - Chain [1] done processing\n",
      "01:35:52 - cmdstanpy - INFO - Chain [1] done processing\n",
      "Optimization terminated abnormally. Falling back to Newton.\n",
      "01:35:52 - cmdstanpy - ERROR - Chain [1] error: error during processing Operation not permitted\n",
      "01:35:52 - cmdstanpy - ERROR - Chain [1] error: error during processing Operation not permitted\n",
      "01:35:52 - cmdstanpy - INFO - Chain [1] start processing\n",
      "Optimization terminated abnormally. Falling back to Newton.\n",
      "01:35:52 - cmdstanpy - ERROR - Chain [1] error: error during processing Operation not permitted\n",
      "01:35:52 - cmdstanpy - INFO - Chain [1] start processing\n",
      "Optimization terminated abnormally. Falling back to Newton.\n",
      "01:35:52 - cmdstanpy - INFO - Chain [1] done processing\n",
      "01:35:52 - cmdstanpy - INFO - Chain [1] done processing\n",
      "Optimization terminated abnormally. Falling back to Newton.\n",
      "01:35:52 - cmdstanpy - ERROR - Chain [1] error: error during processing Operation not permitted\n",
      "01:35:52 - cmdstanpy - ERROR - Chain [1] error: error during processing Operation not permitted\n",
      "01:35:52 - cmdstanpy - INFO - Chain [1] done processing\n",
      "01:35:52 - cmdstanpy - INFO - Chain [1] start processing\n",
      "Optimization terminated abnormally. Falling back to Newton.\n",
      "01:35:53 - cmdstanpy - ERROR - Chain [1] error: error during processing Operation not permitted\n",
      "Optimization terminated abnormally. Falling back to Newton.\n",
      "01:35:53 - cmdstanpy - INFO - Chain [1] start processing\n",
      "Optimization terminated abnormally. Falling back to Newton.\n",
      "01:35:53 - cmdstanpy - INFO - Chain [1] start processing\n",
      "01:35:53 - cmdstanpy - INFO - Chain [1] start processing\n",
      "01:35:53 - cmdstanpy - INFO - Chain [1] start processing\n",
      "01:35:53 - cmdstanpy - INFO - Chain [1] start processing\n",
      "01:35:53 - cmdstanpy - INFO - Chain [1] start processing\n",
      "01:35:57 - cmdstanpy - INFO - Chain [1] done processing\n",
      "01:35:57 - cmdstanpy - INFO - Chain [1] done processing\n",
      "01:35:57 - cmdstanpy - INFO - Chain [1] done processing\n",
      "01:35:58 - cmdstanpy - INFO - Chain [1] done processing\n",
      "01:35:59 - cmdstanpy - INFO - Chain [1] done processing\n",
      "01:35:59 - cmdstanpy - INFO - Chain [1] done processing\n",
      "01:35:59 - cmdstanpy - INFO - Chain [1] done processing\n",
      "01:36:01 - cmdstanpy - INFO - Chain [1] done processing\n",
      "01:36:06 - cmdstanpy - INFO - Chain [1] done processing\n",
      "01:36:07 - cmdstanpy - INFO - Chain [1] start processing\n"
     ]
    },
    {
     "name": "stdout",
     "output_type": "stream",
     "text": [
      "[I 2025-08-23 01:36:07,009] Trial 6 finished with value: 325.46928378330296 and parameters: {'changepoint_prior_scale': 0.0002449749888173648, 'seasonality_prior_scale': 3.522879714524492, 'holidays_prior_scale': 20.153598589556278}. Best is trial 2 with value: 291.49263701836026.\n"
     ]
    },
    {
     "name": "stderr",
     "output_type": "stream",
     "text": [
      "01:36:07 - cmdstanpy - INFO - Chain [1] done processing\n",
      "01:36:08 - cmdstanpy - INFO - Chain [1] start processing\n",
      "01:36:08 - cmdstanpy - INFO - Chain [1] start processing\n",
      "01:36:08 - cmdstanpy - INFO - Chain [1] start processing\n",
      "01:36:08 - cmdstanpy - INFO - Chain [1] start processing\n",
      "01:36:08 - cmdstanpy - INFO - Chain [1] start processing\n",
      "01:36:08 - cmdstanpy - INFO - Chain [1] start processing\n",
      "01:36:08 - cmdstanpy - INFO - Chain [1] start processing\n",
      "01:36:08 - cmdstanpy - INFO - Chain [1] start processing\n",
      "01:36:08 - cmdstanpy - INFO - Chain [1] start processing\n",
      "01:36:08 - cmdstanpy - INFO - Chain [1] start processing\n",
      "01:36:08 - cmdstanpy - INFO - Chain [1] done processing\n",
      "01:36:08 - cmdstanpy - ERROR - Chain [1] error: error during processing Operation not permitted\n",
      "Optimization terminated abnormally. Falling back to Newton.\n",
      "01:36:08 - cmdstanpy - INFO - Chain [1] done processing\n",
      "01:36:08 - cmdstanpy - INFO - Chain [1] done processing\n",
      "01:36:08 - cmdstanpy - ERROR - Chain [1] error: error during processing Operation not permitted\n",
      "01:36:08 - cmdstanpy - ERROR - Chain [1] error: error during processing Operation not permitted\n",
      "Optimization terminated abnormally. Falling back to Newton.\n",
      "01:36:08 - cmdstanpy - INFO - Chain [1] done processing\n",
      "01:36:08 - cmdstanpy - INFO - Chain [1] done processing\n",
      "01:36:08 - cmdstanpy - INFO - Chain [1] done processing\n",
      "Optimization terminated abnormally. Falling back to Newton.\n",
      "01:36:08 - cmdstanpy - ERROR - Chain [1] error: error during processing Operation not permitted\n",
      "01:36:08 - cmdstanpy - ERROR - Chain [1] error: error during processing Operation not permitted\n",
      "01:36:09 - cmdstanpy - INFO - Chain [1] done processing\n",
      "01:36:09 - cmdstanpy - INFO - Chain [1] done processing\n",
      "Optimization terminated abnormally. Falling back to Newton.\n",
      "01:36:09 - cmdstanpy - INFO - Chain [1] done processing\n",
      "01:36:09 - cmdstanpy - INFO - Chain [1] done processing\n",
      "01:36:09 - cmdstanpy - INFO - Chain [1] start processing\n",
      "Optimization terminated abnormally. Falling back to Newton.\n",
      "01:36:09 - cmdstanpy - INFO - Chain [1] start processing\n",
      "01:36:09 - cmdstanpy - INFO - Chain [1] start processing\n",
      "01:36:09 - cmdstanpy - INFO - Chain [1] start processing\n",
      "01:36:09 - cmdstanpy - INFO - Chain [1] start processing\n",
      "01:36:12 - cmdstanpy - INFO - Chain [1] done processing\n",
      "01:36:12 - cmdstanpy - INFO - Chain [1] done processing\n",
      "01:36:12 - cmdstanpy - INFO - Chain [1] done processing\n",
      "01:36:15 - cmdstanpy - INFO - Chain [1] done processing\n",
      "01:36:15 - cmdstanpy - INFO - Chain [1] done processing\n",
      "01:36:15 - cmdstanpy - INFO - Chain [1] start processing\n"
     ]
    },
    {
     "name": "stdout",
     "output_type": "stream",
     "text": [
      "[I 2025-08-23 01:36:15,770] Trial 7 finished with value: 329.9167360199886 and parameters: {'changepoint_prior_scale': 0.0008027142980608215, 'seasonality_prior_scale': 0.08553574427354685, 'holidays_prior_scale': 0.10935808660264121}. Best is trial 2 with value: 291.49263701836026.\n"
     ]
    },
    {
     "name": "stderr",
     "output_type": "stream",
     "text": [
      "01:36:16 - cmdstanpy - INFO - Chain [1] done processing\n",
      "01:36:16 - cmdstanpy - INFO - Chain [1] start processing\n",
      "01:36:16 - cmdstanpy - INFO - Chain [1] done processing\n",
      "01:36:16 - cmdstanpy - INFO - Chain [1] start processing\n",
      "01:36:16 - cmdstanpy - INFO - Chain [1] start processing\n",
      "01:36:17 - cmdstanpy - INFO - Chain [1] done processing\n",
      "01:36:17 - cmdstanpy - INFO - Chain [1] start processing\n",
      "01:36:17 - cmdstanpy - INFO - Chain [1] start processing\n",
      "01:36:17 - cmdstanpy - INFO - Chain [1] start processing\n",
      "01:36:17 - cmdstanpy - INFO - Chain [1] start processing\n",
      "01:36:17 - cmdstanpy - INFO - Chain [1] done processing\n",
      "01:36:17 - cmdstanpy - INFO - Chain [1] start processing\n",
      "01:36:17 - cmdstanpy - INFO - Chain [1] start processing\n",
      "01:36:17 - cmdstanpy - INFO - Chain [1] start processing\n",
      "01:36:17 - cmdstanpy - INFO - Chain [1] done processing\n",
      "01:36:17 - cmdstanpy - INFO - Chain [1] done processing\n",
      "01:36:17 - cmdstanpy - INFO - Chain [1] done processing\n",
      "01:36:17 - cmdstanpy - INFO - Chain [1] done processing\n",
      "01:36:17 - cmdstanpy - INFO - Chain [1] done processing\n",
      "01:36:17 - cmdstanpy - INFO - Chain [1] done processing\n",
      "01:36:17 - cmdstanpy - INFO - Chain [1] done processing\n",
      "01:36:18 - cmdstanpy - INFO - Chain [1] start processing\n"
     ]
    },
    {
     "name": "stdout",
     "output_type": "stream",
     "text": [
      "[I 2025-08-23 01:36:18,201] Trial 8 finished with value: 311.7459899409996 and parameters: {'changepoint_prior_scale': 0.0176895488668418, 'seasonality_prior_scale': 3.624642644977257, 'holidays_prior_scale': 0.01333556981601548}. Best is trial 2 with value: 291.49263701836026.\n"
     ]
    },
    {
     "name": "stderr",
     "output_type": "stream",
     "text": [
      "01:36:18 - cmdstanpy - INFO - Chain [1] done processing\n",
      "01:36:19 - cmdstanpy - INFO - Chain [1] start processing\n",
      "01:36:19 - cmdstanpy - INFO - Chain [1] done processing\n",
      "01:36:19 - cmdstanpy - INFO - Chain [1] start processing\n",
      "01:36:19 - cmdstanpy - INFO - Chain [1] start processing\n",
      "01:36:19 - cmdstanpy - INFO - Chain [1] start processing\n",
      "01:36:19 - cmdstanpy - INFO - Chain [1] start processing\n",
      "01:36:19 - cmdstanpy - INFO - Chain [1] start processing\n",
      "01:36:19 - cmdstanpy - INFO - Chain [1] start processing\n",
      "01:36:19 - cmdstanpy - INFO - Chain [1] start processing\n",
      "01:36:19 - cmdstanpy - INFO - Chain [1] start processing\n",
      "01:36:19 - cmdstanpy - INFO - Chain [1] start processing\n",
      "01:36:20 - cmdstanpy - INFO - Chain [1] done processing\n",
      "01:36:20 - cmdstanpy - INFO - Chain [1] done processing\n",
      "01:36:20 - cmdstanpy - INFO - Chain [1] done processing\n",
      "01:36:20 - cmdstanpy - INFO - Chain [1] done processing\n",
      "01:36:20 - cmdstanpy - INFO - Chain [1] done processing\n",
      "01:36:20 - cmdstanpy - INFO - Chain [1] done processing\n",
      "01:36:20 - cmdstanpy - INFO - Chain [1] done processing\n",
      "01:36:20 - cmdstanpy - INFO - Chain [1] done processing\n",
      "01:36:20 - cmdstanpy - INFO - Chain [1] done processing\n",
      "01:36:21 - cmdstanpy - INFO - Chain [1] start processing\n"
     ]
    },
    {
     "name": "stdout",
     "output_type": "stream",
     "text": [
      "[I 2025-08-23 01:36:20,895] Trial 9 finished with value: 295.06014367493174 and parameters: {'changepoint_prior_scale': 0.36682037353742636, 'seasonality_prior_scale': 2.3729866209702624, 'holidays_prior_scale': 19.84321277936847}. Best is trial 2 with value: 291.49263701836026.\n"
     ]
    },
    {
     "name": "stderr",
     "output_type": "stream",
     "text": [
      "01:36:21 - cmdstanpy - INFO - Chain [1] done processing\n",
      "01:36:21 - cmdstanpy - INFO - Chain [1] start processing\n",
      "01:36:22 - cmdstanpy - INFO - Chain [1] done processing\n",
      "01:36:22 - cmdstanpy - INFO - Chain [1] start processing\n",
      "01:36:22 - cmdstanpy - INFO - Chain [1] start processing\n",
      "01:36:22 - cmdstanpy - INFO - Chain [1] start processing\n",
      "01:36:22 - cmdstanpy - INFO - Chain [1] start processing\n",
      "01:36:22 - cmdstanpy - INFO - Chain [1] start processing\n",
      "01:36:22 - cmdstanpy - INFO - Chain [1] start processing\n",
      "01:36:22 - cmdstanpy - INFO - Chain [1] start processing\n",
      "01:36:22 - cmdstanpy - INFO - Chain [1] start processing\n",
      "01:36:22 - cmdstanpy - INFO - Chain [1] done processing\n",
      "01:36:22 - cmdstanpy - INFO - Chain [1] done processing\n",
      "01:36:22 - cmdstanpy - INFO - Chain [1] start processing\n",
      "01:36:23 - cmdstanpy - INFO - Chain [1] done processing\n",
      "01:36:23 - cmdstanpy - INFO - Chain [1] done processing\n",
      "01:36:23 - cmdstanpy - INFO - Chain [1] done processing\n",
      "01:36:23 - cmdstanpy - INFO - Chain [1] done processing\n",
      "01:36:23 - cmdstanpy - INFO - Chain [1] done processing\n",
      "01:36:23 - cmdstanpy - INFO - Chain [1] done processing\n",
      "01:36:23 - cmdstanpy - INFO - Chain [1] done processing\n",
      "01:36:23 - cmdstanpy - INFO - Chain [1] start processing\n"
     ]
    },
    {
     "name": "stdout",
     "output_type": "stream",
     "text": [
      "[I 2025-08-23 01:36:23,694] Trial 10 finished with value: 291.7932395736092 and parameters: {'changepoint_prior_scale': 0.23209663264936803, 'seasonality_prior_scale': 0.01067909858015676, 'holidays_prior_scale': 0.859778231874683}. Best is trial 2 with value: 291.49263701836026.\n"
     ]
    },
    {
     "name": "stderr",
     "output_type": "stream",
     "text": [
      "01:36:24 - cmdstanpy - INFO - Chain [1] done processing\n",
      "01:36:24 - cmdstanpy - INFO - Chain [1] start processing\n",
      "01:36:24 - cmdstanpy - INFO - Chain [1] done processing\n",
      "01:36:25 - cmdstanpy - INFO - Chain [1] start processing\n",
      "01:36:25 - cmdstanpy - INFO - Chain [1] start processing\n",
      "01:36:25 - cmdstanpy - INFO - Chain [1] start processing\n",
      "01:36:25 - cmdstanpy - INFO - Chain [1] start processing\n",
      "01:36:25 - cmdstanpy - INFO - Chain [1] start processing\n",
      "01:36:25 - cmdstanpy - INFO - Chain [1] done processing\n",
      "01:36:25 - cmdstanpy - INFO - Chain [1] start processing\n",
      "01:36:25 - cmdstanpy - INFO - Chain [1] start processing\n",
      "01:36:25 - cmdstanpy - INFO - Chain [1] start processing\n",
      "01:36:25 - cmdstanpy - INFO - Chain [1] done processing\n",
      "01:36:25 - cmdstanpy - INFO - Chain [1] done processing\n",
      "01:36:25 - cmdstanpy - INFO - Chain [1] start processing\n",
      "01:36:25 - cmdstanpy - INFO - Chain [1] done processing\n",
      "01:36:25 - cmdstanpy - INFO - Chain [1] done processing\n",
      "01:36:25 - cmdstanpy - INFO - Chain [1] done processing\n",
      "01:36:25 - cmdstanpy - INFO - Chain [1] done processing\n",
      "01:36:25 - cmdstanpy - INFO - Chain [1] done processing\n",
      "01:36:25 - cmdstanpy - INFO - Chain [1] done processing\n",
      "01:36:26 - cmdstanpy - INFO - Chain [1] start processing\n"
     ]
    },
    {
     "name": "stdout",
     "output_type": "stream",
     "text": [
      "[I 2025-08-23 01:36:26,320] Trial 11 finished with value: 293.676476829162 and parameters: {'changepoint_prior_scale': 0.3999455101776126, 'seasonality_prior_scale': 0.011382650104884618, 'holidays_prior_scale': 0.9935307584137414}. Best is trial 2 with value: 291.49263701836026.\n"
     ]
    },
    {
     "name": "stderr",
     "output_type": "stream",
     "text": [
      "01:36:26 - cmdstanpy - INFO - Chain [1] done processing\n",
      "01:36:27 - cmdstanpy - INFO - Chain [1] start processing\n",
      "01:36:27 - cmdstanpy - INFO - Chain [1] done processing\n",
      "01:36:27 - cmdstanpy - INFO - Chain [1] start processing\n",
      "01:36:27 - cmdstanpy - INFO - Chain [1] start processing\n",
      "01:36:27 - cmdstanpy - INFO - Chain [1] done processing\n",
      "01:36:27 - cmdstanpy - INFO - Chain [1] start processing\n",
      "01:36:28 - cmdstanpy - INFO - Chain [1] start processing\n",
      "01:36:28 - cmdstanpy - INFO - Chain [1] done processing\n",
      "01:36:28 - cmdstanpy - INFO - Chain [1] start processing\n",
      "01:36:28 - cmdstanpy - INFO - Chain [1] start processing\n",
      "01:36:28 - cmdstanpy - INFO - Chain [1] start processing\n",
      "01:36:28 - cmdstanpy - INFO - Chain [1] start processing\n",
      "01:36:28 - cmdstanpy - INFO - Chain [1] start processing\n",
      "01:36:28 - cmdstanpy - INFO - Chain [1] done processing\n",
      "01:36:28 - cmdstanpy - INFO - Chain [1] done processing\n",
      "01:36:28 - cmdstanpy - INFO - Chain [1] done processing\n",
      "01:36:28 - cmdstanpy - INFO - Chain [1] done processing\n",
      "01:36:28 - cmdstanpy - INFO - Chain [1] done processing\n",
      "01:36:28 - cmdstanpy - INFO - Chain [1] done processing\n",
      "01:36:28 - cmdstanpy - INFO - Chain [1] done processing\n",
      "01:36:29 - cmdstanpy - INFO - Chain [1] start processing\n"
     ]
    },
    {
     "name": "stdout",
     "output_type": "stream",
     "text": [
      "[I 2025-08-23 01:36:28,887] Trial 12 finished with value: 294.0982629767818 and parameters: {'changepoint_prior_scale': 0.09934122446015074, 'seasonality_prior_scale': 0.010201697230068417, 'holidays_prior_scale': 2.2237790755238436}. Best is trial 2 with value: 291.49263701836026.\n"
     ]
    },
    {
     "name": "stderr",
     "output_type": "stream",
     "text": [
      "01:36:29 - cmdstanpy - INFO - Chain [1] done processing\n",
      "01:36:29 - cmdstanpy - INFO - Chain [1] start processing\n",
      "01:36:30 - cmdstanpy - INFO - Chain [1] start processing\n",
      "01:36:30 - cmdstanpy - INFO - Chain [1] done processing\n",
      "01:36:30 - cmdstanpy - INFO - Chain [1] done processing\n",
      "01:36:30 - cmdstanpy - INFO - Chain [1] start processing\n",
      "01:36:30 - cmdstanpy - INFO - Chain [1] start processing\n",
      "01:36:30 - cmdstanpy - INFO - Chain [1] start processing\n",
      "01:36:30 - cmdstanpy - INFO - Chain [1] start processing\n",
      "01:36:30 - cmdstanpy - INFO - Chain [1] start processing\n",
      "01:36:30 - cmdstanpy - INFO - Chain [1] start processing\n",
      "01:36:30 - cmdstanpy - INFO - Chain [1] start processing\n",
      "01:36:30 - cmdstanpy - INFO - Chain [1] start processing\n",
      "01:36:31 - cmdstanpy - INFO - Chain [1] done processing\n",
      "01:36:31 - cmdstanpy - INFO - Chain [1] done processing\n",
      "01:36:31 - cmdstanpy - INFO - Chain [1] done processing\n",
      "01:36:31 - cmdstanpy - INFO - Chain [1] done processing\n",
      "01:36:31 - cmdstanpy - INFO - Chain [1] done processing\n",
      "01:36:31 - cmdstanpy - INFO - Chain [1] done processing\n",
      "01:36:31 - cmdstanpy - INFO - Chain [1] done processing\n",
      "01:36:31 - cmdstanpy - INFO - Chain [1] done processing\n",
      "01:36:31 - cmdstanpy - INFO - Chain [1] start processing\n"
     ]
    },
    {
     "name": "stdout",
     "output_type": "stream",
     "text": [
      "[I 2025-08-23 01:36:31,714] Trial 13 finished with value: 292.10746241219084 and parameters: {'changepoint_prior_scale': 0.0932669537735299, 'seasonality_prior_scale': 33.43210677092482, 'holidays_prior_scale': 0.4150067189971274}. Best is trial 2 with value: 291.49263701836026.\n"
     ]
    },
    {
     "name": "stderr",
     "output_type": "stream",
     "text": [
      "01:36:32 - cmdstanpy - INFO - Chain [1] done processing\n",
      "01:36:32 - cmdstanpy - INFO - Chain [1] start processing\n",
      "01:36:32 - cmdstanpy - INFO - Chain [1] done processing\n",
      "01:36:33 - cmdstanpy - INFO - Chain [1] start processing\n",
      "01:36:33 - cmdstanpy - INFO - Chain [1] start processing\n",
      "01:36:33 - cmdstanpy - INFO - Chain [1] start processing\n",
      "01:36:33 - cmdstanpy - INFO - Chain [1] start processing\n",
      "01:36:33 - cmdstanpy - INFO - Chain [1] start processing\n",
      "01:36:33 - cmdstanpy - INFO - Chain [1] start processing\n",
      "01:36:33 - cmdstanpy - INFO - Chain [1] done processing\n",
      "01:36:33 - cmdstanpy - INFO - Chain [1] start processing\n",
      "01:36:33 - cmdstanpy - INFO - Chain [1] start processing\n",
      "01:36:33 - cmdstanpy - INFO - Chain [1] start processing\n",
      "01:36:33 - cmdstanpy - INFO - Chain [1] done processing\n",
      "01:36:33 - cmdstanpy - INFO - Chain [1] done processing\n",
      "01:36:33 - cmdstanpy - INFO - Chain [1] done processing\n",
      "01:36:33 - cmdstanpy - INFO - Chain [1] done processing\n",
      "01:36:33 - cmdstanpy - INFO - Chain [1] done processing\n",
      "01:36:34 - cmdstanpy - INFO - Chain [1] done processing\n",
      "01:36:34 - cmdstanpy - INFO - Chain [1] done processing\n",
      "01:36:34 - cmdstanpy - INFO - Chain [1] done processing\n",
      "01:36:34 - cmdstanpy - INFO - Chain [1] start processing\n"
     ]
    },
    {
     "name": "stdout",
     "output_type": "stream",
     "text": [
      "[I 2025-08-23 01:36:34,484] Trial 14 finished with value: 313.16378649886894 and parameters: {'changepoint_prior_scale': 0.463097002697965, 'seasonality_prior_scale': 0.043589651422274125, 'holidays_prior_scale': 0.015425649090123192}. Best is trial 2 with value: 291.49263701836026.\n"
     ]
    },
    {
     "name": "stderr",
     "output_type": "stream",
     "text": [
      "01:36:34 - cmdstanpy - INFO - Chain [1] done processing\n",
      "01:36:35 - cmdstanpy - INFO - Chain [1] start processing\n",
      "01:36:35 - cmdstanpy - INFO - Chain [1] done processing\n",
      "01:36:35 - cmdstanpy - INFO - Chain [1] start processing\n",
      "01:36:35 - cmdstanpy - INFO - Chain [1] start processing\n",
      "01:36:36 - cmdstanpy - INFO - Chain [1] start processing\n",
      "01:36:36 - cmdstanpy - INFO - Chain [1] start processing\n",
      "01:36:36 - cmdstanpy - INFO - Chain [1] start processing\n",
      "01:36:36 - cmdstanpy - INFO - Chain [1] start processing\n",
      "01:36:36 - cmdstanpy - INFO - Chain [1] start processing\n",
      "01:36:36 - cmdstanpy - INFO - Chain [1] start processing\n",
      "01:36:36 - cmdstanpy - INFO - Chain [1] start processing\n",
      "01:36:36 - cmdstanpy - INFO - Chain [1] done processing\n",
      "01:36:36 - cmdstanpy - INFO - Chain [1] done processing\n",
      "01:36:36 - cmdstanpy - INFO - Chain [1] done processing\n",
      "01:36:36 - cmdstanpy - INFO - Chain [1] done processing\n",
      "01:36:36 - cmdstanpy - INFO - Chain [1] done processing\n",
      "01:36:36 - cmdstanpy - INFO - Chain [1] done processing\n",
      "01:36:36 - cmdstanpy - INFO - Chain [1] done processing\n",
      "01:36:36 - cmdstanpy - INFO - Chain [1] done processing\n",
      "01:36:36 - cmdstanpy - INFO - Chain [1] done processing\n"
     ]
    },
    {
     "name": "stdout",
     "output_type": "stream",
     "text": [
      "[I 2025-08-23 01:36:37,114] Trial 15 finished with value: 293.4186616452905 and parameters: {'changepoint_prior_scale': 0.050957803370470824, 'seasonality_prior_scale': 0.0327431925388406, 'holidays_prior_scale': 0.4914790579483709}. Best is trial 2 with value: 291.49263701836026.\n"
     ]
    },
    {
     "name": "stderr",
     "output_type": "stream",
     "text": [
      "01:36:37 - cmdstanpy - INFO - Chain [1] start processing\n",
      "01:36:37 - cmdstanpy - INFO - Chain [1] done processing\n",
      "01:36:38 - cmdstanpy - INFO - Chain [1] start processing\n",
      "01:36:38 - cmdstanpy - INFO - Chain [1] done processing\n",
      "01:36:38 - cmdstanpy - INFO - Chain [1] start processing\n",
      "01:36:38 - cmdstanpy - INFO - Chain [1] start processing\n",
      "01:36:38 - cmdstanpy - INFO - Chain [1] start processing\n",
      "01:36:38 - cmdstanpy - INFO - Chain [1] start processing\n",
      "01:36:38 - cmdstanpy - INFO - Chain [1] done processing\n",
      "01:36:38 - cmdstanpy - INFO - Chain [1] done processing\n",
      "01:36:38 - cmdstanpy - INFO - Chain [1] done processing\n",
      "01:36:39 - cmdstanpy - INFO - Chain [1] done processing\n",
      "01:36:39 - cmdstanpy - INFO - Chain [1] start processing\n",
      "01:36:39 - cmdstanpy - INFO - Chain [1] start processing\n",
      "01:36:39 - cmdstanpy - INFO - Chain [1] start processing\n",
      "01:36:39 - cmdstanpy - INFO - Chain [1] start processing\n",
      "01:36:39 - cmdstanpy - INFO - Chain [1] start processing\n",
      "01:36:39 - cmdstanpy - INFO - Chain [1] done processing\n",
      "01:36:39 - cmdstanpy - INFO - Chain [1] done processing\n",
      "01:36:39 - cmdstanpy - INFO - Chain [1] done processing\n",
      "01:36:39 - cmdstanpy - INFO - Chain [1] done processing\n",
      "01:36:39 - cmdstanpy - INFO - Chain [1] done processing\n",
      "01:36:40 - cmdstanpy - INFO - Chain [1] start processing\n"
     ]
    },
    {
     "name": "stdout",
     "output_type": "stream",
     "text": [
      "[I 2025-08-23 01:36:39,957] Trial 16 finished with value: 293.31747848715037 and parameters: {'changepoint_prior_scale': 0.17122092420197657, 'seasonality_prior_scale': 0.2838441060477908, 'holidays_prior_scale': 0.05114985292133861}. Best is trial 2 with value: 291.49263701836026.\n"
     ]
    },
    {
     "name": "stderr",
     "output_type": "stream",
     "text": [
      "01:36:40 - cmdstanpy - INFO - Chain [1] done processing\n",
      "01:36:40 - cmdstanpy - INFO - Chain [1] start processing\n",
      "01:36:40 - cmdstanpy - INFO - Chain [1] done processing\n",
      "01:36:41 - cmdstanpy - INFO - Chain [1] start processing\n",
      "01:36:41 - cmdstanpy - INFO - Chain [1] start processing\n",
      "01:36:41 - cmdstanpy - INFO - Chain [1] start processing\n",
      "01:36:41 - cmdstanpy - INFO - Chain [1] start processing\n",
      "01:36:41 - cmdstanpy - INFO - Chain [1] start processing\n",
      "01:36:41 - cmdstanpy - INFO - Chain [1] start processing\n",
      "01:36:41 - cmdstanpy - INFO - Chain [1] start processing\n",
      "01:36:41 - cmdstanpy - INFO - Chain [1] start processing\n",
      "01:36:41 - cmdstanpy - INFO - Chain [1] done processing\n",
      "01:36:42 - cmdstanpy - INFO - Chain [1] done processing\n",
      "01:36:42 - cmdstanpy - INFO - Chain [1] done processing\n",
      "01:36:42 - cmdstanpy - INFO - Chain [1] done processing\n",
      "01:36:42 - cmdstanpy - INFO - Chain [1] start processing\n",
      "01:36:42 - cmdstanpy - INFO - Chain [1] done processing\n",
      "01:36:42 - cmdstanpy - INFO - Chain [1] done processing\n",
      "01:36:42 - cmdstanpy - INFO - Chain [1] done processing\n",
      "01:36:42 - cmdstanpy - INFO - Chain [1] done processing\n",
      "01:36:42 - cmdstanpy - INFO - Chain [1] done processing\n",
      "01:36:42 - cmdstanpy - INFO - Chain [1] start processing\n"
     ]
    },
    {
     "name": "stdout",
     "output_type": "stream",
     "text": [
      "[I 2025-08-23 01:36:42,671] Trial 17 finished with value: 296.4668277456084 and parameters: {'changepoint_prior_scale': 0.005051829159885505, 'seasonality_prior_scale': 0.026756348865931763, 'holidays_prior_scale': 3.6858219482789445}. Best is trial 2 with value: 291.49263701836026.\n"
     ]
    },
    {
     "name": "stderr",
     "output_type": "stream",
     "text": [
      "01:36:42 - cmdstanpy - INFO - Chain [1] done processing\n",
      "01:36:43 - cmdstanpy - INFO - Chain [1] start processing\n",
      "01:36:43 - cmdstanpy - INFO - Chain [1] done processing\n",
      "01:36:44 - cmdstanpy - INFO - Chain [1] start processing\n",
      "01:36:44 - cmdstanpy - INFO - Chain [1] start processing\n",
      "01:36:44 - cmdstanpy - INFO - Chain [1] start processing\n",
      "01:36:44 - cmdstanpy - INFO - Chain [1] start processing\n",
      "01:36:44 - cmdstanpy - INFO - Chain [1] start processing\n",
      "01:36:44 - cmdstanpy - INFO - Chain [1] start processing\n",
      "01:36:44 - cmdstanpy - INFO - Chain [1] start processing\n",
      "01:36:44 - cmdstanpy - INFO - Chain [1] start processing\n",
      "01:36:44 - cmdstanpy - INFO - Chain [1] start processing\n",
      "01:36:44 - cmdstanpy - INFO - Chain [1] done processing\n",
      "01:36:44 - cmdstanpy - INFO - Chain [1] done processing\n",
      "01:36:44 - cmdstanpy - INFO - Chain [1] done processing\n",
      "01:36:44 - cmdstanpy - INFO - Chain [1] done processing\n",
      "01:36:44 - cmdstanpy - INFO - Chain [1] done processing\n",
      "01:36:44 - cmdstanpy - INFO - Chain [1] done processing\n",
      "01:36:44 - cmdstanpy - INFO - Chain [1] done processing\n",
      "01:36:44 - cmdstanpy - INFO - Chain [1] done processing\n",
      "01:36:44 - cmdstanpy - INFO - Chain [1] done processing\n",
      "01:36:45 - cmdstanpy - INFO - Chain [1] start processing\n"
     ]
    },
    {
     "name": "stdout",
     "output_type": "stream",
     "text": [
      "[I 2025-08-23 01:36:45,179] Trial 18 finished with value: 293.9280525916189 and parameters: {'changepoint_prior_scale': 0.031512716860827406, 'seasonality_prior_scale': 0.10818913699200462, 'holidays_prior_scale': 0.9284355948105847}. Best is trial 2 with value: 291.49263701836026.\n"
     ]
    },
    {
     "name": "stderr",
     "output_type": "stream",
     "text": [
      "01:36:45 - cmdstanpy - INFO - Chain [1] done processing\n",
      "01:36:46 - cmdstanpy - INFO - Chain [1] start processing\n",
      "01:36:46 - cmdstanpy - INFO - Chain [1] start processing\n",
      "01:36:46 - cmdstanpy - INFO - Chain [1] start processing\n",
      "01:36:46 - cmdstanpy - INFO - Chain [1] done processing\n",
      "01:36:46 - cmdstanpy - INFO - Chain [1] done processing\n",
      "01:36:46 - cmdstanpy - INFO - Chain [1] start processing\n",
      "01:36:46 - cmdstanpy - INFO - Chain [1] start processing\n",
      "01:36:46 - cmdstanpy - INFO - Chain [1] start processing\n",
      "01:36:46 - cmdstanpy - INFO - Chain [1] done processing\n",
      "01:36:46 - cmdstanpy - INFO - Chain [1] start processing\n",
      "01:36:46 - cmdstanpy - INFO - Chain [1] start processing\n",
      "01:36:47 - cmdstanpy - INFO - Chain [1] start processing\n",
      "01:36:47 - cmdstanpy - INFO - Chain [1] start processing\n",
      "01:36:47 - cmdstanpy - INFO - Chain [1] done processing\n",
      "01:36:47 - cmdstanpy - INFO - Chain [1] done processing\n",
      "01:36:47 - cmdstanpy - INFO - Chain [1] done processing\n",
      "01:36:47 - cmdstanpy - INFO - Chain [1] done processing\n",
      "01:36:47 - cmdstanpy - INFO - Chain [1] done processing\n",
      "01:36:47 - cmdstanpy - INFO - Chain [1] done processing\n",
      "01:36:47 - cmdstanpy - INFO - Chain [1] done processing\n",
      "01:36:48 - cmdstanpy - INFO - Chain [1] start processing\n"
     ]
    },
    {
     "name": "stdout",
     "output_type": "stream",
     "text": [
      "[I 2025-08-23 01:36:47,866] Trial 19 finished with value: 291.85723622667814 and parameters: {'changepoint_prior_scale': 0.20871876037469536, 'seasonality_prior_scale': 0.7947094427108868, 'holidays_prior_scale': 0.2804965619843631}. Best is trial 2 with value: 291.49263701836026.\n"
     ]
    },
    {
     "name": "stderr",
     "output_type": "stream",
     "text": [
      "01:36:48 - cmdstanpy - INFO - Chain [1] done processing\n",
      "01:36:48 - cmdstanpy - INFO - Chain [1] start processing\n",
      "01:36:48 - cmdstanpy - INFO - Chain [1] done processing\n",
      "01:36:49 - cmdstanpy - INFO - Chain [1] start processing\n",
      "01:36:49 - cmdstanpy - INFO - Chain [1] start processing\n",
      "01:36:49 - cmdstanpy - INFO - Chain [1] start processing\n",
      "01:36:49 - cmdstanpy - INFO - Chain [1] start processing\n",
      "01:36:49 - cmdstanpy - INFO - Chain [1] start processing\n",
      "01:36:49 - cmdstanpy - INFO - Chain [1] start processing\n",
      "01:36:49 - cmdstanpy - INFO - Chain [1] start processing\n",
      "01:36:49 - cmdstanpy - INFO - Chain [1] start processing\n",
      "01:36:49 - cmdstanpy - INFO - Chain [1] start processing\n",
      "01:36:49 - cmdstanpy - INFO - Chain [1] done processing\n",
      "01:36:49 - cmdstanpy - INFO - Chain [1] done processing\n",
      "01:36:49 - cmdstanpy - INFO - Chain [1] done processing\n",
      "01:36:49 - cmdstanpy - INFO - Chain [1] done processing\n",
      "01:36:49 - cmdstanpy - INFO - Chain [1] done processing\n",
      "01:36:49 - cmdstanpy - ERROR - Chain [1] error: error during processing Operation not permitted\n",
      "01:36:49 - cmdstanpy - INFO - Chain [1] done processing\n",
      "Optimization terminated abnormally. Falling back to Newton.\n",
      "01:36:49 - cmdstanpy - INFO - Chain [1] done processing\n",
      "01:36:49 - cmdstanpy - INFO - Chain [1] done processing\n",
      "01:36:50 - cmdstanpy - INFO - Chain [1] done processing\n",
      "01:36:50 - cmdstanpy - INFO - Chain [1] start processing\n",
      "01:36:51 - cmdstanpy - INFO - Chain [1] done processing\n",
      "01:36:52 - cmdstanpy - INFO - Chain [1] start processing\n"
     ]
    },
    {
     "name": "stdout",
     "output_type": "stream",
     "text": [
      "[I 2025-08-23 01:36:51,836] Trial 20 finished with value: 304.88783687253715 and parameters: {'changepoint_prior_scale': 0.0016979929136925868, 'seasonality_prior_scale': 0.0184612365085104, 'holidays_prior_scale': 0.037481910962667314}. Best is trial 2 with value: 291.49263701836026.\n"
     ]
    },
    {
     "name": "stderr",
     "output_type": "stream",
     "text": [
      "01:36:52 - cmdstanpy - INFO - Chain [1] done processing\n",
      "01:36:52 - cmdstanpy - INFO - Chain [1] start processing\n",
      "01:36:52 - cmdstanpy - INFO - Chain [1] start processing\n",
      "01:36:52 - cmdstanpy - INFO - Chain [1] done processing\n",
      "01:36:53 - cmdstanpy - INFO - Chain [1] done processing\n",
      "01:36:53 - cmdstanpy - INFO - Chain [1] start processing\n",
      "01:36:53 - cmdstanpy - INFO - Chain [1] start processing\n",
      "01:36:53 - cmdstanpy - INFO - Chain [1] start processing\n",
      "01:36:53 - cmdstanpy - INFO - Chain [1] done processing\n",
      "01:36:53 - cmdstanpy - INFO - Chain [1] start processing\n",
      "01:36:53 - cmdstanpy - INFO - Chain [1] done processing\n",
      "01:36:53 - cmdstanpy - INFO - Chain [1] start processing\n",
      "01:36:53 - cmdstanpy - INFO - Chain [1] done processing\n",
      "01:36:53 - cmdstanpy - INFO - Chain [1] start processing\n",
      "01:36:53 - cmdstanpy - INFO - Chain [1] start processing\n",
      "01:36:53 - cmdstanpy - INFO - Chain [1] start processing\n",
      "01:36:54 - cmdstanpy - INFO - Chain [1] done processing\n",
      "01:36:54 - cmdstanpy - INFO - Chain [1] done processing\n",
      "01:36:54 - cmdstanpy - INFO - Chain [1] done processing\n",
      "01:36:54 - cmdstanpy - INFO - Chain [1] done processing\n",
      "01:36:54 - cmdstanpy - INFO - Chain [1] done processing\n",
      "01:36:54 - cmdstanpy - INFO - Chain [1] start processing\n"
     ]
    },
    {
     "name": "stdout",
     "output_type": "stream",
     "text": [
      "[I 2025-08-23 01:36:54,464] Trial 21 finished with value: 292.24251183723874 and parameters: {'changepoint_prior_scale': 0.23247527378311084, 'seasonality_prior_scale': 1.0164869245785335, 'holidays_prior_scale': 0.3030075759916555}. Best is trial 2 with value: 291.49263701836026.\n"
     ]
    },
    {
     "name": "stderr",
     "output_type": "stream",
     "text": [
      "01:36:54 - cmdstanpy - INFO - Chain [1] done processing\n",
      "01:36:55 - cmdstanpy - INFO - Chain [1] start processing\n",
      "01:36:55 - cmdstanpy - INFO - Chain [1] start processing\n",
      "01:36:55 - cmdstanpy - INFO - Chain [1] start processing\n",
      "01:36:55 - cmdstanpy - INFO - Chain [1] done processing\n",
      "01:36:56 - cmdstanpy - INFO - Chain [1] done processing\n",
      "01:36:56 - cmdstanpy - INFO - Chain [1] done processing\n",
      "01:36:56 - cmdstanpy - INFO - Chain [1] start processing\n",
      "01:36:56 - cmdstanpy - INFO - Chain [1] start processing\n",
      "01:36:56 - cmdstanpy - INFO - Chain [1] start processing\n",
      "01:36:56 - cmdstanpy - INFO - Chain [1] start processing\n",
      "01:36:56 - cmdstanpy - INFO - Chain [1] start processing\n",
      "01:36:56 - cmdstanpy - INFO - Chain [1] start processing\n",
      "01:36:56 - cmdstanpy - INFO - Chain [1] start processing\n",
      "01:36:56 - cmdstanpy - INFO - Chain [1] done processing\n",
      "01:36:56 - cmdstanpy - INFO - Chain [1] done processing\n",
      "01:36:56 - cmdstanpy - INFO - Chain [1] done processing\n",
      "01:36:56 - cmdstanpy - INFO - Chain [1] done processing\n",
      "01:36:56 - cmdstanpy - INFO - Chain [1] done processing\n",
      "01:36:56 - cmdstanpy - INFO - Chain [1] done processing\n",
      "01:36:56 - cmdstanpy - INFO - Chain [1] done processing\n",
      "01:36:57 - cmdstanpy - INFO - Chain [1] start processing\n"
     ]
    },
    {
     "name": "stdout",
     "output_type": "stream",
     "text": [
      "[I 2025-08-23 01:36:57,245] Trial 22 finished with value: 290.5432443805131 and parameters: {'changepoint_prior_scale': 0.17164280620741756, 'seasonality_prior_scale': 0.5015631719212373, 'holidays_prior_scale': 1.1315444759015028}. Best is trial 22 with value: 290.5432443805131.\n"
     ]
    },
    {
     "name": "stderr",
     "output_type": "stream",
     "text": [
      "01:36:57 - cmdstanpy - INFO - Chain [1] done processing\n",
      "01:36:58 - cmdstanpy - INFO - Chain [1] start processing\n",
      "01:36:58 - cmdstanpy - INFO - Chain [1] start processing\n",
      "01:36:58 - cmdstanpy - INFO - Chain [1] start processing\n",
      "01:36:58 - cmdstanpy - INFO - Chain [1] start processing\n",
      "01:36:58 - cmdstanpy - INFO - Chain [1] start processing\n",
      "01:36:58 - cmdstanpy - INFO - Chain [1] start processing\n",
      "01:36:58 - cmdstanpy - INFO - Chain [1] done processing\n",
      "01:36:58 - cmdstanpy - INFO - Chain [1] start processing\n",
      "01:36:58 - cmdstanpy - INFO - Chain [1] start processing\n",
      "01:36:59 - cmdstanpy - INFO - Chain [1] start processing\n",
      "01:36:59 - cmdstanpy - INFO - Chain [1] done processing\n",
      "01:36:59 - cmdstanpy - INFO - Chain [1] done processing\n",
      "01:36:59 - cmdstanpy - INFO - Chain [1] done processing\n",
      "01:36:59 - cmdstanpy - INFO - Chain [1] done processing\n",
      "01:36:59 - cmdstanpy - INFO - Chain [1] done processing\n",
      "01:36:59 - cmdstanpy - INFO - Chain [1] done processing\n",
      "01:36:59 - cmdstanpy - INFO - Chain [1] done processing\n",
      "01:36:59 - cmdstanpy - INFO - Chain [1] start processing\n",
      "01:36:59 - cmdstanpy - INFO - Chain [1] done processing\n",
      "01:36:59 - cmdstanpy - INFO - Chain [1] done processing\n",
      "01:37:00 - cmdstanpy - INFO - Chain [1] start processing\n"
     ]
    },
    {
     "name": "stdout",
     "output_type": "stream",
     "text": [
      "[I 2025-08-23 01:36:59,978] Trial 23 finished with value: 293.06266313603 and parameters: {'changepoint_prior_scale': 0.05543922210423381, 'seasonality_prior_scale': 0.059533714762992955, 'holidays_prior_scale': 1.6301095563424275}. Best is trial 22 with value: 290.5432443805131.\n"
     ]
    },
    {
     "name": "stderr",
     "output_type": "stream",
     "text": [
      "01:37:00 - cmdstanpy - INFO - Chain [1] done processing\n",
      "01:37:01 - cmdstanpy - INFO - Chain [1] start processing\n",
      "01:37:01 - cmdstanpy - INFO - Chain [1] start processing\n",
      "01:37:01 - cmdstanpy - INFO - Chain [1] start processing\n",
      "01:37:01 - cmdstanpy - INFO - Chain [1] start processing\n",
      "01:37:01 - cmdstanpy - INFO - Chain [1] start processing\n",
      "01:37:01 - cmdstanpy - INFO - Chain [1] start processing\n",
      "01:37:01 - cmdstanpy - INFO - Chain [1] start processing\n",
      "01:37:01 - cmdstanpy - INFO - Chain [1] start processing\n",
      "01:37:01 - cmdstanpy - INFO - Chain [1] done processing\n",
      "01:37:01 - cmdstanpy - INFO - Chain [1] start processing\n",
      "01:37:01 - cmdstanpy - INFO - Chain [1] start processing\n",
      "01:37:01 - cmdstanpy - INFO - Chain [1] done processing\n",
      "01:37:01 - cmdstanpy - INFO - Chain [1] done processing\n",
      "01:37:02 - cmdstanpy - INFO - Chain [1] done processing\n",
      "01:37:02 - cmdstanpy - INFO - Chain [1] done processing\n",
      "01:37:02 - cmdstanpy - INFO - Chain [1] done processing\n",
      "01:37:02 - cmdstanpy - INFO - Chain [1] done processing\n",
      "01:37:02 - cmdstanpy - INFO - Chain [1] done processing\n",
      "01:37:02 - cmdstanpy - INFO - Chain [1] done processing\n",
      "01:37:02 - cmdstanpy - INFO - Chain [1] done processing\n",
      "01:37:02 - cmdstanpy - INFO - Chain [1] start processing\n"
     ]
    },
    {
     "name": "stdout",
     "output_type": "stream",
     "text": [
      "[I 2025-08-23 01:37:02,547] Trial 24 finished with value: 290.96128557809806 and parameters: {'changepoint_prior_scale': 0.15509317782137796, 'seasonality_prior_scale': 0.3832820216611085, 'holidays_prior_scale': 5.238532880263803}. Best is trial 22 with value: 290.5432443805131.\n"
     ]
    },
    {
     "name": "stderr",
     "output_type": "stream",
     "text": [
      "01:37:02 - cmdstanpy - INFO - Chain [1] done processing\n",
      "01:37:03 - cmdstanpy - INFO - Chain [1] start processing\n",
      "01:37:03 - cmdstanpy - INFO - Chain [1] done processing\n",
      "01:37:03 - cmdstanpy - INFO - Chain [1] start processing\n",
      "01:37:03 - cmdstanpy - INFO - Chain [1] start processing\n",
      "01:37:04 - cmdstanpy - INFO - Chain [1] start processing\n",
      "01:37:04 - cmdstanpy - INFO - Chain [1] start processing\n",
      "01:37:04 - cmdstanpy - INFO - Chain [1] start processing\n",
      "01:37:04 - cmdstanpy - INFO - Chain [1] start processing\n",
      "01:37:04 - cmdstanpy - INFO - Chain [1] start processing\n",
      "01:37:04 - cmdstanpy - INFO - Chain [1] start processing\n",
      "01:37:04 - cmdstanpy - INFO - Chain [1] start processing\n",
      "01:37:04 - cmdstanpy - INFO - Chain [1] done processing\n",
      "01:37:04 - cmdstanpy - INFO - Chain [1] done processing\n",
      "01:37:04 - cmdstanpy - INFO - Chain [1] done processing\n",
      "01:37:04 - cmdstanpy - INFO - Chain [1] done processing\n",
      "01:37:04 - cmdstanpy - INFO - Chain [1] done processing\n",
      "01:37:04 - cmdstanpy - INFO - Chain [1] done processing\n",
      "01:37:04 - cmdstanpy - INFO - Chain [1] done processing\n",
      "01:37:04 - cmdstanpy - INFO - Chain [1] done processing\n",
      "01:37:04 - cmdstanpy - INFO - Chain [1] done processing\n",
      "01:37:05 - cmdstanpy - INFO - Chain [1] start processing\n"
     ]
    },
    {
     "name": "stdout",
     "output_type": "stream",
     "text": [
      "[I 2025-08-23 01:37:05,127] Trial 25 finished with value: 293.2644823074854 and parameters: {'changepoint_prior_scale': 0.01846973729000791, 'seasonality_prior_scale': 0.3978125990231313, 'holidays_prior_scale': 4.556978751344612}. Best is trial 22 with value: 290.5432443805131.\n"
     ]
    },
    {
     "name": "stderr",
     "output_type": "stream",
     "text": [
      "01:37:05 - cmdstanpy - INFO - Chain [1] done processing\n",
      "01:37:06 - cmdstanpy - INFO - Chain [1] start processing\n",
      "01:37:06 - cmdstanpy - INFO - Chain [1] start processing\n",
      "01:37:06 - cmdstanpy - INFO - Chain [1] start processing\n",
      "01:37:06 - cmdstanpy - INFO - Chain [1] start processing\n",
      "01:37:06 - cmdstanpy - INFO - Chain [1] done processing\n",
      "01:37:06 - cmdstanpy - INFO - Chain [1] done processing\n",
      "01:37:06 - cmdstanpy - INFO - Chain [1] done processing\n",
      "01:37:06 - cmdstanpy - INFO - Chain [1] done processing\n",
      "01:37:06 - cmdstanpy - INFO - Chain [1] start processing\n",
      "01:37:06 - cmdstanpy - INFO - Chain [1] start processing\n",
      "01:37:06 - cmdstanpy - INFO - Chain [1] start processing\n",
      "01:37:07 - cmdstanpy - INFO - Chain [1] start processing\n",
      "01:37:07 - cmdstanpy - INFO - Chain [1] start processing\n",
      "01:37:07 - cmdstanpy - INFO - Chain [1] done processing\n",
      "01:37:07 - cmdstanpy - INFO - Chain [1] done processing\n",
      "01:37:07 - cmdstanpy - INFO - Chain [1] done processing\n",
      "01:37:07 - cmdstanpy - INFO - Chain [1] done processing\n",
      "01:37:07 - cmdstanpy - INFO - Chain [1] start processing\n",
      "01:37:07 - cmdstanpy - INFO - Chain [1] done processing\n",
      "01:37:07 - cmdstanpy - INFO - Chain [1] done processing\n",
      "01:37:07 - cmdstanpy - INFO - Chain [1] start processing\n"
     ]
    },
    {
     "name": "stdout",
     "output_type": "stream",
     "text": [
      "[I 2025-08-23 01:37:07,796] Trial 26 finished with value: 291.8216431586619 and parameters: {'changepoint_prior_scale': 0.09565042047033828, 'seasonality_prior_scale': 0.16055972658924192, 'holidays_prior_scale': 5.465394773923517}. Best is trial 22 with value: 290.5432443805131.\n"
     ]
    },
    {
     "name": "stderr",
     "output_type": "stream",
     "text": [
      "01:37:08 - cmdstanpy - INFO - Chain [1] done processing\n",
      "01:37:09 - cmdstanpy - INFO - Chain [1] start processing\n",
      "01:37:09 - cmdstanpy - INFO - Chain [1] start processing\n",
      "01:37:09 - cmdstanpy - INFO - Chain [1] start processing\n",
      "01:37:09 - cmdstanpy - INFO - Chain [1] start processing\n",
      "01:37:09 - cmdstanpy - INFO - Chain [1] start processing\n",
      "01:37:09 - cmdstanpy - INFO - Chain [1] done processing\n",
      "01:37:09 - cmdstanpy - INFO - Chain [1] done processing\n",
      "01:37:09 - cmdstanpy - INFO - Chain [1] start processing\n",
      "01:37:09 - cmdstanpy - INFO - Chain [1] start processing\n",
      "01:37:09 - cmdstanpy - INFO - Chain [1] done processing\n",
      "01:37:09 - cmdstanpy - INFO - Chain [1] done processing\n",
      "01:37:09 - cmdstanpy - INFO - Chain [1] start processing\n",
      "01:37:09 - cmdstanpy - INFO - Chain [1] start processing\n",
      "01:37:09 - cmdstanpy - INFO - Chain [1] start processing\n",
      "01:37:09 - cmdstanpy - INFO - Chain [1] done processing\n",
      "01:37:09 - cmdstanpy - INFO - Chain [1] done processing\n",
      "01:37:09 - cmdstanpy - INFO - Chain [1] done processing\n",
      "01:37:10 - cmdstanpy - INFO - Chain [1] done processing\n",
      "01:37:10 - cmdstanpy - INFO - Chain [1] done processing\n",
      "01:37:10 - cmdstanpy - INFO - Chain [1] done processing\n"
     ]
    },
    {
     "name": "stdout",
     "output_type": "stream",
     "text": [
      "[I 2025-08-23 01:37:10,497] Trial 27 finished with value: 290.73383486597334 and parameters: {'changepoint_prior_scale': 0.15702722191945623, 'seasonality_prior_scale': 0.5676099054849651, 'holidays_prior_scale': 7.745185262113992}. Best is trial 22 with value: 290.5432443805131.\n"
     ]
    },
    {
     "name": "stderr",
     "output_type": "stream",
     "text": [
      "01:37:10 - cmdstanpy - INFO - Chain [1] start processing\n",
      "01:37:10 - cmdstanpy - INFO - Chain [1] done processing\n",
      "01:37:11 - cmdstanpy - INFO - Chain [1] start processing\n",
      "01:37:11 - cmdstanpy - INFO - Chain [1] start processing\n",
      "01:37:11 - cmdstanpy - INFO - Chain [1] start processing\n",
      "01:37:11 - cmdstanpy - INFO - Chain [1] start processing\n",
      "01:37:11 - cmdstanpy - INFO - Chain [1] done processing\n",
      "01:37:12 - cmdstanpy - INFO - Chain [1] done processing\n",
      "01:37:12 - cmdstanpy - INFO - Chain [1] done processing\n",
      "01:37:12 - cmdstanpy - INFO - Chain [1] done processing\n",
      "01:37:12 - cmdstanpy - INFO - Chain [1] start processing\n",
      "01:37:12 - cmdstanpy - INFO - Chain [1] start processing\n",
      "01:37:12 - cmdstanpy - INFO - Chain [1] start processing\n",
      "01:37:12 - cmdstanpy - INFO - Chain [1] start processing\n",
      "01:37:12 - cmdstanpy - INFO - Chain [1] start processing\n",
      "01:37:12 - cmdstanpy - INFO - Chain [1] start processing\n",
      "01:37:12 - cmdstanpy - INFO - Chain [1] done processing\n",
      "01:37:12 - cmdstanpy - INFO - Chain [1] done processing\n",
      "01:37:12 - cmdstanpy - INFO - Chain [1] done processing\n",
      "01:37:12 - cmdstanpy - INFO - Chain [1] done processing\n",
      "01:37:12 - cmdstanpy - INFO - Chain [1] done processing\n",
      "01:37:12 - cmdstanpy - INFO - Chain [1] done processing\n",
      "01:37:13 - cmdstanpy - INFO - Chain [1] start processing\n"
     ]
    },
    {
     "name": "stdout",
     "output_type": "stream",
     "text": [
      "[I 2025-08-23 01:37:13,119] Trial 28 finished with value: 293.2992738558249 and parameters: {'changepoint_prior_scale': 0.04105226341430567, 'seasonality_prior_scale': 0.4966799319784717, 'holidays_prior_scale': 30.646722735130695}. Best is trial 22 with value: 290.5432443805131.\n"
     ]
    },
    {
     "name": "stderr",
     "output_type": "stream",
     "text": [
      "01:37:13 - cmdstanpy - INFO - Chain [1] done processing\n",
      "01:37:13 - cmdstanpy - INFO - Chain [1] start processing\n",
      "01:37:14 - cmdstanpy - INFO - Chain [1] done processing\n",
      "01:37:14 - cmdstanpy - INFO - Chain [1] start processing\n",
      "01:37:14 - cmdstanpy - INFO - Chain [1] start processing\n",
      "01:37:14 - cmdstanpy - INFO - Chain [1] start processing\n",
      "01:37:14 - cmdstanpy - INFO - Chain [1] start processing\n",
      "01:37:14 - cmdstanpy - INFO - Chain [1] start processing\n",
      "01:37:14 - cmdstanpy - INFO - Chain [1] start processing\n",
      "01:37:14 - cmdstanpy - INFO - Chain [1] start processing\n",
      "01:37:14 - cmdstanpy - INFO - Chain [1] done processing\n",
      "01:37:14 - cmdstanpy - INFO - Chain [1] done processing\n",
      "01:37:14 - cmdstanpy - INFO - Chain [1] done processing\n",
      "01:37:15 - cmdstanpy - INFO - Chain [1] done processing\n",
      "01:37:15 - cmdstanpy - INFO - Chain [1] done processing\n",
      "01:37:15 - cmdstanpy - INFO - Chain [1] done processing\n",
      "01:37:15 - cmdstanpy - INFO - Chain [1] done processing\n",
      "01:37:15 - cmdstanpy - INFO - Chain [1] start processing\n",
      "01:37:15 - cmdstanpy - INFO - Chain [1] start processing\n",
      "01:37:15 - cmdstanpy - INFO - Chain [1] done processing\n",
      "01:37:15 - cmdstanpy - INFO - Chain [1] done processing\n",
      "01:37:15 - cmdstanpy - INFO - Chain [1] start processing\n"
     ]
    },
    {
     "name": "stdout",
     "output_type": "stream",
     "text": [
      "[I 2025-08-23 01:37:15,741] Trial 29 finished with value: 292.5979232446231 and parameters: {'changepoint_prior_scale': 0.07371008187671821, 'seasonality_prior_scale': 12.089363902720063, 'holidays_prior_scale': 8.802062685508925}. Best is trial 22 with value: 290.5432443805131.\n"
     ]
    },
    {
     "name": "stderr",
     "output_type": "stream",
     "text": [
      "01:37:15 - cmdstanpy - INFO - Chain [1] done processing\n",
      "01:37:15 - cmdstanpy - ERROR - Chain [1] error: error during processing Operation not permitted\n",
      "Optimization terminated abnormally. Falling back to Newton.\n",
      "01:37:16 - cmdstanpy - INFO - Chain [1] start processing\n",
      "01:37:17 - cmdstanpy - INFO - Chain [1] done processing\n",
      "01:37:18 - cmdstanpy - INFO - Chain [1] start processing\n",
      "01:37:18 - cmdstanpy - INFO - Chain [1] start processing\n",
      "01:37:18 - cmdstanpy - INFO - Chain [1] start processing\n",
      "01:37:19 - cmdstanpy - INFO - Chain [1] done processing\n",
      "01:37:19 - cmdstanpy - ERROR - Chain [1] error: error during processing Operation not permitted\n",
      "01:37:19 - cmdstanpy - INFO - Chain [1] start processing\n",
      "01:37:19 - cmdstanpy - INFO - Chain [1] start processing\n",
      "Optimization terminated abnormally. Falling back to Newton.\n",
      "01:37:19 - cmdstanpy - INFO - Chain [1] start processing\n",
      "01:37:19 - cmdstanpy - INFO - Chain [1] done processing\n",
      "01:37:19 - cmdstanpy - INFO - Chain [1] done processing\n",
      "01:37:19 - cmdstanpy - INFO - Chain [1] start processing\n",
      "01:37:19 - cmdstanpy - INFO - Chain [1] start processing\n",
      "01:37:19 - cmdstanpy - ERROR - Chain [1] error: error during processing Operation not permitted\n",
      "01:37:19 - cmdstanpy - INFO - Chain [1] done processing\n",
      "01:37:19 - cmdstanpy - INFO - Chain [1] start processing\n",
      "01:37:19 - cmdstanpy - ERROR - Chain [1] error: error during processing Operation not permitted\n",
      "Optimization terminated abnormally. Falling back to Newton.\n",
      "01:37:19 - cmdstanpy - INFO - Chain [1] done processing\n",
      "01:37:19 - cmdstanpy - INFO - Chain [1] start processing\n",
      "01:37:19 - cmdstanpy - ERROR - Chain [1] error: error during processing Operation not permitted\n",
      "Optimization terminated abnormally. Falling back to Newton.\n",
      "01:37:19 - cmdstanpy - ERROR - Chain [1] error: error during processing Operation not permitted\n",
      "01:37:19 - cmdstanpy - INFO - Chain [1] start processing\n",
      "Optimization terminated abnormally. Falling back to Newton.\n",
      "01:37:19 - cmdstanpy - INFO - Chain [1] done processing\n",
      "01:37:19 - cmdstanpy - INFO - Chain [1] done processing\n",
      "Optimization terminated abnormally. Falling back to Newton.\n",
      "01:37:19 - cmdstanpy - INFO - Chain [1] done processing\n",
      "01:37:19 - cmdstanpy - INFO - Chain [1] done processing\n",
      "01:37:19 - cmdstanpy - INFO - Chain [1] done processing\n",
      "01:37:19 - cmdstanpy - ERROR - Chain [1] error: error during processing Operation not permitted\n",
      "01:37:19 - cmdstanpy - ERROR - Chain [1] error: error during processing Operation not permitted\n",
      "01:37:19 - cmdstanpy - ERROR - Chain [1] error: error during processing Operation not permitted\n",
      "01:37:19 - cmdstanpy - ERROR - Chain [1] error: error during processing Operation not permitted\n",
      "01:37:19 - cmdstanpy - INFO - Chain [1] start processing\n",
      "01:37:19 - cmdstanpy - INFO - Chain [1] start processing\n",
      "01:37:19 - cmdstanpy - ERROR - Chain [1] error: error during processing Operation not permitted\n",
      "01:37:20 - cmdstanpy - INFO - Chain [1] start processing\n",
      "01:37:20 - cmdstanpy - INFO - Chain [1] start processing\n",
      "Optimization terminated abnormally. Falling back to Newton.\n",
      "Optimization terminated abnormally. Falling back to Newton.\n",
      "Optimization terminated abnormally. Falling back to Newton.\n",
      "Optimization terminated abnormally. Falling back to Newton.\n",
      "Optimization terminated abnormally. Falling back to Newton.\n",
      "01:37:20 - cmdstanpy - INFO - Chain [1] start processing\n",
      "01:37:20 - cmdstanpy - INFO - Chain [1] start processing\n",
      "01:37:20 - cmdstanpy - INFO - Chain [1] start processing\n",
      "01:37:20 - cmdstanpy - INFO - Chain [1] start processing\n",
      "01:37:20 - cmdstanpy - INFO - Chain [1] start processing\n",
      "01:37:24 - cmdstanpy - INFO - Chain [1] done processing\n",
      "01:37:24 - cmdstanpy - INFO - Chain [1] done processing\n",
      "01:37:26 - cmdstanpy - INFO - Chain [1] done processing\n",
      "01:37:27 - cmdstanpy - INFO - Chain [1] done processing\n",
      "01:37:28 - cmdstanpy - INFO - Chain [1] done processing\n",
      "01:37:29 - cmdstanpy - INFO - Chain [1] done processing\n",
      "01:37:31 - cmdstanpy - INFO - Chain [1] done processing\n",
      "01:37:31 - cmdstanpy - INFO - Chain [1] done processing\n",
      "01:37:32 - cmdstanpy - INFO - Chain [1] done processing\n",
      "01:37:32 - cmdstanpy - INFO - Chain [1] done processing\n",
      "01:37:33 - cmdstanpy - INFO - Chain [1] start processing\n"
     ]
    },
    {
     "name": "stdout",
     "output_type": "stream",
     "text": [
      "[I 2025-08-23 01:37:32,874] Trial 30 finished with value: 293.93475179374855 and parameters: {'changepoint_prior_scale': 0.00011455965393629895, 'seasonality_prior_scale': 1.5480058153938445, 'holidays_prior_scale': 10.855537721065467}. Best is trial 22 with value: 290.5432443805131.\n"
     ]
    },
    {
     "name": "stderr",
     "output_type": "stream",
     "text": [
      "01:37:33 - cmdstanpy - INFO - Chain [1] done processing\n",
      "01:37:33 - cmdstanpy - INFO - Chain [1] start processing\n",
      "01:37:33 - cmdstanpy - INFO - Chain [1] done processing\n",
      "01:37:34 - cmdstanpy - INFO - Chain [1] start processing\n",
      "01:37:34 - cmdstanpy - INFO - Chain [1] start processing\n",
      "01:37:34 - cmdstanpy - INFO - Chain [1] start processing\n",
      "01:37:34 - cmdstanpy - INFO - Chain [1] start processing\n",
      "01:37:34 - cmdstanpy - INFO - Chain [1] start processing\n",
      "01:37:34 - cmdstanpy - INFO - Chain [1] start processing\n",
      "01:37:34 - cmdstanpy - INFO - Chain [1] start processing\n",
      "01:37:34 - cmdstanpy - INFO - Chain [1] start processing\n",
      "01:37:34 - cmdstanpy - INFO - Chain [1] start processing\n",
      "01:37:34 - cmdstanpy - INFO - Chain [1] done processing\n",
      "01:37:34 - cmdstanpy - INFO - Chain [1] done processing\n",
      "01:37:34 - cmdstanpy - INFO - Chain [1] done processing\n",
      "01:37:34 - cmdstanpy - INFO - Chain [1] done processing\n",
      "01:37:34 - cmdstanpy - INFO - Chain [1] done processing\n",
      "01:37:34 - cmdstanpy - INFO - Chain [1] done processing\n",
      "01:37:34 - cmdstanpy - INFO - Chain [1] done processing\n",
      "01:37:35 - cmdstanpy - INFO - Chain [1] done processing\n",
      "01:37:35 - cmdstanpy - INFO - Chain [1] done processing\n",
      "01:37:35 - cmdstanpy - INFO - Chain [1] start processing\n"
     ]
    },
    {
     "name": "stdout",
     "output_type": "stream",
     "text": [
      "[I 2025-08-23 01:37:35,561] Trial 31 finished with value: 290.6583207896132 and parameters: {'changepoint_prior_scale': 0.15285750019071573, 'seasonality_prior_scale': 0.5758144479717324, 'holidays_prior_scale': 3.4043719901323657}. Best is trial 22 with value: 290.5432443805131.\n"
     ]
    },
    {
     "name": "stderr",
     "output_type": "stream",
     "text": [
      "01:37:35 - cmdstanpy - INFO - Chain [1] done processing\n",
      "01:37:36 - cmdstanpy - INFO - Chain [1] start processing\n",
      "01:37:36 - cmdstanpy - INFO - Chain [1] done processing\n",
      "01:37:36 - cmdstanpy - INFO - Chain [1] start processing\n",
      "01:37:37 - cmdstanpy - INFO - Chain [1] start processing\n",
      "01:37:37 - cmdstanpy - INFO - Chain [1] start processing\n",
      "01:37:37 - cmdstanpy - INFO - Chain [1] start processing\n",
      "01:37:37 - cmdstanpy - INFO - Chain [1] start processing\n",
      "01:37:37 - cmdstanpy - INFO - Chain [1] start processing\n",
      "01:37:37 - cmdstanpy - INFO - Chain [1] start processing\n",
      "01:37:37 - cmdstanpy - INFO - Chain [1] start processing\n",
      "01:37:37 - cmdstanpy - INFO - Chain [1] done processing\n",
      "01:37:37 - cmdstanpy - INFO - Chain [1] done processing\n",
      "01:37:37 - cmdstanpy - INFO - Chain [1] done processing\n",
      "01:37:37 - cmdstanpy - INFO - Chain [1] done processing\n",
      "01:37:37 - cmdstanpy - INFO - Chain [1] done processing\n",
      "01:37:37 - cmdstanpy - INFO - Chain [1] done processing\n",
      "01:37:37 - cmdstanpy - INFO - Chain [1] start processing\n",
      "01:37:37 - cmdstanpy - INFO - Chain [1] done processing\n",
      "01:37:37 - cmdstanpy - INFO - Chain [1] done processing\n",
      "01:37:37 - cmdstanpy - INFO - Chain [1] done processing\n",
      "01:37:38 - cmdstanpy - INFO - Chain [1] start processing\n"
     ]
    },
    {
     "name": "stdout",
     "output_type": "stream",
     "text": [
      "[I 2025-08-23 01:37:38,255] Trial 32 finished with value: 293.9416038403046 and parameters: {'changepoint_prior_scale': 0.2937044807674355, 'seasonality_prior_scale': 0.3405045312182668, 'holidays_prior_scale': 2.387159194254378}. Best is trial 22 with value: 290.5432443805131.\n"
     ]
    },
    {
     "name": "stderr",
     "output_type": "stream",
     "text": [
      "01:37:38 - cmdstanpy - INFO - Chain [1] done processing\n",
      "01:37:39 - cmdstanpy - INFO - Chain [1] start processing\n",
      "01:37:39 - cmdstanpy - INFO - Chain [1] done processing\n",
      "01:37:39 - cmdstanpy - INFO - Chain [1] start processing\n",
      "01:37:39 - cmdstanpy - INFO - Chain [1] done processing\n",
      "01:37:39 - cmdstanpy - INFO - Chain [1] start processing\n",
      "01:37:39 - cmdstanpy - INFO - Chain [1] start processing\n",
      "01:37:39 - cmdstanpy - INFO - Chain [1] start processing\n",
      "01:37:39 - cmdstanpy - INFO - Chain [1] start processing\n",
      "01:37:39 - cmdstanpy - INFO - Chain [1] start processing\n",
      "01:37:40 - cmdstanpy - INFO - Chain [1] start processing\n",
      "01:37:40 - cmdstanpy - INFO - Chain [1] start processing\n",
      "01:37:40 - cmdstanpy - INFO - Chain [1] start processing\n",
      "01:37:40 - cmdstanpy - INFO - Chain [1] done processing\n",
      "01:37:40 - cmdstanpy - INFO - Chain [1] done processing\n",
      "01:37:40 - cmdstanpy - INFO - Chain [1] done processing\n",
      "01:37:40 - cmdstanpy - INFO - Chain [1] done processing\n",
      "01:37:40 - cmdstanpy - INFO - Chain [1] done processing\n",
      "01:37:40 - cmdstanpy - INFO - Chain [1] done processing\n",
      "01:37:40 - cmdstanpy - INFO - Chain [1] done processing\n",
      "01:37:40 - cmdstanpy - INFO - Chain [1] done processing\n",
      "01:37:41 - cmdstanpy - INFO - Chain [1] start processing\n"
     ]
    },
    {
     "name": "stdout",
     "output_type": "stream",
     "text": [
      "[I 2025-08-23 01:37:40,971] Trial 33 finished with value: 291.1980071047572 and parameters: {'changepoint_prior_scale': 0.1279700480782247, 'seasonality_prior_scale': 0.6715721281207896, 'holidays_prior_scale': 7.28309762454009}. Best is trial 22 with value: 290.5432443805131.\n"
     ]
    },
    {
     "name": "stderr",
     "output_type": "stream",
     "text": [
      "01:37:41 - cmdstanpy - INFO - Chain [1] done processing\n",
      "01:37:41 - cmdstanpy - INFO - Chain [1] start processing\n",
      "01:37:42 - cmdstanpy - INFO - Chain [1] done processing\n",
      "01:37:42 - cmdstanpy - INFO - Chain [1] start processing\n",
      "01:37:42 - cmdstanpy - INFO - Chain [1] start processing\n",
      "01:37:42 - cmdstanpy - INFO - Chain [1] start processing\n",
      "01:37:42 - cmdstanpy - INFO - Chain [1] start processing\n",
      "01:37:42 - cmdstanpy - INFO - Chain [1] start processing\n",
      "01:37:42 - cmdstanpy - INFO - Chain [1] start processing\n",
      "01:37:42 - cmdstanpy - INFO - Chain [1] start processing\n",
      "01:37:42 - cmdstanpy - INFO - Chain [1] start processing\n",
      "01:37:42 - cmdstanpy - INFO - Chain [1] start processing\n",
      "01:37:42 - cmdstanpy - INFO - Chain [1] done processing\n",
      "01:37:42 - cmdstanpy - INFO - Chain [1] done processing\n",
      "01:37:42 - cmdstanpy - INFO - Chain [1] done processing\n",
      "01:37:42 - cmdstanpy - INFO - Chain [1] done processing\n",
      "01:37:42 - cmdstanpy - INFO - Chain [1] done processing\n",
      "01:37:42 - cmdstanpy - INFO - Chain [1] done processing\n",
      "01:37:42 - cmdstanpy - INFO - Chain [1] done processing\n",
      "01:37:42 - cmdstanpy - INFO - Chain [1] done processing\n",
      "01:37:42 - cmdstanpy - INFO - Chain [1] done processing\n",
      "01:37:43 - cmdstanpy - INFO - Chain [1] start processing\n"
     ]
    },
    {
     "name": "stdout",
     "output_type": "stream",
     "text": [
      "[I 2025-08-23 01:37:43,507] Trial 34 finished with value: 293.7168536842226 and parameters: {'changepoint_prior_scale': 0.01896890426957108, 'seasonality_prior_scale': 0.23628260704680498, 'holidays_prior_scale': 3.779325357332496}. Best is trial 22 with value: 290.5432443805131.\n"
     ]
    },
    {
     "name": "stderr",
     "output_type": "stream",
     "text": [
      "01:37:43 - cmdstanpy - INFO - Chain [1] done processing\n",
      "01:37:44 - cmdstanpy - INFO - Chain [1] start processing\n",
      "01:37:44 - cmdstanpy - INFO - Chain [1] start processing\n",
      "01:37:44 - cmdstanpy - INFO - Chain [1] start processing\n",
      "01:37:44 - cmdstanpy - INFO - Chain [1] start processing\n",
      "01:37:44 - cmdstanpy - INFO - Chain [1] done processing\n",
      "01:37:44 - cmdstanpy - INFO - Chain [1] start processing\n",
      "01:37:44 - cmdstanpy - INFO - Chain [1] start processing\n",
      "01:37:45 - cmdstanpy - INFO - Chain [1] start processing\n",
      "01:37:45 - cmdstanpy - INFO - Chain [1] start processing\n",
      "01:37:45 - cmdstanpy - INFO - Chain [1] done processing\n",
      "01:37:45 - cmdstanpy - INFO - Chain [1] done processing\n",
      "01:37:45 - cmdstanpy - INFO - Chain [1] done processing\n",
      "01:37:45 - cmdstanpy - INFO - Chain [1] done processing\n",
      "01:37:45 - cmdstanpy - INFO - Chain [1] done processing\n",
      "01:37:45 - cmdstanpy - INFO - Chain [1] done processing\n",
      "01:37:45 - cmdstanpy - INFO - Chain [1] done processing\n",
      "01:37:45 - cmdstanpy - INFO - Chain [1] start processing\n",
      "01:37:45 - cmdstanpy - INFO - Chain [1] start processing\n",
      "01:37:45 - cmdstanpy - INFO - Chain [1] done processing\n",
      "01:37:45 - cmdstanpy - INFO - Chain [1] done processing\n",
      "01:37:46 - cmdstanpy - INFO - Chain [1] start processing\n"
     ]
    },
    {
     "name": "stdout",
     "output_type": "stream",
     "text": [
      "[I 2025-08-23 01:37:46,164] Trial 35 finished with value: 290.7420089737441 and parameters: {'changepoint_prior_scale': 0.15975633090916377, 'seasonality_prior_scale': 0.16242812585997535, 'holidays_prior_scale': 1.6918246951831046}. Best is trial 22 with value: 290.5432443805131.\n"
     ]
    },
    {
     "name": "stderr",
     "output_type": "stream",
     "text": [
      "01:37:46 - cmdstanpy - INFO - Chain [1] done processing\n",
      "01:37:47 - cmdstanpy - INFO - Chain [1] start processing\n",
      "01:37:47 - cmdstanpy - INFO - Chain [1] done processing\n",
      "01:37:47 - cmdstanpy - INFO - Chain [1] start processing\n",
      "01:37:47 - cmdstanpy - INFO - Chain [1] start processing\n",
      "01:37:47 - cmdstanpy - INFO - Chain [1] start processing\n",
      "01:37:47 - cmdstanpy - INFO - Chain [1] start processing\n",
      "01:37:47 - cmdstanpy - INFO - Chain [1] start processing\n",
      "01:37:47 - cmdstanpy - INFO - Chain [1] start processing\n",
      "01:37:48 - cmdstanpy - INFO - Chain [1] start processing\n",
      "01:37:48 - cmdstanpy - INFO - Chain [1] start processing\n",
      "01:37:48 - cmdstanpy - INFO - Chain [1] start processing\n",
      "01:37:48 - cmdstanpy - INFO - Chain [1] done processing\n",
      "01:37:48 - cmdstanpy - INFO - Chain [1] done processing\n",
      "01:37:48 - cmdstanpy - INFO - Chain [1] done processing\n",
      "01:37:48 - cmdstanpy - INFO - Chain [1] done processing\n",
      "01:37:48 - cmdstanpy - INFO - Chain [1] done processing\n",
      "01:37:48 - cmdstanpy - INFO - Chain [1] done processing\n",
      "01:37:48 - cmdstanpy - INFO - Chain [1] done processing\n",
      "01:37:48 - cmdstanpy - INFO - Chain [1] done processing\n",
      "01:37:48 - cmdstanpy - INFO - Chain [1] done processing\n",
      "01:37:49 - cmdstanpy - INFO - Chain [1] start processing\n"
     ]
    },
    {
     "name": "stdout",
     "output_type": "stream",
     "text": [
      "[I 2025-08-23 01:37:48,928] Trial 36 finished with value: 292.97492050962546 and parameters: {'changepoint_prior_scale': 0.026295044791136583, 'seasonality_prior_scale': 0.14582780474823046, 'holidays_prior_scale': 1.49685456899836}. Best is trial 22 with value: 290.5432443805131.\n"
     ]
    },
    {
     "name": "stderr",
     "output_type": "stream",
     "text": [
      "01:37:49 - cmdstanpy - INFO - Chain [1] done processing\n",
      "01:37:50 - cmdstanpy - INFO - Chain [1] start processing\n",
      "01:37:50 - cmdstanpy - INFO - Chain [1] start processing\n",
      "01:37:50 - cmdstanpy - INFO - Chain [1] done processing\n",
      "01:37:50 - cmdstanpy - INFO - Chain [1] done processing\n",
      "01:37:50 - cmdstanpy - INFO - Chain [1] start processing\n",
      "01:37:50 - cmdstanpy - INFO - Chain [1] start processing\n",
      "01:37:50 - cmdstanpy - INFO - Chain [1] start processing\n",
      "01:37:50 - cmdstanpy - INFO - Chain [1] start processing\n",
      "01:37:50 - cmdstanpy - INFO - Chain [1] start processing\n",
      "01:37:50 - cmdstanpy - INFO - Chain [1] start processing\n",
      "01:37:50 - cmdstanpy - INFO - Chain [1] start processing\n",
      "01:37:51 - cmdstanpy - INFO - Chain [1] start processing\n",
      "01:37:51 - cmdstanpy - INFO - Chain [1] done processing\n",
      "01:37:51 - cmdstanpy - INFO - Chain [1] done processing\n",
      "01:37:51 - cmdstanpy - INFO - Chain [1] done processing\n",
      "01:37:51 - cmdstanpy - INFO - Chain [1] done processing\n",
      "01:37:51 - cmdstanpy - INFO - Chain [1] done processing\n",
      "01:37:51 - cmdstanpy - INFO - Chain [1] done processing\n",
      "01:37:51 - cmdstanpy - INFO - Chain [1] done processing\n",
      "01:37:51 - cmdstanpy - INFO - Chain [1] done processing\n",
      "01:37:52 - cmdstanpy - INFO - Chain [1] start processing\n"
     ]
    },
    {
     "name": "stdout",
     "output_type": "stream",
     "text": [
      "[I 2025-08-23 01:37:51,805] Trial 37 finished with value: 296.8361756503407 and parameters: {'changepoint_prior_scale': 0.00885671427594374, 'seasonality_prior_scale': 1.033956080688965, 'holidays_prior_scale': 14.561023379548622}. Best is trial 22 with value: 290.5432443805131.\n"
     ]
    },
    {
     "name": "stderr",
     "output_type": "stream",
     "text": [
      "01:37:52 - cmdstanpy - INFO - Chain [1] done processing\n",
      "01:37:52 - cmdstanpy - INFO - Chain [1] start processing\n",
      "01:37:52 - cmdstanpy - INFO - Chain [1] start processing\n",
      "01:37:52 - cmdstanpy - INFO - Chain [1] done processing\n",
      "01:37:53 - cmdstanpy - INFO - Chain [1] done processing\n",
      "01:37:53 - cmdstanpy - INFO - Chain [1] start processing\n",
      "01:37:53 - cmdstanpy - INFO - Chain [1] start processing\n",
      "01:37:53 - cmdstanpy - INFO - Chain [1] start processing\n",
      "01:37:53 - cmdstanpy - INFO - Chain [1] start processing\n",
      "01:37:53 - cmdstanpy - INFO - Chain [1] start processing\n",
      "01:37:53 - cmdstanpy - INFO - Chain [1] start processing\n",
      "01:37:53 - cmdstanpy - INFO - Chain [1] start processing\n",
      "01:37:53 - cmdstanpy - INFO - Chain [1] start processing\n",
      "01:37:53 - cmdstanpy - INFO - Chain [1] done processing\n",
      "01:37:53 - cmdstanpy - INFO - Chain [1] done processing\n",
      "01:37:53 - cmdstanpy - INFO - Chain [1] done processing\n",
      "01:37:53 - cmdstanpy - INFO - Chain [1] done processing\n",
      "01:37:54 - cmdstanpy - INFO - Chain [1] done processing\n",
      "01:37:54 - cmdstanpy - INFO - Chain [1] done processing\n",
      "01:37:54 - cmdstanpy - INFO - Chain [1] done processing\n",
      "01:37:54 - cmdstanpy - INFO - Chain [1] done processing\n",
      "01:37:54 - cmdstanpy - INFO - Chain [1] start processing\n"
     ]
    },
    {
     "name": "stdout",
     "output_type": "stream",
     "text": [
      "[I 2025-08-23 01:37:54,557] Trial 38 finished with value: 299.55966834409224 and parameters: {'changepoint_prior_scale': 0.4973832830797657, 'seasonality_prior_scale': 0.5691238087824587, 'holidays_prior_scale': 2.5639152989930873}. Best is trial 22 with value: 290.5432443805131.\n"
     ]
    },
    {
     "name": "stderr",
     "output_type": "stream",
     "text": [
      "01:37:54 - cmdstanpy - INFO - Chain [1] done processing\n",
      "01:37:55 - cmdstanpy - INFO - Chain [1] start processing\n",
      "01:37:55 - cmdstanpy - INFO - Chain [1] done processing\n",
      "01:37:56 - cmdstanpy - INFO - Chain [1] start processing\n",
      "01:37:56 - cmdstanpy - INFO - Chain [1] start processing\n",
      "01:37:56 - cmdstanpy - INFO - Chain [1] start processing\n",
      "01:37:56 - cmdstanpy - INFO - Chain [1] start processing\n",
      "01:37:56 - cmdstanpy - INFO - Chain [1] start processing\n",
      "01:37:56 - cmdstanpy - INFO - Chain [1] start processing\n",
      "01:37:56 - cmdstanpy - INFO - Chain [1] start processing\n",
      "01:37:56 - cmdstanpy - INFO - Chain [1] start processing\n",
      "01:37:56 - cmdstanpy - INFO - Chain [1] done processing\n",
      "01:37:56 - cmdstanpy - INFO - Chain [1] done processing\n",
      "01:37:56 - cmdstanpy - INFO - Chain [1] done processing\n",
      "01:37:56 - cmdstanpy - INFO - Chain [1] done processing\n",
      "01:37:56 - cmdstanpy - INFO - Chain [1] done processing\n",
      "01:37:56 - cmdstanpy - INFO - Chain [1] done processing\n",
      "01:37:56 - cmdstanpy - INFO - Chain [1] done processing\n",
      "01:37:56 - cmdstanpy - INFO - Chain [1] done processing\n",
      "01:37:56 - cmdstanpy - INFO - Chain [1] start processing\n",
      "01:37:57 - cmdstanpy - INFO - Chain [1] done processing\n",
      "01:37:57 - cmdstanpy - INFO - Chain [1] start processing\n"
     ]
    },
    {
     "name": "stdout",
     "output_type": "stream",
     "text": [
      "[I 2025-08-23 01:37:57,291] Trial 39 finished with value: 292.8497842254918 and parameters: {'changepoint_prior_scale': 0.07144048753605328, 'seasonality_prior_scale': 1.6171960129665526, 'holidays_prior_scale': 1.4657511869343196}. Best is trial 22 with value: 290.5432443805131.\n"
     ]
    },
    {
     "name": "stderr",
     "output_type": "stream",
     "text": [
      "01:37:57 - cmdstanpy - INFO - Chain [1] done processing\n",
      "01:37:58 - cmdstanpy - INFO - Chain [1] start processing\n",
      "01:37:58 - cmdstanpy - INFO - Chain [1] done processing\n",
      "01:37:58 - cmdstanpy - INFO - Chain [1] start processing\n",
      "01:37:58 - cmdstanpy - INFO - Chain [1] start processing\n",
      "01:37:58 - cmdstanpy - INFO - Chain [1] start processing\n",
      "01:37:58 - cmdstanpy - INFO - Chain [1] start processing\n",
      "01:37:58 - cmdstanpy - INFO - Chain [1] start processing\n",
      "01:37:59 - cmdstanpy - INFO - Chain [1] start processing\n",
      "01:37:59 - cmdstanpy - INFO - Chain [1] start processing\n",
      "01:37:59 - cmdstanpy - INFO - Chain [1] start processing\n",
      "01:37:59 - cmdstanpy - INFO - Chain [1] start processing\n",
      "01:37:59 - cmdstanpy - INFO - Chain [1] done processing\n",
      "01:37:59 - cmdstanpy - INFO - Chain [1] done processing\n",
      "01:37:59 - cmdstanpy - INFO - Chain [1] done processing\n",
      "01:37:59 - cmdstanpy - INFO - Chain [1] done processing\n",
      "01:37:59 - cmdstanpy - INFO - Chain [1] done processing\n",
      "01:37:59 - cmdstanpy - INFO - Chain [1] done processing\n",
      "01:37:59 - cmdstanpy - INFO - Chain [1] done processing\n",
      "01:37:59 - cmdstanpy - INFO - Chain [1] done processing\n",
      "01:37:59 - cmdstanpy - INFO - Chain [1] done processing\n",
      "01:38:00 - cmdstanpy - INFO - Chain [1] start processing\n"
     ]
    },
    {
     "name": "stdout",
     "output_type": "stream",
     "text": [
      "[I 2025-08-23 01:38:00,012] Trial 40 finished with value: 291.511657044905 and parameters: {'changepoint_prior_scale': 0.12887095276025173, 'seasonality_prior_scale': 0.08857036444332432, 'holidays_prior_scale': 0.6935436821468358}. Best is trial 22 with value: 290.5432443805131.\n"
     ]
    },
    {
     "name": "stderr",
     "output_type": "stream",
     "text": [
      "01:38:00 - cmdstanpy - INFO - Chain [1] done processing\n",
      "01:38:01 - cmdstanpy - INFO - Chain [1] start processing\n",
      "01:38:01 - cmdstanpy - INFO - Chain [1] start processing\n",
      "01:38:01 - cmdstanpy - INFO - Chain [1] start processing\n",
      "01:38:01 - cmdstanpy - INFO - Chain [1] start processing\n",
      "01:38:01 - cmdstanpy - INFO - Chain [1] start processing\n",
      "01:38:01 - cmdstanpy - INFO - Chain [1] start processing\n",
      "01:38:01 - cmdstanpy - INFO - Chain [1] start processing\n",
      "01:38:01 - cmdstanpy - INFO - Chain [1] start processing\n",
      "01:38:01 - cmdstanpy - INFO - Chain [1] start processing\n",
      "01:38:01 - cmdstanpy - INFO - Chain [1] done processing\n",
      "01:38:01 - cmdstanpy - INFO - Chain [1] start processing\n",
      "01:38:01 - cmdstanpy - INFO - Chain [1] done processing\n",
      "01:38:02 - cmdstanpy - INFO - Chain [1] done processing\n",
      "01:38:02 - cmdstanpy - INFO - Chain [1] done processing\n",
      "01:38:02 - cmdstanpy - INFO - Chain [1] done processing\n",
      "01:38:02 - cmdstanpy - INFO - Chain [1] done processing\n",
      "01:38:02 - cmdstanpy - INFO - Chain [1] done processing\n",
      "01:38:02 - cmdstanpy - INFO - Chain [1] done processing\n",
      "01:38:02 - cmdstanpy - INFO - Chain [1] done processing\n",
      "01:38:02 - cmdstanpy - INFO - Chain [1] done processing\n"
     ]
    },
    {
     "name": "stdout",
     "output_type": "stream",
     "text": [
      "[I 2025-08-23 01:38:03,360] Trial 41 finished with value: 290.8356296089099 and parameters: {'changepoint_prior_scale': 0.1560256707330177, 'seasonality_prior_scale': 0.23425498142513662, 'holidays_prior_scale': 6.2555833321132415}. Best is trial 22 with value: 290.5432443805131.\n"
     ]
    },
    {
     "name": "stderr",
     "output_type": "stream",
     "text": [
      "01:38:03 - cmdstanpy - INFO - Chain [1] start processing\n",
      "01:38:03 - cmdstanpy - INFO - Chain [1] done processing\n",
      "01:38:04 - cmdstanpy - INFO - Chain [1] start processing\n",
      "01:38:04 - cmdstanpy - INFO - Chain [1] done processing\n",
      "01:38:05 - cmdstanpy - INFO - Chain [1] start processing\n",
      "01:38:05 - cmdstanpy - INFO - Chain [1] start processing\n",
      "01:38:05 - cmdstanpy - INFO - Chain [1] start processing\n",
      "01:38:05 - cmdstanpy - INFO - Chain [1] start processing\n",
      "01:38:05 - cmdstanpy - INFO - Chain [1] start processing\n",
      "01:38:05 - cmdstanpy - INFO - Chain [1] start processing\n",
      "01:38:05 - cmdstanpy - INFO - Chain [1] start processing\n",
      "01:38:05 - cmdstanpy - INFO - Chain [1] start processing\n",
      "01:38:05 - cmdstanpy - INFO - Chain [1] start processing\n",
      "01:38:05 - cmdstanpy - INFO - Chain [1] done processing\n",
      "01:38:05 - cmdstanpy - INFO - Chain [1] done processing\n",
      "01:38:06 - cmdstanpy - INFO - Chain [1] done processing\n",
      "01:38:06 - cmdstanpy - INFO - Chain [1] done processing\n",
      "01:38:06 - cmdstanpy - INFO - Chain [1] done processing\n",
      "01:38:06 - cmdstanpy - INFO - Chain [1] done processing\n",
      "01:38:06 - cmdstanpy - INFO - Chain [1] done processing\n",
      "01:38:06 - cmdstanpy - INFO - Chain [1] done processing\n",
      "01:38:06 - cmdstanpy - INFO - Chain [1] done processing\n"
     ]
    },
    {
     "name": "stdout",
     "output_type": "stream",
     "text": [
      "[I 2025-08-23 01:38:06,861] Trial 42 finished with value: 294.6866870916745 and parameters: {'changepoint_prior_scale': 0.28515398978420825, 'seasonality_prior_scale': 0.17802605119607443, 'holidays_prior_scale': 36.09368915684433}. Best is trial 22 with value: 290.5432443805131.\n"
     ]
    },
    {
     "name": "stderr",
     "output_type": "stream",
     "text": [
      "01:38:07 - cmdstanpy - INFO - Chain [1] start processing\n",
      "01:38:07 - cmdstanpy - INFO - Chain [1] done processing\n",
      "01:38:07 - cmdstanpy - INFO - Chain [1] start processing\n",
      "01:38:07 - cmdstanpy - INFO - Chain [1] start processing\n",
      "01:38:08 - cmdstanpy - INFO - Chain [1] done processing\n",
      "01:38:08 - cmdstanpy - INFO - Chain [1] done processing\n",
      "01:38:08 - cmdstanpy - INFO - Chain [1] start processing\n",
      "01:38:08 - cmdstanpy - INFO - Chain [1] start processing\n",
      "01:38:08 - cmdstanpy - INFO - Chain [1] start processing\n",
      "01:38:08 - cmdstanpy - INFO - Chain [1] start processing\n",
      "01:38:08 - cmdstanpy - INFO - Chain [1] start processing\n",
      "01:38:08 - cmdstanpy - INFO - Chain [1] start processing\n",
      "01:38:08 - cmdstanpy - INFO - Chain [1] start processing\n",
      "01:38:09 - cmdstanpy - INFO - Chain [1] done processing\n",
      "01:38:09 - cmdstanpy - INFO - Chain [1] done processing\n",
      "01:38:09 - cmdstanpy - INFO - Chain [1] done processing\n",
      "01:38:09 - cmdstanpy - INFO - Chain [1] done processing\n",
      "01:38:09 - cmdstanpy - INFO - Chain [1] done processing\n",
      "01:38:09 - cmdstanpy - INFO - Chain [1] done processing\n",
      "01:38:09 - cmdstanpy - INFO - Chain [1] start processing\n",
      "01:38:09 - cmdstanpy - INFO - Chain [1] done processing\n",
      "01:38:09 - cmdstanpy - INFO - Chain [1] done processing\n",
      "01:38:10 - cmdstanpy - INFO - Chain [1] start processing\n"
     ]
    },
    {
     "name": "stdout",
     "output_type": "stream",
     "text": [
      "[I 2025-08-23 01:38:09,860] Trial 43 finished with value: 290.8926896090534 and parameters: {'changepoint_prior_scale': 0.1542534662740624, 'seasonality_prior_scale': 0.2786643134627382, 'holidays_prior_scale': 7.138933690502635}. Best is trial 22 with value: 290.5432443805131.\n"
     ]
    },
    {
     "name": "stderr",
     "output_type": "stream",
     "text": [
      "01:38:10 - cmdstanpy - INFO - Chain [1] done processing\n",
      "01:38:10 - cmdstanpy - INFO - Chain [1] start processing\n",
      "01:38:10 - cmdstanpy - INFO - Chain [1] done processing\n",
      "01:38:11 - cmdstanpy - INFO - Chain [1] start processing\n",
      "01:38:11 - cmdstanpy - INFO - Chain [1] start processing\n",
      "01:38:11 - cmdstanpy - INFO - Chain [1] start processing\n",
      "01:38:11 - cmdstanpy - INFO - Chain [1] start processing\n",
      "01:38:11 - cmdstanpy - INFO - Chain [1] start processing\n",
      "01:38:11 - cmdstanpy - INFO - Chain [1] start processing\n",
      "01:38:11 - cmdstanpy - INFO - Chain [1] start processing\n",
      "01:38:11 - cmdstanpy - INFO - Chain [1] start processing\n",
      "01:38:11 - cmdstanpy - INFO - Chain [1] done processing\n",
      "01:38:11 - cmdstanpy - INFO - Chain [1] start processing\n",
      "01:38:11 - cmdstanpy - INFO - Chain [1] done processing\n",
      "01:38:11 - cmdstanpy - INFO - Chain [1] done processing\n",
      "01:38:11 - cmdstanpy - INFO - Chain [1] done processing\n",
      "01:38:11 - cmdstanpy - INFO - Chain [1] done processing\n",
      "01:38:11 - cmdstanpy - INFO - Chain [1] done processing\n",
      "01:38:11 - cmdstanpy - INFO - Chain [1] done processing\n",
      "01:38:11 - cmdstanpy - INFO - Chain [1] done processing\n",
      "01:38:12 - cmdstanpy - INFO - Chain [1] done processing\n",
      "01:38:12 - cmdstanpy - INFO - Chain [1] start processing\n"
     ]
    },
    {
     "name": "stdout",
     "output_type": "stream",
     "text": [
      "[I 2025-08-23 01:38:12,524] Trial 44 finished with value: 292.60172946792267 and parameters: {'changepoint_prior_scale': 0.06509783081874992, 'seasonality_prior_scale': 0.11947642848924817, 'holidays_prior_scale': 2.9675699073334236}. Best is trial 22 with value: 290.5432443805131.\n"
     ]
    },
    {
     "name": "stderr",
     "output_type": "stream",
     "text": [
      "01:38:12 - cmdstanpy - INFO - Chain [1] done processing\n",
      "01:38:13 - cmdstanpy - INFO - Chain [1] start processing\n",
      "01:38:13 - cmdstanpy - INFO - Chain [1] start processing\n",
      "01:38:13 - cmdstanpy - INFO - Chain [1] start processing\n",
      "01:38:14 - cmdstanpy - INFO - Chain [1] start processing\n",
      "01:38:14 - cmdstanpy - INFO - Chain [1] done processing\n",
      "01:38:14 - cmdstanpy - INFO - Chain [1] done processing\n",
      "01:38:14 - cmdstanpy - INFO - Chain [1] done processing\n",
      "01:38:14 - cmdstanpy - INFO - Chain [1] start processing\n",
      "01:38:14 - cmdstanpy - INFO - Chain [1] start processing\n",
      "01:38:14 - cmdstanpy - INFO - Chain [1] start processing\n",
      "01:38:14 - cmdstanpy - INFO - Chain [1] done processing\n",
      "01:38:14 - cmdstanpy - INFO - Chain [1] start processing\n",
      "01:38:14 - cmdstanpy - INFO - Chain [1] done processing\n",
      "01:38:14 - cmdstanpy - INFO - Chain [1] done processing\n",
      "01:38:14 - cmdstanpy - INFO - Chain [1] done processing\n",
      "01:38:14 - cmdstanpy - INFO - Chain [1] done processing\n",
      "01:38:14 - cmdstanpy - INFO - Chain [1] start processing\n",
      "01:38:14 - cmdstanpy - INFO - Chain [1] start processing\n",
      "01:38:15 - cmdstanpy - INFO - Chain [1] done processing\n",
      "01:38:15 - cmdstanpy - INFO - Chain [1] done processing\n"
     ]
    },
    {
     "name": "stdout",
     "output_type": "stream",
     "text": [
      "[I 2025-08-23 01:38:15,385] Trial 45 finished with value: 293.2520786508992 and parameters: {'changepoint_prior_scale': 0.29281270752348804, 'seasonality_prior_scale': 1.1279294860153128, 'holidays_prior_scale': 14.373566910800896}. Best is trial 22 with value: 290.5432443805131.\n"
     ]
    },
    {
     "name": "stderr",
     "output_type": "stream",
     "text": [
      "01:38:15 - cmdstanpy - INFO - Chain [1] start processing\n",
      "01:38:15 - cmdstanpy - INFO - Chain [1] done processing\n",
      "01:38:16 - cmdstanpy - INFO - Chain [1] start processing\n",
      "01:38:16 - cmdstanpy - INFO - Chain [1] done processing\n",
      "01:38:17 - cmdstanpy - INFO - Chain [1] start processing\n",
      "01:38:17 - cmdstanpy - INFO - Chain [1] start processing\n",
      "01:38:17 - cmdstanpy - INFO - Chain [1] start processing\n",
      "01:38:17 - cmdstanpy - INFO - Chain [1] start processing\n",
      "01:38:17 - cmdstanpy - INFO - Chain [1] start processing\n",
      "01:38:17 - cmdstanpy - INFO - Chain [1] start processing\n",
      "01:38:17 - cmdstanpy - INFO - Chain [1] start processing\n",
      "01:38:17 - cmdstanpy - INFO - Chain [1] start processing\n",
      "01:38:17 - cmdstanpy - INFO - Chain [1] start processing\n",
      "01:38:17 - cmdstanpy - INFO - Chain [1] done processing\n",
      "01:38:17 - cmdstanpy - INFO - Chain [1] done processing\n",
      "01:38:17 - cmdstanpy - INFO - Chain [1] done processing\n",
      "01:38:17 - cmdstanpy - INFO - Chain [1] done processing\n",
      "01:38:17 - cmdstanpy - INFO - Chain [1] done processing\n",
      "01:38:17 - cmdstanpy - INFO - Chain [1] done processing\n",
      "01:38:18 - cmdstanpy - INFO - Chain [1] done processing\n",
      "01:38:18 - cmdstanpy - INFO - Chain [1] done processing\n",
      "01:38:18 - cmdstanpy - INFO - Chain [1] done processing\n",
      "01:38:18 - cmdstanpy - INFO - Chain [1] start processing\n"
     ]
    },
    {
     "name": "stdout",
     "output_type": "stream",
     "text": [
      "[I 2025-08-23 01:38:18,563] Trial 46 finished with value: 291.6787205211677 and parameters: {'changepoint_prior_scale': 0.11085630263853592, 'seasonality_prior_scale': 2.380199180085571, 'holidays_prior_scale': 1.2228010939703409}. Best is trial 22 with value: 290.5432443805131.\n"
     ]
    },
    {
     "name": "stderr",
     "output_type": "stream",
     "text": [
      "01:38:18 - cmdstanpy - INFO - Chain [1] done processing\n",
      "01:38:19 - cmdstanpy - INFO - Chain [1] start processing\n",
      "01:38:19 - cmdstanpy - INFO - Chain [1] done processing\n",
      "01:38:19 - cmdstanpy - INFO - Chain [1] start processing\n",
      "01:38:19 - cmdstanpy - INFO - Chain [1] start processing\n",
      "01:38:20 - cmdstanpy - INFO - Chain [1] start processing\n",
      "01:38:20 - cmdstanpy - INFO - Chain [1] start processing\n",
      "01:38:20 - cmdstanpy - INFO - Chain [1] start processing\n",
      "01:38:20 - cmdstanpy - INFO - Chain [1] done processing\n",
      "01:38:20 - cmdstanpy - INFO - Chain [1] start processing\n",
      "01:38:20 - cmdstanpy - INFO - Chain [1] start processing\n",
      "01:38:20 - cmdstanpy - INFO - Chain [1] start processing\n",
      "01:38:20 - cmdstanpy - INFO - Chain [1] start processing\n",
      "01:38:20 - cmdstanpy - INFO - Chain [1] done processing\n",
      "01:38:20 - cmdstanpy - INFO - Chain [1] done processing\n",
      "01:38:20 - cmdstanpy - INFO - Chain [1] done processing\n",
      "01:38:20 - cmdstanpy - INFO - Chain [1] done processing\n",
      "01:38:20 - cmdstanpy - INFO - Chain [1] done processing\n",
      "01:38:20 - cmdstanpy - INFO - Chain [1] done processing\n",
      "01:38:20 - cmdstanpy - INFO - Chain [1] done processing\n",
      "01:38:20 - cmdstanpy - INFO - Chain [1] done processing\n",
      "01:38:21 - cmdstanpy - INFO - Chain [1] start processing\n"
     ]
    },
    {
     "name": "stdout",
     "output_type": "stream",
     "text": [
      "[I 2025-08-23 01:38:21,105] Trial 47 finished with value: 293.51932981976836 and parameters: {'changepoint_prior_scale': 0.041216197973415324, 'seasonality_prior_scale': 0.07103963888020894, 'holidays_prior_scale': 1.8793192503305145}. Best is trial 22 with value: 290.5432443805131.\n"
     ]
    },
    {
     "name": "stderr",
     "output_type": "stream",
     "text": [
      "01:38:21 - cmdstanpy - INFO - Chain [1] done processing\n",
      "01:38:22 - cmdstanpy - INFO - Chain [1] start processing\n",
      "01:38:22 - cmdstanpy - INFO - Chain [1] done processing\n",
      "01:38:22 - cmdstanpy - INFO - Chain [1] start processing\n",
      "01:38:22 - cmdstanpy - INFO - Chain [1] start processing\n",
      "01:38:22 - cmdstanpy - INFO - Chain [1] start processing\n",
      "01:38:22 - cmdstanpy - INFO - Chain [1] done processing\n",
      "01:38:22 - cmdstanpy - INFO - Chain [1] start processing\n",
      "01:38:22 - cmdstanpy - INFO - Chain [1] start processing\n",
      "01:38:22 - cmdstanpy - INFO - Chain [1] start processing\n",
      "01:38:22 - cmdstanpy - INFO - Chain [1] start processing\n",
      "01:38:22 - cmdstanpy - INFO - Chain [1] start processing\n",
      "01:38:22 - cmdstanpy - INFO - Chain [1] start processing\n",
      "01:38:23 - cmdstanpy - INFO - Chain [1] done processing\n",
      "01:38:23 - cmdstanpy - INFO - Chain [1] done processing\n",
      "01:38:23 - cmdstanpy - INFO - Chain [1] done processing\n",
      "01:38:23 - cmdstanpy - INFO - Chain [1] done processing\n",
      "01:38:23 - cmdstanpy - INFO - Chain [1] done processing\n",
      "01:38:23 - cmdstanpy - INFO - Chain [1] done processing\n",
      "01:38:23 - cmdstanpy - INFO - Chain [1] done processing\n",
      "01:38:23 - cmdstanpy - INFO - Chain [1] done processing\n",
      "01:38:24 - cmdstanpy - INFO - Chain [1] start processing\n"
     ]
    },
    {
     "name": "stdout",
     "output_type": "stream",
     "text": [
      "[I 2025-08-23 01:38:23,841] Trial 48 finished with value: 291.90623457604664 and parameters: {'changepoint_prior_scale': 0.21034797992697934, 'seasonality_prior_scale': 0.20620890123895594, 'holidays_prior_scale': 22.524663337605716}. Best is trial 22 with value: 290.5432443805131.\n"
     ]
    },
    {
     "name": "stderr",
     "output_type": "stream",
     "text": [
      "01:38:24 - cmdstanpy - INFO - Chain [1] done processing\n",
      "01:38:24 - cmdstanpy - ERROR - Chain [1] error: error during processing Operation not permitted\n",
      "Optimization terminated abnormally. Falling back to Newton.\n",
      "01:38:24 - cmdstanpy - INFO - Chain [1] start processing\n",
      "01:38:25 - cmdstanpy - INFO - Chain [1] done processing\n",
      "01:38:26 - cmdstanpy - INFO - Chain [1] start processing\n",
      "01:38:26 - cmdstanpy - INFO - Chain [1] done processing\n",
      "01:38:27 - cmdstanpy - INFO - Chain [1] start processing\n",
      "01:38:27 - cmdstanpy - INFO - Chain [1] start processing\n",
      "01:38:27 - cmdstanpy - INFO - Chain [1] start processing\n",
      "01:38:27 - cmdstanpy - INFO - Chain [1] start processing\n",
      "01:38:27 - cmdstanpy - INFO - Chain [1] start processing\n",
      "01:38:27 - cmdstanpy - INFO - Chain [1] start processing\n",
      "01:38:27 - cmdstanpy - INFO - Chain [1] start processing\n",
      "01:38:27 - cmdstanpy - INFO - Chain [1] start processing\n",
      "01:38:27 - cmdstanpy - INFO - Chain [1] start processing\n",
      "01:38:27 - cmdstanpy - INFO - Chain [1] done processing\n",
      "01:38:27 - cmdstanpy - INFO - Chain [1] done processing\n",
      "01:38:27 - cmdstanpy - ERROR - Chain [1] error: error during processing Operation not permitted\n",
      "01:38:27 - cmdstanpy - ERROR - Chain [1] error: error during processing Operation not permitted\n",
      "Optimization terminated abnormally. Falling back to Newton.\n",
      "Optimization terminated abnormally. Falling back to Newton.\n",
      "01:38:27 - cmdstanpy - INFO - Chain [1] done processing\n",
      "01:38:27 - cmdstanpy - ERROR - Chain [1] error: error during processing Operation not permitted\n",
      "01:38:27 - cmdstanpy - INFO - Chain [1] done processing\n",
      "01:38:27 - cmdstanpy - ERROR - Chain [1] error: error during processing Operation not permitted\n",
      "Optimization terminated abnormally. Falling back to Newton.\n",
      "01:38:27 - cmdstanpy - INFO - Chain [1] done processing\n",
      "Optimization terminated abnormally. Falling back to Newton.\n",
      "01:38:27 - cmdstanpy - INFO - Chain [1] done processing\n",
      "01:38:27 - cmdstanpy - INFO - Chain [1] done processing\n",
      "01:38:27 - cmdstanpy - INFO - Chain [1] done processing\n",
      "01:38:27 - cmdstanpy - ERROR - Chain [1] error: error during processing Operation not permitted\n",
      "01:38:27 - cmdstanpy - INFO - Chain [1] done processing\n",
      "01:38:27 - cmdstanpy - ERROR - Chain [1] error: error during processing Operation not permitted\n",
      "Optimization terminated abnormally. Falling back to Newton.\n",
      "01:38:27 - cmdstanpy - ERROR - Chain [1] error: error during processing Operation not permitted\n",
      "01:38:27 - cmdstanpy - ERROR - Chain [1] error: error during processing Operation not permitted\n",
      "Optimization terminated abnormally. Falling back to Newton.\n",
      "01:38:28 - cmdstanpy - INFO - Chain [1] start processing\n",
      "01:38:28 - cmdstanpy - INFO - Chain [1] start processing\n",
      "Optimization terminated abnormally. Falling back to Newton.\n",
      "01:38:28 - cmdstanpy - INFO - Chain [1] start processing\n",
      "Optimization terminated abnormally. Falling back to Newton.\n",
      "01:38:28 - cmdstanpy - INFO - Chain [1] start processing\n",
      "01:38:28 - cmdstanpy - INFO - Chain [1] start processing\n",
      "01:38:28 - cmdstanpy - INFO - Chain [1] start processing\n",
      "01:38:28 - cmdstanpy - INFO - Chain [1] start processing\n",
      "01:38:28 - cmdstanpy - INFO - Chain [1] start processing\n",
      "01:38:32 - cmdstanpy - INFO - Chain [1] done processing\n",
      "01:38:32 - cmdstanpy - INFO - Chain [1] done processing\n",
      "01:38:32 - cmdstanpy - INFO - Chain [1] done processing\n",
      "01:38:33 - cmdstanpy - INFO - Chain [1] done processing\n",
      "01:38:33 - cmdstanpy - INFO - Chain [1] done processing\n",
      "01:38:34 - cmdstanpy - INFO - Chain [1] done processing\n",
      "01:38:36 - cmdstanpy - INFO - Chain [1] done processing\n",
      "01:38:37 - cmdstanpy - INFO - Chain [1] done processing\n",
      "01:38:38 - cmdstanpy - INFO - Chain [1] start processing\n"
     ]
    },
    {
     "name": "stdout",
     "output_type": "stream",
     "text": [
      "[I 2025-08-23 01:38:38,067] Trial 49 finished with value: 320.25858449923595 and parameters: {'changepoint_prior_scale': 0.00043315204104828897, 'seasonality_prior_scale': 0.47891202988223425, 'holidays_prior_scale': 0.6387191779785684}. Best is trial 22 with value: 290.5432443805131.\n"
     ]
    },
    {
     "name": "stderr",
     "output_type": "stream",
     "text": [
      "01:38:38 - cmdstanpy - INFO - Chain [1] done processing\n",
      "01:38:39 - cmdstanpy - INFO - Chain [1] start processing\n",
      "01:38:39 - cmdstanpy - INFO - Chain [1] start processing\n",
      "01:38:39 - cmdstanpy - INFO - Chain [1] start processing\n",
      "01:38:39 - cmdstanpy - INFO - Chain [1] done processing\n",
      "01:38:39 - cmdstanpy - INFO - Chain [1] done processing\n",
      "01:38:39 - cmdstanpy - INFO - Chain [1] start processing\n",
      "01:38:39 - cmdstanpy - INFO - Chain [1] start processing\n",
      "01:38:39 - cmdstanpy - INFO - Chain [1] start processing\n",
      "01:38:39 - cmdstanpy - INFO - Chain [1] start processing\n",
      "01:38:39 - cmdstanpy - INFO - Chain [1] start processing\n",
      "01:38:39 - cmdstanpy - INFO - Chain [1] start processing\n",
      "01:38:39 - cmdstanpy - INFO - Chain [1] done processing\n",
      "01:38:39 - cmdstanpy - INFO - Chain [1] done processing\n",
      "01:38:39 - cmdstanpy - INFO - Chain [1] done processing\n",
      "01:38:39 - cmdstanpy - INFO - Chain [1] start processing\n",
      "01:38:39 - cmdstanpy - INFO - Chain [1] done processing\n",
      "01:38:40 - cmdstanpy - INFO - Chain [1] done processing\n",
      "01:38:40 - cmdstanpy - INFO - Chain [1] done processing\n",
      "01:38:40 - cmdstanpy - INFO - Chain [1] done processing\n",
      "01:38:40 - cmdstanpy - INFO - Chain [1] done processing\n",
      "01:38:40 - cmdstanpy - INFO - Chain [1] start processing\n"
     ]
    },
    {
     "name": "stdout",
     "output_type": "stream",
     "text": [
      "[I 2025-08-23 01:38:40,666] Trial 50 finished with value: 292.9806356097564 and parameters: {'changepoint_prior_scale': 0.012035575520595988, 'seasonality_prior_scale': 0.7032992544159161, 'holidays_prior_scale': 3.6609640341683507}. Best is trial 22 with value: 290.5432443805131.\n"
     ]
    },
    {
     "name": "stderr",
     "output_type": "stream",
     "text": [
      "01:38:41 - cmdstanpy - INFO - Chain [1] done processing\n",
      "01:38:41 - cmdstanpy - INFO - Chain [1] start processing\n",
      "01:38:41 - cmdstanpy - INFO - Chain [1] start processing\n",
      "01:38:41 - cmdstanpy - INFO - Chain [1] done processing\n",
      "01:38:41 - cmdstanpy - INFO - Chain [1] done processing\n",
      "01:38:42 - cmdstanpy - INFO - Chain [1] start processing\n",
      "01:38:42 - cmdstanpy - INFO - Chain [1] start processing\n",
      "01:38:42 - cmdstanpy - INFO - Chain [1] start processing\n",
      "01:38:42 - cmdstanpy - INFO - Chain [1] start processing\n",
      "01:38:42 - cmdstanpy - INFO - Chain [1] start processing\n",
      "01:38:42 - cmdstanpy - INFO - Chain [1] done processing\n",
      "01:38:42 - cmdstanpy - INFO - Chain [1] done processing\n",
      "01:38:42 - cmdstanpy - INFO - Chain [1] done processing\n",
      "01:38:42 - cmdstanpy - INFO - Chain [1] start processing\n",
      "01:38:42 - cmdstanpy - INFO - Chain [1] done processing\n",
      "01:38:42 - cmdstanpy - INFO - Chain [1] done processing\n",
      "01:38:42 - cmdstanpy - INFO - Chain [1] start processing\n",
      "01:38:42 - cmdstanpy - INFO - Chain [1] start processing\n",
      "01:38:43 - cmdstanpy - INFO - Chain [1] done processing\n",
      "01:38:43 - cmdstanpy - INFO - Chain [1] done processing\n",
      "01:38:43 - cmdstanpy - INFO - Chain [1] done processing\n",
      "01:38:43 - cmdstanpy - INFO - Chain [1] start processing\n"
     ]
    },
    {
     "name": "stdout",
     "output_type": "stream",
     "text": [
      "[I 2025-08-23 01:38:43,375] Trial 51 finished with value: 290.8567565610407 and parameters: {'changepoint_prior_scale': 0.16128790281852443, 'seasonality_prior_scale': 0.2559875321986115, 'holidays_prior_scale': 7.075434190345828}. Best is trial 22 with value: 290.5432443805131.\n"
     ]
    },
    {
     "name": "stderr",
     "output_type": "stream",
     "text": [
      "01:38:43 - cmdstanpy - INFO - Chain [1] done processing\n",
      "01:38:44 - cmdstanpy - INFO - Chain [1] start processing\n",
      "01:38:44 - cmdstanpy - INFO - Chain [1] start processing\n",
      "01:38:44 - cmdstanpy - INFO - Chain [1] start processing\n",
      "01:38:44 - cmdstanpy - INFO - Chain [1] done processing\n",
      "01:38:44 - cmdstanpy - INFO - Chain [1] start processing\n",
      "01:38:44 - cmdstanpy - INFO - Chain [1] start processing\n",
      "01:38:45 - cmdstanpy - INFO - Chain [1] done processing\n",
      "01:38:45 - cmdstanpy - INFO - Chain [1] done processing\n",
      "01:38:45 - cmdstanpy - INFO - Chain [1] done processing\n",
      "01:38:45 - cmdstanpy - INFO - Chain [1] done processing\n",
      "01:38:45 - cmdstanpy - INFO - Chain [1] start processing\n",
      "01:38:45 - cmdstanpy - INFO - Chain [1] start processing\n",
      "01:38:45 - cmdstanpy - INFO - Chain [1] start processing\n",
      "01:38:45 - cmdstanpy - INFO - Chain [1] start processing\n",
      "01:38:45 - cmdstanpy - INFO - Chain [1] start processing\n",
      "01:38:45 - cmdstanpy - INFO - Chain [1] done processing\n",
      "01:38:45 - cmdstanpy - INFO - Chain [1] done processing\n",
      "01:38:45 - cmdstanpy - INFO - Chain [1] done processing\n",
      "01:38:45 - cmdstanpy - INFO - Chain [1] done processing\n",
      "01:38:45 - cmdstanpy - INFO - Chain [1] done processing\n",
      "01:38:46 - cmdstanpy - INFO - Chain [1] start processing\n"
     ]
    },
    {
     "name": "stdout",
     "output_type": "stream",
     "text": [
      "[I 2025-08-23 01:38:46,160] Trial 52 finished with value: 292.261348787092 and parameters: {'changepoint_prior_scale': 0.09186924278431068, 'seasonality_prior_scale': 0.19771980617467902, 'holidays_prior_scale': 6.27975774482213}. Best is trial 22 with value: 290.5432443805131.\n"
     ]
    },
    {
     "name": "stderr",
     "output_type": "stream",
     "text": [
      "01:38:46 - cmdstanpy - INFO - Chain [1] done processing\n",
      "01:38:47 - cmdstanpy - INFO - Chain [1] start processing\n",
      "01:38:47 - cmdstanpy - INFO - Chain [1] done processing\n",
      "01:38:47 - cmdstanpy - INFO - Chain [1] start processing\n",
      "01:38:47 - cmdstanpy - INFO - Chain [1] start processing\n",
      "01:38:47 - cmdstanpy - INFO - Chain [1] start processing\n",
      "01:38:47 - cmdstanpy - INFO - Chain [1] start processing\n",
      "01:38:47 - cmdstanpy - INFO - Chain [1] start processing\n",
      "01:38:47 - cmdstanpy - INFO - Chain [1] start processing\n",
      "01:38:47 - cmdstanpy - INFO - Chain [1] start processing\n",
      "01:38:47 - cmdstanpy - INFO - Chain [1] start processing\n",
      "01:38:47 - cmdstanpy - INFO - Chain [1] start processing\n",
      "01:38:48 - cmdstanpy - INFO - Chain [1] done processing\n",
      "01:38:48 - cmdstanpy - INFO - Chain [1] done processing\n",
      "01:38:48 - cmdstanpy - INFO - Chain [1] done processing\n",
      "01:38:48 - cmdstanpy - INFO - Chain [1] done processing\n",
      "01:38:48 - cmdstanpy - INFO - Chain [1] done processing\n",
      "01:38:48 - cmdstanpy - INFO - Chain [1] done processing\n",
      "01:38:48 - cmdstanpy - INFO - Chain [1] done processing\n",
      "01:38:48 - cmdstanpy - INFO - Chain [1] done processing\n",
      "01:38:48 - cmdstanpy - INFO - Chain [1] done processing\n",
      "01:38:49 - cmdstanpy - INFO - Chain [1] start processing\n"
     ]
    },
    {
     "name": "stdout",
     "output_type": "stream",
     "text": [
      "[I 2025-08-23 01:38:48,845] Trial 53 finished with value: 296.83825355904185 and parameters: {'changepoint_prior_scale': 0.3904997642973668, 'seasonality_prior_scale': 0.29719777638575456, 'holidays_prior_scale': 11.962148028479863}. Best is trial 22 with value: 290.5432443805131.\n"
     ]
    },
    {
     "name": "stderr",
     "output_type": "stream",
     "text": [
      "01:38:49 - cmdstanpy - INFO - Chain [1] done processing\n",
      "01:38:49 - cmdstanpy - INFO - Chain [1] start processing\n",
      "01:38:49 - cmdstanpy - INFO - Chain [1] start processing\n",
      "01:38:50 - cmdstanpy - INFO - Chain [1] start processing\n",
      "01:38:50 - cmdstanpy - INFO - Chain [1] done processing\n",
      "01:38:50 - cmdstanpy - INFO - Chain [1] done processing\n",
      "01:38:50 - cmdstanpy - INFO - Chain [1] start processing\n",
      "01:38:50 - cmdstanpy - INFO - Chain [1] done processing\n",
      "01:38:50 - cmdstanpy - INFO - Chain [1] start processing\n",
      "01:38:50 - cmdstanpy - INFO - Chain [1] start processing\n",
      "01:38:50 - cmdstanpy - INFO - Chain [1] start processing\n",
      "01:38:50 - cmdstanpy - INFO - Chain [1] start processing\n",
      "01:38:50 - cmdstanpy - INFO - Chain [1] done processing\n",
      "01:38:50 - cmdstanpy - INFO - Chain [1] start processing\n",
      "01:38:51 - cmdstanpy - INFO - Chain [1] done processing\n",
      "01:38:51 - cmdstanpy - INFO - Chain [1] done processing\n",
      "01:38:51 - cmdstanpy - INFO - Chain [1] done processing\n",
      "01:38:51 - cmdstanpy - INFO - Chain [1] start processing\n",
      "01:38:51 - cmdstanpy - INFO - Chain [1] done processing\n",
      "01:38:51 - cmdstanpy - INFO - Chain [1] done processing\n",
      "01:38:51 - cmdstanpy - INFO - Chain [1] done processing\n",
      "01:38:51 - cmdstanpy - INFO - Chain [1] start processing\n"
     ]
    },
    {
     "name": "stdout",
     "output_type": "stream",
     "text": [
      "[I 2025-08-23 01:38:51,588] Trial 54 finished with value: 291.50411067969765 and parameters: {'changepoint_prior_scale': 0.18487471756081686, 'seasonality_prior_scale': 0.12616568740422707, 'holidays_prior_scale': 3.0046034883368713}. Best is trial 22 with value: 290.5432443805131.\n"
     ]
    },
    {
     "name": "stderr",
     "output_type": "stream",
     "text": [
      "01:38:51 - cmdstanpy - INFO - Chain [1] done processing\n",
      "01:38:52 - cmdstanpy - INFO - Chain [1] start processing\n",
      "01:38:52 - cmdstanpy - INFO - Chain [1] done processing\n",
      "01:38:53 - cmdstanpy - INFO - Chain [1] start processing\n",
      "01:38:53 - cmdstanpy - INFO - Chain [1] start processing\n",
      "01:38:53 - cmdstanpy - INFO - Chain [1] start processing\n",
      "01:38:53 - cmdstanpy - INFO - Chain [1] start processing\n",
      "01:38:53 - cmdstanpy - INFO - Chain [1] start processing\n",
      "01:38:53 - cmdstanpy - INFO - Chain [1] start processing\n",
      "01:38:53 - cmdstanpy - INFO - Chain [1] start processing\n",
      "01:38:53 - cmdstanpy - INFO - Chain [1] done processing\n",
      "01:38:53 - cmdstanpy - INFO - Chain [1] done processing\n",
      "01:38:53 - cmdstanpy - INFO - Chain [1] start processing\n",
      "01:38:53 - cmdstanpy - INFO - Chain [1] done processing\n",
      "01:38:53 - cmdstanpy - INFO - Chain [1] done processing\n",
      "01:38:53 - cmdstanpy - INFO - Chain [1] start processing\n",
      "01:38:53 - cmdstanpy - INFO - Chain [1] done processing\n",
      "01:38:53 - cmdstanpy - INFO - Chain [1] done processing\n",
      "01:38:53 - cmdstanpy - INFO - Chain [1] done processing\n",
      "01:38:53 - cmdstanpy - INFO - Chain [1] done processing\n",
      "01:38:53 - cmdstanpy - INFO - Chain [1] done processing\n"
     ]
    },
    {
     "name": "stdout",
     "output_type": "stream",
     "text": [
      "[I 2025-08-23 01:38:54,291] Trial 55 finished with value: 288.9570544859316 and parameters: {'changepoint_prior_scale': 0.003900716029156354, 'seasonality_prior_scale': 0.8139330492095386, 'holidays_prior_scale': 1.0948909413754362}. Best is trial 55 with value: 288.9570544859316.\n"
     ]
    },
    {
     "name": "stderr",
     "output_type": "stream",
     "text": [
      "01:38:54 - cmdstanpy - INFO - Chain [1] start processing\n",
      "01:38:54 - cmdstanpy - INFO - Chain [1] done processing\n",
      "01:38:55 - cmdstanpy - INFO - Chain [1] start processing\n",
      "01:38:55 - cmdstanpy - INFO - Chain [1] done processing\n",
      "01:38:55 - cmdstanpy - INFO - Chain [1] start processing\n",
      "01:38:55 - cmdstanpy - INFO - Chain [1] start processing\n",
      "01:38:55 - cmdstanpy - INFO - Chain [1] start processing\n",
      "01:38:56 - cmdstanpy - INFO - Chain [1] start processing\n",
      "01:38:56 - cmdstanpy - INFO - Chain [1] start processing\n",
      "01:38:56 - cmdstanpy - INFO - Chain [1] start processing\n",
      "01:38:56 - cmdstanpy - INFO - Chain [1] start processing\n",
      "01:38:56 - cmdstanpy - INFO - Chain [1] start processing\n",
      "01:38:56 - cmdstanpy - INFO - Chain [1] start processing\n",
      "01:38:56 - cmdstanpy - INFO - Chain [1] done processing\n",
      "01:38:56 - cmdstanpy - INFO - Chain [1] done processing\n",
      "01:38:56 - cmdstanpy - INFO - Chain [1] done processing\n",
      "01:38:56 - cmdstanpy - INFO - Chain [1] done processing\n",
      "01:38:56 - cmdstanpy - INFO - Chain [1] done processing\n",
      "01:38:56 - cmdstanpy - INFO - Chain [1] done processing\n",
      "01:38:56 - cmdstanpy - INFO - Chain [1] done processing\n",
      "01:38:56 - cmdstanpy - INFO - Chain [1] done processing\n",
      "01:38:56 - cmdstanpy - INFO - Chain [1] done processing\n"
     ]
    },
    {
     "name": "stdout",
     "output_type": "stream",
     "text": [
      "[I 2025-08-23 01:38:56,958] Trial 56 finished with value: 291.59443501454933 and parameters: {'changepoint_prior_scale': 0.002879059042303727, 'seasonality_prior_scale': 2.2786433449030956, 'holidays_prior_scale': 0.20105006559195085}. Best is trial 55 with value: 288.9570544859316.\n"
     ]
    },
    {
     "name": "stderr",
     "output_type": "stream",
     "text": [
      "01:38:57 - cmdstanpy - INFO - Chain [1] start processing\n",
      "01:38:57 - cmdstanpy - INFO - Chain [1] done processing\n",
      "01:38:57 - cmdstanpy - INFO - Chain [1] start processing\n",
      "01:38:57 - cmdstanpy - INFO - Chain [1] done processing\n",
      "01:38:58 - cmdstanpy - INFO - Chain [1] start processing\n",
      "01:38:58 - cmdstanpy - INFO - Chain [1] start processing\n",
      "01:38:58 - cmdstanpy - INFO - Chain [1] start processing\n",
      "01:38:58 - cmdstanpy - INFO - Chain [1] start processing\n",
      "01:38:58 - cmdstanpy - INFO - Chain [1] done processing\n",
      "01:38:58 - cmdstanpy - INFO - Chain [1] start processing\n",
      "01:38:58 - cmdstanpy - INFO - Chain [1] start processing\n",
      "01:38:58 - cmdstanpy - INFO - Chain [1] start processing\n",
      "01:38:58 - cmdstanpy - INFO - Chain [1] start processing\n",
      "01:38:58 - cmdstanpy - INFO - Chain [1] start processing\n",
      "01:38:58 - cmdstanpy - INFO - Chain [1] done processing\n",
      "01:38:58 - cmdstanpy - INFO - Chain [1] done processing\n",
      "01:38:58 - cmdstanpy - INFO - Chain [1] done processing\n",
      "01:38:58 - cmdstanpy - INFO - Chain [1] done processing\n",
      "01:38:58 - cmdstanpy - INFO - Chain [1] done processing\n",
      "01:38:59 - cmdstanpy - INFO - Chain [1] done processing\n",
      "01:38:59 - cmdstanpy - INFO - Chain [1] done processing\n",
      "01:38:59 - cmdstanpy - INFO - Chain [1] done processing\n",
      "01:38:59 - cmdstanpy - INFO - Chain [1] start processing\n"
     ]
    },
    {
     "name": "stdout",
     "output_type": "stream",
     "text": [
      "[I 2025-08-23 01:38:59,564] Trial 57 finished with value: 295.1608228973634 and parameters: {'changepoint_prior_scale': 0.004587235781084035, 'seasonality_prior_scale': 0.9574515054868893, 'holidays_prior_scale': 1.1815608358156446}. Best is trial 55 with value: 288.9570544859316.\n"
     ]
    },
    {
     "name": "stderr",
     "output_type": "stream",
     "text": [
      "01:38:59 - cmdstanpy - INFO - Chain [1] done processing\n",
      "01:39:00 - cmdstanpy - INFO - Chain [1] start processing\n",
      "01:39:00 - cmdstanpy - INFO - Chain [1] done processing\n",
      "01:39:00 - cmdstanpy - INFO - Chain [1] start processing\n",
      "01:39:00 - cmdstanpy - INFO - Chain [1] start processing\n",
      "01:39:01 - cmdstanpy - INFO - Chain [1] start processing\n",
      "01:39:01 - cmdstanpy - INFO - Chain [1] done processing\n",
      "01:39:01 - cmdstanpy - INFO - Chain [1] start processing\n",
      "01:39:01 - cmdstanpy - INFO - Chain [1] done processing\n",
      "01:39:01 - cmdstanpy - INFO - Chain [1] start processing\n",
      "01:39:01 - cmdstanpy - INFO - Chain [1] start processing\n",
      "01:39:01 - cmdstanpy - INFO - Chain [1] start processing\n",
      "01:39:01 - cmdstanpy - INFO - Chain [1] start processing\n",
      "01:39:01 - cmdstanpy - INFO - Chain [1] done processing\n",
      "01:39:01 - cmdstanpy - ERROR - Chain [1] error: error during processing Operation not permitted\n",
      "01:39:01 - cmdstanpy - INFO - Chain [1] done processing\n",
      "01:39:01 - cmdstanpy - INFO - Chain [1] start processing\n",
      "01:39:01 - cmdstanpy - INFO - Chain [1] done processing\n",
      "01:39:01 - cmdstanpy - INFO - Chain [1] done processing\n",
      "Optimization terminated abnormally. Falling back to Newton.\n",
      "01:39:01 - cmdstanpy - INFO - Chain [1] done processing\n",
      "01:39:01 - cmdstanpy - INFO - Chain [1] done processing\n",
      "01:39:01 - cmdstanpy - INFO - Chain [1] done processing\n",
      "01:39:02 - cmdstanpy - INFO - Chain [1] start processing\n",
      "01:39:03 - cmdstanpy - INFO - Chain [1] done processing\n"
     ]
    },
    {
     "name": "stdout",
     "output_type": "stream",
     "text": [
      "[I 2025-08-23 01:39:04,049] Trial 58 finished with value: 293.6748237781226 and parameters: {'changepoint_prior_scale': 0.001476596157620398, 'seasonality_prior_scale': 0.4587891709544289, 'holidays_prior_scale': 0.5073951453024986}. Best is trial 55 with value: 288.9570544859316.\n"
     ]
    },
    {
     "name": "stderr",
     "output_type": "stream",
     "text": [
      "01:39:04 - cmdstanpy - INFO - Chain [1] start processing\n",
      "01:39:04 - cmdstanpy - INFO - Chain [1] done processing\n",
      "01:39:05 - cmdstanpy - INFO - Chain [1] start processing\n",
      "01:39:05 - cmdstanpy - INFO - Chain [1] done processing\n",
      "01:39:05 - cmdstanpy - INFO - Chain [1] start processing\n",
      "01:39:06 - cmdstanpy - INFO - Chain [1] start processing\n",
      "01:39:06 - cmdstanpy - INFO - Chain [1] done processing\n",
      "01:39:06 - cmdstanpy - INFO - Chain [1] done processing\n",
      "01:39:06 - cmdstanpy - INFO - Chain [1] start processing\n",
      "01:39:06 - cmdstanpy - INFO - Chain [1] start processing\n",
      "01:39:06 - cmdstanpy - INFO - Chain [1] start processing\n",
      "01:39:06 - cmdstanpy - INFO - Chain [1] start processing\n",
      "01:39:06 - cmdstanpy - INFO - Chain [1] start processing\n",
      "01:39:06 - cmdstanpy - INFO - Chain [1] start processing\n",
      "01:39:06 - cmdstanpy - INFO - Chain [1] start processing\n",
      "01:39:06 - cmdstanpy - INFO - Chain [1] done processing\n",
      "01:39:07 - cmdstanpy - INFO - Chain [1] done processing\n",
      "01:39:07 - cmdstanpy - INFO - Chain [1] done processing\n",
      "01:39:07 - cmdstanpy - INFO - Chain [1] done processing\n",
      "01:39:07 - cmdstanpy - INFO - Chain [1] done processing\n",
      "01:39:07 - cmdstanpy - INFO - Chain [1] done processing\n",
      "01:39:07 - cmdstanpy - INFO - Chain [1] done processing\n"
     ]
    },
    {
     "name": "stdout",
     "output_type": "stream",
     "text": [
      "[I 2025-08-23 01:39:07,962] Trial 59 finished with value: 295.36020595337294 and parameters: {'changepoint_prior_scale': 0.0031055431503407655, 'seasonality_prior_scale': 1.3911394024508352, 'holidays_prior_scale': 0.7051154762036147}. Best is trial 55 with value: 288.9570544859316.\n"
     ]
    },
    {
     "name": "stderr",
     "output_type": "stream",
     "text": [
      "01:39:08 - cmdstanpy - INFO - Chain [1] start processing\n",
      "01:39:08 - cmdstanpy - INFO - Chain [1] done processing\n",
      "01:39:09 - cmdstanpy - INFO - Chain [1] start processing\n",
      "01:39:09 - cmdstanpy - INFO - Chain [1] done processing\n",
      "01:39:09 - cmdstanpy - ERROR - Chain [1] error: error during processing Operation not permitted\n",
      "Optimization terminated abnormally. Falling back to Newton.\n",
      "01:39:09 - cmdstanpy - INFO - Chain [1] start processing\n",
      "01:39:10 - cmdstanpy - INFO - Chain [1] start processing\n",
      "01:39:10 - cmdstanpy - INFO - Chain [1] done processing\n",
      "01:39:10 - cmdstanpy - ERROR - Chain [1] error: error during processing Operation not permitted\n",
      "01:39:10 - cmdstanpy - INFO - Chain [1] start processing\n",
      "01:39:10 - cmdstanpy - INFO - Chain [1] start processing\n",
      "01:39:10 - cmdstanpy - INFO - Chain [1] done processing\n",
      "Optimization terminated abnormally. Falling back to Newton.\n",
      "01:39:10 - cmdstanpy - INFO - Chain [1] start processing\n",
      "01:39:10 - cmdstanpy - INFO - Chain [1] start processing\n",
      "01:39:10 - cmdstanpy - INFO - Chain [1] start processing\n",
      "01:39:10 - cmdstanpy - INFO - Chain [1] start processing\n",
      "01:39:10 - cmdstanpy - INFO - Chain [1] done processing\n",
      "01:39:10 - cmdstanpy - INFO - Chain [1] done processing\n",
      "01:39:10 - cmdstanpy - INFO - Chain [1] start processing\n",
      "01:39:10 - cmdstanpy - INFO - Chain [1] done processing\n",
      "01:39:10 - cmdstanpy - INFO - Chain [1] start processing\n",
      "01:39:10 - cmdstanpy - INFO - Chain [1] done processing\n",
      "01:39:10 - cmdstanpy - INFO - Chain [1] done processing\n",
      "01:39:10 - cmdstanpy - INFO - Chain [1] start processing\n",
      "01:39:10 - cmdstanpy - INFO - Chain [1] done processing\n",
      "01:39:10 - cmdstanpy - ERROR - Chain [1] error: error during processing Operation not permitted\n",
      "01:39:10 - cmdstanpy - INFO - Chain [1] done processing\n",
      "Optimization terminated abnormally. Falling back to Newton.\n",
      "01:39:11 - cmdstanpy - INFO - Chain [1] start processing\n",
      "01:39:13 - cmdstanpy - INFO - Chain [1] done processing\n",
      "01:39:14 - cmdstanpy - INFO - Chain [1] done processing\n",
      "01:39:18 - cmdstanpy - INFO - Chain [1] done processing\n"
     ]
    },
    {
     "name": "stdout",
     "output_type": "stream",
     "text": [
      "[I 2025-08-23 01:39:18,733] Trial 60 finished with value: 350.6526937598474 and parameters: {'changepoint_prior_scale': 0.0009097966419875522, 'seasonality_prior_scale': 3.8890596187275177, 'holidays_prior_scale': 2.1600453991726174}. Best is trial 55 with value: 288.9570544859316.\n"
     ]
    },
    {
     "name": "stderr",
     "output_type": "stream",
     "text": [
      "01:39:18 - cmdstanpy - INFO - Chain [1] start processing\n",
      "01:39:19 - cmdstanpy - INFO - Chain [1] done processing\n",
      "01:39:20 - cmdstanpy - INFO - Chain [1] start processing\n",
      "01:39:20 - cmdstanpy - INFO - Chain [1] done processing\n",
      "01:39:20 - cmdstanpy - INFO - Chain [1] start processing\n",
      "01:39:20 - cmdstanpy - INFO - Chain [1] start processing\n",
      "01:39:20 - cmdstanpy - INFO - Chain [1] done processing\n",
      "01:39:21 - cmdstanpy - INFO - Chain [1] start processing\n",
      "01:39:21 - cmdstanpy - INFO - Chain [1] done processing\n",
      "01:39:21 - cmdstanpy - INFO - Chain [1] start processing\n",
      "01:39:21 - cmdstanpy - INFO - Chain [1] start processing\n",
      "01:39:21 - cmdstanpy - INFO - Chain [1] start processing\n",
      "01:39:21 - cmdstanpy - INFO - Chain [1] start processing\n",
      "01:39:21 - cmdstanpy - INFO - Chain [1] start processing\n",
      "01:39:21 - cmdstanpy - INFO - Chain [1] start processing\n",
      "01:39:21 - cmdstanpy - INFO - Chain [1] done processing\n",
      "01:39:21 - cmdstanpy - INFO - Chain [1] done processing\n",
      "01:39:21 - cmdstanpy - INFO - Chain [1] done processing\n",
      "01:39:21 - cmdstanpy - INFO - Chain [1] done processing\n",
      "01:39:21 - cmdstanpy - INFO - Chain [1] done processing\n",
      "01:39:21 - cmdstanpy - INFO - Chain [1] done processing\n",
      "01:39:21 - cmdstanpy - INFO - Chain [1] done processing\n",
      "01:39:22 - cmdstanpy - INFO - Chain [1] start processing\n"
     ]
    },
    {
     "name": "stdout",
     "output_type": "stream",
     "text": [
      "[I 2025-08-23 01:39:22,141] Trial 61 finished with value: 293.2238395608623 and parameters: {'changepoint_prior_scale': 0.2579789593468604, 'seasonality_prior_scale': 0.7386142866102615, 'holidays_prior_scale': 4.533966189501306}. Best is trial 55 with value: 288.9570544859316.\n"
     ]
    },
    {
     "name": "stderr",
     "output_type": "stream",
     "text": [
      "01:39:22 - cmdstanpy - INFO - Chain [1] done processing\n",
      "01:39:23 - cmdstanpy - INFO - Chain [1] start processing\n",
      "01:39:23 - cmdstanpy - INFO - Chain [1] done processing\n",
      "01:39:24 - cmdstanpy - INFO - Chain [1] start processing\n",
      "01:39:24 - cmdstanpy - INFO - Chain [1] start processing\n",
      "01:39:24 - cmdstanpy - INFO - Chain [1] start processing\n",
      "01:39:24 - cmdstanpy - INFO - Chain [1] start processing\n",
      "01:39:24 - cmdstanpy - INFO - Chain [1] start processing\n",
      "01:39:24 - cmdstanpy - INFO - Chain [1] start processing\n",
      "01:39:24 - cmdstanpy - INFO - Chain [1] start processing\n",
      "01:39:24 - cmdstanpy - INFO - Chain [1] start processing\n",
      "01:39:24 - cmdstanpy - INFO - Chain [1] start processing\n",
      "01:39:24 - cmdstanpy - INFO - Chain [1] done processing\n",
      "01:39:24 - cmdstanpy - INFO - Chain [1] done processing\n",
      "01:39:24 - cmdstanpy - INFO - Chain [1] done processing\n",
      "01:39:24 - cmdstanpy - INFO - Chain [1] done processing\n",
      "01:39:24 - cmdstanpy - INFO - Chain [1] done processing\n",
      "01:39:24 - cmdstanpy - INFO - Chain [1] done processing\n",
      "01:39:24 - cmdstanpy - INFO - Chain [1] done processing\n",
      "01:39:24 - cmdstanpy - INFO - Chain [1] done processing\n",
      "01:39:24 - cmdstanpy - INFO - Chain [1] done processing\n"
     ]
    },
    {
     "name": "stdout",
     "output_type": "stream",
     "text": [
      "[I 2025-08-23 01:39:25,382] Trial 62 finished with value: 290.7544367788485 and parameters: {'changepoint_prior_scale': 0.1614391447661249, 'seasonality_prior_scale': 0.25228875629610675, 'holidays_prior_scale': 9.085088144830545}. Best is trial 55 with value: 288.9570544859316.\n"
     ]
    },
    {
     "name": "stderr",
     "output_type": "stream",
     "text": [
      "01:39:25 - cmdstanpy - INFO - Chain [1] start processing\n",
      "01:39:25 - cmdstanpy - INFO - Chain [1] done processing\n",
      "01:39:26 - cmdstanpy - INFO - Chain [1] start processing\n",
      "01:39:26 - cmdstanpy - INFO - Chain [1] start processing\n",
      "01:39:27 - cmdstanpy - INFO - Chain [1] start processing\n",
      "01:39:27 - cmdstanpy - INFO - Chain [1] done processing\n",
      "01:39:27 - cmdstanpy - INFO - Chain [1] done processing\n",
      "01:39:27 - cmdstanpy - INFO - Chain [1] done processing\n",
      "01:39:27 - cmdstanpy - INFO - Chain [1] start processing\n",
      "01:39:27 - cmdstanpy - INFO - Chain [1] start processing\n",
      "01:39:27 - cmdstanpy - INFO - Chain [1] start processing\n",
      "01:39:27 - cmdstanpy - INFO - Chain [1] start processing\n",
      "01:39:27 - cmdstanpy - INFO - Chain [1] start processing\n",
      "01:39:27 - cmdstanpy - INFO - Chain [1] start processing\n",
      "01:39:27 - cmdstanpy - INFO - Chain [1] start processing\n",
      "01:39:28 - cmdstanpy - INFO - Chain [1] done processing\n",
      "01:39:28 - cmdstanpy - INFO - Chain [1] done processing\n",
      "01:39:28 - cmdstanpy - INFO - Chain [1] done processing\n",
      "01:39:28 - cmdstanpy - INFO - Chain [1] done processing\n",
      "01:39:28 - cmdstanpy - INFO - Chain [1] done processing\n",
      "01:39:28 - cmdstanpy - INFO - Chain [1] done processing\n",
      "01:39:28 - cmdstanpy - INFO - Chain [1] done processing\n"
     ]
    },
    {
     "name": "stdout",
     "output_type": "stream",
     "text": [
      "[I 2025-08-23 01:39:28,934] Trial 63 finished with value: 291.6921312615703 and parameters: {'changepoint_prior_scale': 0.10249726089181853, 'seasonality_prior_scale': 0.38164568696060597, 'holidays_prior_scale': 1.092864845383593}. Best is trial 55 with value: 288.9570544859316.\n"
     ]
    },
    {
     "name": "stderr",
     "output_type": "stream",
     "text": [
      "01:39:29 - cmdstanpy - INFO - Chain [1] start processing\n",
      "01:39:29 - cmdstanpy - INFO - Chain [1] done processing\n",
      "01:39:30 - cmdstanpy - INFO - Chain [1] start processing\n",
      "01:39:30 - cmdstanpy - INFO - Chain [1] done processing\n",
      "01:39:30 - cmdstanpy - INFO - Chain [1] start processing\n",
      "01:39:31 - cmdstanpy - INFO - Chain [1] done processing\n",
      "01:39:31 - cmdstanpy - INFO - Chain [1] start processing\n",
      "01:39:31 - cmdstanpy - INFO - Chain [1] start processing\n",
      "01:39:31 - cmdstanpy - INFO - Chain [1] start processing\n",
      "01:39:31 - cmdstanpy - INFO - Chain [1] start processing\n",
      "01:39:31 - cmdstanpy - INFO - Chain [1] start processing\n",
      "01:39:31 - cmdstanpy - INFO - Chain [1] start processing\n",
      "01:39:31 - cmdstanpy - INFO - Chain [1] start processing\n",
      "01:39:31 - cmdstanpy - INFO - Chain [1] start processing\n",
      "01:39:31 - cmdstanpy - INFO - Chain [1] done processing\n",
      "01:39:31 - cmdstanpy - INFO - Chain [1] done processing\n",
      "01:39:31 - cmdstanpy - INFO - Chain [1] done processing\n",
      "01:39:31 - cmdstanpy - INFO - Chain [1] done processing\n",
      "01:39:31 - cmdstanpy - INFO - Chain [1] done processing\n",
      "01:39:31 - cmdstanpy - INFO - Chain [1] done processing\n",
      "01:39:32 - cmdstanpy - INFO - Chain [1] done processing\n",
      "01:39:32 - cmdstanpy - INFO - Chain [1] done processing\n"
     ]
    },
    {
     "name": "stdout",
     "output_type": "stream",
     "text": [
      "[I 2025-08-23 01:39:32,554] Trial 64 finished with value: 295.3975426553179 and parameters: {'changepoint_prior_scale': 0.35776702346012046, 'seasonality_prior_scale': 0.597662770142031, 'holidays_prior_scale': 9.099235877519456}. Best is trial 55 with value: 288.9570544859316.\n"
     ]
    },
    {
     "name": "stderr",
     "output_type": "stream",
     "text": [
      "01:39:32 - cmdstanpy - INFO - Chain [1] start processing\n",
      "01:39:32 - cmdstanpy - INFO - Chain [1] done processing\n",
      "01:39:33 - cmdstanpy - INFO - Chain [1] start processing\n",
      "01:39:34 - cmdstanpy - INFO - Chain [1] done processing\n",
      "01:39:34 - cmdstanpy - INFO - Chain [1] start processing\n",
      "01:39:34 - cmdstanpy - INFO - Chain [1] start processing\n",
      "01:39:34 - cmdstanpy - INFO - Chain [1] start processing\n",
      "01:39:34 - cmdstanpy - INFO - Chain [1] start processing\n",
      "01:39:34 - cmdstanpy - INFO - Chain [1] start processing\n",
      "01:39:34 - cmdstanpy - INFO - Chain [1] start processing\n",
      "01:39:34 - cmdstanpy - INFO - Chain [1] start processing\n",
      "01:39:34 - cmdstanpy - INFO - Chain [1] start processing\n",
      "01:39:34 - cmdstanpy - INFO - Chain [1] start processing\n",
      "01:39:34 - cmdstanpy - INFO - Chain [1] done processing\n",
      "01:39:35 - cmdstanpy - INFO - Chain [1] done processing\n",
      "01:39:35 - cmdstanpy - INFO - Chain [1] done processing\n",
      "01:39:35 - cmdstanpy - INFO - Chain [1] done processing\n",
      "01:39:35 - cmdstanpy - INFO - Chain [1] done processing\n",
      "01:39:35 - cmdstanpy - INFO - Chain [1] done processing\n",
      "01:39:35 - cmdstanpy - INFO - Chain [1] done processing\n",
      "01:39:35 - cmdstanpy - INFO - Chain [1] done processing\n",
      "01:39:35 - cmdstanpy - INFO - Chain [1] done processing\n"
     ]
    },
    {
     "name": "stdout",
     "output_type": "stream",
     "text": [
      "[I 2025-08-23 01:39:35,938] Trial 65 finished with value: 292.61497552536014 and parameters: {'changepoint_prior_scale': 0.055835112389308564, 'seasonality_prior_scale': 0.09440321312110843, 'holidays_prior_scale': 17.579064373600232}. Best is trial 55 with value: 288.9570544859316.\n"
     ]
    },
    {
     "name": "stderr",
     "output_type": "stream",
     "text": [
      "01:39:36 - cmdstanpy - INFO - Chain [1] start processing\n",
      "01:39:36 - cmdstanpy - INFO - Chain [1] done processing\n",
      "01:39:36 - cmdstanpy - INFO - Chain [1] start processing\n",
      "01:39:37 - cmdstanpy - INFO - Chain [1] done processing\n",
      "01:39:37 - cmdstanpy - INFO - Chain [1] start processing\n",
      "01:39:37 - cmdstanpy - INFO - Chain [1] start processing\n",
      "01:39:37 - cmdstanpy - INFO - Chain [1] start processing\n",
      "01:39:37 - cmdstanpy - INFO - Chain [1] start processing\n",
      "01:39:37 - cmdstanpy - INFO - Chain [1] start processing\n",
      "01:39:37 - cmdstanpy - INFO - Chain [1] done processing\n",
      "01:39:37 - cmdstanpy - INFO - Chain [1] start processing\n",
      "01:39:37 - cmdstanpy - INFO - Chain [1] start processing\n",
      "01:39:37 - cmdstanpy - INFO - Chain [1] start processing\n",
      "01:39:37 - cmdstanpy - INFO - Chain [1] start processing\n",
      "01:39:38 - cmdstanpy - INFO - Chain [1] done processing\n",
      "01:39:38 - cmdstanpy - INFO - Chain [1] done processing\n",
      "01:39:38 - cmdstanpy - INFO - Chain [1] done processing\n",
      "01:39:38 - cmdstanpy - INFO - Chain [1] done processing\n",
      "01:39:38 - cmdstanpy - INFO - Chain [1] done processing\n",
      "01:39:38 - cmdstanpy - INFO - Chain [1] done processing\n",
      "01:39:38 - cmdstanpy - INFO - Chain [1] done processing\n",
      "01:39:38 - cmdstanpy - INFO - Chain [1] done processing\n"
     ]
    },
    {
     "name": "stdout",
     "output_type": "stream",
     "text": [
      "[I 2025-08-23 01:39:39,092] Trial 66 finished with value: 295.31699854526096 and parameters: {'changepoint_prior_scale': 0.004849010059682808, 'seasonality_prior_scale': 0.051265431541405324, 'holidays_prior_scale': 1.7317051363528029}. Best is trial 55 with value: 288.9570544859316.\n"
     ]
    },
    {
     "name": "stderr",
     "output_type": "stream",
     "text": [
      "01:39:39 - cmdstanpy - INFO - Chain [1] start processing\n",
      "01:39:39 - cmdstanpy - INFO - Chain [1] done processing\n",
      "01:39:40 - cmdstanpy - INFO - Chain [1] start processing\n",
      "01:39:40 - cmdstanpy - INFO - Chain [1] start processing\n",
      "01:39:40 - cmdstanpy - INFO - Chain [1] start processing\n",
      "01:39:41 - cmdstanpy - INFO - Chain [1] start processing\n",
      "01:39:41 - cmdstanpy - INFO - Chain [1] done processing\n",
      "01:39:41 - cmdstanpy - INFO - Chain [1] start processing\n",
      "01:39:41 - cmdstanpy - INFO - Chain [1] start processing\n",
      "01:39:41 - cmdstanpy - INFO - Chain [1] start processing\n",
      "01:39:41 - cmdstanpy - INFO - Chain [1] start processing\n",
      "01:39:41 - cmdstanpy - INFO - Chain [1] done processing\n",
      "01:39:41 - cmdstanpy - INFO - Chain [1] done processing\n",
      "01:39:41 - cmdstanpy - INFO - Chain [1] start processing\n",
      "01:39:41 - cmdstanpy - INFO - Chain [1] start processing\n",
      "01:39:41 - cmdstanpy - INFO - Chain [1] done processing\n",
      "01:39:41 - cmdstanpy - INFO - Chain [1] done processing\n",
      "01:39:41 - cmdstanpy - INFO - Chain [1] done processing\n",
      "01:39:41 - cmdstanpy - INFO - Chain [1] done processing\n",
      "01:39:41 - cmdstanpy - INFO - Chain [1] done processing\n",
      "01:39:41 - cmdstanpy - INFO - Chain [1] done processing\n",
      "01:39:41 - cmdstanpy - INFO - Chain [1] done processing\n",
      "01:39:42 - cmdstanpy - INFO - Chain [1] start processing\n"
     ]
    },
    {
     "name": "stdout",
     "output_type": "stream",
     "text": [
      "[I 2025-08-23 01:39:42,301] Trial 67 finished with value: 292.80121164094004 and parameters: {'changepoint_prior_scale': 0.08010444142998321, 'seasonality_prior_scale': 0.3202744516506663, 'holidays_prior_scale': 0.8605189136668405}. Best is trial 55 with value: 288.9570544859316.\n"
     ]
    },
    {
     "name": "stderr",
     "output_type": "stream",
     "text": [
      "01:39:42 - cmdstanpy - INFO - Chain [1] done processing\n",
      "01:39:43 - cmdstanpy - INFO - Chain [1] start processing\n",
      "01:39:43 - cmdstanpy - INFO - Chain [1] start processing\n",
      "01:39:44 - cmdstanpy - INFO - Chain [1] done processing\n",
      "01:39:44 - cmdstanpy - INFO - Chain [1] done processing\n",
      "01:39:44 - cmdstanpy - INFO - Chain [1] start processing\n",
      "01:39:44 - cmdstanpy - INFO - Chain [1] start processing\n",
      "01:39:44 - cmdstanpy - INFO - Chain [1] start processing\n",
      "01:39:44 - cmdstanpy - INFO - Chain [1] start processing\n",
      "01:39:44 - cmdstanpy - INFO - Chain [1] start processing\n",
      "01:39:44 - cmdstanpy - INFO - Chain [1] start processing\n",
      "01:39:44 - cmdstanpy - INFO - Chain [1] start processing\n",
      "01:39:44 - cmdstanpy - INFO - Chain [1] start processing\n",
      "01:39:45 - cmdstanpy - INFO - Chain [1] done processing\n",
      "01:39:45 - cmdstanpy - INFO - Chain [1] done processing\n",
      "01:39:45 - cmdstanpy - INFO - Chain [1] done processing\n",
      "01:39:45 - cmdstanpy - INFO - Chain [1] done processing\n",
      "01:39:45 - cmdstanpy - INFO - Chain [1] done processing\n",
      "01:39:45 - cmdstanpy - INFO - Chain [1] done processing\n",
      "01:39:45 - cmdstanpy - INFO - Chain [1] done processing\n",
      "01:39:45 - cmdstanpy - INFO - Chain [1] done processing\n",
      "01:39:46 - cmdstanpy - INFO - Chain [1] start processing\n"
     ]
    },
    {
     "name": "stdout",
     "output_type": "stream",
     "text": [
      "[I 2025-08-23 01:39:45,931] Trial 68 finished with value: 291.1299383704416 and parameters: {'changepoint_prior_scale': 0.1294676528988125, 'seasonality_prior_scale': 0.8266913042991547, 'holidays_prior_scale': 9.05210885085885}. Best is trial 55 with value: 288.9570544859316.\n"
     ]
    },
    {
     "name": "stderr",
     "output_type": "stream",
     "text": [
      "01:39:46 - cmdstanpy - INFO - Chain [1] done processing\n",
      "01:39:47 - cmdstanpy - INFO - Chain [1] start processing\n",
      "01:39:47 - cmdstanpy - INFO - Chain [1] done processing\n",
      "01:39:47 - cmdstanpy - INFO - Chain [1] start processing\n",
      "01:39:47 - cmdstanpy - INFO - Chain [1] start processing\n",
      "01:39:47 - cmdstanpy - INFO - Chain [1] start processing\n",
      "01:39:47 - cmdstanpy - INFO - Chain [1] start processing\n",
      "01:39:48 - cmdstanpy - INFO - Chain [1] start processing\n",
      "01:39:48 - cmdstanpy - INFO - Chain [1] start processing\n",
      "01:39:48 - cmdstanpy - INFO - Chain [1] start processing\n",
      "01:39:48 - cmdstanpy - INFO - Chain [1] done processing\n",
      "01:39:48 - cmdstanpy - INFO - Chain [1] start processing\n",
      "01:39:48 - cmdstanpy - INFO - Chain [1] start processing\n",
      "01:39:48 - cmdstanpy - INFO - Chain [1] done processing\n",
      "01:39:48 - cmdstanpy - INFO - Chain [1] done processing\n",
      "01:39:48 - cmdstanpy - INFO - Chain [1] done processing\n",
      "01:39:48 - cmdstanpy - INFO - Chain [1] done processing\n",
      "01:39:48 - cmdstanpy - INFO - Chain [1] done processing\n",
      "01:39:48 - cmdstanpy - INFO - Chain [1] done processing\n",
      "01:39:48 - cmdstanpy - INFO - Chain [1] done processing\n",
      "01:39:48 - cmdstanpy - INFO - Chain [1] done processing\n"
     ]
    },
    {
     "name": "stdout",
     "output_type": "stream",
     "text": [
      "[I 2025-08-23 01:39:49,174] Trial 69 finished with value: 291.8869157411774 and parameters: {'changepoint_prior_scale': 0.20633175227622633, 'seasonality_prior_scale': 0.15731291589765609, 'holidays_prior_scale': 4.322523250343355}. Best is trial 55 with value: 288.9570544859316.\n",
      "SEC-002 best params: {'changepoint_prior_scale': 0.003900716029156354, 'seasonality_prior_scale': 0.8139330492095386, 'holidays_prior_scale': 1.0948909413754362}\n"
     ]
    },
    {
     "name": "stderr",
     "output_type": "stream",
     "text": [
      "01:39:49 - cmdstanpy - INFO - Chain [1] start processing\n",
      "01:39:49 - cmdstanpy - INFO - Chain [1] done processing\n",
      "[I 2025-08-23 01:39:49,778] A new study created in memory with name: no-name-9f974640-2985-4180-9ec9-56ff177347a7\n"
     ]
    },
    {
     "name": "stdout",
     "output_type": "stream",
     "text": [
      "\n",
      "[Main Loop] Processing section: SEC-003\n",
      "[Optuna] Tuning section: SEC-003\n"
     ]
    },
    {
     "data": {
      "application/vnd.jupyter.widget-view+json": {
       "model_id": "c252e9e647b446b59b45b82f676abb96",
       "version_major": 2,
       "version_minor": 0
      },
      "text/plain": [
       "  0%|          | 0/70 [00:00<?, ?it/s]"
      ]
     },
     "metadata": {},
     "output_type": "display_data"
    },
    {
     "name": "stderr",
     "output_type": "stream",
     "text": [
      "01:39:50 - cmdstanpy - INFO - Chain [1] start processing\n",
      "01:39:50 - cmdstanpy - INFO - Chain [1] done processing\n",
      "01:39:50 - cmdstanpy - INFO - Chain [1] start processing\n",
      "01:39:51 - cmdstanpy - INFO - Chain [1] done processing\n",
      "01:39:51 - cmdstanpy - INFO - Chain [1] start processing\n",
      "01:39:51 - cmdstanpy - INFO - Chain [1] done processing\n",
      "01:39:51 - cmdstanpy - INFO - Chain [1] start processing\n",
      "01:39:51 - cmdstanpy - INFO - Chain [1] start processing\n",
      "01:39:51 - cmdstanpy - INFO - Chain [1] start processing\n",
      "01:39:51 - cmdstanpy - INFO - Chain [1] start processing\n",
      "01:39:51 - cmdstanpy - INFO - Chain [1] start processing\n",
      "01:39:51 - cmdstanpy - INFO - Chain [1] start processing\n",
      "01:39:52 - cmdstanpy - INFO - Chain [1] start processing\n",
      "01:39:52 - cmdstanpy - INFO - Chain [1] start processing\n",
      "01:39:52 - cmdstanpy - INFO - Chain [1] done processing\n",
      "01:39:52 - cmdstanpy - INFO - Chain [1] done processing\n",
      "01:39:52 - cmdstanpy - INFO - Chain [1] done processing\n",
      "01:39:52 - cmdstanpy - INFO - Chain [1] done processing\n",
      "01:39:52 - cmdstanpy - INFO - Chain [1] done processing\n",
      "01:39:52 - cmdstanpy - INFO - Chain [1] done processing\n",
      "01:39:52 - cmdstanpy - INFO - Chain [1] done processing\n",
      "01:39:52 - cmdstanpy - INFO - Chain [1] done processing\n",
      "01:39:53 - cmdstanpy - INFO - Chain [1] start processing\n"
     ]
    },
    {
     "name": "stdout",
     "output_type": "stream",
     "text": [
      "[I 2025-08-23 01:39:52,872] Trial 0 finished with value: 294.7426703163186 and parameters: {'changepoint_prior_scale': 0.0019373932348801942, 'seasonality_prior_scale': 8.24935776618093, 'holidays_prior_scale': 0.016738822583990415}. Best is trial 0 with value: 294.7426703163186.\n"
     ]
    },
    {
     "name": "stderr",
     "output_type": "stream",
     "text": [
      "01:39:53 - cmdstanpy - INFO - Chain [1] done processing\n",
      "01:39:53 - cmdstanpy - INFO - Chain [1] start processing\n",
      "01:39:54 - cmdstanpy - INFO - Chain [1] done processing\n",
      "01:39:54 - cmdstanpy - INFO - Chain [1] start processing\n",
      "01:39:54 - cmdstanpy - INFO - Chain [1] start processing\n",
      "01:39:54 - cmdstanpy - INFO - Chain [1] done processing\n",
      "01:39:54 - cmdstanpy - INFO - Chain [1] start processing\n",
      "01:39:54 - cmdstanpy - INFO - Chain [1] start processing\n",
      "01:39:54 - cmdstanpy - INFO - Chain [1] start processing\n",
      "01:39:54 - cmdstanpy - INFO - Chain [1] start processing\n",
      "01:39:55 - cmdstanpy - INFO - Chain [1] start processing\n",
      "01:39:55 - cmdstanpy - INFO - Chain [1] done processing\n",
      "01:39:55 - cmdstanpy - INFO - Chain [1] start processing\n",
      "01:39:55 - cmdstanpy - ERROR - Chain [1] error: error during processing Operation not permitted\n",
      "01:39:55 - cmdstanpy - INFO - Chain [1] done processing\n",
      "01:39:55 - cmdstanpy - ERROR - Chain [1] error: error during processing Operation not permitted\n",
      "01:39:55 - cmdstanpy - INFO - Chain [1] done processing\n",
      "01:39:55 - cmdstanpy - ERROR - Chain [1] error: error during processing Operation not permitted\n",
      "01:39:55 - cmdstanpy - INFO - Chain [1] start processing\n",
      "Optimization terminated abnormally. Falling back to Newton.\n",
      "Optimization terminated abnormally. Falling back to Newton.\n",
      "01:39:55 - cmdstanpy - INFO - Chain [1] done processing\n",
      "Optimization terminated abnormally. Falling back to Newton.\n",
      "01:39:55 - cmdstanpy - ERROR - Chain [1] error: error during processing Operation not permitted\n",
      "01:39:55 - cmdstanpy - INFO - Chain [1] done processing\n",
      "01:39:55 - cmdstanpy - INFO - Chain [1] done processing\n",
      "Optimization terminated abnormally. Falling back to Newton.\n",
      "01:39:55 - cmdstanpy - INFO - Chain [1] done processing\n",
      "01:39:55 - cmdstanpy - ERROR - Chain [1] error: error during processing Operation not permitted\n",
      "01:39:55 - cmdstanpy - INFO - Chain [1] done processing\n",
      "Optimization terminated abnormally. Falling back to Newton.\n",
      "01:39:55 - cmdstanpy - INFO - Chain [1] start processing\n",
      "01:39:55 - cmdstanpy - INFO - Chain [1] start processing\n",
      "01:39:55 - cmdstanpy - INFO - Chain [1] start processing\n",
      "01:39:56 - cmdstanpy - INFO - Chain [1] start processing\n",
      "01:39:56 - cmdstanpy - INFO - Chain [1] start processing\n",
      "01:39:58 - cmdstanpy - INFO - Chain [1] done processing\n",
      "01:39:59 - cmdstanpy - INFO - Chain [1] done processing\n",
      "01:39:59 - cmdstanpy - INFO - Chain [1] done processing\n",
      "01:39:59 - cmdstanpy - INFO - Chain [1] done processing\n",
      "01:39:59 - cmdstanpy - INFO - Chain [1] done processing\n"
     ]
    },
    {
     "name": "stdout",
     "output_type": "stream",
     "text": [
      "[I 2025-08-23 01:39:59,852] Trial 1 finished with value: 323.16322459156146 and parameters: {'changepoint_prior_scale': 0.0009206788978085145, 'seasonality_prior_scale': 10.893256827408349, 'holidays_prior_scale': 0.1902700036691214}. Best is trial 0 with value: 294.7426703163186.\n"
     ]
    },
    {
     "name": "stderr",
     "output_type": "stream",
     "text": [
      "01:40:00 - cmdstanpy - INFO - Chain [1] start processing\n",
      "01:40:00 - cmdstanpy - INFO - Chain [1] done processing\n",
      "01:40:00 - cmdstanpy - ERROR - Chain [1] error: error during processing Operation not permitted\n",
      "Optimization terminated abnormally. Falling back to Newton.\n",
      "01:40:00 - cmdstanpy - INFO - Chain [1] start processing\n",
      "01:40:02 - cmdstanpy - INFO - Chain [1] done processing\n",
      "01:40:03 - cmdstanpy - INFO - Chain [1] start processing\n",
      "01:40:03 - cmdstanpy - INFO - Chain [1] start processing\n",
      "01:40:03 - cmdstanpy - INFO - Chain [1] start processing\n",
      "01:40:03 - cmdstanpy - INFO - Chain [1] done processing\n",
      "01:40:03 - cmdstanpy - INFO - Chain [1] start processing\n",
      "01:40:03 - cmdstanpy - INFO - Chain [1] start processing\n",
      "01:40:03 - cmdstanpy - INFO - Chain [1] start processing\n",
      "01:40:03 - cmdstanpy - ERROR - Chain [1] error: error during processing Operation not permitted\n",
      "01:40:03 - cmdstanpy - INFO - Chain [1] start processing\n",
      "01:40:03 - cmdstanpy - INFO - Chain [1] start processing\n",
      "01:40:03 - cmdstanpy - INFO - Chain [1] start processing\n",
      "01:40:03 - cmdstanpy - INFO - Chain [1] start processing\n",
      "Optimization terminated abnormally. Falling back to Newton.\n",
      "01:40:04 - cmdstanpy - INFO - Chain [1] done processing\n",
      "01:40:04 - cmdstanpy - ERROR - Chain [1] error: error during processing Operation not permitted\n",
      "01:40:04 - cmdstanpy - INFO - Chain [1] done processing\n",
      "01:40:04 - cmdstanpy - ERROR - Chain [1] error: error during processing Operation not permitted\n",
      "Optimization terminated abnormally. Falling back to Newton.\n",
      "01:40:04 - cmdstanpy - INFO - Chain [1] done processing\n",
      "Optimization terminated abnormally. Falling back to Newton.\n",
      "01:40:04 - cmdstanpy - INFO - Chain [1] done processing\n",
      "01:40:04 - cmdstanpy - INFO - Chain [1] done processing\n",
      "01:40:04 - cmdstanpy - ERROR - Chain [1] error: error during processing Operation not permitted\n",
      "01:40:04 - cmdstanpy - INFO - Chain [1] done processing\n",
      "01:40:04 - cmdstanpy - INFO - Chain [1] done processing\n",
      "01:40:04 - cmdstanpy - INFO - Chain [1] done processing\n",
      "Optimization terminated abnormally. Falling back to Newton.\n",
      "01:40:04 - cmdstanpy - ERROR - Chain [1] error: error during processing Operation not permitted\n",
      "01:40:04 - cmdstanpy - INFO - Chain [1] done processing\n",
      "01:40:04 - cmdstanpy - ERROR - Chain [1] error: error during processing Operation not permitted\n",
      "01:40:04 - cmdstanpy - INFO - Chain [1] start processing\n",
      "Optimization terminated abnormally. Falling back to Newton.\n",
      "01:40:04 - cmdstanpy - ERROR - Chain [1] error: error during processing Operation not permitted\n",
      "01:40:04 - cmdstanpy - ERROR - Chain [1] error: error during processing Operation not permitted\n",
      "Optimization terminated abnormally. Falling back to Newton.\n",
      "01:40:04 - cmdstanpy - ERROR - Chain [1] error: error during processing Operation not permitted\n",
      "Optimization terminated abnormally. Falling back to Newton.\n",
      "Optimization terminated abnormally. Falling back to Newton.\n",
      "01:40:04 - cmdstanpy - INFO - Chain [1] start processing\n",
      "01:40:04 - cmdstanpy - INFO - Chain [1] start processing\n",
      "Optimization terminated abnormally. Falling back to Newton.\n",
      "01:40:05 - cmdstanpy - INFO - Chain [1] start processing\n",
      "01:40:05 - cmdstanpy - INFO - Chain [1] start processing\n",
      "01:40:05 - cmdstanpy - INFO - Chain [1] start processing\n",
      "01:40:05 - cmdstanpy - INFO - Chain [1] start processing\n",
      "01:40:05 - cmdstanpy - INFO - Chain [1] start processing\n",
      "01:40:05 - cmdstanpy - INFO - Chain [1] start processing\n",
      "01:40:07 - cmdstanpy - INFO - Chain [1] done processing\n",
      "01:40:09 - cmdstanpy - INFO - Chain [1] done processing\n",
      "01:40:10 - cmdstanpy - INFO - Chain [1] done processing\n",
      "01:40:10 - cmdstanpy - INFO - Chain [1] done processing\n",
      "01:40:11 - cmdstanpy - INFO - Chain [1] done processing\n",
      "01:40:11 - cmdstanpy - INFO - Chain [1] done processing\n",
      "01:40:11 - cmdstanpy - INFO - Chain [1] done processing\n",
      "01:40:13 - cmdstanpy - INFO - Chain [1] done processing\n",
      "01:40:26 - cmdstanpy - INFO - Chain [1] done processing\n",
      "01:40:26 - cmdstanpy - INFO - Chain [1] start processing\n"
     ]
    },
    {
     "name": "stdout",
     "output_type": "stream",
     "text": [
      "[I 2025-08-23 01:40:26,612] Trial 2 finished with value: 274.53679906133175 and parameters: {'changepoint_prior_scale': 0.00028813672260029333, 'seasonality_prior_scale': 0.16928555580861676, 'holidays_prior_scale': 8.814132545145487}. Best is trial 2 with value: 274.53679906133175.\n"
     ]
    },
    {
     "name": "stderr",
     "output_type": "stream",
     "text": [
      "01:40:26 - cmdstanpy - INFO - Chain [1] done processing\n",
      "01:40:27 - cmdstanpy - INFO - Chain [1] start processing\n",
      "01:40:27 - cmdstanpy - INFO - Chain [1] done processing\n",
      "01:40:28 - cmdstanpy - INFO - Chain [1] start processing\n",
      "01:40:28 - cmdstanpy - INFO - Chain [1] start processing\n",
      "01:40:28 - cmdstanpy - INFO - Chain [1] start processing\n",
      "01:40:28 - cmdstanpy - INFO - Chain [1] start processing\n",
      "01:40:28 - cmdstanpy - INFO - Chain [1] start processing\n",
      "01:40:28 - cmdstanpy - INFO - Chain [1] start processing\n",
      "01:40:28 - cmdstanpy - INFO - Chain [1] start processing\n",
      "01:40:28 - cmdstanpy - INFO - Chain [1] start processing\n",
      "01:40:28 - cmdstanpy - INFO - Chain [1] done processing\n",
      "01:40:28 - cmdstanpy - INFO - Chain [1] start processing\n",
      "01:40:28 - cmdstanpy - INFO - Chain [1] done processing\n",
      "01:40:28 - cmdstanpy - INFO - Chain [1] done processing\n",
      "01:40:29 - cmdstanpy - INFO - Chain [1] done processing\n",
      "01:40:29 - cmdstanpy - INFO - Chain [1] done processing\n",
      "01:40:29 - cmdstanpy - INFO - Chain [1] done processing\n",
      "01:40:29 - cmdstanpy - INFO - Chain [1] done processing\n",
      "01:40:29 - cmdstanpy - INFO - Chain [1] done processing\n",
      "01:40:29 - cmdstanpy - INFO - Chain [1] done processing\n"
     ]
    },
    {
     "name": "stdout",
     "output_type": "stream",
     "text": [
      "[I 2025-08-23 01:40:29,960] Trial 3 finished with value: 265.3982917492939 and parameters: {'changepoint_prior_scale': 0.07860453839692635, 'seasonality_prior_scale': 17.91095309611976, 'holidays_prior_scale': 0.30933879308421847}. Best is trial 3 with value: 265.3982917492939.\n"
     ]
    },
    {
     "name": "stderr",
     "output_type": "stream",
     "text": [
      "01:40:30 - cmdstanpy - INFO - Chain [1] start processing\n",
      "01:40:30 - cmdstanpy - INFO - Chain [1] done processing\n",
      "01:40:30 - cmdstanpy - INFO - Chain [1] start processing\n",
      "01:40:31 - cmdstanpy - INFO - Chain [1] done processing\n",
      "01:40:31 - cmdstanpy - ERROR - Chain [1] error: error during processing Operation not permitted\n",
      "Optimization terminated abnormally. Falling back to Newton.\n",
      "01:40:31 - cmdstanpy - INFO - Chain [1] start processing\n",
      "01:40:32 - cmdstanpy - INFO - Chain [1] start processing\n",
      "01:40:32 - cmdstanpy - INFO - Chain [1] start processing\n",
      "01:40:32 - cmdstanpy - INFO - Chain [1] done processing\n",
      "01:40:32 - cmdstanpy - INFO - Chain [1] start processing\n",
      "01:40:32 - cmdstanpy - INFO - Chain [1] start processing\n",
      "01:40:32 - cmdstanpy - INFO - Chain [1] start processing\n",
      "01:40:32 - cmdstanpy - INFO - Chain [1] start processing\n",
      "01:40:32 - cmdstanpy - INFO - Chain [1] start processing\n",
      "01:40:32 - cmdstanpy - INFO - Chain [1] start processing\n",
      "01:40:32 - cmdstanpy - INFO - Chain [1] start processing\n",
      "01:40:32 - cmdstanpy - INFO - Chain [1] done processing\n",
      "01:40:32 - cmdstanpy - INFO - Chain [1] done processing\n",
      "01:40:32 - cmdstanpy - INFO - Chain [1] done processing\n",
      "01:40:32 - cmdstanpy - INFO - Chain [1] done processing\n",
      "01:40:32 - cmdstanpy - INFO - Chain [1] done processing\n",
      "01:40:32 - cmdstanpy - ERROR - Chain [1] error: error during processing Operation not permitted\n",
      "01:40:32 - cmdstanpy - INFO - Chain [1] done processing\n",
      "01:40:32 - cmdstanpy - INFO - Chain [1] done processing\n",
      "Optimization terminated abnormally. Falling back to Newton.\n",
      "01:40:32 - cmdstanpy - INFO - Chain [1] done processing\n",
      "01:40:32 - cmdstanpy - ERROR - Chain [1] error: error during processing Operation not permitted\n",
      "Optimization terminated abnormally. Falling back to Newton.\n",
      "01:40:33 - cmdstanpy - INFO - Chain [1] start processing\n",
      "01:40:33 - cmdstanpy - INFO - Chain [1] start processing\n",
      "01:40:35 - cmdstanpy - INFO - Chain [1] done processing\n",
      "01:40:35 - cmdstanpy - INFO - Chain [1] done processing\n",
      "01:40:35 - cmdstanpy - INFO - Chain [1] done processing\n",
      "01:40:36 - cmdstanpy - INFO - Chain [1] start processing\n"
     ]
    },
    {
     "name": "stdout",
     "output_type": "stream",
     "text": [
      "[I 2025-08-23 01:40:36,034] Trial 4 finished with value: 309.1824864644832 and parameters: {'changepoint_prior_scale': 0.001037855483771672, 'seasonality_prior_scale': 0.02560901713974141, 'holidays_prior_scale': 0.38687000219811596}. Best is trial 3 with value: 265.3982917492939.\n"
     ]
    },
    {
     "name": "stderr",
     "output_type": "stream",
     "text": [
      "01:40:36 - cmdstanpy - INFO - Chain [1] done processing\n",
      "01:40:37 - cmdstanpy - INFO - Chain [1] start processing\n",
      "01:40:37 - cmdstanpy - INFO - Chain [1] start processing\n",
      "01:40:37 - cmdstanpy - INFO - Chain [1] done processing\n",
      "01:40:37 - cmdstanpy - INFO - Chain [1] done processing\n",
      "01:40:37 - cmdstanpy - INFO - Chain [1] start processing\n",
      "01:40:38 - cmdstanpy - INFO - Chain [1] done processing\n",
      "01:40:38 - cmdstanpy - INFO - Chain [1] start processing\n",
      "01:40:38 - cmdstanpy - INFO - Chain [1] start processing\n",
      "01:40:38 - cmdstanpy - INFO - Chain [1] start processing\n",
      "01:40:38 - cmdstanpy - INFO - Chain [1] start processing\n",
      "01:40:38 - cmdstanpy - INFO - Chain [1] start processing\n",
      "01:40:38 - cmdstanpy - INFO - Chain [1] done processing\n",
      "01:40:38 - cmdstanpy - INFO - Chain [1] done processing\n",
      "01:40:38 - cmdstanpy - INFO - Chain [1] start processing\n",
      "01:40:38 - cmdstanpy - INFO - Chain [1] done processing\n",
      "01:40:38 - cmdstanpy - INFO - Chain [1] start processing\n",
      "01:40:38 - cmdstanpy - INFO - Chain [1] done processing\n",
      "01:40:38 - cmdstanpy - INFO - Chain [1] done processing\n",
      "01:40:38 - cmdstanpy - INFO - Chain [1] done processing\n",
      "01:40:38 - cmdstanpy - ERROR - Chain [1] error: error during processing Operation not permitted\n",
      "01:40:38 - cmdstanpy - INFO - Chain [1] done processing\n",
      "Optimization terminated abnormally. Falling back to Newton.\n",
      "01:40:39 - cmdstanpy - INFO - Chain [1] start processing\n",
      "01:40:41 - cmdstanpy - INFO - Chain [1] done processing\n",
      "01:40:41 - cmdstanpy - INFO - Chain [1] start processing\n"
     ]
    },
    {
     "name": "stdout",
     "output_type": "stream",
     "text": [
      "[I 2025-08-23 01:40:41,392] Trial 5 finished with value: 319.78373326497876 and parameters: {'changepoint_prior_scale': 0.0012416167866671456, 'seasonality_prior_scale': 17.16160280992319, 'holidays_prior_scale': 0.019866374539124463}. Best is trial 3 with value: 265.3982917492939.\n"
     ]
    },
    {
     "name": "stderr",
     "output_type": "stream",
     "text": [
      "01:40:41 - cmdstanpy - INFO - Chain [1] done processing\n",
      "01:40:42 - cmdstanpy - INFO - Chain [1] start processing\n",
      "01:40:42 - cmdstanpy - INFO - Chain [1] start processing\n",
      "01:40:42 - cmdstanpy - INFO - Chain [1] done processing\n",
      "01:40:42 - cmdstanpy - INFO - Chain [1] done processing\n",
      "01:40:43 - cmdstanpy - INFO - Chain [1] start processing\n",
      "01:40:43 - cmdstanpy - INFO - Chain [1] start processing\n",
      "01:40:43 - cmdstanpy - INFO - Chain [1] start processing\n",
      "01:40:43 - cmdstanpy - INFO - Chain [1] done processing\n",
      "01:40:43 - cmdstanpy - INFO - Chain [1] start processing\n",
      "01:40:43 - cmdstanpy - INFO - Chain [1] start processing\n",
      "01:40:43 - cmdstanpy - INFO - Chain [1] start processing\n",
      "01:40:43 - cmdstanpy - INFO - Chain [1] start processing\n",
      "01:40:43 - cmdstanpy - INFO - Chain [1] start processing\n",
      "01:40:43 - cmdstanpy - INFO - Chain [1] done processing\n",
      "01:40:43 - cmdstanpy - INFO - Chain [1] done processing\n",
      "01:40:43 - cmdstanpy - INFO - Chain [1] done processing\n",
      "01:40:43 - cmdstanpy - INFO - Chain [1] done processing\n",
      "01:40:43 - cmdstanpy - INFO - Chain [1] done processing\n",
      "01:40:44 - cmdstanpy - INFO - Chain [1] done processing\n",
      "01:40:44 - cmdstanpy - INFO - Chain [1] done processing\n"
     ]
    },
    {
     "name": "stdout",
     "output_type": "stream",
     "text": [
      "[I 2025-08-23 01:40:44,486] Trial 6 finished with value: 270.3209973575009 and parameters: {'changepoint_prior_scale': 0.2227268399946974, 'seasonality_prior_scale': 5.711900148283407, 'holidays_prior_scale': 0.06342643377332534}. Best is trial 3 with value: 265.3982917492939.\n"
     ]
    },
    {
     "name": "stderr",
     "output_type": "stream",
     "text": [
      "01:40:44 - cmdstanpy - INFO - Chain [1] start processing\n",
      "01:40:44 - cmdstanpy - INFO - Chain [1] done processing\n",
      "01:40:44 - cmdstanpy - ERROR - Chain [1] error: error during processing Operation not permitted\n",
      "Optimization terminated abnormally. Falling back to Newton.\n",
      "01:40:44 - cmdstanpy - INFO - Chain [1] start processing\n",
      "01:40:47 - cmdstanpy - INFO - Chain [1] done processing\n",
      "01:40:48 - cmdstanpy - INFO - Chain [1] start processing\n",
      "01:40:48 - cmdstanpy - INFO - Chain [1] done processing\n",
      "01:40:48 - cmdstanpy - ERROR - Chain [1] error: error during processing Operation not permitted\n",
      "Optimization terminated abnormally. Falling back to Newton.\n",
      "01:40:49 - cmdstanpy - INFO - Chain [1] start processing\n",
      "01:40:49 - cmdstanpy - INFO - Chain [1] start processing\n",
      "01:40:49 - cmdstanpy - INFO - Chain [1] done processing\n",
      "01:40:49 - cmdstanpy - INFO - Chain [1] start processing\n",
      "01:40:49 - cmdstanpy - INFO - Chain [1] done processing\n",
      "01:40:49 - cmdstanpy - INFO - Chain [1] start processing\n",
      "01:40:49 - cmdstanpy - ERROR - Chain [1] error: error during processing Operation not permitted\n",
      "01:40:49 - cmdstanpy - INFO - Chain [1] start processing\n",
      "01:40:49 - cmdstanpy - INFO - Chain [1] start processing\n",
      "01:40:49 - cmdstanpy - INFO - Chain [1] start processing\n",
      "01:40:49 - cmdstanpy - INFO - Chain [1] start processing\n",
      "Optimization terminated abnormally. Falling back to Newton.\n",
      "01:40:49 - cmdstanpy - INFO - Chain [1] start processing\n",
      "01:40:49 - cmdstanpy - INFO - Chain [1] start processing\n",
      "01:40:49 - cmdstanpy - INFO - Chain [1] done processing\n",
      "01:40:50 - cmdstanpy - ERROR - Chain [1] error: error during processing Operation not permitted\n",
      "01:40:50 - cmdstanpy - INFO - Chain [1] done processing\n",
      "01:40:50 - cmdstanpy - INFO - Chain [1] done processing\n",
      "Optimization terminated abnormally. Falling back to Newton.\n",
      "01:40:50 - cmdstanpy - ERROR - Chain [1] error: error during processing Operation not permitted\n",
      "01:40:50 - cmdstanpy - ERROR - Chain [1] error: error during processing Operation not permitted\n",
      "01:40:50 - cmdstanpy - INFO - Chain [1] done processing\n",
      "01:40:50 - cmdstanpy - INFO - Chain [1] done processing\n",
      "Optimization terminated abnormally. Falling back to Newton.\n",
      "01:40:50 - cmdstanpy - INFO - Chain [1] done processing\n",
      "Optimization terminated abnormally. Falling back to Newton.\n",
      "01:40:50 - cmdstanpy - ERROR - Chain [1] error: error during processing Operation not permitted\n",
      "01:40:50 - cmdstanpy - INFO - Chain [1] done processing\n",
      "01:40:50 - cmdstanpy - ERROR - Chain [1] error: error during processing Operation not permitted\n",
      "01:40:50 - cmdstanpy - ERROR - Chain [1] error: error during processing Operation not permitted\n",
      "Optimization terminated abnormally. Falling back to Newton.\n",
      "01:40:50 - cmdstanpy - ERROR - Chain [1] error: error during processing Operation not permitted\n",
      "Optimization terminated abnormally. Falling back to Newton.\n",
      "01:40:50 - cmdstanpy - INFO - Chain [1] start processing\n",
      "01:40:50 - cmdstanpy - INFO - Chain [1] start processing\n",
      "Optimization terminated abnormally. Falling back to Newton.\n",
      "Optimization terminated abnormally. Falling back to Newton.\n",
      "01:40:50 - cmdstanpy - INFO - Chain [1] start processing\n",
      "01:40:51 - cmdstanpy - INFO - Chain [1] start processing\n",
      "01:40:51 - cmdstanpy - INFO - Chain [1] start processing\n",
      "01:40:51 - cmdstanpy - INFO - Chain [1] start processing\n",
      "01:40:51 - cmdstanpy - INFO - Chain [1] start processing\n",
      "01:40:51 - cmdstanpy - INFO - Chain [1] start processing\n",
      "01:40:54 - cmdstanpy - INFO - Chain [1] done processing\n",
      "01:40:55 - cmdstanpy - INFO - Chain [1] done processing\n",
      "01:40:55 - cmdstanpy - INFO - Chain [1] done processing\n",
      "01:40:56 - cmdstanpy - INFO - Chain [1] done processing\n",
      "01:40:56 - cmdstanpy - INFO - Chain [1] done processing\n",
      "01:40:56 - cmdstanpy - INFO - Chain [1] done processing\n",
      "01:40:57 - cmdstanpy - INFO - Chain [1] done processing\n",
      "01:41:14 - cmdstanpy - INFO - Chain [1] done processing\n",
      "01:42:10 - cmdstanpy - INFO - Chain [1] done processing\n"
     ]
    },
    {
     "name": "stdout",
     "output_type": "stream",
     "text": [
      "[I 2025-08-23 01:42:10,216] Trial 7 finished with value: 273.3005447395203 and parameters: {'changepoint_prior_scale': 0.00015220402311412584, 'seasonality_prior_scale': 0.9209414481135609, 'holidays_prior_scale': 0.07736671861511735}. Best is trial 3 with value: 265.3982917492939.\n"
     ]
    },
    {
     "name": "stderr",
     "output_type": "stream",
     "text": [
      "01:42:10 - cmdstanpy - INFO - Chain [1] start processing\n",
      "01:42:10 - cmdstanpy - INFO - Chain [1] done processing\n",
      "01:42:11 - cmdstanpy - INFO - Chain [1] start processing\n",
      "01:42:11 - cmdstanpy - INFO - Chain [1] start processing\n",
      "01:42:11 - cmdstanpy - INFO - Chain [1] start processing\n",
      "01:42:11 - cmdstanpy - INFO - Chain [1] done processing\n",
      "01:42:11 - cmdstanpy - INFO - Chain [1] done processing\n",
      "01:42:12 - cmdstanpy - INFO - Chain [1] start processing\n",
      "01:42:12 - cmdstanpy - ERROR - Chain [1] error: error during processing Operation not permitted\n",
      "01:42:12 - cmdstanpy - INFO - Chain [1] done processing\n",
      "01:42:12 - cmdstanpy - INFO - Chain [1] start processing\n",
      "Optimization terminated abnormally. Falling back to Newton.\n",
      "01:42:12 - cmdstanpy - INFO - Chain [1] start processing\n",
      "01:42:12 - cmdstanpy - INFO - Chain [1] start processing\n",
      "01:42:12 - cmdstanpy - INFO - Chain [1] start processing\n",
      "01:42:12 - cmdstanpy - INFO - Chain [1] start processing\n",
      "01:42:12 - cmdstanpy - INFO - Chain [1] start processing\n",
      "01:42:12 - cmdstanpy - INFO - Chain [1] done processing\n",
      "01:42:12 - cmdstanpy - INFO - Chain [1] done processing\n",
      "01:42:12 - cmdstanpy - INFO - Chain [1] done processing\n",
      "01:42:12 - cmdstanpy - INFO - Chain [1] done processing\n",
      "01:42:12 - cmdstanpy - ERROR - Chain [1] error: error during processing Operation not permitted\n",
      "01:42:12 - cmdstanpy - INFO - Chain [1] done processing\n",
      "01:42:12 - cmdstanpy - INFO - Chain [1] done processing\n",
      "Optimization terminated abnormally. Falling back to Newton.\n",
      "01:42:12 - cmdstanpy - INFO - Chain [1] done processing\n",
      "01:42:12 - cmdstanpy - ERROR - Chain [1] error: error during processing Operation not permitted\n",
      "01:42:12 - cmdstanpy - ERROR - Chain [1] error: error during processing Operation not permitted\n",
      "01:42:12 - cmdstanpy - INFO - Chain [1] start processing\n",
      "Optimization terminated abnormally. Falling back to Newton.\n",
      "Optimization terminated abnormally. Falling back to Newton.\n",
      "01:42:13 - cmdstanpy - INFO - Chain [1] start processing\n",
      "01:42:13 - cmdstanpy - INFO - Chain [1] start processing\n",
      "01:42:13 - cmdstanpy - INFO - Chain [1] start processing\n",
      "01:42:16 - cmdstanpy - INFO - Chain [1] done processing\n",
      "01:42:16 - cmdstanpy - INFO - Chain [1] done processing\n",
      "01:42:16 - cmdstanpy - INFO - Chain [1] done processing\n",
      "01:42:16 - cmdstanpy - INFO - Chain [1] done processing\n"
     ]
    },
    {
     "name": "stdout",
     "output_type": "stream",
     "text": [
      "[I 2025-08-23 01:42:16,881] Trial 8 finished with value: 329.8553164246454 and parameters: {'changepoint_prior_scale': 0.0009592619183977036, 'seasonality_prior_scale': 0.9233248651125939, 'holidays_prior_scale': 3.1669550796033783}. Best is trial 3 with value: 265.3982917492939.\n"
     ]
    },
    {
     "name": "stderr",
     "output_type": "stream",
     "text": [
      "01:42:17 - cmdstanpy - INFO - Chain [1] start processing\n",
      "01:42:17 - cmdstanpy - INFO - Chain [1] done processing\n",
      "01:42:18 - cmdstanpy - INFO - Chain [1] start processing\n",
      "01:42:18 - cmdstanpy - INFO - Chain [1] done processing\n",
      "01:42:18 - cmdstanpy - INFO - Chain [1] start processing\n",
      "01:42:18 - cmdstanpy - INFO - Chain [1] done processing\n",
      "01:42:18 - cmdstanpy - INFO - Chain [1] start processing\n",
      "01:42:18 - cmdstanpy - INFO - Chain [1] start processing\n",
      "01:42:18 - cmdstanpy - INFO - Chain [1] start processing\n",
      "01:42:19 - cmdstanpy - INFO - Chain [1] done processing\n",
      "01:42:19 - cmdstanpy - INFO - Chain [1] start processing\n",
      "01:42:19 - cmdstanpy - INFO - Chain [1] start processing\n",
      "01:42:19 - cmdstanpy - INFO - Chain [1] start processing\n",
      "01:42:19 - cmdstanpy - INFO - Chain [1] start processing\n",
      "01:42:19 - cmdstanpy - INFO - Chain [1] done processing\n",
      "01:42:19 - cmdstanpy - INFO - Chain [1] start processing\n",
      "01:42:19 - cmdstanpy - INFO - Chain [1] done processing\n",
      "01:42:19 - cmdstanpy - INFO - Chain [1] done processing\n",
      "01:42:19 - cmdstanpy - INFO - Chain [1] done processing\n",
      "01:42:19 - cmdstanpy - INFO - Chain [1] done processing\n",
      "01:42:19 - cmdstanpy - INFO - Chain [1] done processing\n",
      "01:42:19 - cmdstanpy - INFO - Chain [1] done processing\n"
     ]
    },
    {
     "name": "stdout",
     "output_type": "stream",
     "text": [
      "[I 2025-08-23 01:42:20,076] Trial 9 finished with value: 265.88794568792935 and parameters: {'changepoint_prior_scale': 0.05033622603944678, 'seasonality_prior_scale': 27.467743575951552, 'holidays_prior_scale': 0.4313946011893991}. Best is trial 3 with value: 265.3982917492939.\n"
     ]
    },
    {
     "name": "stderr",
     "output_type": "stream",
     "text": [
      "01:42:20 - cmdstanpy - INFO - Chain [1] start processing\n",
      "01:42:20 - cmdstanpy - INFO - Chain [1] done processing\n",
      "01:42:21 - cmdstanpy - INFO - Chain [1] start processing\n",
      "01:42:21 - cmdstanpy - INFO - Chain [1] done processing\n",
      "01:42:21 - cmdstanpy - INFO - Chain [1] start processing\n",
      "01:42:21 - cmdstanpy - INFO - Chain [1] start processing\n",
      "01:42:21 - cmdstanpy - INFO - Chain [1] start processing\n",
      "01:42:21 - cmdstanpy - INFO - Chain [1] start processing\n",
      "01:42:22 - cmdstanpy - INFO - Chain [1] start processing\n",
      "01:42:22 - cmdstanpy - INFO - Chain [1] done processing\n",
      "01:42:22 - cmdstanpy - INFO - Chain [1] done processing\n",
      "01:42:22 - cmdstanpy - INFO - Chain [1] done processing\n",
      "01:42:22 - cmdstanpy - INFO - Chain [1] start processing\n",
      "01:42:22 - cmdstanpy - INFO - Chain [1] start processing\n",
      "01:42:22 - cmdstanpy - INFO - Chain [1] done processing\n",
      "01:42:22 - cmdstanpy - INFO - Chain [1] done processing\n",
      "01:42:22 - cmdstanpy - INFO - Chain [1] start processing\n",
      "01:42:22 - cmdstanpy - INFO - Chain [1] start processing\n",
      "01:42:22 - cmdstanpy - INFO - Chain [1] done processing\n",
      "01:42:22 - cmdstanpy - INFO - Chain [1] done processing\n",
      "01:42:22 - cmdstanpy - INFO - Chain [1] done processing\n",
      "01:42:22 - cmdstanpy - INFO - Chain [1] done processing\n"
     ]
    },
    {
     "name": "stdout",
     "output_type": "stream",
     "text": [
      "[I 2025-08-23 01:42:23,243] Trial 10 finished with value: 266.1592575906687 and parameters: {'changepoint_prior_scale': 0.02611949914271007, 'seasonality_prior_scale': 0.011348202261819854, 'holidays_prior_scale': 35.593736059143325}. Best is trial 3 with value: 265.3982917492939.\n"
     ]
    },
    {
     "name": "stderr",
     "output_type": "stream",
     "text": [
      "01:42:23 - cmdstanpy - INFO - Chain [1] start processing\n",
      "01:42:23 - cmdstanpy - INFO - Chain [1] done processing\n",
      "01:42:24 - cmdstanpy - INFO - Chain [1] start processing\n",
      "01:42:24 - cmdstanpy - INFO - Chain [1] done processing\n",
      "01:42:25 - cmdstanpy - INFO - Chain [1] start processing\n",
      "01:42:25 - cmdstanpy - INFO - Chain [1] start processing\n",
      "01:42:25 - cmdstanpy - INFO - Chain [1] start processing\n",
      "01:42:25 - cmdstanpy - INFO - Chain [1] start processing\n",
      "01:42:25 - cmdstanpy - INFO - Chain [1] start processing\n",
      "01:42:25 - cmdstanpy - INFO - Chain [1] start processing\n",
      "01:42:25 - cmdstanpy - INFO - Chain [1] start processing\n",
      "01:42:25 - cmdstanpy - INFO - Chain [1] start processing\n",
      "01:42:25 - cmdstanpy - INFO - Chain [1] start processing\n",
      "01:42:25 - cmdstanpy - INFO - Chain [1] done processing\n",
      "01:42:25 - cmdstanpy - INFO - Chain [1] done processing\n",
      "01:42:25 - cmdstanpy - INFO - Chain [1] done processing\n",
      "01:42:25 - cmdstanpy - INFO - Chain [1] done processing\n",
      "01:42:25 - cmdstanpy - INFO - Chain [1] done processing\n",
      "01:42:25 - cmdstanpy - INFO - Chain [1] done processing\n",
      "01:42:25 - cmdstanpy - INFO - Chain [1] done processing\n",
      "01:42:25 - cmdstanpy - INFO - Chain [1] done processing\n",
      "01:42:25 - cmdstanpy - INFO - Chain [1] done processing\n"
     ]
    },
    {
     "name": "stdout",
     "output_type": "stream",
     "text": [
      "[I 2025-08-23 01:42:26,481] Trial 11 finished with value: 265.4617902788031 and parameters: {'changepoint_prior_scale': 0.051505610864015464, 'seasonality_prior_scale': 38.93289104480876, 'holidays_prior_scale': 1.319665382147847}. Best is trial 3 with value: 265.3982917492939.\n"
     ]
    },
    {
     "name": "stderr",
     "output_type": "stream",
     "text": [
      "01:42:26 - cmdstanpy - INFO - Chain [1] start processing\n",
      "01:42:26 - cmdstanpy - INFO - Chain [1] done processing\n",
      "01:42:27 - cmdstanpy - INFO - Chain [1] start processing\n",
      "01:42:28 - cmdstanpy - INFO - Chain [1] done processing\n",
      "01:42:28 - cmdstanpy - INFO - Chain [1] start processing\n",
      "01:42:28 - cmdstanpy - INFO - Chain [1] start processing\n",
      "01:42:28 - cmdstanpy - INFO - Chain [1] start processing\n",
      "01:42:28 - cmdstanpy - INFO - Chain [1] start processing\n",
      "01:42:28 - cmdstanpy - INFO - Chain [1] start processing\n",
      "01:42:28 - cmdstanpy - INFO - Chain [1] start processing\n",
      "01:42:28 - cmdstanpy - INFO - Chain [1] done processing\n",
      "01:42:28 - cmdstanpy - INFO - Chain [1] done processing\n",
      "01:42:28 - cmdstanpy - INFO - Chain [1] start processing\n",
      "01:42:28 - cmdstanpy - INFO - Chain [1] start processing\n",
      "01:42:28 - cmdstanpy - INFO - Chain [1] start processing\n",
      "01:42:28 - cmdstanpy - INFO - Chain [1] done processing\n",
      "01:42:28 - cmdstanpy - INFO - Chain [1] done processing\n",
      "01:42:28 - cmdstanpy - INFO - Chain [1] done processing\n",
      "01:42:28 - cmdstanpy - INFO - Chain [1] done processing\n",
      "01:42:29 - cmdstanpy - INFO - Chain [1] done processing\n",
      "01:42:29 - cmdstanpy - INFO - Chain [1] done processing\n",
      "01:42:29 - cmdstanpy - INFO - Chain [1] done processing\n"
     ]
    },
    {
     "name": "stdout",
     "output_type": "stream",
     "text": [
      "[I 2025-08-23 01:42:29,645] Trial 12 finished with value: 270.5120263787185 and parameters: {'changepoint_prior_scale': 0.21708556807228374, 'seasonality_prior_scale': 3.058883758743624, 'holidays_prior_scale': 2.091101262935801}. Best is trial 3 with value: 265.3982917492939.\n"
     ]
    },
    {
     "name": "stderr",
     "output_type": "stream",
     "text": [
      "01:42:30 - cmdstanpy - INFO - Chain [1] start processing\n",
      "01:42:30 - cmdstanpy - INFO - Chain [1] done processing\n",
      "01:42:31 - cmdstanpy - INFO - Chain [1] start processing\n",
      "01:42:31 - cmdstanpy - INFO - Chain [1] done processing\n",
      "01:42:31 - cmdstanpy - INFO - Chain [1] start processing\n",
      "01:42:32 - cmdstanpy - INFO - Chain [1] done processing\n",
      "01:42:32 - cmdstanpy - INFO - Chain [1] start processing\n",
      "01:42:32 - cmdstanpy - INFO - Chain [1] start processing\n",
      "01:42:32 - cmdstanpy - INFO - Chain [1] done processing\n",
      "01:42:32 - cmdstanpy - INFO - Chain [1] start processing\n",
      "01:42:32 - cmdstanpy - INFO - Chain [1] start processing\n",
      "01:42:32 - cmdstanpy - INFO - Chain [1] start processing\n",
      "01:42:32 - cmdstanpy - INFO - Chain [1] start processing\n",
      "01:42:32 - cmdstanpy - INFO - Chain [1] start processing\n",
      "01:42:32 - cmdstanpy - INFO - Chain [1] done processing\n",
      "01:42:32 - cmdstanpy - INFO - Chain [1] done processing\n",
      "01:42:32 - cmdstanpy - INFO - Chain [1] start processing\n",
      "01:42:32 - cmdstanpy - INFO - Chain [1] done processing\n",
      "01:42:32 - cmdstanpy - INFO - Chain [1] done processing\n",
      "01:42:32 - cmdstanpy - INFO - Chain [1] done processing\n",
      "01:42:32 - cmdstanpy - INFO - Chain [1] done processing\n",
      "01:42:33 - cmdstanpy - INFO - Chain [1] done processing\n"
     ]
    },
    {
     "name": "stdout",
     "output_type": "stream",
     "text": [
      "[I 2025-08-23 01:42:33,468] Trial 13 finished with value: 266.21646484044317 and parameters: {'changepoint_prior_scale': 0.020555860080978018, 'seasonality_prior_scale': 38.94766511409626, 'holidays_prior_scale': 1.517521057632302}. Best is trial 3 with value: 265.3982917492939.\n"
     ]
    },
    {
     "name": "stderr",
     "output_type": "stream",
     "text": [
      "01:42:33 - cmdstanpy - INFO - Chain [1] start processing\n",
      "01:42:33 - cmdstanpy - INFO - Chain [1] done processing\n",
      "01:42:34 - cmdstanpy - INFO - Chain [1] start processing\n",
      "01:42:34 - cmdstanpy - INFO - Chain [1] done processing\n",
      "01:42:35 - cmdstanpy - INFO - Chain [1] start processing\n",
      "01:42:35 - cmdstanpy - INFO - Chain [1] start processing\n",
      "01:42:35 - cmdstanpy - INFO - Chain [1] start processing\n",
      "01:42:35 - cmdstanpy - INFO - Chain [1] start processing\n",
      "01:42:35 - cmdstanpy - INFO - Chain [1] start processing\n",
      "01:42:35 - cmdstanpy - INFO - Chain [1] start processing\n",
      "01:42:35 - cmdstanpy - INFO - Chain [1] start processing\n",
      "01:42:35 - cmdstanpy - INFO - Chain [1] start processing\n",
      "01:42:35 - cmdstanpy - INFO - Chain [1] start processing\n",
      "01:42:35 - cmdstanpy - INFO - Chain [1] done processing\n",
      "01:42:35 - cmdstanpy - INFO - Chain [1] done processing\n",
      "01:42:35 - cmdstanpy - INFO - Chain [1] done processing\n",
      "01:42:35 - cmdstanpy - INFO - Chain [1] done processing\n",
      "01:42:35 - cmdstanpy - INFO - Chain [1] done processing\n",
      "01:42:35 - cmdstanpy - INFO - Chain [1] done processing\n",
      "01:42:35 - cmdstanpy - INFO - Chain [1] done processing\n",
      "01:42:36 - cmdstanpy - INFO - Chain [1] done processing\n",
      "01:42:36 - cmdstanpy - INFO - Chain [1] done processing\n",
      "01:42:36 - cmdstanpy - INFO - Chain [1] start processing\n"
     ]
    },
    {
     "name": "stdout",
     "output_type": "stream",
     "text": [
      "[I 2025-08-23 01:42:36,593] Trial 14 finished with value: 265.38193378837394 and parameters: {'changepoint_prior_scale': 0.08080865517999887, 'seasonality_prior_scale': 2.2746168206719637, 'holidays_prior_scale': 8.001942675050541}. Best is trial 14 with value: 265.38193378837394.\n"
     ]
    },
    {
     "name": "stderr",
     "output_type": "stream",
     "text": [
      "01:42:36 - cmdstanpy - INFO - Chain [1] done processing\n",
      "01:42:37 - cmdstanpy - INFO - Chain [1] start processing\n",
      "01:42:37 - cmdstanpy - INFO - Chain [1] done processing\n",
      "01:42:38 - cmdstanpy - INFO - Chain [1] start processing\n",
      "01:42:38 - cmdstanpy - INFO - Chain [1] start processing\n",
      "01:42:38 - cmdstanpy - INFO - Chain [1] start processing\n",
      "01:42:38 - cmdstanpy - INFO - Chain [1] start processing\n",
      "01:42:38 - cmdstanpy - INFO - Chain [1] start processing\n",
      "01:42:38 - cmdstanpy - INFO - Chain [1] start processing\n",
      "01:42:38 - cmdstanpy - INFO - Chain [1] done processing\n",
      "01:42:38 - cmdstanpy - INFO - Chain [1] done processing\n",
      "01:42:38 - cmdstanpy - INFO - Chain [1] start processing\n",
      "01:42:38 - cmdstanpy - INFO - Chain [1] done processing\n",
      "01:42:38 - cmdstanpy - INFO - Chain [1] start processing\n",
      "01:42:38 - cmdstanpy - INFO - Chain [1] done processing\n",
      "01:42:38 - cmdstanpy - INFO - Chain [1] done processing\n",
      "01:42:38 - cmdstanpy - INFO - Chain [1] start processing\n",
      "01:42:38 - cmdstanpy - INFO - Chain [1] done processing\n",
      "01:42:39 - cmdstanpy - INFO - Chain [1] done processing\n",
      "01:42:39 - cmdstanpy - INFO - Chain [1] done processing\n",
      "01:42:39 - cmdstanpy - INFO - Chain [1] done processing\n",
      "01:42:39 - cmdstanpy - INFO - Chain [1] start processing\n"
     ]
    },
    {
     "name": "stdout",
     "output_type": "stream",
     "text": [
      "[I 2025-08-23 01:42:39,771] Trial 15 finished with value: 264.55528229841065 and parameters: {'changepoint_prior_scale': 0.006500837755808203, 'seasonality_prior_scale': 2.302456128539749, 'holidays_prior_scale': 10.276872699649914}. Best is trial 15 with value: 264.55528229841065.\n"
     ]
    },
    {
     "name": "stderr",
     "output_type": "stream",
     "text": [
      "01:42:40 - cmdstanpy - INFO - Chain [1] done processing\n",
      "01:42:41 - cmdstanpy - INFO - Chain [1] start processing\n",
      "01:42:41 - cmdstanpy - INFO - Chain [1] done processing\n",
      "01:42:41 - cmdstanpy - INFO - Chain [1] start processing\n",
      "01:42:41 - cmdstanpy - INFO - Chain [1] start processing\n",
      "01:42:41 - cmdstanpy - INFO - Chain [1] start processing\n",
      "01:42:41 - cmdstanpy - INFO - Chain [1] start processing\n",
      "01:42:41 - cmdstanpy - INFO - Chain [1] start processing\n",
      "01:42:41 - cmdstanpy - INFO - Chain [1] done processing\n",
      "01:42:41 - cmdstanpy - INFO - Chain [1] start processing\n",
      "01:42:41 - cmdstanpy - INFO - Chain [1] start processing\n",
      "01:42:41 - cmdstanpy - INFO - Chain [1] start processing\n",
      "01:42:41 - cmdstanpy - INFO - Chain [1] start processing\n",
      "01:42:41 - cmdstanpy - INFO - Chain [1] done processing\n",
      "01:42:42 - cmdstanpy - INFO - Chain [1] done processing\n",
      "01:42:42 - cmdstanpy - INFO - Chain [1] done processing\n",
      "01:42:42 - cmdstanpy - INFO - Chain [1] done processing\n",
      "01:42:42 - cmdstanpy - INFO - Chain [1] done processing\n",
      "01:42:42 - cmdstanpy - INFO - Chain [1] done processing\n",
      "01:42:42 - cmdstanpy - INFO - Chain [1] done processing\n",
      "01:42:42 - cmdstanpy - INFO - Chain [1] done processing\n",
      "01:42:42 - cmdstanpy - INFO - Chain [1] start processing\n"
     ]
    },
    {
     "name": "stdout",
     "output_type": "stream",
     "text": [
      "[I 2025-08-23 01:42:42,779] Trial 16 finished with value: 266.9552569556096 and parameters: {'changepoint_prior_scale': 0.006532501710664661, 'seasonality_prior_scale': 0.22398629034694986, 'holidays_prior_scale': 19.008057560065847}. Best is trial 15 with value: 264.55528229841065.\n"
     ]
    },
    {
     "name": "stderr",
     "output_type": "stream",
     "text": [
      "01:42:43 - cmdstanpy - INFO - Chain [1] done processing\n",
      "01:42:43 - cmdstanpy - INFO - Chain [1] start processing\n",
      "01:42:44 - cmdstanpy - INFO - Chain [1] start processing\n",
      "01:42:44 - cmdstanpy - INFO - Chain [1] done processing\n",
      "01:42:44 - cmdstanpy - INFO - Chain [1] done processing\n",
      "01:42:44 - cmdstanpy - INFO - Chain [1] start processing\n",
      "01:42:44 - cmdstanpy - INFO - Chain [1] start processing\n",
      "01:42:44 - cmdstanpy - INFO - Chain [1] start processing\n",
      "01:42:44 - cmdstanpy - INFO - Chain [1] start processing\n",
      "01:42:44 - cmdstanpy - INFO - Chain [1] start processing\n",
      "01:42:44 - cmdstanpy - INFO - Chain [1] done processing\n",
      "01:42:44 - cmdstanpy - INFO - Chain [1] done processing\n",
      "01:42:45 - cmdstanpy - INFO - Chain [1] start processing\n",
      "01:42:45 - cmdstanpy - INFO - Chain [1] start processing\n",
      "01:42:45 - cmdstanpy - INFO - Chain [1] start processing\n",
      "01:42:45 - cmdstanpy - INFO - Chain [1] done processing\n",
      "01:42:45 - cmdstanpy - INFO - Chain [1] done processing\n",
      "01:42:45 - cmdstanpy - INFO - Chain [1] done processing\n",
      "01:42:45 - cmdstanpy - INFO - Chain [1] done processing\n",
      "01:42:45 - cmdstanpy - INFO - Chain [1] done processing\n",
      "01:42:45 - cmdstanpy - INFO - Chain [1] done processing\n"
     ]
    },
    {
     "name": "stdout",
     "output_type": "stream",
     "text": [
      "[I 2025-08-23 01:42:45,843] Trial 17 finished with value: 264.92692108573004 and parameters: {'changepoint_prior_scale': 0.006294897475067647, 'seasonality_prior_scale': 2.4614735065304645, 'holidays_prior_scale': 6.467862628142988}. Best is trial 15 with value: 264.55528229841065.\n"
     ]
    },
    {
     "name": "stderr",
     "output_type": "stream",
     "text": [
      "01:42:46 - cmdstanpy - INFO - Chain [1] start processing\n",
      "01:42:46 - cmdstanpy - INFO - Chain [1] done processing\n",
      "01:42:47 - cmdstanpy - INFO - Chain [1] start processing\n",
      "01:42:47 - cmdstanpy - INFO - Chain [1] start processing\n",
      "01:42:47 - cmdstanpy - INFO - Chain [1] start processing\n",
      "01:42:47 - cmdstanpy - INFO - Chain [1] start processing\n",
      "01:42:47 - cmdstanpy - INFO - Chain [1] start processing\n",
      "01:42:47 - cmdstanpy - INFO - Chain [1] start processing\n",
      "01:42:47 - cmdstanpy - INFO - Chain [1] start processing\n",
      "01:42:47 - cmdstanpy - INFO - Chain [1] start processing\n",
      "01:42:47 - cmdstanpy - INFO - Chain [1] start processing\n",
      "01:42:47 - cmdstanpy - INFO - Chain [1] start processing\n",
      "01:42:48 - cmdstanpy - INFO - Chain [1] done processing\n",
      "01:42:48 - cmdstanpy - INFO - Chain [1] done processing\n",
      "01:42:48 - cmdstanpy - INFO - Chain [1] done processing\n",
      "01:42:48 - cmdstanpy - INFO - Chain [1] done processing\n",
      "01:42:48 - cmdstanpy - INFO - Chain [1] done processing\n",
      "01:42:48 - cmdstanpy - INFO - Chain [1] done processing\n",
      "01:42:48 - cmdstanpy - INFO - Chain [1] done processing\n",
      "01:42:48 - cmdstanpy - INFO - Chain [1] done processing\n",
      "01:42:48 - cmdstanpy - INFO - Chain [1] done processing\n",
      "01:42:48 - cmdstanpy - INFO - Chain [1] done processing\n"
     ]
    },
    {
     "name": "stdout",
     "output_type": "stream",
     "text": [
      "[I 2025-08-23 01:42:49,020] Trial 18 finished with value: 269.5817704786662 and parameters: {'changepoint_prior_scale': 0.006034759630454353, 'seasonality_prior_scale': 0.22410014461526387, 'holidays_prior_scale': 5.353239502267682}. Best is trial 15 with value: 264.55528229841065.\n"
     ]
    },
    {
     "name": "stderr",
     "output_type": "stream",
     "text": [
      "01:42:49 - cmdstanpy - INFO - Chain [1] start processing\n",
      "01:42:49 - cmdstanpy - INFO - Chain [1] done processing\n",
      "01:42:50 - cmdstanpy - INFO - Chain [1] start processing\n",
      "01:42:50 - cmdstanpy - INFO - Chain [1] done processing\n",
      "01:42:50 - cmdstanpy - INFO - Chain [1] start processing\n",
      "01:42:50 - cmdstanpy - INFO - Chain [1] start processing\n",
      "01:42:50 - cmdstanpy - INFO - Chain [1] start processing\n",
      "01:42:50 - cmdstanpy - INFO - Chain [1] start processing\n",
      "01:42:51 - cmdstanpy - INFO - Chain [1] done processing\n",
      "01:42:51 - cmdstanpy - INFO - Chain [1] done processing\n",
      "01:42:51 - cmdstanpy - INFO - Chain [1] done processing\n",
      "01:42:51 - cmdstanpy - INFO - Chain [1] start processing\n",
      "01:42:51 - cmdstanpy - INFO - Chain [1] done processing\n",
      "01:42:51 - cmdstanpy - INFO - Chain [1] start processing\n",
      "01:42:51 - cmdstanpy - INFO - Chain [1] start processing\n",
      "01:42:51 - cmdstanpy - INFO - Chain [1] start processing\n",
      "01:42:51 - cmdstanpy - INFO - Chain [1] start processing\n",
      "01:42:51 - cmdstanpy - INFO - Chain [1] done processing\n",
      "01:42:51 - cmdstanpy - INFO - Chain [1] done processing\n",
      "01:42:51 - cmdstanpy - INFO - Chain [1] done processing\n",
      "01:42:51 - cmdstanpy - INFO - Chain [1] done processing\n",
      "01:42:51 - cmdstanpy - INFO - Chain [1] done processing\n"
     ]
    },
    {
     "name": "stdout",
     "output_type": "stream",
     "text": [
      "[I 2025-08-23 01:42:52,245] Trial 19 finished with value: 261.4892018171106 and parameters: {'changepoint_prior_scale': 0.0038343732333708126, 'seasonality_prior_scale': 2.9782693543251875, 'holidays_prior_scale': 18.966284693310257}. Best is trial 19 with value: 261.4892018171106.\n"
     ]
    },
    {
     "name": "stderr",
     "output_type": "stream",
     "text": [
      "01:42:52 - cmdstanpy - INFO - Chain [1] start processing\n",
      "01:42:52 - cmdstanpy - INFO - Chain [1] done processing\n",
      "01:42:53 - cmdstanpy - INFO - Chain [1] start processing\n",
      "01:42:53 - cmdstanpy - INFO - Chain [1] done processing\n",
      "01:42:54 - cmdstanpy - INFO - Chain [1] start processing\n",
      "01:42:54 - cmdstanpy - INFO - Chain [1] start processing\n",
      "01:42:54 - cmdstanpy - INFO - Chain [1] start processing\n",
      "01:42:54 - cmdstanpy - INFO - Chain [1] start processing\n",
      "01:42:54 - cmdstanpy - INFO - Chain [1] start processing\n",
      "01:42:54 - cmdstanpy - INFO - Chain [1] start processing\n",
      "01:42:54 - cmdstanpy - INFO - Chain [1] start processing\n",
      "01:42:54 - cmdstanpy - INFO - Chain [1] done processing\n",
      "01:42:54 - cmdstanpy - INFO - Chain [1] start processing\n",
      "01:42:54 - cmdstanpy - INFO - Chain [1] done processing\n",
      "01:42:54 - cmdstanpy - INFO - Chain [1] start processing\n",
      "01:42:54 - cmdstanpy - INFO - Chain [1] done processing\n",
      "01:42:54 - cmdstanpy - INFO - Chain [1] done processing\n",
      "01:42:54 - cmdstanpy - INFO - Chain [1] done processing\n",
      "01:42:54 - cmdstanpy - INFO - Chain [1] done processing\n",
      "01:42:54 - cmdstanpy - INFO - Chain [1] done processing\n",
      "01:42:54 - cmdstanpy - INFO - Chain [1] done processing\n",
      "01:42:54 - cmdstanpy - INFO - Chain [1] done processing\n"
     ]
    },
    {
     "name": "stdout",
     "output_type": "stream",
     "text": [
      "[I 2025-08-23 01:42:55,506] Trial 20 finished with value: 267.08631972166154 and parameters: {'changepoint_prior_scale': 0.01485357425352302, 'seasonality_prior_scale': 0.3686607472089609, 'holidays_prior_scale': 39.95713464580784}. Best is trial 19 with value: 261.4892018171106.\n"
     ]
    },
    {
     "name": "stderr",
     "output_type": "stream",
     "text": [
      "01:42:55 - cmdstanpy - INFO - Chain [1] start processing\n",
      "01:42:56 - cmdstanpy - INFO - Chain [1] done processing\n",
      "01:42:57 - cmdstanpy - INFO - Chain [1] start processing\n",
      "01:42:57 - cmdstanpy - INFO - Chain [1] done processing\n",
      "01:42:57 - cmdstanpy - INFO - Chain [1] start processing\n",
      "01:42:57 - cmdstanpy - INFO - Chain [1] done processing\n",
      "01:42:58 - cmdstanpy - INFO - Chain [1] start processing\n",
      "01:42:59 - cmdstanpy - INFO - Chain [1] start processing\n",
      "01:42:59 - cmdstanpy - INFO - Chain [1] start processing\n",
      "01:42:59 - cmdstanpy - INFO - Chain [1] start processing\n",
      "01:42:59 - cmdstanpy - INFO - Chain [1] start processing\n",
      "01:42:59 - cmdstanpy - INFO - Chain [1] start processing\n",
      "01:42:59 - cmdstanpy - INFO - Chain [1] start processing\n",
      "01:42:59 - cmdstanpy - INFO - Chain [1] start processing\n",
      "01:42:59 - cmdstanpy - INFO - Chain [1] done processing\n",
      "01:42:59 - cmdstanpy - INFO - Chain [1] done processing\n",
      "01:42:59 - cmdstanpy - INFO - Chain [1] done processing\n",
      "01:42:59 - cmdstanpy - INFO - Chain [1] done processing\n",
      "01:42:59 - cmdstanpy - INFO - Chain [1] done processing\n",
      "01:42:59 - cmdstanpy - INFO - Chain [1] done processing\n",
      "01:42:59 - cmdstanpy - INFO - Chain [1] done processing\n",
      "01:42:59 - cmdstanpy - INFO - Chain [1] done processing\n"
     ]
    },
    {
     "name": "stdout",
     "output_type": "stream",
     "text": [
      "[I 2025-08-23 01:43:00,311] Trial 21 finished with value: 269.3774604637234 and parameters: {'changepoint_prior_scale': 0.003043641441900196, 'seasonality_prior_scale': 2.423819141316975, 'holidays_prior_scale': 18.563260943657838}. Best is trial 19 with value: 261.4892018171106.\n"
     ]
    },
    {
     "name": "stderr",
     "output_type": "stream",
     "text": [
      "01:43:00 - cmdstanpy - INFO - Chain [1] start processing\n",
      "01:43:00 - cmdstanpy - INFO - Chain [1] done processing\n",
      "01:43:01 - cmdstanpy - INFO - Chain [1] start processing\n",
      "01:43:01 - cmdstanpy - INFO - Chain [1] done processing\n",
      "01:43:02 - cmdstanpy - INFO - Chain [1] start processing\n",
      "01:43:03 - cmdstanpy - INFO - Chain [1] start processing\n",
      "01:43:03 - cmdstanpy - INFO - Chain [1] start processing\n",
      "01:43:03 - cmdstanpy - INFO - Chain [1] start processing\n",
      "01:43:03 - cmdstanpy - INFO - Chain [1] done processing\n",
      "01:43:03 - cmdstanpy - INFO - Chain [1] start processing\n",
      "01:43:03 - cmdstanpy - INFO - Chain [1] start processing\n",
      "01:43:03 - cmdstanpy - INFO - Chain [1] start processing\n",
      "01:43:03 - cmdstanpy - INFO - Chain [1] start processing\n",
      "01:43:03 - cmdstanpy - INFO - Chain [1] start processing\n",
      "01:43:03 - cmdstanpy - INFO - Chain [1] done processing\n",
      "01:43:03 - cmdstanpy - INFO - Chain [1] done processing\n",
      "01:43:03 - cmdstanpy - INFO - Chain [1] done processing\n",
      "01:43:03 - cmdstanpy - INFO - Chain [1] done processing\n",
      "01:43:03 - cmdstanpy - INFO - Chain [1] done processing\n",
      "01:43:03 - cmdstanpy - INFO - Chain [1] done processing\n",
      "01:43:03 - cmdstanpy - INFO - Chain [1] done processing\n",
      "01:43:03 - cmdstanpy - INFO - Chain [1] done processing\n"
     ]
    },
    {
     "name": "stdout",
     "output_type": "stream",
     "text": [
      "[I 2025-08-23 01:43:04,416] Trial 22 finished with value: 272.9462915921917 and parameters: {'changepoint_prior_scale': 0.003682685375346592, 'seasonality_prior_scale': 4.237226786559229, 'holidays_prior_scale': 14.281489809702313}. Best is trial 19 with value: 261.4892018171106.\n"
     ]
    },
    {
     "name": "stderr",
     "output_type": "stream",
     "text": [
      "01:43:04 - cmdstanpy - INFO - Chain [1] start processing\n",
      "01:43:04 - cmdstanpy - INFO - Chain [1] done processing\n",
      "01:43:05 - cmdstanpy - INFO - Chain [1] start processing\n",
      "01:43:06 - cmdstanpy - INFO - Chain [1] done processing\n",
      "01:43:06 - cmdstanpy - INFO - Chain [1] start processing\n",
      "01:43:06 - cmdstanpy - INFO - Chain [1] start processing\n",
      "01:43:06 - cmdstanpy - INFO - Chain [1] done processing\n",
      "01:43:07 - cmdstanpy - INFO - Chain [1] start processing\n",
      "01:43:07 - cmdstanpy - INFO - Chain [1] start processing\n",
      "01:43:07 - cmdstanpy - INFO - Chain [1] start processing\n",
      "01:43:07 - cmdstanpy - INFO - Chain [1] start processing\n",
      "01:43:07 - cmdstanpy - INFO - Chain [1] start processing\n",
      "01:43:07 - cmdstanpy - INFO - Chain [1] start processing\n",
      "01:43:07 - cmdstanpy - INFO - Chain [1] done processing\n",
      "01:43:07 - cmdstanpy - INFO - Chain [1] start processing\n",
      "01:43:07 - cmdstanpy - INFO - Chain [1] done processing\n",
      "01:43:07 - cmdstanpy - INFO - Chain [1] done processing\n",
      "01:43:07 - cmdstanpy - INFO - Chain [1] done processing\n",
      "01:43:07 - cmdstanpy - INFO - Chain [1] done processing\n",
      "01:43:07 - cmdstanpy - INFO - Chain [1] done processing\n",
      "01:43:07 - cmdstanpy - INFO - Chain [1] done processing\n",
      "01:43:07 - cmdstanpy - INFO - Chain [1] done processing\n"
     ]
    },
    {
     "name": "stdout",
     "output_type": "stream",
     "text": [
      "[I 2025-08-23 01:43:08,348] Trial 23 finished with value: 266.67255335433674 and parameters: {'changepoint_prior_scale': 0.01078491009051909, 'seasonality_prior_scale': 1.2420323436927483, 'holidays_prior_scale': 4.1770006609882255}. Best is trial 19 with value: 261.4892018171106.\n"
     ]
    },
    {
     "name": "stderr",
     "output_type": "stream",
     "text": [
      "01:43:08 - cmdstanpy - INFO - Chain [1] start processing\n",
      "01:43:08 - cmdstanpy - INFO - Chain [1] done processing\n",
      "01:43:08 - cmdstanpy - ERROR - Chain [1] error: error during processing Operation not permitted\n",
      "Optimization terminated abnormally. Falling back to Newton.\n",
      "01:43:08 - cmdstanpy - INFO - Chain [1] start processing\n",
      "01:43:11 - cmdstanpy - INFO - Chain [1] done processing\n",
      "01:43:12 - cmdstanpy - INFO - Chain [1] start processing\n",
      "01:43:13 - cmdstanpy - INFO - Chain [1] done processing\n",
      "01:43:13 - cmdstanpy - ERROR - Chain [1] error: error during processing Operation not permitted\n",
      "01:43:13 - cmdstanpy - INFO - Chain [1] start processing\n",
      "Optimization terminated abnormally. Falling back to Newton.\n",
      "01:43:13 - cmdstanpy - INFO - Chain [1] done processing\n",
      "01:43:13 - cmdstanpy - INFO - Chain [1] start processing\n",
      "01:43:14 - cmdstanpy - INFO - Chain [1] start processing\n",
      "01:43:14 - cmdstanpy - ERROR - Chain [1] error: error during processing Operation not permitted\n",
      "01:43:14 - cmdstanpy - INFO - Chain [1] start processing\n",
      "01:43:14 - cmdstanpy - INFO - Chain [1] start processing\n",
      "01:43:14 - cmdstanpy - INFO - Chain [1] start processing\n",
      "01:43:14 - cmdstanpy - INFO - Chain [1] start processing\n",
      "Optimization terminated abnormally. Falling back to Newton.\n",
      "01:43:14 - cmdstanpy - INFO - Chain [1] start processing\n",
      "01:43:14 - cmdstanpy - INFO - Chain [1] start processing\n",
      "01:43:14 - cmdstanpy - INFO - Chain [1] done processing\n",
      "01:43:14 - cmdstanpy - INFO - Chain [1] done processing\n",
      "01:43:14 - cmdstanpy - INFO - Chain [1] done processing\n",
      "01:43:14 - cmdstanpy - ERROR - Chain [1] error: error during processing Operation not permitted\n",
      "01:43:14 - cmdstanpy - ERROR - Chain [1] error: error during processing Operation not permitted\n",
      "01:43:14 - cmdstanpy - INFO - Chain [1] done processing\n",
      "Optimization terminated abnormally. Falling back to Newton.\n",
      "01:43:14 - cmdstanpy - INFO - Chain [1] done processing\n",
      "01:43:14 - cmdstanpy - ERROR - Chain [1] error: error during processing Operation not permitted\n",
      "Optimization terminated abnormally. Falling back to Newton.\n",
      "01:43:14 - cmdstanpy - INFO - Chain [1] done processing\n",
      "01:43:14 - cmdstanpy - INFO - Chain [1] done processing\n",
      "01:43:14 - cmdstanpy - INFO - Chain [1] start processing\n",
      "Optimization terminated abnormally. Falling back to Newton.\n",
      "01:43:14 - cmdstanpy - INFO - Chain [1] done processing\n",
      "01:43:14 - cmdstanpy - ERROR - Chain [1] error: error during processing Operation not permitted\n",
      "01:43:14 - cmdstanpy - ERROR - Chain [1] error: error during processing Operation not permitted\n",
      "01:43:14 - cmdstanpy - ERROR - Chain [1] error: error during processing Operation not permitted\n",
      "01:43:14 - cmdstanpy - INFO - Chain [1] start processing\n",
      "Optimization terminated abnormally. Falling back to Newton.\n",
      "01:43:14 - cmdstanpy - ERROR - Chain [1] error: error during processing Operation not permitted\n",
      "Optimization terminated abnormally. Falling back to Newton.\n",
      "Optimization terminated abnormally. Falling back to Newton.\n",
      "Optimization terminated abnormally. Falling back to Newton.\n",
      "01:43:15 - cmdstanpy - INFO - Chain [1] start processing\n",
      "01:43:15 - cmdstanpy - INFO - Chain [1] start processing\n",
      "01:43:15 - cmdstanpy - INFO - Chain [1] start processing\n",
      "01:43:15 - cmdstanpy - INFO - Chain [1] start processing\n",
      "01:43:15 - cmdstanpy - INFO - Chain [1] start processing\n",
      "01:43:15 - cmdstanpy - INFO - Chain [1] start processing\n",
      "01:43:15 - cmdstanpy - INFO - Chain [1] start processing\n",
      "01:43:18 - cmdstanpy - INFO - Chain [1] done processing\n",
      "01:43:19 - cmdstanpy - INFO - Chain [1] done processing\n",
      "01:43:19 - cmdstanpy - INFO - Chain [1] done processing\n",
      "01:43:19 - cmdstanpy - INFO - Chain [1] done processing\n",
      "01:43:20 - cmdstanpy - INFO - Chain [1] done processing\n",
      "01:43:20 - cmdstanpy - INFO - Chain [1] done processing\n",
      "01:43:21 - cmdstanpy - INFO - Chain [1] done processing\n",
      "01:43:21 - cmdstanpy - INFO - Chain [1] done processing\n",
      "01:43:21 - cmdstanpy - INFO - Chain [1] done processing\n"
     ]
    },
    {
     "name": "stdout",
     "output_type": "stream",
     "text": [
      "[I 2025-08-23 01:43:21,888] Trial 24 finished with value: 273.5544072538786 and parameters: {'changepoint_prior_scale': 0.0003450522328985058, 'seasonality_prior_scale': 1.9291857101444583, 'holidays_prior_scale': 0.8938689658452516}. Best is trial 19 with value: 261.4892018171106.\n"
     ]
    },
    {
     "name": "stderr",
     "output_type": "stream",
     "text": [
      "01:43:22 - cmdstanpy - INFO - Chain [1] start processing\n",
      "01:43:22 - cmdstanpy - INFO - Chain [1] done processing\n",
      "01:43:23 - cmdstanpy - INFO - Chain [1] start processing\n",
      "01:43:23 - cmdstanpy - INFO - Chain [1] done processing\n",
      "01:43:23 - cmdstanpy - INFO - Chain [1] start processing\n",
      "01:43:23 - cmdstanpy - INFO - Chain [1] start processing\n",
      "01:43:24 - cmdstanpy - INFO - Chain [1] start processing\n",
      "01:43:24 - cmdstanpy - INFO - Chain [1] start processing\n",
      "01:43:24 - cmdstanpy - INFO - Chain [1] start processing\n",
      "01:43:24 - cmdstanpy - INFO - Chain [1] start processing\n",
      "01:43:24 - cmdstanpy - INFO - Chain [1] done processing\n",
      "01:43:24 - cmdstanpy - INFO - Chain [1] start processing\n",
      "01:43:24 - cmdstanpy - INFO - Chain [1] done processing\n",
      "01:43:24 - cmdstanpy - INFO - Chain [1] done processing\n",
      "01:43:24 - cmdstanpy - INFO - Chain [1] start processing\n",
      "01:43:24 - cmdstanpy - INFO - Chain [1] start processing\n",
      "01:43:24 - cmdstanpy - INFO - Chain [1] done processing\n",
      "01:43:24 - cmdstanpy - INFO - Chain [1] done processing\n",
      "01:43:24 - cmdstanpy - INFO - Chain [1] done processing\n",
      "01:43:24 - cmdstanpy - INFO - Chain [1] done processing\n",
      "01:43:24 - cmdstanpy - INFO - Chain [1] done processing\n",
      "01:43:24 - cmdstanpy - INFO - Chain [1] done processing\n"
     ]
    },
    {
     "name": "stdout",
     "output_type": "stream",
     "text": [
      "[I 2025-08-23 01:43:25,185] Trial 25 finished with value: 270.09120535887547 and parameters: {'changepoint_prior_scale': 0.003743342671015929, 'seasonality_prior_scale': 0.42326295947051984, 'holidays_prior_scale': 8.98955324849207}. Best is trial 19 with value: 261.4892018171106.\n"
     ]
    },
    {
     "name": "stderr",
     "output_type": "stream",
     "text": [
      "01:43:25 - cmdstanpy - INFO - Chain [1] start processing\n",
      "01:43:25 - cmdstanpy - INFO - Chain [1] done processing\n",
      "01:43:26 - cmdstanpy - INFO - Chain [1] start processing\n",
      "01:43:26 - cmdstanpy - INFO - Chain [1] done processing\n",
      "01:43:26 - cmdstanpy - INFO - Chain [1] start processing\n",
      "01:43:26 - cmdstanpy - INFO - Chain [1] start processing\n",
      "01:43:26 - cmdstanpy - INFO - Chain [1] start processing\n",
      "01:43:27 - cmdstanpy - INFO - Chain [1] done processing\n",
      "01:43:27 - cmdstanpy - INFO - Chain [1] done processing\n",
      "01:43:27 - cmdstanpy - INFO - Chain [1] start processing\n",
      "01:43:27 - cmdstanpy - INFO - Chain [1] start processing\n",
      "01:43:27 - cmdstanpy - INFO - Chain [1] done processing\n",
      "01:43:27 - cmdstanpy - INFO - Chain [1] start processing\n",
      "01:43:27 - cmdstanpy - INFO - Chain [1] start processing\n",
      "01:43:27 - cmdstanpy - INFO - Chain [1] start processing\n",
      "01:43:27 - cmdstanpy - INFO - Chain [1] start processing\n",
      "01:43:27 - cmdstanpy - INFO - Chain [1] done processing\n",
      "01:43:27 - cmdstanpy - INFO - Chain [1] done processing\n",
      "01:43:27 - cmdstanpy - INFO - Chain [1] done processing\n",
      "01:43:27 - cmdstanpy - INFO - Chain [1] done processing\n",
      "01:43:27 - cmdstanpy - INFO - Chain [1] done processing\n",
      "01:43:27 - cmdstanpy - INFO - Chain [1] done processing\n"
     ]
    },
    {
     "name": "stdout",
     "output_type": "stream",
     "text": [
      "[I 2025-08-23 01:43:28,287] Trial 26 finished with value: 265.11589543950765 and parameters: {'changepoint_prior_scale': 0.009212848955357025, 'seasonality_prior_scale': 4.547723859247285, 'holidays_prior_scale': 22.422289214627597}. Best is trial 19 with value: 261.4892018171106.\n"
     ]
    },
    {
     "name": "stderr",
     "output_type": "stream",
     "text": [
      "01:43:28 - cmdstanpy - INFO - Chain [1] start processing\n",
      "01:43:28 - cmdstanpy - INFO - Chain [1] done processing\n",
      "01:43:29 - cmdstanpy - INFO - Chain [1] start processing\n",
      "01:43:30 - cmdstanpy - INFO - Chain [1] done processing\n",
      "01:43:30 - cmdstanpy - INFO - Chain [1] start processing\n",
      "01:43:30 - cmdstanpy - INFO - Chain [1] start processing\n",
      "01:43:30 - cmdstanpy - INFO - Chain [1] start processing\n",
      "01:43:30 - cmdstanpy - INFO - Chain [1] start processing\n",
      "01:43:30 - cmdstanpy - INFO - Chain [1] done processing\n",
      "01:43:30 - cmdstanpy - INFO - Chain [1] start processing\n",
      "01:43:30 - cmdstanpy - INFO - Chain [1] start processing\n",
      "01:43:30 - cmdstanpy - INFO - Chain [1] start processing\n",
      "01:43:30 - cmdstanpy - INFO - Chain [1] start processing\n",
      "01:43:30 - cmdstanpy - INFO - Chain [1] start processing\n",
      "01:43:30 - cmdstanpy - INFO - Chain [1] done processing\n",
      "01:43:30 - cmdstanpy - INFO - Chain [1] done processing\n",
      "01:43:30 - cmdstanpy - INFO - Chain [1] done processing\n",
      "01:43:31 - cmdstanpy - INFO - Chain [1] done processing\n",
      "01:43:31 - cmdstanpy - INFO - Chain [1] done processing\n",
      "01:43:31 - cmdstanpy - INFO - Chain [1] done processing\n",
      "01:43:31 - cmdstanpy - INFO - Chain [1] done processing\n",
      "01:43:31 - cmdstanpy - INFO - Chain [1] done processing\n"
     ]
    },
    {
     "name": "stdout",
     "output_type": "stream",
     "text": [
      "[I 2025-08-23 01:43:31,856] Trial 27 finished with value: 279.9473733789785 and parameters: {'changepoint_prior_scale': 0.0020368022166744014, 'seasonality_prior_scale': 0.1009730909621351, 'holidays_prior_scale': 3.438292795928542}. Best is trial 19 with value: 261.4892018171106.\n"
     ]
    },
    {
     "name": "stderr",
     "output_type": "stream",
     "text": [
      "01:43:32 - cmdstanpy - INFO - Chain [1] start processing\n",
      "01:43:32 - cmdstanpy - INFO - Chain [1] done processing\n",
      "01:43:33 - cmdstanpy - INFO - Chain [1] start processing\n",
      "01:43:33 - cmdstanpy - INFO - Chain [1] start processing\n",
      "01:43:33 - cmdstanpy - INFO - Chain [1] done processing\n",
      "01:43:33 - cmdstanpy - INFO - Chain [1] start processing\n",
      "01:43:34 - cmdstanpy - INFO - Chain [1] start processing\n",
      "01:43:34 - cmdstanpy - INFO - Chain [1] done processing\n",
      "01:43:34 - cmdstanpy - INFO - Chain [1] start processing\n",
      "01:43:34 - cmdstanpy - INFO - Chain [1] start processing\n",
      "01:43:34 - cmdstanpy - INFO - Chain [1] start processing\n",
      "01:43:34 - cmdstanpy - INFO - Chain [1] start processing\n",
      "01:43:34 - cmdstanpy - INFO - Chain [1] start processing\n",
      "01:43:34 - cmdstanpy - INFO - Chain [1] done processing\n",
      "01:43:34 - cmdstanpy - INFO - Chain [1] start processing\n",
      "01:43:34 - cmdstanpy - INFO - Chain [1] done processing\n",
      "01:43:34 - cmdstanpy - INFO - Chain [1] done processing\n",
      "01:43:34 - cmdstanpy - INFO - Chain [1] done processing\n",
      "01:43:34 - cmdstanpy - INFO - Chain [1] done processing\n",
      "01:43:34 - cmdstanpy - INFO - Chain [1] done processing\n",
      "01:43:34 - cmdstanpy - INFO - Chain [1] done processing\n",
      "01:43:34 - cmdstanpy - INFO - Chain [1] done processing\n"
     ]
    },
    {
     "name": "stdout",
     "output_type": "stream",
     "text": [
      "[I 2025-08-23 01:43:35,283] Trial 28 finished with value: 266.6655186578026 and parameters: {'changepoint_prior_scale': 0.03231291800280175, 'seasonality_prior_scale': 1.490599033164188, 'holidays_prior_scale': 12.303226571832273}. Best is trial 19 with value: 261.4892018171106.\n"
     ]
    },
    {
     "name": "stderr",
     "output_type": "stream",
     "text": [
      "01:43:35 - cmdstanpy - INFO - Chain [1] start processing\n",
      "01:43:35 - cmdstanpy - INFO - Chain [1] done processing\n",
      "01:43:36 - cmdstanpy - INFO - Chain [1] start processing\n",
      "01:43:36 - cmdstanpy - INFO - Chain [1] start processing\n",
      "01:43:37 - cmdstanpy - INFO - Chain [1] done processing\n",
      "01:43:37 - cmdstanpy - INFO - Chain [1] done processing\n",
      "01:43:37 - cmdstanpy - INFO - Chain [1] start processing\n",
      "01:43:37 - cmdstanpy - INFO - Chain [1] start processing\n",
      "01:43:37 - cmdstanpy - INFO - Chain [1] start processing\n",
      "01:43:37 - cmdstanpy - INFO - Chain [1] start processing\n",
      "01:43:37 - cmdstanpy - INFO - Chain [1] start processing\n",
      "01:43:37 - cmdstanpy - INFO - Chain [1] start processing\n",
      "01:43:37 - cmdstanpy - INFO - Chain [1] start processing\n",
      "01:43:37 - cmdstanpy - INFO - Chain [1] done processing\n",
      "01:43:37 - cmdstanpy - INFO - Chain [1] start processing\n",
      "01:43:37 - cmdstanpy - INFO - Chain [1] done processing\n",
      "01:43:37 - cmdstanpy - INFO - Chain [1] done processing\n",
      "01:43:37 - cmdstanpy - INFO - Chain [1] done processing\n",
      "01:43:37 - cmdstanpy - INFO - Chain [1] done processing\n",
      "01:43:37 - cmdstanpy - INFO - Chain [1] done processing\n",
      "01:43:37 - cmdstanpy - INFO - Chain [1] done processing\n",
      "01:43:37 - cmdstanpy - INFO - Chain [1] done processing\n"
     ]
    },
    {
     "name": "stdout",
     "output_type": "stream",
     "text": [
      "[I 2025-08-23 01:43:38,364] Trial 29 finished with value: 271.49637462225024 and parameters: {'changepoint_prior_scale': 0.002306181025326992, 'seasonality_prior_scale': 7.901101113158927, 'holidays_prior_scale': 5.438885750199238}. Best is trial 19 with value: 261.4892018171106.\n"
     ]
    },
    {
     "name": "stderr",
     "output_type": "stream",
     "text": [
      "01:43:38 - cmdstanpy - INFO - Chain [1] start processing\n",
      "01:43:38 - cmdstanpy - INFO - Chain [1] done processing\n",
      "01:43:40 - cmdstanpy - INFO - Chain [1] start processing\n",
      "01:43:40 - cmdstanpy - INFO - Chain [1] start processing\n",
      "01:43:40 - cmdstanpy - INFO - Chain [1] start processing\n",
      "01:43:40 - cmdstanpy - INFO - Chain [1] start processing\n",
      "01:43:40 - cmdstanpy - INFO - Chain [1] start processing\n",
      "01:43:40 - cmdstanpy - INFO - Chain [1] start processing\n",
      "01:43:40 - cmdstanpy - INFO - Chain [1] start processing\n",
      "01:43:40 - cmdstanpy - INFO - Chain [1] start processing\n",
      "01:43:40 - cmdstanpy - INFO - Chain [1] start processing\n",
      "01:43:40 - cmdstanpy - INFO - Chain [1] start processing\n",
      "01:43:40 - cmdstanpy - INFO - Chain [1] done processing\n",
      "01:43:40 - cmdstanpy - INFO - Chain [1] done processing\n",
      "01:43:40 - cmdstanpy - INFO - Chain [1] done processing\n",
      "01:43:40 - cmdstanpy - INFO - Chain [1] done processing\n",
      "01:43:40 - cmdstanpy - INFO - Chain [1] done processing\n",
      "01:43:40 - cmdstanpy - INFO - Chain [1] done processing\n",
      "01:43:40 - cmdstanpy - INFO - Chain [1] done processing\n",
      "01:43:40 - cmdstanpy - INFO - Chain [1] done processing\n",
      "01:43:40 - cmdstanpy - INFO - Chain [1] done processing\n",
      "01:43:40 - cmdstanpy - INFO - Chain [1] done processing\n"
     ]
    },
    {
     "name": "stdout",
     "output_type": "stream",
     "text": [
      "[I 2025-08-23 01:43:41,270] Trial 30 finished with value: 268.6957056891781 and parameters: {'changepoint_prior_scale': 0.004436533094647877, 'seasonality_prior_scale': 0.5811732514207081, 'holidays_prior_scale': 2.288688367740821}. Best is trial 19 with value: 261.4892018171106.\n"
     ]
    },
    {
     "name": "stderr",
     "output_type": "stream",
     "text": [
      "01:43:41 - cmdstanpy - INFO - Chain [1] start processing\n",
      "01:43:41 - cmdstanpy - INFO - Chain [1] done processing\n",
      "01:43:43 - cmdstanpy - INFO - Chain [1] start processing\n",
      "01:43:43 - cmdstanpy - INFO - Chain [1] start processing\n",
      "01:43:43 - cmdstanpy - INFO - Chain [1] start processing\n",
      "01:43:43 - cmdstanpy - INFO - Chain [1] start processing\n",
      "01:43:43 - cmdstanpy - INFO - Chain [1] start processing\n",
      "01:43:43 - cmdstanpy - INFO - Chain [1] start processing\n",
      "01:43:43 - cmdstanpy - INFO - Chain [1] start processing\n",
      "01:43:43 - cmdstanpy - INFO - Chain [1] start processing\n",
      "01:43:43 - cmdstanpy - INFO - Chain [1] start processing\n",
      "01:43:43 - cmdstanpy - INFO - Chain [1] done processing\n",
      "01:43:43 - cmdstanpy - INFO - Chain [1] start processing\n",
      "01:43:43 - cmdstanpy - INFO - Chain [1] done processing\n",
      "01:43:43 - cmdstanpy - INFO - Chain [1] done processing\n",
      "01:43:43 - cmdstanpy - INFO - Chain [1] done processing\n",
      "01:43:43 - cmdstanpy - INFO - Chain [1] done processing\n",
      "01:43:43 - cmdstanpy - INFO - Chain [1] done processing\n",
      "01:43:43 - cmdstanpy - INFO - Chain [1] done processing\n",
      "01:43:43 - cmdstanpy - INFO - Chain [1] done processing\n",
      "01:43:43 - cmdstanpy - INFO - Chain [1] done processing\n",
      "01:43:43 - cmdstanpy - INFO - Chain [1] done processing\n"
     ]
    },
    {
     "name": "stdout",
     "output_type": "stream",
     "text": [
      "[I 2025-08-23 01:43:44,578] Trial 31 finished with value: 268.362815147393 and parameters: {'changepoint_prior_scale': 0.010604096080721754, 'seasonality_prior_scale': 3.6508419910374785, 'holidays_prior_scale': 25.129491606489225}. Best is trial 19 with value: 261.4892018171106.\n"
     ]
    },
    {
     "name": "stderr",
     "output_type": "stream",
     "text": [
      "01:43:44 - cmdstanpy - INFO - Chain [1] start processing\n",
      "01:43:44 - cmdstanpy - INFO - Chain [1] done processing\n",
      "01:43:45 - cmdstanpy - INFO - Chain [1] start processing\n",
      "01:43:46 - cmdstanpy - INFO - Chain [1] start processing\n",
      "01:43:46 - cmdstanpy - INFO - Chain [1] done processing\n",
      "01:43:46 - cmdstanpy - INFO - Chain [1] start processing\n",
      "01:43:46 - cmdstanpy - INFO - Chain [1] done processing\n",
      "01:43:46 - cmdstanpy - INFO - Chain [1] done processing\n",
      "01:43:46 - cmdstanpy - INFO - Chain [1] start processing\n",
      "01:43:46 - cmdstanpy - INFO - Chain [1] start processing\n",
      "01:43:46 - cmdstanpy - INFO - Chain [1] start processing\n",
      "01:43:46 - cmdstanpy - INFO - Chain [1] start processing\n",
      "01:43:46 - cmdstanpy - INFO - Chain [1] start processing\n",
      "01:43:46 - cmdstanpy - INFO - Chain [1] start processing\n",
      "01:43:46 - cmdstanpy - INFO - Chain [1] start processing\n",
      "01:43:46 - cmdstanpy - INFO - Chain [1] done processing\n",
      "01:43:47 - cmdstanpy - INFO - Chain [1] done processing\n",
      "01:43:47 - cmdstanpy - INFO - Chain [1] done processing\n",
      "01:43:47 - cmdstanpy - INFO - Chain [1] done processing\n",
      "01:43:47 - cmdstanpy - INFO - Chain [1] done processing\n",
      "01:43:47 - cmdstanpy - INFO - Chain [1] done processing\n",
      "01:43:47 - cmdstanpy - INFO - Chain [1] done processing\n"
     ]
    },
    {
     "name": "stdout",
     "output_type": "stream",
     "text": [
      "[I 2025-08-23 01:43:47,693] Trial 32 finished with value: 268.302185910446 and parameters: {'changepoint_prior_scale': 0.011343178927925265, 'seasonality_prior_scale': 8.634465295888548, 'holidays_prior_scale': 25.297689593873127}. Best is trial 19 with value: 261.4892018171106.\n"
     ]
    },
    {
     "name": "stderr",
     "output_type": "stream",
     "text": [
      "01:43:48 - cmdstanpy - INFO - Chain [1] start processing\n",
      "01:43:48 - cmdstanpy - INFO - Chain [1] done processing\n",
      "01:43:48 - cmdstanpy - INFO - Chain [1] start processing\n",
      "01:43:49 - cmdstanpy - INFO - Chain [1] done processing\n",
      "01:43:49 - cmdstanpy - INFO - Chain [1] start processing\n",
      "01:43:50 - cmdstanpy - INFO - Chain [1] start processing\n",
      "01:43:50 - cmdstanpy - INFO - Chain [1] done processing\n",
      "01:43:50 - cmdstanpy - INFO - Chain [1] start processing\n",
      "01:43:50 - cmdstanpy - INFO - Chain [1] start processing\n",
      "01:43:50 - cmdstanpy - INFO - Chain [1] start processing\n",
      "01:43:50 - cmdstanpy - INFO - Chain [1] start processing\n",
      "01:43:50 - cmdstanpy - INFO - Chain [1] start processing\n",
      "01:43:50 - cmdstanpy - INFO - Chain [1] start processing\n",
      "01:43:50 - cmdstanpy - INFO - Chain [1] start processing\n",
      "01:43:50 - cmdstanpy - INFO - Chain [1] done processing\n",
      "01:43:50 - cmdstanpy - INFO - Chain [1] done processing\n",
      "01:43:50 - cmdstanpy - INFO - Chain [1] done processing\n",
      "01:43:50 - cmdstanpy - INFO - Chain [1] done processing\n",
      "01:43:50 - cmdstanpy - INFO - Chain [1] done processing\n",
      "01:43:50 - cmdstanpy - INFO - Chain [1] done processing\n",
      "01:43:50 - cmdstanpy - INFO - Chain [1] done processing\n",
      "01:43:50 - cmdstanpy - INFO - Chain [1] done processing\n"
     ]
    },
    {
     "name": "stdout",
     "output_type": "stream",
     "text": [
      "[I 2025-08-23 01:43:51,090] Trial 33 finished with value: 262.43039037778635 and parameters: {'changepoint_prior_scale': 0.006910328008962342, 'seasonality_prior_scale': 5.306515725693219, 'holidays_prior_scale': 10.208486294490365}. Best is trial 19 with value: 261.4892018171106.\n"
     ]
    },
    {
     "name": "stderr",
     "output_type": "stream",
     "text": [
      "01:43:51 - cmdstanpy - INFO - Chain [1] start processing\n",
      "01:43:51 - cmdstanpy - INFO - Chain [1] done processing\n",
      "01:43:51 - cmdstanpy - ERROR - Chain [1] error: error during processing Operation not permitted\n",
      "Optimization terminated abnormally. Falling back to Newton.\n",
      "01:43:51 - cmdstanpy - INFO - Chain [1] start processing\n",
      "01:43:53 - cmdstanpy - INFO - Chain [1] done processing\n",
      "01:43:54 - cmdstanpy - INFO - Chain [1] start processing\n",
      "01:43:54 - cmdstanpy - INFO - Chain [1] start processing\n",
      "01:43:54 - cmdstanpy - INFO - Chain [1] done processing\n",
      "01:43:54 - cmdstanpy - INFO - Chain [1] start processing\n",
      "01:43:54 - cmdstanpy - ERROR - Chain [1] error: error during processing Operation not permitted\n",
      "01:43:54 - cmdstanpy - INFO - Chain [1] start processing\n",
      "01:43:54 - cmdstanpy - INFO - Chain [1] start processing\n",
      "01:43:55 - cmdstanpy - INFO - Chain [1] start processing\n",
      "01:43:55 - cmdstanpy - INFO - Chain [1] start processing\n",
      "01:43:55 - cmdstanpy - INFO - Chain [1] done processing\n",
      "01:43:55 - cmdstanpy - ERROR - Chain [1] error: error during processing Operation not permitted\n",
      "Optimization terminated abnormally. Falling back to Newton.\n",
      "01:43:55 - cmdstanpy - INFO - Chain [1] start processing\n",
      "Optimization terminated abnormally. Falling back to Newton.\n",
      "01:43:55 - cmdstanpy - INFO - Chain [1] start processing\n",
      "01:43:55 - cmdstanpy - INFO - Chain [1] start processing\n",
      "01:43:55 - cmdstanpy - INFO - Chain [1] done processing\n",
      "01:43:55 - cmdstanpy - INFO - Chain [1] done processing\n",
      "01:43:55 - cmdstanpy - INFO - Chain [1] done processing\n",
      "01:43:55 - cmdstanpy - INFO - Chain [1] done processing\n",
      "01:43:55 - cmdstanpy - ERROR - Chain [1] error: error during processing Operation not permitted\n",
      "01:43:55 - cmdstanpy - INFO - Chain [1] done processing\n",
      "01:43:55 - cmdstanpy - INFO - Chain [1] done processing\n",
      "01:43:55 - cmdstanpy - ERROR - Chain [1] error: error during processing Operation not permitted\n",
      "01:43:55 - cmdstanpy - ERROR - Chain [1] error: error during processing Operation not permitted\n",
      "01:43:55 - cmdstanpy - ERROR - Chain [1] error: error during processing Operation not permitted\n",
      "01:43:55 - cmdstanpy - INFO - Chain [1] start processing\n",
      "Optimization terminated abnormally. Falling back to Newton.\n",
      "Optimization terminated abnormally. Falling back to Newton.\n",
      "Optimization terminated abnormally. Falling back to Newton.\n",
      "01:43:55 - cmdstanpy - INFO - Chain [1] done processing\n",
      "01:43:55 - cmdstanpy - ERROR - Chain [1] error: error during processing Operation not permitted\n",
      "Optimization terminated abnormally. Falling back to Newton.\n",
      "01:43:55 - cmdstanpy - INFO - Chain [1] start processing\n",
      "Optimization terminated abnormally. Falling back to Newton.\n",
      "01:43:55 - cmdstanpy - ERROR - Chain [1] error: error during processing Operation not permitted\n",
      "01:43:55 - cmdstanpy - INFO - Chain [1] done processing\n",
      "Optimization terminated abnormally. Falling back to Newton.\n",
      "01:43:56 - cmdstanpy - INFO - Chain [1] start processing\n",
      "01:43:56 - cmdstanpy - INFO - Chain [1] start processing\n",
      "01:43:56 - cmdstanpy - INFO - Chain [1] start processing\n",
      "01:43:56 - cmdstanpy - INFO - Chain [1] start processing\n",
      "01:43:56 - cmdstanpy - INFO - Chain [1] start processing\n",
      "01:43:56 - cmdstanpy - INFO - Chain [1] start processing\n",
      "01:43:58 - cmdstanpy - INFO - Chain [1] done processing\n",
      "01:43:59 - cmdstanpy - INFO - Chain [1] done processing\n",
      "01:44:00 - cmdstanpy - INFO - Chain [1] done processing\n",
      "01:44:00 - cmdstanpy - INFO - Chain [1] done processing\n",
      "01:44:01 - cmdstanpy - INFO - Chain [1] done processing\n",
      "01:44:01 - cmdstanpy - INFO - Chain [1] done processing\n",
      "01:44:01 - cmdstanpy - INFO - Chain [1] done processing\n",
      "01:44:11 - cmdstanpy - INFO - Chain [1] done processing\n"
     ]
    },
    {
     "name": "stdout",
     "output_type": "stream",
     "text": [
      "[I 2025-08-23 01:44:11,310] Trial 34 finished with value: 278.36329606993684 and parameters: {'changepoint_prior_scale': 0.0004935134617143752, 'seasonality_prior_scale': 12.51500690617925, 'holidays_prior_scale': 9.130209367574158}. Best is trial 19 with value: 261.4892018171106.\n"
     ]
    },
    {
     "name": "stderr",
     "output_type": "stream",
     "text": [
      "01:44:11 - cmdstanpy - INFO - Chain [1] start processing\n",
      "01:44:11 - cmdstanpy - INFO - Chain [1] done processing\n",
      "01:44:12 - cmdstanpy - INFO - Chain [1] start processing\n",
      "01:44:13 - cmdstanpy - INFO - Chain [1] done processing\n",
      "01:44:13 - cmdstanpy - INFO - Chain [1] start processing\n",
      "01:44:13 - cmdstanpy - INFO - Chain [1] start processing\n",
      "01:44:13 - cmdstanpy - INFO - Chain [1] start processing\n",
      "01:44:13 - cmdstanpy - INFO - Chain [1] start processing\n",
      "01:44:13 - cmdstanpy - INFO - Chain [1] done processing\n",
      "01:44:13 - cmdstanpy - INFO - Chain [1] start processing\n",
      "01:44:13 - cmdstanpy - INFO - Chain [1] done processing\n",
      "01:44:13 - cmdstanpy - INFO - Chain [1] start processing\n",
      "01:44:13 - cmdstanpy - INFO - Chain [1] start processing\n",
      "01:44:14 - cmdstanpy - INFO - Chain [1] start processing\n",
      "01:44:14 - cmdstanpy - INFO - Chain [1] done processing\n",
      "01:44:14 - cmdstanpy - INFO - Chain [1] done processing\n",
      "01:44:14 - cmdstanpy - INFO - Chain [1] done processing\n",
      "01:44:14 - cmdstanpy - INFO - Chain [1] start processing\n",
      "01:44:14 - cmdstanpy - INFO - Chain [1] done processing\n",
      "01:44:14 - cmdstanpy - INFO - Chain [1] done processing\n",
      "01:44:14 - cmdstanpy - INFO - Chain [1] done processing\n",
      "01:44:14 - cmdstanpy - INFO - Chain [1] done processing\n"
     ]
    },
    {
     "name": "stdout",
     "output_type": "stream",
     "text": [
      "[I 2025-08-23 01:44:15,132] Trial 35 finished with value: 263.50010803660086 and parameters: {'changepoint_prior_scale': 0.0064887366241930065, 'seasonality_prior_scale': 6.24741901211369, 'holidays_prior_scale': 6.81713733411311}. Best is trial 19 with value: 261.4892018171106.\n"
     ]
    },
    {
     "name": "stderr",
     "output_type": "stream",
     "text": [
      "01:44:15 - cmdstanpy - INFO - Chain [1] start processing\n",
      "01:44:15 - cmdstanpy - INFO - Chain [1] done processing\n",
      "01:44:16 - cmdstanpy - INFO - Chain [1] start processing\n",
      "01:44:16 - cmdstanpy - INFO - Chain [1] start processing\n",
      "01:44:16 - cmdstanpy - INFO - Chain [1] done processing\n",
      "01:44:16 - cmdstanpy - INFO - Chain [1] done processing\n",
      "01:44:17 - cmdstanpy - INFO - Chain [1] start processing\n",
      "01:44:17 - cmdstanpy - INFO - Chain [1] start processing\n",
      "01:44:17 - cmdstanpy - INFO - Chain [1] start processing\n",
      "01:44:17 - cmdstanpy - INFO - Chain [1] start processing\n",
      "01:44:17 - cmdstanpy - INFO - Chain [1] start processing\n",
      "01:44:17 - cmdstanpy - INFO - Chain [1] done processing\n",
      "01:44:17 - cmdstanpy - INFO - Chain [1] done processing\n",
      "01:44:17 - cmdstanpy - INFO - Chain [1] start processing\n",
      "01:44:17 - cmdstanpy - INFO - Chain [1] start processing\n",
      "01:44:17 - cmdstanpy - INFO - Chain [1] start processing\n",
      "01:44:17 - cmdstanpy - INFO - Chain [1] done processing\n",
      "01:44:17 - cmdstanpy - ERROR - Chain [1] error: error during processing Operation not permitted\n",
      "01:44:17 - cmdstanpy - INFO - Chain [1] done processing\n",
      "01:44:17 - cmdstanpy - INFO - Chain [1] done processing\n",
      "Optimization terminated abnormally. Falling back to Newton.\n",
      "01:44:17 - cmdstanpy - INFO - Chain [1] done processing\n",
      "01:44:17 - cmdstanpy - INFO - Chain [1] done processing\n",
      "01:44:17 - cmdstanpy - INFO - Chain [1] done processing\n",
      "01:44:18 - cmdstanpy - INFO - Chain [1] start processing\n",
      "01:44:20 - cmdstanpy - INFO - Chain [1] done processing\n",
      "01:44:20 - cmdstanpy - INFO - Chain [1] start processing\n"
     ]
    },
    {
     "name": "stdout",
     "output_type": "stream",
     "text": [
      "[I 2025-08-23 01:44:20,304] Trial 36 finished with value: 341.00763579698867 and parameters: {'changepoint_prior_scale': 0.001427475853855843, 'seasonality_prior_scale': 6.445164312393066, 'holidays_prior_scale': 11.966507593413555}. Best is trial 19 with value: 261.4892018171106.\n"
     ]
    },
    {
     "name": "stderr",
     "output_type": "stream",
     "text": [
      "01:44:20 - cmdstanpy - INFO - Chain [1] done processing\n",
      "01:44:21 - cmdstanpy - INFO - Chain [1] start processing\n",
      "01:44:21 - cmdstanpy - INFO - Chain [1] done processing\n",
      "01:44:22 - cmdstanpy - INFO - Chain [1] start processing\n",
      "01:44:22 - cmdstanpy - INFO - Chain [1] start processing\n",
      "01:44:22 - cmdstanpy - INFO - Chain [1] start processing\n",
      "01:44:22 - cmdstanpy - INFO - Chain [1] done processing\n",
      "01:44:22 - cmdstanpy - INFO - Chain [1] start processing\n",
      "01:44:22 - cmdstanpy - INFO - Chain [1] start processing\n",
      "01:44:22 - cmdstanpy - INFO - Chain [1] start processing\n",
      "01:44:22 - cmdstanpy - INFO - Chain [1] start processing\n",
      "01:44:22 - cmdstanpy - INFO - Chain [1] start processing\n",
      "01:44:22 - cmdstanpy - INFO - Chain [1] done processing\n",
      "01:44:22 - cmdstanpy - INFO - Chain [1] start processing\n",
      "01:44:22 - cmdstanpy - INFO - Chain [1] done processing\n",
      "01:44:22 - cmdstanpy - INFO - Chain [1] done processing\n",
      "01:44:22 - cmdstanpy - INFO - Chain [1] done processing\n",
      "01:44:22 - cmdstanpy - INFO - Chain [1] done processing\n",
      "01:44:22 - cmdstanpy - INFO - Chain [1] done processing\n",
      "01:44:22 - cmdstanpy - INFO - Chain [1] done processing\n",
      "01:44:22 - cmdstanpy - INFO - Chain [1] done processing\n",
      "01:44:23 - cmdstanpy - INFO - Chain [1] start processing\n"
     ]
    },
    {
     "name": "stdout",
     "output_type": "stream",
     "text": [
      "[I 2025-08-23 01:44:23,488] Trial 37 finished with value: 266.7676253022702 and parameters: {'changepoint_prior_scale': 0.017235568385483083, 'seasonality_prior_scale': 16.96733098173253, 'holidays_prior_scale': 0.774058829156605}. Best is trial 19 with value: 261.4892018171106.\n"
     ]
    },
    {
     "name": "stderr",
     "output_type": "stream",
     "text": [
      "01:44:23 - cmdstanpy - INFO - Chain [1] done processing\n",
      "01:44:25 - cmdstanpy - INFO - Chain [1] start processing\n",
      "01:44:25 - cmdstanpy - INFO - Chain [1] start processing\n",
      "01:44:25 - cmdstanpy - INFO - Chain [1] start processing\n",
      "01:44:25 - cmdstanpy - INFO - Chain [1] start processing\n",
      "01:44:25 - cmdstanpy - INFO - Chain [1] start processing\n",
      "01:44:25 - cmdstanpy - INFO - Chain [1] start processing\n",
      "01:44:25 - cmdstanpy - INFO - Chain [1] start processing\n",
      "01:44:25 - cmdstanpy - INFO - Chain [1] start processing\n",
      "01:44:25 - cmdstanpy - INFO - Chain [1] start processing\n",
      "01:44:25 - cmdstanpy - INFO - Chain [1] start processing\n",
      "01:44:25 - cmdstanpy - INFO - Chain [1] done processing\n",
      "01:44:25 - cmdstanpy - INFO - Chain [1] done processing\n",
      "01:44:25 - cmdstanpy - INFO - Chain [1] done processing\n",
      "01:44:25 - cmdstanpy - INFO - Chain [1] done processing\n",
      "01:44:25 - cmdstanpy - INFO - Chain [1] done processing\n",
      "01:44:25 - cmdstanpy - INFO - Chain [1] done processing\n",
      "01:44:25 - cmdstanpy - INFO - Chain [1] done processing\n",
      "01:44:25 - cmdstanpy - ERROR - Chain [1] error: error during processing Operation not permitted\n",
      "Optimization terminated abnormally. Falling back to Newton.\n",
      "01:44:26 - cmdstanpy - INFO - Chain [1] done processing\n",
      "01:44:26 - cmdstanpy - INFO - Chain [1] done processing\n",
      "01:44:26 - cmdstanpy - INFO - Chain [1] done processing\n",
      "01:44:26 - cmdstanpy - INFO - Chain [1] start processing\n",
      "01:44:32 - cmdstanpy - INFO - Chain [1] done processing\n"
     ]
    },
    {
     "name": "stdout",
     "output_type": "stream",
     "text": [
      "[I 2025-08-23 01:44:32,155] Trial 38 finished with value: 302.06073642039905 and parameters: {'changepoint_prior_scale': 0.00158183910878944, 'seasonality_prior_scale': 9.66277938719953, 'holidays_prior_scale': 14.491698509722356}. Best is trial 19 with value: 261.4892018171106.\n"
     ]
    },
    {
     "name": "stderr",
     "output_type": "stream",
     "text": [
      "01:44:32 - cmdstanpy - INFO - Chain [1] start processing\n",
      "01:44:32 - cmdstanpy - INFO - Chain [1] done processing\n",
      "01:44:32 - cmdstanpy - ERROR - Chain [1] error: error during processing Operation not permitted\n",
      "Optimization terminated abnormally. Falling back to Newton.\n",
      "01:44:32 - cmdstanpy - INFO - Chain [1] start processing\n",
      "01:44:34 - cmdstanpy - INFO - Chain [1] done processing\n",
      "01:44:34 - cmdstanpy - INFO - Chain [1] start processing\n",
      "01:44:35 - cmdstanpy - INFO - Chain [1] done processing\n",
      "01:44:35 - cmdstanpy - ERROR - Chain [1] error: error during processing Operation not permitted\n",
      "Optimization terminated abnormally. Falling back to Newton.\n",
      "01:44:35 - cmdstanpy - INFO - Chain [1] start processing\n",
      "01:44:35 - cmdstanpy - INFO - Chain [1] start processing\n",
      "01:44:35 - cmdstanpy - INFO - Chain [1] done processing\n",
      "01:44:35 - cmdstanpy - ERROR - Chain [1] error: error during processing Operation not permitted\n",
      "01:44:35 - cmdstanpy - INFO - Chain [1] done processing\n",
      "01:44:35 - cmdstanpy - INFO - Chain [1] start processing\n",
      "Optimization terminated abnormally. Falling back to Newton.\n",
      "01:44:35 - cmdstanpy - INFO - Chain [1] start processing\n",
      "01:44:35 - cmdstanpy - ERROR - Chain [1] error: error during processing Operation not permitted\n",
      "01:44:36 - cmdstanpy - INFO - Chain [1] start processing\n",
      "01:44:36 - cmdstanpy - INFO - Chain [1] start processing\n",
      "01:44:36 - cmdstanpy - INFO - Chain [1] start processing\n",
      "01:44:36 - cmdstanpy - INFO - Chain [1] start processing\n",
      "Optimization terminated abnormally. Falling back to Newton.\n",
      "01:44:36 - cmdstanpy - INFO - Chain [1] start processing\n",
      "01:44:36 - cmdstanpy - INFO - Chain [1] start processing\n",
      "01:44:36 - cmdstanpy - INFO - Chain [1] done processing\n",
      "01:44:36 - cmdstanpy - INFO - Chain [1] done processing\n",
      "01:44:36 - cmdstanpy - INFO - Chain [1] done processing\n",
      "01:44:36 - cmdstanpy - INFO - Chain [1] done processing\n",
      "01:44:36 - cmdstanpy - INFO - Chain [1] done processing\n",
      "01:44:36 - cmdstanpy - ERROR - Chain [1] error: error during processing Operation not permitted\n",
      "01:44:36 - cmdstanpy - ERROR - Chain [1] error: error during processing Operation not permitted\n",
      "01:44:36 - cmdstanpy - ERROR - Chain [1] error: error during processing Operation not permitted\n",
      "Optimization terminated abnormally. Falling back to Newton.\n",
      "01:44:36 - cmdstanpy - INFO - Chain [1] done processing\n",
      "01:44:36 - cmdstanpy - ERROR - Chain [1] error: error during processing Operation not permitted\n",
      "Optimization terminated abnormally. Falling back to Newton.\n",
      "01:44:36 - cmdstanpy - INFO - Chain [1] done processing\n",
      "01:44:36 - cmdstanpy - INFO - Chain [1] start processing\n",
      "Optimization terminated abnormally. Falling back to Newton.\n",
      "01:44:36 - cmdstanpy - ERROR - Chain [1] error: error during processing Operation not permitted\n",
      "Optimization terminated abnormally. Falling back to Newton.\n",
      "01:44:36 - cmdstanpy - INFO - Chain [1] start processing\n",
      "Optimization terminated abnormally. Falling back to Newton.\n",
      "01:44:37 - cmdstanpy - INFO - Chain [1] start processing\n",
      "01:44:37 - cmdstanpy - INFO - Chain [1] start processing\n",
      "01:44:37 - cmdstanpy - INFO - Chain [1] start processing\n",
      "01:44:37 - cmdstanpy - INFO - Chain [1] start processing\n",
      "01:44:37 - cmdstanpy - INFO - Chain [1] start processing\n",
      "01:44:39 - cmdstanpy - INFO - Chain [1] done processing\n",
      "01:44:40 - cmdstanpy - INFO - Chain [1] done processing\n",
      "01:44:40 - cmdstanpy - INFO - Chain [1] done processing\n",
      "01:44:41 - cmdstanpy - INFO - Chain [1] done processing\n",
      "01:44:41 - cmdstanpy - INFO - Chain [1] done processing\n",
      "01:44:41 - cmdstanpy - INFO - Chain [1] done processing\n",
      "01:44:42 - cmdstanpy - INFO - Chain [1] done processing\n",
      "01:44:42 - cmdstanpy - INFO - Chain [1] done processing\n"
     ]
    },
    {
     "name": "stdout",
     "output_type": "stream",
     "text": [
      "[I 2025-08-23 01:44:42,448] Trial 39 finished with value: 275.2283748796401 and parameters: {'changepoint_prior_scale': 0.0005733237891557775, 'seasonality_prior_scale': 1.3217771269430603, 'holidays_prior_scale': 2.4850052685798403}. Best is trial 19 with value: 261.4892018171106.\n"
     ]
    },
    {
     "name": "stderr",
     "output_type": "stream",
     "text": [
      "01:44:42 - cmdstanpy - INFO - Chain [1] start processing\n",
      "01:44:42 - cmdstanpy - INFO - Chain [1] done processing\n",
      "01:44:44 - cmdstanpy - INFO - Chain [1] start processing\n",
      "01:44:44 - cmdstanpy - INFO - Chain [1] start processing\n",
      "01:44:44 - cmdstanpy - INFO - Chain [1] start processing\n",
      "01:44:44 - cmdstanpy - INFO - Chain [1] start processing\n",
      "01:44:44 - cmdstanpy - INFO - Chain [1] start processing\n",
      "01:44:44 - cmdstanpy - INFO - Chain [1] start processing\n",
      "01:44:44 - cmdstanpy - INFO - Chain [1] done processing\n",
      "01:44:44 - cmdstanpy - INFO - Chain [1] start processing\n",
      "01:44:44 - cmdstanpy - INFO - Chain [1] start processing\n",
      "01:44:44 - cmdstanpy - INFO - Chain [1] start processing\n",
      "01:44:44 - cmdstanpy - INFO - Chain [1] done processing\n",
      "01:44:44 - cmdstanpy - INFO - Chain [1] done processing\n",
      "01:44:44 - cmdstanpy - INFO - Chain [1] start processing\n",
      "01:44:44 - cmdstanpy - INFO - Chain [1] done processing\n",
      "01:44:44 - cmdstanpy - INFO - Chain [1] done processing\n",
      "01:44:44 - cmdstanpy - INFO - Chain [1] done processing\n",
      "01:44:44 - cmdstanpy - INFO - Chain [1] done processing\n",
      "01:44:44 - cmdstanpy - INFO - Chain [1] done processing\n",
      "01:44:44 - cmdstanpy - INFO - Chain [1] done processing\n",
      "01:44:44 - cmdstanpy - INFO - Chain [1] done processing\n"
     ]
    },
    {
     "name": "stdout",
     "output_type": "stream",
     "text": [
      "[I 2025-08-23 01:44:45,493] Trial 40 finished with value: 268.7625602643639 and parameters: {'changepoint_prior_scale': 0.002874883991353653, 'seasonality_prior_scale': 5.9158214780882785, 'holidays_prior_scale': 4.59252376399772}. Best is trial 19 with value: 261.4892018171106.\n"
     ]
    },
    {
     "name": "stderr",
     "output_type": "stream",
     "text": [
      "01:44:45 - cmdstanpy - INFO - Chain [1] start processing\n",
      "01:44:45 - cmdstanpy - INFO - Chain [1] done processing\n",
      "01:44:46 - cmdstanpy - INFO - Chain [1] start processing\n",
      "01:44:46 - cmdstanpy - INFO - Chain [1] done processing\n",
      "01:44:46 - cmdstanpy - INFO - Chain [1] start processing\n",
      "01:44:47 - cmdstanpy - INFO - Chain [1] done processing\n",
      "01:44:47 - cmdstanpy - INFO - Chain [1] start processing\n",
      "01:44:47 - cmdstanpy - INFO - Chain [1] start processing\n",
      "01:44:47 - cmdstanpy - INFO - Chain [1] start processing\n",
      "01:44:47 - cmdstanpy - INFO - Chain [1] done processing\n",
      "01:44:47 - cmdstanpy - INFO - Chain [1] start processing\n",
      "01:44:47 - cmdstanpy - INFO - Chain [1] done processing\n",
      "01:44:47 - cmdstanpy - INFO - Chain [1] start processing\n",
      "01:44:47 - cmdstanpy - INFO - Chain [1] start processing\n",
      "01:44:47 - cmdstanpy - INFO - Chain [1] start processing\n",
      "01:44:47 - cmdstanpy - INFO - Chain [1] done processing\n",
      "01:44:47 - cmdstanpy - INFO - Chain [1] start processing\n",
      "01:44:48 - cmdstanpy - INFO - Chain [1] done processing\n",
      "01:44:48 - cmdstanpy - INFO - Chain [1] done processing\n",
      "01:44:48 - cmdstanpy - INFO - Chain [1] done processing\n",
      "01:44:48 - cmdstanpy - INFO - Chain [1] done processing\n",
      "01:44:48 - cmdstanpy - INFO - Chain [1] done processing\n",
      "01:44:48 - cmdstanpy - INFO - Chain [1] start processing\n"
     ]
    },
    {
     "name": "stdout",
     "output_type": "stream",
     "text": [
      "[I 2025-08-23 01:44:48,640] Trial 41 finished with value: 271.2882157843483 and parameters: {'changepoint_prior_scale': 0.005868844517711791, 'seasonality_prior_scale': 2.567488283137503, 'holidays_prior_scale': 6.594286809130085}. Best is trial 19 with value: 261.4892018171106.\n"
     ]
    },
    {
     "name": "stderr",
     "output_type": "stream",
     "text": [
      "01:44:48 - cmdstanpy - INFO - Chain [1] done processing\n",
      "01:44:50 - cmdstanpy - INFO - Chain [1] start processing\n",
      "01:44:50 - cmdstanpy - INFO - Chain [1] start processing\n",
      "01:44:50 - cmdstanpy - INFO - Chain [1] done processing\n",
      "01:44:50 - cmdstanpy - INFO - Chain [1] done processing\n",
      "01:44:50 - cmdstanpy - INFO - Chain [1] start processing\n",
      "01:44:50 - cmdstanpy - INFO - Chain [1] start processing\n",
      "01:44:50 - cmdstanpy - INFO - Chain [1] start processing\n",
      "01:44:50 - cmdstanpy - INFO - Chain [1] start processing\n",
      "01:44:50 - cmdstanpy - INFO - Chain [1] start processing\n",
      "01:44:50 - cmdstanpy - INFO - Chain [1] start processing\n",
      "01:44:50 - cmdstanpy - INFO - Chain [1] start processing\n",
      "01:44:50 - cmdstanpy - INFO - Chain [1] start processing\n",
      "01:44:51 - cmdstanpy - INFO - Chain [1] done processing\n",
      "01:44:51 - cmdstanpy - INFO - Chain [1] done processing\n",
      "01:44:51 - cmdstanpy - INFO - Chain [1] done processing\n",
      "01:44:51 - cmdstanpy - INFO - Chain [1] done processing\n",
      "01:44:51 - cmdstanpy - INFO - Chain [1] done processing\n",
      "01:44:51 - cmdstanpy - INFO - Chain [1] done processing\n",
      "01:44:51 - cmdstanpy - INFO - Chain [1] done processing\n",
      "01:44:51 - cmdstanpy - INFO - Chain [1] done processing\n",
      "01:44:52 - cmdstanpy - INFO - Chain [1] start processing\n"
     ]
    },
    {
     "name": "stdout",
     "output_type": "stream",
     "text": [
      "[I 2025-08-23 01:44:51,969] Trial 42 finished with value: 268.51521404425114 and parameters: {'changepoint_prior_scale': 0.005224471416204138, 'seasonality_prior_scale': 3.9995767206973727, 'holidays_prior_scale': 0.13200620555896547}. Best is trial 19 with value: 261.4892018171106.\n"
     ]
    },
    {
     "name": "stderr",
     "output_type": "stream",
     "text": [
      "01:44:52 - cmdstanpy - INFO - Chain [1] done processing\n",
      "01:44:52 - cmdstanpy - INFO - Chain [1] start processing\n",
      "01:44:53 - cmdstanpy - INFO - Chain [1] done processing\n",
      "01:44:53 - cmdstanpy - INFO - Chain [1] start processing\n",
      "01:44:53 - cmdstanpy - INFO - Chain [1] start processing\n",
      "01:44:54 - cmdstanpy - INFO - Chain [1] start processing\n",
      "01:44:54 - cmdstanpy - INFO - Chain [1] start processing\n",
      "01:44:54 - cmdstanpy - INFO - Chain [1] start processing\n",
      "01:44:54 - cmdstanpy - INFO - Chain [1] start processing\n",
      "01:44:54 - cmdstanpy - INFO - Chain [1] done processing\n",
      "01:44:54 - cmdstanpy - INFO - Chain [1] done processing\n",
      "01:44:54 - cmdstanpy - INFO - Chain [1] start processing\n",
      "01:44:54 - cmdstanpy - INFO - Chain [1] start processing\n",
      "01:44:54 - cmdstanpy - INFO - Chain [1] done processing\n",
      "01:44:54 - cmdstanpy - INFO - Chain [1] done processing\n",
      "01:44:54 - cmdstanpy - INFO - Chain [1] done processing\n",
      "01:44:54 - cmdstanpy - INFO - Chain [1] start processing\n",
      "01:44:54 - cmdstanpy - INFO - Chain [1] done processing\n",
      "01:44:54 - cmdstanpy - INFO - Chain [1] done processing\n",
      "01:44:54 - cmdstanpy - INFO - Chain [1] done processing\n",
      "01:44:54 - cmdstanpy - INFO - Chain [1] done processing\n",
      "01:44:55 - cmdstanpy - INFO - Chain [1] start processing\n"
     ]
    },
    {
     "name": "stdout",
     "output_type": "stream",
     "text": [
      "[I 2025-08-23 01:44:55,137] Trial 43 finished with value: 263.85874036674426 and parameters: {'changepoint_prior_scale': 0.009072961633908166, 'seasonality_prior_scale': 14.761051228943654, 'holidays_prior_scale': 9.433211958840028}. Best is trial 19 with value: 261.4892018171106.\n"
     ]
    },
    {
     "name": "stderr",
     "output_type": "stream",
     "text": [
      "01:44:55 - cmdstanpy - INFO - Chain [1] done processing\n",
      "01:44:56 - cmdstanpy - INFO - Chain [1] start processing\n",
      "01:44:56 - cmdstanpy - INFO - Chain [1] done processing\n",
      "01:44:56 - cmdstanpy - INFO - Chain [1] start processing\n",
      "01:44:56 - cmdstanpy - INFO - Chain [1] start processing\n",
      "01:44:57 - cmdstanpy - INFO - Chain [1] done processing\n",
      "01:44:57 - cmdstanpy - INFO - Chain [1] start processing\n",
      "01:44:57 - cmdstanpy - INFO - Chain [1] start processing\n",
      "01:44:57 - cmdstanpy - INFO - Chain [1] start processing\n",
      "01:44:57 - cmdstanpy - INFO - Chain [1] start processing\n",
      "01:44:57 - cmdstanpy - INFO - Chain [1] start processing\n",
      "01:44:57 - cmdstanpy - INFO - Chain [1] done processing\n",
      "01:44:57 - cmdstanpy - INFO - Chain [1] start processing\n",
      "01:44:57 - cmdstanpy - INFO - Chain [1] start processing\n",
      "01:44:57 - cmdstanpy - INFO - Chain [1] done processing\n",
      "01:44:57 - cmdstanpy - INFO - Chain [1] done processing\n",
      "01:44:57 - cmdstanpy - INFO - Chain [1] done processing\n",
      "01:44:57 - cmdstanpy - INFO - Chain [1] done processing\n",
      "01:44:57 - cmdstanpy - INFO - Chain [1] done processing\n",
      "01:44:57 - cmdstanpy - INFO - Chain [1] done processing\n",
      "01:44:57 - cmdstanpy - INFO - Chain [1] done processing\n"
     ]
    },
    {
     "name": "stdout",
     "output_type": "stream",
     "text": [
      "[I 2025-08-23 01:44:58,256] Trial 44 finished with value: 266.0901744653259 and parameters: {'changepoint_prior_scale': 0.03549218333082251, 'seasonality_prior_scale': 23.434677055295683, 'holidays_prior_scale': 10.44332913292651}. Best is trial 19 with value: 261.4892018171106.\n"
     ]
    },
    {
     "name": "stderr",
     "output_type": "stream",
     "text": [
      "01:44:58 - cmdstanpy - INFO - Chain [1] start processing\n",
      "01:44:58 - cmdstanpy - INFO - Chain [1] done processing\n",
      "01:44:59 - cmdstanpy - INFO - Chain [1] start processing\n",
      "01:44:59 - cmdstanpy - INFO - Chain [1] done processing\n",
      "01:44:59 - cmdstanpy - INFO - Chain [1] start processing\n",
      "01:45:00 - cmdstanpy - INFO - Chain [1] start processing\n",
      "01:45:00 - cmdstanpy - INFO - Chain [1] start processing\n",
      "01:45:00 - cmdstanpy - INFO - Chain [1] done processing\n",
      "01:45:00 - cmdstanpy - INFO - Chain [1] done processing\n",
      "01:45:00 - cmdstanpy - INFO - Chain [1] start processing\n",
      "01:45:00 - cmdstanpy - INFO - Chain [1] start processing\n",
      "01:45:00 - cmdstanpy - INFO - Chain [1] done processing\n",
      "01:45:00 - cmdstanpy - INFO - Chain [1] start processing\n",
      "01:45:00 - cmdstanpy - INFO - Chain [1] start processing\n",
      "01:45:00 - cmdstanpy - INFO - Chain [1] start processing\n",
      "01:45:00 - cmdstanpy - INFO - Chain [1] done processing\n",
      "01:45:00 - cmdstanpy - INFO - Chain [1] start processing\n",
      "01:45:00 - cmdstanpy - INFO - Chain [1] done processing\n",
      "01:45:00 - cmdstanpy - INFO - Chain [1] done processing\n",
      "01:45:00 - cmdstanpy - INFO - Chain [1] done processing\n",
      "01:45:00 - cmdstanpy - INFO - Chain [1] done processing\n",
      "01:45:00 - cmdstanpy - INFO - Chain [1] done processing\n"
     ]
    },
    {
     "name": "stdout",
     "output_type": "stream",
     "text": [
      "[I 2025-08-23 01:45:01,353] Trial 45 finished with value: 265.4503008340747 and parameters: {'changepoint_prior_scale': 0.009154396753454253, 'seasonality_prior_scale': 13.045951089819209, 'holidays_prior_scale': 27.323275086186467}. Best is trial 19 with value: 261.4892018171106.\n"
     ]
    },
    {
     "name": "stderr",
     "output_type": "stream",
     "text": [
      "01:45:01 - cmdstanpy - INFO - Chain [1] start processing\n",
      "01:45:01 - cmdstanpy - INFO - Chain [1] done processing\n",
      "01:45:01 - cmdstanpy - ERROR - Chain [1] error: error during processing Operation not permitted\n",
      "Optimization terminated abnormally. Falling back to Newton.\n",
      "01:45:01 - cmdstanpy - INFO - Chain [1] start processing\n",
      "01:45:07 - cmdstanpy - INFO - Chain [1] done processing\n",
      "01:45:08 - cmdstanpy - INFO - Chain [1] start processing\n",
      "01:45:08 - cmdstanpy - INFO - Chain [1] done processing\n",
      "01:45:08 - cmdstanpy - ERROR - Chain [1] error: error during processing Operation not permitted\n",
      "01:45:08 - cmdstanpy - INFO - Chain [1] start processing\n",
      "Optimization terminated abnormally. Falling back to Newton.\n",
      "01:45:08 - cmdstanpy - INFO - Chain [1] start processing\n",
      "01:45:08 - cmdstanpy - INFO - Chain [1] done processing\n",
      "01:45:08 - cmdstanpy - INFO - Chain [1] start processing\n",
      "01:45:08 - cmdstanpy - INFO - Chain [1] start processing\n",
      "01:45:08 - cmdstanpy - ERROR - Chain [1] error: error during processing Operation not permitted\n",
      "01:45:09 - cmdstanpy - INFO - Chain [1] start processing\n",
      "01:45:09 - cmdstanpy - INFO - Chain [1] done processing\n",
      "Optimization terminated abnormally. Falling back to Newton.\n",
      "01:45:09 - cmdstanpy - ERROR - Chain [1] error: error during processing Operation not permitted\n",
      "01:45:09 - cmdstanpy - INFO - Chain [1] start processing\n",
      "01:45:09 - cmdstanpy - INFO - Chain [1] done processing\n",
      "01:45:09 - cmdstanpy - INFO - Chain [1] start processing\n",
      "01:45:09 - cmdstanpy - INFO - Chain [1] start processing\n",
      "Optimization terminated abnormally. Falling back to Newton.\n",
      "01:45:09 - cmdstanpy - INFO - Chain [1] start processing\n",
      "01:45:09 - cmdstanpy - INFO - Chain [1] start processing\n",
      "01:45:09 - cmdstanpy - INFO - Chain [1] done processing\n",
      "01:45:09 - cmdstanpy - ERROR - Chain [1] error: error during processing Operation not permitted\n",
      "01:45:09 - cmdstanpy - INFO - Chain [1] done processing\n",
      "01:45:09 - cmdstanpy - ERROR - Chain [1] error: error during processing Operation not permitted\n",
      "01:45:09 - cmdstanpy - INFO - Chain [1] done processing\n",
      "Optimization terminated abnormally. Falling back to Newton.\n",
      "01:45:09 - cmdstanpy - INFO - Chain [1] done processing\n",
      "01:45:09 - cmdstanpy - INFO - Chain [1] done processing\n",
      "Optimization terminated abnormally. Falling back to Newton.\n",
      "01:45:09 - cmdstanpy - ERROR - Chain [1] error: error during processing Operation not permitted\n",
      "01:45:09 - cmdstanpy - INFO - Chain [1] done processing\n",
      "01:45:09 - cmdstanpy - ERROR - Chain [1] error: error during processing Operation not permitted\n",
      "01:45:09 - cmdstanpy - ERROR - Chain [1] error: error during processing Operation not permitted\n",
      "01:45:09 - cmdstanpy - INFO - Chain [1] start processing\n",
      "01:45:09 - cmdstanpy - ERROR - Chain [1] error: error during processing Operation not permitted\n",
      "Optimization terminated abnormally. Falling back to Newton.\n",
      "01:45:09 - cmdstanpy - ERROR - Chain [1] error: error during processing Operation not permitted\n",
      "Optimization terminated abnormally. Falling back to Newton.\n",
      "Optimization terminated abnormally. Falling back to Newton.\n",
      "01:45:09 - cmdstanpy - INFO - Chain [1] start processing\n",
      "Optimization terminated abnormally. Falling back to Newton.\n",
      "Optimization terminated abnormally. Falling back to Newton.\n",
      "01:45:10 - cmdstanpy - INFO - Chain [1] start processing\n",
      "01:45:10 - cmdstanpy - INFO - Chain [1] start processing\n",
      "01:45:10 - cmdstanpy - INFO - Chain [1] start processing\n",
      "01:45:10 - cmdstanpy - INFO - Chain [1] start processing\n",
      "01:45:10 - cmdstanpy - INFO - Chain [1] start processing\n",
      "01:45:10 - cmdstanpy - INFO - Chain [1] start processing\n",
      "01:45:10 - cmdstanpy - INFO - Chain [1] start processing\n",
      "01:45:13 - cmdstanpy - INFO - Chain [1] done processing\n",
      "01:45:13 - cmdstanpy - INFO - Chain [1] done processing\n",
      "01:45:13 - cmdstanpy - INFO - Chain [1] done processing\n",
      "01:45:15 - cmdstanpy - INFO - Chain [1] done processing\n",
      "01:45:15 - cmdstanpy - INFO - Chain [1] done processing\n",
      "01:45:16 - cmdstanpy - INFO - Chain [1] done processing\n",
      "01:45:16 - cmdstanpy - INFO - Chain [1] done processing\n",
      "01:45:17 - cmdstanpy - INFO - Chain [1] done processing\n",
      "01:45:18 - cmdstanpy - INFO - Chain [1] done processing\n",
      "01:45:18 - cmdstanpy - INFO - Chain [1] done processing\n"
     ]
    },
    {
     "name": "stdout",
     "output_type": "stream",
     "text": [
      "[I 2025-08-23 01:45:18,462] Trial 46 finished with value: 268.2456190344892 and parameters: {'changepoint_prior_scale': 0.00010441840947670939, 'seasonality_prior_scale': 0.8612975565882908, 'holidays_prior_scale': 35.23761348310302}. Best is trial 19 with value: 261.4892018171106.\n"
     ]
    },
    {
     "name": "stderr",
     "output_type": "stream",
     "text": [
      "01:45:18 - cmdstanpy - INFO - Chain [1] start processing\n",
      "01:45:18 - cmdstanpy - INFO - Chain [1] done processing\n",
      "01:45:19 - cmdstanpy - INFO - Chain [1] start processing\n",
      "01:45:19 - cmdstanpy - INFO - Chain [1] done processing\n",
      "01:45:20 - cmdstanpy - INFO - Chain [1] start processing\n",
      "01:45:20 - cmdstanpy - INFO - Chain [1] start processing\n",
      "01:45:20 - cmdstanpy - INFO - Chain [1] start processing\n",
      "01:45:20 - cmdstanpy - INFO - Chain [1] start processing\n",
      "01:45:20 - cmdstanpy - INFO - Chain [1] done processing\n",
      "01:45:20 - cmdstanpy - INFO - Chain [1] start processing\n",
      "01:45:20 - cmdstanpy - INFO - Chain [1] start processing\n",
      "01:45:20 - cmdstanpy - INFO - Chain [1] start processing\n",
      "01:45:20 - cmdstanpy - INFO - Chain [1] start processing\n",
      "01:45:20 - cmdstanpy - INFO - Chain [1] start processing\n",
      "01:45:20 - cmdstanpy - INFO - Chain [1] done processing\n",
      "01:45:20 - cmdstanpy - INFO - Chain [1] done processing\n",
      "01:45:20 - cmdstanpy - INFO - Chain [1] done processing\n",
      "01:45:20 - cmdstanpy - INFO - Chain [1] done processing\n",
      "01:45:20 - cmdstanpy - INFO - Chain [1] done processing\n",
      "01:45:21 - cmdstanpy - INFO - Chain [1] done processing\n",
      "01:45:21 - cmdstanpy - INFO - Chain [1] done processing\n",
      "01:45:21 - cmdstanpy - INFO - Chain [1] done processing\n"
     ]
    },
    {
     "name": "stdout",
     "output_type": "stream",
     "text": [
      "[I 2025-08-23 01:45:21,575] Trial 47 finished with value: 266.61987239168235 and parameters: {'changepoint_prior_scale': 0.016561470578470676, 'seasonality_prior_scale': 23.71446287386472, 'holidays_prior_scale': 17.032108625871775}. Best is trial 19 with value: 261.4892018171106.\n"
     ]
    },
    {
     "name": "stderr",
     "output_type": "stream",
     "text": [
      "01:45:21 - cmdstanpy - INFO - Chain [1] start processing\n",
      "01:45:21 - cmdstanpy - INFO - Chain [1] done processing\n",
      "01:45:21 - cmdstanpy - ERROR - Chain [1] error: error during processing Operation not permitted\n",
      "Optimization terminated abnormally. Falling back to Newton.\n",
      "01:45:22 - cmdstanpy - INFO - Chain [1] start processing\n",
      "01:45:23 - cmdstanpy - INFO - Chain [1] done processing\n",
      "01:45:25 - cmdstanpy - INFO - Chain [1] start processing\n",
      "01:45:25 - cmdstanpy - INFO - Chain [1] start processing\n",
      "01:45:25 - cmdstanpy - INFO - Chain [1] start processing\n",
      "01:45:25 - cmdstanpy - INFO - Chain [1] done processing\n",
      "01:45:25 - cmdstanpy - INFO - Chain [1] start processing\n",
      "01:45:25 - cmdstanpy - ERROR - Chain [1] error: error during processing Operation not permitted\n",
      "01:45:25 - cmdstanpy - INFO - Chain [1] start processing\n",
      "01:45:25 - cmdstanpy - INFO - Chain [1] start processing\n",
      "01:45:25 - cmdstanpy - INFO - Chain [1] start processing\n",
      "01:45:25 - cmdstanpy - INFO - Chain [1] done processing\n",
      "01:45:25 - cmdstanpy - INFO - Chain [1] start processing\n",
      "Optimization terminated abnormally. Falling back to Newton.\n",
      "01:45:25 - cmdstanpy - INFO - Chain [1] done processing\n",
      "01:45:25 - cmdstanpy - INFO - Chain [1] start processing\n",
      "01:45:25 - cmdstanpy - ERROR - Chain [1] error: error during processing Operation not permitted\n",
      "01:45:25 - cmdstanpy - ERROR - Chain [1] error: error during processing Operation not permitted\n",
      "01:45:25 - cmdstanpy - INFO - Chain [1] start processing\n",
      "01:45:25 - cmdstanpy - INFO - Chain [1] done processing\n",
      "01:45:25 - cmdstanpy - INFO - Chain [1] done processing\n",
      "Optimization terminated abnormally. Falling back to Newton.\n",
      "Optimization terminated abnormally. Falling back to Newton.\n",
      "01:45:25 - cmdstanpy - INFO - Chain [1] done processing\n",
      "01:45:25 - cmdstanpy - ERROR - Chain [1] error: error during processing Operation not permitted\n",
      "01:45:25 - cmdstanpy - INFO - Chain [1] done processing\n",
      "01:45:25 - cmdstanpy - ERROR - Chain [1] error: error during processing Operation not permitted\n",
      "Optimization terminated abnormally. Falling back to Newton.\n",
      "01:45:25 - cmdstanpy - INFO - Chain [1] done processing\n",
      "01:45:25 - cmdstanpy - ERROR - Chain [1] error: error during processing Operation not permitted\n",
      "01:45:25 - cmdstanpy - INFO - Chain [1] done processing\n",
      "Optimization terminated abnormally. Falling back to Newton.\n",
      "01:45:25 - cmdstanpy - ERROR - Chain [1] error: error during processing Operation not permitted\n",
      "Optimization terminated abnormally. Falling back to Newton.\n",
      "01:45:25 - cmdstanpy - INFO - Chain [1] done processing\n",
      "01:45:25 - cmdstanpy - INFO - Chain [1] start processing\n",
      "Optimization terminated abnormally. Falling back to Newton.\n",
      "01:45:25 - cmdstanpy - ERROR - Chain [1] error: error during processing Operation not permitted\n",
      "01:45:26 - cmdstanpy - INFO - Chain [1] start processing\n",
      "Optimization terminated abnormally. Falling back to Newton.\n",
      "01:45:26 - cmdstanpy - INFO - Chain [1] start processing\n",
      "01:45:26 - cmdstanpy - INFO - Chain [1] start processing\n",
      "01:45:26 - cmdstanpy - INFO - Chain [1] start processing\n",
      "01:45:26 - cmdstanpy - INFO - Chain [1] start processing\n",
      "01:45:27 - cmdstanpy - INFO - Chain [1] start processing\n",
      "01:45:27 - cmdstanpy - INFO - Chain [1] start processing\n",
      "01:45:30 - cmdstanpy - INFO - Chain [1] done processing\n",
      "01:45:31 - cmdstanpy - INFO - Chain [1] done processing\n",
      "01:45:31 - cmdstanpy - INFO - Chain [1] done processing\n",
      "01:45:31 - cmdstanpy - INFO - Chain [1] done processing\n",
      "01:45:31 - cmdstanpy - INFO - Chain [1] done processing\n",
      "01:45:32 - cmdstanpy - INFO - Chain [1] done processing\n",
      "01:45:33 - cmdstanpy - INFO - Chain [1] done processing\n",
      "01:45:34 - cmdstanpy - INFO - Chain [1] done processing\n"
     ]
    },
    {
     "name": "stdout",
     "output_type": "stream",
     "text": [
      "[I 2025-08-23 01:45:34,951] Trial 48 finished with value: 281.0796350838768 and parameters: {'changepoint_prior_scale': 0.0007586322949574897, 'seasonality_prior_scale': 6.047402344185407, 'holidays_prior_scale': 1.2923954387593068}. Best is trial 19 with value: 261.4892018171106.\n"
     ]
    },
    {
     "name": "stderr",
     "output_type": "stream",
     "text": [
      "01:45:35 - cmdstanpy - INFO - Chain [1] start processing\n",
      "01:45:35 - cmdstanpy - INFO - Chain [1] done processing\n",
      "01:45:36 - cmdstanpy - INFO - Chain [1] start processing\n",
      "01:45:36 - cmdstanpy - INFO - Chain [1] done processing\n",
      "01:45:36 - cmdstanpy - INFO - Chain [1] start processing\n",
      "01:45:36 - cmdstanpy - INFO - Chain [1] done processing\n",
      "01:45:37 - cmdstanpy - INFO - Chain [1] start processing\n",
      "01:45:37 - cmdstanpy - INFO - Chain [1] start processing\n",
      "01:45:37 - cmdstanpy - INFO - Chain [1] start processing\n",
      "01:45:37 - cmdstanpy - INFO - Chain [1] start processing\n",
      "01:45:37 - cmdstanpy - INFO - Chain [1] start processing\n",
      "01:45:37 - cmdstanpy - INFO - Chain [1] start processing\n",
      "01:45:37 - cmdstanpy - INFO - Chain [1] start processing\n",
      "01:45:37 - cmdstanpy - INFO - Chain [1] start processing\n",
      "01:45:37 - cmdstanpy - INFO - Chain [1] done processing\n",
      "01:45:37 - cmdstanpy - INFO - Chain [1] done processing\n",
      "01:45:37 - cmdstanpy - INFO - Chain [1] done processing\n",
      "01:45:37 - cmdstanpy - INFO - Chain [1] done processing\n",
      "01:45:37 - cmdstanpy - INFO - Chain [1] done processing\n",
      "01:45:37 - cmdstanpy - INFO - Chain [1] done processing\n",
      "01:45:37 - cmdstanpy - INFO - Chain [1] done processing\n",
      "01:45:37 - cmdstanpy - INFO - Chain [1] done processing\n",
      "01:45:38 - cmdstanpy - INFO - Chain [1] start processing\n"
     ]
    },
    {
     "name": "stdout",
     "output_type": "stream",
     "text": [
      "[I 2025-08-23 01:45:38,289] Trial 49 finished with value: 269.68818616391513 and parameters: {'changepoint_prior_scale': 0.022857045744386625, 'seasonality_prior_scale': 15.380571629990419, 'holidays_prior_scale': 0.01791197398454325}. Best is trial 19 with value: 261.4892018171106.\n"
     ]
    },
    {
     "name": "stderr",
     "output_type": "stream",
     "text": [
      "01:45:38 - cmdstanpy - INFO - Chain [1] done processing\n",
      "01:45:39 - cmdstanpy - INFO - Chain [1] start processing\n",
      "01:45:39 - cmdstanpy - INFO - Chain [1] done processing\n",
      "01:45:40 - cmdstanpy - INFO - Chain [1] start processing\n",
      "01:45:40 - cmdstanpy - INFO - Chain [1] start processing\n",
      "01:45:40 - cmdstanpy - INFO - Chain [1] start processing\n",
      "01:45:40 - cmdstanpy - INFO - Chain [1] start processing\n",
      "01:45:40 - cmdstanpy - INFO - Chain [1] start processing\n",
      "01:45:40 - cmdstanpy - INFO - Chain [1] start processing\n",
      "01:45:40 - cmdstanpy - INFO - Chain [1] start processing\n",
      "01:45:40 - cmdstanpy - INFO - Chain [1] start processing\n",
      "01:45:40 - cmdstanpy - INFO - Chain [1] start processing\n",
      "01:45:40 - cmdstanpy - INFO - Chain [1] done processing\n",
      "01:45:40 - cmdstanpy - INFO - Chain [1] done processing\n",
      "01:45:40 - cmdstanpy - INFO - Chain [1] done processing\n",
      "01:45:40 - cmdstanpy - INFO - Chain [1] done processing\n",
      "01:45:40 - cmdstanpy - INFO - Chain [1] done processing\n",
      "01:45:40 - cmdstanpy - INFO - Chain [1] done processing\n",
      "01:45:40 - cmdstanpy - INFO - Chain [1] done processing\n",
      "01:45:40 - cmdstanpy - INFO - Chain [1] done processing\n",
      "01:45:40 - cmdstanpy - INFO - Chain [1] done processing\n",
      "01:45:41 - cmdstanpy - INFO - Chain [1] start processing\n"
     ]
    },
    {
     "name": "stdout",
     "output_type": "stream",
     "text": [
      "[I 2025-08-23 01:45:41,398] Trial 50 finished with value: 274.1425135963794 and parameters: {'changepoint_prior_scale': 0.13244927374467652, 'seasonality_prior_scale': 1.6025631350593719, 'holidays_prior_scale': 0.010608522711009368}. Best is trial 19 with value: 261.4892018171106.\n"
     ]
    },
    {
     "name": "stderr",
     "output_type": "stream",
     "text": [
      "01:45:41 - cmdstanpy - INFO - Chain [1] done processing\n",
      "01:45:42 - cmdstanpy - INFO - Chain [1] start processing\n",
      "01:45:43 - cmdstanpy - INFO - Chain [1] start processing\n",
      "01:45:43 - cmdstanpy - INFO - Chain [1] start processing\n",
      "01:45:43 - cmdstanpy - INFO - Chain [1] done processing\n",
      "01:45:43 - cmdstanpy - INFO - Chain [1] start processing\n",
      "01:45:43 - cmdstanpy - INFO - Chain [1] done processing\n",
      "01:45:43 - cmdstanpy - INFO - Chain [1] start processing\n",
      "01:45:43 - cmdstanpy - INFO - Chain [1] start processing\n",
      "01:45:43 - cmdstanpy - INFO - Chain [1] done processing\n",
      "01:45:43 - cmdstanpy - INFO - Chain [1] start processing\n",
      "01:45:43 - cmdstanpy - INFO - Chain [1] start processing\n",
      "01:45:43 - cmdstanpy - INFO - Chain [1] start processing\n",
      "01:45:43 - cmdstanpy - INFO - Chain [1] done processing\n",
      "01:45:43 - cmdstanpy - INFO - Chain [1] start processing\n",
      "01:45:43 - cmdstanpy - INFO - Chain [1] done processing\n",
      "01:45:43 - cmdstanpy - INFO - Chain [1] done processing\n",
      "01:45:43 - cmdstanpy - INFO - Chain [1] done processing\n",
      "01:45:43 - cmdstanpy - INFO - Chain [1] done processing\n",
      "01:45:43 - cmdstanpy - INFO - Chain [1] done processing\n",
      "01:45:43 - cmdstanpy - INFO - Chain [1] done processing\n"
     ]
    },
    {
     "name": "stdout",
     "output_type": "stream",
     "text": [
      "[I 2025-08-23 01:45:44,465] Trial 51 finished with value: 263.8521103543652 and parameters: {'changepoint_prior_scale': 0.007509137293977718, 'seasonality_prior_scale': 3.305480477360349, 'holidays_prior_scale': 7.329584151253103}. Best is trial 19 with value: 261.4892018171106.\n"
     ]
    },
    {
     "name": "stderr",
     "output_type": "stream",
     "text": [
      "01:45:44 - cmdstanpy - INFO - Chain [1] start processing\n",
      "01:45:44 - cmdstanpy - INFO - Chain [1] done processing\n",
      "01:45:45 - cmdstanpy - INFO - Chain [1] start processing\n",
      "01:45:45 - cmdstanpy - INFO - Chain [1] done processing\n",
      "01:45:46 - cmdstanpy - INFO - Chain [1] start processing\n",
      "01:45:46 - cmdstanpy - INFO - Chain [1] start processing\n",
      "01:45:46 - cmdstanpy - INFO - Chain [1] start processing\n",
      "01:45:46 - cmdstanpy - INFO - Chain [1] start processing\n",
      "01:45:46 - cmdstanpy - INFO - Chain [1] start processing\n",
      "01:45:46 - cmdstanpy - INFO - Chain [1] start processing\n",
      "01:45:46 - cmdstanpy - INFO - Chain [1] start processing\n",
      "01:45:46 - cmdstanpy - INFO - Chain [1] start processing\n",
      "01:45:46 - cmdstanpy - INFO - Chain [1] start processing\n",
      "01:45:46 - cmdstanpy - INFO - Chain [1] done processing\n",
      "01:45:46 - cmdstanpy - INFO - Chain [1] done processing\n",
      "01:45:46 - cmdstanpy - INFO - Chain [1] done processing\n",
      "01:45:46 - cmdstanpy - INFO - Chain [1] done processing\n",
      "01:45:46 - cmdstanpy - INFO - Chain [1] done processing\n",
      "01:45:46 - cmdstanpy - INFO - Chain [1] done processing\n",
      "01:45:46 - cmdstanpy - INFO - Chain [1] done processing\n",
      "01:45:46 - cmdstanpy - INFO - Chain [1] done processing\n",
      "01:45:47 - cmdstanpy - INFO - Chain [1] done processing\n"
     ]
    },
    {
     "name": "stdout",
     "output_type": "stream",
     "text": [
      "[I 2025-08-23 01:45:47,686] Trial 52 finished with value: 265.99424248056954 and parameters: {'changepoint_prior_scale': 0.007530766211798119, 'seasonality_prior_scale': 8.31029434240517, 'holidays_prior_scale': 7.738126497643739}. Best is trial 19 with value: 261.4892018171106.\n"
     ]
    },
    {
     "name": "stderr",
     "output_type": "stream",
     "text": [
      "01:45:47 - cmdstanpy - INFO - Chain [1] start processing\n",
      "01:45:47 - cmdstanpy - INFO - Chain [1] done processing\n",
      "01:45:48 - cmdstanpy - INFO - Chain [1] start processing\n",
      "01:45:49 - cmdstanpy - INFO - Chain [1] done processing\n",
      "01:45:49 - cmdstanpy - INFO - Chain [1] start processing\n",
      "01:45:50 - cmdstanpy - INFO - Chain [1] start processing\n",
      "01:45:50 - cmdstanpy - INFO - Chain [1] done processing\n",
      "01:45:50 - cmdstanpy - INFO - Chain [1] start processing\n",
      "01:45:50 - cmdstanpy - INFO - Chain [1] start processing\n",
      "01:45:50 - cmdstanpy - INFO - Chain [1] start processing\n",
      "01:45:50 - cmdstanpy - INFO - Chain [1] start processing\n",
      "01:45:50 - cmdstanpy - INFO - Chain [1] start processing\n",
      "01:45:50 - cmdstanpy - INFO - Chain [1] done processing\n",
      "01:45:50 - cmdstanpy - INFO - Chain [1] start processing\n",
      "01:45:50 - cmdstanpy - INFO - Chain [1] start processing\n",
      "01:45:50 - cmdstanpy - INFO - Chain [1] done processing\n",
      "01:45:50 - cmdstanpy - INFO - Chain [1] done processing\n",
      "01:45:50 - cmdstanpy - INFO - Chain [1] done processing\n",
      "01:45:50 - cmdstanpy - INFO - Chain [1] done processing\n",
      "01:45:50 - cmdstanpy - INFO - Chain [1] done processing\n",
      "01:45:50 - cmdstanpy - INFO - Chain [1] done processing\n",
      "01:45:50 - cmdstanpy - INFO - Chain [1] done processing\n"
     ]
    },
    {
     "name": "stdout",
     "output_type": "stream",
     "text": [
      "[I 2025-08-23 01:45:51,515] Trial 53 finished with value: 266.34076142173006 and parameters: {'changepoint_prior_scale': 0.0025341413997209466, 'seasonality_prior_scale': 3.0159667058800275, 'holidays_prior_scale': 2.876541336525151}. Best is trial 19 with value: 261.4892018171106.\n"
     ]
    },
    {
     "name": "stderr",
     "output_type": "stream",
     "text": [
      "01:45:51 - cmdstanpy - INFO - Chain [1] start processing\n",
      "01:45:52 - cmdstanpy - INFO - Chain [1] done processing\n",
      "01:45:53 - cmdstanpy - INFO - Chain [1] start processing\n",
      "01:45:53 - cmdstanpy - INFO - Chain [1] start processing\n",
      "01:45:53 - cmdstanpy - INFO - Chain [1] start processing\n",
      "01:45:53 - cmdstanpy - INFO - Chain [1] start processing\n",
      "01:45:53 - cmdstanpy - INFO - Chain [1] start processing\n",
      "01:45:53 - cmdstanpy - INFO - Chain [1] done processing\n",
      "01:45:53 - cmdstanpy - INFO - Chain [1] start processing\n",
      "01:45:53 - cmdstanpy - INFO - Chain [1] start processing\n",
      "01:45:53 - cmdstanpy - INFO - Chain [1] start processing\n",
      "01:45:53 - cmdstanpy - INFO - Chain [1] start processing\n",
      "01:45:53 - cmdstanpy - INFO - Chain [1] done processing\n",
      "01:45:53 - cmdstanpy - INFO - Chain [1] done processing\n",
      "01:45:53 - cmdstanpy - INFO - Chain [1] start processing\n",
      "01:45:54 - cmdstanpy - INFO - Chain [1] done processing\n",
      "01:45:54 - cmdstanpy - INFO - Chain [1] done processing\n",
      "01:45:54 - cmdstanpy - INFO - Chain [1] done processing\n",
      "01:45:54 - cmdstanpy - INFO - Chain [1] done processing\n",
      "01:45:54 - cmdstanpy - INFO - Chain [1] done processing\n",
      "01:45:54 - cmdstanpy - INFO - Chain [1] done processing\n",
      "01:45:54 - cmdstanpy - INFO - Chain [1] done processing\n",
      "01:45:55 - cmdstanpy - INFO - Chain [1] start processing\n"
     ]
    },
    {
     "name": "stdout",
     "output_type": "stream",
     "text": [
      "[I 2025-08-23 01:45:54,847] Trial 54 finished with value: 267.05487138701494 and parameters: {'changepoint_prior_scale': 0.01358303876186812, 'seasonality_prior_scale': 4.607612177325964, 'holidays_prior_scale': 0.049541073720028875}. Best is trial 19 with value: 261.4892018171106.\n"
     ]
    },
    {
     "name": "stderr",
     "output_type": "stream",
     "text": [
      "01:45:55 - cmdstanpy - INFO - Chain [1] done processing\n",
      "01:45:55 - cmdstanpy - INFO - Chain [1] start processing\n",
      "01:45:56 - cmdstanpy - INFO - Chain [1] done processing\n",
      "01:45:56 - cmdstanpy - INFO - Chain [1] start processing\n",
      "01:45:56 - cmdstanpy - INFO - Chain [1] start processing\n",
      "01:45:56 - cmdstanpy - INFO - Chain [1] done processing\n",
      "01:45:56 - cmdstanpy - INFO - Chain [1] start processing\n",
      "01:45:56 - cmdstanpy - INFO - Chain [1] start processing\n",
      "01:45:56 - cmdstanpy - INFO - Chain [1] start processing\n",
      "01:45:56 - cmdstanpy - INFO - Chain [1] start processing\n",
      "01:45:56 - cmdstanpy - INFO - Chain [1] start processing\n",
      "01:45:57 - cmdstanpy - INFO - Chain [1] done processing\n",
      "01:45:57 - cmdstanpy - INFO - Chain [1] done processing\n",
      "01:45:57 - cmdstanpy - INFO - Chain [1] done processing\n",
      "01:45:57 - cmdstanpy - INFO - Chain [1] start processing\n",
      "01:45:57 - cmdstanpy - INFO - Chain [1] start processing\n",
      "01:45:57 - cmdstanpy - INFO - Chain [1] done processing\n",
      "01:45:57 - cmdstanpy - INFO - Chain [1] done processing\n",
      "01:45:57 - cmdstanpy - INFO - Chain [1] done processing\n",
      "01:45:57 - cmdstanpy - INFO - Chain [1] done processing\n",
      "01:45:57 - cmdstanpy - INFO - Chain [1] done processing\n"
     ]
    },
    {
     "name": "stdout",
     "output_type": "stream",
     "text": [
      "[I 2025-08-23 01:45:58,014] Trial 55 finished with value: 269.48865096393547 and parameters: {'changepoint_prior_scale': 0.003955646438406565, 'seasonality_prior_scale': 0.952799403769935, 'holidays_prior_scale': 3.873807118455062}. Best is trial 19 with value: 261.4892018171106.\n"
     ]
    },
    {
     "name": "stderr",
     "output_type": "stream",
     "text": [
      "01:45:58 - cmdstanpy - INFO - Chain [1] start processing\n",
      "01:45:58 - cmdstanpy - INFO - Chain [1] done processing\n",
      "01:45:59 - cmdstanpy - INFO - Chain [1] start processing\n",
      "01:45:59 - cmdstanpy - INFO - Chain [1] done processing\n",
      "01:45:59 - cmdstanpy - INFO - Chain [1] start processing\n",
      "01:45:59 - cmdstanpy - INFO - Chain [1] start processing\n",
      "01:45:59 - cmdstanpy - INFO - Chain [1] start processing\n",
      "01:45:59 - cmdstanpy - INFO - Chain [1] start processing\n",
      "01:45:59 - cmdstanpy - INFO - Chain [1] start processing\n",
      "01:45:59 - cmdstanpy - INFO - Chain [1] start processing\n",
      "01:46:00 - cmdstanpy - INFO - Chain [1] done processing\n",
      "01:46:00 - cmdstanpy - INFO - Chain [1] done processing\n",
      "01:46:00 - cmdstanpy - INFO - Chain [1] start processing\n",
      "01:46:00 - cmdstanpy - INFO - Chain [1] start processing\n",
      "01:46:00 - cmdstanpy - INFO - Chain [1] start processing\n",
      "01:46:00 - cmdstanpy - INFO - Chain [1] done processing\n",
      "01:46:00 - cmdstanpy - INFO - Chain [1] done processing\n",
      "01:46:00 - cmdstanpy - INFO - Chain [1] done processing\n",
      "01:46:00 - cmdstanpy - INFO - Chain [1] done processing\n",
      "01:46:00 - cmdstanpy - INFO - Chain [1] done processing\n",
      "01:46:00 - cmdstanpy - INFO - Chain [1] done processing\n",
      "01:46:00 - cmdstanpy - INFO - Chain [1] done processing\n"
     ]
    },
    {
     "name": "stdout",
     "output_type": "stream",
     "text": [
      "[I 2025-08-23 01:46:00,995] Trial 56 finished with value: 266.70961383176564 and parameters: {'changepoint_prior_scale': 0.007935735118838095, 'seasonality_prior_scale': 11.75057670802936, 'holidays_prior_scale': 6.0594419745087675}. Best is trial 19 with value: 261.4892018171106.\n"
     ]
    },
    {
     "name": "stderr",
     "output_type": "stream",
     "text": [
      "01:46:01 - cmdstanpy - INFO - Chain [1] start processing\n",
      "01:46:01 - cmdstanpy - INFO - Chain [1] done processing\n",
      "01:46:02 - cmdstanpy - INFO - Chain [1] start processing\n",
      "01:46:02 - cmdstanpy - INFO - Chain [1] done processing\n",
      "01:46:02 - cmdstanpy - INFO - Chain [1] start processing\n",
      "01:46:02 - cmdstanpy - INFO - Chain [1] start processing\n",
      "01:46:02 - cmdstanpy - INFO - Chain [1] done processing\n",
      "01:46:02 - cmdstanpy - INFO - Chain [1] done processing\n",
      "01:46:02 - cmdstanpy - INFO - Chain [1] start processing\n",
      "01:46:03 - cmdstanpy - INFO - Chain [1] start processing\n",
      "01:46:03 - cmdstanpy - INFO - Chain [1] start processing\n",
      "01:46:03 - cmdstanpy - INFO - Chain [1] start processing\n",
      "01:46:03 - cmdstanpy - INFO - Chain [1] start processing\n",
      "01:46:03 - cmdstanpy - INFO - Chain [1] start processing\n",
      "01:46:03 - cmdstanpy - INFO - Chain [1] done processing\n",
      "01:46:03 - cmdstanpy - INFO - Chain [1] start processing\n",
      "01:46:03 - cmdstanpy - INFO - Chain [1] done processing\n",
      "01:46:03 - cmdstanpy - INFO - Chain [1] done processing\n",
      "01:46:03 - cmdstanpy - INFO - Chain [1] done processing\n",
      "01:46:03 - cmdstanpy - INFO - Chain [1] done processing\n",
      "01:46:03 - cmdstanpy - INFO - Chain [1] done processing\n",
      "01:46:03 - cmdstanpy - INFO - Chain [1] done processing\n"
     ]
    },
    {
     "name": "stdout",
     "output_type": "stream",
     "text": [
      "[I 2025-08-23 01:46:04,234] Trial 57 finished with value: 272.44130783811164 and parameters: {'changepoint_prior_scale': 0.004732070969638511, 'seasonality_prior_scale': 0.05193132195533715, 'holidays_prior_scale': 15.907909651164756}. Best is trial 19 with value: 261.4892018171106.\n"
     ]
    },
    {
     "name": "stderr",
     "output_type": "stream",
     "text": [
      "01:46:04 - cmdstanpy - INFO - Chain [1] start processing\n",
      "01:46:04 - cmdstanpy - INFO - Chain [1] done processing\n",
      "01:46:05 - cmdstanpy - INFO - Chain [1] start processing\n",
      "01:46:05 - cmdstanpy - INFO - Chain [1] done processing\n",
      "01:46:05 - cmdstanpy - INFO - Chain [1] start processing\n",
      "01:46:06 - cmdstanpy - INFO - Chain [1] start processing\n",
      "01:46:06 - cmdstanpy - INFO - Chain [1] start processing\n",
      "01:46:06 - cmdstanpy - INFO - Chain [1] start processing\n",
      "01:46:06 - cmdstanpy - INFO - Chain [1] start processing\n",
      "01:46:06 - cmdstanpy - INFO - Chain [1] start processing\n",
      "01:46:06 - cmdstanpy - INFO - Chain [1] done processing\n",
      "01:46:06 - cmdstanpy - INFO - Chain [1] start processing\n",
      "01:46:06 - cmdstanpy - INFO - Chain [1] start processing\n",
      "01:46:06 - cmdstanpy - INFO - Chain [1] start processing\n",
      "01:46:06 - cmdstanpy - INFO - Chain [1] done processing\n",
      "01:46:06 - cmdstanpy - INFO - Chain [1] done processing\n",
      "01:46:06 - cmdstanpy - INFO - Chain [1] done processing\n",
      "01:46:06 - cmdstanpy - INFO - Chain [1] done processing\n",
      "01:46:06 - cmdstanpy - INFO - Chain [1] done processing\n",
      "01:46:06 - cmdstanpy - INFO - Chain [1] done processing\n",
      "01:46:06 - cmdstanpy - INFO - Chain [1] done processing\n",
      "01:46:06 - cmdstanpy - INFO - Chain [1] done processing\n"
     ]
    },
    {
     "name": "stdout",
     "output_type": "stream",
     "text": [
      "[I 2025-08-23 01:46:07,152] Trial 58 finished with value: 268.8644808468445 and parameters: {'changepoint_prior_scale': 0.002981609701257076, 'seasonality_prior_scale': 2.0657210283591723, 'holidays_prior_scale': 10.838289775903563}. Best is trial 19 with value: 261.4892018171106.\n"
     ]
    },
    {
     "name": "stderr",
     "output_type": "stream",
     "text": [
      "01:46:07 - cmdstanpy - INFO - Chain [1] start processing\n",
      "01:46:07 - cmdstanpy - INFO - Chain [1] done processing\n",
      "01:46:08 - cmdstanpy - INFO - Chain [1] start processing\n",
      "01:46:08 - cmdstanpy - INFO - Chain [1] start processing\n",
      "01:46:08 - cmdstanpy - INFO - Chain [1] start processing\n",
      "01:46:08 - cmdstanpy - INFO - Chain [1] done processing\n",
      "01:46:09 - cmdstanpy - INFO - Chain [1] start processing\n",
      "01:46:09 - cmdstanpy - INFO - Chain [1] done processing\n",
      "01:46:09 - cmdstanpy - INFO - Chain [1] done processing\n",
      "01:46:09 - cmdstanpy - INFO - Chain [1] start processing\n",
      "01:46:09 - cmdstanpy - INFO - Chain [1] start processing\n",
      "01:46:09 - cmdstanpy - INFO - Chain [1] done processing\n",
      "01:46:09 - cmdstanpy - INFO - Chain [1] start processing\n",
      "01:46:09 - cmdstanpy - INFO - Chain [1] done processing\n",
      "01:46:09 - cmdstanpy - INFO - Chain [1] done processing\n",
      "01:46:09 - cmdstanpy - INFO - Chain [1] start processing\n",
      "01:46:09 - cmdstanpy - INFO - Chain [1] start processing\n",
      "01:46:09 - cmdstanpy - INFO - Chain [1] start processing\n",
      "01:46:09 - cmdstanpy - INFO - Chain [1] done processing\n",
      "01:46:10 - cmdstanpy - INFO - Chain [1] done processing\n",
      "01:46:10 - cmdstanpy - INFO - Chain [1] done processing\n",
      "01:46:10 - cmdstanpy - INFO - Chain [1] done processing\n"
     ]
    },
    {
     "name": "stdout",
     "output_type": "stream",
     "text": [
      "[I 2025-08-23 01:46:10,456] Trial 59 finished with value: 265.5386881759706 and parameters: {'changepoint_prior_scale': 0.045408929391712365, 'seasonality_prior_scale': 3.0521378306271343, 'holidays_prior_scale': 7.59398798853624}. Best is trial 19 with value: 261.4892018171106.\n"
     ]
    },
    {
     "name": "stderr",
     "output_type": "stream",
     "text": [
      "01:46:10 - cmdstanpy - INFO - Chain [1] start processing\n",
      "01:46:10 - cmdstanpy - INFO - Chain [1] done processing\n",
      "01:46:11 - cmdstanpy - INFO - Chain [1] start processing\n",
      "01:46:11 - cmdstanpy - INFO - Chain [1] done processing\n",
      "01:46:12 - cmdstanpy - INFO - Chain [1] start processing\n",
      "01:46:12 - cmdstanpy - INFO - Chain [1] start processing\n",
      "01:46:12 - cmdstanpy - INFO - Chain [1] done processing\n",
      "01:46:12 - cmdstanpy - INFO - Chain [1] start processing\n",
      "01:46:12 - cmdstanpy - INFO - Chain [1] done processing\n",
      "01:46:12 - cmdstanpy - INFO - Chain [1] start processing\n",
      "01:46:12 - cmdstanpy - INFO - Chain [1] start processing\n",
      "01:46:12 - cmdstanpy - INFO - Chain [1] start processing\n",
      "01:46:12 - cmdstanpy - INFO - Chain [1] start processing\n",
      "01:46:12 - cmdstanpy - INFO - Chain [1] start processing\n",
      "01:46:12 - cmdstanpy - INFO - Chain [1] start processing\n",
      "01:46:12 - cmdstanpy - INFO - Chain [1] done processing\n",
      "01:46:12 - cmdstanpy - INFO - Chain [1] done processing\n",
      "01:46:12 - cmdstanpy - INFO - Chain [1] done processing\n",
      "01:46:12 - cmdstanpy - INFO - Chain [1] done processing\n",
      "01:46:13 - cmdstanpy - INFO - Chain [1] done processing\n",
      "01:46:13 - cmdstanpy - INFO - Chain [1] done processing\n",
      "01:46:13 - cmdstanpy - INFO - Chain [1] done processing\n",
      "01:46:13 - cmdstanpy - INFO - Chain [1] start processing\n"
     ]
    },
    {
     "name": "stdout",
     "output_type": "stream",
     "text": [
      "[I 2025-08-23 01:46:13,506] Trial 60 finished with value: 269.20777962537994 and parameters: {'changepoint_prior_scale': 0.013250298826008257, 'seasonality_prior_scale': 33.512104361375464, 'holidays_prior_scale': 1.4610638956474602}. Best is trial 19 with value: 261.4892018171106.\n"
     ]
    },
    {
     "name": "stderr",
     "output_type": "stream",
     "text": [
      "01:46:13 - cmdstanpy - INFO - Chain [1] done processing\n",
      "01:46:14 - cmdstanpy - INFO - Chain [1] start processing\n",
      "01:46:14 - cmdstanpy - INFO - Chain [1] done processing\n",
      "01:46:15 - cmdstanpy - INFO - Chain [1] start processing\n",
      "01:46:15 - cmdstanpy - INFO - Chain [1] start processing\n",
      "01:46:15 - cmdstanpy - INFO - Chain [1] start processing\n",
      "01:46:15 - cmdstanpy - INFO - Chain [1] start processing\n",
      "01:46:15 - cmdstanpy - INFO - Chain [1] start processing\n",
      "01:46:15 - cmdstanpy - INFO - Chain [1] start processing\n",
      "01:46:15 - cmdstanpy - INFO - Chain [1] start processing\n",
      "01:46:15 - cmdstanpy - INFO - Chain [1] done processing\n",
      "01:46:15 - cmdstanpy - INFO - Chain [1] start processing\n",
      "01:46:15 - cmdstanpy - INFO - Chain [1] start processing\n",
      "01:46:15 - cmdstanpy - INFO - Chain [1] done processing\n",
      "01:46:15 - cmdstanpy - INFO - Chain [1] done processing\n",
      "01:46:15 - cmdstanpy - INFO - Chain [1] done processing\n",
      "01:46:16 - cmdstanpy - INFO - Chain [1] done processing\n",
      "01:46:16 - cmdstanpy - INFO - Chain [1] done processing\n",
      "01:46:16 - cmdstanpy - INFO - Chain [1] done processing\n",
      "01:46:16 - cmdstanpy - INFO - Chain [1] done processing\n",
      "01:46:16 - cmdstanpy - INFO - Chain [1] done processing\n"
     ]
    },
    {
     "name": "stdout",
     "output_type": "stream",
     "text": [
      "[I 2025-08-23 01:46:16,844] Trial 61 finished with value: 265.99899891553355 and parameters: {'changepoint_prior_scale': 0.005872729431010457, 'seasonality_prior_scale': 4.724240367890531, 'holidays_prior_scale': 5.625288139647463}. Best is trial 19 with value: 261.4892018171106.\n"
     ]
    },
    {
     "name": "stderr",
     "output_type": "stream",
     "text": [
      "01:46:17 - cmdstanpy - INFO - Chain [1] start processing\n",
      "01:46:17 - cmdstanpy - INFO - Chain [1] done processing\n",
      "01:46:17 - cmdstanpy - INFO - Chain [1] start processing\n",
      "01:46:17 - cmdstanpy - INFO - Chain [1] done processing\n",
      "01:46:18 - cmdstanpy - INFO - Chain [1] start processing\n",
      "01:46:18 - cmdstanpy - INFO - Chain [1] start processing\n",
      "01:46:18 - cmdstanpy - INFO - Chain [1] start processing\n",
      "01:46:18 - cmdstanpy - INFO - Chain [1] start processing\n",
      "01:46:18 - cmdstanpy - INFO - Chain [1] start processing\n",
      "01:46:18 - cmdstanpy - INFO - Chain [1] start processing\n",
      "01:46:18 - cmdstanpy - INFO - Chain [1] start processing\n",
      "01:46:19 - cmdstanpy - INFO - Chain [1] done processing\n",
      "01:46:19 - cmdstanpy - INFO - Chain [1] start processing\n",
      "01:46:19 - cmdstanpy - INFO - Chain [1] start processing\n",
      "01:46:19 - cmdstanpy - INFO - Chain [1] done processing\n",
      "01:46:19 - cmdstanpy - INFO - Chain [1] done processing\n",
      "01:46:19 - cmdstanpy - INFO - Chain [1] done processing\n",
      "01:46:19 - cmdstanpy - INFO - Chain [1] done processing\n",
      "01:46:19 - cmdstanpy - INFO - Chain [1] done processing\n",
      "01:46:19 - cmdstanpy - INFO - Chain [1] done processing\n",
      "01:46:19 - cmdstanpy - INFO - Chain [1] done processing\n",
      "01:46:19 - cmdstanpy - INFO - Chain [1] done processing\n"
     ]
    },
    {
     "name": "stdout",
     "output_type": "stream",
     "text": [
      "[I 2025-08-23 01:46:19,942] Trial 62 finished with value: 263.5907593730724 and parameters: {'changepoint_prior_scale': 0.007631934308038191, 'seasonality_prior_scale': 1.7554020614763874, 'holidays_prior_scale': 0.41569647898537543}. Best is trial 19 with value: 261.4892018171106.\n"
     ]
    },
    {
     "name": "stderr",
     "output_type": "stream",
     "text": [
      "01:46:20 - cmdstanpy - INFO - Chain [1] start processing\n",
      "01:46:20 - cmdstanpy - INFO - Chain [1] done processing\n",
      "01:46:21 - cmdstanpy - INFO - Chain [1] start processing\n",
      "01:46:21 - cmdstanpy - INFO - Chain [1] start processing\n",
      "01:46:21 - cmdstanpy - INFO - Chain [1] done processing\n",
      "01:46:22 - cmdstanpy - INFO - Chain [1] start processing\n",
      "01:46:22 - cmdstanpy - INFO - Chain [1] start processing\n",
      "01:46:22 - cmdstanpy - INFO - Chain [1] start processing\n",
      "01:46:22 - cmdstanpy - INFO - Chain [1] done processing\n",
      "01:46:22 - cmdstanpy - INFO - Chain [1] start processing\n",
      "01:46:22 - cmdstanpy - INFO - Chain [1] start processing\n",
      "01:46:22 - cmdstanpy - INFO - Chain [1] start processing\n",
      "01:46:22 - cmdstanpy - INFO - Chain [1] start processing\n",
      "01:46:22 - cmdstanpy - INFO - Chain [1] start processing\n",
      "01:46:22 - cmdstanpy - INFO - Chain [1] done processing\n",
      "01:46:22 - cmdstanpy - INFO - Chain [1] done processing\n",
      "01:46:22 - cmdstanpy - INFO - Chain [1] done processing\n",
      "01:46:22 - cmdstanpy - INFO - Chain [1] done processing\n",
      "01:46:22 - cmdstanpy - INFO - Chain [1] done processing\n",
      "01:46:22 - cmdstanpy - INFO - Chain [1] done processing\n",
      "01:46:22 - cmdstanpy - INFO - Chain [1] done processing\n",
      "01:46:22 - cmdstanpy - INFO - Chain [1] done processing\n",
      "01:46:23 - cmdstanpy - INFO - Chain [1] start processing\n"
     ]
    },
    {
     "name": "stdout",
     "output_type": "stream",
     "text": [
      "[I 2025-08-23 01:46:23,200] Trial 63 finished with value: 261.289568858289 and parameters: {'changepoint_prior_scale': 0.007738670796850471, 'seasonality_prior_scale': 1.7494794994614806, 'holidays_prior_scale': 0.4305913907854806}. Best is trial 63 with value: 261.289568858289.\n"
     ]
    },
    {
     "name": "stderr",
     "output_type": "stream",
     "text": [
      "01:46:23 - cmdstanpy - INFO - Chain [1] done processing\n",
      "01:46:24 - cmdstanpy - INFO - Chain [1] start processing\n",
      "01:46:24 - cmdstanpy - INFO - Chain [1] start processing\n",
      "01:46:24 - cmdstanpy - INFO - Chain [1] done processing\n",
      "01:46:24 - cmdstanpy - INFO - Chain [1] start processing\n",
      "01:46:24 - cmdstanpy - INFO - Chain [1] done processing\n",
      "01:46:25 - cmdstanpy - INFO - Chain [1] done processing\n",
      "01:46:25 - cmdstanpy - INFO - Chain [1] start processing\n",
      "01:46:25 - cmdstanpy - INFO - Chain [1] start processing\n",
      "01:46:25 - cmdstanpy - INFO - Chain [1] start processing\n",
      "01:46:25 - cmdstanpy - INFO - Chain [1] done processing\n",
      "01:46:25 - cmdstanpy - INFO - Chain [1] start processing\n",
      "01:46:25 - cmdstanpy - INFO - Chain [1] start processing\n",
      "01:46:25 - cmdstanpy - INFO - Chain [1] start processing\n",
      "01:46:25 - cmdstanpy - INFO - Chain [1] start processing\n",
      "01:46:25 - cmdstanpy - INFO - Chain [1] done processing\n",
      "01:46:25 - cmdstanpy - INFO - Chain [1] done processing\n",
      "01:46:25 - cmdstanpy - INFO - Chain [1] done processing\n",
      "01:46:25 - cmdstanpy - INFO - Chain [1] done processing\n",
      "01:46:25 - cmdstanpy - INFO - Chain [1] done processing\n",
      "01:46:26 - cmdstanpy - INFO - Chain [1] done processing\n"
     ]
    },
    {
     "name": "stdout",
     "output_type": "stream",
     "text": [
      "[I 2025-08-23 01:46:26,430] Trial 64 finished with value: 267.2214594879693 and parameters: {'changepoint_prior_scale': 0.027673629654009362, 'seasonality_prior_scale': 1.73663076700118, 'holidays_prior_scale': 0.29811169467713056}. Best is trial 63 with value: 261.289568858289.\n"
     ]
    },
    {
     "name": "stderr",
     "output_type": "stream",
     "text": [
      "01:46:26 - cmdstanpy - INFO - Chain [1] start processing\n",
      "01:46:26 - cmdstanpy - INFO - Chain [1] done processing\n",
      "01:46:27 - cmdstanpy - INFO - Chain [1] start processing\n",
      "01:46:27 - cmdstanpy - INFO - Chain [1] done processing\n",
      "01:46:28 - cmdstanpy - INFO - Chain [1] start processing\n",
      "01:46:28 - cmdstanpy - INFO - Chain [1] start processing\n",
      "01:46:28 - cmdstanpy - INFO - Chain [1] start processing\n",
      "01:46:28 - cmdstanpy - INFO - Chain [1] start processing\n",
      "01:46:28 - cmdstanpy - INFO - Chain [1] start processing\n",
      "01:46:28 - cmdstanpy - INFO - Chain [1] done processing\n",
      "01:46:28 - cmdstanpy - INFO - Chain [1] start processing\n",
      "01:46:28 - cmdstanpy - INFO - Chain [1] done processing\n",
      "01:46:28 - cmdstanpy - INFO - Chain [1] done processing\n",
      "01:46:28 - cmdstanpy - INFO - Chain [1] start processing\n",
      "01:46:28 - cmdstanpy - INFO - Chain [1] start processing\n",
      "01:46:28 - cmdstanpy - INFO - Chain [1] done processing\n",
      "01:46:28 - cmdstanpy - INFO - Chain [1] start processing\n",
      "01:46:28 - cmdstanpy - INFO - Chain [1] done processing\n",
      "01:46:28 - cmdstanpy - INFO - Chain [1] done processing\n",
      "01:46:28 - cmdstanpy - INFO - Chain [1] done processing\n",
      "01:46:28 - cmdstanpy - INFO - Chain [1] done processing\n",
      "01:46:28 - cmdstanpy - INFO - Chain [1] done processing\n"
     ]
    },
    {
     "name": "stdout",
     "output_type": "stream",
     "text": [
      "[I 2025-08-23 01:46:29,447] Trial 65 finished with value: 266.9405049444371 and parameters: {'changepoint_prior_scale': 0.019149125730602973, 'seasonality_prior_scale': 0.7305179745844487, 'holidays_prior_scale': 0.7049096728203761}. Best is trial 63 with value: 261.289568858289.\n"
     ]
    },
    {
     "name": "stderr",
     "output_type": "stream",
     "text": [
      "01:46:29 - cmdstanpy - INFO - Chain [1] start processing\n",
      "01:46:29 - cmdstanpy - INFO - Chain [1] done processing\n",
      "01:46:30 - cmdstanpy - INFO - Chain [1] start processing\n",
      "01:46:31 - cmdstanpy - INFO - Chain [1] done processing\n",
      "01:46:31 - cmdstanpy - INFO - Chain [1] start processing\n",
      "01:46:31 - cmdstanpy - INFO - Chain [1] done processing\n",
      "01:46:31 - cmdstanpy - INFO - Chain [1] start processing\n",
      "01:46:31 - cmdstanpy - INFO - Chain [1] start processing\n",
      "01:46:31 - cmdstanpy - INFO - Chain [1] start processing\n",
      "01:46:31 - cmdstanpy - INFO - Chain [1] start processing\n",
      "01:46:31 - cmdstanpy - INFO - Chain [1] start processing\n",
      "01:46:31 - cmdstanpy - INFO - Chain [1] start processing\n",
      "01:46:31 - cmdstanpy - INFO - Chain [1] start processing\n",
      "01:46:31 - cmdstanpy - INFO - Chain [1] start processing\n",
      "01:46:31 - cmdstanpy - INFO - Chain [1] done processing\n",
      "01:46:31 - cmdstanpy - INFO - Chain [1] done processing\n",
      "01:46:31 - cmdstanpy - INFO - Chain [1] done processing\n",
      "01:46:31 - cmdstanpy - INFO - Chain [1] done processing\n",
      "01:46:32 - cmdstanpy - INFO - Chain [1] done processing\n",
      "01:46:32 - cmdstanpy - INFO - Chain [1] done processing\n",
      "01:46:32 - cmdstanpy - INFO - Chain [1] done processing\n",
      "01:46:32 - cmdstanpy - INFO - Chain [1] done processing\n",
      "01:46:32 - cmdstanpy - INFO - Chain [1] start processing\n"
     ]
    },
    {
     "name": "stdout",
     "output_type": "stream",
     "text": [
      "[I 2025-08-23 01:46:32,737] Trial 66 finished with value: 265.502856901462 and parameters: {'changepoint_prior_scale': 0.007864109597003456, 'seasonality_prior_scale': 1.2407060314573946, 'holidays_prior_scale': 0.4761142650369502}. Best is trial 63 with value: 261.289568858289.\n"
     ]
    },
    {
     "name": "stderr",
     "output_type": "stream",
     "text": [
      "01:46:33 - cmdstanpy - INFO - Chain [1] done processing\n",
      "01:46:34 - cmdstanpy - INFO - Chain [1] start processing\n",
      "01:46:34 - cmdstanpy - INFO - Chain [1] start processing\n",
      "01:46:34 - cmdstanpy - INFO - Chain [1] start processing\n",
      "01:46:34 - cmdstanpy - INFO - Chain [1] done processing\n",
      "01:46:34 - cmdstanpy - INFO - Chain [1] start processing\n",
      "01:46:34 - cmdstanpy - INFO - Chain [1] done processing\n",
      "01:46:34 - cmdstanpy - INFO - Chain [1] start processing\n",
      "01:46:34 - cmdstanpy - INFO - Chain [1] start processing\n",
      "01:46:34 - cmdstanpy - INFO - Chain [1] start processing\n",
      "01:46:34 - cmdstanpy - INFO - Chain [1] start processing\n",
      "01:46:34 - cmdstanpy - INFO - Chain [1] start processing\n",
      "01:46:34 - cmdstanpy - INFO - Chain [1] done processing\n",
      "01:46:34 - cmdstanpy - INFO - Chain [1] start processing\n",
      "01:46:34 - cmdstanpy - INFO - Chain [1] done processing\n",
      "01:46:34 - cmdstanpy - INFO - Chain [1] done processing\n",
      "01:46:35 - cmdstanpy - INFO - Chain [1] done processing\n",
      "01:46:35 - cmdstanpy - INFO - Chain [1] done processing\n",
      "01:46:35 - cmdstanpy - INFO - Chain [1] done processing\n",
      "01:46:35 - cmdstanpy - INFO - Chain [1] done processing\n",
      "01:46:35 - cmdstanpy - INFO - Chain [1] done processing\n",
      "01:46:36 - cmdstanpy - INFO - Chain [1] start processing\n"
     ]
    },
    {
     "name": "stdout",
     "output_type": "stream",
     "text": [
      "[I 2025-08-23 01:46:35,902] Trial 67 finished with value: 281.1483825279708 and parameters: {'changepoint_prior_scale': 0.0018621862225676787, 'seasonality_prior_scale': 7.434598306024456, 'holidays_prior_scale': 0.2483618282860862}. Best is trial 63 with value: 261.289568858289.\n"
     ]
    },
    {
     "name": "stderr",
     "output_type": "stream",
     "text": [
      "01:46:36 - cmdstanpy - INFO - Chain [1] done processing\n",
      "01:46:37 - cmdstanpy - INFO - Chain [1] start processing\n",
      "01:46:37 - cmdstanpy - INFO - Chain [1] done processing\n",
      "01:46:37 - cmdstanpy - ERROR - Chain [1] error: error during processing Operation not permitted\n",
      "01:46:37 - cmdstanpy - INFO - Chain [1] start processing\n",
      "Optimization terminated abnormally. Falling back to Newton.\n",
      "01:46:37 - cmdstanpy - INFO - Chain [1] done processing\n",
      "01:46:37 - cmdstanpy - INFO - Chain [1] start processing\n",
      "01:46:37 - cmdstanpy - INFO - Chain [1] start processing\n",
      "01:46:37 - cmdstanpy - INFO - Chain [1] start processing\n",
      "01:46:37 - cmdstanpy - INFO - Chain [1] start processing\n",
      "01:46:37 - cmdstanpy - INFO - Chain [1] start processing\n",
      "01:46:38 - cmdstanpy - INFO - Chain [1] start processing\n",
      "01:46:38 - cmdstanpy - INFO - Chain [1] start processing\n",
      "01:46:38 - cmdstanpy - INFO - Chain [1] start processing\n",
      "01:46:38 - cmdstanpy - INFO - Chain [1] start processing\n",
      "01:46:38 - cmdstanpy - INFO - Chain [1] done processing\n",
      "01:46:38 - cmdstanpy - INFO - Chain [1] done processing\n",
      "01:46:38 - cmdstanpy - INFO - Chain [1] done processing\n",
      "01:46:38 - cmdstanpy - INFO - Chain [1] done processing\n",
      "01:46:38 - cmdstanpy - INFO - Chain [1] done processing\n",
      "01:46:38 - cmdstanpy - INFO - Chain [1] done processing\n",
      "01:46:38 - cmdstanpy - ERROR - Chain [1] error: error during processing Operation not permitted\n",
      "01:46:38 - cmdstanpy - INFO - Chain [1] done processing\n",
      "Optimization terminated abnormally. Falling back to Newton.\n",
      "01:46:38 - cmdstanpy - INFO - Chain [1] done processing\n",
      "01:46:38 - cmdstanpy - INFO - Chain [1] start processing\n",
      "01:46:40 - cmdstanpy - INFO - Chain [1] done processing\n",
      "01:46:42 - cmdstanpy - INFO - Chain [1] done processing\n"
     ]
    },
    {
     "name": "stdout",
     "output_type": "stream",
     "text": [
      "[I 2025-08-23 01:46:42,561] Trial 68 finished with value: 327.6411399627954 and parameters: {'changepoint_prior_scale': 0.0011293216351413182, 'seasonality_prior_scale': 3.3230549145842416, 'holidays_prior_scale': 0.1600169791309992}. Best is trial 63 with value: 261.289568858289.\n"
     ]
    },
    {
     "name": "stderr",
     "output_type": "stream",
     "text": [
      "01:46:42 - cmdstanpy - INFO - Chain [1] start processing\n",
      "01:46:42 - cmdstanpy - INFO - Chain [1] done processing\n",
      "01:46:44 - cmdstanpy - INFO - Chain [1] start processing\n",
      "01:46:44 - cmdstanpy - INFO - Chain [1] start processing\n",
      "01:46:44 - cmdstanpy - INFO - Chain [1] done processing\n",
      "01:46:44 - cmdstanpy - INFO - Chain [1] start processing\n",
      "01:46:44 - cmdstanpy - INFO - Chain [1] start processing\n",
      "01:46:44 - cmdstanpy - INFO - Chain [1] start processing\n",
      "01:46:44 - cmdstanpy - INFO - Chain [1] start processing\n",
      "01:46:44 - cmdstanpy - INFO - Chain [1] start processing\n",
      "01:46:44 - cmdstanpy - INFO - Chain [1] done processing\n",
      "01:46:44 - cmdstanpy - INFO - Chain [1] start processing\n",
      "01:46:44 - cmdstanpy - INFO - Chain [1] start processing\n",
      "01:46:44 - cmdstanpy - INFO - Chain [1] start processing\n",
      "01:46:45 - cmdstanpy - INFO - Chain [1] done processing\n",
      "01:46:45 - cmdstanpy - INFO - Chain [1] done processing\n",
      "01:46:45 - cmdstanpy - INFO - Chain [1] done processing\n",
      "01:46:45 - cmdstanpy - INFO - Chain [1] done processing\n",
      "01:46:45 - cmdstanpy - INFO - Chain [1] done processing\n",
      "01:46:45 - cmdstanpy - INFO - Chain [1] done processing\n",
      "01:46:45 - cmdstanpy - INFO - Chain [1] done processing\n",
      "01:46:45 - cmdstanpy - INFO - Chain [1] done processing\n"
     ]
    },
    {
     "name": "stdout",
     "output_type": "stream",
     "text": [
      "[I 2025-08-23 01:46:45,886] Trial 69 finished with value: 259.82604494424226 and parameters: {'changepoint_prior_scale': 0.0038481073402891553, 'seasonality_prior_scale': 0.011610198498924652, 'holidays_prior_scale': 0.591265462832152}. Best is trial 69 with value: 259.82604494424226.\n",
      "SEC-003 best params: {'changepoint_prior_scale': 0.0038481073402891553, 'seasonality_prior_scale': 0.011610198498924652, 'holidays_prior_scale': 0.591265462832152}\n"
     ]
    },
    {
     "name": "stderr",
     "output_type": "stream",
     "text": [
      "01:46:46 - cmdstanpy - INFO - Chain [1] start processing\n",
      "01:46:46 - cmdstanpy - INFO - Chain [1] done processing\n",
      "[I 2025-08-23 01:46:46,360] A new study created in memory with name: no-name-7df5c846-156e-4d1e-802c-761aec44b031\n"
     ]
    },
    {
     "name": "stdout",
     "output_type": "stream",
     "text": [
      "\n",
      "[Main Loop] Processing section: SEC-004\n",
      "[Optuna] Tuning section: SEC-004\n"
     ]
    },
    {
     "data": {
      "application/vnd.jupyter.widget-view+json": {
       "model_id": "845dcee1af604c5786fc9167e20f162c",
       "version_major": 2,
       "version_minor": 0
      },
      "text/plain": [
       "  0%|          | 0/70 [00:00<?, ?it/s]"
      ]
     },
     "metadata": {},
     "output_type": "display_data"
    },
    {
     "name": "stderr",
     "output_type": "stream",
     "text": [
      "01:46:46 - cmdstanpy - INFO - Chain [1] start processing\n",
      "01:46:46 - cmdstanpy - INFO - Chain [1] done processing\n",
      "01:46:47 - cmdstanpy - INFO - Chain [1] start processing\n",
      "01:46:47 - cmdstanpy - INFO - Chain [1] done processing\n",
      "01:46:48 - cmdstanpy - INFO - Chain [1] start processing\n",
      "01:46:48 - cmdstanpy - INFO - Chain [1] start processing\n",
      "01:46:48 - cmdstanpy - INFO - Chain [1] start processing\n",
      "01:46:48 - cmdstanpy - INFO - Chain [1] start processing\n",
      "01:46:48 - cmdstanpy - INFO - Chain [1] done processing\n",
      "01:46:48 - cmdstanpy - INFO - Chain [1] start processing\n",
      "01:46:48 - cmdstanpy - INFO - Chain [1] start processing\n",
      "01:46:48 - cmdstanpy - INFO - Chain [1] start processing\n",
      "01:46:48 - cmdstanpy - INFO - Chain [1] done processing\n",
      "01:46:48 - cmdstanpy - INFO - Chain [1] start processing\n",
      "01:46:48 - cmdstanpy - INFO - Chain [1] start processing\n",
      "01:46:48 - cmdstanpy - INFO - Chain [1] done processing\n",
      "01:46:48 - cmdstanpy - INFO - Chain [1] done processing\n",
      "01:46:48 - cmdstanpy - INFO - Chain [1] done processing\n",
      "01:46:48 - cmdstanpy - INFO - Chain [1] done processing\n",
      "01:46:48 - cmdstanpy - INFO - Chain [1] done processing\n",
      "01:46:49 - cmdstanpy - INFO - Chain [1] done processing\n",
      "01:46:49 - cmdstanpy - INFO - Chain [1] done processing\n"
     ]
    },
    {
     "name": "stdout",
     "output_type": "stream",
     "text": [
      "[I 2025-08-23 01:46:49,604] Trial 0 finished with value: 336.9210891317813 and parameters: {'changepoint_prior_scale': 0.06067749385983856, 'seasonality_prior_scale': 19.016290877247418, 'holidays_prior_scale': 0.07409695727196443}. Best is trial 0 with value: 336.9210891317813.\n"
     ]
    },
    {
     "name": "stderr",
     "output_type": "stream",
     "text": [
      "01:46:50 - cmdstanpy - INFO - Chain [1] start processing\n",
      "01:46:50 - cmdstanpy - INFO - Chain [1] done processing\n",
      "01:46:50 - cmdstanpy - INFO - Chain [1] start processing\n",
      "01:46:50 - cmdstanpy - INFO - Chain [1] done processing\n",
      "01:46:51 - cmdstanpy - INFO - Chain [1] start processing\n",
      "01:46:51 - cmdstanpy - INFO - Chain [1] start processing\n",
      "01:46:51 - cmdstanpy - INFO - Chain [1] start processing\n",
      "01:46:51 - cmdstanpy - INFO - Chain [1] start processing\n",
      "01:46:51 - cmdstanpy - INFO - Chain [1] done processing\n",
      "01:46:51 - cmdstanpy - INFO - Chain [1] start processing\n",
      "01:46:51 - cmdstanpy - INFO - Chain [1] start processing\n",
      "01:46:51 - cmdstanpy - INFO - Chain [1] start processing\n",
      "01:46:51 - cmdstanpy - INFO - Chain [1] start processing\n",
      "01:46:51 - cmdstanpy - INFO - Chain [1] start processing\n",
      "01:46:52 - cmdstanpy - INFO - Chain [1] done processing\n",
      "01:46:52 - cmdstanpy - INFO - Chain [1] done processing\n",
      "01:46:52 - cmdstanpy - INFO - Chain [1] done processing\n",
      "01:46:52 - cmdstanpy - INFO - Chain [1] done processing\n",
      "01:46:52 - cmdstanpy - INFO - Chain [1] done processing\n",
      "01:46:52 - cmdstanpy - INFO - Chain [1] done processing\n",
      "01:46:52 - cmdstanpy - INFO - Chain [1] done processing\n",
      "01:46:52 - cmdstanpy - INFO - Chain [1] done processing\n"
     ]
    },
    {
     "name": "stdout",
     "output_type": "stream",
     "text": [
      "[I 2025-08-23 01:46:52,839] Trial 1 finished with value: 335.58760776624166 and parameters: {'changepoint_prior_scale': 0.00543002426136532, 'seasonality_prior_scale': 0.033822837667463655, 'holidays_prior_scale': 0.12519539106901556}. Best is trial 1 with value: 335.58760776624166.\n"
     ]
    },
    {
     "name": "stderr",
     "output_type": "stream",
     "text": [
      "01:46:53 - cmdstanpy - INFO - Chain [1] start processing\n",
      "01:46:53 - cmdstanpy - INFO - Chain [1] done processing\n",
      "01:46:53 - cmdstanpy - INFO - Chain [1] start processing\n",
      "01:46:53 - cmdstanpy - INFO - Chain [1] done processing\n",
      "01:46:54 - cmdstanpy - INFO - Chain [1] start processing\n",
      "01:46:54 - cmdstanpy - INFO - Chain [1] start processing\n",
      "01:46:54 - cmdstanpy - INFO - Chain [1] start processing\n",
      "01:46:54 - cmdstanpy - INFO - Chain [1] start processing\n",
      "01:46:54 - cmdstanpy - INFO - Chain [1] start processing\n",
      "01:46:54 - cmdstanpy - INFO - Chain [1] start processing\n",
      "01:46:55 - cmdstanpy - INFO - Chain [1] start processing\n",
      "01:46:55 - cmdstanpy - INFO - Chain [1] start processing\n",
      "01:46:55 - cmdstanpy - INFO - Chain [1] start processing\n",
      "01:46:55 - cmdstanpy - INFO - Chain [1] done processing\n",
      "01:46:55 - cmdstanpy - INFO - Chain [1] done processing\n",
      "01:46:55 - cmdstanpy - INFO - Chain [1] done processing\n",
      "01:46:55 - cmdstanpy - INFO - Chain [1] done processing\n",
      "01:46:55 - cmdstanpy - INFO - Chain [1] done processing\n",
      "01:46:55 - cmdstanpy - INFO - Chain [1] done processing\n",
      "01:46:55 - cmdstanpy - INFO - Chain [1] done processing\n",
      "01:46:55 - cmdstanpy - INFO - Chain [1] done processing\n",
      "01:46:55 - cmdstanpy - INFO - Chain [1] done processing\n"
     ]
    },
    {
     "name": "stdout",
     "output_type": "stream",
     "text": [
      "[I 2025-08-23 01:46:56,147] Trial 2 finished with value: 339.2027069503696 and parameters: {'changepoint_prior_scale': 0.2763274862860625, 'seasonality_prior_scale': 7.516272922019784, 'holidays_prior_scale': 0.03290915983215351}. Best is trial 1 with value: 335.58760776624166.\n"
     ]
    },
    {
     "name": "stderr",
     "output_type": "stream",
     "text": [
      "01:46:56 - cmdstanpy - INFO - Chain [1] start processing\n",
      "01:46:56 - cmdstanpy - INFO - Chain [1] done processing\n",
      "01:46:57 - cmdstanpy - INFO - Chain [1] start processing\n",
      "01:46:57 - cmdstanpy - INFO - Chain [1] done processing\n",
      "01:46:58 - cmdstanpy - INFO - Chain [1] start processing\n",
      "01:46:58 - cmdstanpy - INFO - Chain [1] start processing\n",
      "01:46:58 - cmdstanpy - INFO - Chain [1] start processing\n",
      "01:46:58 - cmdstanpy - INFO - Chain [1] start processing\n",
      "01:46:58 - cmdstanpy - INFO - Chain [1] start processing\n",
      "01:46:58 - cmdstanpy - INFO - Chain [1] start processing\n",
      "01:46:58 - cmdstanpy - INFO - Chain [1] start processing\n",
      "01:46:58 - cmdstanpy - INFO - Chain [1] start processing\n",
      "01:46:58 - cmdstanpy - INFO - Chain [1] done processing\n",
      "01:46:58 - cmdstanpy - INFO - Chain [1] done processing\n",
      "01:46:58 - cmdstanpy - INFO - Chain [1] start processing\n",
      "01:46:58 - cmdstanpy - INFO - Chain [1] done processing\n",
      "01:46:58 - cmdstanpy - INFO - Chain [1] done processing\n",
      "01:46:58 - cmdstanpy - INFO - Chain [1] done processing\n",
      "01:46:58 - cmdstanpy - INFO - Chain [1] done processing\n",
      "01:46:58 - cmdstanpy - INFO - Chain [1] done processing\n",
      "01:46:58 - cmdstanpy - INFO - Chain [1] done processing\n",
      "01:46:58 - cmdstanpy - INFO - Chain [1] done processing\n"
     ]
    },
    {
     "name": "stdout",
     "output_type": "stream",
     "text": [
      "[I 2025-08-23 01:46:59,549] Trial 3 finished with value: 342.6361942666961 and parameters: {'changepoint_prior_scale': 0.0032101412660291632, 'seasonality_prior_scale': 1.1087609567196532, 'holidays_prior_scale': 0.7159497012838207}. Best is trial 1 with value: 335.58760776624166.\n"
     ]
    },
    {
     "name": "stderr",
     "output_type": "stream",
     "text": [
      "01:46:59 - cmdstanpy - INFO - Chain [1] start processing\n",
      "01:46:59 - cmdstanpy - INFO - Chain [1] done processing\n",
      "01:47:01 - cmdstanpy - INFO - Chain [1] start processing\n",
      "01:47:01 - cmdstanpy - INFO - Chain [1] start processing\n",
      "01:47:01 - cmdstanpy - INFO - Chain [1] start processing\n",
      "01:47:01 - cmdstanpy - INFO - Chain [1] start processing\n",
      "01:47:01 - cmdstanpy - INFO - Chain [1] start processing\n",
      "01:47:01 - cmdstanpy - INFO - Chain [1] start processing\n",
      "01:47:01 - cmdstanpy - INFO - Chain [1] start processing\n",
      "01:47:01 - cmdstanpy - INFO - Chain [1] done processing\n",
      "01:47:01 - cmdstanpy - INFO - Chain [1] done processing\n",
      "01:47:01 - cmdstanpy - INFO - Chain [1] start processing\n",
      "01:47:01 - cmdstanpy - INFO - Chain [1] start processing\n",
      "01:47:01 - cmdstanpy - INFO - Chain [1] start processing\n",
      "01:47:01 - cmdstanpy - INFO - Chain [1] done processing\n",
      "01:47:02 - cmdstanpy - INFO - Chain [1] done processing\n",
      "01:47:02 - cmdstanpy - INFO - Chain [1] done processing\n",
      "01:47:02 - cmdstanpy - INFO - Chain [1] done processing\n",
      "01:47:02 - cmdstanpy - INFO - Chain [1] done processing\n",
      "01:47:02 - cmdstanpy - INFO - Chain [1] done processing\n",
      "01:47:02 - cmdstanpy - INFO - Chain [1] done processing\n",
      "01:47:02 - cmdstanpy - INFO - Chain [1] done processing\n"
     ]
    },
    {
     "name": "stdout",
     "output_type": "stream",
     "text": [
      "[I 2025-08-23 01:47:02,721] Trial 4 finished with value: 347.16734767419786 and parameters: {'changepoint_prior_scale': 0.0018649156152592695, 'seasonality_prior_scale': 0.336144584621351, 'holidays_prior_scale': 0.026073374852057223}. Best is trial 1 with value: 335.58760776624166.\n"
     ]
    },
    {
     "name": "stderr",
     "output_type": "stream",
     "text": [
      "01:47:02 - cmdstanpy - INFO - Chain [1] start processing\n",
      "01:47:03 - cmdstanpy - INFO - Chain [1] done processing\n",
      "01:47:04 - cmdstanpy - INFO - Chain [1] start processing\n",
      "01:47:04 - cmdstanpy - INFO - Chain [1] start processing\n",
      "01:47:04 - cmdstanpy - INFO - Chain [1] done processing\n",
      "01:47:04 - cmdstanpy - INFO - Chain [1] start processing\n",
      "01:47:04 - cmdstanpy - INFO - Chain [1] done processing\n",
      "01:47:04 - cmdstanpy - INFO - Chain [1] start processing\n",
      "01:47:04 - cmdstanpy - INFO - Chain [1] start processing\n",
      "01:47:04 - cmdstanpy - INFO - Chain [1] start processing\n",
      "01:47:04 - cmdstanpy - INFO - Chain [1] done processing\n",
      "01:47:04 - cmdstanpy - INFO - Chain [1] start processing\n",
      "01:47:04 - cmdstanpy - INFO - Chain [1] done processing\n",
      "01:47:05 - cmdstanpy - INFO - Chain [1] start processing\n",
      "01:47:05 - cmdstanpy - INFO - Chain [1] start processing\n",
      "01:47:05 - cmdstanpy - INFO - Chain [1] done processing\n",
      "01:47:05 - cmdstanpy - INFO - Chain [1] done processing\n",
      "01:47:05 - cmdstanpy - INFO - Chain [1] start processing\n",
      "01:47:05 - cmdstanpy - INFO - Chain [1] done processing\n",
      "01:47:05 - cmdstanpy - INFO - Chain [1] done processing\n",
      "01:47:05 - cmdstanpy - INFO - Chain [1] done processing\n",
      "01:47:05 - cmdstanpy - INFO - Chain [1] done processing\n"
     ]
    },
    {
     "name": "stdout",
     "output_type": "stream",
     "text": [
      "[I 2025-08-23 01:47:05,920] Trial 5 finished with value: 343.92653771994713 and parameters: {'changepoint_prior_scale': 0.0019457500668225956, 'seasonality_prior_scale': 38.82848881651307, 'holidays_prior_scale': 0.7539927469261024}. Best is trial 1 with value: 335.58760776624166.\n"
     ]
    },
    {
     "name": "stderr",
     "output_type": "stream",
     "text": [
      "01:47:06 - cmdstanpy - INFO - Chain [1] start processing\n",
      "01:47:06 - cmdstanpy - INFO - Chain [1] done processing\n",
      "01:47:06 - cmdstanpy - ERROR - Chain [1] error: error during processing Operation not permitted\n",
      "Optimization terminated abnormally. Falling back to Newton.\n",
      "01:47:06 - cmdstanpy - INFO - Chain [1] start processing\n",
      "01:47:36 - cmdstanpy - INFO - Chain [1] done processing\n",
      "01:47:36 - cmdstanpy - INFO - Chain [1] start processing\n",
      "01:47:37 - cmdstanpy - INFO - Chain [1] done processing\n",
      "01:47:37 - cmdstanpy - ERROR - Chain [1] error: error during processing Operation not permitted\n",
      "Optimization terminated abnormally. Falling back to Newton.\n",
      "01:47:37 - cmdstanpy - INFO - Chain [1] start processing\n",
      "01:47:38 - cmdstanpy - INFO - Chain [1] start processing\n",
      "01:47:38 - cmdstanpy - INFO - Chain [1] start processing\n",
      "01:47:38 - cmdstanpy - INFO - Chain [1] done processing\n",
      "01:47:38 - cmdstanpy - INFO - Chain [1] start processing\n",
      "01:47:38 - cmdstanpy - INFO - Chain [1] start processing\n",
      "01:47:38 - cmdstanpy - INFO - Chain [1] start processing\n",
      "01:47:38 - cmdstanpy - ERROR - Chain [1] error: error during processing Operation not permitted\n",
      "01:47:38 - cmdstanpy - INFO - Chain [1] done processing\n",
      "01:47:38 - cmdstanpy - INFO - Chain [1] start processing\n",
      "01:47:38 - cmdstanpy - INFO - Chain [1] start processing\n",
      "01:47:38 - cmdstanpy - INFO - Chain [1] start processing\n",
      "01:47:38 - cmdstanpy - INFO - Chain [1] done processing\n",
      "01:47:38 - cmdstanpy - ERROR - Chain [1] error: error during processing Operation not permitted\n",
      "Optimization terminated abnormally. Falling back to Newton.\n",
      "01:47:38 - cmdstanpy - INFO - Chain [1] start processing\n",
      "01:47:38 - cmdstanpy - ERROR - Chain [1] error: error during processing Operation not permitted\n",
      "01:47:38 - cmdstanpy - INFO - Chain [1] done processing\n",
      "Optimization terminated abnormally. Falling back to Newton.\n",
      "01:47:38 - cmdstanpy - INFO - Chain [1] done processing\n",
      "01:47:38 - cmdstanpy - INFO - Chain [1] done processing\n",
      "01:47:38 - cmdstanpy - INFO - Chain [1] done processing\n",
      "Optimization terminated abnormally. Falling back to Newton.\n",
      "01:47:38 - cmdstanpy - INFO - Chain [1] done processing\n",
      "01:47:38 - cmdstanpy - ERROR - Chain [1] error: error during processing Operation not permitted\n",
      "01:47:38 - cmdstanpy - INFO - Chain [1] done processing\n",
      "01:47:38 - cmdstanpy - ERROR - Chain [1] error: error during processing Operation not permitted\n",
      "01:47:38 - cmdstanpy - ERROR - Chain [1] error: error during processing Operation not permitted\n",
      "Optimization terminated abnormally. Falling back to Newton.\n",
      "01:47:38 - cmdstanpy - ERROR - Chain [1] error: error during processing Operation not permitted\n",
      "Optimization terminated abnormally. Falling back to Newton.\n",
      "Optimization terminated abnormally. Falling back to Newton.\n",
      "01:47:39 - cmdstanpy - INFO - Chain [1] start processing\n",
      "01:47:39 - cmdstanpy - INFO - Chain [1] start processing\n",
      "Optimization terminated abnormally. Falling back to Newton.\n",
      "01:47:39 - cmdstanpy - INFO - Chain [1] start processing\n",
      "01:47:39 - cmdstanpy - INFO - Chain [1] start processing\n",
      "01:47:39 - cmdstanpy - INFO - Chain [1] start processing\n",
      "01:47:39 - cmdstanpy - INFO - Chain [1] start processing\n",
      "01:47:39 - cmdstanpy - INFO - Chain [1] start processing\n",
      "01:47:43 - cmdstanpy - INFO - Chain [1] done processing\n",
      "01:47:43 - cmdstanpy - INFO - Chain [1] done processing\n",
      "01:47:43 - cmdstanpy - INFO - Chain [1] done processing\n",
      "01:47:44 - cmdstanpy - INFO - Chain [1] done processing\n",
      "01:47:44 - cmdstanpy - INFO - Chain [1] done processing\n",
      "01:47:45 - cmdstanpy - INFO - Chain [1] done processing\n",
      "01:48:07 - cmdstanpy - INFO - Chain [1] done processing\n",
      "01:48:28 - cmdstanpy - INFO - Chain [1] done processing\n"
     ]
    },
    {
     "name": "stdout",
     "output_type": "stream",
     "text": [
      "[I 2025-08-23 01:48:28,544] Trial 6 finished with value: 377.509702804317 and parameters: {'changepoint_prior_scale': 0.00029235895956868996, 'seasonality_prior_scale': 2.6222895461772766, 'holidays_prior_scale': 1.3632106945320468}. Best is trial 1 with value: 335.58760776624166.\n"
     ]
    },
    {
     "name": "stderr",
     "output_type": "stream",
     "text": [
      "01:48:28 - cmdstanpy - INFO - Chain [1] start processing\n",
      "01:48:28 - cmdstanpy - INFO - Chain [1] done processing\n",
      "01:48:29 - cmdstanpy - INFO - Chain [1] start processing\n",
      "01:48:30 - cmdstanpy - INFO - Chain [1] start processing\n",
      "01:48:30 - cmdstanpy - INFO - Chain [1] done processing\n",
      "01:48:30 - cmdstanpy - INFO - Chain [1] done processing\n",
      "01:48:30 - cmdstanpy - INFO - Chain [1] start processing\n",
      "01:48:31 - cmdstanpy - INFO - Chain [1] start processing\n",
      "01:48:31 - cmdstanpy - INFO - Chain [1] done processing\n",
      "01:48:31 - cmdstanpy - INFO - Chain [1] start processing\n",
      "01:48:31 - cmdstanpy - INFO - Chain [1] start processing\n",
      "01:48:31 - cmdstanpy - INFO - Chain [1] start processing\n",
      "01:48:31 - cmdstanpy - INFO - Chain [1] done processing\n",
      "01:48:31 - cmdstanpy - INFO - Chain [1] start processing\n",
      "01:48:31 - cmdstanpy - INFO - Chain [1] start processing\n",
      "01:48:31 - cmdstanpy - INFO - Chain [1] start processing\n",
      "01:48:31 - cmdstanpy - INFO - Chain [1] done processing\n",
      "01:48:31 - cmdstanpy - INFO - Chain [1] done processing\n",
      "01:48:31 - cmdstanpy - INFO - Chain [1] done processing\n",
      "01:48:31 - cmdstanpy - INFO - Chain [1] done processing\n",
      "01:48:31 - cmdstanpy - INFO - Chain [1] done processing\n",
      "01:48:31 - cmdstanpy - INFO - Chain [1] done processing\n"
     ]
    },
    {
     "name": "stdout",
     "output_type": "stream",
     "text": [
      "[I 2025-08-23 01:48:32,209] Trial 7 finished with value: 336.77578101812156 and parameters: {'changepoint_prior_scale': 0.009556738294615653, 'seasonality_prior_scale': 9.159938206060788, 'holidays_prior_scale': 0.048368819480802606}. Best is trial 1 with value: 335.58760776624166.\n"
     ]
    },
    {
     "name": "stderr",
     "output_type": "stream",
     "text": [
      "01:48:32 - cmdstanpy - INFO - Chain [1] start processing\n",
      "01:48:32 - cmdstanpy - INFO - Chain [1] done processing\n",
      "01:48:33 - cmdstanpy - INFO - Chain [1] start processing\n",
      "01:48:33 - cmdstanpy - INFO - Chain [1] done processing\n",
      "01:48:33 - cmdstanpy - INFO - Chain [1] start processing\n",
      "01:48:34 - cmdstanpy - INFO - Chain [1] start processing\n",
      "01:48:34 - cmdstanpy - INFO - Chain [1] done processing\n",
      "01:48:34 - cmdstanpy - INFO - Chain [1] done processing\n",
      "01:48:34 - cmdstanpy - INFO - Chain [1] start processing\n",
      "01:48:34 - cmdstanpy - INFO - Chain [1] start processing\n",
      "01:48:34 - cmdstanpy - INFO - Chain [1] start processing\n",
      "01:48:34 - cmdstanpy - INFO - Chain [1] start processing\n",
      "01:48:34 - cmdstanpy - INFO - Chain [1] start processing\n",
      "01:48:34 - cmdstanpy - INFO - Chain [1] start processing\n",
      "01:48:34 - cmdstanpy - INFO - Chain [1] start processing\n",
      "01:48:34 - cmdstanpy - INFO - Chain [1] done processing\n",
      "01:48:34 - cmdstanpy - INFO - Chain [1] done processing\n",
      "01:48:34 - cmdstanpy - INFO - Chain [1] done processing\n",
      "01:48:34 - cmdstanpy - INFO - Chain [1] done processing\n",
      "01:48:34 - cmdstanpy - INFO - Chain [1] done processing\n",
      "01:48:34 - cmdstanpy - INFO - Chain [1] done processing\n",
      "01:48:34 - cmdstanpy - INFO - Chain [1] done processing\n"
     ]
    },
    {
     "name": "stdout",
     "output_type": "stream",
     "text": [
      "[I 2025-08-23 01:48:35,529] Trial 8 finished with value: 347.32060773180615 and parameters: {'changepoint_prior_scale': 0.00491621226919053, 'seasonality_prior_scale': 0.28454611771617544, 'holidays_prior_scale': 0.011770465515839214}. Best is trial 1 with value: 335.58760776624166.\n"
     ]
    },
    {
     "name": "stderr",
     "output_type": "stream",
     "text": [
      "01:48:35 - cmdstanpy - INFO - Chain [1] start processing\n",
      "01:48:35 - cmdstanpy - INFO - Chain [1] done processing\n",
      "01:48:36 - cmdstanpy - INFO - Chain [1] start processing\n",
      "01:48:37 - cmdstanpy - INFO - Chain [1] start processing\n",
      "01:48:37 - cmdstanpy - INFO - Chain [1] done processing\n",
      "01:48:37 - cmdstanpy - INFO - Chain [1] start processing\n",
      "01:48:37 - cmdstanpy - INFO - Chain [1] done processing\n",
      "01:48:37 - cmdstanpy - INFO - Chain [1] start processing\n",
      "01:48:37 - cmdstanpy - INFO - Chain [1] done processing\n",
      "01:48:37 - cmdstanpy - INFO - Chain [1] start processing\n",
      "01:48:37 - cmdstanpy - INFO - Chain [1] start processing\n",
      "01:48:37 - cmdstanpy - INFO - Chain [1] start processing\n",
      "01:48:37 - cmdstanpy - INFO - Chain [1] done processing\n",
      "01:48:37 - cmdstanpy - INFO - Chain [1] start processing\n",
      "01:48:37 - cmdstanpy - INFO - Chain [1] start processing\n",
      "01:48:37 - cmdstanpy - INFO - Chain [1] start processing\n",
      "01:48:38 - cmdstanpy - INFO - Chain [1] done processing\n",
      "01:48:38 - cmdstanpy - INFO - Chain [1] done processing\n",
      "01:48:38 - cmdstanpy - INFO - Chain [1] done processing\n",
      "01:48:38 - cmdstanpy - INFO - Chain [1] done processing\n",
      "01:48:38 - cmdstanpy - INFO - Chain [1] done processing\n",
      "01:48:38 - cmdstanpy - INFO - Chain [1] done processing\n"
     ]
    },
    {
     "name": "stdout",
     "output_type": "stream",
     "text": [
      "[I 2025-08-23 01:48:38,958] Trial 9 finished with value: 337.97667449369237 and parameters: {'changepoint_prior_scale': 0.01147204636771131, 'seasonality_prior_scale': 19.067105205245205, 'holidays_prior_scale': 33.808548922185736}. Best is trial 1 with value: 335.58760776624166.\n"
     ]
    },
    {
     "name": "stderr",
     "output_type": "stream",
     "text": [
      "01:48:39 - cmdstanpy - INFO - Chain [1] start processing\n",
      "01:48:39 - cmdstanpy - INFO - Chain [1] done processing\n",
      "01:48:39 - cmdstanpy - ERROR - Chain [1] error: error during processing Operation not permitted\n",
      "Optimization terminated abnormally. Falling back to Newton.\n",
      "01:48:39 - cmdstanpy - INFO - Chain [1] start processing\n",
      "01:48:41 - cmdstanpy - INFO - Chain [1] done processing\n",
      "01:48:42 - cmdstanpy - INFO - Chain [1] start processing\n",
      "01:48:43 - cmdstanpy - INFO - Chain [1] done processing\n",
      "01:48:43 - cmdstanpy - INFO - Chain [1] start processing\n",
      "01:48:43 - cmdstanpy - ERROR - Chain [1] error: error during processing Operation not permitted\n",
      "01:48:43 - cmdstanpy - INFO - Chain [1] start processing\n",
      "01:48:43 - cmdstanpy - INFO - Chain [1] start processing\n",
      "Optimization terminated abnormally. Falling back to Newton.\n",
      "01:48:43 - cmdstanpy - INFO - Chain [1] done processing\n",
      "01:48:43 - cmdstanpy - ERROR - Chain [1] error: error during processing Operation not permitted\n",
      "01:48:43 - cmdstanpy - INFO - Chain [1] start processing\n",
      "01:48:43 - cmdstanpy - INFO - Chain [1] done processing\n",
      "01:48:43 - cmdstanpy - INFO - Chain [1] start processing\n",
      "Optimization terminated abnormally. Falling back to Newton.\n",
      "01:48:43 - cmdstanpy - INFO - Chain [1] done processing\n",
      "01:48:43 - cmdstanpy - ERROR - Chain [1] error: error during processing Operation not permitted\n",
      "01:48:43 - cmdstanpy - INFO - Chain [1] start processing\n",
      "01:48:43 - cmdstanpy - INFO - Chain [1] start processing\n",
      "Optimization terminated abnormally. Falling back to Newton.\n",
      "01:48:43 - cmdstanpy - INFO - Chain [1] start processing\n",
      "01:48:43 - cmdstanpy - INFO - Chain [1] start processing\n",
      "01:48:43 - cmdstanpy - ERROR - Chain [1] error: error during processing Operation not permitted\n",
      "01:48:43 - cmdstanpy - INFO - Chain [1] done processing\n",
      "01:48:43 - cmdstanpy - INFO - Chain [1] done processing\n",
      "01:48:43 - cmdstanpy - INFO - Chain [1] done processing\n",
      "01:48:43 - cmdstanpy - INFO - Chain [1] done processing\n",
      "Optimization terminated abnormally. Falling back to Newton.\n",
      "01:48:43 - cmdstanpy - INFO - Chain [1] start processing\n",
      "01:48:43 - cmdstanpy - ERROR - Chain [1] error: error during processing Operation not permitted\n",
      "01:48:44 - cmdstanpy - ERROR - Chain [1] error: error during processing Operation not permitted\n",
      "01:48:44 - cmdstanpy - INFO - Chain [1] done processing\n",
      "01:48:44 - cmdstanpy - INFO - Chain [1] done processing\n",
      "Optimization terminated abnormally. Falling back to Newton.\n",
      "01:48:44 - cmdstanpy - INFO - Chain [1] start processing\n",
      "01:48:44 - cmdstanpy - ERROR - Chain [1] error: error during processing Operation not permitted\n",
      "Optimization terminated abnormally. Falling back to Newton.\n",
      "01:48:44 - cmdstanpy - ERROR - Chain [1] error: error during processing Operation not permitted\n",
      "01:48:44 - cmdstanpy - INFO - Chain [1] start processing\n",
      "Optimization terminated abnormally. Falling back to Newton.\n",
      "Optimization terminated abnormally. Falling back to Newton.\n",
      "01:48:44 - cmdstanpy - INFO - Chain [1] start processing\n",
      "01:48:45 - cmdstanpy - INFO - Chain [1] start processing\n",
      "01:48:45 - cmdstanpy - INFO - Chain [1] start processing\n",
      "01:48:45 - cmdstanpy - INFO - Chain [1] start processing\n",
      "01:48:45 - cmdstanpy - INFO - Chain [1] start processing\n",
      "01:48:48 - cmdstanpy - INFO - Chain [1] done processing\n",
      "01:48:49 - cmdstanpy - INFO - Chain [1] done processing\n",
      "01:48:49 - cmdstanpy - INFO - Chain [1] done processing\n",
      "01:48:49 - cmdstanpy - INFO - Chain [1] done processing\n",
      "01:48:56 - cmdstanpy - INFO - Chain [1] done processing\n",
      "01:48:59 - cmdstanpy - INFO - Chain [1] done processing\n",
      "01:49:04 - cmdstanpy - INFO - Chain [1] done processing\n",
      "01:49:16 - cmdstanpy - INFO - Chain [1] done processing\n"
     ]
    },
    {
     "name": "stdout",
     "output_type": "stream",
     "text": [
      "[I 2025-08-23 01:49:16,980] Trial 10 finished with value: 466.9167030638413 and parameters: {'changepoint_prior_scale': 0.0001162534368286216, 'seasonality_prior_scale': 0.015688930150287175, 'holidays_prior_scale': 4.76795980652225}. Best is trial 1 with value: 335.58760776624166.\n"
     ]
    },
    {
     "name": "stderr",
     "output_type": "stream",
     "text": [
      "01:49:17 - cmdstanpy - INFO - Chain [1] start processing\n",
      "01:49:17 - cmdstanpy - INFO - Chain [1] done processing\n",
      "01:49:18 - cmdstanpy - INFO - Chain [1] start processing\n",
      "01:49:18 - cmdstanpy - INFO - Chain [1] start processing\n",
      "01:49:18 - cmdstanpy - INFO - Chain [1] start processing\n",
      "01:49:19 - cmdstanpy - INFO - Chain [1] start processing\n",
      "01:49:19 - cmdstanpy - INFO - Chain [1] done processing\n",
      "01:49:19 - cmdstanpy - INFO - Chain [1] start processing\n",
      "01:49:19 - cmdstanpy - INFO - Chain [1] start processing\n",
      "01:49:19 - cmdstanpy - INFO - Chain [1] start processing\n",
      "01:49:19 - cmdstanpy - INFO - Chain [1] start processing\n",
      "01:49:19 - cmdstanpy - INFO - Chain [1] done processing\n",
      "01:49:19 - cmdstanpy - INFO - Chain [1] start processing\n",
      "01:49:19 - cmdstanpy - INFO - Chain [1] start processing\n",
      "01:49:19 - cmdstanpy - INFO - Chain [1] done processing\n",
      "01:49:19 - cmdstanpy - INFO - Chain [1] done processing\n",
      "01:49:19 - cmdstanpy - INFO - Chain [1] done processing\n",
      "01:49:19 - cmdstanpy - INFO - Chain [1] done processing\n",
      "01:49:19 - cmdstanpy - INFO - Chain [1] done processing\n",
      "01:49:19 - cmdstanpy - INFO - Chain [1] done processing\n",
      "01:49:19 - cmdstanpy - INFO - Chain [1] done processing\n",
      "01:49:19 - cmdstanpy - INFO - Chain [1] done processing\n",
      "01:49:20 - cmdstanpy - INFO - Chain [1] start processing\n"
     ]
    },
    {
     "name": "stdout",
     "output_type": "stream",
     "text": [
      "[I 2025-08-23 01:49:20,243] Trial 11 finished with value: 337.1891901971509 and parameters: {'changepoint_prior_scale': 0.05025338331990925, 'seasonality_prior_scale': 0.03627485930861871, 'holidays_prior_scale': 0.11749274846380973}. Best is trial 1 with value: 335.58760776624166.\n"
     ]
    },
    {
     "name": "stderr",
     "output_type": "stream",
     "text": [
      "01:49:20 - cmdstanpy - INFO - Chain [1] done processing\n",
      "01:49:21 - cmdstanpy - INFO - Chain [1] start processing\n",
      "01:49:21 - cmdstanpy - INFO - Chain [1] done processing\n",
      "01:49:21 - cmdstanpy - INFO - Chain [1] start processing\n",
      "01:49:22 - cmdstanpy - INFO - Chain [1] done processing\n",
      "01:49:22 - cmdstanpy - INFO - Chain [1] start processing\n",
      "01:49:22 - cmdstanpy - INFO - Chain [1] start processing\n",
      "01:49:22 - cmdstanpy - INFO - Chain [1] start processing\n",
      "01:49:22 - cmdstanpy - INFO - Chain [1] start processing\n",
      "01:49:22 - cmdstanpy - INFO - Chain [1] start processing\n",
      "01:49:22 - cmdstanpy - INFO - Chain [1] start processing\n",
      "01:49:22 - cmdstanpy - INFO - Chain [1] start processing\n",
      "01:49:22 - cmdstanpy - INFO - Chain [1] start processing\n",
      "01:49:22 - cmdstanpy - INFO - Chain [1] done processing\n",
      "01:49:22 - cmdstanpy - INFO - Chain [1] done processing\n",
      "01:49:22 - cmdstanpy - INFO - Chain [1] done processing\n",
      "01:49:22 - cmdstanpy - INFO - Chain [1] done processing\n",
      "01:49:22 - cmdstanpy - INFO - Chain [1] done processing\n",
      "01:49:22 - cmdstanpy - INFO - Chain [1] done processing\n",
      "01:49:22 - cmdstanpy - INFO - Chain [1] done processing\n",
      "01:49:22 - cmdstanpy - INFO - Chain [1] done processing\n"
     ]
    },
    {
     "name": "stdout",
     "output_type": "stream",
     "text": [
      "[I 2025-08-23 01:49:23,426] Trial 12 finished with value: 337.0903296219019 and parameters: {'changepoint_prior_scale': 0.016191807081550127, 'seasonality_prior_scale': 0.08126137379090642, 'holidays_prior_scale': 0.20495913317055253}. Best is trial 1 with value: 335.58760776624166.\n"
     ]
    },
    {
     "name": "stderr",
     "output_type": "stream",
     "text": [
      "01:49:23 - cmdstanpy - INFO - Chain [1] start processing\n",
      "01:49:23 - cmdstanpy - INFO - Chain [1] done processing\n",
      "01:49:25 - cmdstanpy - INFO - Chain [1] start processing\n",
      "01:49:25 - cmdstanpy - INFO - Chain [1] start processing\n",
      "01:49:25 - cmdstanpy - INFO - Chain [1] done processing\n",
      "01:49:25 - cmdstanpy - INFO - Chain [1] start processing\n",
      "01:49:25 - cmdstanpy - INFO - Chain [1] start processing\n",
      "01:49:25 - cmdstanpy - INFO - Chain [1] start processing\n",
      "01:49:25 - cmdstanpy - INFO - Chain [1] start processing\n",
      "01:49:25 - cmdstanpy - INFO - Chain [1] start processing\n",
      "01:49:25 - cmdstanpy - INFO - Chain [1] done processing\n",
      "01:49:25 - cmdstanpy - INFO - Chain [1] start processing\n",
      "01:49:25 - cmdstanpy - INFO - Chain [1] start processing\n",
      "01:49:25 - cmdstanpy - INFO - Chain [1] start processing\n",
      "01:49:25 - cmdstanpy - INFO - Chain [1] done processing\n",
      "01:49:25 - cmdstanpy - INFO - Chain [1] done processing\n",
      "01:49:25 - cmdstanpy - INFO - Chain [1] done processing\n",
      "01:49:25 - cmdstanpy - INFO - Chain [1] done processing\n",
      "01:49:25 - cmdstanpy - INFO - Chain [1] done processing\n",
      "01:49:26 - cmdstanpy - INFO - Chain [1] done processing\n",
      "01:49:26 - cmdstanpy - INFO - Chain [1] done processing\n",
      "01:49:26 - cmdstanpy - INFO - Chain [1] done processing\n",
      "01:49:26 - cmdstanpy - ERROR - Chain [1] error: error during processing Operation not permitted\n",
      "Optimization terminated abnormally. Falling back to Newton.\n",
      "01:49:26 - cmdstanpy - INFO - Chain [1] start processing\n",
      "01:49:28 - cmdstanpy - INFO - Chain [1] done processing\n",
      "01:49:29 - cmdstanpy - INFO - Chain [1] start processing\n"
     ]
    },
    {
     "name": "stdout",
     "output_type": "stream",
     "text": [
      "[I 2025-08-23 01:49:28,906] Trial 13 finished with value: 368.8239165557406 and parameters: {'changepoint_prior_scale': 0.0009492160515650221, 'seasonality_prior_scale': 0.11484700746030792, 'holidays_prior_scale': 0.25196994000636613}. Best is trial 1 with value: 335.58760776624166.\n"
     ]
    },
    {
     "name": "stderr",
     "output_type": "stream",
     "text": [
      "01:49:29 - cmdstanpy - INFO - Chain [1] done processing\n",
      "01:49:29 - cmdstanpy - INFO - Chain [1] start processing\n",
      "01:49:30 - cmdstanpy - INFO - Chain [1] done processing\n",
      "01:49:30 - cmdstanpy - INFO - Chain [1] start processing\n",
      "01:49:30 - cmdstanpy - INFO - Chain [1] start processing\n",
      "01:49:30 - cmdstanpy - INFO - Chain [1] start processing\n",
      "01:49:30 - cmdstanpy - INFO - Chain [1] start processing\n",
      "01:49:31 - cmdstanpy - INFO - Chain [1] start processing\n",
      "01:49:31 - cmdstanpy - INFO - Chain [1] start processing\n",
      "01:49:31 - cmdstanpy - INFO - Chain [1] start processing\n",
      "01:49:31 - cmdstanpy - INFO - Chain [1] start processing\n",
      "01:49:31 - cmdstanpy - INFO - Chain [1] start processing\n",
      "01:49:31 - cmdstanpy - INFO - Chain [1] done processing\n",
      "01:49:31 - cmdstanpy - INFO - Chain [1] done processing\n",
      "01:49:31 - cmdstanpy - INFO - Chain [1] done processing\n",
      "01:49:31 - cmdstanpy - INFO - Chain [1] done processing\n",
      "01:49:31 - cmdstanpy - INFO - Chain [1] done processing\n",
      "01:49:31 - cmdstanpy - INFO - Chain [1] done processing\n",
      "01:49:31 - cmdstanpy - INFO - Chain [1] done processing\n",
      "01:49:31 - cmdstanpy - INFO - Chain [1] done processing\n",
      "01:49:31 - cmdstanpy - INFO - Chain [1] done processing\n",
      "01:49:32 - cmdstanpy - INFO - Chain [1] start processing\n"
     ]
    },
    {
     "name": "stdout",
     "output_type": "stream",
     "text": [
      "[I 2025-08-23 01:49:32,161] Trial 14 finished with value: 341.86511484197774 and parameters: {'changepoint_prior_scale': 0.03769754485856335, 'seasonality_prior_scale': 0.010457933015746882, 'holidays_prior_scale': 0.062114246511565975}. Best is trial 1 with value: 335.58760776624166.\n"
     ]
    },
    {
     "name": "stderr",
     "output_type": "stream",
     "text": [
      "01:49:32 - cmdstanpy - INFO - Chain [1] done processing\n",
      "01:49:33 - cmdstanpy - INFO - Chain [1] start processing\n",
      "01:49:34 - cmdstanpy - INFO - Chain [1] start processing\n",
      "01:49:34 - cmdstanpy - INFO - Chain [1] done processing\n",
      "01:49:34 - cmdstanpy - INFO - Chain [1] start processing\n",
      "01:49:34 - cmdstanpy - INFO - Chain [1] start processing\n",
      "01:49:34 - cmdstanpy - INFO - Chain [1] start processing\n",
      "01:49:34 - cmdstanpy - INFO - Chain [1] done processing\n",
      "01:49:34 - cmdstanpy - INFO - Chain [1] start processing\n",
      "01:49:34 - cmdstanpy - INFO - Chain [1] done processing\n",
      "01:49:34 - cmdstanpy - INFO - Chain [1] done processing\n",
      "01:49:34 - cmdstanpy - INFO - Chain [1] start processing\n",
      "01:49:34 - cmdstanpy - INFO - Chain [1] start processing\n",
      "01:49:34 - cmdstanpy - INFO - Chain [1] done processing\n",
      "01:49:34 - cmdstanpy - INFO - Chain [1] start processing\n",
      "01:49:34 - cmdstanpy - INFO - Chain [1] done processing\n",
      "01:49:34 - cmdstanpy - INFO - Chain [1] start processing\n",
      "01:49:35 - cmdstanpy - INFO - Chain [1] done processing\n",
      "01:49:35 - cmdstanpy - INFO - Chain [1] done processing\n",
      "01:49:35 - cmdstanpy - INFO - Chain [1] done processing\n",
      "01:49:35 - cmdstanpy - INFO - Chain [1] done processing\n",
      "01:49:35 - cmdstanpy - INFO - Chain [1] start processing\n"
     ]
    },
    {
     "name": "stdout",
     "output_type": "stream",
     "text": [
      "[I 2025-08-23 01:49:35,746] Trial 15 finished with value: 345.93994100258146 and parameters: {'changepoint_prior_scale': 0.34470461019924653, 'seasonality_prior_scale': 2.4701840114243403, 'holidays_prior_scale': 0.01133482905714523}. Best is trial 1 with value: 335.58760776624166.\n"
     ]
    },
    {
     "name": "stderr",
     "output_type": "stream",
     "text": [
      "01:49:36 - cmdstanpy - INFO - Chain [1] done processing\n",
      "01:49:36 - cmdstanpy - INFO - Chain [1] start processing\n",
      "01:49:37 - cmdstanpy - INFO - Chain [1] done processing\n",
      "01:49:37 - cmdstanpy - INFO - Chain [1] start processing\n",
      "01:49:37 - cmdstanpy - INFO - Chain [1] start processing\n",
      "01:49:37 - cmdstanpy - INFO - Chain [1] start processing\n",
      "01:49:37 - cmdstanpy - INFO - Chain [1] start processing\n",
      "01:49:37 - cmdstanpy - INFO - Chain [1] start processing\n",
      "01:49:37 - cmdstanpy - INFO - Chain [1] start processing\n",
      "01:49:37 - cmdstanpy - INFO - Chain [1] start processing\n",
      "01:49:37 - cmdstanpy - INFO - Chain [1] start processing\n",
      "01:49:37 - cmdstanpy - INFO - Chain [1] done processing\n",
      "01:49:38 - cmdstanpy - INFO - Chain [1] done processing\n",
      "01:49:38 - cmdstanpy - INFO - Chain [1] start processing\n",
      "01:49:38 - cmdstanpy - INFO - Chain [1] done processing\n",
      "01:49:38 - cmdstanpy - INFO - Chain [1] done processing\n",
      "01:49:38 - cmdstanpy - INFO - Chain [1] done processing\n",
      "01:49:38 - cmdstanpy - INFO - Chain [1] done processing\n",
      "01:49:38 - cmdstanpy - INFO - Chain [1] done processing\n",
      "01:49:38 - cmdstanpy - INFO - Chain [1] done processing\n",
      "01:49:38 - cmdstanpy - INFO - Chain [1] done processing\n",
      "01:49:38 - cmdstanpy - ERROR - Chain [1] error: error during processing Operation not permitted\n",
      "Optimization terminated abnormally. Falling back to Newton.\n",
      "01:49:39 - cmdstanpy - INFO - Chain [1] start processing\n",
      "01:49:41 - cmdstanpy - INFO - Chain [1] done processing\n"
     ]
    },
    {
     "name": "stdout",
     "output_type": "stream",
     "text": [
      "[I 2025-08-23 01:49:41,483] Trial 16 finished with value: 510.4626462167837 and parameters: {'changepoint_prior_scale': 0.0007177559043939199, 'seasonality_prior_scale': 1.230527410291992, 'holidays_prior_scale': 2.4126006300459206}. Best is trial 1 with value: 335.58760776624166.\n"
     ]
    },
    {
     "name": "stderr",
     "output_type": "stream",
     "text": [
      "01:49:41 - cmdstanpy - INFO - Chain [1] start processing\n",
      "01:49:41 - cmdstanpy - INFO - Chain [1] done processing\n",
      "01:49:43 - cmdstanpy - INFO - Chain [1] start processing\n",
      "01:49:43 - cmdstanpy - INFO - Chain [1] start processing\n",
      "01:49:43 - cmdstanpy - INFO - Chain [1] start processing\n",
      "01:49:43 - cmdstanpy - INFO - Chain [1] start processing\n",
      "01:49:43 - cmdstanpy - INFO - Chain [1] done processing\n",
      "01:49:43 - cmdstanpy - INFO - Chain [1] done processing\n",
      "01:49:43 - cmdstanpy - INFO - Chain [1] start processing\n",
      "01:49:43 - cmdstanpy - INFO - Chain [1] start processing\n",
      "01:49:43 - cmdstanpy - INFO - Chain [1] start processing\n",
      "01:49:43 - cmdstanpy - INFO - Chain [1] start processing\n",
      "01:49:43 - cmdstanpy - INFO - Chain [1] start processing\n",
      "01:49:43 - cmdstanpy - INFO - Chain [1] start processing\n",
      "01:49:43 - cmdstanpy - INFO - Chain [1] done processing\n",
      "01:49:43 - cmdstanpy - INFO - Chain [1] done processing\n",
      "01:49:43 - cmdstanpy - INFO - Chain [1] done processing\n",
      "01:49:43 - cmdstanpy - INFO - Chain [1] done processing\n",
      "01:49:43 - cmdstanpy - INFO - Chain [1] done processing\n",
      "01:49:43 - cmdstanpy - INFO - Chain [1] done processing\n",
      "01:49:43 - cmdstanpy - INFO - Chain [1] done processing\n",
      "01:49:44 - cmdstanpy - INFO - Chain [1] done processing\n"
     ]
    },
    {
     "name": "stdout",
     "output_type": "stream",
     "text": [
      "[I 2025-08-23 01:49:44,514] Trial 17 finished with value: 338.1130723088249 and parameters: {'changepoint_prior_scale': 0.01391989718358885, 'seasonality_prior_scale': 6.314444807633142, 'holidays_prior_scale': 0.2907297756245878}. Best is trial 1 with value: 335.58760776624166.\n"
     ]
    },
    {
     "name": "stderr",
     "output_type": "stream",
     "text": [
      "01:49:44 - cmdstanpy - INFO - Chain [1] start processing\n",
      "01:49:44 - cmdstanpy - INFO - Chain [1] done processing\n",
      "01:49:45 - cmdstanpy - INFO - Chain [1] start processing\n",
      "01:49:45 - cmdstanpy - INFO - Chain [1] done processing\n",
      "01:49:46 - cmdstanpy - INFO - Chain [1] start processing\n",
      "01:49:46 - cmdstanpy - INFO - Chain [1] done processing\n",
      "01:49:46 - cmdstanpy - INFO - Chain [1] start processing\n",
      "01:49:46 - cmdstanpy - INFO - Chain [1] start processing\n",
      "01:49:46 - cmdstanpy - INFO - Chain [1] start processing\n",
      "01:49:46 - cmdstanpy - INFO - Chain [1] start processing\n",
      "01:49:46 - cmdstanpy - INFO - Chain [1] start processing\n",
      "01:49:46 - cmdstanpy - INFO - Chain [1] start processing\n",
      "01:49:46 - cmdstanpy - INFO - Chain [1] start processing\n",
      "01:49:46 - cmdstanpy - INFO - Chain [1] start processing\n",
      "01:49:46 - cmdstanpy - INFO - Chain [1] done processing\n",
      "01:49:46 - cmdstanpy - INFO - Chain [1] done processing\n",
      "01:49:47 - cmdstanpy - INFO - Chain [1] done processing\n",
      "01:49:47 - cmdstanpy - INFO - Chain [1] done processing\n",
      "01:49:47 - cmdstanpy - INFO - Chain [1] done processing\n",
      "01:49:47 - cmdstanpy - INFO - Chain [1] done processing\n",
      "01:49:47 - cmdstanpy - INFO - Chain [1] done processing\n",
      "01:49:47 - cmdstanpy - INFO - Chain [1] done processing\n"
     ]
    },
    {
     "name": "stdout",
     "output_type": "stream",
     "text": [
      "[I 2025-08-23 01:49:47,744] Trial 18 finished with value: 337.37039961943736 and parameters: {'changepoint_prior_scale': 0.1459306800157854, 'seasonality_prior_scale': 0.15441977446254654, 'holidays_prior_scale': 0.04119630345873802}. Best is trial 1 with value: 335.58760776624166.\n"
     ]
    },
    {
     "name": "stderr",
     "output_type": "stream",
     "text": [
      "01:49:47 - cmdstanpy - INFO - Chain [1] start processing\n",
      "01:49:48 - cmdstanpy - INFO - Chain [1] done processing\n",
      "01:49:48 - cmdstanpy - INFO - Chain [1] start processing\n",
      "01:49:49 - cmdstanpy - INFO - Chain [1] done processing\n",
      "01:49:49 - cmdstanpy - INFO - Chain [1] start processing\n",
      "01:49:49 - cmdstanpy - INFO - Chain [1] start processing\n",
      "01:49:49 - cmdstanpy - INFO - Chain [1] start processing\n",
      "01:49:49 - cmdstanpy - INFO - Chain [1] start processing\n",
      "01:49:49 - cmdstanpy - INFO - Chain [1] start processing\n",
      "01:49:49 - cmdstanpy - INFO - Chain [1] done processing\n",
      "01:49:49 - cmdstanpy - INFO - Chain [1] start processing\n",
      "01:49:49 - cmdstanpy - INFO - Chain [1] start processing\n",
      "01:49:49 - cmdstanpy - INFO - Chain [1] done processing\n",
      "01:49:50 - cmdstanpy - INFO - Chain [1] start processing\n",
      "01:49:50 - cmdstanpy - INFO - Chain [1] done processing\n",
      "01:49:50 - cmdstanpy - INFO - Chain [1] start processing\n",
      "01:49:50 - cmdstanpy - INFO - Chain [1] done processing\n",
      "01:49:50 - cmdstanpy - INFO - Chain [1] done processing\n",
      "01:49:50 - cmdstanpy - INFO - Chain [1] done processing\n",
      "01:49:50 - cmdstanpy - INFO - Chain [1] done processing\n",
      "01:49:50 - cmdstanpy - INFO - Chain [1] done processing\n",
      "01:49:50 - cmdstanpy - INFO - Chain [1] done processing\n",
      "01:49:51 - cmdstanpy - INFO - Chain [1] start processing\n"
     ]
    },
    {
     "name": "stdout",
     "output_type": "stream",
     "text": [
      "[I 2025-08-23 01:49:51,032] Trial 19 finished with value: 337.02429222522164 and parameters: {'changepoint_prior_scale': 0.0069777200331885576, 'seasonality_prior_scale': 0.03705321911066356, 'holidays_prior_scale': 0.13430779736291776}. Best is trial 1 with value: 335.58760776624166.\n"
     ]
    },
    {
     "name": "stderr",
     "output_type": "stream",
     "text": [
      "01:49:51 - cmdstanpy - INFO - Chain [1] done processing\n",
      "01:49:52 - cmdstanpy - INFO - Chain [1] start processing\n",
      "01:49:52 - cmdstanpy - INFO - Chain [1] start processing\n",
      "01:49:52 - cmdstanpy - INFO - Chain [1] done processing\n",
      "01:49:52 - cmdstanpy - INFO - Chain [1] start processing\n",
      "01:49:53 - cmdstanpy - INFO - Chain [1] start processing\n",
      "01:49:53 - cmdstanpy - INFO - Chain [1] start processing\n",
      "01:49:53 - cmdstanpy - INFO - Chain [1] start processing\n",
      "01:49:53 - cmdstanpy - INFO - Chain [1] done processing\n",
      "01:49:53 - cmdstanpy - INFO - Chain [1] start processing\n",
      "01:49:53 - cmdstanpy - INFO - Chain [1] start processing\n",
      "01:49:53 - cmdstanpy - INFO - Chain [1] done processing\n",
      "01:49:53 - cmdstanpy - INFO - Chain [1] start processing\n",
      "01:49:53 - cmdstanpy - INFO - Chain [1] start processing\n",
      "01:49:53 - cmdstanpy - INFO - Chain [1] done processing\n",
      "01:49:53 - cmdstanpy - INFO - Chain [1] done processing\n",
      "01:49:53 - cmdstanpy - INFO - Chain [1] done processing\n",
      "01:49:53 - cmdstanpy - INFO - Chain [1] done processing\n",
      "01:49:53 - cmdstanpy - INFO - Chain [1] done processing\n",
      "01:49:53 - cmdstanpy - INFO - Chain [1] done processing\n",
      "01:49:53 - cmdstanpy - INFO - Chain [1] done processing\n"
     ]
    },
    {
     "name": "stdout",
     "output_type": "stream",
     "text": [
      "[I 2025-08-23 01:49:54,209] Trial 20 finished with value: 337.4678355998034 and parameters: {'changepoint_prior_scale': 0.03139072767615179, 'seasonality_prior_scale': 0.41430488351520656, 'holidays_prior_scale': 7.817957155293004}. Best is trial 1 with value: 335.58760776624166.\n"
     ]
    },
    {
     "name": "stderr",
     "output_type": "stream",
     "text": [
      "01:49:54 - cmdstanpy - INFO - Chain [1] start processing\n",
      "01:49:54 - cmdstanpy - INFO - Chain [1] done processing\n",
      "01:49:56 - cmdstanpy - INFO - Chain [1] start processing\n",
      "01:49:56 - cmdstanpy - INFO - Chain [1] start processing\n",
      "01:49:56 - cmdstanpy - INFO - Chain [1] done processing\n",
      "01:49:56 - cmdstanpy - INFO - Chain [1] start processing\n",
      "01:49:56 - cmdstanpy - INFO - Chain [1] done processing\n",
      "01:49:56 - cmdstanpy - INFO - Chain [1] start processing\n",
      "01:49:56 - cmdstanpy - INFO - Chain [1] start processing\n",
      "01:49:56 - cmdstanpy - INFO - Chain [1] start processing\n",
      "01:49:56 - cmdstanpy - INFO - Chain [1] start processing\n",
      "01:49:56 - cmdstanpy - INFO - Chain [1] start processing\n",
      "01:49:56 - cmdstanpy - INFO - Chain [1] start processing\n",
      "01:49:56 - cmdstanpy - INFO - Chain [1] done processing\n",
      "01:49:56 - cmdstanpy - INFO - Chain [1] start processing\n",
      "01:49:56 - cmdstanpy - INFO - Chain [1] done processing\n",
      "01:49:56 - cmdstanpy - INFO - Chain [1] done processing\n",
      "01:49:56 - cmdstanpy - INFO - Chain [1] done processing\n",
      "01:49:57 - cmdstanpy - INFO - Chain [1] done processing\n",
      "01:49:57 - cmdstanpy - INFO - Chain [1] done processing\n",
      "01:49:57 - cmdstanpy - INFO - Chain [1] done processing\n",
      "01:49:57 - cmdstanpy - INFO - Chain [1] done processing\n"
     ]
    },
    {
     "name": "stdout",
     "output_type": "stream",
     "text": [
      "[I 2025-08-23 01:49:57,719] Trial 21 finished with value: 336.6711726108986 and parameters: {'changepoint_prior_scale': 0.09570766211921448, 'seasonality_prior_scale': 11.169060915847863, 'holidays_prior_scale': 0.05977375498690224}. Best is trial 1 with value: 335.58760776624166.\n"
     ]
    },
    {
     "name": "stderr",
     "output_type": "stream",
     "text": [
      "01:49:57 - cmdstanpy - INFO - Chain [1] start processing\n",
      "01:49:58 - cmdstanpy - INFO - Chain [1] done processing\n",
      "01:49:58 - cmdstanpy - INFO - Chain [1] start processing\n",
      "01:49:59 - cmdstanpy - INFO - Chain [1] done processing\n",
      "01:49:59 - cmdstanpy - INFO - Chain [1] start processing\n",
      "01:49:59 - cmdstanpy - INFO - Chain [1] start processing\n",
      "01:49:59 - cmdstanpy - INFO - Chain [1] start processing\n",
      "01:49:59 - cmdstanpy - INFO - Chain [1] done processing\n",
      "01:49:59 - cmdstanpy - INFO - Chain [1] start processing\n",
      "01:49:59 - cmdstanpy - INFO - Chain [1] start processing\n",
      "01:50:00 - cmdstanpy - INFO - Chain [1] done processing\n",
      "01:50:00 - cmdstanpy - INFO - Chain [1] start processing\n",
      "01:50:00 - cmdstanpy - INFO - Chain [1] start processing\n",
      "01:50:00 - cmdstanpy - INFO - Chain [1] done processing\n",
      "01:50:00 - cmdstanpy - INFO - Chain [1] start processing\n",
      "01:50:00 - cmdstanpy - INFO - Chain [1] done processing\n",
      "01:50:00 - cmdstanpy - INFO - Chain [1] done processing\n",
      "01:50:00 - cmdstanpy - INFO - Chain [1] start processing\n",
      "01:50:00 - cmdstanpy - INFO - Chain [1] done processing\n",
      "01:50:00 - cmdstanpy - INFO - Chain [1] done processing\n",
      "01:50:00 - cmdstanpy - INFO - Chain [1] done processing\n",
      "01:50:00 - cmdstanpy - INFO - Chain [1] done processing\n",
      "01:50:01 - cmdstanpy - INFO - Chain [1] start processing\n"
     ]
    },
    {
     "name": "stdout",
     "output_type": "stream",
     "text": [
      "[I 2025-08-23 01:50:01,137] Trial 22 finished with value: 339.9828612291145 and parameters: {'changepoint_prior_scale': 0.10823538623333315, 'seasonality_prior_scale': 7.414179304869877, 'holidays_prior_scale': 0.021763451184899252}. Best is trial 1 with value: 335.58760776624166.\n"
     ]
    },
    {
     "name": "stderr",
     "output_type": "stream",
     "text": [
      "01:50:01 - cmdstanpy - INFO - Chain [1] done processing\n",
      "01:50:02 - cmdstanpy - INFO - Chain [1] start processing\n",
      "01:50:02 - cmdstanpy - INFO - Chain [1] start processing\n",
      "01:50:02 - cmdstanpy - INFO - Chain [1] done processing\n",
      "01:50:03 - cmdstanpy - INFO - Chain [1] done processing\n",
      "01:50:03 - cmdstanpy - INFO - Chain [1] start processing\n",
      "01:50:03 - cmdstanpy - INFO - Chain [1] start processing\n",
      "01:50:03 - cmdstanpy - INFO - Chain [1] start processing\n",
      "01:50:03 - cmdstanpy - INFO - Chain [1] start processing\n",
      "01:50:03 - cmdstanpy - INFO - Chain [1] done processing\n",
      "01:50:03 - cmdstanpy - INFO - Chain [1] start processing\n",
      "01:50:03 - cmdstanpy - INFO - Chain [1] start processing\n",
      "01:50:03 - cmdstanpy - INFO - Chain [1] done processing\n",
      "01:50:03 - cmdstanpy - INFO - Chain [1] done processing\n",
      "01:50:03 - cmdstanpy - INFO - Chain [1] start processing\n",
      "01:50:03 - cmdstanpy - INFO - Chain [1] start processing\n",
      "01:50:03 - cmdstanpy - INFO - Chain [1] done processing\n",
      "01:50:03 - cmdstanpy - INFO - Chain [1] done processing\n",
      "01:50:03 - cmdstanpy - INFO - Chain [1] done processing\n",
      "01:50:03 - cmdstanpy - INFO - Chain [1] done processing\n",
      "01:50:04 - cmdstanpy - INFO - Chain [1] done processing\n"
     ]
    },
    {
     "name": "stdout",
     "output_type": "stream",
     "text": [
      "[I 2025-08-23 01:50:04,631] Trial 23 finished with value: 336.6587917223255 and parameters: {'changepoint_prior_scale': 0.022656944010584167, 'seasonality_prior_scale': 2.959573832090036, 'holidays_prior_scale': 0.4293521739076601}. Best is trial 1 with value: 335.58760776624166.\n"
     ]
    },
    {
     "name": "stderr",
     "output_type": "stream",
     "text": [
      "01:50:04 - cmdstanpy - INFO - Chain [1] start processing\n",
      "01:50:04 - cmdstanpy - INFO - Chain [1] done processing\n",
      "01:50:05 - cmdstanpy - INFO - Chain [1] start processing\n",
      "01:50:06 - cmdstanpy - INFO - Chain [1] start processing\n",
      "01:50:06 - cmdstanpy - INFO - Chain [1] done processing\n",
      "01:50:06 - cmdstanpy - INFO - Chain [1] done processing\n",
      "01:50:06 - cmdstanpy - INFO - Chain [1] start processing\n",
      "01:50:06 - cmdstanpy - INFO - Chain [1] done processing\n",
      "01:50:07 - cmdstanpy - INFO - Chain [1] start processing\n",
      "01:50:07 - cmdstanpy - INFO - Chain [1] start processing\n",
      "01:50:07 - cmdstanpy - INFO - Chain [1] start processing\n",
      "01:50:07 - cmdstanpy - INFO - Chain [1] start processing\n",
      "01:50:07 - cmdstanpy - INFO - Chain [1] start processing\n",
      "01:50:07 - cmdstanpy - INFO - Chain [1] start processing\n",
      "01:50:07 - cmdstanpy - INFO - Chain [1] start processing\n",
      "01:50:07 - cmdstanpy - INFO - Chain [1] done processing\n",
      "01:50:07 - cmdstanpy - INFO - Chain [1] done processing\n",
      "01:50:07 - cmdstanpy - INFO - Chain [1] done processing\n",
      "01:50:07 - cmdstanpy - INFO - Chain [1] done processing\n",
      "01:50:07 - cmdstanpy - INFO - Chain [1] done processing\n",
      "01:50:07 - cmdstanpy - INFO - Chain [1] done processing\n",
      "01:50:07 - cmdstanpy - INFO - Chain [1] done processing\n"
     ]
    },
    {
     "name": "stdout",
     "output_type": "stream",
     "text": [
      "[I 2025-08-23 01:50:08,113] Trial 24 finished with value: 337.6307738932865 and parameters: {'changepoint_prior_scale': 0.02418455228964102, 'seasonality_prior_scale': 1.8018668250787295, 'holidays_prior_scale': 0.38655467834282775}. Best is trial 1 with value: 335.58760776624166.\n"
     ]
    },
    {
     "name": "stderr",
     "output_type": "stream",
     "text": [
      "01:50:08 - cmdstanpy - INFO - Chain [1] start processing\n",
      "01:50:08 - cmdstanpy - INFO - Chain [1] done processing\n",
      "01:50:09 - cmdstanpy - INFO - Chain [1] start processing\n",
      "01:50:09 - cmdstanpy - INFO - Chain [1] done processing\n",
      "01:50:09 - cmdstanpy - INFO - Chain [1] start processing\n",
      "01:50:10 - cmdstanpy - INFO - Chain [1] start processing\n",
      "01:50:10 - cmdstanpy - INFO - Chain [1] start processing\n",
      "01:50:10 - cmdstanpy - INFO - Chain [1] done processing\n",
      "01:50:10 - cmdstanpy - INFO - Chain [1] start processing\n",
      "01:50:10 - cmdstanpy - INFO - Chain [1] start processing\n",
      "01:50:10 - cmdstanpy - INFO - Chain [1] start processing\n",
      "01:50:10 - cmdstanpy - INFO - Chain [1] start processing\n",
      "01:50:10 - cmdstanpy - INFO - Chain [1] start processing\n",
      "01:50:10 - cmdstanpy - INFO - Chain [1] done processing\n",
      "01:50:10 - cmdstanpy - INFO - Chain [1] start processing\n",
      "01:50:10 - cmdstanpy - INFO - Chain [1] done processing\n",
      "01:50:10 - cmdstanpy - INFO - Chain [1] done processing\n",
      "01:50:10 - cmdstanpy - INFO - Chain [1] done processing\n",
      "01:50:10 - cmdstanpy - INFO - Chain [1] done processing\n",
      "01:50:10 - cmdstanpy - INFO - Chain [1] done processing\n",
      "01:50:10 - cmdstanpy - INFO - Chain [1] done processing\n",
      "01:50:10 - cmdstanpy - INFO - Chain [1] done processing\n"
     ]
    },
    {
     "name": "stdout",
     "output_type": "stream",
     "text": [
      "[I 2025-08-23 01:50:11,316] Trial 25 finished with value: 336.31504925633703 and parameters: {'changepoint_prior_scale': 0.10532070269953252, 'seasonality_prior_scale': 3.5982369255345334, 'holidays_prior_scale': 0.1101357288975701}. Best is trial 1 with value: 335.58760776624166.\n"
     ]
    },
    {
     "name": "stderr",
     "output_type": "stream",
     "text": [
      "01:50:11 - cmdstanpy - INFO - Chain [1] start processing\n",
      "01:50:11 - cmdstanpy - INFO - Chain [1] done processing\n",
      "01:50:13 - cmdstanpy - INFO - Chain [1] start processing\n",
      "01:50:13 - cmdstanpy - INFO - Chain [1] start processing\n",
      "01:50:13 - cmdstanpy - INFO - Chain [1] start processing\n",
      "01:50:13 - cmdstanpy - INFO - Chain [1] start processing\n",
      "01:50:13 - cmdstanpy - INFO - Chain [1] start processing\n",
      "01:50:13 - cmdstanpy - INFO - Chain [1] start processing\n",
      "01:50:13 - cmdstanpy - INFO - Chain [1] start processing\n",
      "01:50:13 - cmdstanpy - INFO - Chain [1] start processing\n",
      "01:50:13 - cmdstanpy - INFO - Chain [1] done processing\n",
      "01:50:13 - cmdstanpy - INFO - Chain [1] start processing\n",
      "01:50:13 - cmdstanpy - INFO - Chain [1] done processing\n",
      "01:50:13 - cmdstanpy - INFO - Chain [1] start processing\n",
      "01:50:13 - cmdstanpy - INFO - Chain [1] done processing\n",
      "01:50:13 - cmdstanpy - INFO - Chain [1] done processing\n",
      "01:50:14 - cmdstanpy - INFO - Chain [1] done processing\n",
      "01:50:14 - cmdstanpy - INFO - Chain [1] done processing\n",
      "01:50:14 - cmdstanpy - INFO - Chain [1] done processing\n",
      "01:50:14 - cmdstanpy - INFO - Chain [1] done processing\n",
      "01:50:14 - cmdstanpy - INFO - Chain [1] done processing\n",
      "01:50:14 - cmdstanpy - INFO - Chain [1] done processing\n"
     ]
    },
    {
     "name": "stdout",
     "output_type": "stream",
     "text": [
      "[I 2025-08-23 01:50:14,832] Trial 26 finished with value: 338.65924190931327 and parameters: {'changepoint_prior_scale': 0.459794720864109, 'seasonality_prior_scale': 4.26104376832754, 'holidays_prior_scale': 0.42945949290558033}. Best is trial 1 with value: 335.58760776624166.\n"
     ]
    },
    {
     "name": "stderr",
     "output_type": "stream",
     "text": [
      "01:50:15 - cmdstanpy - INFO - Chain [1] start processing\n",
      "01:50:15 - cmdstanpy - INFO - Chain [1] done processing\n",
      "01:50:16 - cmdstanpy - INFO - Chain [1] start processing\n",
      "01:50:16 - cmdstanpy - INFO - Chain [1] start processing\n",
      "01:50:16 - cmdstanpy - INFO - Chain [1] start processing\n",
      "01:50:16 - cmdstanpy - INFO - Chain [1] start processing\n",
      "01:50:16 - cmdstanpy - INFO - Chain [1] start processing\n",
      "01:50:16 - cmdstanpy - INFO - Chain [1] start processing\n",
      "01:50:16 - cmdstanpy - INFO - Chain [1] start processing\n",
      "01:50:16 - cmdstanpy - INFO - Chain [1] start processing\n",
      "01:50:16 - cmdstanpy - INFO - Chain [1] start processing\n",
      "01:50:16 - cmdstanpy - INFO - Chain [1] start processing\n",
      "01:50:17 - cmdstanpy - INFO - Chain [1] done processing\n",
      "01:50:17 - cmdstanpy - INFO - Chain [1] done processing\n",
      "01:50:17 - cmdstanpy - INFO - Chain [1] done processing\n",
      "01:50:17 - cmdstanpy - INFO - Chain [1] done processing\n",
      "01:50:17 - cmdstanpy - INFO - Chain [1] done processing\n",
      "01:50:17 - cmdstanpy - INFO - Chain [1] done processing\n",
      "01:50:17 - cmdstanpy - INFO - Chain [1] done processing\n",
      "01:50:17 - cmdstanpy - INFO - Chain [1] done processing\n",
      "01:50:17 - cmdstanpy - INFO - Chain [1] done processing\n",
      "01:50:17 - cmdstanpy - INFO - Chain [1] done processing\n"
     ]
    },
    {
     "name": "stdout",
     "output_type": "stream",
     "text": [
      "[I 2025-08-23 01:50:18,195] Trial 27 finished with value: 336.93226990189095 and parameters: {'changepoint_prior_scale': 0.2256644803243896, 'seasonality_prior_scale': 0.6340674997248629, 'holidays_prior_scale': 0.12888943822741322}. Best is trial 1 with value: 335.58760776624166.\n"
     ]
    },
    {
     "name": "stderr",
     "output_type": "stream",
     "text": [
      "01:50:18 - cmdstanpy - INFO - Chain [1] start processing\n",
      "01:50:18 - cmdstanpy - INFO - Chain [1] done processing\n",
      "01:50:19 - cmdstanpy - INFO - Chain [1] start processing\n",
      "01:50:19 - cmdstanpy - INFO - Chain [1] done processing\n",
      "01:50:20 - cmdstanpy - INFO - Chain [1] start processing\n",
      "01:50:20 - cmdstanpy - INFO - Chain [1] start processing\n",
      "01:50:20 - cmdstanpy - INFO - Chain [1] start processing\n",
      "01:50:20 - cmdstanpy - INFO - Chain [1] start processing\n",
      "01:50:20 - cmdstanpy - INFO - Chain [1] start processing\n",
      "01:50:20 - cmdstanpy - INFO - Chain [1] start processing\n",
      "01:50:20 - cmdstanpy - INFO - Chain [1] start processing\n",
      "01:50:20 - cmdstanpy - INFO - Chain [1] start processing\n",
      "01:50:20 - cmdstanpy - INFO - Chain [1] start processing\n",
      "01:50:20 - cmdstanpy - INFO - Chain [1] done processing\n",
      "01:50:21 - cmdstanpy - INFO - Chain [1] done processing\n",
      "01:50:21 - cmdstanpy - INFO - Chain [1] done processing\n",
      "01:50:21 - cmdstanpy - INFO - Chain [1] done processing\n",
      "01:50:21 - cmdstanpy - INFO - Chain [1] done processing\n",
      "01:50:21 - cmdstanpy - INFO - Chain [1] done processing\n",
      "01:50:21 - cmdstanpy - INFO - Chain [1] done processing\n",
      "01:50:21 - cmdstanpy - INFO - Chain [1] done processing\n",
      "01:50:21 - cmdstanpy - INFO - Chain [1] done processing\n"
     ]
    },
    {
     "name": "stdout",
     "output_type": "stream",
     "text": [
      "[I 2025-08-23 01:50:22,056] Trial 28 finished with value: 335.6377207738589 and parameters: {'changepoint_prior_scale': 0.005205597500491155, 'seasonality_prior_scale': 0.8150924587656203, 'holidays_prior_scale': 1.3011520417957947}. Best is trial 1 with value: 335.58760776624166.\n"
     ]
    },
    {
     "name": "stderr",
     "output_type": "stream",
     "text": [
      "01:50:22 - cmdstanpy - INFO - Chain [1] start processing\n",
      "01:50:22 - cmdstanpy - INFO - Chain [1] done processing\n",
      "01:50:23 - cmdstanpy - INFO - Chain [1] start processing\n",
      "01:50:24 - cmdstanpy - INFO - Chain [1] start processing\n",
      "01:50:24 - cmdstanpy - INFO - Chain [1] start processing\n",
      "01:50:24 - cmdstanpy - INFO - Chain [1] done processing\n",
      "01:50:24 - cmdstanpy - INFO - Chain [1] start processing\n",
      "01:50:24 - cmdstanpy - INFO - Chain [1] start processing\n",
      "01:50:24 - cmdstanpy - INFO - Chain [1] start processing\n",
      "01:50:24 - cmdstanpy - INFO - Chain [1] start processing\n",
      "01:50:24 - cmdstanpy - INFO - Chain [1] start processing\n",
      "01:50:24 - cmdstanpy - INFO - Chain [1] start processing\n",
      "01:50:24 - cmdstanpy - INFO - Chain [1] start processing\n",
      "01:50:24 - cmdstanpy - INFO - Chain [1] done processing\n",
      "01:50:24 - cmdstanpy - INFO - Chain [1] done processing\n",
      "01:50:24 - cmdstanpy - INFO - Chain [1] done processing\n",
      "01:50:24 - cmdstanpy - INFO - Chain [1] done processing\n",
      "01:50:24 - cmdstanpy - INFO - Chain [1] done processing\n",
      "01:50:24 - cmdstanpy - INFO - Chain [1] done processing\n",
      "01:50:24 - cmdstanpy - INFO - Chain [1] done processing\n",
      "01:50:24 - cmdstanpy - INFO - Chain [1] done processing\n",
      "01:50:24 - cmdstanpy - INFO - Chain [1] done processing\n"
     ]
    },
    {
     "name": "stdout",
     "output_type": "stream",
     "text": [
      "[I 2025-08-23 01:50:25,357] Trial 29 finished with value: 336.898541580074 and parameters: {'changepoint_prior_scale': 0.0038350575829612346, 'seasonality_prior_scale': 0.8136114429932942, 'holidays_prior_scale': 1.584625308595643}. Best is trial 1 with value: 335.58760776624166.\n"
     ]
    },
    {
     "name": "stderr",
     "output_type": "stream",
     "text": [
      "01:50:25 - cmdstanpy - INFO - Chain [1] start processing\n",
      "01:50:25 - cmdstanpy - INFO - Chain [1] done processing\n",
      "01:50:26 - cmdstanpy - INFO - Chain [1] start processing\n",
      "01:50:26 - cmdstanpy - INFO - Chain [1] done processing\n",
      "01:50:27 - cmdstanpy - INFO - Chain [1] start processing\n",
      "01:50:27 - cmdstanpy - INFO - Chain [1] start processing\n",
      "01:50:27 - cmdstanpy - INFO - Chain [1] done processing\n",
      "01:50:27 - cmdstanpy - INFO - Chain [1] done processing\n",
      "01:50:27 - cmdstanpy - INFO - Chain [1] start processing\n",
      "01:50:27 - cmdstanpy - INFO - Chain [1] start processing\n",
      "01:50:27 - cmdstanpy - INFO - Chain [1] start processing\n",
      "01:50:27 - cmdstanpy - INFO - Chain [1] start processing\n",
      "01:50:27 - cmdstanpy - INFO - Chain [1] start processing\n",
      "01:50:27 - cmdstanpy - INFO - Chain [1] start processing\n",
      "01:50:27 - cmdstanpy - INFO - Chain [1] start processing\n",
      "01:50:27 - cmdstanpy - INFO - Chain [1] done processing\n",
      "01:50:28 - cmdstanpy - INFO - Chain [1] done processing\n",
      "01:50:28 - cmdstanpy - INFO - Chain [1] done processing\n",
      "01:50:28 - cmdstanpy - INFO - Chain [1] done processing\n",
      "01:50:28 - cmdstanpy - INFO - Chain [1] done processing\n",
      "01:50:28 - cmdstanpy - INFO - Chain [1] done processing\n",
      "01:50:28 - cmdstanpy - INFO - Chain [1] done processing\n"
     ]
    },
    {
     "name": "stdout",
     "output_type": "stream",
     "text": [
      "[I 2025-08-23 01:50:28,684] Trial 30 finished with value: 337.54064054279115 and parameters: {'changepoint_prior_scale': 0.0018891178506615502, 'seasonality_prior_scale': 0.20335908411535858, 'holidays_prior_scale': 14.877237679440048}. Best is trial 1 with value: 335.58760776624166.\n"
     ]
    },
    {
     "name": "stderr",
     "output_type": "stream",
     "text": [
      "01:50:28 - cmdstanpy - INFO - Chain [1] start processing\n",
      "01:50:29 - cmdstanpy - INFO - Chain [1] done processing\n",
      "01:50:30 - cmdstanpy - INFO - Chain [1] start processing\n",
      "01:50:30 - cmdstanpy - INFO - Chain [1] start processing\n",
      "01:50:30 - cmdstanpy - INFO - Chain [1] start processing\n",
      "01:50:30 - cmdstanpy - INFO - Chain [1] done processing\n",
      "01:50:30 - cmdstanpy - INFO - Chain [1] done processing\n",
      "01:50:31 - cmdstanpy - INFO - Chain [1] start processing\n",
      "01:50:31 - cmdstanpy - INFO - Chain [1] done processing\n",
      "01:50:31 - cmdstanpy - INFO - Chain [1] start processing\n",
      "01:50:31 - cmdstanpy - INFO - Chain [1] start processing\n",
      "01:50:31 - cmdstanpy - INFO - Chain [1] start processing\n",
      "01:50:31 - cmdstanpy - INFO - Chain [1] start processing\n",
      "01:50:31 - cmdstanpy - INFO - Chain [1] start processing\n",
      "01:50:31 - cmdstanpy - INFO - Chain [1] start processing\n",
      "01:50:31 - cmdstanpy - INFO - Chain [1] done processing\n",
      "01:50:31 - cmdstanpy - INFO - Chain [1] done processing\n",
      "01:50:31 - cmdstanpy - INFO - Chain [1] done processing\n",
      "01:50:31 - cmdstanpy - INFO - Chain [1] done processing\n",
      "01:50:31 - cmdstanpy - INFO - Chain [1] done processing\n",
      "01:50:31 - cmdstanpy - INFO - Chain [1] done processing\n",
      "01:50:31 - cmdstanpy - INFO - Chain [1] done processing\n"
     ]
    },
    {
     "name": "stdout",
     "output_type": "stream",
     "text": [
      "[I 2025-08-23 01:50:32,191] Trial 31 finished with value: 336.26942973141786 and parameters: {'changepoint_prior_scale': 0.06490567820571173, 'seasonality_prior_scale': 3.4580726694186783, 'holidays_prior_scale': 1.114188155253808}. Best is trial 1 with value: 335.58760776624166.\n"
     ]
    },
    {
     "name": "stderr",
     "output_type": "stream",
     "text": [
      "01:50:32 - cmdstanpy - INFO - Chain [1] start processing\n",
      "01:50:32 - cmdstanpy - INFO - Chain [1] done processing\n",
      "01:50:34 - cmdstanpy - INFO - Chain [1] start processing\n",
      "01:50:34 - cmdstanpy - INFO - Chain [1] start processing\n",
      "01:50:34 - cmdstanpy - INFO - Chain [1] start processing\n",
      "01:50:34 - cmdstanpy - INFO - Chain [1] start processing\n",
      "01:50:34 - cmdstanpy - INFO - Chain [1] done processing\n",
      "01:50:34 - cmdstanpy - INFO - Chain [1] start processing\n",
      "01:50:34 - cmdstanpy - INFO - Chain [1] start processing\n",
      "01:50:34 - cmdstanpy - INFO - Chain [1] start processing\n",
      "01:50:34 - cmdstanpy - INFO - Chain [1] start processing\n",
      "01:50:34 - cmdstanpy - INFO - Chain [1] start processing\n",
      "01:50:34 - cmdstanpy - INFO - Chain [1] start processing\n",
      "01:50:34 - cmdstanpy - INFO - Chain [1] done processing\n",
      "01:50:34 - cmdstanpy - INFO - Chain [1] done processing\n",
      "01:50:34 - cmdstanpy - INFO - Chain [1] done processing\n",
      "01:50:34 - cmdstanpy - INFO - Chain [1] done processing\n",
      "01:50:34 - cmdstanpy - INFO - Chain [1] done processing\n",
      "01:50:34 - cmdstanpy - INFO - Chain [1] done processing\n",
      "01:50:34 - cmdstanpy - INFO - Chain [1] done processing\n",
      "01:50:34 - cmdstanpy - INFO - Chain [1] done processing\n",
      "01:50:34 - cmdstanpy - INFO - Chain [1] done processing\n"
     ]
    },
    {
     "name": "stdout",
     "output_type": "stream",
     "text": [
      "[I 2025-08-23 01:50:35,512] Trial 32 finished with value: 336.2123797809111 and parameters: {'changepoint_prior_scale': 0.08073841556444769, 'seasonality_prior_scale': 0.5489273745334445, 'holidays_prior_scale': 1.2126710613977854}. Best is trial 1 with value: 335.58760776624166.\n"
     ]
    },
    {
     "name": "stderr",
     "output_type": "stream",
     "text": [
      "01:50:35 - cmdstanpy - INFO - Chain [1] start processing\n",
      "01:50:35 - cmdstanpy - INFO - Chain [1] done processing\n",
      "01:50:36 - cmdstanpy - INFO - Chain [1] start processing\n",
      "01:50:36 - cmdstanpy - INFO - Chain [1] done processing\n",
      "01:50:37 - cmdstanpy - INFO - Chain [1] start processing\n",
      "01:50:37 - cmdstanpy - INFO - Chain [1] start processing\n",
      "01:50:37 - cmdstanpy - INFO - Chain [1] start processing\n",
      "01:50:37 - cmdstanpy - INFO - Chain [1] start processing\n",
      "01:50:37 - cmdstanpy - INFO - Chain [1] start processing\n",
      "01:50:37 - cmdstanpy - INFO - Chain [1] start processing\n",
      "01:50:37 - cmdstanpy - INFO - Chain [1] start processing\n",
      "01:50:37 - cmdstanpy - INFO - Chain [1] start processing\n",
      "01:50:37 - cmdstanpy - INFO - Chain [1] start processing\n",
      "01:50:37 - cmdstanpy - INFO - Chain [1] done processing\n",
      "01:50:38 - cmdstanpy - INFO - Chain [1] done processing\n",
      "01:50:38 - cmdstanpy - INFO - Chain [1] done processing\n",
      "01:50:38 - cmdstanpy - INFO - Chain [1] done processing\n",
      "01:50:38 - cmdstanpy - INFO - Chain [1] done processing\n",
      "01:50:38 - cmdstanpy - INFO - Chain [1] done processing\n",
      "01:50:38 - cmdstanpy - INFO - Chain [1] done processing\n",
      "01:50:38 - cmdstanpy - INFO - Chain [1] done processing\n",
      "01:50:38 - cmdstanpy - INFO - Chain [1] done processing\n"
     ]
    },
    {
     "name": "stdout",
     "output_type": "stream",
     "text": [
      "[I 2025-08-23 01:50:38,852] Trial 33 finished with value: 336.8302573660981 and parameters: {'changepoint_prior_scale': 0.0621435327304269, 'seasonality_prior_scale': 0.06220389295440991, 'holidays_prior_scale': 3.0843320242298082}. Best is trial 1 with value: 335.58760776624166.\n"
     ]
    },
    {
     "name": "stderr",
     "output_type": "stream",
     "text": [
      "01:50:39 - cmdstanpy - INFO - Chain [1] start processing\n",
      "01:50:39 - cmdstanpy - INFO - Chain [1] done processing\n",
      "01:50:39 - cmdstanpy - INFO - Chain [1] start processing\n",
      "01:50:40 - cmdstanpy - INFO - Chain [1] done processing\n",
      "01:50:40 - cmdstanpy - INFO - Chain [1] start processing\n",
      "01:50:40 - cmdstanpy - INFO - Chain [1] done processing\n",
      "01:50:40 - cmdstanpy - INFO - Chain [1] start processing\n",
      "01:50:40 - cmdstanpy - INFO - Chain [1] start processing\n",
      "01:50:40 - cmdstanpy - INFO - Chain [1] start processing\n",
      "01:50:41 - cmdstanpy - INFO - Chain [1] start processing\n",
      "01:50:41 - cmdstanpy - INFO - Chain [1] start processing\n",
      "01:50:41 - cmdstanpy - INFO - Chain [1] start processing\n",
      "01:50:41 - cmdstanpy - INFO - Chain [1] done processing\n",
      "01:50:41 - cmdstanpy - INFO - Chain [1] done processing\n",
      "01:50:41 - cmdstanpy - INFO - Chain [1] start processing\n",
      "01:50:41 - cmdstanpy - INFO - Chain [1] start processing\n",
      "01:50:41 - cmdstanpy - INFO - Chain [1] done processing\n",
      "01:50:41 - cmdstanpy - INFO - Chain [1] done processing\n",
      "01:50:41 - cmdstanpy - INFO - Chain [1] done processing\n",
      "01:50:41 - cmdstanpy - INFO - Chain [1] done processing\n",
      "01:50:41 - cmdstanpy - INFO - Chain [1] done processing\n",
      "01:50:41 - cmdstanpy - INFO - Chain [1] done processing\n"
     ]
    },
    {
     "name": "stdout",
     "output_type": "stream",
     "text": [
      "[I 2025-08-23 01:50:42,019] Trial 34 finished with value: 335.14888169724026 and parameters: {'changepoint_prior_scale': 0.004949355822629693, 'seasonality_prior_scale': 0.5156602441130305, 'holidays_prior_scale': 1.351389629958874}. Best is trial 34 with value: 335.14888169724026.\n"
     ]
    },
    {
     "name": "stderr",
     "output_type": "stream",
     "text": [
      "01:50:42 - cmdstanpy - INFO - Chain [1] start processing\n",
      "01:50:42 - cmdstanpy - INFO - Chain [1] done processing\n",
      "01:50:43 - cmdstanpy - INFO - Chain [1] start processing\n",
      "01:50:43 - cmdstanpy - INFO - Chain [1] done processing\n",
      "01:50:43 - cmdstanpy - INFO - Chain [1] start processing\n",
      "01:50:43 - cmdstanpy - INFO - Chain [1] start processing\n",
      "01:50:43 - cmdstanpy - INFO - Chain [1] start processing\n",
      "01:50:43 - cmdstanpy - INFO - Chain [1] start processing\n",
      "01:50:44 - cmdstanpy - INFO - Chain [1] start processing\n",
      "01:50:44 - cmdstanpy - INFO - Chain [1] start processing\n",
      "01:50:44 - cmdstanpy - INFO - Chain [1] start processing\n",
      "01:50:44 - cmdstanpy - INFO - Chain [1] start processing\n",
      "01:50:44 - cmdstanpy - INFO - Chain [1] done processing\n",
      "01:50:44 - cmdstanpy - INFO - Chain [1] start processing\n",
      "01:50:44 - cmdstanpy - INFO - Chain [1] done processing\n",
      "01:50:44 - cmdstanpy - INFO - Chain [1] done processing\n",
      "01:50:44 - cmdstanpy - INFO - Chain [1] done processing\n",
      "01:50:44 - cmdstanpy - INFO - Chain [1] done processing\n",
      "01:50:44 - cmdstanpy - INFO - Chain [1] done processing\n",
      "01:50:44 - cmdstanpy - INFO - Chain [1] done processing\n",
      "01:50:44 - cmdstanpy - INFO - Chain [1] done processing\n",
      "01:50:44 - cmdstanpy - INFO - Chain [1] done processing\n"
     ]
    },
    {
     "name": "stdout",
     "output_type": "stream",
     "text": [
      "[I 2025-08-23 01:50:45,089] Trial 35 finished with value: 335.3324715307067 and parameters: {'changepoint_prior_scale': 0.005666951951380991, 'seasonality_prior_scale': 0.4580289234319892, 'holidays_prior_scale': 0.7858596977996288}. Best is trial 34 with value: 335.14888169724026.\n"
     ]
    },
    {
     "name": "stderr",
     "output_type": "stream",
     "text": [
      "01:50:45 - cmdstanpy - INFO - Chain [1] start processing\n",
      "01:50:45 - cmdstanpy - INFO - Chain [1] done processing\n",
      "01:50:46 - cmdstanpy - INFO - Chain [1] start processing\n",
      "01:50:47 - cmdstanpy - INFO - Chain [1] done processing\n",
      "01:50:47 - cmdstanpy - INFO - Chain [1] start processing\n",
      "01:50:47 - cmdstanpy - INFO - Chain [1] start processing\n",
      "01:50:47 - cmdstanpy - INFO - Chain [1] start processing\n",
      "01:50:47 - cmdstanpy - INFO - Chain [1] start processing\n",
      "01:50:47 - cmdstanpy - INFO - Chain [1] start processing\n",
      "01:50:47 - cmdstanpy - INFO - Chain [1] start processing\n",
      "01:50:47 - cmdstanpy - INFO - Chain [1] start processing\n",
      "01:50:47 - cmdstanpy - INFO - Chain [1] start processing\n",
      "01:50:47 - cmdstanpy - INFO - Chain [1] start processing\n",
      "01:50:47 - cmdstanpy - INFO - Chain [1] done processing\n",
      "01:50:47 - cmdstanpy - INFO - Chain [1] done processing\n",
      "01:50:47 - cmdstanpy - INFO - Chain [1] done processing\n",
      "01:50:47 - cmdstanpy - INFO - Chain [1] done processing\n",
      "01:50:47 - cmdstanpy - INFO - Chain [1] done processing\n",
      "01:50:47 - cmdstanpy - INFO - Chain [1] done processing\n",
      "01:50:47 - cmdstanpy - INFO - Chain [1] done processing\n",
      "01:50:47 - cmdstanpy - INFO - Chain [1] done processing\n",
      "01:50:47 - cmdstanpy - INFO - Chain [1] done processing\n",
      "01:50:48 - cmdstanpy - INFO - Chain [1] start processing\n"
     ]
    },
    {
     "name": "stdout",
     "output_type": "stream",
     "text": [
      "[I 2025-08-23 01:50:48,251] Trial 36 finished with value: 337.8690023813492 and parameters: {'changepoint_prior_scale': 0.0029210929378097822, 'seasonality_prior_scale': 1.2496216057862863, 'holidays_prior_scale': 0.6915481193790576}. Best is trial 34 with value: 335.14888169724026.\n"
     ]
    },
    {
     "name": "stderr",
     "output_type": "stream",
     "text": [
      "01:50:48 - cmdstanpy - INFO - Chain [1] done processing\n",
      "01:50:49 - cmdstanpy - INFO - Chain [1] start processing\n",
      "01:50:49 - cmdstanpy - INFO - Chain [1] done processing\n",
      "01:50:49 - cmdstanpy - INFO - Chain [1] start processing\n",
      "01:50:49 - cmdstanpy - INFO - Chain [1] start processing\n",
      "01:50:49 - cmdstanpy - INFO - Chain [1] start processing\n",
      "01:50:50 - cmdstanpy - INFO - Chain [1] start processing\n",
      "01:50:50 - cmdstanpy - INFO - Chain [1] done processing\n",
      "01:50:50 - cmdstanpy - INFO - Chain [1] start processing\n",
      "01:50:50 - cmdstanpy - INFO - Chain [1] start processing\n",
      "01:50:50 - cmdstanpy - INFO - Chain [1] done processing\n",
      "01:50:50 - cmdstanpy - INFO - Chain [1] done processing\n",
      "01:50:50 - cmdstanpy - INFO - Chain [1] done processing\n",
      "01:50:50 - cmdstanpy - INFO - Chain [1] done processing\n",
      "01:50:50 - cmdstanpy - INFO - Chain [1] start processing\n",
      "01:50:50 - cmdstanpy - INFO - Chain [1] start processing\n",
      "01:50:50 - cmdstanpy - INFO - Chain [1] done processing\n",
      "01:50:50 - cmdstanpy - INFO - Chain [1] start processing\n",
      "01:50:50 - cmdstanpy - INFO - Chain [1] done processing\n",
      "01:50:50 - cmdstanpy - INFO - Chain [1] done processing\n",
      "01:50:50 - cmdstanpy - INFO - Chain [1] done processing\n"
     ]
    },
    {
     "name": "stdout",
     "output_type": "stream",
     "text": [
      "[I 2025-08-23 01:50:51,213] Trial 37 finished with value: 335.3084881514401 and parameters: {'changepoint_prior_scale': 0.006326560254696758, 'seasonality_prior_scale': 0.2325823710490332, 'holidays_prior_scale': 2.3069811428324183}. Best is trial 34 with value: 335.14888169724026.\n"
     ]
    },
    {
     "name": "stderr",
     "output_type": "stream",
     "text": [
      "01:50:51 - cmdstanpy - INFO - Chain [1] start processing\n",
      "01:50:51 - cmdstanpy - INFO - Chain [1] done processing\n",
      "01:50:52 - cmdstanpy - INFO - Chain [1] start processing\n",
      "01:50:52 - cmdstanpy - INFO - Chain [1] done processing\n",
      "01:50:53 - cmdstanpy - INFO - Chain [1] start processing\n",
      "01:50:53 - cmdstanpy - INFO - Chain [1] done processing\n",
      "01:50:53 - cmdstanpy - INFO - Chain [1] start processing\n",
      "01:50:53 - cmdstanpy - INFO - Chain [1] start processing\n",
      "01:50:53 - cmdstanpy - INFO - Chain [1] start processing\n",
      "01:50:53 - cmdstanpy - INFO - Chain [1] start processing\n",
      "01:50:53 - cmdstanpy - INFO - Chain [1] start processing\n",
      "01:50:53 - cmdstanpy - INFO - Chain [1] start processing\n",
      "01:50:53 - cmdstanpy - INFO - Chain [1] start processing\n",
      "01:50:53 - cmdstanpy - INFO - Chain [1] start processing\n",
      "01:50:53 - cmdstanpy - INFO - Chain [1] done processing\n",
      "01:50:53 - cmdstanpy - INFO - Chain [1] done processing\n",
      "01:50:53 - cmdstanpy - INFO - Chain [1] done processing\n",
      "01:50:53 - cmdstanpy - INFO - Chain [1] done processing\n",
      "01:50:53 - cmdstanpy - INFO - Chain [1] done processing\n",
      "01:50:53 - cmdstanpy - INFO - Chain [1] done processing\n",
      "01:50:53 - cmdstanpy - INFO - Chain [1] done processing\n",
      "01:50:53 - cmdstanpy - INFO - Chain [1] done processing\n"
     ]
    },
    {
     "name": "stdout",
     "output_type": "stream",
     "text": [
      "[I 2025-08-23 01:50:54,453] Trial 38 finished with value: 356.2886476921816 and parameters: {'changepoint_prior_scale': 0.0010315066491548037, 'seasonality_prior_scale': 0.22685214335297563, 'holidays_prior_scale': 2.402996884432056}. Best is trial 34 with value: 335.14888169724026.\n"
     ]
    },
    {
     "name": "stderr",
     "output_type": "stream",
     "text": [
      "01:50:54 - cmdstanpy - INFO - Chain [1] start processing\n",
      "01:50:54 - cmdstanpy - INFO - Chain [1] done processing\n",
      "01:50:55 - cmdstanpy - INFO - Chain [1] start processing\n",
      "01:50:55 - cmdstanpy - INFO - Chain [1] done processing\n",
      "01:50:56 - cmdstanpy - INFO - Chain [1] start processing\n",
      "01:50:56 - cmdstanpy - INFO - Chain [1] start processing\n",
      "01:50:56 - cmdstanpy - INFO - Chain [1] start processing\n",
      "01:50:56 - cmdstanpy - INFO - Chain [1] start processing\n",
      "01:50:56 - cmdstanpy - INFO - Chain [1] start processing\n",
      "01:50:56 - cmdstanpy - INFO - Chain [1] start processing\n",
      "01:50:56 - cmdstanpy - INFO - Chain [1] start processing\n",
      "01:50:56 - cmdstanpy - INFO - Chain [1] done processing\n",
      "01:50:56 - cmdstanpy - INFO - Chain [1] start processing\n",
      "01:50:56 - cmdstanpy - INFO - Chain [1] start processing\n",
      "01:50:56 - cmdstanpy - INFO - Chain [1] done processing\n",
      "01:50:56 - cmdstanpy - INFO - Chain [1] done processing\n",
      "01:50:56 - cmdstanpy - INFO - Chain [1] done processing\n",
      "01:50:56 - cmdstanpy - INFO - Chain [1] done processing\n",
      "01:50:56 - cmdstanpy - INFO - Chain [1] done processing\n",
      "01:50:56 - cmdstanpy - INFO - Chain [1] done processing\n",
      "01:50:56 - cmdstanpy - INFO - Chain [1] done processing\n",
      "01:50:56 - cmdstanpy - INFO - Chain [1] done processing\n"
     ]
    },
    {
     "name": "stdout",
     "output_type": "stream",
     "text": [
      "[I 2025-08-23 01:50:57,548] Trial 39 finished with value: 336.42824713883243 and parameters: {'changepoint_prior_scale': 0.008563224582673546, 'seasonality_prior_scale': 0.029615686212491072, 'holidays_prior_scale': 0.7470674605684696}. Best is trial 34 with value: 335.14888169724026.\n"
     ]
    },
    {
     "name": "stderr",
     "output_type": "stream",
     "text": [
      "01:50:57 - cmdstanpy - INFO - Chain [1] start processing\n",
      "01:50:57 - cmdstanpy - INFO - Chain [1] done processing\n",
      "01:50:58 - cmdstanpy - INFO - Chain [1] start processing\n",
      "01:50:58 - cmdstanpy - INFO - Chain [1] done processing\n",
      "01:50:59 - cmdstanpy - INFO - Chain [1] start processing\n",
      "01:50:59 - cmdstanpy - INFO - Chain [1] start processing\n",
      "01:50:59 - cmdstanpy - INFO - Chain [1] start processing\n",
      "01:50:59 - cmdstanpy - INFO - Chain [1] start processing\n",
      "01:50:59 - cmdstanpy - INFO - Chain [1] start processing\n",
      "01:50:59 - cmdstanpy - INFO - Chain [1] start processing\n",
      "01:50:59 - cmdstanpy - INFO - Chain [1] start processing\n",
      "01:50:59 - cmdstanpy - INFO - Chain [1] start processing\n",
      "01:50:59 - cmdstanpy - INFO - Chain [1] start processing\n",
      "01:50:59 - cmdstanpy - INFO - Chain [1] done processing\n",
      "01:50:59 - cmdstanpy - INFO - Chain [1] done processing\n",
      "01:50:59 - cmdstanpy - INFO - Chain [1] done processing\n",
      "01:50:59 - cmdstanpy - INFO - Chain [1] done processing\n",
      "01:50:59 - cmdstanpy - INFO - Chain [1] done processing\n",
      "01:50:59 - cmdstanpy - INFO - Chain [1] done processing\n",
      "01:50:59 - cmdstanpy - INFO - Chain [1] done processing\n",
      "01:50:59 - cmdstanpy - INFO - Chain [1] done processing\n",
      "01:50:59 - cmdstanpy - INFO - Chain [1] done processing\n",
      "01:51:00 - cmdstanpy - INFO - Chain [1] start processing\n"
     ]
    },
    {
     "name": "stdout",
     "output_type": "stream",
     "text": [
      "[I 2025-08-23 01:51:00,579] Trial 40 finished with value: 351.6462504455511 and parameters: {'changepoint_prior_scale': 0.002600708295227928, 'seasonality_prior_scale': 0.39893804075574385, 'holidays_prior_scale': 8.60437540793884}. Best is trial 34 with value: 335.14888169724026.\n"
     ]
    },
    {
     "name": "stderr",
     "output_type": "stream",
     "text": [
      "01:51:00 - cmdstanpy - INFO - Chain [1] done processing\n",
      "01:51:01 - cmdstanpy - INFO - Chain [1] start processing\n",
      "01:51:01 - cmdstanpy - INFO - Chain [1] start processing\n",
      "01:51:01 - cmdstanpy - INFO - Chain [1] done processing\n",
      "01:51:01 - cmdstanpy - INFO - Chain [1] done processing\n",
      "01:51:02 - cmdstanpy - INFO - Chain [1] start processing\n",
      "01:51:02 - cmdstanpy - INFO - Chain [1] start processing\n",
      "01:51:02 - cmdstanpy - INFO - Chain [1] start processing\n",
      "01:51:02 - cmdstanpy - INFO - Chain [1] start processing\n",
      "01:51:02 - cmdstanpy - INFO - Chain [1] start processing\n",
      "01:51:02 - cmdstanpy - INFO - Chain [1] start processing\n",
      "01:51:02 - cmdstanpy - INFO - Chain [1] start processing\n",
      "01:51:02 - cmdstanpy - INFO - Chain [1] start processing\n",
      "01:51:02 - cmdstanpy - INFO - Chain [1] done processing\n",
      "01:51:02 - cmdstanpy - INFO - Chain [1] done processing\n",
      "01:51:02 - cmdstanpy - INFO - Chain [1] done processing\n",
      "01:51:02 - cmdstanpy - INFO - Chain [1] done processing\n",
      "01:51:02 - cmdstanpy - INFO - Chain [1] done processing\n",
      "01:51:02 - cmdstanpy - INFO - Chain [1] done processing\n",
      "01:51:02 - cmdstanpy - INFO - Chain [1] done processing\n",
      "01:51:02 - cmdstanpy - INFO - Chain [1] done processing\n"
     ]
    },
    {
     "name": "stdout",
     "output_type": "stream",
     "text": [
      "[I 2025-08-23 01:51:03,478] Trial 41 finished with value: 337.74540106431164 and parameters: {'changepoint_prior_scale': 0.005965625363865997, 'seasonality_prior_scale': 0.8332585002595967, 'holidays_prior_scale': 4.047720656093619}. Best is trial 34 with value: 335.14888169724026.\n"
     ]
    },
    {
     "name": "stderr",
     "output_type": "stream",
     "text": [
      "01:51:03 - cmdstanpy - INFO - Chain [1] start processing\n",
      "01:51:03 - cmdstanpy - INFO - Chain [1] done processing\n",
      "01:51:04 - cmdstanpy - INFO - Chain [1] start processing\n",
      "01:51:04 - cmdstanpy - INFO - Chain [1] done processing\n",
      "01:51:05 - cmdstanpy - INFO - Chain [1] start processing\n",
      "01:51:05 - cmdstanpy - INFO - Chain [1] done processing\n",
      "01:51:05 - cmdstanpy - INFO - Chain [1] start processing\n",
      "01:51:05 - cmdstanpy - INFO - Chain [1] start processing\n",
      "01:51:05 - cmdstanpy - INFO - Chain [1] start processing\n",
      "01:51:05 - cmdstanpy - INFO - Chain [1] start processing\n",
      "01:51:05 - cmdstanpy - INFO - Chain [1] start processing\n",
      "01:51:05 - cmdstanpy - INFO - Chain [1] start processing\n",
      "01:51:05 - cmdstanpy - INFO - Chain [1] start processing\n",
      "01:51:05 - cmdstanpy - INFO - Chain [1] start processing\n",
      "01:51:05 - cmdstanpy - INFO - Chain [1] done processing\n",
      "01:51:05 - cmdstanpy - INFO - Chain [1] done processing\n",
      "01:51:05 - cmdstanpy - INFO - Chain [1] done processing\n",
      "01:51:05 - cmdstanpy - INFO - Chain [1] done processing\n",
      "01:51:05 - cmdstanpy - INFO - Chain [1] done processing\n",
      "01:51:05 - cmdstanpy - INFO - Chain [1] done processing\n",
      "01:51:06 - cmdstanpy - INFO - Chain [1] done processing\n",
      "01:51:06 - cmdstanpy - INFO - Chain [1] done processing\n"
     ]
    },
    {
     "name": "stdout",
     "output_type": "stream",
     "text": [
      "[I 2025-08-23 01:51:06,647] Trial 42 finished with value: 335.996099708433 and parameters: {'changepoint_prior_scale': 0.004729984523965657, 'seasonality_prior_scale': 0.12735456490376085, 'holidays_prior_scale': 1.5281402400669348}. Best is trial 34 with value: 335.14888169724026.\n"
     ]
    },
    {
     "name": "stderr",
     "output_type": "stream",
     "text": [
      "01:51:06 - cmdstanpy - INFO - Chain [1] start processing\n",
      "01:51:06 - cmdstanpy - INFO - Chain [1] done processing\n",
      "01:51:07 - cmdstanpy - INFO - Chain [1] start processing\n",
      "01:51:07 - cmdstanpy - INFO - Chain [1] done processing\n",
      "01:51:08 - cmdstanpy - INFO - Chain [1] start processing\n",
      "01:51:08 - cmdstanpy - INFO - Chain [1] start processing\n",
      "01:51:08 - cmdstanpy - INFO - Chain [1] start processing\n",
      "01:51:08 - cmdstanpy - INFO - Chain [1] start processing\n",
      "01:51:08 - cmdstanpy - INFO - Chain [1] start processing\n",
      "01:51:08 - cmdstanpy - INFO - Chain [1] start processing\n",
      "01:51:08 - cmdstanpy - INFO - Chain [1] start processing\n",
      "01:51:08 - cmdstanpy - INFO - Chain [1] start processing\n",
      "01:51:08 - cmdstanpy - INFO - Chain [1] start processing\n",
      "01:51:08 - cmdstanpy - INFO - Chain [1] done processing\n",
      "01:51:08 - cmdstanpy - INFO - Chain [1] done processing\n",
      "01:51:08 - cmdstanpy - INFO - Chain [1] done processing\n",
      "01:51:09 - cmdstanpy - INFO - Chain [1] done processing\n",
      "01:51:09 - cmdstanpy - INFO - Chain [1] done processing\n",
      "01:51:09 - cmdstanpy - INFO - Chain [1] done processing\n",
      "01:51:09 - cmdstanpy - INFO - Chain [1] done processing\n",
      "01:51:09 - cmdstanpy - INFO - Chain [1] done processing\n",
      "01:51:09 - cmdstanpy - INFO - Chain [1] done processing\n"
     ]
    },
    {
     "name": "stdout",
     "output_type": "stream",
     "text": [
      "[I 2025-08-23 01:51:09,763] Trial 43 finished with value: 334.5481835768062 and parameters: {'changepoint_prior_scale': 0.008367822796178134, 'seasonality_prior_scale': 0.2940952815450707, 'holidays_prior_scale': 2.2076456377781017}. Best is trial 43 with value: 334.5481835768062.\n"
     ]
    },
    {
     "name": "stderr",
     "output_type": "stream",
     "text": [
      "01:51:09 - cmdstanpy - INFO - Chain [1] start processing\n",
      "01:51:10 - cmdstanpy - INFO - Chain [1] done processing\n",
      "01:51:10 - cmdstanpy - INFO - Chain [1] start processing\n",
      "01:51:11 - cmdstanpy - INFO - Chain [1] done processing\n",
      "01:51:11 - cmdstanpy - INFO - Chain [1] start processing\n",
      "01:51:11 - cmdstanpy - INFO - Chain [1] start processing\n",
      "01:51:11 - cmdstanpy - INFO - Chain [1] start processing\n",
      "01:51:11 - cmdstanpy - INFO - Chain [1] start processing\n",
      "01:51:11 - cmdstanpy - INFO - Chain [1] start processing\n",
      "01:51:11 - cmdstanpy - INFO - Chain [1] start processing\n",
      "01:51:11 - cmdstanpy - INFO - Chain [1] start processing\n",
      "01:51:11 - cmdstanpy - INFO - Chain [1] start processing\n",
      "01:51:11 - cmdstanpy - INFO - Chain [1] start processing\n",
      "01:51:11 - cmdstanpy - INFO - Chain [1] done processing\n",
      "01:51:12 - cmdstanpy - INFO - Chain [1] done processing\n",
      "01:51:12 - cmdstanpy - INFO - Chain [1] done processing\n",
      "01:51:12 - cmdstanpy - INFO - Chain [1] done processing\n",
      "01:51:12 - cmdstanpy - INFO - Chain [1] done processing\n",
      "01:51:12 - cmdstanpy - INFO - Chain [1] done processing\n",
      "01:51:12 - cmdstanpy - INFO - Chain [1] done processing\n",
      "01:51:12 - cmdstanpy - INFO - Chain [1] done processing\n",
      "01:51:12 - cmdstanpy - INFO - Chain [1] done processing\n"
     ]
    },
    {
     "name": "stdout",
     "output_type": "stream",
     "text": [
      "[I 2025-08-23 01:51:12,699] Trial 44 finished with value: 359.88515792666215 and parameters: {'changepoint_prior_scale': 0.0013528475514783705, 'seasonality_prior_scale': 0.2789402811909801, 'holidays_prior_scale': 5.472277191113372}. Best is trial 43 with value: 334.5481835768062.\n"
     ]
    },
    {
     "name": "stderr",
     "output_type": "stream",
     "text": [
      "01:51:12 - cmdstanpy - INFO - Chain [1] start processing\n",
      "01:51:13 - cmdstanpy - INFO - Chain [1] done processing\n",
      "01:51:13 - cmdstanpy - INFO - Chain [1] start processing\n",
      "01:51:13 - cmdstanpy - INFO - Chain [1] done processing\n",
      "01:51:14 - cmdstanpy - INFO - Chain [1] start processing\n",
      "01:51:14 - cmdstanpy - INFO - Chain [1] done processing\n",
      "01:51:14 - cmdstanpy - INFO - Chain [1] start processing\n",
      "01:51:14 - cmdstanpy - INFO - Chain [1] start processing\n",
      "01:51:14 - cmdstanpy - INFO - Chain [1] start processing\n",
      "01:51:14 - cmdstanpy - INFO - Chain [1] start processing\n",
      "01:51:14 - cmdstanpy - INFO - Chain [1] start processing\n",
      "01:51:14 - cmdstanpy - INFO - Chain [1] start processing\n",
      "01:51:14 - cmdstanpy - INFO - Chain [1] start processing\n",
      "01:51:14 - cmdstanpy - INFO - Chain [1] done processing\n",
      "01:51:14 - cmdstanpy - INFO - Chain [1] done processing\n",
      "01:51:14 - cmdstanpy - INFO - Chain [1] start processing\n",
      "01:51:15 - cmdstanpy - INFO - Chain [1] done processing\n",
      "01:51:15 - cmdstanpy - INFO - Chain [1] done processing\n",
      "01:51:15 - cmdstanpy - INFO - Chain [1] done processing\n",
      "01:51:15 - cmdstanpy - INFO - Chain [1] done processing\n",
      "01:51:15 - cmdstanpy - INFO - Chain [1] done processing\n",
      "01:51:15 - cmdstanpy - INFO - Chain [1] done processing\n"
     ]
    },
    {
     "name": "stdout",
     "output_type": "stream",
     "text": [
      "[I 2025-08-23 01:51:15,664] Trial 45 finished with value: 337.05929763437325 and parameters: {'changepoint_prior_scale': 0.010304137021566587, 'seasonality_prior_scale': 0.05076790724826042, 'holidays_prior_scale': 2.1441428828193017}. Best is trial 43 with value: 334.5481835768062.\n"
     ]
    },
    {
     "name": "stderr",
     "output_type": "stream",
     "text": [
      "01:51:15 - cmdstanpy - INFO - Chain [1] start processing\n",
      "01:51:16 - cmdstanpy - INFO - Chain [1] done processing\n",
      "01:51:16 - cmdstanpy - INFO - Chain [1] start processing\n",
      "01:51:17 - cmdstanpy - INFO - Chain [1] done processing\n",
      "01:51:17 - cmdstanpy - INFO - Chain [1] start processing\n",
      "01:51:17 - cmdstanpy - INFO - Chain [1] done processing\n",
      "01:51:17 - cmdstanpy - INFO - Chain [1] start processing\n",
      "01:51:17 - cmdstanpy - INFO - Chain [1] start processing\n",
      "01:51:17 - cmdstanpy - INFO - Chain [1] start processing\n",
      "01:51:17 - cmdstanpy - INFO - Chain [1] start processing\n",
      "01:51:17 - cmdstanpy - INFO - Chain [1] start processing\n",
      "01:51:17 - cmdstanpy - INFO - Chain [1] start processing\n",
      "01:51:17 - cmdstanpy - INFO - Chain [1] start processing\n",
      "01:51:17 - cmdstanpy - INFO - Chain [1] start processing\n",
      "01:51:17 - cmdstanpy - INFO - Chain [1] done processing\n",
      "01:51:18 - cmdstanpy - INFO - Chain [1] done processing\n",
      "01:51:18 - cmdstanpy - INFO - Chain [1] done processing\n",
      "01:51:18 - cmdstanpy - INFO - Chain [1] done processing\n",
      "01:51:18 - cmdstanpy - INFO - Chain [1] done processing\n",
      "01:51:18 - cmdstanpy - INFO - Chain [1] done processing\n",
      "01:51:18 - cmdstanpy - INFO - Chain [1] done processing\n",
      "01:51:18 - cmdstanpy - INFO - Chain [1] done processing\n"
     ]
    },
    {
     "name": "stdout",
     "output_type": "stream",
     "text": [
      "[I 2025-08-23 01:51:18,741] Trial 46 finished with value: 337.97710263195023 and parameters: {'changepoint_prior_scale': 0.014743856158944078, 'seasonality_prior_scale': 0.021626176309309218, 'holidays_prior_scale': 0.986831115453544}. Best is trial 43 with value: 334.5481835768062.\n"
     ]
    },
    {
     "name": "stderr",
     "output_type": "stream",
     "text": [
      "01:51:18 - cmdstanpy - INFO - Chain [1] start processing\n",
      "01:51:19 - cmdstanpy - INFO - Chain [1] done processing\n",
      "01:51:20 - cmdstanpy - INFO - Chain [1] start processing\n",
      "01:51:20 - cmdstanpy - INFO - Chain [1] start processing\n",
      "01:51:20 - cmdstanpy - INFO - Chain [1] start processing\n",
      "01:51:20 - cmdstanpy - INFO - Chain [1] start processing\n",
      "01:51:20 - cmdstanpy - INFO - Chain [1] done processing\n",
      "01:51:20 - cmdstanpy - INFO - Chain [1] start processing\n",
      "01:51:20 - cmdstanpy - INFO - Chain [1] start processing\n",
      "01:51:20 - cmdstanpy - INFO - Chain [1] start processing\n",
      "01:51:20 - cmdstanpy - INFO - Chain [1] done processing\n",
      "01:51:20 - cmdstanpy - INFO - Chain [1] done processing\n",
      "01:51:20 - cmdstanpy - INFO - Chain [1] start processing\n",
      "01:51:20 - cmdstanpy - INFO - Chain [1] start processing\n",
      "01:51:20 - cmdstanpy - INFO - Chain [1] start processing\n",
      "01:51:20 - cmdstanpy - INFO - Chain [1] done processing\n",
      "01:51:20 - cmdstanpy - INFO - Chain [1] done processing\n",
      "01:51:20 - cmdstanpy - INFO - Chain [1] done processing\n",
      "01:51:20 - cmdstanpy - INFO - Chain [1] done processing\n",
      "01:51:21 - cmdstanpy - INFO - Chain [1] done processing\n",
      "01:51:21 - cmdstanpy - INFO - Chain [1] done processing\n",
      "01:51:21 - cmdstanpy - INFO - Chain [1] done processing\n"
     ]
    },
    {
     "name": "stdout",
     "output_type": "stream",
     "text": [
      "[I 2025-08-23 01:51:21,650] Trial 47 finished with value: 344.09053579916997 and parameters: {'changepoint_prior_scale': 0.002473326142386225, 'seasonality_prior_scale': 0.07948338047086248, 'holidays_prior_scale': 0.5349746488556811}. Best is trial 43 with value: 334.5481835768062.\n"
     ]
    },
    {
     "name": "stderr",
     "output_type": "stream",
     "text": [
      "01:51:21 - cmdstanpy - INFO - Chain [1] start processing\n",
      "01:51:21 - cmdstanpy - INFO - Chain [1] done processing\n",
      "01:51:21 - cmdstanpy - ERROR - Chain [1] error: error during processing Operation not permitted\n",
      "Optimization terminated abnormally. Falling back to Newton.\n",
      "01:51:22 - cmdstanpy - INFO - Chain [1] start processing\n",
      "01:51:37 - cmdstanpy - INFO - Chain [1] done processing\n",
      "01:51:38 - cmdstanpy - INFO - Chain [1] start processing\n",
      "01:51:38 - cmdstanpy - INFO - Chain [1] done processing\n",
      "01:51:38 - cmdstanpy - ERROR - Chain [1] error: error during processing Operation not permitted\n",
      "Optimization terminated abnormally. Falling back to Newton.\n",
      "01:51:39 - cmdstanpy - INFO - Chain [1] start processing\n",
      "01:51:39 - cmdstanpy - INFO - Chain [1] start processing\n",
      "01:51:39 - cmdstanpy - INFO - Chain [1] start processing\n",
      "01:51:39 - cmdstanpy - INFO - Chain [1] done processing\n",
      "01:51:39 - cmdstanpy - INFO - Chain [1] done processing\n",
      "01:51:39 - cmdstanpy - INFO - Chain [1] start processing\n",
      "01:51:39 - cmdstanpy - ERROR - Chain [1] error: error during processing Operation not permitted\n",
      "01:51:39 - cmdstanpy - INFO - Chain [1] done processing\n",
      "01:51:39 - cmdstanpy - INFO - Chain [1] start processing\n",
      "01:51:39 - cmdstanpy - ERROR - Chain [1] error: error during processing Operation not permitted\n",
      "01:51:39 - cmdstanpy - INFO - Chain [1] start processing\n",
      "01:51:39 - cmdstanpy - INFO - Chain [1] start processing\n",
      "Optimization terminated abnormally. Falling back to Newton.\n",
      "01:51:39 - cmdstanpy - INFO - Chain [1] start processing\n",
      "01:51:39 - cmdstanpy - INFO - Chain [1] start processing\n",
      "01:51:39 - cmdstanpy - INFO - Chain [1] start processing\n",
      "Optimization terminated abnormally. Falling back to Newton.\n",
      "01:51:39 - cmdstanpy - INFO - Chain [1] done processing\n",
      "01:51:39 - cmdstanpy - INFO - Chain [1] done processing\n",
      "01:51:39 - cmdstanpy - INFO - Chain [1] done processing\n",
      "01:51:39 - cmdstanpy - INFO - Chain [1] done processing\n",
      "01:51:39 - cmdstanpy - ERROR - Chain [1] error: error during processing Operation not permitted\n",
      "01:51:39 - cmdstanpy - INFO - Chain [1] done processing\n",
      "01:51:39 - cmdstanpy - ERROR - Chain [1] error: error during processing Operation not permitted\n",
      "01:51:39 - cmdstanpy - INFO - Chain [1] done processing\n",
      "01:51:39 - cmdstanpy - ERROR - Chain [1] error: error during processing Operation not permitted\n",
      "Optimization terminated abnormally. Falling back to Newton.\n",
      "01:51:39 - cmdstanpy - ERROR - Chain [1] error: error during processing Operation not permitted\n",
      "Optimization terminated abnormally. Falling back to Newton.\n",
      "01:51:39 - cmdstanpy - INFO - Chain [1] start processing\n",
      "01:51:40 - cmdstanpy - ERROR - Chain [1] error: error during processing Operation not permitted\n",
      "01:51:40 - cmdstanpy - INFO - Chain [1] start processing\n",
      "Optimization terminated abnormally. Falling back to Newton.\n",
      "Optimization terminated abnormally. Falling back to Newton.\n",
      "Optimization terminated abnormally. Falling back to Newton.\n",
      "01:51:40 - cmdstanpy - INFO - Chain [1] start processing\n",
      "01:51:40 - cmdstanpy - INFO - Chain [1] start processing\n",
      "01:51:40 - cmdstanpy - INFO - Chain [1] start processing\n",
      "01:51:40 - cmdstanpy - INFO - Chain [1] start processing\n",
      "01:51:40 - cmdstanpy - INFO - Chain [1] start processing\n",
      "01:51:43 - cmdstanpy - INFO - Chain [1] done processing\n",
      "01:51:44 - cmdstanpy - INFO - Chain [1] done processing\n",
      "01:51:45 - cmdstanpy - INFO - Chain [1] done processing\n",
      "01:51:46 - cmdstanpy - INFO - Chain [1] done processing\n",
      "01:51:46 - cmdstanpy - INFO - Chain [1] done processing\n",
      "01:51:47 - cmdstanpy - INFO - Chain [1] done processing\n",
      "01:51:47 - cmdstanpy - INFO - Chain [1] done processing\n",
      "01:52:43 - cmdstanpy - INFO - Chain [1] done processing\n"
     ]
    },
    {
     "name": "stdout",
     "output_type": "stream",
     "text": [
      "[I 2025-08-23 01:52:43,375] Trial 48 finished with value: 392.40653052678005 and parameters: {'changepoint_prior_scale': 0.00033700073701588133, 'seasonality_prior_scale': 0.4584635477522181, 'holidays_prior_scale': 14.20540359971149}. Best is trial 43 with value: 334.5481835768062.\n"
     ]
    },
    {
     "name": "stderr",
     "output_type": "stream",
     "text": [
      "01:52:43 - cmdstanpy - INFO - Chain [1] start processing\n",
      "01:52:43 - cmdstanpy - INFO - Chain [1] done processing\n",
      "01:52:45 - cmdstanpy - INFO - Chain [1] start processing\n",
      "01:52:45 - cmdstanpy - INFO - Chain [1] done processing\n",
      "01:52:45 - cmdstanpy - INFO - Chain [1] start processing\n",
      "01:52:45 - cmdstanpy - INFO - Chain [1] start processing\n",
      "01:52:45 - cmdstanpy - INFO - Chain [1] start processing\n",
      "01:52:45 - cmdstanpy - INFO - Chain [1] start processing\n",
      "01:52:45 - cmdstanpy - INFO - Chain [1] start processing\n",
      "01:52:45 - cmdstanpy - INFO - Chain [1] start processing\n",
      "01:52:45 - cmdstanpy - INFO - Chain [1] start processing\n",
      "01:52:45 - cmdstanpy - INFO - Chain [1] done processing\n",
      "01:52:45 - cmdstanpy - INFO - Chain [1] done processing\n",
      "01:52:45 - cmdstanpy - INFO - Chain [1] start processing\n",
      "01:52:45 - cmdstanpy - INFO - Chain [1] start processing\n",
      "01:52:45 - cmdstanpy - INFO - Chain [1] done processing\n",
      "01:52:45 - cmdstanpy - INFO - Chain [1] done processing\n",
      "01:52:45 - cmdstanpy - INFO - Chain [1] done processing\n",
      "01:52:45 - cmdstanpy - INFO - Chain [1] done processing\n",
      "01:52:46 - cmdstanpy - INFO - Chain [1] done processing\n",
      "01:52:46 - cmdstanpy - INFO - Chain [1] done processing\n",
      "01:52:46 - cmdstanpy - INFO - Chain [1] done processing\n"
     ]
    },
    {
     "name": "stdout",
     "output_type": "stream",
     "text": [
      "[I 2025-08-23 01:52:46,617] Trial 49 finished with value: 336.27578110852716 and parameters: {'changepoint_prior_scale': 0.0036697830013915716, 'seasonality_prior_scale': 0.17342355774756923, 'holidays_prior_scale': 3.3946183767119718}. Best is trial 43 with value: 334.5481835768062.\n"
     ]
    },
    {
     "name": "stderr",
     "output_type": "stream",
     "text": [
      "01:52:46 - cmdstanpy - INFO - Chain [1] start processing\n",
      "01:52:46 - cmdstanpy - INFO - Chain [1] done processing\n",
      "01:52:47 - cmdstanpy - INFO - Chain [1] start processing\n",
      "01:52:47 - cmdstanpy - INFO - Chain [1] done processing\n",
      "01:52:48 - cmdstanpy - INFO - Chain [1] start processing\n",
      "01:52:48 - cmdstanpy - INFO - Chain [1] start processing\n",
      "01:52:48 - cmdstanpy - INFO - Chain [1] start processing\n",
      "01:52:48 - cmdstanpy - INFO - Chain [1] start processing\n",
      "01:52:48 - cmdstanpy - INFO - Chain [1] start processing\n",
      "01:52:48 - cmdstanpy - INFO - Chain [1] start processing\n",
      "01:52:48 - cmdstanpy - INFO - Chain [1] start processing\n",
      "01:52:48 - cmdstanpy - INFO - Chain [1] start processing\n",
      "01:52:48 - cmdstanpy - INFO - Chain [1] start processing\n",
      "01:52:48 - cmdstanpy - INFO - Chain [1] done processing\n",
      "01:52:48 - cmdstanpy - INFO - Chain [1] done processing\n",
      "01:52:48 - cmdstanpy - INFO - Chain [1] done processing\n",
      "01:52:49 - cmdstanpy - INFO - Chain [1] done processing\n",
      "01:52:49 - cmdstanpy - INFO - Chain [1] done processing\n",
      "01:52:49 - cmdstanpy - INFO - Chain [1] done processing\n",
      "01:52:49 - cmdstanpy - INFO - Chain [1] done processing\n",
      "01:52:49 - cmdstanpy - INFO - Chain [1] done processing\n",
      "01:52:49 - cmdstanpy - INFO - Chain [1] done processing\n"
     ]
    },
    {
     "name": "stdout",
     "output_type": "stream",
     "text": [
      "[I 2025-08-23 01:52:49,749] Trial 50 finished with value: 335.9529984798386 and parameters: {'changepoint_prior_scale': 0.008865154652499816, 'seasonality_prior_scale': 0.10154030861634147, 'holidays_prior_scale': 1.9089622645851974}. Best is trial 43 with value: 334.5481835768062.\n"
     ]
    },
    {
     "name": "stderr",
     "output_type": "stream",
     "text": [
      "01:52:50 - cmdstanpy - INFO - Chain [1] start processing\n",
      "01:52:50 - cmdstanpy - INFO - Chain [1] done processing\n",
      "01:52:51 - cmdstanpy - INFO - Chain [1] start processing\n",
      "01:52:51 - cmdstanpy - INFO - Chain [1] start processing\n",
      "01:52:51 - cmdstanpy - INFO - Chain [1] start processing\n",
      "01:52:51 - cmdstanpy - INFO - Chain [1] start processing\n",
      "01:52:51 - cmdstanpy - INFO - Chain [1] done processing\n",
      "01:52:51 - cmdstanpy - INFO - Chain [1] done processing\n",
      "01:52:52 - cmdstanpy - INFO - Chain [1] start processing\n",
      "01:52:52 - cmdstanpy - INFO - Chain [1] done processing\n",
      "01:52:52 - cmdstanpy - INFO - Chain [1] start processing\n",
      "01:52:52 - cmdstanpy - INFO - Chain [1] start processing\n",
      "01:52:52 - cmdstanpy - INFO - Chain [1] start processing\n",
      "01:52:52 - cmdstanpy - INFO - Chain [1] start processing\n",
      "01:52:52 - cmdstanpy - INFO - Chain [1] start processing\n",
      "01:52:52 - cmdstanpy - INFO - Chain [1] done processing\n",
      "01:52:52 - cmdstanpy - INFO - Chain [1] done processing\n",
      "01:52:52 - cmdstanpy - INFO - Chain [1] done processing\n",
      "01:52:52 - cmdstanpy - INFO - Chain [1] done processing\n",
      "01:52:52 - cmdstanpy - INFO - Chain [1] done processing\n",
      "01:52:52 - cmdstanpy - INFO - Chain [1] done processing\n",
      "01:52:52 - cmdstanpy - INFO - Chain [1] done processing\n"
     ]
    },
    {
     "name": "stdout",
     "output_type": "stream",
     "text": [
      "[I 2025-08-23 01:52:53,025] Trial 51 finished with value: 335.9214304527326 and parameters: {'changepoint_prior_scale': 0.0054960484444663525, 'seasonality_prior_scale': 1.591222769447836, 'holidays_prior_scale': 0.9553584870670114}. Best is trial 43 with value: 334.5481835768062.\n"
     ]
    },
    {
     "name": "stderr",
     "output_type": "stream",
     "text": [
      "01:52:53 - cmdstanpy - INFO - Chain [1] start processing\n",
      "01:52:53 - cmdstanpy - INFO - Chain [1] done processing\n",
      "01:52:54 - cmdstanpy - INFO - Chain [1] start processing\n",
      "01:52:54 - cmdstanpy - INFO - Chain [1] done processing\n",
      "01:52:54 - cmdstanpy - INFO - Chain [1] start processing\n",
      "01:52:54 - cmdstanpy - INFO - Chain [1] start processing\n",
      "01:52:54 - cmdstanpy - INFO - Chain [1] start processing\n",
      "01:52:55 - cmdstanpy - INFO - Chain [1] start processing\n",
      "01:52:55 - cmdstanpy - INFO - Chain [1] start processing\n",
      "01:52:55 - cmdstanpy - INFO - Chain [1] start processing\n",
      "01:52:55 - cmdstanpy - INFO - Chain [1] start processing\n",
      "01:52:55 - cmdstanpy - INFO - Chain [1] start processing\n",
      "01:52:55 - cmdstanpy - INFO - Chain [1] start processing\n",
      "01:52:55 - cmdstanpy - INFO - Chain [1] done processing\n",
      "01:52:55 - cmdstanpy - INFO - Chain [1] done processing\n",
      "01:52:55 - cmdstanpy - INFO - Chain [1] done processing\n",
      "01:52:55 - cmdstanpy - INFO - Chain [1] done processing\n",
      "01:52:55 - cmdstanpy - INFO - Chain [1] done processing\n",
      "01:52:55 - cmdstanpy - INFO - Chain [1] done processing\n",
      "01:52:55 - cmdstanpy - INFO - Chain [1] done processing\n",
      "01:52:55 - cmdstanpy - INFO - Chain [1] done processing\n",
      "01:52:55 - cmdstanpy - INFO - Chain [1] done processing\n"
     ]
    },
    {
     "name": "stdout",
     "output_type": "stream",
     "text": [
      "[I 2025-08-23 01:52:55,960] Trial 52 finished with value: 334.9878435060027 and parameters: {'changepoint_prior_scale': 0.003978193685162464, 'seasonality_prior_scale': 0.3194166059326513, 'holidays_prior_scale': 6.350045068699315}. Best is trial 43 with value: 334.5481835768062.\n"
     ]
    },
    {
     "name": "stderr",
     "output_type": "stream",
     "text": [
      "01:52:56 - cmdstanpy - INFO - Chain [1] start processing\n",
      "01:52:56 - cmdstanpy - INFO - Chain [1] done processing\n",
      "01:52:57 - cmdstanpy - INFO - Chain [1] start processing\n",
      "01:52:57 - cmdstanpy - INFO - Chain [1] start processing\n",
      "01:52:57 - cmdstanpy - INFO - Chain [1] done processing\n",
      "01:52:57 - cmdstanpy - INFO - Chain [1] done processing\n",
      "01:52:58 - cmdstanpy - INFO - Chain [1] start processing\n",
      "01:52:58 - cmdstanpy - INFO - Chain [1] start processing\n",
      "01:52:58 - cmdstanpy - INFO - Chain [1] start processing\n",
      "01:52:58 - cmdstanpy - INFO - Chain [1] start processing\n",
      "01:52:58 - cmdstanpy - INFO - Chain [1] start processing\n",
      "01:52:58 - cmdstanpy - INFO - Chain [1] start processing\n",
      "01:52:58 - cmdstanpy - INFO - Chain [1] start processing\n",
      "01:52:58 - cmdstanpy - INFO - Chain [1] start processing\n",
      "01:52:58 - cmdstanpy - INFO - Chain [1] done processing\n",
      "01:52:58 - cmdstanpy - INFO - Chain [1] done processing\n",
      "01:52:58 - cmdstanpy - INFO - Chain [1] done processing\n",
      "01:52:58 - cmdstanpy - INFO - Chain [1] done processing\n",
      "01:52:58 - cmdstanpy - INFO - Chain [1] done processing\n",
      "01:52:58 - cmdstanpy - INFO - Chain [1] done processing\n",
      "01:52:58 - cmdstanpy - INFO - Chain [1] done processing\n",
      "01:52:58 - cmdstanpy - INFO - Chain [1] done processing\n",
      "01:52:59 - cmdstanpy - INFO - Chain [1] start processing\n"
     ]
    },
    {
     "name": "stdout",
     "output_type": "stream",
     "text": [
      "[I 2025-08-23 01:52:59,345] Trial 53 finished with value: 353.8479601844428 and parameters: {'changepoint_prior_scale': 0.0014533104808794172, 'seasonality_prior_scale': 0.22221692735112542, 'holidays_prior_scale': 9.486795491241306}. Best is trial 43 with value: 334.5481835768062.\n"
     ]
    },
    {
     "name": "stderr",
     "output_type": "stream",
     "text": [
      "01:52:59 - cmdstanpy - INFO - Chain [1] done processing\n",
      "01:53:00 - cmdstanpy - INFO - Chain [1] start processing\n",
      "01:53:00 - cmdstanpy - INFO - Chain [1] done processing\n",
      "01:53:01 - cmdstanpy - INFO - Chain [1] start processing\n",
      "01:53:01 - cmdstanpy - INFO - Chain [1] start processing\n",
      "01:53:01 - cmdstanpy - INFO - Chain [1] start processing\n",
      "01:53:01 - cmdstanpy - INFO - Chain [1] start processing\n",
      "01:53:01 - cmdstanpy - INFO - Chain [1] start processing\n",
      "01:53:01 - cmdstanpy - INFO - Chain [1] start processing\n",
      "01:53:01 - cmdstanpy - INFO - Chain [1] start processing\n",
      "01:53:01 - cmdstanpy - INFO - Chain [1] start processing\n",
      "01:53:01 - cmdstanpy - INFO - Chain [1] done processing\n",
      "01:53:01 - cmdstanpy - INFO - Chain [1] start processing\n",
      "01:53:01 - cmdstanpy - INFO - Chain [1] done processing\n",
      "01:53:01 - cmdstanpy - INFO - Chain [1] done processing\n",
      "01:53:01 - cmdstanpy - INFO - Chain [1] done processing\n",
      "01:53:01 - cmdstanpy - INFO - Chain [1] done processing\n",
      "01:53:01 - cmdstanpy - INFO - Chain [1] done processing\n",
      "01:53:01 - cmdstanpy - INFO - Chain [1] done processing\n",
      "01:53:01 - cmdstanpy - INFO - Chain [1] done processing\n",
      "01:53:01 - cmdstanpy - INFO - Chain [1] done processing\n",
      "01:53:02 - cmdstanpy - INFO - Chain [1] start processing\n"
     ]
    },
    {
     "name": "stdout",
     "output_type": "stream",
     "text": [
      "[I 2025-08-23 01:53:02,510] Trial 54 finished with value: 336.6843102630454 and parameters: {'changepoint_prior_scale': 0.01884789007791279, 'seasonality_prior_scale': 0.3091992483058933, 'holidays_prior_scale': 5.451954333956157}. Best is trial 43 with value: 334.5481835768062.\n"
     ]
    },
    {
     "name": "stderr",
     "output_type": "stream",
     "text": [
      "01:53:02 - cmdstanpy - INFO - Chain [1] done processing\n",
      "01:53:03 - cmdstanpy - INFO - Chain [1] start processing\n",
      "01:53:03 - cmdstanpy - INFO - Chain [1] done processing\n",
      "01:53:04 - cmdstanpy - INFO - Chain [1] start processing\n",
      "01:53:04 - cmdstanpy - INFO - Chain [1] start processing\n",
      "01:53:04 - cmdstanpy - INFO - Chain [1] done processing\n",
      "01:53:04 - cmdstanpy - INFO - Chain [1] start processing\n",
      "01:53:04 - cmdstanpy - INFO - Chain [1] done processing\n",
      "01:53:04 - cmdstanpy - INFO - Chain [1] start processing\n",
      "01:53:04 - cmdstanpy - INFO - Chain [1] start processing\n",
      "01:53:04 - cmdstanpy - INFO - Chain [1] done processing\n",
      "01:53:04 - cmdstanpy - INFO - Chain [1] start processing\n",
      "01:53:04 - cmdstanpy - INFO - Chain [1] start processing\n",
      "01:53:04 - cmdstanpy - INFO - Chain [1] start processing\n",
      "01:53:04 - cmdstanpy - INFO - Chain [1] start processing\n",
      "01:53:04 - cmdstanpy - INFO - Chain [1] done processing\n",
      "01:53:04 - cmdstanpy - INFO - Chain [1] done processing\n",
      "01:53:04 - cmdstanpy - INFO - Chain [1] done processing\n",
      "01:53:04 - cmdstanpy - INFO - Chain [1] done processing\n",
      "01:53:05 - cmdstanpy - INFO - Chain [1] done processing\n",
      "01:53:05 - cmdstanpy - INFO - Chain [1] done processing\n"
     ]
    },
    {
     "name": "stdout",
     "output_type": "stream",
     "text": [
      "[I 2025-08-23 01:53:05,421] Trial 55 finished with value: 335.92086401464684 and parameters: {'changepoint_prior_scale': 0.011876113886354825, 'seasonality_prior_scale': 0.522174191256306, 'holidays_prior_scale': 3.059279154038733}. Best is trial 43 with value: 334.5481835768062.\n"
     ]
    },
    {
     "name": "stderr",
     "output_type": "stream",
     "text": [
      "01:53:05 - cmdstanpy - INFO - Chain [1] start processing\n",
      "01:53:05 - cmdstanpy - INFO - Chain [1] done processing\n",
      "01:53:06 - cmdstanpy - INFO - Chain [1] start processing\n",
      "01:53:06 - cmdstanpy - INFO - Chain [1] done processing\n",
      "01:53:07 - cmdstanpy - INFO - Chain [1] start processing\n",
      "01:53:07 - cmdstanpy - INFO - Chain [1] done processing\n",
      "01:53:07 - cmdstanpy - INFO - Chain [1] start processing\n",
      "01:53:07 - cmdstanpy - INFO - Chain [1] start processing\n",
      "01:53:07 - cmdstanpy - INFO - Chain [1] start processing\n",
      "01:53:07 - cmdstanpy - INFO - Chain [1] start processing\n",
      "01:53:07 - cmdstanpy - INFO - Chain [1] start processing\n",
      "01:53:07 - cmdstanpy - INFO - Chain [1] start processing\n",
      "01:53:07 - cmdstanpy - INFO - Chain [1] start processing\n",
      "01:53:07 - cmdstanpy - INFO - Chain [1] start processing\n",
      "01:53:07 - cmdstanpy - INFO - Chain [1] done processing\n",
      "01:53:07 - cmdstanpy - INFO - Chain [1] done processing\n",
      "01:53:07 - cmdstanpy - INFO - Chain [1] done processing\n",
      "01:53:07 - cmdstanpy - INFO - Chain [1] done processing\n",
      "01:53:07 - cmdstanpy - INFO - Chain [1] done processing\n",
      "01:53:07 - cmdstanpy - INFO - Chain [1] done processing\n",
      "01:53:07 - cmdstanpy - INFO - Chain [1] done processing\n",
      "01:53:07 - cmdstanpy - INFO - Chain [1] done processing\n",
      "01:53:08 - cmdstanpy - INFO - Chain [1] start processing\n"
     ]
    },
    {
     "name": "stdout",
     "output_type": "stream",
     "text": [
      "[I 2025-08-23 01:53:08,257] Trial 56 finished with value: 337.37011219137213 and parameters: {'changepoint_prior_scale': 0.007352307047072658, 'seasonality_prior_scale': 0.34727252286868066, 'holidays_prior_scale': 6.285863293405555}. Best is trial 43 with value: 334.5481835768062.\n"
     ]
    },
    {
     "name": "stderr",
     "output_type": "stream",
     "text": [
      "01:53:08 - cmdstanpy - INFO - Chain [1] done processing\n",
      "01:53:09 - cmdstanpy - INFO - Chain [1] start processing\n",
      "01:53:09 - cmdstanpy - INFO - Chain [1] done processing\n",
      "01:53:09 - cmdstanpy - INFO - Chain [1] start processing\n",
      "01:53:09 - cmdstanpy - INFO - Chain [1] start processing\n",
      "01:53:10 - cmdstanpy - INFO - Chain [1] done processing\n",
      "01:53:10 - cmdstanpy - INFO - Chain [1] start processing\n",
      "01:53:10 - cmdstanpy - INFO - Chain [1] done processing\n",
      "01:53:10 - cmdstanpy - INFO - Chain [1] start processing\n",
      "01:53:10 - cmdstanpy - INFO - Chain [1] start processing\n",
      "01:53:10 - cmdstanpy - INFO - Chain [1] start processing\n",
      "01:53:10 - cmdstanpy - INFO - Chain [1] start processing\n",
      "01:53:10 - cmdstanpy - INFO - Chain [1] start processing\n",
      "01:53:10 - cmdstanpy - INFO - Chain [1] start processing\n",
      "01:53:10 - cmdstanpy - INFO - Chain [1] done processing\n",
      "01:53:10 - cmdstanpy - INFO - Chain [1] done processing\n",
      "01:53:10 - cmdstanpy - INFO - Chain [1] done processing\n",
      "01:53:10 - cmdstanpy - INFO - Chain [1] done processing\n",
      "01:53:10 - cmdstanpy - INFO - Chain [1] done processing\n",
      "01:53:10 - cmdstanpy - INFO - Chain [1] done processing\n",
      "01:53:10 - cmdstanpy - INFO - Chain [1] done processing\n",
      "01:53:11 - cmdstanpy - INFO - Chain [1] start processing\n"
     ]
    },
    {
     "name": "stdout",
     "output_type": "stream",
     "text": [
      "[I 2025-08-23 01:53:11,238] Trial 57 finished with value: 337.86869655002073 and parameters: {'changepoint_prior_scale': 0.0037470525490487182, 'seasonality_prior_scale': 0.14121713823252224, 'holidays_prior_scale': 13.929419499854959}. Best is trial 43 with value: 334.5481835768062.\n"
     ]
    },
    {
     "name": "stderr",
     "output_type": "stream",
     "text": [
      "01:53:11 - cmdstanpy - INFO - Chain [1] done processing\n",
      "01:53:13 - cmdstanpy - INFO - Chain [1] start processing\n",
      "01:53:13 - cmdstanpy - INFO - Chain [1] start processing\n",
      "01:53:13 - cmdstanpy - INFO - Chain [1] start processing\n",
      "01:53:13 - cmdstanpy - INFO - Chain [1] start processing\n",
      "01:53:13 - cmdstanpy - INFO - Chain [1] done processing\n",
      "01:53:13 - cmdstanpy - ERROR - Chain [1] error: error during processing Operation not permitted\n",
      "01:53:13 - cmdstanpy - INFO - Chain [1] start processing\n",
      "01:53:13 - cmdstanpy - INFO - Chain [1] done processing\n",
      "01:53:13 - cmdstanpy - ERROR - Chain [1] error: error during processing Operation not permitted\n",
      "01:53:13 - cmdstanpy - INFO - Chain [1] start processing\n",
      "Optimization terminated abnormally. Falling back to Newton.\n",
      "01:53:13 - cmdstanpy - INFO - Chain [1] start processing\n",
      "01:53:13 - cmdstanpy - INFO - Chain [1] start processing\n",
      "Optimization terminated abnormally. Falling back to Newton.\n",
      "01:53:13 - cmdstanpy - INFO - Chain [1] start processing\n",
      "01:53:13 - cmdstanpy - INFO - Chain [1] start processing\n",
      "01:53:13 - cmdstanpy - INFO - Chain [1] done processing\n",
      "01:53:13 - cmdstanpy - INFO - Chain [1] done processing\n",
      "01:53:13 - cmdstanpy - ERROR - Chain [1] error: error during processing Operation not permitted\n",
      "01:53:13 - cmdstanpy - INFO - Chain [1] done processing\n",
      "01:53:13 - cmdstanpy - ERROR - Chain [1] error: error during processing Operation not permitted\n",
      "01:53:13 - cmdstanpy - INFO - Chain [1] done processing\n",
      "01:53:13 - cmdstanpy - INFO - Chain [1] done processing\n",
      "Optimization terminated abnormally. Falling back to Newton.\n",
      "Optimization terminated abnormally. Falling back to Newton.\n",
      "01:53:13 - cmdstanpy - INFO - Chain [1] done processing\n",
      "01:53:13 - cmdstanpy - INFO - Chain [1] done processing\n",
      "01:53:13 - cmdstanpy - INFO - Chain [1] done processing\n",
      "01:53:13 - cmdstanpy - INFO - Chain [1] start processing\n",
      "01:53:13 - cmdstanpy - ERROR - Chain [1] error: error during processing Operation not permitted\n",
      "01:53:13 - cmdstanpy - INFO - Chain [1] start processing\n",
      "Optimization terminated abnormally. Falling back to Newton.\n",
      "01:53:14 - cmdstanpy - INFO - Chain [1] start processing\n",
      "01:53:14 - cmdstanpy - INFO - Chain [1] start processing\n",
      "01:53:14 - cmdstanpy - INFO - Chain [1] start processing\n",
      "01:53:16 - cmdstanpy - INFO - Chain [1] done processing\n",
      "01:53:16 - cmdstanpy - INFO - Chain [1] done processing\n",
      "01:53:18 - cmdstanpy - INFO - Chain [1] done processing\n",
      "01:53:18 - cmdstanpy - INFO - Chain [1] done processing\n",
      "01:53:19 - cmdstanpy - INFO - Chain [1] done processing\n",
      "01:53:19 - cmdstanpy - INFO - Chain [1] start processing\n"
     ]
    },
    {
     "name": "stdout",
     "output_type": "stream",
     "text": [
      "[I 2025-08-23 01:53:19,209] Trial 58 finished with value: 517.3892578642171 and parameters: {'changepoint_prior_scale': 0.0004594355317047867, 'seasonality_prior_scale': 0.09982060674555451, 'holidays_prior_scale': 38.04498711482269}. Best is trial 43 with value: 334.5481835768062.\n"
     ]
    },
    {
     "name": "stderr",
     "output_type": "stream",
     "text": [
      "01:53:19 - cmdstanpy - INFO - Chain [1] done processing\n",
      "01:53:20 - cmdstanpy - INFO - Chain [1] start processing\n",
      "01:53:20 - cmdstanpy - INFO - Chain [1] start processing\n",
      "01:53:20 - cmdstanpy - INFO - Chain [1] done processing\n",
      "01:53:20 - cmdstanpy - INFO - Chain [1] done processing\n",
      "01:53:21 - cmdstanpy - INFO - Chain [1] start processing\n",
      "01:53:21 - cmdstanpy - INFO - Chain [1] start processing\n",
      "01:53:21 - cmdstanpy - INFO - Chain [1] start processing\n",
      "01:53:21 - cmdstanpy - INFO - Chain [1] start processing\n",
      "01:53:21 - cmdstanpy - INFO - Chain [1] done processing\n",
      "01:53:21 - cmdstanpy - INFO - Chain [1] start processing\n",
      "01:53:21 - cmdstanpy - INFO - Chain [1] start processing\n",
      "01:53:21 - cmdstanpy - INFO - Chain [1] start processing\n",
      "01:53:21 - cmdstanpy - INFO - Chain [1] start processing\n",
      "01:53:21 - cmdstanpy - INFO - Chain [1] done processing\n",
      "01:53:21 - cmdstanpy - INFO - Chain [1] done processing\n",
      "01:53:21 - cmdstanpy - INFO - Chain [1] done processing\n",
      "01:53:21 - cmdstanpy - INFO - Chain [1] done processing\n",
      "01:53:21 - cmdstanpy - INFO - Chain [1] done processing\n",
      "01:53:21 - cmdstanpy - INFO - Chain [1] done processing\n",
      "01:53:21 - cmdstanpy - INFO - Chain [1] done processing\n"
     ]
    },
    {
     "name": "stdout",
     "output_type": "stream",
     "text": [
      "[I 2025-08-23 01:53:22,184] Trial 59 finished with value: 331.0571354600574 and parameters: {'changepoint_prior_scale': 0.002258872688728604, 'seasonality_prior_scale': 0.014512158162521414, 'holidays_prior_scale': 0.556673289471116}. Best is trial 59 with value: 331.0571354600574.\n"
     ]
    },
    {
     "name": "stderr",
     "output_type": "stream",
     "text": [
      "01:53:22 - cmdstanpy - INFO - Chain [1] start processing\n",
      "01:53:22 - cmdstanpy - INFO - Chain [1] done processing\n",
      "01:53:24 - cmdstanpy - INFO - Chain [1] start processing\n",
      "01:53:24 - cmdstanpy - INFO - Chain [1] start processing\n",
      "01:53:24 - cmdstanpy - INFO - Chain [1] start processing\n",
      "01:53:24 - cmdstanpy - INFO - Chain [1] done processing\n",
      "01:53:24 - cmdstanpy - INFO - Chain [1] start processing\n",
      "01:53:24 - cmdstanpy - INFO - Chain [1] start processing\n",
      "01:53:24 - cmdstanpy - INFO - Chain [1] start processing\n",
      "01:53:24 - cmdstanpy - INFO - Chain [1] done processing\n",
      "01:53:24 - cmdstanpy - INFO - Chain [1] start processing\n",
      "01:53:24 - cmdstanpy - INFO - Chain [1] done processing\n",
      "01:53:24 - cmdstanpy - INFO - Chain [1] start processing\n",
      "01:53:24 - cmdstanpy - INFO - Chain [1] start processing\n",
      "01:53:24 - cmdstanpy - INFO - Chain [1] start processing\n",
      "01:53:24 - cmdstanpy - INFO - Chain [1] done processing\n",
      "01:53:24 - cmdstanpy - INFO - Chain [1] done processing\n",
      "01:53:24 - cmdstanpy - INFO - Chain [1] done processing\n",
      "01:53:25 - cmdstanpy - INFO - Chain [1] done processing\n",
      "01:53:25 - cmdstanpy - INFO - Chain [1] done processing\n",
      "01:53:25 - cmdstanpy - INFO - Chain [1] done processing\n",
      "01:53:25 - cmdstanpy - INFO - Chain [1] done processing\n"
     ]
    },
    {
     "name": "stdout",
     "output_type": "stream",
     "text": [
      "[I 2025-08-23 01:53:25,887] Trial 60 finished with value: 336.83394677382455 and parameters: {'changepoint_prior_scale': 0.002508429959920553, 'seasonality_prior_scale': 1.0777313882103543, 'holidays_prior_scale': 0.32090167729642916}. Best is trial 59 with value: 331.0571354600574.\n"
     ]
    },
    {
     "name": "stderr",
     "output_type": "stream",
     "text": [
      "01:53:26 - cmdstanpy - INFO - Chain [1] start processing\n",
      "01:53:26 - cmdstanpy - INFO - Chain [1] done processing\n",
      "01:53:27 - cmdstanpy - INFO - Chain [1] start processing\n",
      "01:53:27 - cmdstanpy - INFO - Chain [1] done processing\n",
      "01:53:27 - cmdstanpy - INFO - Chain [1] start processing\n",
      "01:53:27 - cmdstanpy - INFO - Chain [1] start processing\n",
      "01:53:27 - cmdstanpy - INFO - Chain [1] start processing\n",
      "01:53:28 - cmdstanpy - INFO - Chain [1] start processing\n",
      "01:53:28 - cmdstanpy - INFO - Chain [1] start processing\n",
      "01:53:28 - cmdstanpy - INFO - Chain [1] start processing\n",
      "01:53:28 - cmdstanpy - INFO - Chain [1] start processing\n",
      "01:53:28 - cmdstanpy - INFO - Chain [1] start processing\n",
      "01:53:28 - cmdstanpy - INFO - Chain [1] start processing\n",
      "01:53:28 - cmdstanpy - INFO - Chain [1] done processing\n",
      "01:53:28 - cmdstanpy - INFO - Chain [1] done processing\n",
      "01:53:28 - cmdstanpy - INFO - Chain [1] done processing\n",
      "01:53:28 - cmdstanpy - INFO - Chain [1] done processing\n",
      "01:53:28 - cmdstanpy - INFO - Chain [1] done processing\n",
      "01:53:28 - cmdstanpy - INFO - Chain [1] done processing\n",
      "01:53:28 - cmdstanpy - INFO - Chain [1] done processing\n",
      "01:53:28 - cmdstanpy - INFO - Chain [1] done processing\n",
      "01:53:28 - cmdstanpy - INFO - Chain [1] done processing\n"
     ]
    },
    {
     "name": "stdout",
     "output_type": "stream",
     "text": [
      "[I 2025-08-23 01:53:29,326] Trial 61 finished with value: 334.7382765272712 and parameters: {'changepoint_prior_scale': 0.004408961678172672, 'seasonality_prior_scale': 0.010983019681021177, 'holidays_prior_scale': 0.19567209496404525}. Best is trial 59 with value: 331.0571354600574.\n"
     ]
    },
    {
     "name": "stderr",
     "output_type": "stream",
     "text": [
      "01:53:29 - cmdstanpy - INFO - Chain [1] start processing\n",
      "01:53:29 - cmdstanpy - INFO - Chain [1] done processing\n",
      "01:53:30 - cmdstanpy - INFO - Chain [1] start processing\n",
      "01:53:31 - cmdstanpy - INFO - Chain [1] done processing\n",
      "01:53:31 - cmdstanpy - INFO - Chain [1] start processing\n",
      "01:53:31 - cmdstanpy - INFO - Chain [1] start processing\n",
      "01:53:31 - cmdstanpy - INFO - Chain [1] done processing\n",
      "01:53:31 - cmdstanpy - INFO - Chain [1] start processing\n",
      "01:53:31 - cmdstanpy - INFO - Chain [1] start processing\n",
      "01:53:31 - cmdstanpy - INFO - Chain [1] start processing\n",
      "01:53:31 - cmdstanpy - INFO - Chain [1] done processing\n",
      "01:53:31 - cmdstanpy - INFO - Chain [1] start processing\n",
      "01:53:31 - cmdstanpy - INFO - Chain [1] start processing\n",
      "01:53:31 - cmdstanpy - INFO - Chain [1] start processing\n",
      "01:53:32 - cmdstanpy - INFO - Chain [1] done processing\n",
      "01:53:32 - cmdstanpy - INFO - Chain [1] done processing\n",
      "01:53:32 - cmdstanpy - INFO - Chain [1] start processing\n",
      "01:53:32 - cmdstanpy - INFO - Chain [1] done processing\n",
      "01:53:32 - cmdstanpy - INFO - Chain [1] done processing\n",
      "01:53:32 - cmdstanpy - INFO - Chain [1] done processing\n",
      "01:53:32 - cmdstanpy - INFO - Chain [1] done processing\n",
      "01:53:32 - cmdstanpy - INFO - Chain [1] done processing\n"
     ]
    },
    {
     "name": "stdout",
     "output_type": "stream",
     "text": [
      "[I 2025-08-23 01:53:32,922] Trial 62 finished with value: 336.0268717013446 and parameters: {'changepoint_prior_scale': 0.007117972080082053, 'seasonality_prior_scale': 0.013888630952307201, 'holidays_prior_scale': 0.2200257138320199}. Best is trial 59 with value: 331.0571354600574.\n"
     ]
    },
    {
     "name": "stderr",
     "output_type": "stream",
     "text": [
      "01:53:33 - cmdstanpy - INFO - Chain [1] start processing\n",
      "01:53:33 - cmdstanpy - INFO - Chain [1] done processing\n",
      "01:53:34 - cmdstanpy - INFO - Chain [1] start processing\n",
      "01:53:34 - cmdstanpy - INFO - Chain [1] start processing\n",
      "01:53:35 - cmdstanpy - INFO - Chain [1] start processing\n",
      "01:53:35 - cmdstanpy - INFO - Chain [1] done processing\n",
      "01:53:35 - cmdstanpy - INFO - Chain [1] start processing\n",
      "01:53:35 - cmdstanpy - INFO - Chain [1] start processing\n",
      "01:53:35 - cmdstanpy - INFO - Chain [1] start processing\n",
      "01:53:35 - cmdstanpy - INFO - Chain [1] done processing\n",
      "01:53:35 - cmdstanpy - INFO - Chain [1] start processing\n",
      "01:53:35 - cmdstanpy - INFO - Chain [1] start processing\n",
      "01:53:35 - cmdstanpy - INFO - Chain [1] start processing\n",
      "01:53:35 - cmdstanpy - INFO - Chain [1] start processing\n",
      "01:53:35 - cmdstanpy - INFO - Chain [1] done processing\n",
      "01:53:35 - cmdstanpy - INFO - Chain [1] done processing\n",
      "01:53:35 - cmdstanpy - INFO - Chain [1] done processing\n",
      "01:53:35 - cmdstanpy - INFO - Chain [1] done processing\n",
      "01:53:35 - cmdstanpy - INFO - Chain [1] done processing\n",
      "01:53:35 - cmdstanpy - INFO - Chain [1] done processing\n",
      "01:53:35 - cmdstanpy - INFO - Chain [1] done processing\n",
      "01:53:35 - cmdstanpy - INFO - Chain [1] done processing\n",
      "01:53:36 - cmdstanpy - INFO - Chain [1] start processing\n"
     ]
    },
    {
     "name": "stdout",
     "output_type": "stream",
     "text": [
      "[I 2025-08-23 01:53:36,215] Trial 63 finished with value: 341.1482494907762 and parameters: {'changepoint_prior_scale': 0.004358667460888534, 'seasonality_prior_scale': 0.011112009141914337, 'holidays_prior_scale': 0.5673898109719252}. Best is trial 59 with value: 331.0571354600574.\n"
     ]
    },
    {
     "name": "stderr",
     "output_type": "stream",
     "text": [
      "01:53:36 - cmdstanpy - INFO - Chain [1] done processing\n",
      "01:53:37 - cmdstanpy - INFO - Chain [1] start processing\n",
      "01:53:37 - cmdstanpy - INFO - Chain [1] done processing\n",
      "01:53:38 - cmdstanpy - INFO - Chain [1] start processing\n",
      "01:53:38 - cmdstanpy - INFO - Chain [1] start processing\n",
      "01:53:38 - cmdstanpy - INFO - Chain [1] start processing\n",
      "01:53:38 - cmdstanpy - INFO - Chain [1] start processing\n",
      "01:53:38 - cmdstanpy - INFO - Chain [1] start processing\n",
      "01:53:38 - cmdstanpy - INFO - Chain [1] done processing\n",
      "01:53:38 - cmdstanpy - INFO - Chain [1] start processing\n",
      "01:53:38 - cmdstanpy - INFO - Chain [1] start processing\n",
      "01:53:38 - cmdstanpy - INFO - Chain [1] start processing\n",
      "01:53:38 - cmdstanpy - INFO - Chain [1] start processing\n",
      "01:53:38 - cmdstanpy - INFO - Chain [1] done processing\n",
      "01:53:38 - cmdstanpy - INFO - Chain [1] done processing\n",
      "01:53:38 - cmdstanpy - INFO - Chain [1] done processing\n",
      "01:53:38 - cmdstanpy - INFO - Chain [1] done processing\n",
      "01:53:38 - cmdstanpy - INFO - Chain [1] done processing\n",
      "01:53:38 - cmdstanpy - INFO - Chain [1] done processing\n",
      "01:53:38 - cmdstanpy - INFO - Chain [1] done processing\n",
      "01:53:38 - cmdstanpy - INFO - Chain [1] done processing\n",
      "01:53:39 - cmdstanpy - INFO - Chain [1] start processing\n"
     ]
    },
    {
     "name": "stdout",
     "output_type": "stream",
     "text": [
      "[I 2025-08-23 01:53:39,317] Trial 64 finished with value: 347.62456250164365 and parameters: {'changepoint_prior_scale': 0.001760909438023145, 'seasonality_prior_scale': 0.019315553631105025, 'holidays_prior_scale': 0.17679940106604275}. Best is trial 59 with value: 331.0571354600574.\n"
     ]
    },
    {
     "name": "stderr",
     "output_type": "stream",
     "text": [
      "01:53:39 - cmdstanpy - INFO - Chain [1] done processing\n",
      "01:53:41 - cmdstanpy - INFO - Chain [1] start processing\n",
      "01:53:41 - cmdstanpy - INFO - Chain [1] start processing\n",
      "01:53:41 - cmdstanpy - INFO - Chain [1] start processing\n",
      "01:53:41 - cmdstanpy - INFO - Chain [1] start processing\n",
      "01:53:41 - cmdstanpy - INFO - Chain [1] start processing\n",
      "01:53:41 - cmdstanpy - INFO - Chain [1] start processing\n",
      "01:53:41 - cmdstanpy - INFO - Chain [1] start processing\n",
      "01:53:41 - cmdstanpy - INFO - Chain [1] done processing\n",
      "01:53:41 - cmdstanpy - INFO - Chain [1] done processing\n",
      "01:53:41 - cmdstanpy - INFO - Chain [1] done processing\n",
      "01:53:41 - cmdstanpy - INFO - Chain [1] start processing\n",
      "01:53:41 - cmdstanpy - INFO - Chain [1] done processing\n",
      "01:53:41 - cmdstanpy - INFO - Chain [1] done processing\n",
      "01:53:41 - cmdstanpy - INFO - Chain [1] done processing\n",
      "01:53:41 - cmdstanpy - INFO - Chain [1] start processing\n",
      "01:53:41 - cmdstanpy - INFO - Chain [1] start processing\n",
      "01:53:41 - cmdstanpy - INFO - Chain [1] done processing\n",
      "01:53:41 - cmdstanpy - INFO - Chain [1] done processing\n",
      "01:53:42 - cmdstanpy - INFO - Chain [1] done processing\n",
      "01:53:42 - cmdstanpy - INFO - Chain [1] done processing\n"
     ]
    },
    {
     "name": "stdout",
     "output_type": "stream",
     "text": [
      "[I 2025-08-23 01:53:42,547] Trial 65 finished with value: 338.98803232513404 and parameters: {'changepoint_prior_scale': 0.01119049634123446, 'seasonality_prior_scale': 0.02857748540656698, 'holidays_prior_scale': 1.7714592770187685}. Best is trial 59 with value: 331.0571354600574.\n"
     ]
    },
    {
     "name": "stderr",
     "output_type": "stream",
     "text": [
      "01:53:42 - cmdstanpy - INFO - Chain [1] start processing\n",
      "01:53:42 - cmdstanpy - INFO - Chain [1] done processing\n",
      "01:53:43 - cmdstanpy - INFO - Chain [1] start processing\n",
      "01:53:44 - cmdstanpy - INFO - Chain [1] done processing\n",
      "01:53:44 - cmdstanpy - INFO - Chain [1] start processing\n",
      "01:53:44 - cmdstanpy - INFO - Chain [1] done processing\n",
      "01:53:44 - cmdstanpy - INFO - Chain [1] start processing\n",
      "01:53:44 - cmdstanpy - INFO - Chain [1] start processing\n",
      "01:53:44 - cmdstanpy - INFO - Chain [1] start processing\n",
      "01:53:44 - cmdstanpy - INFO - Chain [1] start processing\n",
      "01:53:44 - cmdstanpy - INFO - Chain [1] start processing\n",
      "01:53:44 - cmdstanpy - INFO - Chain [1] start processing\n",
      "01:53:44 - cmdstanpy - INFO - Chain [1] start processing\n",
      "01:53:44 - cmdstanpy - INFO - Chain [1] start processing\n",
      "01:53:44 - cmdstanpy - INFO - Chain [1] done processing\n",
      "01:53:44 - cmdstanpy - INFO - Chain [1] done processing\n",
      "01:53:45 - cmdstanpy - INFO - Chain [1] done processing\n",
      "01:53:45 - cmdstanpy - INFO - Chain [1] done processing\n",
      "01:53:45 - cmdstanpy - INFO - Chain [1] done processing\n",
      "01:53:45 - cmdstanpy - INFO - Chain [1] done processing\n",
      "01:53:45 - cmdstanpy - INFO - Chain [1] done processing\n",
      "01:53:45 - cmdstanpy - INFO - Chain [1] done processing\n"
     ]
    },
    {
     "name": "stdout",
     "output_type": "stream",
     "text": [
      "[I 2025-08-23 01:53:45,602] Trial 66 finished with value: 344.57823304913927 and parameters: {'changepoint_prior_scale': 0.003087860528935011, 'seasonality_prior_scale': 0.2787574053651, 'holidays_prior_scale': 0.08967599630043706}. Best is trial 59 with value: 331.0571354600574.\n"
     ]
    },
    {
     "name": "stderr",
     "output_type": "stream",
     "text": [
      "01:53:45 - cmdstanpy - INFO - Chain [1] start processing\n",
      "01:53:45 - cmdstanpy - INFO - Chain [1] done processing\n",
      "01:53:47 - cmdstanpy - INFO - Chain [1] start processing\n",
      "01:53:47 - cmdstanpy - INFO - Chain [1] done processing\n",
      "01:53:47 - cmdstanpy - INFO - Chain [1] start processing\n",
      "01:53:47 - cmdstanpy - INFO - Chain [1] start processing\n",
      "01:53:47 - cmdstanpy - INFO - Chain [1] start processing\n",
      "01:53:47 - cmdstanpy - INFO - Chain [1] start processing\n",
      "01:53:47 - cmdstanpy - INFO - Chain [1] start processing\n",
      "01:53:47 - cmdstanpy - INFO - Chain [1] start processing\n",
      "01:53:47 - cmdstanpy - INFO - Chain [1] start processing\n",
      "01:53:47 - cmdstanpy - INFO - Chain [1] start processing\n",
      "01:53:47 - cmdstanpy - INFO - Chain [1] start processing\n",
      "01:53:47 - cmdstanpy - INFO - Chain [1] done processing\n",
      "01:53:47 - cmdstanpy - INFO - Chain [1] done processing\n",
      "01:53:47 - cmdstanpy - INFO - Chain [1] done processing\n",
      "01:53:47 - cmdstanpy - INFO - Chain [1] done processing\n",
      "01:53:48 - cmdstanpy - INFO - Chain [1] done processing\n",
      "01:53:48 - cmdstanpy - INFO - Chain [1] done processing\n",
      "01:53:48 - cmdstanpy - INFO - Chain [1] done processing\n",
      "01:53:48 - cmdstanpy - INFO - Chain [1] done processing\n",
      "01:53:48 - cmdstanpy - INFO - Chain [1] done processing\n",
      "01:53:48 - cmdstanpy - ERROR - Chain [1] error: error during processing Operation not permitted\n",
      "Optimization terminated abnormally. Falling back to Newton.\n",
      "01:53:48 - cmdstanpy - INFO - Chain [1] start processing\n",
      "01:53:54 - cmdstanpy - INFO - Chain [1] done processing\n"
     ]
    },
    {
     "name": "stdout",
     "output_type": "stream",
     "text": [
      "[I 2025-08-23 01:53:54,562] Trial 67 finished with value: 411.686251140982 and parameters: {'changepoint_prior_scale': 0.0007275580227751674, 'seasonality_prior_scale': 0.014979916628779831, 'holidays_prior_scale': 0.8501917413573529}. Best is trial 59 with value: 331.0571354600574.\n"
     ]
    },
    {
     "name": "stderr",
     "output_type": "stream",
     "text": [
      "01:53:54 - cmdstanpy - INFO - Chain [1] start processing\n",
      "01:53:54 - cmdstanpy - INFO - Chain [1] done processing\n",
      "01:53:55 - cmdstanpy - INFO - Chain [1] start processing\n",
      "01:53:55 - cmdstanpy - INFO - Chain [1] done processing\n",
      "01:53:56 - cmdstanpy - INFO - Chain [1] start processing\n",
      "01:53:56 - cmdstanpy - INFO - Chain [1] start processing\n",
      "01:53:56 - cmdstanpy - INFO - Chain [1] start processing\n",
      "01:53:56 - cmdstanpy - INFO - Chain [1] start processing\n",
      "01:53:56 - cmdstanpy - INFO - Chain [1] start processing\n",
      "01:53:56 - cmdstanpy - INFO - Chain [1] done processing\n",
      "01:53:56 - cmdstanpy - INFO - Chain [1] done processing\n",
      "01:53:56 - cmdstanpy - INFO - Chain [1] done processing\n",
      "01:53:56 - cmdstanpy - INFO - Chain [1] start processing\n",
      "01:53:56 - cmdstanpy - INFO - Chain [1] start processing\n",
      "01:53:56 - cmdstanpy - INFO - Chain [1] done processing\n",
      "01:53:56 - cmdstanpy - INFO - Chain [1] start processing\n",
      "01:53:56 - cmdstanpy - INFO - Chain [1] start processing\n",
      "01:53:56 - cmdstanpy - INFO - Chain [1] done processing\n",
      "01:53:56 - cmdstanpy - INFO - Chain [1] done processing\n",
      "01:53:56 - cmdstanpy - INFO - Chain [1] done processing\n",
      "01:53:56 - cmdstanpy - INFO - Chain [1] done processing\n",
      "01:53:56 - cmdstanpy - INFO - Chain [1] done processing\n"
     ]
    },
    {
     "name": "stdout",
     "output_type": "stream",
     "text": [
      "[I 2025-08-23 01:53:57,486] Trial 68 finished with value: 334.0889847995693 and parameters: {'changepoint_prior_scale': 0.0060344733020354585, 'seasonality_prior_scale': 0.6807969444530377, 'holidays_prior_scale': 0.1627718090560602}. Best is trial 59 with value: 331.0571354600574.\n"
     ]
    },
    {
     "name": "stderr",
     "output_type": "stream",
     "text": [
      "01:53:57 - cmdstanpy - INFO - Chain [1] start processing\n",
      "01:53:57 - cmdstanpy - INFO - Chain [1] done processing\n",
      "01:53:58 - cmdstanpy - INFO - Chain [1] start processing\n",
      "01:53:58 - cmdstanpy - INFO - Chain [1] done processing\n",
      "01:53:59 - cmdstanpy - INFO - Chain [1] start processing\n",
      "01:53:59 - cmdstanpy - INFO - Chain [1] start processing\n",
      "01:53:59 - cmdstanpy - INFO - Chain [1] start processing\n",
      "01:53:59 - cmdstanpy - INFO - Chain [1] done processing\n",
      "01:53:59 - cmdstanpy - INFO - Chain [1] start processing\n",
      "01:53:59 - cmdstanpy - INFO - Chain [1] start processing\n",
      "01:53:59 - cmdstanpy - INFO - Chain [1] start processing\n",
      "01:53:59 - cmdstanpy - INFO - Chain [1] done processing\n",
      "01:53:59 - cmdstanpy - INFO - Chain [1] start processing\n",
      "01:53:59 - cmdstanpy - INFO - Chain [1] start processing\n",
      "01:53:59 - cmdstanpy - INFO - Chain [1] done processing\n",
      "01:53:59 - cmdstanpy - INFO - Chain [1] start processing\n",
      "01:53:59 - cmdstanpy - INFO - Chain [1] done processing\n",
      "01:54:00 - cmdstanpy - INFO - Chain [1] done processing\n",
      "01:54:00 - cmdstanpy - INFO - Chain [1] done processing\n",
      "01:54:00 - cmdstanpy - INFO - Chain [1] done processing\n",
      "01:54:00 - cmdstanpy - INFO - Chain [1] done processing\n",
      "01:54:00 - cmdstanpy - INFO - Chain [1] done processing\n"
     ]
    },
    {
     "name": "stdout",
     "output_type": "stream",
     "text": [
      "[I 2025-08-23 01:54:00,624] Trial 69 finished with value: 342.9392068007007 and parameters: {'changepoint_prior_scale': 0.002255752070902852, 'seasonality_prior_scale': 28.631357695544583, 'holidays_prior_scale': 0.15670953922476064}. Best is trial 59 with value: 331.0571354600574.\n",
      "SEC-004 best params: {'changepoint_prior_scale': 0.002258872688728604, 'seasonality_prior_scale': 0.014512158162521414, 'holidays_prior_scale': 0.556673289471116}\n"
     ]
    },
    {
     "name": "stderr",
     "output_type": "stream",
     "text": [
      "01:54:00 - cmdstanpy - INFO - Chain [1] start processing\n",
      "01:54:01 - cmdstanpy - INFO - Chain [1] done processing\n",
      "[I 2025-08-23 01:54:01,164] A new study created in memory with name: no-name-2bf9f76d-5b41-4696-92ac-f57d66606070\n"
     ]
    },
    {
     "name": "stdout",
     "output_type": "stream",
     "text": [
      "\n",
      "[Main Loop] Processing section: SEC-005\n",
      "[Optuna] Tuning section: SEC-005\n"
     ]
    },
    {
     "data": {
      "application/vnd.jupyter.widget-view+json": {
       "model_id": "c95c4ad3277d41d38cfc4565f53ccd98",
       "version_major": 2,
       "version_minor": 0
      },
      "text/plain": [
       "  0%|          | 0/70 [00:00<?, ?it/s]"
      ]
     },
     "metadata": {},
     "output_type": "display_data"
    },
    {
     "name": "stderr",
     "output_type": "stream",
     "text": [
      "01:54:01 - cmdstanpy - INFO - Chain [1] start processing\n",
      "01:54:01 - cmdstanpy - INFO - Chain [1] done processing\n",
      "01:54:01 - cmdstanpy - ERROR - Chain [1] error: error during processing Operation not permitted\n",
      "Optimization terminated abnormally. Falling back to Newton.\n",
      "01:54:01 - cmdstanpy - INFO - Chain [1] start processing\n",
      "01:54:05 - cmdstanpy - INFO - Chain [1] done processing\n",
      "01:54:06 - cmdstanpy - INFO - Chain [1] start processing\n",
      "01:54:06 - cmdstanpy - INFO - Chain [1] done processing\n",
      "01:54:06 - cmdstanpy - ERROR - Chain [1] error: error during processing Operation not permitted\n",
      "Optimization terminated abnormally. Falling back to Newton.\n",
      "01:54:07 - cmdstanpy - INFO - Chain [1] start processing\n",
      "01:54:07 - cmdstanpy - INFO - Chain [1] done processing\n",
      "01:54:07 - cmdstanpy - INFO - Chain [1] start processing\n",
      "01:54:07 - cmdstanpy - ERROR - Chain [1] error: error during processing Operation not permitted\n",
      "01:54:07 - cmdstanpy - INFO - Chain [1] start processing\n",
      "01:54:07 - cmdstanpy - INFO - Chain [1] start processing\n",
      "01:54:07 - cmdstanpy - INFO - Chain [1] start processing\n",
      "01:54:07 - cmdstanpy - INFO - Chain [1] start processing\n",
      "Optimization terminated abnormally. Falling back to Newton.\n",
      "01:54:07 - cmdstanpy - INFO - Chain [1] start processing\n",
      "01:54:07 - cmdstanpy - INFO - Chain [1] start processing\n",
      "01:54:07 - cmdstanpy - INFO - Chain [1] start processing\n",
      "01:54:07 - cmdstanpy - INFO - Chain [1] start processing\n",
      "01:54:07 - cmdstanpy - INFO - Chain [1] done processing\n",
      "01:54:07 - cmdstanpy - INFO - Chain [1] done processing\n",
      "01:54:07 - cmdstanpy - ERROR - Chain [1] error: error during processing Operation not permitted\n",
      "01:54:07 - cmdstanpy - INFO - Chain [1] done processing\n",
      "01:54:07 - cmdstanpy - ERROR - Chain [1] error: error during processing Operation not permitted\n",
      "01:54:07 - cmdstanpy - INFO - Chain [1] done processing\n",
      "01:54:07 - cmdstanpy - INFO - Chain [1] done processing\n",
      "01:54:07 - cmdstanpy - ERROR - Chain [1] error: error during processing Operation not permitted\n",
      "01:54:07 - cmdstanpy - ERROR - Chain [1] error: error during processing Operation not permitted\n",
      "Optimization terminated abnormally. Falling back to Newton.\n",
      "01:54:07 - cmdstanpy - ERROR - Chain [1] error: error during processing Operation not permitted\n",
      "Optimization terminated abnormally. Falling back to Newton.\n",
      "01:54:07 - cmdstanpy - INFO - Chain [1] done processing\n",
      "Optimization terminated abnormally. Falling back to Newton.\n",
      "01:54:07 - cmdstanpy - INFO - Chain [1] done processing\n",
      "Optimization terminated abnormally. Falling back to Newton.\n",
      "01:54:07 - cmdstanpy - INFO - Chain [1] done processing\n",
      "Optimization terminated abnormally. Falling back to Newton.\n",
      "01:54:08 - cmdstanpy - ERROR - Chain [1] error: error during processing Operation not permitted\n",
      "01:54:08 - cmdstanpy - INFO - Chain [1] start processing\n",
      "Optimization terminated abnormally. Falling back to Newton.\n",
      "01:54:08 - cmdstanpy - ERROR - Chain [1] error: error during processing Operation not permitted\n",
      "01:54:08 - cmdstanpy - INFO - Chain [1] start processing\n",
      "Optimization terminated abnormally. Falling back to Newton.\n",
      "01:54:08 - cmdstanpy - INFO - Chain [1] start processing\n",
      "01:54:08 - cmdstanpy - INFO - Chain [1] start processing\n",
      "01:54:09 - cmdstanpy - INFO - Chain [1] start processing\n",
      "01:54:09 - cmdstanpy - INFO - Chain [1] start processing\n",
      "01:54:09 - cmdstanpy - INFO - Chain [1] start processing\n",
      "01:54:09 - cmdstanpy - INFO - Chain [1] start processing\n",
      "01:54:12 - cmdstanpy - INFO - Chain [1] done processing\n",
      "01:54:12 - cmdstanpy - INFO - Chain [1] done processing\n",
      "01:54:13 - cmdstanpy - INFO - Chain [1] done processing\n",
      "01:54:13 - cmdstanpy - INFO - Chain [1] done processing\n",
      "01:54:14 - cmdstanpy - INFO - Chain [1] done processing\n",
      "01:54:14 - cmdstanpy - INFO - Chain [1] done processing\n",
      "01:54:14 - cmdstanpy - INFO - Chain [1] done processing\n",
      "01:54:17 - cmdstanpy - INFO - Chain [1] done processing\n",
      "01:54:31 - cmdstanpy - INFO - Chain [1] done processing\n"
     ]
    },
    {
     "name": "stdout",
     "output_type": "stream",
     "text": [
      "[I 2025-08-23 01:54:31,287] Trial 0 finished with value: 819.8061316769918 and parameters: {'changepoint_prior_scale': 0.0002950180491613785, 'seasonality_prior_scale': 0.9712616234418383, 'holidays_prior_scale': 3.7146756138843138}. Best is trial 0 with value: 819.8061316769918.\n"
     ]
    },
    {
     "name": "stderr",
     "output_type": "stream",
     "text": [
      "01:54:31 - cmdstanpy - INFO - Chain [1] start processing\n",
      "01:54:31 - cmdstanpy - INFO - Chain [1] done processing\n",
      "01:54:32 - cmdstanpy - INFO - Chain [1] start processing\n",
      "01:54:33 - cmdstanpy - INFO - Chain [1] start processing\n",
      "01:54:33 - cmdstanpy - INFO - Chain [1] done processing\n",
      "01:54:33 - cmdstanpy - INFO - Chain [1] start processing\n",
      "01:54:33 - cmdstanpy - INFO - Chain [1] start processing\n",
      "01:54:33 - cmdstanpy - ERROR - Chain [1] error: error during processing Operation not permitted\n",
      "01:54:33 - cmdstanpy - INFO - Chain [1] start processing\n",
      "01:54:33 - cmdstanpy - INFO - Chain [1] start processing\n",
      "01:54:33 - cmdstanpy - INFO - Chain [1] start processing\n",
      "01:54:33 - cmdstanpy - INFO - Chain [1] start processing\n",
      "Optimization terminated abnormally. Falling back to Newton.\n",
      "01:54:33 - cmdstanpy - INFO - Chain [1] start processing\n",
      "01:54:33 - cmdstanpy - INFO - Chain [1] start processing\n",
      "01:54:33 - cmdstanpy - INFO - Chain [1] done processing\n",
      "01:54:33 - cmdstanpy - INFO - Chain [1] done processing\n",
      "01:54:33 - cmdstanpy - ERROR - Chain [1] error: error during processing Operation not permitted\n",
      "01:54:33 - cmdstanpy - ERROR - Chain [1] error: error during processing Operation not permitted\n",
      "01:54:33 - cmdstanpy - INFO - Chain [1] done processing\n",
      "Optimization terminated abnormally. Falling back to Newton.\n",
      "01:54:33 - cmdstanpy - INFO - Chain [1] done processing\n",
      "01:54:33 - cmdstanpy - INFO - Chain [1] done processing\n",
      "Optimization terminated abnormally. Falling back to Newton.\n",
      "01:54:33 - cmdstanpy - ERROR - Chain [1] error: error during processing Operation not permitted\n",
      "01:54:33 - cmdstanpy - INFO - Chain [1] done processing\n",
      "01:54:33 - cmdstanpy - INFO - Chain [1] done processing\n",
      "01:54:33 - cmdstanpy - INFO - Chain [1] done processing\n",
      "Optimization terminated abnormally. Falling back to Newton.\n",
      "01:54:33 - cmdstanpy - INFO - Chain [1] done processing\n",
      "01:54:33 - cmdstanpy - ERROR - Chain [1] error: error during processing Operation not permitted\n",
      "01:54:33 - cmdstanpy - INFO - Chain [1] start processing\n",
      "01:54:34 - cmdstanpy - INFO - Chain [1] start processing\n",
      "Optimization terminated abnormally. Falling back to Newton.\n",
      "01:54:34 - cmdstanpy - INFO - Chain [1] start processing\n",
      "01:54:34 - cmdstanpy - INFO - Chain [1] start processing\n",
      "01:54:34 - cmdstanpy - INFO - Chain [1] start processing\n",
      "01:54:37 - cmdstanpy - INFO - Chain [1] done processing\n",
      "01:54:37 - cmdstanpy - INFO - Chain [1] done processing\n",
      "01:54:37 - cmdstanpy - INFO - Chain [1] done processing\n",
      "01:54:38 - cmdstanpy - INFO - Chain [1] done processing\n",
      "01:54:38 - cmdstanpy - INFO - Chain [1] done processing\n"
     ]
    },
    {
     "name": "stdout",
     "output_type": "stream",
     "text": [
      "[I 2025-08-23 01:54:38,624] Trial 1 finished with value: 821.1502808598751 and parameters: {'changepoint_prior_scale': 0.0009250311803817822, 'seasonality_prior_scale': 0.010118471474283318, 'holidays_prior_scale': 0.1565996762605469}. Best is trial 0 with value: 819.8061316769918.\n"
     ]
    },
    {
     "name": "stderr",
     "output_type": "stream",
     "text": [
      "01:54:38 - cmdstanpy - INFO - Chain [1] start processing\n",
      "01:54:38 - cmdstanpy - INFO - Chain [1] done processing\n",
      "01:54:39 - cmdstanpy - INFO - Chain [1] start processing\n",
      "01:54:39 - cmdstanpy - INFO - Chain [1] done processing\n",
      "01:54:40 - cmdstanpy - INFO - Chain [1] start processing\n",
      "01:54:40 - cmdstanpy - INFO - Chain [1] start processing\n",
      "01:54:40 - cmdstanpy - INFO - Chain [1] done processing\n",
      "01:54:40 - cmdstanpy - INFO - Chain [1] start processing\n",
      "01:54:40 - cmdstanpy - INFO - Chain [1] start processing\n",
      "01:54:40 - cmdstanpy - INFO - Chain [1] start processing\n",
      "01:54:40 - cmdstanpy - INFO - Chain [1] done processing\n",
      "01:54:40 - cmdstanpy - INFO - Chain [1] start processing\n",
      "01:54:40 - cmdstanpy - INFO - Chain [1] start processing\n",
      "01:54:40 - cmdstanpy - INFO - Chain [1] start processing\n",
      "01:54:40 - cmdstanpy - INFO - Chain [1] start processing\n",
      "01:54:40 - cmdstanpy - INFO - Chain [1] done processing\n",
      "01:54:40 - cmdstanpy - INFO - Chain [1] done processing\n",
      "01:54:41 - cmdstanpy - INFO - Chain [1] done processing\n",
      "01:54:41 - cmdstanpy - INFO - Chain [1] done processing\n",
      "01:54:41 - cmdstanpy - INFO - Chain [1] done processing\n",
      "01:54:41 - cmdstanpy - INFO - Chain [1] done processing\n",
      "01:54:41 - cmdstanpy - INFO - Chain [1] done processing\n",
      "01:54:41 - cmdstanpy - INFO - Chain [1] start processing\n"
     ]
    },
    {
     "name": "stdout",
     "output_type": "stream",
     "text": [
      "[I 2025-08-23 01:54:41,683] Trial 2 finished with value: 803.9476334078269 and parameters: {'changepoint_prior_scale': 0.014100608967883309, 'seasonality_prior_scale': 0.8191923513134068, 'holidays_prior_scale': 2.795704364157125}. Best is trial 2 with value: 803.9476334078269.\n"
     ]
    },
    {
     "name": "stderr",
     "output_type": "stream",
     "text": [
      "01:54:41 - cmdstanpy - INFO - Chain [1] done processing\n",
      "01:54:43 - cmdstanpy - INFO - Chain [1] start processing\n",
      "01:54:43 - cmdstanpy - INFO - Chain [1] start processing\n",
      "01:54:43 - cmdstanpy - INFO - Chain [1] start processing\n",
      "01:54:43 - cmdstanpy - INFO - Chain [1] start processing\n",
      "01:54:43 - cmdstanpy - INFO - Chain [1] done processing\n",
      "01:54:43 - cmdstanpy - INFO - Chain [1] done processing\n",
      "01:54:43 - cmdstanpy - INFO - Chain [1] start processing\n",
      "01:54:43 - cmdstanpy - INFO - Chain [1] start processing\n",
      "01:54:43 - cmdstanpy - INFO - Chain [1] start processing\n",
      "01:54:43 - cmdstanpy - INFO - Chain [1] start processing\n",
      "01:54:43 - cmdstanpy - INFO - Chain [1] start processing\n",
      "01:54:43 - cmdstanpy - INFO - Chain [1] done processing\n",
      "01:54:43 - cmdstanpy - INFO - Chain [1] done processing\n",
      "01:54:43 - cmdstanpy - INFO - Chain [1] done processing\n",
      "01:54:43 - cmdstanpy - INFO - Chain [1] start processing\n",
      "01:54:43 - cmdstanpy - INFO - Chain [1] done processing\n",
      "01:54:44 - cmdstanpy - INFO - Chain [1] done processing\n",
      "01:54:44 - cmdstanpy - INFO - Chain [1] done processing\n",
      "01:54:44 - cmdstanpy - INFO - Chain [1] done processing\n",
      "01:54:44 - cmdstanpy - INFO - Chain [1] done processing\n",
      "01:54:44 - cmdstanpy - INFO - Chain [1] start processing\n"
     ]
    },
    {
     "name": "stdout",
     "output_type": "stream",
     "text": [
      "[I 2025-08-23 01:54:44,725] Trial 3 finished with value: 796.7565687834293 and parameters: {'changepoint_prior_scale': 0.051590028291546686, 'seasonality_prior_scale': 0.05607639135629744, 'holidays_prior_scale': 7.59507310636566}. Best is trial 3 with value: 796.7565687834293.\n"
     ]
    },
    {
     "name": "stderr",
     "output_type": "stream",
     "text": [
      "01:54:44 - cmdstanpy - INFO - Chain [1] done processing\n",
      "01:54:45 - cmdstanpy - INFO - Chain [1] start processing\n",
      "01:54:46 - cmdstanpy - INFO - Chain [1] done processing\n",
      "01:54:46 - cmdstanpy - INFO - Chain [1] start processing\n",
      "01:54:46 - cmdstanpy - INFO - Chain [1] start processing\n",
      "01:54:46 - cmdstanpy - INFO - Chain [1] start processing\n",
      "01:54:46 - cmdstanpy - INFO - Chain [1] start processing\n",
      "01:54:46 - cmdstanpy - INFO - Chain [1] start processing\n",
      "01:54:46 - cmdstanpy - INFO - Chain [1] start processing\n",
      "01:54:46 - cmdstanpy - INFO - Chain [1] start processing\n",
      "01:54:46 - cmdstanpy - INFO - Chain [1] start processing\n",
      "01:54:46 - cmdstanpy - INFO - Chain [1] start processing\n",
      "01:54:46 - cmdstanpy - INFO - Chain [1] done processing\n",
      "01:54:46 - cmdstanpy - INFO - Chain [1] done processing\n",
      "01:54:47 - cmdstanpy - INFO - Chain [1] done processing\n",
      "01:54:47 - cmdstanpy - INFO - Chain [1] done processing\n",
      "01:54:47 - cmdstanpy - INFO - Chain [1] done processing\n",
      "01:54:47 - cmdstanpy - INFO - Chain [1] done processing\n",
      "01:54:47 - cmdstanpy - INFO - Chain [1] done processing\n",
      "01:54:47 - cmdstanpy - INFO - Chain [1] done processing\n",
      "01:54:47 - cmdstanpy - INFO - Chain [1] done processing\n"
     ]
    },
    {
     "name": "stdout",
     "output_type": "stream",
     "text": [
      "[I 2025-08-23 01:54:47,942] Trial 4 finished with value: 821.0704411660978 and parameters: {'changepoint_prior_scale': 0.0018165248388444, 'seasonality_prior_scale': 0.04090421319991567, 'holidays_prior_scale': 0.06681647343747153}. Best is trial 3 with value: 796.7565687834293.\n"
     ]
    },
    {
     "name": "stderr",
     "output_type": "stream",
     "text": [
      "01:54:48 - cmdstanpy - INFO - Chain [1] start processing\n",
      "01:54:48 - cmdstanpy - INFO - Chain [1] done processing\n",
      "01:54:49 - cmdstanpy - INFO - Chain [1] start processing\n",
      "01:54:49 - cmdstanpy - INFO - Chain [1] done processing\n",
      "01:54:49 - cmdstanpy - INFO - Chain [1] start processing\n",
      "01:54:50 - cmdstanpy - INFO - Chain [1] start processing\n",
      "01:54:50 - cmdstanpy - INFO - Chain [1] done processing\n",
      "01:54:50 - cmdstanpy - INFO - Chain [1] start processing\n",
      "01:54:50 - cmdstanpy - INFO - Chain [1] start processing\n",
      "01:54:50 - cmdstanpy - INFO - Chain [1] start processing\n",
      "01:54:50 - cmdstanpy - INFO - Chain [1] start processing\n",
      "01:54:50 - cmdstanpy - INFO - Chain [1] start processing\n",
      "01:54:50 - cmdstanpy - INFO - Chain [1] start processing\n",
      "01:54:50 - cmdstanpy - INFO - Chain [1] start processing\n",
      "01:54:50 - cmdstanpy - INFO - Chain [1] done processing\n",
      "01:54:50 - cmdstanpy - INFO - Chain [1] done processing\n",
      "01:54:50 - cmdstanpy - INFO - Chain [1] done processing\n",
      "01:54:50 - cmdstanpy - INFO - Chain [1] done processing\n",
      "01:54:50 - cmdstanpy - INFO - Chain [1] done processing\n",
      "01:54:50 - cmdstanpy - INFO - Chain [1] done processing\n",
      "01:54:50 - cmdstanpy - INFO - Chain [1] done processing\n",
      "01:54:50 - cmdstanpy - INFO - Chain [1] done processing\n",
      "01:54:51 - cmdstanpy - INFO - Chain [1] start processing\n"
     ]
    },
    {
     "name": "stdout",
     "output_type": "stream",
     "text": [
      "[I 2025-08-23 01:54:51,289] Trial 5 finished with value: 807.7607939149583 and parameters: {'changepoint_prior_scale': 0.009846635271718295, 'seasonality_prior_scale': 0.2176775118724554, 'holidays_prior_scale': 1.3128347963262132}. Best is trial 3 with value: 796.7565687834293.\n"
     ]
    },
    {
     "name": "stderr",
     "output_type": "stream",
     "text": [
      "01:54:51 - cmdstanpy - INFO - Chain [1] done processing\n",
      "01:54:52 - cmdstanpy - INFO - Chain [1] start processing\n",
      "01:54:53 - cmdstanpy - INFO - Chain [1] done processing\n",
      "01:54:53 - cmdstanpy - INFO - Chain [1] start processing\n",
      "01:54:53 - cmdstanpy - INFO - Chain [1] start processing\n",
      "01:54:53 - cmdstanpy - INFO - Chain [1] start processing\n",
      "01:54:53 - cmdstanpy - INFO - Chain [1] start processing\n",
      "01:54:53 - cmdstanpy - INFO - Chain [1] start processing\n",
      "01:54:53 - cmdstanpy - INFO - Chain [1] start processing\n",
      "01:54:53 - cmdstanpy - INFO - Chain [1] start processing\n",
      "01:54:53 - cmdstanpy - INFO - Chain [1] start processing\n",
      "01:54:53 - cmdstanpy - INFO - Chain [1] done processing\n",
      "01:54:53 - cmdstanpy - INFO - Chain [1] done processing\n",
      "01:54:53 - cmdstanpy - INFO - Chain [1] start processing\n",
      "01:54:53 - cmdstanpy - INFO - Chain [1] done processing\n",
      "01:54:53 - cmdstanpy - INFO - Chain [1] done processing\n",
      "01:54:53 - cmdstanpy - INFO - Chain [1] done processing\n",
      "01:54:53 - cmdstanpy - INFO - Chain [1] done processing\n",
      "01:54:53 - cmdstanpy - INFO - Chain [1] done processing\n",
      "01:54:53 - cmdstanpy - INFO - Chain [1] done processing\n",
      "01:54:53 - cmdstanpy - INFO - Chain [1] done processing\n"
     ]
    },
    {
     "name": "stdout",
     "output_type": "stream",
     "text": [
      "[I 2025-08-23 01:54:54,261] Trial 6 finished with value: 798.2804070888651 and parameters: {'changepoint_prior_scale': 0.0363875454454326, 'seasonality_prior_scale': 0.4410283927165203, 'holidays_prior_scale': 0.7169134832066134}. Best is trial 3 with value: 796.7565687834293.\n"
     ]
    },
    {
     "name": "stderr",
     "output_type": "stream",
     "text": [
      "01:54:54 - cmdstanpy - INFO - Chain [1] start processing\n",
      "01:54:54 - cmdstanpy - INFO - Chain [1] done processing\n",
      "01:54:55 - cmdstanpy - INFO - Chain [1] start processing\n",
      "01:54:55 - cmdstanpy - INFO - Chain [1] done processing\n",
      "01:54:55 - cmdstanpy - INFO - Chain [1] start processing\n",
      "01:54:56 - cmdstanpy - INFO - Chain [1] start processing\n",
      "01:54:56 - cmdstanpy - INFO - Chain [1] done processing\n",
      "01:54:56 - cmdstanpy - INFO - Chain [1] start processing\n",
      "01:54:56 - cmdstanpy - INFO - Chain [1] start processing\n",
      "01:54:56 - cmdstanpy - INFO - Chain [1] start processing\n",
      "01:54:56 - cmdstanpy - INFO - Chain [1] start processing\n",
      "01:54:56 - cmdstanpy - INFO - Chain [1] start processing\n",
      "01:54:56 - cmdstanpy - INFO - Chain [1] start processing\n",
      "01:54:56 - cmdstanpy - INFO - Chain [1] start processing\n",
      "01:54:56 - cmdstanpy - INFO - Chain [1] done processing\n",
      "01:54:56 - cmdstanpy - INFO - Chain [1] done processing\n",
      "01:54:56 - cmdstanpy - INFO - Chain [1] done processing\n",
      "01:54:56 - cmdstanpy - INFO - Chain [1] done processing\n",
      "01:54:56 - cmdstanpy - INFO - Chain [1] done processing\n",
      "01:54:56 - cmdstanpy - INFO - Chain [1] done processing\n",
      "01:54:56 - cmdstanpy - INFO - Chain [1] done processing\n",
      "01:54:56 - cmdstanpy - INFO - Chain [1] done processing\n",
      "01:54:57 - cmdstanpy - INFO - Chain [1] start processing\n"
     ]
    },
    {
     "name": "stdout",
     "output_type": "stream",
     "text": [
      "[I 2025-08-23 01:54:57,150] Trial 7 finished with value: 801.1678587522272 and parameters: {'changepoint_prior_scale': 0.11821685055173378, 'seasonality_prior_scale': 15.425326726589597, 'holidays_prior_scale': 0.7095537443779694}. Best is trial 3 with value: 796.7565687834293.\n"
     ]
    },
    {
     "name": "stderr",
     "output_type": "stream",
     "text": [
      "01:54:57 - cmdstanpy - INFO - Chain [1] done processing\n",
      "01:54:58 - cmdstanpy - INFO - Chain [1] start processing\n",
      "01:54:58 - cmdstanpy - INFO - Chain [1] done processing\n",
      "01:54:59 - cmdstanpy - INFO - Chain [1] start processing\n",
      "01:54:59 - cmdstanpy - INFO - Chain [1] start processing\n",
      "01:54:59 - cmdstanpy - INFO - Chain [1] start processing\n",
      "01:54:59 - cmdstanpy - INFO - Chain [1] start processing\n",
      "01:54:59 - cmdstanpy - INFO - Chain [1] start processing\n",
      "01:54:59 - cmdstanpy - INFO - Chain [1] start processing\n",
      "01:54:59 - cmdstanpy - INFO - Chain [1] done processing\n",
      "01:54:59 - cmdstanpy - INFO - Chain [1] start processing\n",
      "01:54:59 - cmdstanpy - INFO - Chain [1] done processing\n",
      "01:54:59 - cmdstanpy - INFO - Chain [1] start processing\n",
      "01:54:59 - cmdstanpy - INFO - Chain [1] done processing\n",
      "01:54:59 - cmdstanpy - INFO - Chain [1] done processing\n",
      "01:54:59 - cmdstanpy - INFO - Chain [1] start processing\n",
      "01:54:59 - cmdstanpy - INFO - Chain [1] done processing\n",
      "01:54:59 - cmdstanpy - INFO - Chain [1] done processing\n",
      "01:54:59 - cmdstanpy - INFO - Chain [1] done processing\n",
      "01:54:59 - cmdstanpy - INFO - Chain [1] done processing\n",
      "01:54:59 - cmdstanpy - INFO - Chain [1] done processing\n"
     ]
    },
    {
     "name": "stdout",
     "output_type": "stream",
     "text": [
      "[I 2025-08-23 01:55:00,232] Trial 8 finished with value: 797.9384228303429 and parameters: {'changepoint_prior_scale': 0.030605262770362338, 'seasonality_prior_scale': 16.53041784311918, 'holidays_prior_scale': 0.1403440198755224}. Best is trial 3 with value: 796.7565687834293.\n"
     ]
    },
    {
     "name": "stderr",
     "output_type": "stream",
     "text": [
      "01:55:00 - cmdstanpy - INFO - Chain [1] start processing\n",
      "01:55:00 - cmdstanpy - INFO - Chain [1] done processing\n",
      "01:55:00 - cmdstanpy - ERROR - Chain [1] error: error during processing Operation not permitted\n",
      "Optimization terminated abnormally. Falling back to Newton.\n",
      "01:55:00 - cmdstanpy - INFO - Chain [1] start processing\n",
      "01:55:15 - cmdstanpy - INFO - Chain [1] done processing\n",
      "01:55:16 - cmdstanpy - INFO - Chain [1] start processing\n",
      "01:55:17 - cmdstanpy - INFO - Chain [1] done processing\n",
      "01:55:17 - cmdstanpy - INFO - Chain [1] start processing\n",
      "01:55:17 - cmdstanpy - INFO - Chain [1] start processing\n",
      "01:55:17 - cmdstanpy - INFO - Chain [1] start processing\n",
      "01:55:17 - cmdstanpy - INFO - Chain [1] start processing\n",
      "01:55:17 - cmdstanpy - INFO - Chain [1] start processing\n",
      "01:55:17 - cmdstanpy - INFO - Chain [1] start processing\n",
      "01:55:17 - cmdstanpy - INFO - Chain [1] start processing\n",
      "01:55:17 - cmdstanpy - INFO - Chain [1] start processing\n",
      "01:55:17 - cmdstanpy - INFO - Chain [1] done processing\n",
      "01:55:17 - cmdstanpy - INFO - Chain [1] start processing\n",
      "01:55:17 - cmdstanpy - ERROR - Chain [1] error: error during processing Operation not permitted\n",
      "01:55:17 - cmdstanpy - INFO - Chain [1] done processing\n",
      "01:55:17 - cmdstanpy - ERROR - Chain [1] error: error during processing Operation not permitted\n",
      "Optimization terminated abnormally. Falling back to Newton.\n",
      "01:55:17 - cmdstanpy - INFO - Chain [1] done processing\n",
      "01:55:17 - cmdstanpy - INFO - Chain [1] done processing\n",
      "Optimization terminated abnormally. Falling back to Newton.\n",
      "01:55:17 - cmdstanpy - ERROR - Chain [1] error: error during processing Operation not permitted\n",
      "01:55:17 - cmdstanpy - INFO - Chain [1] done processing\n",
      "01:55:17 - cmdstanpy - INFO - Chain [1] done processing\n",
      "01:55:17 - cmdstanpy - ERROR - Chain [1] error: error during processing Operation not permitted\n",
      "Optimization terminated abnormally. Falling back to Newton.\n",
      "01:55:17 - cmdstanpy - INFO - Chain [1] done processing\n",
      "01:55:17 - cmdstanpy - ERROR - Chain [1] error: error during processing Operation not permitted\n",
      "01:55:17 - cmdstanpy - INFO - Chain [1] done processing\n",
      "Optimization terminated abnormally. Falling back to Newton.\n",
      "01:55:17 - cmdstanpy - INFO - Chain [1] done processing\n",
      "Optimization terminated abnormally. Falling back to Newton.\n",
      "01:55:17 - cmdstanpy - ERROR - Chain [1] error: error during processing Operation not permitted\n",
      "01:55:18 - cmdstanpy - ERROR - Chain [1] error: error during processing Operation not permitted\n",
      "Optimization terminated abnormally. Falling back to Newton.\n",
      "01:55:18 - cmdstanpy - INFO - Chain [1] start processing\n",
      "01:55:18 - cmdstanpy - INFO - Chain [1] start processing\n",
      "Optimization terminated abnormally. Falling back to Newton.\n",
      "01:55:18 - cmdstanpy - INFO - Chain [1] start processing\n",
      "01:55:18 - cmdstanpy - INFO - Chain [1] start processing\n",
      "01:55:18 - cmdstanpy - INFO - Chain [1] start processing\n",
      "01:55:18 - cmdstanpy - INFO - Chain [1] start processing\n",
      "01:55:18 - cmdstanpy - INFO - Chain [1] start processing\n",
      "01:55:22 - cmdstanpy - INFO - Chain [1] done processing\n",
      "01:55:22 - cmdstanpy - INFO - Chain [1] done processing\n",
      "01:55:23 - cmdstanpy - INFO - Chain [1] done processing\n",
      "01:55:23 - cmdstanpy - INFO - Chain [1] done processing\n",
      "01:55:23 - cmdstanpy - INFO - Chain [1] done processing\n",
      "01:55:24 - cmdstanpy - INFO - Chain [1] done processing\n",
      "01:55:24 - cmdstanpy - INFO - Chain [1] done processing\n"
     ]
    },
    {
     "name": "stdout",
     "output_type": "stream",
     "text": [
      "[I 2025-08-23 01:55:25,047] Trial 9 finished with value: 825.2935352024202 and parameters: {'changepoint_prior_scale': 0.0004911446586566596, 'seasonality_prior_scale': 0.032883165482103176, 'holidays_prior_scale': 0.1664554462907305}. Best is trial 3 with value: 796.7565687834293.\n"
     ]
    },
    {
     "name": "stderr",
     "output_type": "stream",
     "text": [
      "01:55:25 - cmdstanpy - INFO - Chain [1] start processing\n",
      "01:55:25 - cmdstanpy - INFO - Chain [1] done processing\n",
      "01:55:26 - cmdstanpy - INFO - Chain [1] start processing\n",
      "01:55:26 - cmdstanpy - INFO - Chain [1] start processing\n",
      "01:55:26 - cmdstanpy - INFO - Chain [1] start processing\n",
      "01:55:26 - cmdstanpy - INFO - Chain [1] start processing\n",
      "01:55:26 - cmdstanpy - INFO - Chain [1] start processing\n",
      "01:55:26 - cmdstanpy - INFO - Chain [1] done processing\n",
      "01:55:26 - cmdstanpy - INFO - Chain [1] start processing\n",
      "01:55:26 - cmdstanpy - INFO - Chain [1] start processing\n",
      "01:55:26 - cmdstanpy - INFO - Chain [1] start processing\n",
      "01:55:27 - cmdstanpy - INFO - Chain [1] done processing\n",
      "01:55:27 - cmdstanpy - INFO - Chain [1] done processing\n",
      "01:55:27 - cmdstanpy - INFO - Chain [1] done processing\n",
      "01:55:27 - cmdstanpy - INFO - Chain [1] start processing\n",
      "01:55:27 - cmdstanpy - INFO - Chain [1] done processing\n",
      "01:55:27 - cmdstanpy - INFO - Chain [1] start processing\n",
      "01:55:27 - cmdstanpy - INFO - Chain [1] done processing\n",
      "01:55:27 - cmdstanpy - INFO - Chain [1] done processing\n",
      "01:55:27 - cmdstanpy - INFO - Chain [1] done processing\n",
      "01:55:27 - cmdstanpy - INFO - Chain [1] done processing\n",
      "01:55:27 - cmdstanpy - INFO - Chain [1] done processing\n",
      "01:55:28 - cmdstanpy - INFO - Chain [1] start processing\n"
     ]
    },
    {
     "name": "stdout",
     "output_type": "stream",
     "text": [
      "[I 2025-08-23 01:55:28,010] Trial 10 finished with value: 810.5065362754401 and parameters: {'changepoint_prior_scale': 0.33005318665749916, 'seasonality_prior_scale': 3.5417721256912125, 'holidays_prior_scale': 30.313871362688953}. Best is trial 3 with value: 796.7565687834293.\n"
     ]
    },
    {
     "name": "stderr",
     "output_type": "stream",
     "text": [
      "01:55:28 - cmdstanpy - INFO - Chain [1] done processing\n",
      "01:55:29 - cmdstanpy - INFO - Chain [1] start processing\n",
      "01:55:29 - cmdstanpy - INFO - Chain [1] done processing\n",
      "01:55:29 - cmdstanpy - INFO - Chain [1] start processing\n",
      "01:55:30 - cmdstanpy - INFO - Chain [1] done processing\n",
      "01:55:30 - cmdstanpy - INFO - Chain [1] start processing\n",
      "01:55:30 - cmdstanpy - INFO - Chain [1] start processing\n",
      "01:55:30 - cmdstanpy - INFO - Chain [1] start processing\n",
      "01:55:30 - cmdstanpy - INFO - Chain [1] start processing\n",
      "01:55:30 - cmdstanpy - INFO - Chain [1] start processing\n",
      "01:55:30 - cmdstanpy - INFO - Chain [1] start processing\n",
      "01:55:30 - cmdstanpy - INFO - Chain [1] start processing\n",
      "01:55:30 - cmdstanpy - INFO - Chain [1] start processing\n",
      "01:55:31 - cmdstanpy - INFO - Chain [1] done processing\n",
      "01:55:31 - cmdstanpy - INFO - Chain [1] done processing\n",
      "01:55:31 - cmdstanpy - INFO - Chain [1] done processing\n",
      "01:55:31 - cmdstanpy - INFO - Chain [1] done processing\n",
      "01:55:31 - cmdstanpy - INFO - Chain [1] done processing\n",
      "01:55:31 - cmdstanpy - INFO - Chain [1] done processing\n",
      "01:55:32 - cmdstanpy - INFO - Chain [1] done processing\n",
      "01:55:32 - cmdstanpy - INFO - Chain [1] done processing\n",
      "01:55:32 - cmdstanpy - INFO - Chain [1] start processing\n"
     ]
    },
    {
     "name": "stdout",
     "output_type": "stream",
     "text": [
      "[I 2025-08-23 01:55:32,572] Trial 11 finished with value: 799.5015471015263 and parameters: {'changepoint_prior_scale': 0.05008760925850133, 'seasonality_prior_scale': 31.897719162546178, 'holidays_prior_scale': 19.836300339115382}. Best is trial 3 with value: 796.7565687834293.\n"
     ]
    },
    {
     "name": "stderr",
     "output_type": "stream",
     "text": [
      "01:55:32 - cmdstanpy - INFO - Chain [1] done processing\n",
      "01:55:34 - cmdstanpy - INFO - Chain [1] start processing\n",
      "01:55:34 - cmdstanpy - INFO - Chain [1] start processing\n",
      "01:55:34 - cmdstanpy - INFO - Chain [1] start processing\n",
      "01:55:34 - cmdstanpy - INFO - Chain [1] start processing\n",
      "01:55:34 - cmdstanpy - INFO - Chain [1] start processing\n",
      "01:55:34 - cmdstanpy - INFO - Chain [1] start processing\n",
      "01:55:34 - cmdstanpy - INFO - Chain [1] start processing\n",
      "01:55:34 - cmdstanpy - INFO - Chain [1] start processing\n",
      "01:55:34 - cmdstanpy - INFO - Chain [1] start processing\n",
      "01:55:34 - cmdstanpy - INFO - Chain [1] start processing\n",
      "01:55:34 - cmdstanpy - INFO - Chain [1] done processing\n",
      "01:55:34 - cmdstanpy - INFO - Chain [1] done processing\n",
      "01:55:34 - cmdstanpy - INFO - Chain [1] done processing\n",
      "01:55:34 - cmdstanpy - INFO - Chain [1] done processing\n",
      "01:55:34 - cmdstanpy - INFO - Chain [1] done processing\n",
      "01:55:34 - cmdstanpy - INFO - Chain [1] done processing\n",
      "01:55:34 - cmdstanpy - INFO - Chain [1] done processing\n",
      "01:55:34 - cmdstanpy - INFO - Chain [1] done processing\n",
      "01:55:34 - cmdstanpy - INFO - Chain [1] done processing\n",
      "01:55:35 - cmdstanpy - INFO - Chain [1] done processing\n"
     ]
    },
    {
     "name": "stdout",
     "output_type": "stream",
     "text": [
      "[I 2025-08-23 01:55:35,672] Trial 12 finished with value: 834.3745997475195 and parameters: {'changepoint_prior_scale': 0.47856708309869617, 'seasonality_prior_scale': 5.565461084117266, 'holidays_prior_scale': 0.018842090416795278}. Best is trial 3 with value: 796.7565687834293.\n"
     ]
    },
    {
     "name": "stderr",
     "output_type": "stream",
     "text": [
      "01:55:35 - cmdstanpy - INFO - Chain [1] start processing\n",
      "01:55:36 - cmdstanpy - INFO - Chain [1] done processing\n",
      "01:55:37 - cmdstanpy - INFO - Chain [1] start processing\n",
      "01:55:37 - cmdstanpy - INFO - Chain [1] start processing\n",
      "01:55:37 - cmdstanpy - INFO - Chain [1] start processing\n",
      "01:55:37 - cmdstanpy - INFO - Chain [1] done processing\n",
      "01:55:37 - cmdstanpy - INFO - Chain [1] start processing\n",
      "01:55:37 - cmdstanpy - INFO - Chain [1] start processing\n",
      "01:55:37 - cmdstanpy - INFO - Chain [1] start processing\n",
      "01:55:37 - cmdstanpy - INFO - Chain [1] start processing\n",
      "01:55:37 - cmdstanpy - INFO - Chain [1] start processing\n",
      "01:55:37 - cmdstanpy - INFO - Chain [1] done processing\n",
      "01:55:37 - cmdstanpy - INFO - Chain [1] start processing\n",
      "01:55:37 - cmdstanpy - INFO - Chain [1] done processing\n",
      "01:55:38 - cmdstanpy - INFO - Chain [1] done processing\n",
      "01:55:38 - cmdstanpy - INFO - Chain [1] start processing\n",
      "01:55:38 - cmdstanpy - INFO - Chain [1] done processing\n",
      "01:55:38 - cmdstanpy - INFO - Chain [1] done processing\n",
      "01:55:38 - cmdstanpy - INFO - Chain [1] done processing\n",
      "01:55:38 - cmdstanpy - INFO - Chain [1] done processing\n",
      "01:55:38 - cmdstanpy - INFO - Chain [1] done processing\n",
      "01:55:38 - cmdstanpy - INFO - Chain [1] done processing\n"
     ]
    },
    {
     "name": "stdout",
     "output_type": "stream",
     "text": [
      "[I 2025-08-23 01:55:38,935] Trial 13 finished with value: 798.7006101546235 and parameters: {'changepoint_prior_scale': 0.0031058727683421013, 'seasonality_prior_scale': 0.12840809809261758, 'holidays_prior_scale': 9.899084227041548}. Best is trial 3 with value: 796.7565687834293.\n"
     ]
    },
    {
     "name": "stderr",
     "output_type": "stream",
     "text": [
      "01:55:39 - cmdstanpy - INFO - Chain [1] start processing\n",
      "01:55:39 - cmdstanpy - INFO - Chain [1] done processing\n",
      "01:55:39 - cmdstanpy - INFO - Chain [1] start processing\n",
      "01:55:40 - cmdstanpy - INFO - Chain [1] done processing\n",
      "01:55:40 - cmdstanpy - INFO - Chain [1] start processing\n",
      "01:55:40 - cmdstanpy - INFO - Chain [1] start processing\n",
      "01:55:40 - cmdstanpy - INFO - Chain [1] done processing\n",
      "01:55:40 - cmdstanpy - INFO - Chain [1] start processing\n",
      "01:55:40 - cmdstanpy - INFO - Chain [1] start processing\n",
      "01:55:40 - cmdstanpy - INFO - Chain [1] start processing\n",
      "01:55:40 - cmdstanpy - INFO - Chain [1] done processing\n",
      "01:55:40 - cmdstanpy - INFO - Chain [1] start processing\n",
      "01:55:40 - cmdstanpy - INFO - Chain [1] start processing\n",
      "01:55:40 - cmdstanpy - INFO - Chain [1] start processing\n",
      "01:55:40 - cmdstanpy - INFO - Chain [1] start processing\n",
      "01:55:41 - cmdstanpy - INFO - Chain [1] done processing\n",
      "01:55:41 - cmdstanpy - INFO - Chain [1] done processing\n",
      "01:55:41 - cmdstanpy - INFO - Chain [1] done processing\n",
      "01:55:41 - cmdstanpy - INFO - Chain [1] done processing\n",
      "01:55:41 - cmdstanpy - INFO - Chain [1] done processing\n",
      "01:55:41 - cmdstanpy - INFO - Chain [1] done processing\n",
      "01:55:41 - cmdstanpy - INFO - Chain [1] done processing\n"
     ]
    },
    {
     "name": "stdout",
     "output_type": "stream",
     "text": [
      "[I 2025-08-23 01:55:41,795] Trial 14 finished with value: 798.7934434045808 and parameters: {'changepoint_prior_scale': 0.030987013691461958, 'seasonality_prior_scale': 2.6551529281887816, 'holidays_prior_scale': 0.18618207178786345}. Best is trial 3 with value: 796.7565687834293.\n"
     ]
    },
    {
     "name": "stderr",
     "output_type": "stream",
     "text": [
      "01:55:41 - cmdstanpy - INFO - Chain [1] start processing\n",
      "01:55:42 - cmdstanpy - INFO - Chain [1] done processing\n",
      "01:55:42 - cmdstanpy - INFO - Chain [1] start processing\n",
      "01:55:43 - cmdstanpy - INFO - Chain [1] done processing\n",
      "01:55:43 - cmdstanpy - INFO - Chain [1] start processing\n",
      "01:55:43 - cmdstanpy - INFO - Chain [1] done processing\n",
      "01:55:43 - cmdstanpy - INFO - Chain [1] start processing\n",
      "01:55:43 - cmdstanpy - INFO - Chain [1] start processing\n",
      "01:55:43 - cmdstanpy - INFO - Chain [1] start processing\n",
      "01:55:43 - cmdstanpy - INFO - Chain [1] start processing\n",
      "01:55:43 - cmdstanpy - INFO - Chain [1] start processing\n",
      "01:55:43 - cmdstanpy - INFO - Chain [1] start processing\n",
      "01:55:43 - cmdstanpy - INFO - Chain [1] start processing\n",
      "01:55:43 - cmdstanpy - INFO - Chain [1] start processing\n",
      "01:55:43 - cmdstanpy - INFO - Chain [1] done processing\n",
      "01:55:43 - cmdstanpy - INFO - Chain [1] done processing\n",
      "01:55:43 - cmdstanpy - INFO - Chain [1] done processing\n",
      "01:55:44 - cmdstanpy - INFO - Chain [1] done processing\n",
      "01:55:44 - cmdstanpy - INFO - Chain [1] done processing\n",
      "01:55:44 - cmdstanpy - INFO - Chain [1] done processing\n",
      "01:55:44 - cmdstanpy - INFO - Chain [1] done processing\n",
      "01:55:44 - cmdstanpy - INFO - Chain [1] done processing\n"
     ]
    },
    {
     "name": "stdout",
     "output_type": "stream",
     "text": [
      "[I 2025-08-23 01:55:44,676] Trial 15 finished with value: 812.8137899465878 and parameters: {'changepoint_prior_scale': 0.1180165947128874, 'seasonality_prior_scale': 0.06563335908532392, 'holidays_prior_scale': 0.021113141726732825}. Best is trial 3 with value: 796.7565687834293.\n"
     ]
    },
    {
     "name": "stderr",
     "output_type": "stream",
     "text": [
      "01:55:44 - cmdstanpy - INFO - Chain [1] start processing\n",
      "01:55:44 - cmdstanpy - INFO - Chain [1] done processing\n",
      "01:55:46 - cmdstanpy - INFO - Chain [1] start processing\n",
      "01:55:46 - cmdstanpy - INFO - Chain [1] start processing\n",
      "01:55:46 - cmdstanpy - INFO - Chain [1] start processing\n",
      "01:55:46 - cmdstanpy - INFO - Chain [1] done processing\n",
      "01:55:46 - cmdstanpy - INFO - Chain [1] start processing\n",
      "01:55:46 - cmdstanpy - INFO - Chain [1] start processing\n",
      "01:55:46 - cmdstanpy - INFO - Chain [1] start processing\n",
      "01:55:46 - cmdstanpy - INFO - Chain [1] start processing\n",
      "01:55:46 - cmdstanpy - INFO - Chain [1] done processing\n",
      "01:55:46 - cmdstanpy - INFO - Chain [1] start processing\n",
      "01:55:46 - cmdstanpy - INFO - Chain [1] start processing\n",
      "01:55:46 - cmdstanpy - INFO - Chain [1] start processing\n",
      "01:55:46 - cmdstanpy - INFO - Chain [1] done processing\n",
      "01:55:46 - cmdstanpy - INFO - Chain [1] done processing\n",
      "01:55:46 - cmdstanpy - INFO - Chain [1] done processing\n",
      "01:55:46 - cmdstanpy - INFO - Chain [1] done processing\n",
      "01:55:47 - cmdstanpy - INFO - Chain [1] done processing\n",
      "01:55:47 - cmdstanpy - INFO - Chain [1] done processing\n",
      "01:55:47 - cmdstanpy - INFO - Chain [1] done processing\n",
      "01:55:47 - cmdstanpy - INFO - Chain [1] done processing\n"
     ]
    },
    {
     "name": "stdout",
     "output_type": "stream",
     "text": [
      "[I 2025-08-23 01:55:47,645] Trial 16 finished with value: 770.743807081078 and parameters: {'changepoint_prior_scale': 0.00492078962567977, 'seasonality_prior_scale': 0.013100569596162985, 'holidays_prior_scale': 7.8771023389384816}. Best is trial 16 with value: 770.743807081078.\n"
     ]
    },
    {
     "name": "stderr",
     "output_type": "stream",
     "text": [
      "01:55:47 - cmdstanpy - INFO - Chain [1] start processing\n",
      "01:55:47 - cmdstanpy - INFO - Chain [1] done processing\n",
      "01:55:47 - cmdstanpy - ERROR - Chain [1] error: error during processing Operation not permitted\n",
      "Optimization terminated abnormally. Falling back to Newton.\n",
      "01:55:48 - cmdstanpy - INFO - Chain [1] start processing\n",
      "01:55:49 - cmdstanpy - INFO - Chain [1] done processing\n",
      "01:55:51 - cmdstanpy - INFO - Chain [1] start processing\n",
      "01:55:51 - cmdstanpy - INFO - Chain [1] done processing\n",
      "01:55:51 - cmdstanpy - ERROR - Chain [1] error: error during processing Operation not permitted\n",
      "01:55:51 - cmdstanpy - INFO - Chain [1] start processing\n",
      "01:55:51 - cmdstanpy - INFO - Chain [1] start processing\n",
      "Optimization terminated abnormally. Falling back to Newton.\n",
      "01:55:51 - cmdstanpy - INFO - Chain [1] start processing\n",
      "01:55:51 - cmdstanpy - INFO - Chain [1] done processing\n",
      "01:55:51 - cmdstanpy - INFO - Chain [1] start processing\n",
      "01:55:51 - cmdstanpy - ERROR - Chain [1] error: error during processing Operation not permitted\n",
      "01:55:51 - cmdstanpy - INFO - Chain [1] start processing\n",
      "01:55:51 - cmdstanpy - INFO - Chain [1] start processing\n",
      "01:55:51 - cmdstanpy - INFO - Chain [1] start processing\n",
      "Optimization terminated abnormally. Falling back to Newton.\n",
      "01:55:51 - cmdstanpy - INFO - Chain [1] start processing\n",
      "01:55:51 - cmdstanpy - INFO - Chain [1] start processing\n",
      "01:55:51 - cmdstanpy - INFO - Chain [1] done processing\n",
      "01:55:51 - cmdstanpy - INFO - Chain [1] done processing\n",
      "01:55:51 - cmdstanpy - INFO - Chain [1] done processing\n",
      "01:55:51 - cmdstanpy - ERROR - Chain [1] error: error during processing Operation not permitted\n",
      "01:55:51 - cmdstanpy - INFO - Chain [1] done processing\n",
      "01:55:51 - cmdstanpy - ERROR - Chain [1] error: error during processing Operation not permitted\n",
      "01:55:51 - cmdstanpy - INFO - Chain [1] done processing\n",
      "01:55:51 - cmdstanpy - INFO - Chain [1] done processing\n",
      "Optimization terminated abnormally. Falling back to Newton.\n",
      "01:55:51 - cmdstanpy - ERROR - Chain [1] error: error during processing Operation not permitted\n",
      "01:55:51 - cmdstanpy - INFO - Chain [1] done processing\n",
      "01:55:51 - cmdstanpy - INFO - Chain [1] done processing\n",
      "Optimization terminated abnormally. Falling back to Newton.\n",
      "01:55:51 - cmdstanpy - INFO - Chain [1] start processing\n",
      "Optimization terminated abnormally. Falling back to Newton.\n",
      "01:55:51 - cmdstanpy - ERROR - Chain [1] error: error during processing Operation not permitted\n",
      "01:55:51 - cmdstanpy - ERROR - Chain [1] error: error during processing Operation not permitted\n",
      "01:55:51 - cmdstanpy - ERROR - Chain [1] error: error during processing Operation not permitted\n",
      "01:55:51 - cmdstanpy - ERROR - Chain [1] error: error during processing Operation not permitted\n",
      "Optimization terminated abnormally. Falling back to Newton.\n",
      "01:55:51 - cmdstanpy - ERROR - Chain [1] error: error during processing Operation not permitted\n",
      "Optimization terminated abnormally. Falling back to Newton.\n",
      "01:55:52 - cmdstanpy - INFO - Chain [1] start processing\n",
      "Optimization terminated abnormally. Falling back to Newton.\n",
      "Optimization terminated abnormally. Falling back to Newton.\n",
      "Optimization terminated abnormally. Falling back to Newton.\n",
      "01:55:52 - cmdstanpy - INFO - Chain [1] start processing\n",
      "01:55:52 - cmdstanpy - INFO - Chain [1] start processing\n",
      "01:55:52 - cmdstanpy - INFO - Chain [1] start processing\n",
      "01:55:53 - cmdstanpy - INFO - Chain [1] start processing\n",
      "01:55:53 - cmdstanpy - INFO - Chain [1] start processing\n",
      "01:55:53 - cmdstanpy - INFO - Chain [1] start processing\n",
      "01:55:53 - cmdstanpy - INFO - Chain [1] start processing\n",
      "01:55:53 - cmdstanpy - INFO - Chain [1] start processing\n",
      "01:55:55 - cmdstanpy - INFO - Chain [1] done processing\n",
      "01:55:56 - cmdstanpy - INFO - Chain [1] done processing\n",
      "01:55:59 - cmdstanpy - INFO - Chain [1] done processing\n",
      "01:56:01 - cmdstanpy - INFO - Chain [1] done processing\n",
      "01:56:02 - cmdstanpy - INFO - Chain [1] done processing\n",
      "01:56:04 - cmdstanpy - INFO - Chain [1] done processing\n",
      "01:56:07 - cmdstanpy - INFO - Chain [1] done processing\n",
      "01:56:49 - cmdstanpy - INFO - Chain [1] done processing\n",
      "01:56:51 - cmdstanpy - INFO - Chain [1] done processing\n",
      "01:57:13 - cmdstanpy - INFO - Chain [1] done processing\n"
     ]
    },
    {
     "name": "stdout",
     "output_type": "stream",
     "text": [
      "[I 2025-08-23 01:57:13,343] Trial 17 finished with value: 784.2444177771927 and parameters: {'changepoint_prior_scale': 0.00012116641662949769, 'seasonality_prior_scale': 0.01041698327369077, 'holidays_prior_scale': 5.8950105560593}. Best is trial 16 with value: 770.743807081078.\n"
     ]
    },
    {
     "name": "stderr",
     "output_type": "stream",
     "text": [
      "01:57:13 - cmdstanpy - INFO - Chain [1] start processing\n",
      "01:57:13 - cmdstanpy - INFO - Chain [1] done processing\n",
      "01:57:13 - cmdstanpy - ERROR - Chain [1] error: error during processing Operation not permitted\n",
      "Optimization terminated abnormally. Falling back to Newton.\n",
      "01:57:14 - cmdstanpy - INFO - Chain [1] start processing\n",
      "01:57:15 - cmdstanpy - INFO - Chain [1] done processing\n",
      "01:57:17 - cmdstanpy - INFO - Chain [1] start processing\n",
      "01:57:17 - cmdstanpy - INFO - Chain [1] start processing\n",
      "01:57:17 - cmdstanpy - INFO - Chain [1] start processing\n",
      "01:57:17 - cmdstanpy - INFO - Chain [1] start processing\n",
      "01:57:17 - cmdstanpy - INFO - Chain [1] done processing\n",
      "01:57:17 - cmdstanpy - INFO - Chain [1] start processing\n",
      "01:57:17 - cmdstanpy - INFO - Chain [1] start processing\n",
      "01:57:17 - cmdstanpy - INFO - Chain [1] start processing\n",
      "01:57:17 - cmdstanpy - ERROR - Chain [1] error: error during processing Operation not permitted\n",
      "01:57:17 - cmdstanpy - INFO - Chain [1] start processing\n",
      "01:57:17 - cmdstanpy - INFO - Chain [1] start processing\n",
      "01:57:17 - cmdstanpy - INFO - Chain [1] start processing\n",
      "Optimization terminated abnormally. Falling back to Newton.\n",
      "01:57:17 - cmdstanpy - INFO - Chain [1] done processing\n",
      "01:57:17 - cmdstanpy - ERROR - Chain [1] error: error during processing Operation not permitted\n",
      "Optimization terminated abnormally. Falling back to Newton.\n",
      "01:57:17 - cmdstanpy - INFO - Chain [1] done processing\n",
      "01:57:17 - cmdstanpy - INFO - Chain [1] done processing\n",
      "01:57:17 - cmdstanpy - ERROR - Chain [1] error: error during processing Operation not permitted\n",
      "01:57:17 - cmdstanpy - INFO - Chain [1] done processing\n",
      "01:57:17 - cmdstanpy - INFO - Chain [1] done processing\n",
      "Optimization terminated abnormally. Falling back to Newton.\n",
      "01:57:17 - cmdstanpy - INFO - Chain [1] done processing\n",
      "01:57:17 - cmdstanpy - ERROR - Chain [1] error: error during processing Operation not permitted\n",
      "01:57:17 - cmdstanpy - INFO - Chain [1] done processing\n",
      "01:57:17 - cmdstanpy - INFO - Chain [1] done processing\n",
      "01:57:17 - cmdstanpy - INFO - Chain [1] done processing\n",
      "Optimization terminated abnormally. Falling back to Newton.\n",
      "01:57:17 - cmdstanpy - ERROR - Chain [1] error: error during processing Operation not permitted\n",
      "01:57:17 - cmdstanpy - ERROR - Chain [1] error: error during processing Operation not permitted\n",
      "01:57:17 - cmdstanpy - ERROR - Chain [1] error: error during processing Operation not permitted\n",
      "Optimization terminated abnormally. Falling back to Newton.\n",
      "01:57:17 - cmdstanpy - ERROR - Chain [1] error: error during processing Operation not permitted\n",
      "01:57:17 - cmdstanpy - ERROR - Chain [1] error: error during processing Operation not permitted\n",
      "Optimization terminated abnormally. Falling back to Newton.\n",
      "01:57:17 - cmdstanpy - INFO - Chain [1] start processing\n",
      "Optimization terminated abnormally. Falling back to Newton.\n",
      "01:57:17 - cmdstanpy - INFO - Chain [1] start processing\n",
      "Optimization terminated abnormally. Falling back to Newton.\n",
      "01:57:18 - cmdstanpy - INFO - Chain [1] start processing\n",
      "Optimization terminated abnormally. Falling back to Newton.\n",
      "01:57:18 - cmdstanpy - INFO - Chain [1] start processing\n",
      "01:57:19 - cmdstanpy - INFO - Chain [1] start processing\n",
      "01:57:19 - cmdstanpy - INFO - Chain [1] start processing\n",
      "01:57:19 - cmdstanpy - INFO - Chain [1] start processing\n",
      "01:57:19 - cmdstanpy - INFO - Chain [1] start processing\n",
      "01:57:19 - cmdstanpy - INFO - Chain [1] start processing\n",
      "01:57:22 - cmdstanpy - INFO - Chain [1] done processing\n",
      "01:57:22 - cmdstanpy - INFO - Chain [1] done processing\n",
      "01:57:23 - cmdstanpy - INFO - Chain [1] done processing\n",
      "01:57:23 - cmdstanpy - INFO - Chain [1] done processing\n",
      "01:57:24 - cmdstanpy - INFO - Chain [1] done processing\n",
      "01:57:24 - cmdstanpy - INFO - Chain [1] done processing\n",
      "01:57:25 - cmdstanpy - INFO - Chain [1] done processing\n",
      "01:57:27 - cmdstanpy - INFO - Chain [1] done processing\n",
      "01:57:29 - cmdstanpy - INFO - Chain [1] done processing\n"
     ]
    },
    {
     "name": "stdout",
     "output_type": "stream",
     "text": [
      "[I 2025-08-23 01:57:29,164] Trial 18 finished with value: 811.8317139540289 and parameters: {'changepoint_prior_scale': 0.0001985770039731767, 'seasonality_prior_scale': 0.017685191184267274, 'holidays_prior_scale': 9.522297705327643}. Best is trial 16 with value: 770.743807081078.\n"
     ]
    },
    {
     "name": "stderr",
     "output_type": "stream",
     "text": [
      "01:57:29 - cmdstanpy - INFO - Chain [1] start processing\n",
      "01:57:29 - cmdstanpy - INFO - Chain [1] done processing\n",
      "01:57:31 - cmdstanpy - INFO - Chain [1] start processing\n",
      "01:57:31 - cmdstanpy - INFO - Chain [1] done processing\n",
      "01:57:31 - cmdstanpy - INFO - Chain [1] start processing\n",
      "01:57:32 - cmdstanpy - INFO - Chain [1] start processing\n",
      "01:57:32 - cmdstanpy - INFO - Chain [1] done processing\n",
      "01:57:32 - cmdstanpy - INFO - Chain [1] start processing\n",
      "01:57:32 - cmdstanpy - INFO - Chain [1] start processing\n",
      "01:57:32 - cmdstanpy - INFO - Chain [1] start processing\n",
      "01:57:32 - cmdstanpy - INFO - Chain [1] done processing\n",
      "01:57:32 - cmdstanpy - INFO - Chain [1] start processing\n",
      "01:57:32 - cmdstanpy - INFO - Chain [1] start processing\n",
      "01:57:32 - cmdstanpy - INFO - Chain [1] start processing\n",
      "01:57:32 - cmdstanpy - INFO - Chain [1] done processing\n",
      "01:57:32 - cmdstanpy - INFO - Chain [1] start processing\n",
      "01:57:32 - cmdstanpy - INFO - Chain [1] done processing\n",
      "01:57:32 - cmdstanpy - INFO - Chain [1] done processing\n",
      "01:57:32 - cmdstanpy - INFO - Chain [1] done processing\n",
      "01:57:32 - cmdstanpy - INFO - Chain [1] done processing\n",
      "01:57:32 - cmdstanpy - INFO - Chain [1] done processing\n",
      "01:57:32 - cmdstanpy - INFO - Chain [1] done processing\n"
     ]
    },
    {
     "name": "stdout",
     "output_type": "stream",
     "text": [
      "[I 2025-08-23 01:57:33,121] Trial 19 finished with value: 778.1218443147866 and parameters: {'changepoint_prior_scale': 0.0035398882353097835, 'seasonality_prior_scale': 0.011462388763124519, 'holidays_prior_scale': 2.4218043095855744}. Best is trial 16 with value: 770.743807081078.\n"
     ]
    },
    {
     "name": "stderr",
     "output_type": "stream",
     "text": [
      "01:57:33 - cmdstanpy - INFO - Chain [1] start processing\n",
      "01:57:33 - cmdstanpy - INFO - Chain [1] done processing\n",
      "01:57:34 - cmdstanpy - INFO - Chain [1] start processing\n",
      "01:57:34 - cmdstanpy - INFO - Chain [1] start processing\n",
      "01:57:34 - cmdstanpy - INFO - Chain [1] done processing\n",
      "01:57:35 - cmdstanpy - INFO - Chain [1] done processing\n",
      "01:57:35 - cmdstanpy - INFO - Chain [1] start processing\n",
      "01:57:35 - cmdstanpy - INFO - Chain [1] start processing\n",
      "01:57:35 - cmdstanpy - INFO - Chain [1] start processing\n",
      "01:57:35 - cmdstanpy - INFO - Chain [1] start processing\n",
      "01:57:35 - cmdstanpy - INFO - Chain [1] start processing\n",
      "01:57:35 - cmdstanpy - INFO - Chain [1] start processing\n",
      "01:57:35 - cmdstanpy - INFO - Chain [1] start processing\n",
      "01:57:35 - cmdstanpy - INFO - Chain [1] start processing\n",
      "01:57:35 - cmdstanpy - INFO - Chain [1] done processing\n",
      "01:57:35 - cmdstanpy - INFO - Chain [1] done processing\n",
      "01:57:35 - cmdstanpy - INFO - Chain [1] done processing\n",
      "01:57:35 - cmdstanpy - INFO - Chain [1] done processing\n",
      "01:57:35 - cmdstanpy - INFO - Chain [1] done processing\n",
      "01:57:35 - cmdstanpy - INFO - Chain [1] done processing\n",
      "01:57:35 - cmdstanpy - INFO - Chain [1] done processing\n",
      "01:57:35 - cmdstanpy - INFO - Chain [1] done processing\n"
     ]
    },
    {
     "name": "stdout",
     "output_type": "stream",
     "text": [
      "[I 2025-08-23 01:57:36,139] Trial 20 finished with value: 800.0750301000161 and parameters: {'changepoint_prior_scale': 0.005010079346592013, 'seasonality_prior_scale': 0.14602578843118375, 'holidays_prior_scale': 1.407680454768341}. Best is trial 16 with value: 770.743807081078.\n"
     ]
    },
    {
     "name": "stderr",
     "output_type": "stream",
     "text": [
      "01:57:36 - cmdstanpy - INFO - Chain [1] start processing\n",
      "01:57:36 - cmdstanpy - INFO - Chain [1] done processing\n",
      "01:57:37 - cmdstanpy - INFO - Chain [1] start processing\n",
      "01:57:37 - cmdstanpy - INFO - Chain [1] done processing\n",
      "01:57:38 - cmdstanpy - INFO - Chain [1] start processing\n",
      "01:57:38 - cmdstanpy - INFO - Chain [1] start processing\n",
      "01:57:38 - cmdstanpy - INFO - Chain [1] start processing\n",
      "01:57:38 - cmdstanpy - INFO - Chain [1] start processing\n",
      "01:57:38 - cmdstanpy - INFO - Chain [1] start processing\n",
      "01:57:38 - cmdstanpy - INFO - Chain [1] start processing\n",
      "01:57:38 - cmdstanpy - INFO - Chain [1] start processing\n",
      "01:57:38 - cmdstanpy - INFO - Chain [1] done processing\n",
      "01:57:38 - cmdstanpy - INFO - Chain [1] done processing\n",
      "01:57:38 - cmdstanpy - INFO - Chain [1] start processing\n",
      "01:57:38 - cmdstanpy - INFO - Chain [1] done processing\n",
      "01:57:38 - cmdstanpy - ERROR - Chain [1] error: error during processing Operation not permitted\n",
      "01:57:38 - cmdstanpy - INFO - Chain [1] done processing\n",
      "01:57:38 - cmdstanpy - INFO - Chain [1] start processing\n",
      "01:57:38 - cmdstanpy - INFO - Chain [1] done processing\n",
      "Optimization terminated abnormally. Falling back to Newton.\n",
      "01:57:38 - cmdstanpy - INFO - Chain [1] done processing\n",
      "01:57:38 - cmdstanpy - INFO - Chain [1] done processing\n",
      "01:57:38 - cmdstanpy - INFO - Chain [1] done processing\n",
      "01:57:38 - cmdstanpy - INFO - Chain [1] done processing\n",
      "01:57:39 - cmdstanpy - INFO - Chain [1] start processing\n",
      "01:57:40 - cmdstanpy - INFO - Chain [1] done processing\n"
     ]
    },
    {
     "name": "stdout",
     "output_type": "stream",
     "text": [
      "[I 2025-08-23 01:57:40,587] Trial 21 finished with value: 766.2238916265989 and parameters: {'changepoint_prior_scale': 0.0010808898080572873, 'seasonality_prior_scale': 0.011811848760823154, 'holidays_prior_scale': 3.579698283189452}. Best is trial 21 with value: 766.2238916265989.\n"
     ]
    },
    {
     "name": "stderr",
     "output_type": "stream",
     "text": [
      "01:57:40 - cmdstanpy - INFO - Chain [1] start processing\n",
      "01:57:40 - cmdstanpy - INFO - Chain [1] done processing\n",
      "01:57:41 - cmdstanpy - INFO - Chain [1] start processing\n",
      "01:57:41 - cmdstanpy - INFO - Chain [1] done processing\n",
      "01:57:42 - cmdstanpy - INFO - Chain [1] start processing\n",
      "01:57:42 - cmdstanpy - INFO - Chain [1] start processing\n",
      "01:57:42 - cmdstanpy - INFO - Chain [1] start processing\n",
      "01:57:42 - cmdstanpy - INFO - Chain [1] start processing\n",
      "01:57:42 - cmdstanpy - INFO - Chain [1] start processing\n",
      "01:57:42 - cmdstanpy - INFO - Chain [1] start processing\n",
      "01:57:42 - cmdstanpy - INFO - Chain [1] start processing\n",
      "01:57:42 - cmdstanpy - INFO - Chain [1] start processing\n",
      "01:57:42 - cmdstanpy - INFO - Chain [1] start processing\n",
      "01:57:42 - cmdstanpy - INFO - Chain [1] done processing\n",
      "01:57:42 - cmdstanpy - INFO - Chain [1] done processing\n",
      "01:57:42 - cmdstanpy - INFO - Chain [1] done processing\n",
      "01:57:42 - cmdstanpy - INFO - Chain [1] done processing\n",
      "01:57:42 - cmdstanpy - INFO - Chain [1] done processing\n",
      "01:57:42 - cmdstanpy - INFO - Chain [1] done processing\n",
      "01:57:42 - cmdstanpy - INFO - Chain [1] done processing\n",
      "01:57:42 - cmdstanpy - INFO - Chain [1] done processing\n",
      "01:57:42 - cmdstanpy - INFO - Chain [1] done processing\n"
     ]
    },
    {
     "name": "stdout",
     "output_type": "stream",
     "text": [
      "[I 2025-08-23 01:57:43,515] Trial 22 finished with value: 814.5938073597936 and parameters: {'changepoint_prior_scale': 0.0013985170978575564, 'seasonality_prior_scale': 0.023183340824109465, 'holidays_prior_scale': 2.5084825157816906}. Best is trial 21 with value: 766.2238916265989.\n"
     ]
    },
    {
     "name": "stderr",
     "output_type": "stream",
     "text": [
      "01:57:43 - cmdstanpy - INFO - Chain [1] start processing\n",
      "01:57:43 - cmdstanpy - INFO - Chain [1] done processing\n",
      "01:57:45 - cmdstanpy - INFO - Chain [1] start processing\n",
      "01:57:45 - cmdstanpy - INFO - Chain [1] start processing\n",
      "01:57:45 - cmdstanpy - INFO - Chain [1] start processing\n",
      "01:57:45 - cmdstanpy - INFO - Chain [1] start processing\n",
      "01:57:45 - cmdstanpy - INFO - Chain [1] start processing\n",
      "01:57:45 - cmdstanpy - INFO - Chain [1] start processing\n",
      "01:57:45 - cmdstanpy - INFO - Chain [1] start processing\n",
      "01:57:45 - cmdstanpy - INFO - Chain [1] start processing\n",
      "01:57:45 - cmdstanpy - INFO - Chain [1] start processing\n",
      "01:57:45 - cmdstanpy - INFO - Chain [1] start processing\n",
      "01:57:45 - cmdstanpy - INFO - Chain [1] done processing\n",
      "01:57:45 - cmdstanpy - INFO - Chain [1] done processing\n",
      "01:57:46 - cmdstanpy - INFO - Chain [1] done processing\n",
      "01:57:46 - cmdstanpy - INFO - Chain [1] done processing\n",
      "01:57:46 - cmdstanpy - INFO - Chain [1] done processing\n",
      "01:57:46 - cmdstanpy - INFO - Chain [1] done processing\n",
      "01:57:46 - cmdstanpy - INFO - Chain [1] done processing\n",
      "01:57:46 - cmdstanpy - INFO - Chain [1] done processing\n",
      "01:57:46 - cmdstanpy - INFO - Chain [1] done processing\n",
      "01:57:46 - cmdstanpy - INFO - Chain [1] done processing\n"
     ]
    },
    {
     "name": "stdout",
     "output_type": "stream",
     "text": [
      "[I 2025-08-23 01:57:46,819] Trial 23 finished with value: 791.7905190951512 and parameters: {'changepoint_prior_scale': 0.0043467836113027965, 'seasonality_prior_scale': 0.016984802974324937, 'holidays_prior_scale': 40.57799378394197}. Best is trial 21 with value: 766.2238916265989.\n"
     ]
    },
    {
     "name": "stderr",
     "output_type": "stream",
     "text": [
      "01:57:47 - cmdstanpy - INFO - Chain [1] start processing\n",
      "01:57:47 - cmdstanpy - INFO - Chain [1] done processing\n",
      "01:57:47 - cmdstanpy - ERROR - Chain [1] error: error during processing Operation not permitted\n",
      "Optimization terminated abnormally. Falling back to Newton.\n",
      "01:57:47 - cmdstanpy - INFO - Chain [1] start processing\n",
      "01:57:49 - cmdstanpy - INFO - Chain [1] done processing\n",
      "01:57:50 - cmdstanpy - INFO - Chain [1] start processing\n",
      "01:57:50 - cmdstanpy - INFO - Chain [1] done processing\n",
      "01:57:50 - cmdstanpy - INFO - Chain [1] start processing\n",
      "01:57:51 - cmdstanpy - INFO - Chain [1] start processing\n",
      "01:57:51 - cmdstanpy - INFO - Chain [1] start processing\n",
      "01:57:51 - cmdstanpy - INFO - Chain [1] start processing\n",
      "01:57:51 - cmdstanpy - INFO - Chain [1] start processing\n",
      "01:57:51 - cmdstanpy - INFO - Chain [1] done processing\n",
      "01:57:51 - cmdstanpy - INFO - Chain [1] start processing\n",
      "01:57:51 - cmdstanpy - INFO - Chain [1] start processing\n",
      "01:57:51 - cmdstanpy - INFO - Chain [1] start processing\n",
      "01:57:51 - cmdstanpy - INFO - Chain [1] start processing\n",
      "01:57:51 - cmdstanpy - INFO - Chain [1] done processing\n",
      "01:57:51 - cmdstanpy - ERROR - Chain [1] error: error during processing Operation not permitted\n",
      "01:57:51 - cmdstanpy - INFO - Chain [1] done processing\n",
      "01:57:51 - cmdstanpy - ERROR - Chain [1] error: error during processing Operation not permitted\n",
      "01:57:51 - cmdstanpy - INFO - Chain [1] done processing\n",
      "Optimization terminated abnormally. Falling back to Newton.\n",
      "01:57:51 - cmdstanpy - INFO - Chain [1] done processing\n",
      "Optimization terminated abnormally. Falling back to Newton.\n",
      "01:57:51 - cmdstanpy - ERROR - Chain [1] error: error during processing Operation not permitted\n",
      "01:57:51 - cmdstanpy - ERROR - Chain [1] error: error during processing Operation not permitted\n",
      "01:57:51 - cmdstanpy - INFO - Chain [1] done processing\n",
      "01:57:51 - cmdstanpy - INFO - Chain [1] done processing\n",
      "01:57:51 - cmdstanpy - INFO - Chain [1] done processing\n",
      "Optimization terminated abnormally. Falling back to Newton.\n",
      "01:57:51 - cmdstanpy - INFO - Chain [1] done processing\n",
      "Optimization terminated abnormally. Falling back to Newton.\n",
      "01:57:51 - cmdstanpy - ERROR - Chain [1] error: error during processing Operation not permitted\n",
      "01:57:51 - cmdstanpy - ERROR - Chain [1] error: error during processing Operation not permitted\n",
      "Optimization terminated abnormally. Falling back to Newton.\n",
      "Optimization terminated abnormally. Falling back to Newton.\n",
      "01:57:52 - cmdstanpy - INFO - Chain [1] start processing\n",
      "01:57:52 - cmdstanpy - INFO - Chain [1] start processing\n",
      "01:57:52 - cmdstanpy - INFO - Chain [1] start processing\n",
      "01:57:52 - cmdstanpy - INFO - Chain [1] start processing\n",
      "01:57:52 - cmdstanpy - INFO - Chain [1] start processing\n",
      "01:57:52 - cmdstanpy - INFO - Chain [1] start processing\n",
      "01:57:56 - cmdstanpy - INFO - Chain [1] done processing\n",
      "01:57:56 - cmdstanpy - INFO - Chain [1] done processing\n",
      "01:57:56 - cmdstanpy - INFO - Chain [1] done processing\n",
      "01:57:57 - cmdstanpy - INFO - Chain [1] done processing\n",
      "01:58:08 - cmdstanpy - INFO - Chain [1] done processing\n",
      "01:58:13 - cmdstanpy - INFO - Chain [1] done processing\n"
     ]
    },
    {
     "name": "stdout",
     "output_type": "stream",
     "text": [
      "[I 2025-08-23 01:58:14,055] Trial 24 finished with value: 820.7556819200339 and parameters: {'changepoint_prior_scale': 0.0006870570819165134, 'seasonality_prior_scale': 0.0864403896408792, 'holidays_prior_scale': 1.761526684983076}. Best is trial 21 with value: 766.2238916265989.\n"
     ]
    },
    {
     "name": "stderr",
     "output_type": "stream",
     "text": [
      "01:58:14 - cmdstanpy - INFO - Chain [1] start processing\n",
      "01:58:14 - cmdstanpy - INFO - Chain [1] done processing\n",
      "01:58:15 - cmdstanpy - INFO - Chain [1] start processing\n",
      "01:58:15 - cmdstanpy - INFO - Chain [1] done processing\n",
      "01:58:16 - cmdstanpy - INFO - Chain [1] start processing\n",
      "01:58:16 - cmdstanpy - INFO - Chain [1] start processing\n",
      "01:58:16 - cmdstanpy - INFO - Chain [1] start processing\n",
      "01:58:16 - cmdstanpy - INFO - Chain [1] start processing\n",
      "01:58:16 - cmdstanpy - INFO - Chain [1] start processing\n",
      "01:58:16 - cmdstanpy - INFO - Chain [1] start processing\n",
      "01:58:16 - cmdstanpy - INFO - Chain [1] start processing\n",
      "01:58:16 - cmdstanpy - INFO - Chain [1] start processing\n",
      "01:58:16 - cmdstanpy - INFO - Chain [1] done processing\n",
      "01:58:16 - cmdstanpy - INFO - Chain [1] done processing\n",
      "01:58:16 - cmdstanpy - INFO - Chain [1] start processing\n",
      "01:58:16 - cmdstanpy - INFO - Chain [1] done processing\n",
      "01:58:16 - cmdstanpy - INFO - Chain [1] done processing\n",
      "01:58:16 - cmdstanpy - INFO - Chain [1] done processing\n",
      "01:58:16 - cmdstanpy - INFO - Chain [1] done processing\n",
      "01:58:16 - cmdstanpy - INFO - Chain [1] done processing\n",
      "01:58:16 - cmdstanpy - INFO - Chain [1] done processing\n",
      "01:58:16 - cmdstanpy - INFO - Chain [1] done processing\n"
     ]
    },
    {
     "name": "stdout",
     "output_type": "stream",
     "text": [
      "[I 2025-08-23 01:58:17,225] Trial 25 finished with value: 791.9303684259847 and parameters: {'changepoint_prior_scale': 0.001983381813843989, 'seasonality_prior_scale': 0.029761758779535644, 'holidays_prior_scale': 15.818593246332123}. Best is trial 21 with value: 766.2238916265989.\n"
     ]
    },
    {
     "name": "stderr",
     "output_type": "stream",
     "text": [
      "01:58:17 - cmdstanpy - INFO - Chain [1] start processing\n",
      "01:58:17 - cmdstanpy - INFO - Chain [1] done processing\n",
      "01:58:18 - cmdstanpy - INFO - Chain [1] start processing\n",
      "01:58:18 - cmdstanpy - INFO - Chain [1] done processing\n",
      "01:58:19 - cmdstanpy - INFO - Chain [1] start processing\n",
      "01:58:19 - cmdstanpy - INFO - Chain [1] start processing\n",
      "01:58:19 - cmdstanpy - INFO - Chain [1] done processing\n",
      "01:58:19 - cmdstanpy - INFO - Chain [1] start processing\n",
      "01:58:19 - cmdstanpy - INFO - Chain [1] done processing\n",
      "01:58:19 - cmdstanpy - INFO - Chain [1] start processing\n",
      "01:58:19 - cmdstanpy - INFO - Chain [1] start processing\n",
      "01:58:19 - cmdstanpy - INFO - Chain [1] start processing\n",
      "01:58:19 - cmdstanpy - INFO - Chain [1] start processing\n",
      "01:58:19 - cmdstanpy - INFO - Chain [1] start processing\n",
      "01:58:19 - cmdstanpy - INFO - Chain [1] start processing\n",
      "01:58:19 - cmdstanpy - INFO - Chain [1] done processing\n",
      "01:58:20 - cmdstanpy - INFO - Chain [1] done processing\n",
      "01:58:20 - cmdstanpy - INFO - Chain [1] done processing\n",
      "01:58:20 - cmdstanpy - INFO - Chain [1] done processing\n",
      "01:58:20 - cmdstanpy - INFO - Chain [1] done processing\n",
      "01:58:20 - cmdstanpy - INFO - Chain [1] done processing\n",
      "01:58:20 - cmdstanpy - INFO - Chain [1] done processing\n",
      "01:58:20 - cmdstanpy - INFO - Chain [1] start processing\n"
     ]
    },
    {
     "name": "stdout",
     "output_type": "stream",
     "text": [
      "[I 2025-08-23 01:58:20,725] Trial 26 finished with value: 781.7028731191516 and parameters: {'changepoint_prior_scale': 0.013326738557151756, 'seasonality_prior_scale': 0.010210297401534044, 'holidays_prior_scale': 4.54420689211579}. Best is trial 21 with value: 766.2238916265989.\n"
     ]
    },
    {
     "name": "stderr",
     "output_type": "stream",
     "text": [
      "01:58:21 - cmdstanpy - INFO - Chain [1] done processing\n",
      "01:58:22 - cmdstanpy - INFO - Chain [1] start processing\n",
      "01:58:22 - cmdstanpy - INFO - Chain [1] start processing\n",
      "01:58:22 - cmdstanpy - INFO - Chain [1] done processing\n",
      "01:58:22 - cmdstanpy - INFO - Chain [1] start processing\n",
      "01:58:22 - cmdstanpy - INFO - Chain [1] done processing\n",
      "01:58:22 - cmdstanpy - INFO - Chain [1] start processing\n",
      "01:58:22 - cmdstanpy - INFO - Chain [1] start processing\n",
      "01:58:22 - cmdstanpy - INFO - Chain [1] start processing\n",
      "01:58:22 - cmdstanpy - INFO - Chain [1] start processing\n",
      "01:58:22 - cmdstanpy - INFO - Chain [1] start processing\n",
      "01:58:22 - cmdstanpy - INFO - Chain [1] start processing\n",
      "01:58:22 - cmdstanpy - INFO - Chain [1] done processing\n",
      "01:58:22 - cmdstanpy - INFO - Chain [1] start processing\n",
      "01:58:23 - cmdstanpy - INFO - Chain [1] done processing\n",
      "01:58:23 - cmdstanpy - INFO - Chain [1] done processing\n",
      "01:58:23 - cmdstanpy - INFO - Chain [1] done processing\n",
      "01:58:23 - cmdstanpy - INFO - Chain [1] done processing\n",
      "01:58:23 - cmdstanpy - INFO - Chain [1] done processing\n",
      "01:58:23 - cmdstanpy - INFO - Chain [1] done processing\n",
      "01:58:23 - cmdstanpy - INFO - Chain [1] done processing\n"
     ]
    },
    {
     "name": "stdout",
     "output_type": "stream",
     "text": [
      "[I 2025-08-23 01:58:23,762] Trial 27 finished with value: 796.1448394289611 and parameters: {'changepoint_prior_scale': 0.007305149628516061, 'seasonality_prior_scale': 0.3671116629912199, 'holidays_prior_scale': 0.3554969553782779}. Best is trial 21 with value: 766.2238916265989.\n"
     ]
    },
    {
     "name": "stderr",
     "output_type": "stream",
     "text": [
      "01:58:24 - cmdstanpy - INFO - Chain [1] start processing\n",
      "01:58:24 - cmdstanpy - INFO - Chain [1] done processing\n",
      "01:58:25 - cmdstanpy - INFO - Chain [1] start processing\n",
      "01:58:25 - cmdstanpy - INFO - Chain [1] start processing\n",
      "01:58:25 - cmdstanpy - INFO - Chain [1] start processing\n",
      "01:58:25 - cmdstanpy - INFO - Chain [1] start processing\n",
      "01:58:25 - cmdstanpy - INFO - Chain [1] done processing\n",
      "01:58:25 - cmdstanpy - INFO - Chain [1] done processing\n",
      "01:58:25 - cmdstanpy - INFO - Chain [1] done processing\n",
      "01:58:25 - cmdstanpy - INFO - Chain [1] start processing\n",
      "01:58:26 - cmdstanpy - INFO - Chain [1] start processing\n",
      "01:58:26 - cmdstanpy - INFO - Chain [1] start processing\n",
      "01:58:26 - cmdstanpy - INFO - Chain [1] start processing\n",
      "01:58:26 - cmdstanpy - INFO - Chain [1] start processing\n",
      "01:58:26 - cmdstanpy - INFO - Chain [1] start processing\n",
      "01:58:26 - cmdstanpy - INFO - Chain [1] done processing\n",
      "01:58:26 - cmdstanpy - INFO - Chain [1] done processing\n",
      "01:58:26 - cmdstanpy - INFO - Chain [1] done processing\n",
      "01:58:26 - cmdstanpy - INFO - Chain [1] done processing\n",
      "01:58:26 - cmdstanpy - INFO - Chain [1] done processing\n",
      "01:58:26 - cmdstanpy - INFO - Chain [1] done processing\n",
      "01:58:26 - cmdstanpy - INFO - Chain [1] done processing\n",
      "01:58:27 - cmdstanpy - INFO - Chain [1] start processing\n"
     ]
    },
    {
     "name": "stdout",
     "output_type": "stream",
     "text": [
      "[I 2025-08-23 01:58:26,936] Trial 28 finished with value: 787.4055427397452 and parameters: {'changepoint_prior_scale': 0.00310505447979809, 'seasonality_prior_scale': 0.021423588983030244, 'holidays_prior_scale': 17.2883973395871}. Best is trial 21 with value: 766.2238916265989.\n"
     ]
    },
    {
     "name": "stderr",
     "output_type": "stream",
     "text": [
      "01:58:27 - cmdstanpy - INFO - Chain [1] done processing\n",
      "01:58:27 - cmdstanpy - ERROR - Chain [1] error: error during processing Operation not permitted\n",
      "Optimization terminated abnormally. Falling back to Newton.\n",
      "01:58:27 - cmdstanpy - INFO - Chain [1] start processing\n",
      "01:58:32 - cmdstanpy - INFO - Chain [1] done processing\n",
      "01:58:34 - cmdstanpy - INFO - Chain [1] start processing\n",
      "01:58:34 - cmdstanpy - INFO - Chain [1] done processing\n",
      "01:58:34 - cmdstanpy - INFO - Chain [1] start processing\n",
      "01:58:34 - cmdstanpy - ERROR - Chain [1] error: error during processing Operation not permitted\n",
      "01:58:34 - cmdstanpy - INFO - Chain [1] start processing\n",
      "01:58:34 - cmdstanpy - INFO - Chain [1] start processing\n",
      "01:58:34 - cmdstanpy - INFO - Chain [1] start processing\n",
      "Optimization terminated abnormally. Falling back to Newton.\n",
      "01:58:34 - cmdstanpy - INFO - Chain [1] done processing\n",
      "01:58:34 - cmdstanpy - INFO - Chain [1] start processing\n",
      "01:58:34 - cmdstanpy - INFO - Chain [1] start processing\n",
      "01:58:34 - cmdstanpy - INFO - Chain [1] start processing\n",
      "01:58:34 - cmdstanpy - ERROR - Chain [1] error: error during processing Operation not permitted\n",
      "01:58:34 - cmdstanpy - INFO - Chain [1] start processing\n",
      "01:58:34 - cmdstanpy - INFO - Chain [1] done processing\n",
      "01:58:34 - cmdstanpy - INFO - Chain [1] done processing\n",
      "01:58:34 - cmdstanpy - INFO - Chain [1] done processing\n",
      "01:58:34 - cmdstanpy - INFO - Chain [1] start processing\n",
      "01:58:35 - cmdstanpy - INFO - Chain [1] done processing\n",
      "Optimization terminated abnormally. Falling back to Newton.\n",
      "01:58:35 - cmdstanpy - ERROR - Chain [1] error: error during processing Operation not permitted\n",
      "01:58:35 - cmdstanpy - INFO - Chain [1] done processing\n",
      "01:58:35 - cmdstanpy - ERROR - Chain [1] error: error during processing Operation not permitted\n",
      "01:58:35 - cmdstanpy - ERROR - Chain [1] error: error during processing Operation not permitted\n",
      "Optimization terminated abnormally. Falling back to Newton.\n",
      "01:58:35 - cmdstanpy - ERROR - Chain [1] error: error during processing Operation not permitted\n",
      "01:58:35 - cmdstanpy - ERROR - Chain [1] error: error during processing Operation not permitted\n",
      "Optimization terminated abnormally. Falling back to Newton.\n",
      "01:58:35 - cmdstanpy - INFO - Chain [1] start processing\n",
      "Optimization terminated abnormally. Falling back to Newton.\n",
      "01:58:35 - cmdstanpy - INFO - Chain [1] done processing\n",
      "Optimization terminated abnormally. Falling back to Newton.\n",
      "01:58:35 - cmdstanpy - INFO - Chain [1] done processing\n",
      "Optimization terminated abnormally. Falling back to Newton.\n",
      "01:58:35 - cmdstanpy - INFO - Chain [1] done processing\n",
      "01:58:35 - cmdstanpy - ERROR - Chain [1] error: error during processing Operation not permitted\n",
      "01:58:35 - cmdstanpy - ERROR - Chain [1] error: error during processing Operation not permitted\n",
      "01:58:35 - cmdstanpy - INFO - Chain [1] start processing\n",
      "Optimization terminated abnormally. Falling back to Newton.\n",
      "Optimization terminated abnormally. Falling back to Newton.\n",
      "01:58:36 - cmdstanpy - INFO - Chain [1] start processing\n",
      "01:58:36 - cmdstanpy - INFO - Chain [1] start processing\n",
      "01:58:36 - cmdstanpy - INFO - Chain [1] start processing\n",
      "01:58:36 - cmdstanpy - INFO - Chain [1] start processing\n",
      "01:58:36 - cmdstanpy - INFO - Chain [1] start processing\n",
      "01:58:36 - cmdstanpy - INFO - Chain [1] start processing\n",
      "01:58:36 - cmdstanpy - INFO - Chain [1] start processing\n",
      "01:58:40 - cmdstanpy - INFO - Chain [1] done processing\n",
      "01:58:40 - cmdstanpy - INFO - Chain [1] done processing\n",
      "01:58:42 - cmdstanpy - INFO - Chain [1] done processing\n",
      "01:58:42 - cmdstanpy - INFO - Chain [1] done processing\n",
      "01:58:42 - cmdstanpy - INFO - Chain [1] done processing\n",
      "01:58:42 - cmdstanpy - INFO - Chain [1] done processing\n",
      "01:58:43 - cmdstanpy - INFO - Chain [1] done processing\n",
      "01:58:45 - cmdstanpy - INFO - Chain [1] done processing\n",
      "01:58:52 - cmdstanpy - INFO - Chain [1] done processing\n"
     ]
    },
    {
     "name": "stdout",
     "output_type": "stream",
     "text": [
      "[I 2025-08-23 01:58:52,469] Trial 29 finished with value: 816.6220297405583 and parameters: {'changepoint_prior_scale': 0.0003661532467794416, 'seasonality_prior_scale': 1.3422233790042475, 'holidays_prior_scale': 3.5065787482954414}. Best is trial 21 with value: 766.2238916265989.\n"
     ]
    },
    {
     "name": "stderr",
     "output_type": "stream",
     "text": [
      "01:58:54 - cmdstanpy - INFO - Chain [1] start processing\n",
      "01:58:54 - cmdstanpy - INFO - Chain [1] done processing\n",
      "01:58:55 - cmdstanpy - INFO - Chain [1] start processing\n",
      "01:58:55 - cmdstanpy - INFO - Chain [1] done processing\n",
      "01:58:56 - cmdstanpy - INFO - Chain [1] start processing\n",
      "01:58:56 - cmdstanpy - INFO - Chain [1] start processing\n",
      "01:58:56 - cmdstanpy - INFO - Chain [1] start processing\n",
      "01:58:56 - cmdstanpy - INFO - Chain [1] done processing\n",
      "01:58:56 - cmdstanpy - INFO - Chain [1] start processing\n",
      "01:58:56 - cmdstanpy - INFO - Chain [1] start processing\n",
      "01:58:56 - cmdstanpy - INFO - Chain [1] start processing\n",
      "01:58:56 - cmdstanpy - INFO - Chain [1] start processing\n",
      "01:58:56 - cmdstanpy - INFO - Chain [1] start processing\n",
      "01:58:56 - cmdstanpy - INFO - Chain [1] start processing\n",
      "01:58:56 - cmdstanpy - INFO - Chain [1] done processing\n",
      "01:58:56 - cmdstanpy - ERROR - Chain [1] error: error during processing Operation not permitted\n",
      "Optimization terminated abnormally. Falling back to Newton.\n",
      "01:58:56 - cmdstanpy - INFO - Chain [1] done processing\n",
      "01:58:56 - cmdstanpy - INFO - Chain [1] done processing\n",
      "01:58:56 - cmdstanpy - INFO - Chain [1] done processing\n",
      "01:58:56 - cmdstanpy - INFO - Chain [1] done processing\n",
      "01:58:56 - cmdstanpy - INFO - Chain [1] done processing\n",
      "01:58:56 - cmdstanpy - INFO - Chain [1] done processing\n",
      "01:58:56 - cmdstanpy - INFO - Chain [1] done processing\n",
      "01:58:56 - cmdstanpy - INFO - Chain [1] start processing\n",
      "01:58:58 - cmdstanpy - INFO - Chain [1] done processing\n"
     ]
    },
    {
     "name": "stdout",
     "output_type": "stream",
     "text": [
      "[I 2025-08-23 01:58:58,595] Trial 30 finished with value: 878.0781412112158 and parameters: {'changepoint_prior_scale': 0.0011775427182106972, 'seasonality_prior_scale': 0.05500481649206434, 'holidays_prior_scale': 1.0425880431867491}. Best is trial 21 with value: 766.2238916265989.\n"
     ]
    },
    {
     "name": "stderr",
     "output_type": "stream",
     "text": [
      "01:58:58 - cmdstanpy - INFO - Chain [1] start processing\n",
      "01:58:59 - cmdstanpy - INFO - Chain [1] done processing\n",
      "01:58:59 - cmdstanpy - INFO - Chain [1] start processing\n",
      "01:59:00 - cmdstanpy - INFO - Chain [1] done processing\n",
      "01:59:00 - cmdstanpy - INFO - Chain [1] start processing\n",
      "01:59:00 - cmdstanpy - INFO - Chain [1] done processing\n",
      "01:59:00 - cmdstanpy - INFO - Chain [1] start processing\n",
      "01:59:00 - cmdstanpy - INFO - Chain [1] start processing\n",
      "01:59:00 - cmdstanpy - INFO - Chain [1] start processing\n",
      "01:59:00 - cmdstanpy - INFO - Chain [1] start processing\n",
      "01:59:01 - cmdstanpy - INFO - Chain [1] start processing\n",
      "01:59:01 - cmdstanpy - INFO - Chain [1] start processing\n",
      "01:59:01 - cmdstanpy - INFO - Chain [1] done processing\n",
      "01:59:01 - cmdstanpy - INFO - Chain [1] start processing\n",
      "01:59:01 - cmdstanpy - INFO - Chain [1] start processing\n",
      "01:59:01 - cmdstanpy - INFO - Chain [1] done processing\n",
      "01:59:01 - cmdstanpy - INFO - Chain [1] done processing\n",
      "01:59:01 - cmdstanpy - INFO - Chain [1] done processing\n",
      "01:59:01 - cmdstanpy - INFO - Chain [1] done processing\n",
      "01:59:01 - cmdstanpy - INFO - Chain [1] done processing\n",
      "01:59:01 - cmdstanpy - INFO - Chain [1] done processing\n",
      "01:59:01 - cmdstanpy - INFO - Chain [1] done processing\n"
     ]
    },
    {
     "name": "stdout",
     "output_type": "stream",
     "text": [
      "[I 2025-08-23 01:59:02,083] Trial 31 finished with value: 782.8119226321597 and parameters: {'changepoint_prior_scale': 0.014232243441869427, 'seasonality_prior_scale': 0.010117206407757855, 'holidays_prior_scale': 5.083111234474597}. Best is trial 21 with value: 766.2238916265989.\n"
     ]
    },
    {
     "name": "stderr",
     "output_type": "stream",
     "text": [
      "01:59:02 - cmdstanpy - INFO - Chain [1] start processing\n",
      "01:59:02 - cmdstanpy - INFO - Chain [1] done processing\n",
      "01:59:03 - cmdstanpy - INFO - Chain [1] start processing\n",
      "01:59:03 - cmdstanpy - INFO - Chain [1] done processing\n",
      "01:59:04 - cmdstanpy - INFO - Chain [1] start processing\n",
      "01:59:04 - cmdstanpy - INFO - Chain [1] start processing\n",
      "01:59:04 - cmdstanpy - INFO - Chain [1] start processing\n",
      "01:59:04 - cmdstanpy - INFO - Chain [1] start processing\n",
      "01:59:04 - cmdstanpy - INFO - Chain [1] start processing\n",
      "01:59:04 - cmdstanpy - INFO - Chain [1] start processing\n",
      "01:59:04 - cmdstanpy - INFO - Chain [1] start processing\n",
      "01:59:04 - cmdstanpy - INFO - Chain [1] done processing\n",
      "01:59:04 - cmdstanpy - INFO - Chain [1] done processing\n",
      "01:59:04 - cmdstanpy - INFO - Chain [1] done processing\n",
      "01:59:04 - cmdstanpy - INFO - Chain [1] start processing\n",
      "01:59:04 - cmdstanpy - INFO - Chain [1] start processing\n",
      "01:59:04 - cmdstanpy - INFO - Chain [1] done processing\n",
      "01:59:04 - cmdstanpy - INFO - Chain [1] done processing\n",
      "01:59:04 - cmdstanpy - INFO - Chain [1] done processing\n",
      "01:59:04 - cmdstanpy - INFO - Chain [1] done processing\n",
      "01:59:04 - cmdstanpy - INFO - Chain [1] done processing\n",
      "01:59:04 - cmdstanpy - INFO - Chain [1] done processing\n"
     ]
    },
    {
     "name": "stdout",
     "output_type": "stream",
     "text": [
      "[I 2025-08-23 01:59:05,317] Trial 32 finished with value: 787.2044932621911 and parameters: {'changepoint_prior_scale': 0.014900910214258985, 'seasonality_prior_scale': 0.014210722800312913, 'holidays_prior_scale': 4.312861057340349}. Best is trial 21 with value: 766.2238916265989.\n"
     ]
    },
    {
     "name": "stderr",
     "output_type": "stream",
     "text": [
      "01:59:05 - cmdstanpy - INFO - Chain [1] start processing\n",
      "01:59:05 - cmdstanpy - INFO - Chain [1] done processing\n",
      "01:59:06 - cmdstanpy - INFO - Chain [1] start processing\n",
      "01:59:06 - cmdstanpy - INFO - Chain [1] done processing\n",
      "01:59:06 - cmdstanpy - INFO - Chain [1] start processing\n",
      "01:59:07 - cmdstanpy - INFO - Chain [1] done processing\n",
      "01:59:07 - cmdstanpy - INFO - Chain [1] start processing\n",
      "01:59:07 - cmdstanpy - INFO - Chain [1] start processing\n",
      "01:59:07 - cmdstanpy - INFO - Chain [1] start processing\n",
      "01:59:07 - cmdstanpy - INFO - Chain [1] start processing\n",
      "01:59:07 - cmdstanpy - INFO - Chain [1] start processing\n",
      "01:59:07 - cmdstanpy - INFO - Chain [1] start processing\n",
      "01:59:07 - cmdstanpy - INFO - Chain [1] start processing\n",
      "01:59:07 - cmdstanpy - INFO - Chain [1] start processing\n",
      "01:59:07 - cmdstanpy - INFO - Chain [1] done processing\n",
      "01:59:07 - cmdstanpy - INFO - Chain [1] done processing\n",
      "01:59:07 - cmdstanpy - INFO - Chain [1] done processing\n",
      "01:59:07 - cmdstanpy - INFO - Chain [1] done processing\n",
      "01:59:07 - cmdstanpy - INFO - Chain [1] done processing\n",
      "01:59:07 - cmdstanpy - INFO - Chain [1] done processing\n",
      "01:59:07 - cmdstanpy - INFO - Chain [1] done processing\n",
      "01:59:07 - cmdstanpy - INFO - Chain [1] done processing\n"
     ]
    },
    {
     "name": "stdout",
     "output_type": "stream",
     "text": [
      "[I 2025-08-23 01:59:08,309] Trial 33 finished with value: 789.671969100113 and parameters: {'changepoint_prior_scale': 0.0026618397123894157, 'seasonality_prior_scale': 0.010078698955914157, 'holidays_prior_scale': 2.244042036426855}. Best is trial 21 with value: 766.2238916265989.\n"
     ]
    },
    {
     "name": "stderr",
     "output_type": "stream",
     "text": [
      "01:59:08 - cmdstanpy - INFO - Chain [1] start processing\n",
      "01:59:08 - cmdstanpy - INFO - Chain [1] done processing\n",
      "01:59:09 - cmdstanpy - INFO - Chain [1] start processing\n",
      "01:59:09 - cmdstanpy - INFO - Chain [1] done processing\n",
      "01:59:10 - cmdstanpy - INFO - Chain [1] start processing\n",
      "01:59:10 - cmdstanpy - INFO - Chain [1] start processing\n",
      "01:59:10 - cmdstanpy - INFO - Chain [1] start processing\n",
      "01:59:10 - cmdstanpy - INFO - Chain [1] done processing\n",
      "01:59:10 - cmdstanpy - INFO - Chain [1] start processing\n",
      "01:59:10 - cmdstanpy - INFO - Chain [1] start processing\n",
      "01:59:10 - cmdstanpy - INFO - Chain [1] start processing\n",
      "01:59:10 - cmdstanpy - INFO - Chain [1] start processing\n",
      "01:59:10 - cmdstanpy - INFO - Chain [1] start processing\n",
      "01:59:10 - cmdstanpy - INFO - Chain [1] done processing\n",
      "01:59:10 - cmdstanpy - INFO - Chain [1] start processing\n",
      "01:59:10 - cmdstanpy - INFO - Chain [1] done processing\n",
      "01:59:10 - cmdstanpy - INFO - Chain [1] done processing\n",
      "01:59:10 - cmdstanpy - INFO - Chain [1] done processing\n",
      "01:59:10 - cmdstanpy - INFO - Chain [1] done processing\n",
      "01:59:10 - cmdstanpy - INFO - Chain [1] done processing\n",
      "01:59:10 - cmdstanpy - INFO - Chain [1] done processing\n",
      "01:59:10 - cmdstanpy - INFO - Chain [1] done processing\n",
      "01:59:11 - cmdstanpy - INFO - Chain [1] start processing\n"
     ]
    },
    {
     "name": "stdout",
     "output_type": "stream",
     "text": [
      "[I 2025-08-23 01:59:11,254] Trial 34 finished with value: 801.5779426175136 and parameters: {'changepoint_prior_scale': 0.006141165690885011, 'seasonality_prior_scale': 0.03160668686976382, 'holidays_prior_scale': 10.635824127496976}. Best is trial 21 with value: 766.2238916265989.\n"
     ]
    },
    {
     "name": "stderr",
     "output_type": "stream",
     "text": [
      "01:59:11 - cmdstanpy - INFO - Chain [1] done processing\n",
      "01:59:12 - cmdstanpy - INFO - Chain [1] start processing\n",
      "01:59:12 - cmdstanpy - INFO - Chain [1] done processing\n",
      "01:59:13 - cmdstanpy - INFO - Chain [1] start processing\n",
      "01:59:13 - cmdstanpy - INFO - Chain [1] start processing\n",
      "01:59:13 - cmdstanpy - INFO - Chain [1] start processing\n",
      "01:59:13 - cmdstanpy - INFO - Chain [1] start processing\n",
      "01:59:13 - cmdstanpy - INFO - Chain [1] start processing\n",
      "01:59:13 - cmdstanpy - INFO - Chain [1] start processing\n",
      "01:59:13 - cmdstanpy - INFO - Chain [1] done processing\n",
      "01:59:13 - cmdstanpy - INFO - Chain [1] start processing\n",
      "01:59:13 - cmdstanpy - INFO - Chain [1] start processing\n",
      "01:59:13 - cmdstanpy - INFO - Chain [1] start processing\n",
      "01:59:13 - cmdstanpy - INFO - Chain [1] done processing\n",
      "01:59:13 - cmdstanpy - INFO - Chain [1] done processing\n",
      "01:59:13 - cmdstanpy - INFO - Chain [1] done processing\n",
      "01:59:13 - cmdstanpy - INFO - Chain [1] done processing\n",
      "01:59:13 - cmdstanpy - INFO - Chain [1] done processing\n",
      "01:59:13 - cmdstanpy - INFO - Chain [1] done processing\n",
      "01:59:13 - cmdstanpy - INFO - Chain [1] done processing\n",
      "01:59:13 - cmdstanpy - INFO - Chain [1] done processing\n"
     ]
    },
    {
     "name": "stdout",
     "output_type": "stream",
     "text": [
      "[I 2025-08-23 01:59:14,595] Trial 35 finished with value: 797.7006790031747 and parameters: {'changepoint_prior_scale': 0.02039888677337004, 'seasonality_prior_scale': 0.04290393800290315, 'holidays_prior_scale': 3.8785576230158982}. Best is trial 21 with value: 766.2238916265989.\n"
     ]
    },
    {
     "name": "stderr",
     "output_type": "stream",
     "text": [
      "01:59:14 - cmdstanpy - INFO - Chain [1] start processing\n",
      "01:59:14 - cmdstanpy - INFO - Chain [1] done processing\n",
      "01:59:15 - cmdstanpy - INFO - Chain [1] start processing\n",
      "01:59:16 - cmdstanpy - INFO - Chain [1] done processing\n",
      "01:59:16 - cmdstanpy - ERROR - Chain [1] error: error during processing Operation not permitted\n",
      "Optimization terminated abnormally. Falling back to Newton.\n",
      "01:59:16 - cmdstanpy - INFO - Chain [1] start processing\n",
      "01:59:16 - cmdstanpy - INFO - Chain [1] start processing\n",
      "01:59:16 - cmdstanpy - INFO - Chain [1] start processing\n",
      "01:59:16 - cmdstanpy - INFO - Chain [1] start processing\n",
      "01:59:16 - cmdstanpy - INFO - Chain [1] start processing\n",
      "01:59:16 - cmdstanpy - INFO - Chain [1] start processing\n",
      "01:59:16 - cmdstanpy - INFO - Chain [1] start processing\n",
      "01:59:16 - cmdstanpy - INFO - Chain [1] done processing\n",
      "01:59:16 - cmdstanpy - INFO - Chain [1] start processing\n",
      "01:59:16 - cmdstanpy - INFO - Chain [1] start processing\n",
      "01:59:16 - cmdstanpy - ERROR - Chain [1] error: error during processing Operation not permitted\n",
      "01:59:16 - cmdstanpy - INFO - Chain [1] done processing\n",
      "01:59:16 - cmdstanpy - INFO - Chain [1] start processing\n",
      "01:59:16 - cmdstanpy - ERROR - Chain [1] error: error during processing Operation not permitted\n",
      "Optimization terminated abnormally. Falling back to Newton.\n",
      "Optimization terminated abnormally. Falling back to Newton.\n",
      "01:59:16 - cmdstanpy - INFO - Chain [1] done processing\n",
      "01:59:16 - cmdstanpy - INFO - Chain [1] done processing\n",
      "01:59:16 - cmdstanpy - INFO - Chain [1] done processing\n",
      "01:59:16 - cmdstanpy - INFO - Chain [1] done processing\n",
      "01:59:16 - cmdstanpy - INFO - Chain [1] done processing\n",
      "01:59:16 - cmdstanpy - INFO - Chain [1] done processing\n",
      "01:59:16 - cmdstanpy - INFO - Chain [1] done processing\n",
      "01:59:17 - cmdstanpy - ERROR - Chain [1] error: error during processing Operation not permitted\n",
      "01:59:17 - cmdstanpy - ERROR - Chain [1] error: error during processing Operation not permitted\n",
      "01:59:17 - cmdstanpy - INFO - Chain [1] start processing\n",
      "Optimization terminated abnormally. Falling back to Newton.\n",
      "Optimization terminated abnormally. Falling back to Newton.\n",
      "01:59:17 - cmdstanpy - INFO - Chain [1] start processing\n",
      "01:59:17 - cmdstanpy - INFO - Chain [1] start processing\n",
      "01:59:17 - cmdstanpy - INFO - Chain [1] start processing\n",
      "01:59:19 - cmdstanpy - INFO - Chain [1] done processing\n",
      "01:59:20 - cmdstanpy - INFO - Chain [1] done processing\n",
      "01:59:20 - cmdstanpy - INFO - Chain [1] done processing\n",
      "01:59:20 - cmdstanpy - INFO - Chain [1] done processing\n",
      "01:59:21 - cmdstanpy - INFO - Chain [1] done processing\n",
      "01:59:21 - cmdstanpy - INFO - Chain [1] start processing\n"
     ]
    },
    {
     "name": "stdout",
     "output_type": "stream",
     "text": [
      "[I 2025-08-23 01:59:21,550] Trial 36 finished with value: 833.9214853955563 and parameters: {'changepoint_prior_scale': 0.0008479545850321357, 'seasonality_prior_scale': 0.1005878182803787, 'holidays_prior_scale': 0.3807107569333396}. Best is trial 21 with value: 766.2238916265989.\n"
     ]
    },
    {
     "name": "stderr",
     "output_type": "stream",
     "text": [
      "01:59:21 - cmdstanpy - INFO - Chain [1] done processing\n",
      "01:59:22 - cmdstanpy - INFO - Chain [1] start processing\n",
      "01:59:23 - cmdstanpy - INFO - Chain [1] done processing\n",
      "01:59:23 - cmdstanpy - INFO - Chain [1] start processing\n",
      "01:59:23 - cmdstanpy - INFO - Chain [1] start processing\n",
      "01:59:23 - cmdstanpy - INFO - Chain [1] start processing\n",
      "01:59:23 - cmdstanpy - INFO - Chain [1] done processing\n",
      "01:59:23 - cmdstanpy - INFO - Chain [1] start processing\n",
      "01:59:23 - cmdstanpy - INFO - Chain [1] start processing\n",
      "01:59:23 - cmdstanpy - INFO - Chain [1] start processing\n",
      "01:59:23 - cmdstanpy - INFO - Chain [1] done processing\n",
      "01:59:23 - cmdstanpy - INFO - Chain [1] done processing\n",
      "01:59:23 - cmdstanpy - INFO - Chain [1] start processing\n",
      "01:59:23 - cmdstanpy - INFO - Chain [1] start processing\n",
      "01:59:23 - cmdstanpy - INFO - Chain [1] done processing\n",
      "01:59:23 - cmdstanpy - INFO - Chain [1] done processing\n",
      "01:59:23 - cmdstanpy - INFO - Chain [1] done processing\n",
      "01:59:23 - cmdstanpy - INFO - Chain [1] start processing\n",
      "01:59:23 - cmdstanpy - INFO - Chain [1] done processing\n",
      "01:59:23 - cmdstanpy - INFO - Chain [1] done processing\n",
      "01:59:24 - cmdstanpy - INFO - Chain [1] done processing\n"
     ]
    },
    {
     "name": "stdout",
     "output_type": "stream",
     "text": [
      "[I 2025-08-23 01:59:24,553] Trial 37 finished with value: 771.2579742571172 and parameters: {'changepoint_prior_scale': 0.007446503083163171, 'seasonality_prior_scale': 0.015228503218949523, 'holidays_prior_scale': 7.421943914180863}. Best is trial 21 with value: 766.2238916265989.\n"
     ]
    },
    {
     "name": "stderr",
     "output_type": "stream",
     "text": [
      "01:59:24 - cmdstanpy - INFO - Chain [1] start processing\n",
      "01:59:24 - cmdstanpy - INFO - Chain [1] done processing\n",
      "01:59:26 - cmdstanpy - INFO - Chain [1] start processing\n",
      "01:59:26 - cmdstanpy - INFO - Chain [1] done processing\n",
      "01:59:26 - cmdstanpy - INFO - Chain [1] start processing\n",
      "01:59:26 - cmdstanpy - INFO - Chain [1] start processing\n",
      "01:59:26 - cmdstanpy - INFO - Chain [1] start processing\n",
      "01:59:26 - cmdstanpy - INFO - Chain [1] start processing\n",
      "01:59:26 - cmdstanpy - INFO - Chain [1] start processing\n",
      "01:59:26 - cmdstanpy - INFO - Chain [1] start processing\n",
      "01:59:26 - cmdstanpy - INFO - Chain [1] done processing\n",
      "01:59:26 - cmdstanpy - INFO - Chain [1] start processing\n",
      "01:59:26 - cmdstanpy - INFO - Chain [1] done processing\n",
      "01:59:26 - cmdstanpy - INFO - Chain [1] done processing\n",
      "01:59:26 - cmdstanpy - INFO - Chain [1] start processing\n",
      "01:59:27 - cmdstanpy - INFO - Chain [1] done processing\n",
      "01:59:27 - cmdstanpy - INFO - Chain [1] done processing\n",
      "01:59:27 - cmdstanpy - INFO - Chain [1] done processing\n",
      "01:59:27 - cmdstanpy - INFO - Chain [1] done processing\n",
      "01:59:27 - cmdstanpy - INFO - Chain [1] start processing\n",
      "01:59:27 - cmdstanpy - INFO - Chain [1] done processing\n",
      "01:59:27 - cmdstanpy - INFO - Chain [1] done processing\n"
     ]
    },
    {
     "name": "stdout",
     "output_type": "stream",
     "text": [
      "[I 2025-08-23 01:59:27,886] Trial 38 finished with value: 800.8640097744676 and parameters: {'changepoint_prior_scale': 0.008039767028791391, 'seasonality_prior_scale': 0.23594525079327844, 'holidays_prior_scale': 7.078796603921821}. Best is trial 21 with value: 766.2238916265989.\n"
     ]
    },
    {
     "name": "stderr",
     "output_type": "stream",
     "text": [
      "01:59:28 - cmdstanpy - INFO - Chain [1] start processing\n",
      "01:59:28 - cmdstanpy - INFO - Chain [1] done processing\n",
      "01:59:29 - cmdstanpy - INFO - Chain [1] start processing\n",
      "01:59:29 - cmdstanpy - INFO - Chain [1] done processing\n",
      "01:59:30 - cmdstanpy - INFO - Chain [1] start processing\n",
      "01:59:30 - cmdstanpy - INFO - Chain [1] start processing\n",
      "01:59:30 - cmdstanpy - INFO - Chain [1] start processing\n",
      "01:59:30 - cmdstanpy - INFO - Chain [1] start processing\n",
      "01:59:30 - cmdstanpy - INFO - Chain [1] done processing\n",
      "01:59:30 - cmdstanpy - INFO - Chain [1] start processing\n",
      "01:59:30 - cmdstanpy - INFO - Chain [1] done processing\n",
      "01:59:30 - cmdstanpy - INFO - Chain [1] start processing\n",
      "01:59:30 - cmdstanpy - INFO - Chain [1] start processing\n",
      "01:59:30 - cmdstanpy - INFO - Chain [1] start processing\n",
      "01:59:30 - cmdstanpy - INFO - Chain [1] start processing\n",
      "01:59:30 - cmdstanpy - INFO - Chain [1] done processing\n",
      "01:59:30 - cmdstanpy - INFO - Chain [1] done processing\n",
      "01:59:30 - cmdstanpy - INFO - Chain [1] done processing\n",
      "01:59:30 - cmdstanpy - INFO - Chain [1] done processing\n",
      "01:59:30 - cmdstanpy - INFO - Chain [1] done processing\n",
      "01:59:30 - cmdstanpy - INFO - Chain [1] done processing\n",
      "01:59:30 - cmdstanpy - INFO - Chain [1] done processing\n"
     ]
    },
    {
     "name": "stdout",
     "output_type": "stream",
     "text": [
      "[I 2025-08-23 01:59:31,384] Trial 39 finished with value: 818.692839457208 and parameters: {'changepoint_prior_scale': 0.0016977126146436605, 'seasonality_prior_scale': 0.025416017295116416, 'holidays_prior_scale': 0.9823176554195898}. Best is trial 21 with value: 766.2238916265989.\n"
     ]
    },
    {
     "name": "stderr",
     "output_type": "stream",
     "text": [
      "01:59:31 - cmdstanpy - INFO - Chain [1] start processing\n",
      "01:59:31 - cmdstanpy - INFO - Chain [1] done processing\n",
      "01:59:31 - cmdstanpy - ERROR - Chain [1] error: error during processing Operation not permitted\n",
      "Optimization terminated abnormally. Falling back to Newton.\n",
      "01:59:32 - cmdstanpy - INFO - Chain [1] start processing\n",
      "01:59:37 - cmdstanpy - INFO - Chain [1] done processing\n",
      "01:59:38 - cmdstanpy - INFO - Chain [1] start processing\n",
      "01:59:38 - cmdstanpy - INFO - Chain [1] start processing\n",
      "01:59:38 - cmdstanpy - INFO - Chain [1] start processing\n",
      "01:59:38 - cmdstanpy - INFO - Chain [1] done processing\n",
      "01:59:39 - cmdstanpy - ERROR - Chain [1] error: error during processing Operation not permitted\n",
      "01:59:39 - cmdstanpy - INFO - Chain [1] done processing\n",
      "01:59:39 - cmdstanpy - INFO - Chain [1] start processing\n",
      "01:59:39 - cmdstanpy - INFO - Chain [1] start processing\n",
      "01:59:39 - cmdstanpy - ERROR - Chain [1] error: error during processing Operation not permitted\n",
      "Optimization terminated abnormally. Falling back to Newton.\n",
      "01:59:39 - cmdstanpy - INFO - Chain [1] start processing\n",
      "01:59:39 - cmdstanpy - INFO - Chain [1] done processing\n",
      "Optimization terminated abnormally. Falling back to Newton.\n",
      "01:59:39 - cmdstanpy - INFO - Chain [1] start processing\n",
      "01:59:39 - cmdstanpy - INFO - Chain [1] start processing\n",
      "01:59:39 - cmdstanpy - INFO - Chain [1] done processing\n",
      "01:59:39 - cmdstanpy - INFO - Chain [1] done processing\n",
      "01:59:39 - cmdstanpy - ERROR - Chain [1] error: error during processing Operation not permitted\n",
      "01:59:39 - cmdstanpy - INFO - Chain [1] start processing\n",
      "01:59:39 - cmdstanpy - INFO - Chain [1] done processing\n",
      "01:59:39 - cmdstanpy - INFO - Chain [1] start processing\n",
      "01:59:39 - cmdstanpy - ERROR - Chain [1] error: error during processing Operation not permitted\n",
      "01:59:39 - cmdstanpy - INFO - Chain [1] done processing\n",
      "01:59:39 - cmdstanpy - ERROR - Chain [1] error: error during processing Operation not permitted\n",
      "01:59:39 - cmdstanpy - ERROR - Chain [1] error: error during processing Operation not permitted\n",
      "Optimization terminated abnormally. Falling back to Newton.\n",
      "01:59:39 - cmdstanpy - INFO - Chain [1] start processing\n",
      "01:59:39 - cmdstanpy - INFO - Chain [1] start processing\n",
      "Optimization terminated abnormally. Falling back to Newton.\n",
      "01:59:39 - cmdstanpy - INFO - Chain [1] done processing\n",
      "Optimization terminated abnormally. Falling back to Newton.\n",
      "01:59:39 - cmdstanpy - INFO - Chain [1] done processing\n",
      "01:59:39 - cmdstanpy - INFO - Chain [1] done processing\n",
      "Optimization terminated abnormally. Falling back to Newton.\n",
      "01:59:39 - cmdstanpy - ERROR - Chain [1] error: error during processing Operation not permitted\n",
      "Optimization terminated abnormally. Falling back to Newton.\n",
      "01:59:40 - cmdstanpy - INFO - Chain [1] start processing\n",
      "01:59:40 - cmdstanpy - INFO - Chain [1] start processing\n",
      "01:59:40 - cmdstanpy - INFO - Chain [1] start processing\n",
      "01:59:40 - cmdstanpy - INFO - Chain [1] start processing\n",
      "01:59:40 - cmdstanpy - INFO - Chain [1] start processing\n",
      "01:59:43 - cmdstanpy - INFO - Chain [1] done processing\n",
      "01:59:43 - cmdstanpy - INFO - Chain [1] done processing\n",
      "01:59:44 - cmdstanpy - INFO - Chain [1] done processing\n",
      "01:59:44 - cmdstanpy - INFO - Chain [1] done processing\n",
      "01:59:45 - cmdstanpy - INFO - Chain [1] done processing\n",
      "01:59:45 - cmdstanpy - INFO - Chain [1] done processing\n",
      "01:59:59 - cmdstanpy - INFO - Chain [1] done processing\n"
     ]
    },
    {
     "name": "stdout",
     "output_type": "stream",
     "text": [
      "[I 2025-08-23 01:59:59,521] Trial 40 finished with value: 820.3382918653281 and parameters: {'changepoint_prior_scale': 0.0005845575094627646, 'seasonality_prior_scale': 0.017581209357617648, 'holidays_prior_scale': 2.5503307439483063}. Best is trial 21 with value: 766.2238916265989.\n"
     ]
    },
    {
     "name": "stderr",
     "output_type": "stream",
     "text": [
      "01:59:59 - cmdstanpy - INFO - Chain [1] start processing\n",
      "01:59:59 - cmdstanpy - INFO - Chain [1] done processing\n",
      "02:00:00 - cmdstanpy - INFO - Chain [1] start processing\n",
      "02:00:01 - cmdstanpy - INFO - Chain [1] done processing\n",
      "02:00:01 - cmdstanpy - INFO - Chain [1] start processing\n",
      "02:00:01 - cmdstanpy - INFO - Chain [1] done processing\n",
      "02:00:01 - cmdstanpy - INFO - Chain [1] start processing\n",
      "02:00:01 - cmdstanpy - INFO - Chain [1] start processing\n",
      "02:00:01 - cmdstanpy - INFO - Chain [1] start processing\n",
      "02:00:01 - cmdstanpy - INFO - Chain [1] start processing\n",
      "02:00:01 - cmdstanpy - INFO - Chain [1] start processing\n",
      "02:00:01 - cmdstanpy - INFO - Chain [1] done processing\n",
      "02:00:01 - cmdstanpy - INFO - Chain [1] start processing\n",
      "02:00:01 - cmdstanpy - INFO - Chain [1] start processing\n",
      "02:00:01 - cmdstanpy - INFO - Chain [1] start processing\n",
      "02:00:01 - cmdstanpy - INFO - Chain [1] done processing\n",
      "02:00:01 - cmdstanpy - INFO - Chain [1] done processing\n",
      "02:00:01 - cmdstanpy - INFO - Chain [1] done processing\n",
      "02:00:01 - cmdstanpy - INFO - Chain [1] done processing\n",
      "02:00:02 - cmdstanpy - INFO - Chain [1] done processing\n",
      "02:00:02 - cmdstanpy - INFO - Chain [1] done processing\n",
      "02:00:02 - cmdstanpy - INFO - Chain [1] done processing\n"
     ]
    },
    {
     "name": "stdout",
     "output_type": "stream",
     "text": [
      "[I 2025-08-23 02:00:02,553] Trial 41 finished with value: 780.4207933002009 and parameters: {'changepoint_prior_scale': 0.0099780213117736, 'seasonality_prior_scale': 0.014215469295707321, 'holidays_prior_scale': 13.072693660475807}. Best is trial 21 with value: 766.2238916265989.\n"
     ]
    },
    {
     "name": "stderr",
     "output_type": "stream",
     "text": [
      "02:00:02 - cmdstanpy - INFO - Chain [1] start processing\n",
      "02:00:02 - cmdstanpy - INFO - Chain [1] done processing\n",
      "02:00:03 - cmdstanpy - INFO - Chain [1] start processing\n",
      "02:00:04 - cmdstanpy - INFO - Chain [1] done processing\n",
      "02:00:04 - cmdstanpy - INFO - Chain [1] start processing\n",
      "02:00:04 - cmdstanpy - INFO - Chain [1] start processing\n",
      "02:00:04 - cmdstanpy - INFO - Chain [1] start processing\n",
      "02:00:04 - cmdstanpy - INFO - Chain [1] start processing\n",
      "02:00:04 - cmdstanpy - INFO - Chain [1] start processing\n",
      "02:00:04 - cmdstanpy - INFO - Chain [1] done processing\n",
      "02:00:04 - cmdstanpy - INFO - Chain [1] start processing\n",
      "02:00:04 - cmdstanpy - INFO - Chain [1] done processing\n",
      "02:00:04 - cmdstanpy - INFO - Chain [1] done processing\n",
      "02:00:04 - cmdstanpy - INFO - Chain [1] start processing\n",
      "02:00:04 - cmdstanpy - INFO - Chain [1] start processing\n",
      "02:00:04 - cmdstanpy - INFO - Chain [1] start processing\n",
      "02:00:05 - cmdstanpy - INFO - Chain [1] done processing\n",
      "02:00:05 - cmdstanpy - INFO - Chain [1] done processing\n",
      "02:00:05 - cmdstanpy - INFO - Chain [1] done processing\n",
      "02:00:05 - cmdstanpy - INFO - Chain [1] done processing\n",
      "02:00:05 - cmdstanpy - INFO - Chain [1] done processing\n",
      "02:00:05 - cmdstanpy - INFO - Chain [1] done processing\n"
     ]
    },
    {
     "name": "stdout",
     "output_type": "stream",
     "text": [
      "[I 2025-08-23 02:00:05,921] Trial 42 finished with value: 796.2080604700594 and parameters: {'changepoint_prior_scale': 0.0037106279665463527, 'seasonality_prior_scale': 0.04458879231581016, 'holidays_prior_scale': 12.992412352043194}. Best is trial 21 with value: 766.2238916265989.\n"
     ]
    },
    {
     "name": "stderr",
     "output_type": "stream",
     "text": [
      "02:00:06 - cmdstanpy - INFO - Chain [1] start processing\n",
      "02:00:06 - cmdstanpy - INFO - Chain [1] done processing\n",
      "02:00:07 - cmdstanpy - INFO - Chain [1] start processing\n",
      "02:00:07 - cmdstanpy - INFO - Chain [1] done processing\n",
      "02:00:07 - cmdstanpy - INFO - Chain [1] start processing\n",
      "02:00:07 - cmdstanpy - INFO - Chain [1] start processing\n",
      "02:00:07 - cmdstanpy - INFO - Chain [1] start processing\n",
      "02:00:07 - cmdstanpy - INFO - Chain [1] done processing\n",
      "02:00:07 - cmdstanpy - INFO - Chain [1] start processing\n",
      "02:00:07 - cmdstanpy - INFO - Chain [1] start processing\n",
      "02:00:07 - cmdstanpy - INFO - Chain [1] start processing\n",
      "02:00:08 - cmdstanpy - INFO - Chain [1] start processing\n",
      "02:00:08 - cmdstanpy - INFO - Chain [1] start processing\n",
      "02:00:08 - cmdstanpy - INFO - Chain [1] done processing\n",
      "02:00:08 - cmdstanpy - INFO - Chain [1] done processing\n",
      "02:00:08 - cmdstanpy - INFO - Chain [1] start processing\n",
      "02:00:08 - cmdstanpy - INFO - Chain [1] done processing\n",
      "02:00:08 - cmdstanpy - INFO - Chain [1] done processing\n",
      "02:00:08 - cmdstanpy - INFO - Chain [1] done processing\n",
      "02:00:08 - cmdstanpy - INFO - Chain [1] done processing\n",
      "02:00:08 - cmdstanpy - INFO - Chain [1] done processing\n",
      "02:00:08 - cmdstanpy - INFO - Chain [1] done processing\n"
     ]
    },
    {
     "name": "stdout",
     "output_type": "stream",
     "text": [
      "[I 2025-08-23 02:00:09,084] Trial 43 finished with value: 783.516770783407 and parameters: {'changepoint_prior_scale': 0.010610692322321624, 'seasonality_prior_scale': 0.014765924834546367, 'holidays_prior_scale': 20.766681275102187}. Best is trial 21 with value: 766.2238916265989.\n"
     ]
    },
    {
     "name": "stderr",
     "output_type": "stream",
     "text": [
      "02:00:09 - cmdstanpy - INFO - Chain [1] start processing\n",
      "02:00:09 - cmdstanpy - INFO - Chain [1] done processing\n",
      "02:00:10 - cmdstanpy - INFO - Chain [1] start processing\n",
      "02:00:10 - cmdstanpy - INFO - Chain [1] start processing\n",
      "02:00:11 - cmdstanpy - INFO - Chain [1] done processing\n",
      "02:00:11 - cmdstanpy - INFO - Chain [1] done processing\n",
      "02:00:11 - cmdstanpy - INFO - Chain [1] start processing\n",
      "02:00:11 - cmdstanpy - INFO - Chain [1] start processing\n",
      "02:00:11 - cmdstanpy - INFO - Chain [1] start processing\n",
      "02:00:11 - cmdstanpy - INFO - Chain [1] start processing\n",
      "02:00:11 - cmdstanpy - INFO - Chain [1] start processing\n",
      "02:00:11 - cmdstanpy - INFO - Chain [1] start processing\n",
      "02:00:11 - cmdstanpy - INFO - Chain [1] start processing\n",
      "02:00:11 - cmdstanpy - INFO - Chain [1] start processing\n",
      "02:00:11 - cmdstanpy - INFO - Chain [1] done processing\n",
      "02:00:11 - cmdstanpy - INFO - Chain [1] done processing\n",
      "02:00:11 - cmdstanpy - INFO - Chain [1] done processing\n",
      "02:00:11 - cmdstanpy - INFO - Chain [1] done processing\n",
      "02:00:11 - cmdstanpy - INFO - Chain [1] done processing\n",
      "02:00:11 - cmdstanpy - INFO - Chain [1] done processing\n",
      "02:00:11 - cmdstanpy - INFO - Chain [1] done processing\n",
      "02:00:11 - cmdstanpy - INFO - Chain [1] done processing\n"
     ]
    },
    {
     "name": "stdout",
     "output_type": "stream",
     "text": [
      "[I 2025-08-23 02:00:12,496] Trial 44 finished with value: 795.6416739388217 and parameters: {'changepoint_prior_scale': 0.005623654312955569, 'seasonality_prior_scale': 0.03210751686792872, 'holidays_prior_scale': 6.9223094459309795}. Best is trial 21 with value: 766.2238916265989.\n"
     ]
    },
    {
     "name": "stderr",
     "output_type": "stream",
     "text": [
      "02:00:12 - cmdstanpy - INFO - Chain [1] start processing\n",
      "02:00:12 - cmdstanpy - INFO - Chain [1] done processing\n",
      "02:00:14 - cmdstanpy - INFO - Chain [1] start processing\n",
      "02:00:14 - cmdstanpy - INFO - Chain [1] start processing\n",
      "02:00:14 - cmdstanpy - INFO - Chain [1] start processing\n",
      "02:00:14 - cmdstanpy - INFO - Chain [1] done processing\n",
      "02:00:14 - cmdstanpy - INFO - Chain [1] start processing\n",
      "02:00:14 - cmdstanpy - INFO - Chain [1] start processing\n",
      "02:00:14 - cmdstanpy - INFO - Chain [1] start processing\n",
      "02:00:14 - cmdstanpy - INFO - Chain [1] start processing\n",
      "02:00:14 - cmdstanpy - INFO - Chain [1] start processing\n",
      "02:00:14 - cmdstanpy - INFO - Chain [1] start processing\n",
      "02:00:14 - cmdstanpy - INFO - Chain [1] done processing\n",
      "02:00:14 - cmdstanpy - INFO - Chain [1] start processing\n",
      "02:00:14 - cmdstanpy - INFO - Chain [1] done processing\n",
      "02:00:14 - cmdstanpy - INFO - Chain [1] done processing\n",
      "02:00:14 - cmdstanpy - INFO - Chain [1] done processing\n",
      "02:00:14 - cmdstanpy - INFO - Chain [1] done processing\n",
      "02:00:15 - cmdstanpy - INFO - Chain [1] done processing\n",
      "02:00:15 - cmdstanpy - INFO - Chain [1] done processing\n",
      "02:00:15 - cmdstanpy - INFO - Chain [1] done processing\n",
      "02:00:15 - cmdstanpy - INFO - Chain [1] done processing\n"
     ]
    },
    {
     "name": "stdout",
     "output_type": "stream",
     "text": [
      "[I 2025-08-23 02:00:15,698] Trial 45 finished with value: 797.53486178298 and parameters: {'changepoint_prior_scale': 0.020812346856510316, 'seasonality_prior_scale': 0.06969909958514671, 'holidays_prior_scale': 23.25525320911329}. Best is trial 21 with value: 766.2238916265989.\n"
     ]
    },
    {
     "name": "stderr",
     "output_type": "stream",
     "text": [
      "02:00:15 - cmdstanpy - INFO - Chain [1] start processing\n",
      "02:00:15 - cmdstanpy - INFO - Chain [1] done processing\n",
      "02:00:16 - cmdstanpy - INFO - Chain [1] start processing\n",
      "02:00:17 - cmdstanpy - INFO - Chain [1] done processing\n",
      "02:00:17 - cmdstanpy - ERROR - Chain [1] error: error during processing Operation not permitted\n",
      "02:00:17 - cmdstanpy - INFO - Chain [1] start processing\n",
      "Optimization terminated abnormally. Falling back to Newton.\n",
      "02:00:17 - cmdstanpy - INFO - Chain [1] start processing\n",
      "02:00:17 - cmdstanpy - INFO - Chain [1] start processing\n",
      "02:00:17 - cmdstanpy - INFO - Chain [1] start processing\n",
      "02:00:17 - cmdstanpy - INFO - Chain [1] start processing\n",
      "02:00:17 - cmdstanpy - INFO - Chain [1] start processing\n",
      "02:00:17 - cmdstanpy - INFO - Chain [1] start processing\n",
      "02:00:17 - cmdstanpy - INFO - Chain [1] done processing\n",
      "02:00:17 - cmdstanpy - INFO - Chain [1] start processing\n",
      "02:00:17 - cmdstanpy - INFO - Chain [1] start processing\n",
      "02:00:17 - cmdstanpy - INFO - Chain [1] done processing\n",
      "02:00:17 - cmdstanpy - INFO - Chain [1] start processing\n",
      "02:00:18 - cmdstanpy - INFO - Chain [1] done processing\n",
      "02:00:18 - cmdstanpy - INFO - Chain [1] done processing\n",
      "02:00:18 - cmdstanpy - INFO - Chain [1] done processing\n",
      "02:00:18 - cmdstanpy - INFO - Chain [1] done processing\n",
      "02:00:18 - cmdstanpy - INFO - Chain [1] done processing\n",
      "02:00:18 - cmdstanpy - INFO - Chain [1] done processing\n",
      "02:00:18 - cmdstanpy - INFO - Chain [1] done processing\n",
      "02:00:20 - cmdstanpy - INFO - Chain [1] done processing\n"
     ]
    },
    {
     "name": "stdout",
     "output_type": "stream",
     "text": [
      "[I 2025-08-23 02:00:20,177] Trial 46 finished with value: 821.1680528151677 and parameters: {'changepoint_prior_scale': 0.0010915878016679076, 'seasonality_prior_scale': 0.01488825425304944, 'holidays_prior_scale': 10.010367002392446}. Best is trial 21 with value: 766.2238916265989.\n"
     ]
    },
    {
     "name": "stderr",
     "output_type": "stream",
     "text": [
      "02:00:20 - cmdstanpy - INFO - Chain [1] start processing\n",
      "02:00:20 - cmdstanpy - INFO - Chain [1] done processing\n",
      "02:00:21 - cmdstanpy - INFO - Chain [1] start processing\n",
      "02:00:21 - cmdstanpy - INFO - Chain [1] done processing\n",
      "02:00:21 - cmdstanpy - INFO - Chain [1] start processing\n",
      "02:00:22 - cmdstanpy - INFO - Chain [1] done processing\n",
      "02:00:22 - cmdstanpy - INFO - Chain [1] start processing\n",
      "02:00:22 - cmdstanpy - INFO - Chain [1] start processing\n",
      "02:00:22 - cmdstanpy - INFO - Chain [1] start processing\n",
      "02:00:22 - cmdstanpy - INFO - Chain [1] start processing\n",
      "02:00:22 - cmdstanpy - INFO - Chain [1] start processing\n",
      "02:00:22 - cmdstanpy - INFO - Chain [1] start processing\n",
      "02:00:22 - cmdstanpy - INFO - Chain [1] start processing\n",
      "02:00:22 - cmdstanpy - INFO - Chain [1] start processing\n",
      "02:00:22 - cmdstanpy - INFO - Chain [1] done processing\n",
      "02:00:22 - cmdstanpy - INFO - Chain [1] done processing\n",
      "02:00:22 - cmdstanpy - INFO - Chain [1] done processing\n",
      "02:00:22 - cmdstanpy - INFO - Chain [1] done processing\n",
      "02:00:22 - cmdstanpy - INFO - Chain [1] done processing\n",
      "02:00:22 - cmdstanpy - INFO - Chain [1] done processing\n",
      "02:00:22 - cmdstanpy - INFO - Chain [1] done processing\n",
      "02:00:22 - cmdstanpy - INFO - Chain [1] done processing\n"
     ]
    },
    {
     "name": "stdout",
     "output_type": "stream",
     "text": [
      "[I 2025-08-23 02:00:23,141] Trial 47 finished with value: 796.1272518030106 and parameters: {'changepoint_prior_scale': 0.0021851556542457837, 'seasonality_prior_scale': 0.02418090098536251, 'holidays_prior_scale': 1.8226945119370723}. Best is trial 21 with value: 766.2238916265989.\n"
     ]
    },
    {
     "name": "stderr",
     "output_type": "stream",
     "text": [
      "02:00:23 - cmdstanpy - INFO - Chain [1] start processing\n",
      "02:00:23 - cmdstanpy - INFO - Chain [1] done processing\n",
      "02:00:24 - cmdstanpy - INFO - Chain [1] start processing\n",
      "02:00:25 - cmdstanpy - INFO - Chain [1] start processing\n",
      "02:00:25 - cmdstanpy - INFO - Chain [1] start processing\n",
      "02:00:25 - cmdstanpy - INFO - Chain [1] start processing\n",
      "02:00:25 - cmdstanpy - INFO - Chain [1] start processing\n",
      "02:00:25 - cmdstanpy - INFO - Chain [1] done processing\n",
      "02:00:25 - cmdstanpy - INFO - Chain [1] start processing\n",
      "02:00:25 - cmdstanpy - INFO - Chain [1] start processing\n",
      "02:00:25 - cmdstanpy - INFO - Chain [1] start processing\n",
      "02:00:25 - cmdstanpy - INFO - Chain [1] start processing\n",
      "02:00:25 - cmdstanpy - INFO - Chain [1] start processing\n",
      "02:00:25 - cmdstanpy - INFO - Chain [1] done processing\n",
      "02:00:25 - cmdstanpy - INFO - Chain [1] done processing\n",
      "02:00:25 - cmdstanpy - INFO - Chain [1] done processing\n",
      "02:00:25 - cmdstanpy - INFO - Chain [1] done processing\n",
      "02:00:25 - cmdstanpy - INFO - Chain [1] done processing\n",
      "02:00:25 - cmdstanpy - INFO - Chain [1] done processing\n",
      "02:00:25 - cmdstanpy - INFO - Chain [1] done processing\n",
      "02:00:25 - cmdstanpy - INFO - Chain [1] done processing\n",
      "02:00:25 - cmdstanpy - INFO - Chain [1] done processing\n",
      "02:00:26 - cmdstanpy - INFO - Chain [1] start processing\n"
     ]
    },
    {
     "name": "stdout",
     "output_type": "stream",
     "text": [
      "[I 2025-08-23 02:00:26,433] Trial 48 finished with value: 799.3928033904596 and parameters: {'changepoint_prior_scale': 0.022595496813585015, 'seasonality_prior_scale': 0.046166058005464944, 'holidays_prior_scale': 3.112375878514865}. Best is trial 21 with value: 766.2238916265989.\n"
     ]
    },
    {
     "name": "stderr",
     "output_type": "stream",
     "text": [
      "02:00:26 - cmdstanpy - INFO - Chain [1] done processing\n",
      "02:00:27 - cmdstanpy - INFO - Chain [1] start processing\n",
      "02:00:27 - cmdstanpy - INFO - Chain [1] done processing\n",
      "02:00:28 - cmdstanpy - INFO - Chain [1] start processing\n",
      "02:00:28 - cmdstanpy - INFO - Chain [1] start processing\n",
      "02:00:28 - cmdstanpy - INFO - Chain [1] start processing\n",
      "02:00:28 - cmdstanpy - INFO - Chain [1] start processing\n",
      "02:00:28 - cmdstanpy - INFO - Chain [1] start processing\n",
      "02:00:28 - cmdstanpy - INFO - Chain [1] start processing\n",
      "02:00:28 - cmdstanpy - INFO - Chain [1] start processing\n",
      "02:00:28 - cmdstanpy - INFO - Chain [1] start processing\n",
      "02:00:28 - cmdstanpy - INFO - Chain [1] start processing\n",
      "02:00:28 - cmdstanpy - INFO - Chain [1] done processing\n",
      "02:00:28 - cmdstanpy - INFO - Chain [1] done processing\n",
      "02:00:28 - cmdstanpy - INFO - Chain [1] done processing\n",
      "02:00:28 - cmdstanpy - INFO - Chain [1] done processing\n",
      "02:00:28 - cmdstanpy - INFO - Chain [1] done processing\n",
      "02:00:28 - cmdstanpy - INFO - Chain [1] done processing\n",
      "02:00:28 - cmdstanpy - INFO - Chain [1] done processing\n",
      "02:00:28 - cmdstanpy - INFO - Chain [1] done processing\n",
      "02:00:28 - cmdstanpy - INFO - Chain [1] done processing\n"
     ]
    },
    {
     "name": "stdout",
     "output_type": "stream",
     "text": [
      "[I 2025-08-23 02:00:29,607] Trial 49 finished with value: 784.4470641959531 and parameters: {'changepoint_prior_scale': 0.009183708075181679, 'seasonality_prior_scale': 0.013697978856865814, 'holidays_prior_scale': 30.954567563186842}. Best is trial 21 with value: 766.2238916265989.\n"
     ]
    },
    {
     "name": "stderr",
     "output_type": "stream",
     "text": [
      "02:00:29 - cmdstanpy - INFO - Chain [1] start processing\n",
      "02:00:30 - cmdstanpy - INFO - Chain [1] done processing\n",
      "02:00:31 - cmdstanpy - INFO - Chain [1] start processing\n",
      "02:00:31 - cmdstanpy - INFO - Chain [1] start processing\n",
      "02:00:31 - cmdstanpy - INFO - Chain [1] start processing\n",
      "02:00:31 - cmdstanpy - INFO - Chain [1] done processing\n",
      "02:00:31 - cmdstanpy - INFO - Chain [1] start processing\n",
      "02:00:31 - cmdstanpy - INFO - Chain [1] done processing\n",
      "02:00:31 - cmdstanpy - INFO - Chain [1] start processing\n",
      "02:00:31 - cmdstanpy - INFO - Chain [1] start processing\n",
      "02:00:31 - cmdstanpy - INFO - Chain [1] start processing\n",
      "02:00:31 - cmdstanpy - INFO - Chain [1] start processing\n",
      "02:00:31 - cmdstanpy - INFO - Chain [1] done processing\n",
      "02:00:31 - cmdstanpy - INFO - Chain [1] start processing\n",
      "02:00:31 - cmdstanpy - INFO - Chain [1] start processing\n",
      "02:00:31 - cmdstanpy - INFO - Chain [1] done processing\n",
      "02:00:32 - cmdstanpy - INFO - Chain [1] done processing\n",
      "02:00:32 - cmdstanpy - INFO - Chain [1] done processing\n",
      "02:00:32 - cmdstanpy - INFO - Chain [1] done processing\n",
      "02:00:32 - cmdstanpy - INFO - Chain [1] done processing\n",
      "02:00:32 - cmdstanpy - INFO - Chain [1] done processing\n",
      "02:00:32 - cmdstanpy - INFO - Chain [1] done processing\n"
     ]
    },
    {
     "name": "stdout",
     "output_type": "stream",
     "text": [
      "[I 2025-08-23 02:00:32,706] Trial 50 finished with value: 801.1967314037431 and parameters: {'changepoint_prior_scale': 0.04222469271199714, 'seasonality_prior_scale': 0.7359316914741726, 'holidays_prior_scale': 7.54593699789455}. Best is trial 21 with value: 766.2238916265989.\n"
     ]
    },
    {
     "name": "stderr",
     "output_type": "stream",
     "text": [
      "02:00:33 - cmdstanpy - INFO - Chain [1] start processing\n",
      "02:00:33 - cmdstanpy - INFO - Chain [1] done processing\n",
      "02:00:33 - cmdstanpy - INFO - Chain [1] start processing\n",
      "02:00:34 - cmdstanpy - INFO - Chain [1] done processing\n",
      "02:00:34 - cmdstanpy - INFO - Chain [1] start processing\n",
      "02:00:34 - cmdstanpy - INFO - Chain [1] done processing\n",
      "02:00:34 - cmdstanpy - INFO - Chain [1] start processing\n",
      "02:00:34 - cmdstanpy - INFO - Chain [1] start processing\n",
      "02:00:34 - cmdstanpy - INFO - Chain [1] start processing\n",
      "02:00:34 - cmdstanpy - INFO - Chain [1] start processing\n",
      "02:00:34 - cmdstanpy - INFO - Chain [1] start processing\n",
      "02:00:35 - cmdstanpy - INFO - Chain [1] start processing\n",
      "02:00:35 - cmdstanpy - INFO - Chain [1] start processing\n",
      "02:00:35 - cmdstanpy - INFO - Chain [1] done processing\n",
      "02:00:35 - cmdstanpy - INFO - Chain [1] start processing\n",
      "02:00:35 - cmdstanpy - INFO - Chain [1] done processing\n",
      "02:00:35 - cmdstanpy - INFO - Chain [1] done processing\n",
      "02:00:35 - cmdstanpy - INFO - Chain [1] done processing\n",
      "02:00:35 - cmdstanpy - INFO - Chain [1] done processing\n",
      "02:00:35 - cmdstanpy - INFO - Chain [1] done processing\n",
      "02:00:35 - cmdstanpy - INFO - Chain [1] done processing\n",
      "02:00:35 - cmdstanpy - INFO - Chain [1] done processing\n",
      "02:00:36 - cmdstanpy - INFO - Chain [1] start processing\n"
     ]
    },
    {
     "name": "stdout",
     "output_type": "stream",
     "text": [
      "[I 2025-08-23 02:00:35,907] Trial 51 finished with value: 784.0860679252341 and parameters: {'changepoint_prior_scale': 0.015126154609866037, 'seasonality_prior_scale': 0.010404567933217196, 'holidays_prior_scale': 5.137963747620457}. Best is trial 21 with value: 766.2238916265989.\n"
     ]
    },
    {
     "name": "stderr",
     "output_type": "stream",
     "text": [
      "02:00:36 - cmdstanpy - INFO - Chain [1] done processing\n",
      "02:00:36 - cmdstanpy - INFO - Chain [1] start processing\n",
      "02:00:37 - cmdstanpy - INFO - Chain [1] done processing\n",
      "02:00:37 - cmdstanpy - INFO - Chain [1] start processing\n",
      "02:00:37 - cmdstanpy - INFO - Chain [1] start processing\n",
      "02:00:37 - cmdstanpy - INFO - Chain [1] start processing\n",
      "02:00:38 - cmdstanpy - INFO - Chain [1] start processing\n",
      "02:00:38 - cmdstanpy - INFO - Chain [1] start processing\n",
      "02:00:38 - cmdstanpy - INFO - Chain [1] done processing\n",
      "02:00:38 - cmdstanpy - INFO - Chain [1] start processing\n",
      "02:00:38 - cmdstanpy - INFO - Chain [1] start processing\n",
      "02:00:38 - cmdstanpy - INFO - Chain [1] start processing\n",
      "02:00:38 - cmdstanpy - INFO - Chain [1] start processing\n",
      "02:00:38 - cmdstanpy - INFO - Chain [1] done processing\n",
      "02:00:38 - cmdstanpy - INFO - Chain [1] done processing\n",
      "02:00:38 - cmdstanpy - INFO - Chain [1] done processing\n",
      "02:00:38 - cmdstanpy - INFO - Chain [1] done processing\n",
      "02:00:38 - cmdstanpy - INFO - Chain [1] done processing\n",
      "02:00:38 - cmdstanpy - INFO - Chain [1] done processing\n",
      "02:00:38 - cmdstanpy - INFO - Chain [1] done processing\n",
      "02:00:38 - cmdstanpy - INFO - Chain [1] done processing\n"
     ]
    },
    {
     "name": "stdout",
     "output_type": "stream",
     "text": [
      "[I 2025-08-23 02:00:38,997] Trial 52 finished with value: 783.5565627883288 and parameters: {'changepoint_prior_scale': 0.01034859975984005, 'seasonality_prior_scale': 0.019966607263491844, 'holidays_prior_scale': 13.461689322099199}. Best is trial 21 with value: 766.2238916265989.\n"
     ]
    },
    {
     "name": "stderr",
     "output_type": "stream",
     "text": [
      "02:00:39 - cmdstanpy - INFO - Chain [1] start processing\n",
      "02:00:39 - cmdstanpy - INFO - Chain [1] done processing\n",
      "02:00:40 - cmdstanpy - INFO - Chain [1] start processing\n",
      "02:00:40 - cmdstanpy - INFO - Chain [1] done processing\n",
      "02:00:40 - cmdstanpy - INFO - Chain [1] start processing\n",
      "02:00:40 - cmdstanpy - INFO - Chain [1] start processing\n",
      "02:00:40 - cmdstanpy - INFO - Chain [1] start processing\n",
      "02:00:41 - cmdstanpy - INFO - Chain [1] start processing\n",
      "02:00:41 - cmdstanpy - INFO - Chain [1] start processing\n",
      "02:00:41 - cmdstanpy - INFO - Chain [1] done processing\n",
      "02:00:41 - cmdstanpy - INFO - Chain [1] done processing\n",
      "02:00:41 - cmdstanpy - INFO - Chain [1] done processing\n",
      "02:00:41 - cmdstanpy - INFO - Chain [1] start processing\n",
      "02:00:41 - cmdstanpy - INFO - Chain [1] start processing\n",
      "02:00:41 - cmdstanpy - INFO - Chain [1] start processing\n",
      "02:00:41 - cmdstanpy - INFO - Chain [1] start processing\n",
      "02:00:41 - cmdstanpy - INFO - Chain [1] done processing\n",
      "02:00:41 - cmdstanpy - INFO - Chain [1] done processing\n",
      "02:00:41 - cmdstanpy - INFO - Chain [1] done processing\n",
      "02:00:41 - cmdstanpy - INFO - Chain [1] done processing\n",
      "02:00:41 - cmdstanpy - INFO - Chain [1] done processing\n",
      "02:00:41 - cmdstanpy - INFO - Chain [1] done processing\n"
     ]
    },
    {
     "name": "stdout",
     "output_type": "stream",
     "text": [
      "[I 2025-08-23 02:00:42,160] Trial 53 finished with value: 785.8326927433151 and parameters: {'changepoint_prior_scale': 0.0839994014362928, 'seasonality_prior_scale': 0.0132160017221791, 'holidays_prior_scale': 5.15612377822704}. Best is trial 21 with value: 766.2238916265989.\n"
     ]
    },
    {
     "name": "stderr",
     "output_type": "stream",
     "text": [
      "02:00:42 - cmdstanpy - INFO - Chain [1] start processing\n",
      "02:00:42 - cmdstanpy - INFO - Chain [1] done processing\n",
      "02:00:43 - cmdstanpy - INFO - Chain [1] start processing\n",
      "02:00:44 - cmdstanpy - INFO - Chain [1] done processing\n",
      "02:00:44 - cmdstanpy - INFO - Chain [1] start processing\n",
      "02:00:44 - cmdstanpy - INFO - Chain [1] start processing\n",
      "02:00:44 - cmdstanpy - INFO - Chain [1] done processing\n",
      "02:00:44 - cmdstanpy - INFO - Chain [1] start processing\n",
      "02:00:44 - cmdstanpy - INFO - Chain [1] start processing\n",
      "02:00:44 - cmdstanpy - INFO - Chain [1] start processing\n",
      "02:00:44 - cmdstanpy - INFO - Chain [1] start processing\n",
      "02:00:44 - cmdstanpy - INFO - Chain [1] start processing\n",
      "02:00:44 - cmdstanpy - INFO - Chain [1] start processing\n",
      "02:00:44 - cmdstanpy - INFO - Chain [1] done processing\n",
      "02:00:44 - cmdstanpy - INFO - Chain [1] done processing\n",
      "02:00:44 - cmdstanpy - INFO - Chain [1] done processing\n",
      "02:00:44 - cmdstanpy - INFO - Chain [1] start processing\n",
      "02:00:44 - cmdstanpy - INFO - Chain [1] done processing\n",
      "02:00:44 - cmdstanpy - INFO - Chain [1] done processing\n",
      "02:00:44 - cmdstanpy - INFO - Chain [1] done processing\n",
      "02:00:44 - cmdstanpy - INFO - Chain [1] done processing\n",
      "02:00:45 - cmdstanpy - INFO - Chain [1] done processing\n",
      "02:00:45 - cmdstanpy - INFO - Chain [1] start processing\n"
     ]
    },
    {
     "name": "stdout",
     "output_type": "stream",
     "text": [
      "[I 2025-08-23 02:00:45,441] Trial 54 finished with value: 799.8528721933897 and parameters: {'changepoint_prior_scale': 0.003993508138830724, 'seasonality_prior_scale': 0.03639678278707418, 'holidays_prior_scale': 3.2824591486062977}. Best is trial 21 with value: 766.2238916265989.\n"
     ]
    },
    {
     "name": "stderr",
     "output_type": "stream",
     "text": [
      "02:00:45 - cmdstanpy - INFO - Chain [1] done processing\n",
      "02:00:46 - cmdstanpy - INFO - Chain [1] start processing\n",
      "02:00:46 - cmdstanpy - INFO - Chain [1] done processing\n",
      "02:00:47 - cmdstanpy - INFO - Chain [1] start processing\n",
      "02:00:47 - cmdstanpy - INFO - Chain [1] start processing\n",
      "02:00:47 - cmdstanpy - INFO - Chain [1] start processing\n",
      "02:00:47 - cmdstanpy - INFO - Chain [1] start processing\n",
      "02:00:47 - cmdstanpy - INFO - Chain [1] start processing\n",
      "02:00:47 - cmdstanpy - INFO - Chain [1] start processing\n",
      "02:00:47 - cmdstanpy - INFO - Chain [1] start processing\n",
      "02:00:47 - cmdstanpy - INFO - Chain [1] done processing\n",
      "02:00:47 - cmdstanpy - INFO - Chain [1] done processing\n",
      "02:00:47 - cmdstanpy - INFO - Chain [1] start processing\n",
      "02:00:47 - cmdstanpy - INFO - Chain [1] done processing\n",
      "02:00:47 - cmdstanpy - INFO - Chain [1] start processing\n",
      "02:00:47 - cmdstanpy - INFO - Chain [1] done processing\n",
      "02:00:47 - cmdstanpy - INFO - Chain [1] done processing\n",
      "02:00:47 - cmdstanpy - INFO - Chain [1] done processing\n",
      "02:00:47 - cmdstanpy - INFO - Chain [1] done processing\n",
      "02:00:47 - cmdstanpy - INFO - Chain [1] done processing\n",
      "02:00:47 - cmdstanpy - INFO - Chain [1] done processing\n"
     ]
    },
    {
     "name": "stdout",
     "output_type": "stream",
     "text": [
      "[I 2025-08-23 02:00:48,456] Trial 55 finished with value: 784.5907873523171 and parameters: {'changepoint_prior_scale': 0.0055925606082375704, 'seasonality_prior_scale': 0.02217198702247391, 'holidays_prior_scale': 8.918671801614506}. Best is trial 21 with value: 766.2238916265989.\n"
     ]
    },
    {
     "name": "stderr",
     "output_type": "stream",
     "text": [
      "02:00:48 - cmdstanpy - INFO - Chain [1] start processing\n",
      "02:00:48 - cmdstanpy - INFO - Chain [1] done processing\n",
      "02:00:49 - cmdstanpy - INFO - Chain [1] start processing\n",
      "02:00:49 - cmdstanpy - INFO - Chain [1] done processing\n",
      "02:00:50 - cmdstanpy - INFO - Chain [1] start processing\n",
      "02:00:50 - cmdstanpy - INFO - Chain [1] start processing\n",
      "02:00:50 - cmdstanpy - INFO - Chain [1] start processing\n",
      "02:00:50 - cmdstanpy - INFO - Chain [1] start processing\n",
      "02:00:50 - cmdstanpy - INFO - Chain [1] start processing\n",
      "02:00:50 - cmdstanpy - INFO - Chain [1] start processing\n",
      "02:00:50 - cmdstanpy - INFO - Chain [1] start processing\n",
      "02:00:50 - cmdstanpy - INFO - Chain [1] done processing\n",
      "02:00:50 - cmdstanpy - INFO - Chain [1] start processing\n",
      "02:00:50 - cmdstanpy - INFO - Chain [1] start processing\n",
      "02:00:50 - cmdstanpy - INFO - Chain [1] done processing\n",
      "02:00:50 - cmdstanpy - INFO - Chain [1] done processing\n",
      "02:00:51 - cmdstanpy - INFO - Chain [1] done processing\n",
      "02:00:51 - cmdstanpy - INFO - Chain [1] done processing\n",
      "02:00:51 - cmdstanpy - INFO - Chain [1] done processing\n",
      "02:00:51 - cmdstanpy - INFO - Chain [1] done processing\n",
      "02:00:51 - cmdstanpy - INFO - Chain [1] done processing\n",
      "02:00:51 - cmdstanpy - INFO - Chain [1] done processing\n"
     ]
    },
    {
     "name": "stdout",
     "output_type": "stream",
     "text": [
      "[I 2025-08-23 02:00:51,647] Trial 56 finished with value: 808.3678448292837 and parameters: {'changepoint_prior_scale': 0.002986365456606062, 'seasonality_prior_scale': 9.280084740106203, 'holidays_prior_scale': 0.03885254762832491}. Best is trial 21 with value: 766.2238916265989.\n"
     ]
    },
    {
     "name": "stderr",
     "output_type": "stream",
     "text": [
      "02:00:51 - cmdstanpy - INFO - Chain [1] start processing\n",
      "02:00:52 - cmdstanpy - INFO - Chain [1] done processing\n",
      "02:00:52 - cmdstanpy - INFO - Chain [1] start processing\n",
      "02:00:53 - cmdstanpy - INFO - Chain [1] done processing\n",
      "02:00:53 - cmdstanpy - INFO - Chain [1] start processing\n",
      "02:00:53 - cmdstanpy - INFO - Chain [1] start processing\n",
      "02:00:53 - cmdstanpy - INFO - Chain [1] start processing\n",
      "02:00:53 - cmdstanpy - INFO - Chain [1] start processing\n",
      "02:00:53 - cmdstanpy - INFO - Chain [1] done processing\n",
      "02:00:53 - cmdstanpy - INFO - Chain [1] start processing\n",
      "02:00:53 - cmdstanpy - INFO - Chain [1] start processing\n",
      "02:00:53 - cmdstanpy - INFO - Chain [1] start processing\n",
      "02:00:53 - cmdstanpy - INFO - Chain [1] start processing\n",
      "02:00:53 - cmdstanpy - INFO - Chain [1] start processing\n",
      "02:00:54 - cmdstanpy - INFO - Chain [1] done processing\n",
      "02:00:54 - cmdstanpy - INFO - Chain [1] done processing\n",
      "02:00:54 - cmdstanpy - INFO - Chain [1] done processing\n",
      "02:00:54 - cmdstanpy - INFO - Chain [1] done processing\n",
      "02:00:54 - cmdstanpy - INFO - Chain [1] done processing\n",
      "02:00:54 - cmdstanpy - INFO - Chain [1] done processing\n",
      "02:00:54 - cmdstanpy - INFO - Chain [1] done processing\n",
      "02:00:54 - cmdstanpy - INFO - Chain [1] done processing\n"
     ]
    },
    {
     "name": "stdout",
     "output_type": "stream",
     "text": [
      "[I 2025-08-23 02:00:54,791] Trial 57 finished with value: 783.5674666465209 and parameters: {'changepoint_prior_scale': 0.010586575535582647, 'seasonality_prior_scale': 0.012553689572702262, 'holidays_prior_scale': 0.5155644686493619}. Best is trial 21 with value: 766.2238916265989.\n"
     ]
    },
    {
     "name": "stderr",
     "output_type": "stream",
     "text": [
      "02:00:54 - cmdstanpy - INFO - Chain [1] start processing\n",
      "02:00:55 - cmdstanpy - INFO - Chain [1] done processing\n",
      "02:00:56 - cmdstanpy - INFO - Chain [1] start processing\n",
      "02:00:56 - cmdstanpy - INFO - Chain [1] start processing\n",
      "02:00:56 - cmdstanpy - INFO - Chain [1] start processing\n",
      "02:00:56 - cmdstanpy - INFO - Chain [1] start processing\n",
      "02:00:56 - cmdstanpy - INFO - Chain [1] start processing\n",
      "02:00:56 - cmdstanpy - INFO - Chain [1] done processing\n",
      "02:00:56 - cmdstanpy - INFO - Chain [1] start processing\n",
      "02:00:56 - cmdstanpy - INFO - Chain [1] done processing\n",
      "02:00:56 - cmdstanpy - INFO - Chain [1] start processing\n",
      "02:00:56 - cmdstanpy - INFO - Chain [1] start processing\n",
      "02:00:57 - cmdstanpy - INFO - Chain [1] start processing\n",
      "02:00:57 - cmdstanpy - INFO - Chain [1] start processing\n",
      "02:00:57 - cmdstanpy - INFO - Chain [1] done processing\n",
      "02:00:57 - cmdstanpy - INFO - Chain [1] done processing\n",
      "02:00:57 - cmdstanpy - INFO - Chain [1] done processing\n",
      "02:00:57 - cmdstanpy - INFO - Chain [1] done processing\n",
      "02:00:57 - cmdstanpy - INFO - Chain [1] done processing\n",
      "02:00:57 - cmdstanpy - INFO - Chain [1] done processing\n",
      "02:00:57 - cmdstanpy - INFO - Chain [1] done processing\n",
      "02:00:57 - cmdstanpy - INFO - Chain [1] done processing\n",
      "02:00:58 - cmdstanpy - INFO - Chain [1] start processing\n"
     ]
    },
    {
     "name": "stdout",
     "output_type": "stream",
     "text": [
      "[I 2025-08-23 02:00:57,955] Trial 58 finished with value: 826.0556358548956 and parameters: {'changepoint_prior_scale': 0.06468672394412972, 'seasonality_prior_scale': 1.2406722840794857, 'holidays_prior_scale': 0.011223586997513501}. Best is trial 21 with value: 766.2238916265989.\n"
     ]
    },
    {
     "name": "stderr",
     "output_type": "stream",
     "text": [
      "02:00:58 - cmdstanpy - INFO - Chain [1] done processing\n",
      "02:00:59 - cmdstanpy - INFO - Chain [1] start processing\n",
      "02:00:59 - cmdstanpy - INFO - Chain [1] done processing\n",
      "02:00:59 - cmdstanpy - INFO - Chain [1] start processing\n",
      "02:00:59 - cmdstanpy - INFO - Chain [1] start processing\n",
      "02:00:59 - cmdstanpy - INFO - Chain [1] start processing\n",
      "02:00:59 - cmdstanpy - INFO - Chain [1] start processing\n",
      "02:00:59 - cmdstanpy - INFO - Chain [1] start processing\n",
      "02:01:00 - cmdstanpy - INFO - Chain [1] start processing\n",
      "02:01:00 - cmdstanpy - INFO - Chain [1] start processing\n",
      "02:01:00 - cmdstanpy - INFO - Chain [1] start processing\n",
      "02:01:00 - cmdstanpy - INFO - Chain [1] start processing\n",
      "02:01:00 - cmdstanpy - INFO - Chain [1] done processing\n",
      "02:01:00 - cmdstanpy - INFO - Chain [1] done processing\n",
      "02:01:00 - cmdstanpy - INFO - Chain [1] done processing\n",
      "02:01:00 - cmdstanpy - INFO - Chain [1] done processing\n",
      "02:01:00 - cmdstanpy - INFO - Chain [1] done processing\n",
      "02:01:00 - cmdstanpy - INFO - Chain [1] done processing\n",
      "02:01:00 - cmdstanpy - INFO - Chain [1] done processing\n",
      "02:01:00 - cmdstanpy - INFO - Chain [1] done processing\n",
      "02:01:00 - cmdstanpy - INFO - Chain [1] done processing\n"
     ]
    },
    {
     "name": "stdout",
     "output_type": "stream",
     "text": [
      "[I 2025-08-23 02:01:01,313] Trial 59 finished with value: 791.0814056499504 and parameters: {'changepoint_prior_scale': 0.028770172337351775, 'seasonality_prior_scale': 0.01911191055489428, 'holidays_prior_scale': 1.8247713456552155}. Best is trial 21 with value: 766.2238916265989.\n"
     ]
    },
    {
     "name": "stderr",
     "output_type": "stream",
     "text": [
      "02:01:03 - cmdstanpy - INFO - Chain [1] start processing\n",
      "02:01:03 - cmdstanpy - INFO - Chain [1] done processing\n",
      "02:01:03 - cmdstanpy - ERROR - Chain [1] error: error during processing Operation not permitted\n",
      "Optimization terminated abnormally. Falling back to Newton.\n",
      "02:01:03 - cmdstanpy - INFO - Chain [1] start processing\n",
      "02:01:05 - cmdstanpy - INFO - Chain [1] done processing\n",
      "02:01:06 - cmdstanpy - INFO - Chain [1] start processing\n",
      "02:01:06 - cmdstanpy - INFO - Chain [1] done processing\n",
      "02:01:06 - cmdstanpy - ERROR - Chain [1] error: error during processing Operation not permitted\n",
      "Optimization terminated abnormally. Falling back to Newton.\n",
      "02:01:07 - cmdstanpy - INFO - Chain [1] start processing\n",
      "02:01:07 - cmdstanpy - INFO - Chain [1] start processing\n",
      "02:01:07 - cmdstanpy - INFO - Chain [1] start processing\n",
      "02:01:07 - cmdstanpy - INFO - Chain [1] start processing\n",
      "02:01:07 - cmdstanpy - INFO - Chain [1] start processing\n",
      "02:01:07 - cmdstanpy - INFO - Chain [1] done processing\n",
      "02:01:07 - cmdstanpy - INFO - Chain [1] done processing\n",
      "02:01:07 - cmdstanpy - ERROR - Chain [1] error: error during processing Operation not permitted\n",
      "02:01:07 - cmdstanpy - INFO - Chain [1] start processing\n",
      "02:01:07 - cmdstanpy - INFO - Chain [1] start processing\n",
      "02:01:07 - cmdstanpy - ERROR - Chain [1] error: error during processing Operation not permitted\n",
      "02:01:07 - cmdstanpy - INFO - Chain [1] start processing\n",
      "02:01:07 - cmdstanpy - INFO - Chain [1] done processing\n",
      "02:01:07 - cmdstanpy - ERROR - Chain [1] error: error during processing Operation not permitted\n",
      "02:01:07 - cmdstanpy - INFO - Chain [1] start processing\n",
      "02:01:07 - cmdstanpy - INFO - Chain [1] start processing\n",
      "Optimization terminated abnormally. Falling back to Newton.\n",
      "Optimization terminated abnormally. Falling back to Newton.\n",
      "Optimization terminated abnormally. Falling back to Newton.\n",
      "02:01:07 - cmdstanpy - INFO - Chain [1] done processing\n",
      "02:01:07 - cmdstanpy - INFO - Chain [1] done processing\n",
      "02:01:07 - cmdstanpy - INFO - Chain [1] done processing\n",
      "02:01:07 - cmdstanpy - INFO - Chain [1] done processing\n",
      "02:01:07 - cmdstanpy - INFO - Chain [1] done processing\n",
      "02:01:07 - cmdstanpy - INFO - Chain [1] done processing\n",
      "02:01:07 - cmdstanpy - ERROR - Chain [1] error: error during processing Operation not permitted\n",
      "02:01:07 - cmdstanpy - ERROR - Chain [1] error: error during processing Operation not permitted\n",
      "02:01:07 - cmdstanpy - ERROR - Chain [1] error: error during processing Operation not permitted\n",
      "02:01:07 - cmdstanpy - ERROR - Chain [1] error: error during processing Operation not permitted\n",
      "Optimization terminated abnormally. Falling back to Newton.\n",
      "Optimization terminated abnormally. Falling back to Newton.\n",
      "02:01:07 - cmdstanpy - ERROR - Chain [1] error: error during processing Operation not permitted\n",
      "02:01:07 - cmdstanpy - INFO - Chain [1] start processing\n",
      "Optimization terminated abnormally. Falling back to Newton.\n",
      "Optimization terminated abnormally. Falling back to Newton.\n",
      "02:01:07 - cmdstanpy - INFO - Chain [1] start processing\n",
      "02:01:07 - cmdstanpy - INFO - Chain [1] start processing\n",
      "Optimization terminated abnormally. Falling back to Newton.\n",
      "02:01:08 - cmdstanpy - INFO - Chain [1] start processing\n",
      "02:01:08 - cmdstanpy - INFO - Chain [1] start processing\n",
      "02:01:08 - cmdstanpy - INFO - Chain [1] start processing\n",
      "02:01:08 - cmdstanpy - INFO - Chain [1] start processing\n",
      "02:01:08 - cmdstanpy - INFO - Chain [1] start processing\n",
      "02:01:11 - cmdstanpy - INFO - Chain [1] done processing\n",
      "02:01:12 - cmdstanpy - INFO - Chain [1] done processing\n",
      "02:01:12 - cmdstanpy - INFO - Chain [1] done processing\n",
      "02:01:12 - cmdstanpy - INFO - Chain [1] done processing\n",
      "02:01:12 - cmdstanpy - INFO - Chain [1] done processing\n",
      "02:01:13 - cmdstanpy - INFO - Chain [1] done processing\n",
      "02:01:13 - cmdstanpy - INFO - Chain [1] done processing\n",
      "02:01:13 - cmdstanpy - INFO - Chain [1] done processing\n",
      "02:01:55 - cmdstanpy - INFO - Chain [1] done processing\n"
     ]
    },
    {
     "name": "stdout",
     "output_type": "stream",
     "text": [
      "[I 2025-08-23 02:01:55,174] Trial 60 finished with value: 813.6073920636077 and parameters: {'changepoint_prior_scale': 0.0002804167660397175, 'seasonality_prior_scale': 0.026417781701461713, 'holidays_prior_scale': 26.70950219868265}. Best is trial 21 with value: 766.2238916265989.\n"
     ]
    },
    {
     "name": "stderr",
     "output_type": "stream",
     "text": [
      "02:01:55 - cmdstanpy - INFO - Chain [1] start processing\n",
      "02:01:55 - cmdstanpy - INFO - Chain [1] done processing\n",
      "02:01:56 - cmdstanpy - INFO - Chain [1] start processing\n",
      "02:01:56 - cmdstanpy - INFO - Chain [1] done processing\n",
      "02:01:57 - cmdstanpy - INFO - Chain [1] start processing\n",
      "02:01:57 - cmdstanpy - INFO - Chain [1] start processing\n",
      "02:01:57 - cmdstanpy - INFO - Chain [1] start processing\n",
      "02:01:57 - cmdstanpy - INFO - Chain [1] start processing\n",
      "02:01:57 - cmdstanpy - INFO - Chain [1] start processing\n",
      "02:01:57 - cmdstanpy - INFO - Chain [1] start processing\n",
      "02:01:57 - cmdstanpy - INFO - Chain [1] start processing\n",
      "02:01:57 - cmdstanpy - INFO - Chain [1] start processing\n",
      "02:01:57 - cmdstanpy - INFO - Chain [1] start processing\n",
      "02:01:59 - cmdstanpy - INFO - Chain [1] done processing\n",
      "02:01:59 - cmdstanpy - INFO - Chain [1] done processing\n",
      "02:01:59 - cmdstanpy - INFO - Chain [1] done processing\n",
      "02:01:59 - cmdstanpy - INFO - Chain [1] done processing\n",
      "02:01:59 - cmdstanpy - INFO - Chain [1] done processing\n",
      "02:01:59 - cmdstanpy - INFO - Chain [1] done processing\n",
      "02:01:59 - cmdstanpy - INFO - Chain [1] done processing\n",
      "02:01:59 - cmdstanpy - INFO - Chain [1] done processing\n",
      "02:01:59 - cmdstanpy - INFO - Chain [1] done processing\n"
     ]
    },
    {
     "name": "stdout",
     "output_type": "stream",
     "text": [
      "[I 2025-08-23 02:02:00,740] Trial 61 finished with value: 781.7875098350445 and parameters: {'changepoint_prior_scale': 0.015382182890780749, 'seasonality_prior_scale': 0.01057391792456099, 'holidays_prior_scale': 5.400356647510267}. Best is trial 21 with value: 766.2238916265989.\n"
     ]
    },
    {
     "name": "stderr",
     "output_type": "stream",
     "text": [
      "02:02:01 - cmdstanpy - INFO - Chain [1] start processing\n",
      "02:02:01 - cmdstanpy - INFO - Chain [1] done processing\n",
      "02:02:02 - cmdstanpy - INFO - Chain [1] start processing\n",
      "02:02:02 - cmdstanpy - INFO - Chain [1] done processing\n",
      "02:02:02 - cmdstanpy - INFO - Chain [1] start processing\n",
      "02:02:03 - cmdstanpy - INFO - Chain [1] done processing\n",
      "02:02:03 - cmdstanpy - INFO - Chain [1] start processing\n",
      "02:02:03 - cmdstanpy - INFO - Chain [1] start processing\n",
      "02:02:03 - cmdstanpy - INFO - Chain [1] start processing\n",
      "02:02:03 - cmdstanpy - INFO - Chain [1] start processing\n",
      "02:02:03 - cmdstanpy - INFO - Chain [1] start processing\n",
      "02:02:03 - cmdstanpy - INFO - Chain [1] start processing\n",
      "02:02:03 - cmdstanpy - INFO - Chain [1] start processing\n",
      "02:02:03 - cmdstanpy - INFO - Chain [1] start processing\n",
      "02:02:03 - cmdstanpy - INFO - Chain [1] done processing\n",
      "02:02:03 - cmdstanpy - INFO - Chain [1] done processing\n",
      "02:02:03 - cmdstanpy - INFO - Chain [1] done processing\n",
      "02:02:03 - cmdstanpy - INFO - Chain [1] done processing\n",
      "02:02:03 - cmdstanpy - INFO - Chain [1] done processing\n",
      "02:02:04 - cmdstanpy - INFO - Chain [1] done processing\n",
      "02:02:04 - cmdstanpy - INFO - Chain [1] done processing\n",
      "02:02:04 - cmdstanpy - INFO - Chain [1] done processing\n"
     ]
    },
    {
     "name": "stdout",
     "output_type": "stream",
     "text": [
      "[I 2025-08-23 02:02:04,864] Trial 62 finished with value: 781.6120213977944 and parameters: {'changepoint_prior_scale': 0.013208232660218346, 'seasonality_prior_scale': 0.012666889672522677, 'holidays_prior_scale': 13.217026625190758}. Best is trial 21 with value: 766.2238916265989.\n"
     ]
    },
    {
     "name": "stderr",
     "output_type": "stream",
     "text": [
      "02:02:05 - cmdstanpy - INFO - Chain [1] start processing\n",
      "02:02:05 - cmdstanpy - INFO - Chain [1] done processing\n",
      "02:02:06 - cmdstanpy - INFO - Chain [1] start processing\n",
      "02:02:06 - cmdstanpy - INFO - Chain [1] start processing\n",
      "02:02:06 - cmdstanpy - INFO - Chain [1] done processing\n",
      "02:02:06 - cmdstanpy - INFO - Chain [1] done processing\n",
      "02:02:06 - cmdstanpy - INFO - Chain [1] start processing\n",
      "02:02:06 - cmdstanpy - INFO - Chain [1] start processing\n",
      "02:02:07 - cmdstanpy - INFO - Chain [1] done processing\n",
      "02:02:07 - cmdstanpy - INFO - Chain [1] done processing\n",
      "02:02:07 - cmdstanpy - INFO - Chain [1] start processing\n",
      "02:02:07 - cmdstanpy - INFO - Chain [1] start processing\n",
      "02:02:07 - cmdstanpy - INFO - Chain [1] start processing\n",
      "02:02:07 - cmdstanpy - INFO - Chain [1] start processing\n",
      "02:02:07 - cmdstanpy - INFO - Chain [1] done processing\n",
      "02:02:07 - cmdstanpy - INFO - Chain [1] start processing\n",
      "02:02:07 - cmdstanpy - INFO - Chain [1] start processing\n",
      "02:02:07 - cmdstanpy - INFO - Chain [1] done processing\n",
      "02:02:07 - cmdstanpy - INFO - Chain [1] done processing\n",
      "02:02:07 - cmdstanpy - INFO - Chain [1] done processing\n",
      "02:02:07 - cmdstanpy - INFO - Chain [1] done processing\n",
      "02:02:07 - cmdstanpy - INFO - Chain [1] done processing\n"
     ]
    },
    {
     "name": "stdout",
     "output_type": "stream",
     "text": [
      "[I 2025-08-23 02:02:08,235] Trial 63 finished with value: 776.1693602319372 and parameters: {'changepoint_prior_scale': 0.0069369276811576015, 'seasonality_prior_scale': 0.015820935259533327, 'holidays_prior_scale': 14.570538320382486}. Best is trial 21 with value: 766.2238916265989.\n"
     ]
    },
    {
     "name": "stderr",
     "output_type": "stream",
     "text": [
      "02:02:08 - cmdstanpy - INFO - Chain [1] start processing\n",
      "02:02:08 - cmdstanpy - INFO - Chain [1] done processing\n",
      "02:02:10 - cmdstanpy - INFO - Chain [1] start processing\n",
      "02:02:10 - cmdstanpy - INFO - Chain [1] start processing\n",
      "02:02:10 - cmdstanpy - INFO - Chain [1] start processing\n",
      "02:02:10 - cmdstanpy - INFO - Chain [1] start processing\n",
      "02:02:10 - cmdstanpy - INFO - Chain [1] done processing\n",
      "02:02:10 - cmdstanpy - INFO - Chain [1] start processing\n",
      "02:02:10 - cmdstanpy - INFO - Chain [1] start processing\n",
      "02:02:10 - cmdstanpy - INFO - Chain [1] start processing\n",
      "02:02:10 - cmdstanpy - INFO - Chain [1] start processing\n",
      "02:02:10 - cmdstanpy - INFO - Chain [1] start processing\n",
      "02:02:10 - cmdstanpy - INFO - Chain [1] start processing\n",
      "02:02:10 - cmdstanpy - INFO - Chain [1] done processing\n",
      "02:02:10 - cmdstanpy - INFO - Chain [1] done processing\n",
      "02:02:10 - cmdstanpy - INFO - Chain [1] done processing\n",
      "02:02:10 - cmdstanpy - INFO - Chain [1] done processing\n",
      "02:02:10 - cmdstanpy - INFO - Chain [1] done processing\n",
      "02:02:10 - cmdstanpy - INFO - Chain [1] done processing\n",
      "02:02:10 - cmdstanpy - INFO - Chain [1] done processing\n",
      "02:02:10 - cmdstanpy - INFO - Chain [1] done processing\n",
      "02:02:10 - cmdstanpy - INFO - Chain [1] done processing\n"
     ]
    },
    {
     "name": "stdout",
     "output_type": "stream",
     "text": [
      "[I 2025-08-23 02:02:11,485] Trial 64 finished with value: 778.2842375601264 and parameters: {'changepoint_prior_scale': 0.0044752050800994266, 'seasonality_prior_scale': 0.01617079206716793, 'holidays_prior_scale': 39.28446936475621}. Best is trial 21 with value: 766.2238916265989.\n"
     ]
    },
    {
     "name": "stderr",
     "output_type": "stream",
     "text": [
      "02:02:11 - cmdstanpy - INFO - Chain [1] start processing\n",
      "02:02:11 - cmdstanpy - INFO - Chain [1] done processing\n",
      "02:02:12 - cmdstanpy - INFO - Chain [1] start processing\n",
      "02:02:12 - cmdstanpy - INFO - Chain [1] done processing\n",
      "02:02:13 - cmdstanpy - INFO - Chain [1] start processing\n",
      "02:02:13 - cmdstanpy - INFO - Chain [1] start processing\n",
      "02:02:13 - cmdstanpy - INFO - Chain [1] done processing\n",
      "02:02:13 - cmdstanpy - INFO - Chain [1] start processing\n",
      "02:02:13 - cmdstanpy - INFO - Chain [1] start processing\n",
      "02:02:13 - cmdstanpy - INFO - Chain [1] start processing\n",
      "02:02:13 - cmdstanpy - INFO - Chain [1] start processing\n",
      "02:02:13 - cmdstanpy - INFO - Chain [1] done processing\n",
      "02:02:13 - cmdstanpy - INFO - Chain [1] start processing\n",
      "02:02:13 - cmdstanpy - INFO - Chain [1] start processing\n",
      "02:02:13 - cmdstanpy - INFO - Chain [1] done processing\n",
      "02:02:13 - cmdstanpy - INFO - Chain [1] done processing\n",
      "02:02:13 - cmdstanpy - INFO - Chain [1] done processing\n",
      "02:02:13 - cmdstanpy - INFO - Chain [1] done processing\n",
      "02:02:14 - cmdstanpy - INFO - Chain [1] done processing\n",
      "02:02:14 - cmdstanpy - INFO - Chain [1] start processing\n",
      "02:02:14 - cmdstanpy - INFO - Chain [1] done processing\n",
      "02:02:14 - cmdstanpy - INFO - Chain [1] done processing\n"
     ]
    },
    {
     "name": "stdout",
     "output_type": "stream",
     "text": [
      "[I 2025-08-23 02:02:14,710] Trial 65 finished with value: 770.297826573341 and parameters: {'changepoint_prior_scale': 0.004264758481113848, 'seasonality_prior_scale': 0.01753000341487399, 'holidays_prior_scale': 38.47016586691506}. Best is trial 21 with value: 766.2238916265989.\n"
     ]
    },
    {
     "name": "stderr",
     "output_type": "stream",
     "text": [
      "02:02:14 - cmdstanpy - INFO - Chain [1] start processing\n",
      "02:02:15 - cmdstanpy - INFO - Chain [1] done processing\n",
      "02:02:15 - cmdstanpy - INFO - Chain [1] start processing\n",
      "02:02:15 - cmdstanpy - INFO - Chain [1] done processing\n",
      "02:02:16 - cmdstanpy - INFO - Chain [1] start processing\n",
      "02:02:16 - cmdstanpy - INFO - Chain [1] start processing\n",
      "02:02:16 - cmdstanpy - INFO - Chain [1] done processing\n",
      "02:02:16 - cmdstanpy - INFO - Chain [1] start processing\n",
      "02:02:16 - cmdstanpy - INFO - Chain [1] start processing\n",
      "02:02:16 - cmdstanpy - INFO - Chain [1] start processing\n",
      "02:02:16 - cmdstanpy - INFO - Chain [1] start processing\n",
      "02:02:16 - cmdstanpy - INFO - Chain [1] start processing\n",
      "02:02:16 - cmdstanpy - INFO - Chain [1] start processing\n",
      "02:02:16 - cmdstanpy - INFO - Chain [1] start processing\n",
      "02:02:16 - cmdstanpy - INFO - Chain [1] done processing\n",
      "02:02:16 - cmdstanpy - INFO - Chain [1] done processing\n",
      "02:02:17 - cmdstanpy - INFO - Chain [1] done processing\n",
      "02:02:17 - cmdstanpy - INFO - Chain [1] done processing\n",
      "02:02:17 - cmdstanpy - INFO - Chain [1] done processing\n",
      "02:02:17 - cmdstanpy - INFO - Chain [1] done processing\n",
      "02:02:17 - cmdstanpy - INFO - Chain [1] done processing\n",
      "02:02:17 - cmdstanpy - INFO - Chain [1] done processing\n"
     ]
    },
    {
     "name": "stdout",
     "output_type": "stream",
     "text": [
      "[I 2025-08-23 02:02:17,691] Trial 66 finished with value: 808.4492949017489 and parameters: {'changepoint_prior_scale': 0.0024125147637079837, 'seasonality_prior_scale': 0.019509129650829914, 'holidays_prior_scale': 19.402567397174785}. Best is trial 21 with value: 766.2238916265989.\n"
     ]
    },
    {
     "name": "stderr",
     "output_type": "stream",
     "text": [
      "02:02:17 - cmdstanpy - INFO - Chain [1] start processing\n",
      "02:02:17 - cmdstanpy - INFO - Chain [1] done processing\n",
      "02:02:19 - cmdstanpy - INFO - Chain [1] start processing\n",
      "02:02:19 - cmdstanpy - INFO - Chain [1] start processing\n",
      "02:02:19 - cmdstanpy - INFO - Chain [1] start processing\n",
      "02:02:19 - cmdstanpy - INFO - Chain [1] start processing\n",
      "02:02:19 - cmdstanpy - INFO - Chain [1] start processing\n",
      "02:02:19 - cmdstanpy - INFO - Chain [1] done processing\n",
      "02:02:19 - cmdstanpy - INFO - Chain [1] start processing\n",
      "02:02:19 - cmdstanpy - INFO - Chain [1] done processing\n",
      "02:02:19 - cmdstanpy - INFO - Chain [1] start processing\n",
      "02:02:19 - cmdstanpy - INFO - Chain [1] start processing\n",
      "02:02:19 - cmdstanpy - INFO - Chain [1] start processing\n",
      "02:02:19 - cmdstanpy - INFO - Chain [1] start processing\n",
      "02:02:20 - cmdstanpy - INFO - Chain [1] done processing\n",
      "02:02:20 - cmdstanpy - INFO - Chain [1] done processing\n",
      "02:02:20 - cmdstanpy - INFO - Chain [1] done processing\n",
      "02:02:20 - cmdstanpy - INFO - Chain [1] done processing\n",
      "02:02:20 - cmdstanpy - INFO - Chain [1] done processing\n",
      "02:02:20 - cmdstanpy - INFO - Chain [1] done processing\n",
      "02:02:20 - cmdstanpy - INFO - Chain [1] done processing\n",
      "02:02:20 - cmdstanpy - INFO - Chain [1] done processing\n"
     ]
    },
    {
     "name": "stdout",
     "output_type": "stream",
     "text": [
      "[I 2025-08-23 02:02:20,924] Trial 67 finished with value: 824.2149979509129 and parameters: {'changepoint_prior_scale': 0.0013753345838651554, 'seasonality_prior_scale': 0.03331791233256035, 'holidays_prior_scale': 35.8918152921737}. Best is trial 21 with value: 766.2238916265989.\n"
     ]
    },
    {
     "name": "stderr",
     "output_type": "stream",
     "text": [
      "02:02:21 - cmdstanpy - INFO - Chain [1] start processing\n",
      "02:02:21 - cmdstanpy - INFO - Chain [1] done processing\n",
      "02:02:21 - cmdstanpy - INFO - Chain [1] start processing\n",
      "02:02:22 - cmdstanpy - INFO - Chain [1] done processing\n",
      "02:02:22 - cmdstanpy - INFO - Chain [1] start processing\n",
      "02:02:22 - cmdstanpy - INFO - Chain [1] done processing\n",
      "02:02:22 - cmdstanpy - INFO - Chain [1] start processing\n",
      "02:02:22 - cmdstanpy - INFO - Chain [1] start processing\n",
      "02:02:22 - cmdstanpy - INFO - Chain [1] start processing\n",
      "02:02:22 - cmdstanpy - INFO - Chain [1] start processing\n",
      "02:02:22 - cmdstanpy - INFO - Chain [1] start processing\n",
      "02:02:22 - cmdstanpy - INFO - Chain [1] start processing\n",
      "02:02:22 - cmdstanpy - INFO - Chain [1] start processing\n",
      "02:02:22 - cmdstanpy - INFO - Chain [1] start processing\n",
      "02:02:23 - cmdstanpy - INFO - Chain [1] done processing\n",
      "02:02:23 - cmdstanpy - INFO - Chain [1] done processing\n",
      "02:02:23 - cmdstanpy - INFO - Chain [1] done processing\n",
      "02:02:23 - cmdstanpy - INFO - Chain [1] done processing\n",
      "02:02:23 - cmdstanpy - INFO - Chain [1] done processing\n",
      "02:02:23 - cmdstanpy - INFO - Chain [1] done processing\n",
      "02:02:23 - cmdstanpy - INFO - Chain [1] done processing\n",
      "02:02:23 - cmdstanpy - INFO - Chain [1] done processing\n"
     ]
    },
    {
     "name": "stdout",
     "output_type": "stream",
     "text": [
      "[I 2025-08-23 02:02:23,961] Trial 68 finished with value: 802.6062510783476 and parameters: {'changepoint_prior_scale': 0.004316391909329379, 'seasonality_prior_scale': 0.05978694035673915, 'holidays_prior_scale': 24.296933747809444}. Best is trial 21 with value: 766.2238916265989.\n"
     ]
    },
    {
     "name": "stderr",
     "output_type": "stream",
     "text": [
      "02:02:24 - cmdstanpy - INFO - Chain [1] start processing\n",
      "02:02:24 - cmdstanpy - INFO - Chain [1] done processing\n",
      "02:02:25 - cmdstanpy - INFO - Chain [1] start processing\n",
      "02:02:25 - cmdstanpy - INFO - Chain [1] done processing\n",
      "02:02:26 - cmdstanpy - INFO - Chain [1] start processing\n",
      "02:02:26 - cmdstanpy - INFO - Chain [1] start processing\n",
      "02:02:26 - cmdstanpy - INFO - Chain [1] start processing\n",
      "02:02:26 - cmdstanpy - INFO - Chain [1] start processing\n",
      "02:02:26 - cmdstanpy - INFO - Chain [1] start processing\n",
      "02:02:26 - cmdstanpy - INFO - Chain [1] start processing\n",
      "02:02:26 - cmdstanpy - INFO - Chain [1] start processing\n",
      "02:02:26 - cmdstanpy - INFO - Chain [1] done processing\n",
      "02:02:26 - cmdstanpy - INFO - Chain [1] start processing\n",
      "02:02:26 - cmdstanpy - INFO - Chain [1] start processing\n",
      "02:02:26 - cmdstanpy - INFO - Chain [1] done processing\n",
      "02:02:26 - cmdstanpy - INFO - Chain [1] done processing\n",
      "02:02:26 - cmdstanpy - INFO - Chain [1] done processing\n",
      "02:02:26 - cmdstanpy - INFO - Chain [1] done processing\n",
      "02:02:26 - cmdstanpy - INFO - Chain [1] done processing\n",
      "02:02:26 - cmdstanpy - INFO - Chain [1] done processing\n",
      "02:02:26 - cmdstanpy - INFO - Chain [1] done processing\n",
      "02:02:26 - cmdstanpy - INFO - Chain [1] done processing\n"
     ]
    },
    {
     "name": "stdout",
     "output_type": "stream",
     "text": [
      "[I 2025-08-23 02:02:27,134] Trial 69 finished with value: 782.6840773734261 and parameters: {'changepoint_prior_scale': 0.006993062233759197, 'seasonality_prior_scale': 0.026752376951381027, 'holidays_prior_scale': 36.448988343965624}. Best is trial 21 with value: 766.2238916265989.\n",
      "SEC-005 best params: {'changepoint_prior_scale': 0.0010808898080572873, 'seasonality_prior_scale': 0.011811848760823154, 'holidays_prior_scale': 3.579698283189452}\n"
     ]
    },
    {
     "name": "stderr",
     "output_type": "stream",
     "text": [
      "02:02:27 - cmdstanpy - INFO - Chain [1] start processing\n",
      "02:02:27 - cmdstanpy - INFO - Chain [1] done processing\n",
      "[I 2025-08-23 02:02:27,564] A new study created in memory with name: no-name-c5af7aa5-a5c4-4cf1-aa78-e208ca6bfb8e\n"
     ]
    },
    {
     "name": "stdout",
     "output_type": "stream",
     "text": [
      "\n",
      "[Main Loop] Processing section: SEC-006\n",
      "[Optuna] Tuning section: SEC-006\n"
     ]
    },
    {
     "data": {
      "application/vnd.jupyter.widget-view+json": {
       "model_id": "6f1d2287e09c402690a040ead2893401",
       "version_major": 2,
       "version_minor": 0
      },
      "text/plain": [
       "  0%|          | 0/70 [00:00<?, ?it/s]"
      ]
     },
     "metadata": {},
     "output_type": "display_data"
    },
    {
     "name": "stderr",
     "output_type": "stream",
     "text": [
      "02:02:27 - cmdstanpy - INFO - Chain [1] start processing\n",
      "02:02:27 - cmdstanpy - INFO - Chain [1] done processing\n",
      "02:02:27 - cmdstanpy - ERROR - Chain [1] error: error during processing Operation not permitted\n",
      "Optimization terminated abnormally. Falling back to Newton.\n",
      "02:02:28 - cmdstanpy - INFO - Chain [1] start processing\n",
      "02:03:13 - cmdstanpy - INFO - Chain [1] done processing\n",
      "02:03:14 - cmdstanpy - INFO - Chain [1] start processing\n",
      "02:03:14 - cmdstanpy - INFO - Chain [1] done processing\n",
      "02:03:15 - cmdstanpy - ERROR - Chain [1] error: error during processing Operation not permitted\n",
      "02:03:15 - cmdstanpy - INFO - Chain [1] start processing\n",
      "Optimization terminated abnormally. Falling back to Newton.\n",
      "02:03:15 - cmdstanpy - INFO - Chain [1] start processing\n",
      "02:03:15 - cmdstanpy - INFO - Chain [1] start processing\n",
      "02:03:15 - cmdstanpy - INFO - Chain [1] start processing\n",
      "02:03:15 - cmdstanpy - INFO - Chain [1] start processing\n",
      "02:03:15 - cmdstanpy - INFO - Chain [1] done processing\n",
      "02:03:15 - cmdstanpy - INFO - Chain [1] start processing\n",
      "02:03:15 - cmdstanpy - INFO - Chain [1] start processing\n",
      "02:03:15 - cmdstanpy - INFO - Chain [1] done processing\n",
      "02:03:15 - cmdstanpy - INFO - Chain [1] start processing\n",
      "02:03:15 - cmdstanpy - ERROR - Chain [1] error: error during processing Operation not permitted\n",
      "02:03:15 - cmdstanpy - INFO - Chain [1] done processing\n",
      "02:03:15 - cmdstanpy - INFO - Chain [1] start processing\n",
      "02:03:15 - cmdstanpy - ERROR - Chain [1] error: error during processing Operation not permitted\n",
      "Optimization terminated abnormally. Falling back to Newton.\n",
      "02:03:15 - cmdstanpy - INFO - Chain [1] done processing\n",
      "02:03:15 - cmdstanpy - ERROR - Chain [1] error: error during processing Operation not permitted\n",
      "02:03:15 - cmdstanpy - INFO - Chain [1] done processing\n",
      "Optimization terminated abnormally. Falling back to Newton.\n",
      "02:03:15 - cmdstanpy - ERROR - Chain [1] error: error during processing Operation not permitted\n",
      "02:03:15 - cmdstanpy - INFO - Chain [1] start processing\n",
      "Optimization terminated abnormally. Falling back to Newton.\n",
      "02:03:15 - cmdstanpy - INFO - Chain [1] done processing\n",
      "02:03:15 - cmdstanpy - ERROR - Chain [1] error: error during processing Operation not permitted\n",
      "Optimization terminated abnormally. Falling back to Newton.\n",
      "02:03:15 - cmdstanpy - INFO - Chain [1] done processing\n",
      "02:03:15 - cmdstanpy - INFO - Chain [1] done processing\n",
      "02:03:15 - cmdstanpy - ERROR - Chain [1] error: error during processing Operation not permitted\n",
      "Optimization terminated abnormally. Falling back to Newton.\n",
      "02:03:15 - cmdstanpy - INFO - Chain [1] done processing\n",
      "02:03:15 - cmdstanpy - ERROR - Chain [1] error: error during processing Operation not permitted\n",
      "Optimization terminated abnormally. Falling back to Newton.\n",
      "02:03:15 - cmdstanpy - ERROR - Chain [1] error: error during processing Operation not permitted\n",
      "Optimization terminated abnormally. Falling back to Newton.\n",
      "02:03:15 - cmdstanpy - INFO - Chain [1] start processing\n",
      "02:03:16 - cmdstanpy - ERROR - Chain [1] error: error during processing Operation not permitted\n",
      "Optimization terminated abnormally. Falling back to Newton.\n",
      "02:03:16 - cmdstanpy - INFO - Chain [1] start processing\n",
      "Optimization terminated abnormally. Falling back to Newton.\n",
      "02:03:16 - cmdstanpy - INFO - Chain [1] start processing\n",
      "02:03:16 - cmdstanpy - INFO - Chain [1] start processing\n",
      "02:03:16 - cmdstanpy - INFO - Chain [1] start processing\n",
      "02:03:16 - cmdstanpy - INFO - Chain [1] start processing\n",
      "02:03:16 - cmdstanpy - INFO - Chain [1] start processing\n",
      "02:03:17 - cmdstanpy - INFO - Chain [1] start processing\n",
      "02:03:17 - cmdstanpy - INFO - Chain [1] start processing\n",
      "02:03:23 - cmdstanpy - INFO - Chain [1] done processing\n",
      "02:03:25 - cmdstanpy - INFO - Chain [1] done processing\n",
      "02:03:25 - cmdstanpy - INFO - Chain [1] done processing\n",
      "02:03:26 - cmdstanpy - INFO - Chain [1] done processing\n",
      "02:03:28 - cmdstanpy - INFO - Chain [1] done processing\n",
      "02:03:31 - cmdstanpy - INFO - Chain [1] done processing\n",
      "02:03:33 - cmdstanpy - INFO - Chain [1] done processing\n",
      "02:03:51 - cmdstanpy - INFO - Chain [1] done processing\n",
      "02:03:52 - cmdstanpy - INFO - Chain [1] done processing\n",
      "02:05:18 - cmdstanpy - INFO - Chain [1] done processing\n"
     ]
    },
    {
     "name": "stdout",
     "output_type": "stream",
     "text": [
      "[I 2025-08-23 02:05:18,432] Trial 0 finished with value: 567.4363691076557 and parameters: {'changepoint_prior_scale': 0.00010909830040775118, 'seasonality_prior_scale': 1.108194010342842, 'holidays_prior_scale': 0.8088943286703055}. Best is trial 0 with value: 567.4363691076557.\n"
     ]
    },
    {
     "name": "stderr",
     "output_type": "stream",
     "text": [
      "02:05:20 - cmdstanpy - INFO - Chain [1] start processing\n",
      "02:05:20 - cmdstanpy - INFO - Chain [1] done processing\n",
      "02:05:22 - cmdstanpy - INFO - Chain [1] start processing\n",
      "02:05:22 - cmdstanpy - INFO - Chain [1] start processing\n",
      "02:05:22 - cmdstanpy - INFO - Chain [1] start processing\n",
      "02:05:22 - cmdstanpy - INFO - Chain [1] start processing\n",
      "02:05:22 - cmdstanpy - INFO - Chain [1] done processing\n",
      "02:05:22 - cmdstanpy - INFO - Chain [1] done processing\n",
      "02:05:22 - cmdstanpy - INFO - Chain [1] start processing\n",
      "02:05:22 - cmdstanpy - INFO - Chain [1] start processing\n",
      "02:05:22 - cmdstanpy - INFO - Chain [1] start processing\n",
      "02:05:22 - cmdstanpy - INFO - Chain [1] start processing\n",
      "02:05:22 - cmdstanpy - INFO - Chain [1] start processing\n",
      "02:05:22 - cmdstanpy - INFO - Chain [1] start processing\n",
      "02:05:22 - cmdstanpy - INFO - Chain [1] done processing\n",
      "02:05:22 - cmdstanpy - INFO - Chain [1] done processing\n",
      "02:05:22 - cmdstanpy - INFO - Chain [1] done processing\n",
      "02:05:22 - cmdstanpy - ERROR - Chain [1] error: error during processing Operation not permitted\n",
      "Optimization terminated abnormally. Falling back to Newton.\n",
      "02:05:22 - cmdstanpy - INFO - Chain [1] done processing\n",
      "02:05:22 - cmdstanpy - INFO - Chain [1] done processing\n",
      "02:05:22 - cmdstanpy - INFO - Chain [1] done processing\n",
      "02:05:22 - cmdstanpy - INFO - Chain [1] done processing\n",
      "02:05:22 - cmdstanpy - INFO - Chain [1] done processing\n",
      "02:05:23 - cmdstanpy - INFO - Chain [1] start processing\n",
      "02:05:24 - cmdstanpy - INFO - Chain [1] done processing\n"
     ]
    },
    {
     "name": "stdout",
     "output_type": "stream",
     "text": [
      "[I 2025-08-23 02:05:24,825] Trial 1 finished with value: 564.3105443935922 and parameters: {'changepoint_prior_scale': 0.0014468229364948406, 'seasonality_prior_scale': 1.8229204450510001, 'holidays_prior_scale': 4.810694477794978}. Best is trial 1 with value: 564.3105443935922.\n"
     ]
    },
    {
     "name": "stderr",
     "output_type": "stream",
     "text": [
      "02:05:25 - cmdstanpy - INFO - Chain [1] start processing\n",
      "02:05:25 - cmdstanpy - INFO - Chain [1] done processing\n",
      "02:05:25 - cmdstanpy - ERROR - Chain [1] error: error during processing Operation not permitted\n",
      "Optimization terminated abnormally. Falling back to Newton.\n",
      "02:05:25 - cmdstanpy - INFO - Chain [1] start processing\n",
      "02:05:28 - cmdstanpy - INFO - Chain [1] done processing\n",
      "02:05:28 - cmdstanpy - INFO - Chain [1] start processing\n",
      "02:05:29 - cmdstanpy - INFO - Chain [1] done processing\n",
      "02:05:29 - cmdstanpy - ERROR - Chain [1] error: error during processing Operation not permitted\n",
      "Optimization terminated abnormally. Falling back to Newton.\n",
      "02:05:29 - cmdstanpy - INFO - Chain [1] start processing\n",
      "02:05:29 - cmdstanpy - INFO - Chain [1] done processing\n",
      "02:05:29 - cmdstanpy - INFO - Chain [1] start processing\n",
      "02:05:29 - cmdstanpy - ERROR - Chain [1] error: error during processing Operation not permitted\n",
      "02:05:30 - cmdstanpy - INFO - Chain [1] start processing\n",
      "02:05:30 - cmdstanpy - INFO - Chain [1] start processing\n",
      "02:05:30 - cmdstanpy - INFO - Chain [1] start processing\n",
      "Optimization terminated abnormally. Falling back to Newton.\n",
      "02:05:30 - cmdstanpy - INFO - Chain [1] start processing\n",
      "02:05:30 - cmdstanpy - INFO - Chain [1] start processing\n",
      "02:05:30 - cmdstanpy - INFO - Chain [1] start processing\n",
      "02:05:30 - cmdstanpy - INFO - Chain [1] start processing\n",
      "02:05:30 - cmdstanpy - INFO - Chain [1] start processing\n",
      "02:05:30 - cmdstanpy - INFO - Chain [1] done processing\n",
      "02:05:30 - cmdstanpy - INFO - Chain [1] done processing\n",
      "02:05:30 - cmdstanpy - INFO - Chain [1] done processing\n",
      "02:05:30 - cmdstanpy - INFO - Chain [1] done processing\n",
      "02:05:30 - cmdstanpy - INFO - Chain [1] done processing\n",
      "02:05:30 - cmdstanpy - ERROR - Chain [1] error: error during processing Operation not permitted\n",
      "02:05:30 - cmdstanpy - INFO - Chain [1] done processing\n",
      "02:05:30 - cmdstanpy - ERROR - Chain [1] error: error during processing Operation not permitted\n",
      "02:05:30 - cmdstanpy - ERROR - Chain [1] error: error during processing Operation not permitted\n",
      "02:05:30 - cmdstanpy - ERROR - Chain [1] error: error during processing Operation not permitted\n",
      "02:05:30 - cmdstanpy - INFO - Chain [1] done processing\n",
      "02:05:30 - cmdstanpy - ERROR - Chain [1] error: error during processing Operation not permitted\n",
      "02:05:30 - cmdstanpy - INFO - Chain [1] start processing\n",
      "02:05:30 - cmdstanpy - ERROR - Chain [1] error: error during processing Operation not permitted\n",
      "02:05:30 - cmdstanpy - ERROR - Chain [1] error: error during processing Operation not permitted\n",
      "Optimization terminated abnormally. Falling back to Newton.\n",
      "02:05:30 - cmdstanpy - INFO - Chain [1] done processing\n",
      "02:05:30 - cmdstanpy - ERROR - Chain [1] error: error during processing Operation not permitted\n",
      "Optimization terminated abnormally. Falling back to Newton.\n",
      "Optimization terminated abnormally. Falling back to Newton.\n",
      "Optimization terminated abnormally. Falling back to Newton.\n",
      "Optimization terminated abnormally. Falling back to Newton.\n",
      "Optimization terminated abnormally. Falling back to Newton.\n",
      "Optimization terminated abnormally. Falling back to Newton.\n",
      "Optimization terminated abnormally. Falling back to Newton.\n",
      "02:05:31 - cmdstanpy - INFO - Chain [1] start processing\n",
      "02:05:31 - cmdstanpy - INFO - Chain [1] start processing\n",
      "02:05:31 - cmdstanpy - INFO - Chain [1] start processing\n",
      "02:05:31 - cmdstanpy - INFO - Chain [1] start processing\n",
      "02:05:31 - cmdstanpy - INFO - Chain [1] start processing\n",
      "02:05:31 - cmdstanpy - INFO - Chain [1] start processing\n",
      "02:05:31 - cmdstanpy - INFO - Chain [1] start processing\n",
      "02:05:31 - cmdstanpy - INFO - Chain [1] start processing\n",
      "02:05:33 - cmdstanpy - INFO - Chain [1] done processing\n",
      "02:05:36 - cmdstanpy - INFO - Chain [1] done processing\n",
      "02:05:36 - cmdstanpy - INFO - Chain [1] done processing\n",
      "02:05:37 - cmdstanpy - INFO - Chain [1] done processing\n",
      "02:05:38 - cmdstanpy - INFO - Chain [1] done processing\n",
      "02:05:38 - cmdstanpy - INFO - Chain [1] done processing\n",
      "02:05:39 - cmdstanpy - INFO - Chain [1] done processing\n",
      "02:05:40 - cmdstanpy - INFO - Chain [1] done processing\n",
      "02:06:41 - cmdstanpy - INFO - Chain [1] done processing\n",
      "02:07:06 - cmdstanpy - INFO - Chain [1] done processing\n"
     ]
    },
    {
     "name": "stdout",
     "output_type": "stream",
     "text": [
      "[I 2025-08-23 02:07:06,966] Trial 2 finished with value: 573.1156112974681 and parameters: {'changepoint_prior_scale': 0.00011562293786024739, 'seasonality_prior_scale': 0.18545690233749662, 'holidays_prior_scale': 19.78309360795948}. Best is trial 1 with value: 564.3105443935922.\n"
     ]
    },
    {
     "name": "stderr",
     "output_type": "stream",
     "text": [
      "02:07:07 - cmdstanpy - INFO - Chain [1] start processing\n",
      "02:07:07 - cmdstanpy - INFO - Chain [1] done processing\n",
      "02:07:08 - cmdstanpy - INFO - Chain [1] start processing\n",
      "02:07:08 - cmdstanpy - INFO - Chain [1] start processing\n",
      "02:07:08 - cmdstanpy - INFO - Chain [1] start processing\n",
      "02:07:08 - cmdstanpy - INFO - Chain [1] done processing\n",
      "02:07:08 - cmdstanpy - INFO - Chain [1] done processing\n",
      "02:07:08 - cmdstanpy - ERROR - Chain [1] error: error during processing Operation not permitted\n",
      "02:07:08 - cmdstanpy - INFO - Chain [1] start processing\n",
      "02:07:08 - cmdstanpy - INFO - Chain [1] start processing\n",
      "02:07:08 - cmdstanpy - ERROR - Chain [1] error: error during processing Operation not permitted\n",
      "02:07:08 - cmdstanpy - INFO - Chain [1] start processing\n",
      "Optimization terminated abnormally. Falling back to Newton.\n",
      "02:07:09 - cmdstanpy - INFO - Chain [1] done processing\n",
      "02:07:09 - cmdstanpy - INFO - Chain [1] start processing\n",
      "02:07:09 - cmdstanpy - INFO - Chain [1] start processing\n",
      "Optimization terminated abnormally. Falling back to Newton.\n",
      "02:07:09 - cmdstanpy - INFO - Chain [1] start processing\n",
      "02:07:09 - cmdstanpy - ERROR - Chain [1] error: error during processing Operation not permitted\n",
      "02:07:09 - cmdstanpy - INFO - Chain [1] done processing\n",
      "02:07:09 - cmdstanpy - INFO - Chain [1] start processing\n",
      "02:07:09 - cmdstanpy - INFO - Chain [1] done processing\n",
      "Optimization terminated abnormally. Falling back to Newton.\n",
      "02:07:09 - cmdstanpy - INFO - Chain [1] done processing\n",
      "02:07:09 - cmdstanpy - INFO - Chain [1] done processing\n",
      "02:07:09 - cmdstanpy - INFO - Chain [1] done processing\n",
      "02:07:09 - cmdstanpy - ERROR - Chain [1] error: error during processing Operation not permitted\n",
      "02:07:09 - cmdstanpy - ERROR - Chain [1] error: error during processing Operation not permitted\n",
      "02:07:09 - cmdstanpy - INFO - Chain [1] done processing\n",
      "02:07:09 - cmdstanpy - ERROR - Chain [1] error: error during processing Operation not permitted\n",
      "Optimization terminated abnormally. Falling back to Newton.\n",
      "02:07:09 - cmdstanpy - INFO - Chain [1] done processing\n",
      "Optimization terminated abnormally. Falling back to Newton.\n",
      "02:07:09 - cmdstanpy - ERROR - Chain [1] error: error during processing Operation not permitted\n",
      "Optimization terminated abnormally. Falling back to Newton.\n",
      "02:07:09 - cmdstanpy - ERROR - Chain [1] error: error during processing Operation not permitted\n",
      "02:07:09 - cmdstanpy - INFO - Chain [1] start processing\n",
      "02:07:09 - cmdstanpy - INFO - Chain [1] start processing\n",
      "Optimization terminated abnormally. Falling back to Newton.\n",
      "02:07:09 - cmdstanpy - ERROR - Chain [1] error: error during processing Operation not permitted\n",
      "Optimization terminated abnormally. Falling back to Newton.\n",
      "02:07:09 - cmdstanpy - ERROR - Chain [1] error: error during processing Operation not permitted\n",
      "02:07:09 - cmdstanpy - INFO - Chain [1] start processing\n",
      "Optimization terminated abnormally. Falling back to Newton.\n",
      "Optimization terminated abnormally. Falling back to Newton.\n",
      "02:07:10 - cmdstanpy - INFO - Chain [1] start processing\n",
      "02:07:10 - cmdstanpy - INFO - Chain [1] start processing\n",
      "02:07:10 - cmdstanpy - INFO - Chain [1] start processing\n",
      "02:07:10 - cmdstanpy - INFO - Chain [1] start processing\n",
      "02:07:10 - cmdstanpy - INFO - Chain [1] start processing\n",
      "02:07:10 - cmdstanpy - INFO - Chain [1] start processing\n",
      "02:07:10 - cmdstanpy - INFO - Chain [1] start processing\n",
      "02:07:14 - cmdstanpy - INFO - Chain [1] done processing\n",
      "02:07:15 - cmdstanpy - INFO - Chain [1] done processing\n",
      "02:07:15 - cmdstanpy - INFO - Chain [1] done processing\n",
      "02:07:15 - cmdstanpy - INFO - Chain [1] done processing\n",
      "02:07:16 - cmdstanpy - INFO - Chain [1] done processing\n",
      "02:07:16 - cmdstanpy - INFO - Chain [1] done processing\n",
      "02:07:17 - cmdstanpy - INFO - Chain [1] done processing\n",
      "02:07:18 - cmdstanpy - INFO - Chain [1] done processing\n",
      "02:07:25 - cmdstanpy - INFO - Chain [1] done processing\n",
      "02:07:33 - cmdstanpy - INFO - Chain [1] done processing\n",
      "02:07:33 - cmdstanpy - INFO - Chain [1] start processing\n"
     ]
    },
    {
     "name": "stdout",
     "output_type": "stream",
     "text": [
      "[I 2025-08-23 02:07:33,681] Trial 3 finished with value: 568.8589791999246 and parameters: {'changepoint_prior_scale': 0.0004182454328487015, 'seasonality_prior_scale': 0.04245843051159062, 'holidays_prior_scale': 0.10602703758721338}. Best is trial 1 with value: 564.3105443935922.\n"
     ]
    },
    {
     "name": "stderr",
     "output_type": "stream",
     "text": [
      "02:07:34 - cmdstanpy - INFO - Chain [1] done processing\n",
      "02:07:35 - cmdstanpy - INFO - Chain [1] start processing\n",
      "02:07:35 - cmdstanpy - INFO - Chain [1] start processing\n",
      "02:07:35 - cmdstanpy - INFO - Chain [1] start processing\n",
      "02:07:35 - cmdstanpy - INFO - Chain [1] done processing\n",
      "02:07:35 - cmdstanpy - INFO - Chain [1] start processing\n",
      "02:07:35 - cmdstanpy - INFO - Chain [1] done processing\n",
      "02:07:35 - cmdstanpy - INFO - Chain [1] start processing\n",
      "02:07:35 - cmdstanpy - INFO - Chain [1] done processing\n",
      "02:07:35 - cmdstanpy - INFO - Chain [1] start processing\n",
      "02:07:35 - cmdstanpy - INFO - Chain [1] start processing\n",
      "02:07:35 - cmdstanpy - INFO - Chain [1] done processing\n",
      "02:07:35 - cmdstanpy - INFO - Chain [1] done processing\n",
      "02:07:35 - cmdstanpy - INFO - Chain [1] start processing\n",
      "02:07:35 - cmdstanpy - INFO - Chain [1] start processing\n",
      "02:07:36 - cmdstanpy - INFO - Chain [1] start processing\n",
      "02:07:36 - cmdstanpy - INFO - Chain [1] done processing\n",
      "02:07:36 - cmdstanpy - INFO - Chain [1] done processing\n",
      "02:07:36 - cmdstanpy - INFO - Chain [1] done processing\n",
      "02:07:36 - cmdstanpy - INFO - Chain [1] done processing\n",
      "02:07:36 - cmdstanpy - INFO - Chain [1] done processing\n",
      "02:07:37 - cmdstanpy - INFO - Chain [1] start processing\n"
     ]
    },
    {
     "name": "stdout",
     "output_type": "stream",
     "text": [
      "[I 2025-08-23 02:07:36,836] Trial 4 finished with value: 568.4301773559282 and parameters: {'changepoint_prior_scale': 0.01470952500348035, 'seasonality_prior_scale': 0.08898735607787213, 'holidays_prior_scale': 3.3146752667323285}. Best is trial 1 with value: 564.3105443935922.\n"
     ]
    },
    {
     "name": "stderr",
     "output_type": "stream",
     "text": [
      "02:07:37 - cmdstanpy - INFO - Chain [1] done processing\n",
      "02:07:37 - cmdstanpy - INFO - Chain [1] start processing\n",
      "02:07:38 - cmdstanpy - INFO - Chain [1] done processing\n",
      "02:07:38 - cmdstanpy - INFO - Chain [1] start processing\n",
      "02:07:38 - cmdstanpy - INFO - Chain [1] start processing\n",
      "02:07:38 - cmdstanpy - INFO - Chain [1] start processing\n",
      "02:07:38 - cmdstanpy - INFO - Chain [1] done processing\n",
      "02:07:38 - cmdstanpy - INFO - Chain [1] start processing\n",
      "02:07:38 - cmdstanpy - INFO - Chain [1] done processing\n",
      "02:07:38 - cmdstanpy - INFO - Chain [1] start processing\n",
      "02:07:38 - cmdstanpy - INFO - Chain [1] start processing\n",
      "02:07:38 - cmdstanpy - INFO - Chain [1] start processing\n",
      "02:07:38 - cmdstanpy - INFO - Chain [1] start processing\n",
      "02:07:38 - cmdstanpy - INFO - Chain [1] start processing\n",
      "02:07:39 - cmdstanpy - INFO - Chain [1] done processing\n",
      "02:07:39 - cmdstanpy - INFO - Chain [1] done processing\n",
      "02:07:39 - cmdstanpy - INFO - Chain [1] done processing\n",
      "02:07:39 - cmdstanpy - INFO - Chain [1] done processing\n",
      "02:07:39 - cmdstanpy - INFO - Chain [1] done processing\n",
      "02:07:39 - cmdstanpy - INFO - Chain [1] done processing\n",
      "02:07:39 - cmdstanpy - INFO - Chain [1] done processing\n"
     ]
    },
    {
     "name": "stdout",
     "output_type": "stream",
     "text": [
      "[I 2025-08-23 02:07:39,817] Trial 5 finished with value: 601.8902164968424 and parameters: {'changepoint_prior_scale': 0.36416255626457095, 'seasonality_prior_scale': 0.41010134256639763, 'holidays_prior_scale': 0.010922499847939502}. Best is trial 1 with value: 564.3105443935922.\n"
     ]
    },
    {
     "name": "stderr",
     "output_type": "stream",
     "text": [
      "02:07:40 - cmdstanpy - INFO - Chain [1] start processing\n",
      "02:07:40 - cmdstanpy - INFO - Chain [1] done processing\n",
      "02:07:41 - cmdstanpy - INFO - Chain [1] start processing\n",
      "02:07:41 - cmdstanpy - INFO - Chain [1] done processing\n",
      "02:07:41 - cmdstanpy - INFO - Chain [1] start processing\n",
      "02:07:41 - cmdstanpy - INFO - Chain [1] start processing\n",
      "02:07:41 - cmdstanpy - INFO - Chain [1] start processing\n",
      "02:07:41 - cmdstanpy - INFO - Chain [1] start processing\n",
      "02:07:41 - cmdstanpy - INFO - Chain [1] start processing\n",
      "02:07:41 - cmdstanpy - INFO - Chain [1] start processing\n",
      "02:07:41 - cmdstanpy - INFO - Chain [1] start processing\n",
      "02:07:41 - cmdstanpy - INFO - Chain [1] done processing\n",
      "02:07:41 - cmdstanpy - INFO - Chain [1] start processing\n",
      "02:07:41 - cmdstanpy - INFO - Chain [1] start processing\n",
      "02:07:42 - cmdstanpy - INFO - Chain [1] done processing\n",
      "02:07:42 - cmdstanpy - INFO - Chain [1] done processing\n",
      "02:07:42 - cmdstanpy - INFO - Chain [1] done processing\n",
      "02:07:42 - cmdstanpy - ERROR - Chain [1] error: error during processing Operation not permitted\n",
      "02:07:42 - cmdstanpy - INFO - Chain [1] done processing\n",
      "02:07:42 - cmdstanpy - INFO - Chain [1] done processing\n",
      "02:07:42 - cmdstanpy - INFO - Chain [1] done processing\n",
      "02:07:42 - cmdstanpy - INFO - Chain [1] done processing\n",
      "Optimization terminated abnormally. Falling back to Newton.\n",
      "02:07:42 - cmdstanpy - ERROR - Chain [1] error: error during processing Operation not permitted\n",
      "02:07:42 - cmdstanpy - INFO - Chain [1] done processing\n",
      "Optimization terminated abnormally. Falling back to Newton.\n",
      "02:07:42 - cmdstanpy - INFO - Chain [1] start processing\n",
      "02:07:42 - cmdstanpy - INFO - Chain [1] start processing\n",
      "02:07:44 - cmdstanpy - INFO - Chain [1] done processing\n",
      "02:07:45 - cmdstanpy - INFO - Chain [1] done processing\n"
     ]
    },
    {
     "name": "stdout",
     "output_type": "stream",
     "text": [
      "[I 2025-08-23 02:07:45,223] Trial 6 finished with value: 584.2316845499896 and parameters: {'changepoint_prior_scale': 0.0012843893623632513, 'seasonality_prior_scale': 3.154175994435118, 'holidays_prior_scale': 21.764784771049687}. Best is trial 1 with value: 564.3105443935922.\n"
     ]
    },
    {
     "name": "stderr",
     "output_type": "stream",
     "text": [
      "02:07:45 - cmdstanpy - INFO - Chain [1] start processing\n",
      "02:07:45 - cmdstanpy - INFO - Chain [1] done processing\n",
      "02:07:46 - cmdstanpy - INFO - Chain [1] start processing\n",
      "02:07:46 - cmdstanpy - INFO - Chain [1] done processing\n",
      "02:07:47 - cmdstanpy - INFO - Chain [1] start processing\n",
      "02:07:47 - cmdstanpy - INFO - Chain [1] start processing\n",
      "02:07:47 - cmdstanpy - INFO - Chain [1] start processing\n",
      "02:07:47 - cmdstanpy - INFO - Chain [1] done processing\n",
      "02:07:47 - cmdstanpy - INFO - Chain [1] start processing\n",
      "02:07:47 - cmdstanpy - INFO - Chain [1] start processing\n",
      "02:07:47 - cmdstanpy - INFO - Chain [1] start processing\n",
      "02:07:47 - cmdstanpy - INFO - Chain [1] start processing\n",
      "02:07:47 - cmdstanpy - INFO - Chain [1] start processing\n",
      "02:07:47 - cmdstanpy - INFO - Chain [1] start processing\n",
      "02:07:47 - cmdstanpy - INFO - Chain [1] done processing\n",
      "02:07:47 - cmdstanpy - INFO - Chain [1] done processing\n",
      "02:07:47 - cmdstanpy - INFO - Chain [1] done processing\n",
      "02:07:47 - cmdstanpy - INFO - Chain [1] done processing\n",
      "02:07:47 - cmdstanpy - INFO - Chain [1] done processing\n",
      "02:07:47 - cmdstanpy - INFO - Chain [1] done processing\n",
      "02:07:47 - cmdstanpy - INFO - Chain [1] done processing\n",
      "02:07:47 - cmdstanpy - INFO - Chain [1] done processing\n"
     ]
    },
    {
     "name": "stdout",
     "output_type": "stream",
     "text": [
      "[I 2025-08-23 02:07:48,241] Trial 7 finished with value: 574.8208823042361 and parameters: {'changepoint_prior_scale': 0.035222861039301785, 'seasonality_prior_scale': 4.524853415915016, 'holidays_prior_scale': 0.04253158423765132}. Best is trial 1 with value: 564.3105443935922.\n"
     ]
    },
    {
     "name": "stderr",
     "output_type": "stream",
     "text": [
      "02:07:48 - cmdstanpy - INFO - Chain [1] start processing\n",
      "02:07:48 - cmdstanpy - INFO - Chain [1] done processing\n",
      "02:07:49 - cmdstanpy - INFO - Chain [1] start processing\n",
      "02:07:49 - cmdstanpy - INFO - Chain [1] start processing\n",
      "02:07:49 - cmdstanpy - INFO - Chain [1] done processing\n",
      "02:07:49 - cmdstanpy - INFO - Chain [1] done processing\n",
      "02:07:50 - cmdstanpy - INFO - Chain [1] start processing\n",
      "02:07:50 - cmdstanpy - INFO - Chain [1] start processing\n",
      "02:07:50 - cmdstanpy - INFO - Chain [1] start processing\n",
      "02:07:50 - cmdstanpy - INFO - Chain [1] start processing\n",
      "02:07:50 - cmdstanpy - INFO - Chain [1] start processing\n",
      "02:07:50 - cmdstanpy - INFO - Chain [1] start processing\n",
      "02:07:50 - cmdstanpy - INFO - Chain [1] start processing\n",
      "02:07:50 - cmdstanpy - INFO - Chain [1] start processing\n",
      "02:07:50 - cmdstanpy - INFO - Chain [1] done processing\n",
      "02:07:50 - cmdstanpy - INFO - Chain [1] done processing\n",
      "02:07:50 - cmdstanpy - INFO - Chain [1] done processing\n",
      "02:07:50 - cmdstanpy - INFO - Chain [1] done processing\n",
      "02:07:50 - cmdstanpy - INFO - Chain [1] done processing\n",
      "02:07:50 - cmdstanpy - INFO - Chain [1] done processing\n",
      "02:07:50 - cmdstanpy - INFO - Chain [1] done processing\n",
      "02:07:51 - cmdstanpy - INFO - Chain [1] done processing\n"
     ]
    },
    {
     "name": "stdout",
     "output_type": "stream",
     "text": [
      "[I 2025-08-23 02:07:51,594] Trial 8 finished with value: 580.1582652861106 and parameters: {'changepoint_prior_scale': 0.17830703203859855, 'seasonality_prior_scale': 4.7712728804128, 'holidays_prior_scale': 3.3912988678271243}. Best is trial 1 with value: 564.3105443935922.\n"
     ]
    },
    {
     "name": "stderr",
     "output_type": "stream",
     "text": [
      "02:07:51 - cmdstanpy - INFO - Chain [1] start processing\n",
      "02:07:51 - cmdstanpy - INFO - Chain [1] done processing\n",
      "02:07:52 - cmdstanpy - INFO - Chain [1] start processing\n",
      "02:07:52 - cmdstanpy - INFO - Chain [1] start processing\n",
      "02:07:53 - cmdstanpy - INFO - Chain [1] done processing\n",
      "02:07:53 - cmdstanpy - INFO - Chain [1] start processing\n",
      "02:07:53 - cmdstanpy - INFO - Chain [1] done processing\n",
      "02:07:53 - cmdstanpy - INFO - Chain [1] start processing\n",
      "02:07:53 - cmdstanpy - INFO - Chain [1] start processing\n",
      "02:07:53 - cmdstanpy - INFO - Chain [1] done processing\n",
      "02:07:53 - cmdstanpy - INFO - Chain [1] start processing\n",
      "02:07:53 - cmdstanpy - INFO - Chain [1] start processing\n",
      "02:07:53 - cmdstanpy - INFO - Chain [1] start processing\n",
      "02:07:53 - cmdstanpy - INFO - Chain [1] done processing\n",
      "02:07:54 - cmdstanpy - INFO - Chain [1] done processing\n",
      "02:07:54 - cmdstanpy - INFO - Chain [1] start processing\n",
      "02:07:54 - cmdstanpy - INFO - Chain [1] start processing\n",
      "02:07:54 - cmdstanpy - INFO - Chain [1] done processing\n",
      "02:07:54 - cmdstanpy - INFO - Chain [1] done processing\n",
      "02:07:54 - cmdstanpy - INFO - Chain [1] done processing\n",
      "02:07:54 - cmdstanpy - INFO - Chain [1] done processing\n",
      "02:07:54 - cmdstanpy - INFO - Chain [1] done processing\n"
     ]
    },
    {
     "name": "stdout",
     "output_type": "stream",
     "text": [
      "[I 2025-08-23 02:07:54,935] Trial 9 finished with value: 570.0334179725185 and parameters: {'changepoint_prior_scale': 0.049404868349925204, 'seasonality_prior_scale': 0.048331274683008664, 'holidays_prior_scale': 0.10368383510828941}. Best is trial 1 with value: 564.3105443935922.\n"
     ]
    },
    {
     "name": "stderr",
     "output_type": "stream",
     "text": [
      "02:07:55 - cmdstanpy - INFO - Chain [1] start processing\n",
      "02:07:55 - cmdstanpy - INFO - Chain [1] done processing\n",
      "02:07:55 - cmdstanpy - INFO - Chain [1] start processing\n",
      "02:07:56 - cmdstanpy - INFO - Chain [1] done processing\n",
      "02:07:56 - cmdstanpy - INFO - Chain [1] start processing\n",
      "02:07:56 - cmdstanpy - INFO - Chain [1] start processing\n",
      "02:07:57 - cmdstanpy - INFO - Chain [1] done processing\n",
      "02:07:57 - cmdstanpy - INFO - Chain [1] start processing\n",
      "02:07:57 - cmdstanpy - INFO - Chain [1] start processing\n",
      "02:07:57 - cmdstanpy - INFO - Chain [1] start processing\n",
      "02:07:57 - cmdstanpy - INFO - Chain [1] start processing\n",
      "02:07:57 - cmdstanpy - INFO - Chain [1] start processing\n",
      "02:07:57 - cmdstanpy - INFO - Chain [1] start processing\n",
      "02:07:57 - cmdstanpy - INFO - Chain [1] start processing\n",
      "02:07:57 - cmdstanpy - INFO - Chain [1] done processing\n",
      "02:07:57 - cmdstanpy - INFO - Chain [1] done processing\n",
      "02:07:57 - cmdstanpy - INFO - Chain [1] done processing\n",
      "02:07:57 - cmdstanpy - INFO - Chain [1] done processing\n",
      "02:07:57 - cmdstanpy - INFO - Chain [1] done processing\n",
      "02:07:57 - cmdstanpy - INFO - Chain [1] done processing\n",
      "02:07:57 - cmdstanpy - INFO - Chain [1] done processing\n",
      "02:07:57 - cmdstanpy - INFO - Chain [1] done processing\n"
     ]
    },
    {
     "name": "stdout",
     "output_type": "stream",
     "text": [
      "[I 2025-08-23 02:07:57,968] Trial 10 finished with value: 540.0462671730058 and parameters: {'changepoint_prior_scale': 0.0026025670453155196, 'seasonality_prior_scale': 35.50056525280279, 'holidays_prior_scale': 4.407526310490758}. Best is trial 10 with value: 540.0462671730058.\n"
     ]
    },
    {
     "name": "stderr",
     "output_type": "stream",
     "text": [
      "02:07:58 - cmdstanpy - INFO - Chain [1] start processing\n",
      "02:07:58 - cmdstanpy - INFO - Chain [1] done processing\n",
      "02:07:59 - cmdstanpy - INFO - Chain [1] start processing\n",
      "02:07:59 - cmdstanpy - INFO - Chain [1] start processing\n",
      "02:07:59 - cmdstanpy - INFO - Chain [1] start processing\n",
      "02:07:59 - cmdstanpy - INFO - Chain [1] done processing\n",
      "02:08:00 - cmdstanpy - INFO - Chain [1] done processing\n",
      "02:08:00 - cmdstanpy - INFO - Chain [1] start processing\n",
      "02:08:00 - cmdstanpy - INFO - Chain [1] start processing\n",
      "02:08:00 - cmdstanpy - INFO - Chain [1] start processing\n",
      "02:08:00 - cmdstanpy - INFO - Chain [1] start processing\n",
      "02:08:00 - cmdstanpy - INFO - Chain [1] done processing\n",
      "02:08:00 - cmdstanpy - INFO - Chain [1] start processing\n",
      "02:08:00 - cmdstanpy - INFO - Chain [1] start processing\n",
      "02:08:00 - cmdstanpy - INFO - Chain [1] start processing\n",
      "02:08:00 - cmdstanpy - INFO - Chain [1] done processing\n",
      "02:08:00 - cmdstanpy - INFO - Chain [1] done processing\n",
      "02:08:00 - cmdstanpy - INFO - Chain [1] done processing\n",
      "02:08:00 - cmdstanpy - INFO - Chain [1] done processing\n",
      "02:08:00 - cmdstanpy - INFO - Chain [1] done processing\n",
      "02:08:00 - cmdstanpy - INFO - Chain [1] done processing\n",
      "02:08:00 - cmdstanpy - INFO - Chain [1] done processing\n"
     ]
    },
    {
     "name": "stdout",
     "output_type": "stream",
     "text": [
      "[I 2025-08-23 02:08:01,412] Trial 11 finished with value: 546.6703583972269 and parameters: {'changepoint_prior_scale': 0.002809419544116302, 'seasonality_prior_scale': 28.626255287213624, 'holidays_prior_scale': 3.8302421749573585}. Best is trial 10 with value: 540.0462671730058.\n"
     ]
    },
    {
     "name": "stderr",
     "output_type": "stream",
     "text": [
      "02:08:01 - cmdstanpy - INFO - Chain [1] start processing\n",
      "02:08:01 - cmdstanpy - INFO - Chain [1] done processing\n",
      "02:08:02 - cmdstanpy - INFO - Chain [1] start processing\n",
      "02:08:02 - cmdstanpy - INFO - Chain [1] done processing\n",
      "02:08:02 - cmdstanpy - INFO - Chain [1] start processing\n",
      "02:08:02 - cmdstanpy - INFO - Chain [1] done processing\n",
      "02:08:02 - cmdstanpy - INFO - Chain [1] start processing\n",
      "02:08:03 - cmdstanpy - INFO - Chain [1] start processing\n",
      "02:08:03 - cmdstanpy - INFO - Chain [1] done processing\n",
      "02:08:03 - cmdstanpy - INFO - Chain [1] start processing\n",
      "02:08:03 - cmdstanpy - INFO - Chain [1] start processing\n",
      "02:08:03 - cmdstanpy - INFO - Chain [1] done processing\n",
      "02:08:03 - cmdstanpy - INFO - Chain [1] start processing\n",
      "02:08:03 - cmdstanpy - INFO - Chain [1] start processing\n",
      "02:08:03 - cmdstanpy - INFO - Chain [1] start processing\n",
      "02:08:03 - cmdstanpy - INFO - Chain [1] start processing\n",
      "02:08:03 - cmdstanpy - INFO - Chain [1] done processing\n",
      "02:08:03 - cmdstanpy - INFO - Chain [1] done processing\n",
      "02:08:03 - cmdstanpy - INFO - Chain [1] done processing\n",
      "02:08:03 - cmdstanpy - INFO - Chain [1] done processing\n",
      "02:08:03 - cmdstanpy - INFO - Chain [1] done processing\n",
      "02:08:03 - cmdstanpy - INFO - Chain [1] done processing\n"
     ]
    },
    {
     "name": "stdout",
     "output_type": "stream",
     "text": [
      "[I 2025-08-23 02:08:04,356] Trial 12 finished with value: 554.8371579234835 and parameters: {'changepoint_prior_scale': 0.0041452402148823755, 'seasonality_prior_scale': 34.45918053232787, 'holidays_prior_scale': 0.7978714297461493}. Best is trial 10 with value: 540.0462671730058.\n"
     ]
    },
    {
     "name": "stderr",
     "output_type": "stream",
     "text": [
      "02:08:04 - cmdstanpy - INFO - Chain [1] start processing\n",
      "02:08:04 - cmdstanpy - INFO - Chain [1] done processing\n",
      "02:08:06 - cmdstanpy - INFO - Chain [1] start processing\n",
      "02:08:06 - cmdstanpy - INFO - Chain [1] start processing\n",
      "02:08:06 - cmdstanpy - INFO - Chain [1] start processing\n",
      "02:08:06 - cmdstanpy - INFO - Chain [1] start processing\n",
      "02:08:06 - cmdstanpy - INFO - Chain [1] done processing\n",
      "02:08:06 - cmdstanpy - INFO - Chain [1] done processing\n",
      "02:08:06 - cmdstanpy - INFO - Chain [1] done processing\n",
      "02:08:06 - cmdstanpy - INFO - Chain [1] done processing\n",
      "02:08:06 - cmdstanpy - INFO - Chain [1] start processing\n",
      "02:08:06 - cmdstanpy - INFO - Chain [1] start processing\n",
      "02:08:06 - cmdstanpy - INFO - Chain [1] start processing\n",
      "02:08:06 - cmdstanpy - INFO - Chain [1] start processing\n",
      "02:08:06 - cmdstanpy - INFO - Chain [1] start processing\n",
      "02:08:06 - cmdstanpy - INFO - Chain [1] start processing\n",
      "02:08:07 - cmdstanpy - INFO - Chain [1] done processing\n",
      "02:08:07 - cmdstanpy - INFO - Chain [1] done processing\n",
      "02:08:07 - cmdstanpy - INFO - Chain [1] done processing\n",
      "02:08:07 - cmdstanpy - INFO - Chain [1] done processing\n",
      "02:08:07 - cmdstanpy - INFO - Chain [1] done processing\n",
      "02:08:07 - cmdstanpy - INFO - Chain [1] done processing\n"
     ]
    },
    {
     "name": "stdout",
     "output_type": "stream",
     "text": [
      "[I 2025-08-23 02:08:07,719] Trial 13 finished with value: 559.9525623441132 and parameters: {'changepoint_prior_scale': 0.004461331860584045, 'seasonality_prior_scale': 39.82581022783717, 'holidays_prior_scale': 7.74644804569227}. Best is trial 10 with value: 540.0462671730058.\n"
     ]
    },
    {
     "name": "stderr",
     "output_type": "stream",
     "text": [
      "02:08:07 - cmdstanpy - INFO - Chain [1] start processing\n",
      "02:08:08 - cmdstanpy - INFO - Chain [1] done processing\n",
      "02:08:08 - cmdstanpy - INFO - Chain [1] start processing\n",
      "02:08:08 - cmdstanpy - INFO - Chain [1] done processing\n",
      "02:08:09 - cmdstanpy - INFO - Chain [1] start processing\n",
      "02:08:09 - cmdstanpy - INFO - Chain [1] start processing\n",
      "02:08:09 - cmdstanpy - INFO - Chain [1] start processing\n",
      "02:08:09 - cmdstanpy - INFO - Chain [1] start processing\n",
      "02:08:09 - cmdstanpy - INFO - Chain [1] start processing\n",
      "02:08:09 - cmdstanpy - INFO - Chain [1] start processing\n",
      "02:08:09 - cmdstanpy - INFO - Chain [1] start processing\n",
      "02:08:09 - cmdstanpy - INFO - Chain [1] start processing\n",
      "02:08:09 - cmdstanpy - INFO - Chain [1] start processing\n",
      "02:08:09 - cmdstanpy - INFO - Chain [1] done processing\n",
      "02:08:09 - cmdstanpy - INFO - Chain [1] done processing\n",
      "02:08:09 - cmdstanpy - ERROR - Chain [1] error: error during processing Operation not permitted\n",
      "Optimization terminated abnormally. Falling back to Newton.\n",
      "02:08:10 - cmdstanpy - INFO - Chain [1] done processing\n",
      "02:08:10 - cmdstanpy - INFO - Chain [1] done processing\n",
      "02:08:10 - cmdstanpy - ERROR - Chain [1] error: error during processing Operation not permitted\n",
      "02:08:10 - cmdstanpy - INFO - Chain [1] done processing\n",
      "02:08:10 - cmdstanpy - INFO - Chain [1] done processing\n",
      "Optimization terminated abnormally. Falling back to Newton.\n",
      "02:08:10 - cmdstanpy - INFO - Chain [1] done processing\n",
      "02:08:10 - cmdstanpy - INFO - Chain [1] done processing\n",
      "02:08:10 - cmdstanpy - INFO - Chain [1] done processing\n",
      "02:08:10 - cmdstanpy - INFO - Chain [1] start processing\n",
      "02:08:10 - cmdstanpy - INFO - Chain [1] start processing\n",
      "02:08:12 - cmdstanpy - INFO - Chain [1] done processing\n",
      "02:08:12 - cmdstanpy - INFO - Chain [1] done processing\n",
      "02:08:13 - cmdstanpy - INFO - Chain [1] start processing\n"
     ]
    },
    {
     "name": "stdout",
     "output_type": "stream",
     "text": [
      "[I 2025-08-23 02:08:13,045] Trial 14 finished with value: 579.5932477844766 and parameters: {'changepoint_prior_scale': 0.0011415064223557704, 'seasonality_prior_scale': 14.03833014637145, 'holidays_prior_scale': 1.012589179679144}. Best is trial 10 with value: 540.0462671730058.\n"
     ]
    },
    {
     "name": "stderr",
     "output_type": "stream",
     "text": [
      "02:08:13 - cmdstanpy - INFO - Chain [1] done processing\n",
      "02:08:14 - cmdstanpy - INFO - Chain [1] start processing\n",
      "02:08:14 - cmdstanpy - INFO - Chain [1] done processing\n",
      "02:08:14 - cmdstanpy - INFO - Chain [1] start processing\n",
      "02:08:14 - cmdstanpy - INFO - Chain [1] start processing\n",
      "02:08:15 - cmdstanpy - INFO - Chain [1] start processing\n",
      "02:08:15 - cmdstanpy - INFO - Chain [1] done processing\n",
      "02:08:15 - cmdstanpy - INFO - Chain [1] start processing\n",
      "02:08:15 - cmdstanpy - INFO - Chain [1] done processing\n",
      "02:08:15 - cmdstanpy - INFO - Chain [1] start processing\n",
      "02:08:15 - cmdstanpy - INFO - Chain [1] start processing\n",
      "02:08:15 - cmdstanpy - INFO - Chain [1] start processing\n",
      "02:08:15 - cmdstanpy - INFO - Chain [1] done processing\n",
      "02:08:15 - cmdstanpy - INFO - Chain [1] start processing\n",
      "02:08:15 - cmdstanpy - INFO - Chain [1] start processing\n",
      "02:08:15 - cmdstanpy - INFO - Chain [1] done processing\n",
      "02:08:15 - cmdstanpy - INFO - Chain [1] done processing\n",
      "02:08:15 - cmdstanpy - INFO - Chain [1] done processing\n",
      "02:08:15 - cmdstanpy - INFO - Chain [1] done processing\n",
      "02:08:15 - cmdstanpy - INFO - Chain [1] done processing\n",
      "02:08:15 - cmdstanpy - INFO - Chain [1] done processing\n"
     ]
    },
    {
     "name": "stdout",
     "output_type": "stream",
     "text": [
      "[I 2025-08-23 02:08:16,172] Trial 15 finished with value: 568.9632993753712 and parameters: {'changepoint_prior_scale': 0.01279705238277351, 'seasonality_prior_scale': 10.861229310337745, 'holidays_prior_scale': 39.74976269685252}. Best is trial 10 with value: 540.0462671730058.\n"
     ]
    },
    {
     "name": "stderr",
     "output_type": "stream",
     "text": [
      "02:08:16 - cmdstanpy - INFO - Chain [1] start processing\n",
      "02:08:16 - cmdstanpy - INFO - Chain [1] done processing\n",
      "02:08:17 - cmdstanpy - INFO - Chain [1] start processing\n",
      "02:08:17 - cmdstanpy - INFO - Chain [1] done processing\n",
      "02:08:17 - cmdstanpy - ERROR - Chain [1] error: error during processing Operation not permitted\n",
      "Optimization terminated abnormally. Falling back to Newton.\n",
      "02:08:18 - cmdstanpy - INFO - Chain [1] start processing\n",
      "02:08:18 - cmdstanpy - INFO - Chain [1] start processing\n",
      "02:08:18 - cmdstanpy - INFO - Chain [1] start processing\n",
      "02:08:18 - cmdstanpy - INFO - Chain [1] start processing\n",
      "02:08:18 - cmdstanpy - INFO - Chain [1] start processing\n",
      "02:08:18 - cmdstanpy - INFO - Chain [1] start processing\n",
      "02:08:18 - cmdstanpy - INFO - Chain [1] done processing\n",
      "02:08:18 - cmdstanpy - INFO - Chain [1] start processing\n",
      "02:08:18 - cmdstanpy - INFO - Chain [1] done processing\n",
      "02:08:18 - cmdstanpy - INFO - Chain [1] start processing\n",
      "02:08:18 - cmdstanpy - INFO - Chain [1] start processing\n",
      "02:08:18 - cmdstanpy - INFO - Chain [1] start processing\n",
      "02:08:18 - cmdstanpy - ERROR - Chain [1] error: error during processing Operation not permitted\n",
      "02:08:18 - cmdstanpy - ERROR - Chain [1] error: error during processing Operation not permitted\n",
      "Optimization terminated abnormally. Falling back to Newton.\n",
      "02:08:18 - cmdstanpy - INFO - Chain [1] done processing\n",
      "Optimization terminated abnormally. Falling back to Newton.\n",
      "02:08:18 - cmdstanpy - INFO - Chain [1] done processing\n",
      "02:08:18 - cmdstanpy - ERROR - Chain [1] error: error during processing Operation not permitted\n",
      "02:08:18 - cmdstanpy - INFO - Chain [1] done processing\n",
      "02:08:18 - cmdstanpy - ERROR - Chain [1] error: error during processing Operation not permitted\n",
      "Optimization terminated abnormally. Falling back to Newton.\n",
      "02:08:18 - cmdstanpy - INFO - Chain [1] done processing\n",
      "02:08:18 - cmdstanpy - INFO - Chain [1] done processing\n",
      "Optimization terminated abnormally. Falling back to Newton.\n",
      "02:08:18 - cmdstanpy - INFO - Chain [1] done processing\n",
      "02:08:18 - cmdstanpy - INFO - Chain [1] done processing\n",
      "02:08:18 - cmdstanpy - ERROR - Chain [1] error: error during processing Operation not permitted\n",
      "02:08:18 - cmdstanpy - ERROR - Chain [1] error: error during processing Operation not permitted\n",
      "02:08:18 - cmdstanpy - ERROR - Chain [1] error: error during processing Operation not permitted\n",
      "Optimization terminated abnormally. Falling back to Newton.\n",
      "02:08:18 - cmdstanpy - ERROR - Chain [1] error: error during processing Operation not permitted\n",
      "Optimization terminated abnormally. Falling back to Newton.\n",
      "02:08:18 - cmdstanpy - INFO - Chain [1] start processing\n",
      "Optimization terminated abnormally. Falling back to Newton.\n",
      "02:08:19 - cmdstanpy - INFO - Chain [1] start processing\n",
      "02:08:19 - cmdstanpy - INFO - Chain [1] start processing\n",
      "Optimization terminated abnormally. Falling back to Newton.\n",
      "02:08:19 - cmdstanpy - INFO - Chain [1] start processing\n",
      "02:08:19 - cmdstanpy - INFO - Chain [1] start processing\n",
      "02:08:19 - cmdstanpy - INFO - Chain [1] start processing\n",
      "02:08:19 - cmdstanpy - INFO - Chain [1] start processing\n",
      "02:08:19 - cmdstanpy - INFO - Chain [1] start processing\n",
      "02:08:22 - cmdstanpy - INFO - Chain [1] done processing\n",
      "02:08:22 - cmdstanpy - INFO - Chain [1] done processing\n",
      "02:08:24 - cmdstanpy - INFO - Chain [1] done processing\n",
      "02:08:24 - cmdstanpy - INFO - Chain [1] done processing\n",
      "02:08:24 - cmdstanpy - INFO - Chain [1] done processing\n",
      "02:08:25 - cmdstanpy - INFO - Chain [1] done processing\n",
      "02:08:25 - cmdstanpy - INFO - Chain [1] done processing\n",
      "02:08:25 - cmdstanpy - INFO - Chain [1] done processing\n",
      "02:08:28 - cmdstanpy - INFO - Chain [1] done processing\n"
     ]
    },
    {
     "name": "stdout",
     "output_type": "stream",
     "text": [
      "[I 2025-08-23 02:08:28,652] Trial 16 finished with value: 648.6313918392124 and parameters: {'changepoint_prior_scale': 0.00046621028579515875, 'seasonality_prior_scale': 0.011525355288792486, 'holidays_prior_scale': 8.874484288874378}. Best is trial 10 with value: 540.0462671730058.\n"
     ]
    },
    {
     "name": "stderr",
     "output_type": "stream",
     "text": [
      "02:08:28 - cmdstanpy - INFO - Chain [1] start processing\n",
      "02:08:28 - cmdstanpy - INFO - Chain [1] done processing\n",
      "02:08:29 - cmdstanpy - INFO - Chain [1] start processing\n",
      "02:08:29 - cmdstanpy - INFO - Chain [1] done processing\n",
      "02:08:30 - cmdstanpy - INFO - Chain [1] start processing\n",
      "02:08:30 - cmdstanpy - INFO - Chain [1] start processing\n",
      "02:08:30 - cmdstanpy - INFO - Chain [1] start processing\n",
      "02:08:30 - cmdstanpy - INFO - Chain [1] done processing\n",
      "02:08:30 - cmdstanpy - INFO - Chain [1] start processing\n",
      "02:08:30 - cmdstanpy - INFO - Chain [1] done processing\n",
      "02:08:30 - cmdstanpy - INFO - Chain [1] start processing\n",
      "02:08:30 - cmdstanpy - INFO - Chain [1] start processing\n",
      "02:08:31 - cmdstanpy - INFO - Chain [1] start processing\n",
      "02:08:31 - cmdstanpy - INFO - Chain [1] done processing\n",
      "02:08:31 - cmdstanpy - INFO - Chain [1] start processing\n",
      "02:08:31 - cmdstanpy - INFO - Chain [1] done processing\n",
      "02:08:31 - cmdstanpy - INFO - Chain [1] start processing\n",
      "02:08:31 - cmdstanpy - INFO - Chain [1] done processing\n",
      "02:08:31 - cmdstanpy - INFO - Chain [1] done processing\n",
      "02:08:31 - cmdstanpy - INFO - Chain [1] done processing\n",
      "02:08:31 - cmdstanpy - INFO - Chain [1] done processing\n",
      "02:08:31 - cmdstanpy - INFO - Chain [1] done processing\n",
      "02:08:32 - cmdstanpy - INFO - Chain [1] start processing\n"
     ]
    },
    {
     "name": "stdout",
     "output_type": "stream",
     "text": [
      "[I 2025-08-23 02:08:32,040] Trial 17 finished with value: 561.2329458001403 and parameters: {'changepoint_prior_scale': 0.0032615348785182026, 'seasonality_prior_scale': 12.6224178581866, 'holidays_prior_scale': 1.9123727257517322}. Best is trial 10 with value: 540.0462671730058.\n"
     ]
    },
    {
     "name": "stderr",
     "output_type": "stream",
     "text": [
      "02:08:32 - cmdstanpy - INFO - Chain [1] done processing\n",
      "02:08:32 - cmdstanpy - INFO - Chain [1] start processing\n",
      "02:08:33 - cmdstanpy - INFO - Chain [1] done processing\n",
      "02:08:33 - cmdstanpy - INFO - Chain [1] start processing\n",
      "02:08:33 - cmdstanpy - INFO - Chain [1] start processing\n",
      "02:08:33 - cmdstanpy - INFO - Chain [1] start processing\n",
      "02:08:33 - cmdstanpy - INFO - Chain [1] start processing\n",
      "02:08:33 - cmdstanpy - INFO - Chain [1] start processing\n",
      "02:08:34 - cmdstanpy - INFO - Chain [1] done processing\n",
      "02:08:34 - cmdstanpy - INFO - Chain [1] start processing\n",
      "02:08:34 - cmdstanpy - INFO - Chain [1] start processing\n",
      "02:08:34 - cmdstanpy - INFO - Chain [1] start processing\n",
      "02:08:34 - cmdstanpy - INFO - Chain [1] start processing\n",
      "02:08:34 - cmdstanpy - INFO - Chain [1] done processing\n",
      "02:08:34 - cmdstanpy - INFO - Chain [1] done processing\n",
      "02:08:34 - cmdstanpy - INFO - Chain [1] done processing\n",
      "02:08:34 - cmdstanpy - INFO - Chain [1] done processing\n",
      "02:08:34 - cmdstanpy - INFO - Chain [1] done processing\n",
      "02:08:34 - cmdstanpy - INFO - Chain [1] done processing\n",
      "02:08:34 - cmdstanpy - INFO - Chain [1] done processing\n",
      "02:08:34 - cmdstanpy - INFO - Chain [1] done processing\n",
      "02:08:35 - cmdstanpy - INFO - Chain [1] start processing\n"
     ]
    },
    {
     "name": "stdout",
     "output_type": "stream",
     "text": [
      "[I 2025-08-23 02:08:35,018] Trial 18 finished with value: 568.0951838605338 and parameters: {'changepoint_prior_scale': 0.011956294418665027, 'seasonality_prior_scale': 18.26604975200214, 'holidays_prior_scale': 0.2836978016818971}. Best is trial 10 with value: 540.0462671730058.\n"
     ]
    },
    {
     "name": "stderr",
     "output_type": "stream",
     "text": [
      "02:08:35 - cmdstanpy - INFO - Chain [1] done processing\n",
      "02:08:35 - cmdstanpy - ERROR - Chain [1] error: error during processing Operation not permitted\n",
      "Optimization terminated abnormally. Falling back to Newton.\n",
      "02:08:35 - cmdstanpy - INFO - Chain [1] start processing\n",
      "02:08:37 - cmdstanpy - INFO - Chain [1] done processing\n",
      "02:08:38 - cmdstanpy - INFO - Chain [1] start processing\n",
      "02:08:38 - cmdstanpy - INFO - Chain [1] start processing\n",
      "02:08:38 - cmdstanpy - INFO - Chain [1] start processing\n",
      "02:08:39 - cmdstanpy - INFO - Chain [1] done processing\n",
      "02:08:39 - cmdstanpy - INFO - Chain [1] done processing\n",
      "02:08:39 - cmdstanpy - ERROR - Chain [1] error: error during processing Operation not permitted\n",
      "02:08:39 - cmdstanpy - INFO - Chain [1] done processing\n",
      "02:08:39 - cmdstanpy - ERROR - Chain [1] error: error during processing Operation not permitted\n",
      "Optimization terminated abnormally. Falling back to Newton.\n",
      "02:08:39 - cmdstanpy - ERROR - Chain [1] error: error during processing Operation not permitted\n",
      "02:08:39 - cmdstanpy - INFO - Chain [1] start processing\n",
      "02:08:39 - cmdstanpy - INFO - Chain [1] start processing\n",
      "Optimization terminated abnormally. Falling back to Newton.\n",
      "02:08:39 - cmdstanpy - INFO - Chain [1] start processing\n",
      "Optimization terminated abnormally. Falling back to Newton.\n",
      "02:08:39 - cmdstanpy - INFO - Chain [1] start processing\n",
      "02:08:39 - cmdstanpy - INFO - Chain [1] start processing\n",
      "02:08:39 - cmdstanpy - INFO - Chain [1] done processing\n",
      "02:08:39 - cmdstanpy - ERROR - Chain [1] error: error during processing Operation not permitted\n",
      "02:08:39 - cmdstanpy - INFO - Chain [1] done processing\n",
      "02:08:39 - cmdstanpy - INFO - Chain [1] done processing\n",
      "Optimization terminated abnormally. Falling back to Newton.\n",
      "02:08:39 - cmdstanpy - INFO - Chain [1] done processing\n",
      "02:08:39 - cmdstanpy - INFO - Chain [1] start processing\n",
      "02:08:40 - cmdstanpy - INFO - Chain [1] start processing\n",
      "02:08:40 - cmdstanpy - ERROR - Chain [1] error: error during processing Operation not permitted\n",
      "02:08:40 - cmdstanpy - INFO - Chain [1] done processing\n",
      "02:08:40 - cmdstanpy - ERROR - Chain [1] error: error during processing Operation not permitted\n",
      "Optimization terminated abnormally. Falling back to Newton.\n",
      "02:08:40 - cmdstanpy - ERROR - Chain [1] error: error during processing Operation not permitted\n",
      "02:08:40 - cmdstanpy - INFO - Chain [1] start processing\n",
      "02:08:40 - cmdstanpy - INFO - Chain [1] start processing\n",
      "Optimization terminated abnormally. Falling back to Newton.\n",
      "02:08:40 - cmdstanpy - ERROR - Chain [1] error: error during processing Operation not permitted\n",
      "02:08:40 - cmdstanpy - INFO - Chain [1] done processing\n",
      "Optimization terminated abnormally. Falling back to Newton.\n",
      "02:08:40 - cmdstanpy - INFO - Chain [1] done processing\n",
      "02:08:40 - cmdstanpy - INFO - Chain [1] start processing\n",
      "Optimization terminated abnormally. Falling back to Newton.\n",
      "02:08:40 - cmdstanpy - ERROR - Chain [1] error: error during processing Operation not permitted\n",
      "02:08:40 - cmdstanpy - ERROR - Chain [1] error: error during processing Operation not permitted\n",
      "02:08:40 - cmdstanpy - INFO - Chain [1] start processing\n",
      "Optimization terminated abnormally. Falling back to Newton.\n",
      "02:08:40 - cmdstanpy - INFO - Chain [1] start processing\n",
      "Optimization terminated abnormally. Falling back to Newton.\n",
      "02:08:41 - cmdstanpy - INFO - Chain [1] start processing\n",
      "02:08:41 - cmdstanpy - INFO - Chain [1] start processing\n",
      "02:08:41 - cmdstanpy - INFO - Chain [1] start processing\n",
      "02:08:41 - cmdstanpy - INFO - Chain [1] start processing\n",
      "02:08:41 - cmdstanpy - INFO - Chain [1] start processing\n",
      "02:08:44 - cmdstanpy - INFO - Chain [1] done processing\n",
      "02:08:45 - cmdstanpy - INFO - Chain [1] done processing\n",
      "02:08:47 - cmdstanpy - INFO - Chain [1] done processing\n",
      "02:08:48 - cmdstanpy - INFO - Chain [1] done processing\n",
      "02:08:48 - cmdstanpy - INFO - Chain [1] done processing\n",
      "02:08:49 - cmdstanpy - INFO - Chain [1] done processing\n",
      "02:08:51 - cmdstanpy - INFO - Chain [1] done processing\n",
      "02:08:55 - cmdstanpy - INFO - Chain [1] done processing\n",
      "02:08:57 - cmdstanpy - INFO - Chain [1] done processing\n",
      "02:08:58 - cmdstanpy - INFO - Chain [1] done processing\n"
     ]
    },
    {
     "name": "stdout",
     "output_type": "stream",
     "text": [
      "[I 2025-08-23 02:08:59,134] Trial 19 finished with value: 567.9090177362161 and parameters: {'changepoint_prior_scale': 0.00032421789769558813, 'seasonality_prior_scale': 0.41768018926435135, 'holidays_prior_scale': 0.32353056672927105}. Best is trial 10 with value: 540.0462671730058.\n"
     ]
    },
    {
     "name": "stderr",
     "output_type": "stream",
     "text": [
      "02:08:59 - cmdstanpy - INFO - Chain [1] start processing\n",
      "02:08:59 - cmdstanpy - INFO - Chain [1] done processing\n",
      "02:09:00 - cmdstanpy - INFO - Chain [1] start processing\n",
      "02:09:00 - cmdstanpy - INFO - Chain [1] done processing\n",
      "02:09:01 - cmdstanpy - INFO - Chain [1] start processing\n",
      "02:09:01 - cmdstanpy - INFO - Chain [1] start processing\n",
      "02:09:01 - cmdstanpy - INFO - Chain [1] start processing\n",
      "02:09:01 - cmdstanpy - INFO - Chain [1] done processing\n",
      "02:09:01 - cmdstanpy - INFO - Chain [1] start processing\n",
      "02:09:01 - cmdstanpy - INFO - Chain [1] start processing\n",
      "02:09:01 - cmdstanpy - INFO - Chain [1] start processing\n",
      "02:09:01 - cmdstanpy - INFO - Chain [1] start processing\n",
      "02:09:01 - cmdstanpy - INFO - Chain [1] start processing\n",
      "02:09:01 - cmdstanpy - INFO - Chain [1] done processing\n",
      "02:09:01 - cmdstanpy - INFO - Chain [1] done processing\n",
      "02:09:01 - cmdstanpy - INFO - Chain [1] start processing\n",
      "02:09:01 - cmdstanpy - INFO - Chain [1] done processing\n",
      "02:09:01 - cmdstanpy - INFO - Chain [1] done processing\n",
      "02:09:01 - cmdstanpy - INFO - Chain [1] done processing\n",
      "02:09:01 - cmdstanpy - INFO - Chain [1] done processing\n",
      "02:09:01 - cmdstanpy - INFO - Chain [1] done processing\n",
      "02:09:01 - cmdstanpy - INFO - Chain [1] done processing\n"
     ]
    },
    {
     "name": "stdout",
     "output_type": "stream",
     "text": [
      "[I 2025-08-23 02:09:02,430] Trial 20 finished with value: 568.8448895080654 and parameters: {'changepoint_prior_scale': 0.002141464017447837, 'seasonality_prior_scale': 6.6402146570242335, 'holidays_prior_scale': 1.6126380354769796}. Best is trial 10 with value: 540.0462671730058.\n"
     ]
    },
    {
     "name": "stderr",
     "output_type": "stream",
     "text": [
      "02:09:02 - cmdstanpy - INFO - Chain [1] start processing\n",
      "02:09:02 - cmdstanpy - INFO - Chain [1] done processing\n",
      "02:09:03 - cmdstanpy - INFO - Chain [1] start processing\n",
      "02:09:03 - cmdstanpy - INFO - Chain [1] done processing\n",
      "02:09:04 - cmdstanpy - INFO - Chain [1] start processing\n",
      "02:09:04 - cmdstanpy - INFO - Chain [1] start processing\n",
      "02:09:04 - cmdstanpy - INFO - Chain [1] start processing\n",
      "02:09:04 - cmdstanpy - INFO - Chain [1] start processing\n",
      "02:09:04 - cmdstanpy - INFO - Chain [1] done processing\n",
      "02:09:04 - cmdstanpy - INFO - Chain [1] start processing\n",
      "02:09:04 - cmdstanpy - INFO - Chain [1] start processing\n",
      "02:09:04 - cmdstanpy - INFO - Chain [1] start processing\n",
      "02:09:04 - cmdstanpy - INFO - Chain [1] start processing\n",
      "02:09:04 - cmdstanpy - INFO - Chain [1] start processing\n",
      "02:09:04 - cmdstanpy - INFO - Chain [1] done processing\n",
      "02:09:04 - cmdstanpy - INFO - Chain [1] done processing\n",
      "02:09:04 - cmdstanpy - INFO - Chain [1] done processing\n",
      "02:09:04 - cmdstanpy - INFO - Chain [1] done processing\n",
      "02:09:05 - cmdstanpy - INFO - Chain [1] done processing\n",
      "02:09:05 - cmdstanpy - INFO - Chain [1] done processing\n",
      "02:09:05 - cmdstanpy - INFO - Chain [1] done processing\n",
      "02:09:05 - cmdstanpy - INFO - Chain [1] done processing\n"
     ]
    },
    {
     "name": "stdout",
     "output_type": "stream",
     "text": [
      "[I 2025-08-23 02:09:05,682] Trial 21 finished with value: 569.4814701579612 and parameters: {'changepoint_prior_scale': 0.005899884879506086, 'seasonality_prior_scale': 37.62994573722732, 'holidays_prior_scale': 0.3575215221811149}. Best is trial 10 with value: 540.0462671730058.\n"
     ]
    },
    {
     "name": "stderr",
     "output_type": "stream",
     "text": [
      "02:09:05 - cmdstanpy - INFO - Chain [1] start processing\n",
      "02:09:06 - cmdstanpy - INFO - Chain [1] done processing\n",
      "02:09:07 - cmdstanpy - INFO - Chain [1] start processing\n",
      "02:09:07 - cmdstanpy - INFO - Chain [1] start processing\n",
      "02:09:07 - cmdstanpy - INFO - Chain [1] start processing\n",
      "02:09:07 - cmdstanpy - INFO - Chain [1] start processing\n",
      "02:09:07 - cmdstanpy - INFO - Chain [1] start processing\n",
      "02:09:07 - cmdstanpy - INFO - Chain [1] start processing\n",
      "02:09:07 - cmdstanpy - INFO - Chain [1] start processing\n",
      "02:09:07 - cmdstanpy - INFO - Chain [1] start processing\n",
      "02:09:07 - cmdstanpy - INFO - Chain [1] done processing\n",
      "02:09:07 - cmdstanpy - INFO - Chain [1] start processing\n",
      "02:09:07 - cmdstanpy - INFO - Chain [1] start processing\n",
      "02:09:08 - cmdstanpy - INFO - Chain [1] done processing\n",
      "02:09:08 - cmdstanpy - INFO - Chain [1] done processing\n",
      "02:09:08 - cmdstanpy - INFO - Chain [1] done processing\n",
      "02:09:08 - cmdstanpy - INFO - Chain [1] done processing\n",
      "02:09:08 - cmdstanpy - INFO - Chain [1] done processing\n",
      "02:09:08 - cmdstanpy - INFO - Chain [1] done processing\n",
      "02:09:08 - cmdstanpy - INFO - Chain [1] done processing\n",
      "02:09:08 - cmdstanpy - INFO - Chain [1] done processing\n",
      "02:09:08 - cmdstanpy - INFO - Chain [1] done processing\n"
     ]
    },
    {
     "name": "stdout",
     "output_type": "stream",
     "text": [
      "[I 2025-08-23 02:09:08,978] Trial 22 finished with value: 567.1609358675074 and parameters: {'changepoint_prior_scale': 0.027824089314006473, 'seasonality_prior_scale': 26.708666632636245, 'holidays_prior_scale': 10.440010106648396}. Best is trial 10 with value: 540.0462671730058.\n"
     ]
    },
    {
     "name": "stderr",
     "output_type": "stream",
     "text": [
      "02:09:09 - cmdstanpy - INFO - Chain [1] start processing\n",
      "02:09:09 - cmdstanpy - INFO - Chain [1] done processing\n",
      "02:09:09 - cmdstanpy - INFO - Chain [1] start processing\n",
      "02:09:10 - cmdstanpy - INFO - Chain [1] done processing\n",
      "02:09:10 - cmdstanpy - INFO - Chain [1] start processing\n",
      "02:09:11 - cmdstanpy - INFO - Chain [1] done processing\n",
      "02:09:11 - cmdstanpy - INFO - Chain [1] start processing\n",
      "02:09:11 - cmdstanpy - INFO - Chain [1] start processing\n",
      "02:09:11 - cmdstanpy - INFO - Chain [1] start processing\n",
      "02:09:11 - cmdstanpy - INFO - Chain [1] start processing\n",
      "02:09:11 - cmdstanpy - INFO - Chain [1] start processing\n",
      "02:09:11 - cmdstanpy - INFO - Chain [1] start processing\n",
      "02:09:11 - cmdstanpy - INFO - Chain [1] start processing\n",
      "02:09:11 - cmdstanpy - INFO - Chain [1] start processing\n",
      "02:09:11 - cmdstanpy - INFO - Chain [1] done processing\n",
      "02:09:11 - cmdstanpy - INFO - Chain [1] done processing\n",
      "02:09:11 - cmdstanpy - INFO - Chain [1] done processing\n",
      "02:09:11 - cmdstanpy - INFO - Chain [1] done processing\n",
      "02:09:11 - cmdstanpy - INFO - Chain [1] done processing\n",
      "02:09:11 - cmdstanpy - INFO - Chain [1] done processing\n",
      "02:09:11 - cmdstanpy - INFO - Chain [1] done processing\n",
      "02:09:11 - cmdstanpy - INFO - Chain [1] done processing\n"
     ]
    },
    {
     "name": "stdout",
     "output_type": "stream",
     "text": [
      "[I 2025-08-23 02:09:12,157] Trial 23 finished with value: 552.8924644444445 and parameters: {'changepoint_prior_scale': 0.0033176112314872728, 'seasonality_prior_scale': 8.710278005956882, 'holidays_prior_scale': 1.6568237617910806}. Best is trial 10 with value: 540.0462671730058.\n"
     ]
    },
    {
     "name": "stderr",
     "output_type": "stream",
     "text": [
      "02:09:12 - cmdstanpy - INFO - Chain [1] start processing\n",
      "02:09:12 - cmdstanpy - INFO - Chain [1] done processing\n",
      "02:09:13 - cmdstanpy - INFO - Chain [1] start processing\n",
      "02:09:13 - cmdstanpy - INFO - Chain [1] start processing\n",
      "02:09:13 - cmdstanpy - INFO - Chain [1] done processing\n",
      "02:09:13 - cmdstanpy - ERROR - Chain [1] error: error during processing Operation not permitted\n",
      "02:09:13 - cmdstanpy - INFO - Chain [1] done processing\n",
      "Optimization terminated abnormally. Falling back to Newton.\n",
      "02:09:14 - cmdstanpy - INFO - Chain [1] start processing\n",
      "02:09:14 - cmdstanpy - INFO - Chain [1] start processing\n",
      "02:09:14 - cmdstanpy - INFO - Chain [1] done processing\n",
      "02:09:14 - cmdstanpy - INFO - Chain [1] start processing\n",
      "02:09:14 - cmdstanpy - INFO - Chain [1] start processing\n",
      "02:09:14 - cmdstanpy - ERROR - Chain [1] error: error during processing Operation not permitted\n",
      "02:09:14 - cmdstanpy - INFO - Chain [1] start processing\n",
      "02:09:14 - cmdstanpy - INFO - Chain [1] start processing\n",
      "02:09:14 - cmdstanpy - INFO - Chain [1] done processing\n",
      "02:09:14 - cmdstanpy - INFO - Chain [1] start processing\n",
      "02:09:14 - cmdstanpy - INFO - Chain [1] start processing\n",
      "02:09:14 - cmdstanpy - INFO - Chain [1] start processing\n",
      "Optimization terminated abnormally. Falling back to Newton.\n",
      "02:09:14 - cmdstanpy - INFO - Chain [1] done processing\n",
      "02:09:14 - cmdstanpy - INFO - Chain [1] done processing\n",
      "02:09:14 - cmdstanpy - INFO - Chain [1] done processing\n",
      "02:09:14 - cmdstanpy - ERROR - Chain [1] error: error during processing Operation not permitted\n",
      "02:09:14 - cmdstanpy - INFO - Chain [1] done processing\n",
      "02:09:14 - cmdstanpy - INFO - Chain [1] done processing\n",
      "Optimization terminated abnormally. Falling back to Newton.\n",
      "02:09:15 - cmdstanpy - ERROR - Chain [1] error: error during processing Operation not permitted\n",
      "02:09:14 - cmdstanpy - INFO - Chain [1] done processing\n",
      "02:09:14 - cmdstanpy - ERROR - Chain [1] error: error during processing Operation not permitted\n",
      "Optimization terminated abnormally. Falling back to Newton.\n",
      "02:09:15 - cmdstanpy - INFO - Chain [1] start processing\n",
      "Optimization terminated abnormally. Falling back to Newton.\n",
      "02:09:15 - cmdstanpy - INFO - Chain [1] start processing\n",
      "02:09:15 - cmdstanpy - INFO - Chain [1] start processing\n",
      "02:09:15 - cmdstanpy - INFO - Chain [1] start processing\n",
      "02:09:17 - cmdstanpy - INFO - Chain [1] done processing\n",
      "02:09:19 - cmdstanpy - INFO - Chain [1] done processing\n",
      "02:09:19 - cmdstanpy - INFO - Chain [1] done processing\n",
      "02:09:21 - cmdstanpy - INFO - Chain [1] done processing\n",
      "02:09:22 - cmdstanpy - INFO - Chain [1] done processing\n"
     ]
    },
    {
     "name": "stdout",
     "output_type": "stream",
     "text": [
      "[I 2025-08-23 02:09:22,640] Trial 24 finished with value: 1053.7260299866216 and parameters: {'changepoint_prior_scale': 0.0007536093884098955, 'seasonality_prior_scale': 10.975152207345888, 'holidays_prior_scale': 1.7236329500503447}. Best is trial 10 with value: 540.0462671730058.\n"
     ]
    },
    {
     "name": "stderr",
     "output_type": "stream",
     "text": [
      "02:09:22 - cmdstanpy - INFO - Chain [1] start processing\n",
      "02:09:23 - cmdstanpy - INFO - Chain [1] done processing\n",
      "02:09:23 - cmdstanpy - INFO - Chain [1] start processing\n",
      "02:09:24 - cmdstanpy - INFO - Chain [1] done processing\n",
      "02:09:24 - cmdstanpy - INFO - Chain [1] start processing\n",
      "02:09:24 - cmdstanpy - INFO - Chain [1] start processing\n",
      "02:09:24 - cmdstanpy - INFO - Chain [1] done processing\n",
      "02:09:24 - cmdstanpy - INFO - Chain [1] done processing\n",
      "02:09:25 - cmdstanpy - INFO - Chain [1] start processing\n",
      "02:09:25 - cmdstanpy - INFO - Chain [1] start processing\n",
      "02:09:25 - cmdstanpy - INFO - Chain [1] start processing\n",
      "02:09:25 - cmdstanpy - INFO - Chain [1] start processing\n",
      "02:09:25 - cmdstanpy - INFO - Chain [1] start processing\n",
      "02:09:25 - cmdstanpy - INFO - Chain [1] done processing\n",
      "02:09:25 - cmdstanpy - INFO - Chain [1] start processing\n",
      "02:09:25 - cmdstanpy - INFO - Chain [1] start processing\n",
      "02:09:25 - cmdstanpy - INFO - Chain [1] done processing\n",
      "02:09:25 - cmdstanpy - INFO - Chain [1] done processing\n",
      "02:09:25 - cmdstanpy - INFO - Chain [1] done processing\n",
      "02:09:25 - cmdstanpy - INFO - Chain [1] done processing\n",
      "02:09:25 - cmdstanpy - INFO - Chain [1] done processing\n",
      "02:09:25 - cmdstanpy - INFO - Chain [1] done processing\n"
     ]
    },
    {
     "name": "stdout",
     "output_type": "stream",
     "text": [
      "[I 2025-08-23 02:09:26,129] Trial 25 finished with value: 552.9680551840412 and parameters: {'changepoint_prior_scale': 0.0023828563271412, 'seasonality_prior_scale': 2.160709155690715, 'holidays_prior_scale': 5.389360546376981}. Best is trial 10 with value: 540.0462671730058.\n"
     ]
    },
    {
     "name": "stderr",
     "output_type": "stream",
     "text": [
      "02:09:26 - cmdstanpy - INFO - Chain [1] start processing\n",
      "02:09:26 - cmdstanpy - INFO - Chain [1] done processing\n",
      "02:09:27 - cmdstanpy - INFO - Chain [1] start processing\n",
      "02:09:27 - cmdstanpy - INFO - Chain [1] done processing\n",
      "02:09:27 - cmdstanpy - INFO - Chain [1] start processing\n",
      "02:09:28 - cmdstanpy - INFO - Chain [1] done processing\n",
      "02:09:28 - cmdstanpy - INFO - Chain [1] start processing\n",
      "02:09:28 - cmdstanpy - INFO - Chain [1] start processing\n",
      "02:09:28 - cmdstanpy - INFO - Chain [1] start processing\n",
      "02:09:28 - cmdstanpy - INFO - Chain [1] start processing\n",
      "02:09:28 - cmdstanpy - INFO - Chain [1] start processing\n",
      "02:09:28 - cmdstanpy - INFO - Chain [1] start processing\n",
      "02:09:28 - cmdstanpy - INFO - Chain [1] start processing\n",
      "02:09:28 - cmdstanpy - INFO - Chain [1] start processing\n",
      "02:09:28 - cmdstanpy - INFO - Chain [1] done processing\n",
      "02:09:28 - cmdstanpy - INFO - Chain [1] done processing\n",
      "02:09:28 - cmdstanpy - INFO - Chain [1] done processing\n",
      "02:09:28 - cmdstanpy - INFO - Chain [1] done processing\n",
      "02:09:28 - cmdstanpy - INFO - Chain [1] done processing\n",
      "02:09:28 - cmdstanpy - INFO - Chain [1] done processing\n",
      "02:09:28 - cmdstanpy - INFO - Chain [1] done processing\n",
      "02:09:28 - cmdstanpy - INFO - Chain [1] done processing\n",
      "02:09:29 - cmdstanpy - INFO - Chain [1] start processing\n"
     ]
    },
    {
     "name": "stdout",
     "output_type": "stream",
     "text": [
      "[I 2025-08-23 02:09:29,194] Trial 26 finished with value: 568.0162720821395 and parameters: {'changepoint_prior_scale': 0.008143639636317306, 'seasonality_prior_scale': 7.330703996895829, 'holidays_prior_scale': 2.6835630439538076}. Best is trial 10 with value: 540.0462671730058.\n"
     ]
    },
    {
     "name": "stderr",
     "output_type": "stream",
     "text": [
      "02:09:29 - cmdstanpy - INFO - Chain [1] done processing\n",
      "02:09:30 - cmdstanpy - INFO - Chain [1] start processing\n",
      "02:09:31 - cmdstanpy - INFO - Chain [1] start processing\n",
      "02:09:31 - cmdstanpy - INFO - Chain [1] start processing\n",
      "02:09:31 - cmdstanpy - INFO - Chain [1] start processing\n",
      "02:09:31 - cmdstanpy - INFO - Chain [1] start processing\n",
      "02:09:31 - cmdstanpy - INFO - Chain [1] start processing\n",
      "02:09:31 - cmdstanpy - INFO - Chain [1] start processing\n",
      "02:09:31 - cmdstanpy - INFO - Chain [1] start processing\n",
      "02:09:31 - cmdstanpy - INFO - Chain [1] start processing\n",
      "02:09:31 - cmdstanpy - INFO - Chain [1] start processing\n",
      "02:09:32 - cmdstanpy - INFO - Chain [1] done processing\n",
      "02:09:32 - cmdstanpy - INFO - Chain [1] done processing\n",
      "02:09:32 - cmdstanpy - INFO - Chain [1] done processing\n",
      "02:09:32 - cmdstanpy - INFO - Chain [1] done processing\n",
      "02:09:32 - cmdstanpy - INFO - Chain [1] done processing\n",
      "02:09:32 - cmdstanpy - INFO - Chain [1] done processing\n",
      "02:09:32 - cmdstanpy - INFO - Chain [1] done processing\n",
      "02:09:32 - cmdstanpy - INFO - Chain [1] done processing\n",
      "02:09:32 - cmdstanpy - INFO - Chain [1] done processing\n",
      "02:09:32 - cmdstanpy - INFO - Chain [1] done processing\n"
     ]
    },
    {
     "name": "stdout",
     "output_type": "stream",
     "text": [
      "[I 2025-08-23 02:09:33,087] Trial 27 finished with value: 575.8491074813344 and parameters: {'changepoint_prior_scale': 0.09511736775161884, 'seasonality_prior_scale': 19.18956635230662, 'holidays_prior_scale': 15.139188917869731}. Best is trial 10 with value: 540.0462671730058.\n"
     ]
    },
    {
     "name": "stderr",
     "output_type": "stream",
     "text": [
      "02:09:33 - cmdstanpy - INFO - Chain [1] start processing\n",
      "02:09:33 - cmdstanpy - INFO - Chain [1] done processing\n",
      "02:09:33 - cmdstanpy - ERROR - Chain [1] error: error during processing Operation not permitted\n",
      "Optimization terminated abnormally. Falling back to Newton.\n",
      "02:09:33 - cmdstanpy - INFO - Chain [1] start processing\n",
      "02:09:35 - cmdstanpy - INFO - Chain [1] done processing\n",
      "02:09:37 - cmdstanpy - INFO - Chain [1] start processing\n",
      "02:09:37 - cmdstanpy - INFO - Chain [1] done processing\n",
      "02:09:37 - cmdstanpy - ERROR - Chain [1] error: error during processing Operation not permitted\n",
      "02:09:37 - cmdstanpy - INFO - Chain [1] start processing\n",
      "02:09:37 - cmdstanpy - INFO - Chain [1] start processing\n",
      "Optimization terminated abnormally. Falling back to Newton.\n",
      "02:09:37 - cmdstanpy - INFO - Chain [1] start processing\n",
      "02:09:37 - cmdstanpy - INFO - Chain [1] start processing\n",
      "02:09:37 - cmdstanpy - INFO - Chain [1] start processing\n",
      "02:09:37 - cmdstanpy - INFO - Chain [1] start processing\n",
      "02:09:37 - cmdstanpy - INFO - Chain [1] start processing\n",
      "02:09:37 - cmdstanpy - INFO - Chain [1] start processing\n",
      "02:09:37 - cmdstanpy - INFO - Chain [1] done processing\n",
      "02:09:37 - cmdstanpy - INFO - Chain [1] done processing\n",
      "02:09:37 - cmdstanpy - INFO - Chain [1] done processing\n",
      "02:09:37 - cmdstanpy - INFO - Chain [1] start processing\n",
      "02:09:37 - cmdstanpy - ERROR - Chain [1] error: error during processing Operation not permitted\n",
      "02:09:37 - cmdstanpy - ERROR - Chain [1] error: error during processing Operation not permitted\n",
      "02:09:37 - cmdstanpy - ERROR - Chain [1] error: error during processing Operation not permitted\n",
      "02:09:37 - cmdstanpy - INFO - Chain [1] done processing\n",
      "02:09:38 - cmdstanpy - INFO - Chain [1] done processing\n",
      "Optimization terminated abnormally. Falling back to Newton.\n",
      "02:09:38 - cmdstanpy - INFO - Chain [1] done processing\n",
      "Optimization terminated abnormally. Falling back to Newton.\n",
      "02:09:38 - cmdstanpy - INFO - Chain [1] start processing\n",
      "02:09:38 - cmdstanpy - INFO - Chain [1] done processing\n",
      "Optimization terminated abnormally. Falling back to Newton.\n",
      "02:09:38 - cmdstanpy - ERROR - Chain [1] error: error during processing Operation not permitted\n",
      "02:09:38 - cmdstanpy - ERROR - Chain [1] error: error during processing Operation not permitted\n",
      "Optimization terminated abnormally. Falling back to Newton.\n",
      "02:09:38 - cmdstanpy - ERROR - Chain [1] error: error during processing Operation not permitted\n",
      "02:09:38 - cmdstanpy - INFO - Chain [1] done processing\n",
      "02:09:38 - cmdstanpy - INFO - Chain [1] done processing\n",
      "Optimization terminated abnormally. Falling back to Newton.\n",
      "02:09:38 - cmdstanpy - ERROR - Chain [1] error: error during processing Operation not permitted\n",
      "Optimization terminated abnormally. Falling back to Newton.\n",
      "02:09:38 - cmdstanpy - ERROR - Chain [1] error: error during processing Operation not permitted\n",
      "02:09:38 - cmdstanpy - ERROR - Chain [1] error: error during processing Operation not permitted\n",
      "02:09:38 - cmdstanpy - INFO - Chain [1] start processing\n",
      "Optimization terminated abnormally. Falling back to Newton.\n",
      "Optimization terminated abnormally. Falling back to Newton.\n",
      "02:09:38 - cmdstanpy - INFO - Chain [1] start processing\n",
      "02:09:38 - cmdstanpy - INFO - Chain [1] start processing\n",
      "Optimization terminated abnormally. Falling back to Newton.\n",
      "02:09:39 - cmdstanpy - INFO - Chain [1] start processing\n",
      "02:09:39 - cmdstanpy - INFO - Chain [1] start processing\n",
      "02:09:39 - cmdstanpy - INFO - Chain [1] start processing\n",
      "02:09:39 - cmdstanpy - INFO - Chain [1] start processing\n",
      "02:09:39 - cmdstanpy - INFO - Chain [1] start processing\n",
      "02:09:39 - cmdstanpy - INFO - Chain [1] start processing\n",
      "02:09:43 - cmdstanpy - INFO - Chain [1] done processing\n",
      "02:09:46 - cmdstanpy - INFO - Chain [1] done processing\n",
      "02:09:48 - cmdstanpy - INFO - Chain [1] done processing\n",
      "02:09:48 - cmdstanpy - INFO - Chain [1] done processing\n",
      "02:09:48 - cmdstanpy - INFO - Chain [1] done processing\n",
      "02:09:50 - cmdstanpy - INFO - Chain [1] done processing\n",
      "02:09:54 - cmdstanpy - INFO - Chain [1] done processing\n",
      "02:09:58 - cmdstanpy - INFO - Chain [1] done processing\n",
      "02:10:12 - cmdstanpy - INFO - Chain [1] done processing\n",
      "02:10:15 - cmdstanpy - INFO - Chain [1] done processing\n"
     ]
    },
    {
     "name": "stdout",
     "output_type": "stream",
     "text": [
      "[I 2025-08-23 02:10:15,724] Trial 28 finished with value: 568.6784122047951 and parameters: {'changepoint_prior_scale': 0.00022619963681488615, 'seasonality_prior_scale': 0.9948794307295926, 'holidays_prior_scale': 0.503434249938295}. Best is trial 10 with value: 540.0462671730058.\n"
     ]
    },
    {
     "name": "stderr",
     "output_type": "stream",
     "text": [
      "02:10:15 - cmdstanpy - INFO - Chain [1] start processing\n",
      "02:10:16 - cmdstanpy - INFO - Chain [1] done processing\n",
      "02:10:16 - cmdstanpy - INFO - Chain [1] start processing\n",
      "02:10:17 - cmdstanpy - INFO - Chain [1] done processing\n",
      "02:10:17 - cmdstanpy - INFO - Chain [1] start processing\n",
      "02:10:17 - cmdstanpy - INFO - Chain [1] start processing\n",
      "02:10:17 - cmdstanpy - INFO - Chain [1] done processing\n",
      "02:10:17 - cmdstanpy - INFO - Chain [1] start processing\n",
      "02:10:17 - cmdstanpy - INFO - Chain [1] start processing\n",
      "02:10:17 - cmdstanpy - INFO - Chain [1] done processing\n",
      "02:10:18 - cmdstanpy - INFO - Chain [1] start processing\n",
      "02:10:18 - cmdstanpy - INFO - Chain [1] start processing\n",
      "02:10:18 - cmdstanpy - INFO - Chain [1] start processing\n",
      "02:10:18 - cmdstanpy - INFO - Chain [1] start processing\n",
      "02:10:18 - cmdstanpy - INFO - Chain [1] start processing\n",
      "02:10:18 - cmdstanpy - INFO - Chain [1] done processing\n",
      "02:10:18 - cmdstanpy - INFO - Chain [1] done processing\n",
      "02:10:18 - cmdstanpy - INFO - Chain [1] done processing\n",
      "02:10:18 - cmdstanpy - ERROR - Chain [1] error: error during processing Operation not permitted\n",
      "02:10:18 - cmdstanpy - INFO - Chain [1] done processing\n",
      "02:10:18 - cmdstanpy - INFO - Chain [1] done processing\n",
      "Optimization terminated abnormally. Falling back to Newton.\n",
      "02:10:18 - cmdstanpy - INFO - Chain [1] done processing\n",
      "02:10:18 - cmdstanpy - ERROR - Chain [1] error: error during processing Operation not permitted\n",
      "02:10:18 - cmdstanpy - INFO - Chain [1] done processing\n",
      "02:10:18 - cmdstanpy - ERROR - Chain [1] error: error during processing Operation not permitted\n",
      "Optimization terminated abnormally. Falling back to Newton.\n",
      "Optimization terminated abnormally. Falling back to Newton.\n",
      "02:10:18 - cmdstanpy - INFO - Chain [1] start processing\n",
      "02:10:18 - cmdstanpy - INFO - Chain [1] start processing\n",
      "02:10:18 - cmdstanpy - INFO - Chain [1] start processing\n",
      "02:10:21 - cmdstanpy - INFO - Chain [1] done processing\n",
      "02:10:21 - cmdstanpy - INFO - Chain [1] done processing\n",
      "02:10:22 - cmdstanpy - INFO - Chain [1] done processing\n"
     ]
    },
    {
     "name": "stdout",
     "output_type": "stream",
     "text": [
      "[I 2025-08-23 02:10:22,384] Trial 29 finished with value: 758.3218933392762 and parameters: {'changepoint_prior_scale': 0.0009508999214042876, 'seasonality_prior_scale': 21.235813127128235, 'holidays_prior_scale': 1.0485857302164585}. Best is trial 10 with value: 540.0462671730058.\n"
     ]
    },
    {
     "name": "stderr",
     "output_type": "stream",
     "text": [
      "02:10:22 - cmdstanpy - INFO - Chain [1] start processing\n",
      "02:10:22 - cmdstanpy - INFO - Chain [1] done processing\n",
      "02:10:23 - cmdstanpy - INFO - Chain [1] start processing\n",
      "02:10:23 - cmdstanpy - INFO - Chain [1] done processing\n",
      "02:10:24 - cmdstanpy - INFO - Chain [1] start processing\n",
      "02:10:24 - cmdstanpy - INFO - Chain [1] start processing\n",
      "02:10:24 - cmdstanpy - INFO - Chain [1] start processing\n",
      "02:10:24 - cmdstanpy - INFO - Chain [1] start processing\n",
      "02:10:25 - cmdstanpy - INFO - Chain [1] start processing\n",
      "02:10:25 - cmdstanpy - INFO - Chain [1] start processing\n",
      "02:10:25 - cmdstanpy - INFO - Chain [1] start processing\n",
      "02:10:25 - cmdstanpy - INFO - Chain [1] start processing\n",
      "02:10:25 - cmdstanpy - INFO - Chain [1] done processing\n",
      "02:10:25 - cmdstanpy - INFO - Chain [1] start processing\n",
      "02:10:25 - cmdstanpy - INFO - Chain [1] done processing\n",
      "02:10:25 - cmdstanpy - INFO - Chain [1] done processing\n",
      "02:10:25 - cmdstanpy - INFO - Chain [1] done processing\n",
      "02:10:25 - cmdstanpy - INFO - Chain [1] done processing\n",
      "02:10:25 - cmdstanpy - INFO - Chain [1] done processing\n",
      "02:10:25 - cmdstanpy - INFO - Chain [1] done processing\n",
      "02:10:25 - cmdstanpy - INFO - Chain [1] done processing\n",
      "02:10:25 - cmdstanpy - INFO - Chain [1] done processing\n"
     ]
    },
    {
     "name": "stdout",
     "output_type": "stream",
     "text": [
      "[I 2025-08-23 02:10:26,100] Trial 30 finished with value: 575.0811566078302 and parameters: {'changepoint_prior_scale': 0.002241283930405717, 'seasonality_prior_scale': 7.900079357800541, 'holidays_prior_scale': 4.802453591645142}. Best is trial 10 with value: 540.0462671730058.\n"
     ]
    },
    {
     "name": "stderr",
     "output_type": "stream",
     "text": [
      "02:10:26 - cmdstanpy - INFO - Chain [1] start processing\n",
      "02:10:26 - cmdstanpy - INFO - Chain [1] done processing\n",
      "02:10:27 - cmdstanpy - INFO - Chain [1] start processing\n",
      "02:10:27 - cmdstanpy - INFO - Chain [1] done processing\n",
      "02:10:27 - cmdstanpy - INFO - Chain [1] start processing\n",
      "02:10:28 - cmdstanpy - INFO - Chain [1] done processing\n",
      "02:10:28 - cmdstanpy - INFO - Chain [1] start processing\n",
      "02:10:28 - cmdstanpy - INFO - Chain [1] start processing\n",
      "02:10:28 - cmdstanpy - INFO - Chain [1] start processing\n",
      "02:10:28 - cmdstanpy - INFO - Chain [1] start processing\n",
      "02:10:28 - cmdstanpy - INFO - Chain [1] done processing\n",
      "02:10:28 - cmdstanpy - INFO - Chain [1] start processing\n",
      "02:10:28 - cmdstanpy - INFO - Chain [1] start processing\n",
      "02:10:28 - cmdstanpy - INFO - Chain [1] done processing\n",
      "02:10:28 - cmdstanpy - INFO - Chain [1] done processing\n",
      "02:10:28 - cmdstanpy - INFO - Chain [1] start processing\n",
      "02:10:28 - cmdstanpy - INFO - Chain [1] done processing\n",
      "02:10:28 - cmdstanpy - INFO - Chain [1] start processing\n",
      "02:10:28 - cmdstanpy - INFO - Chain [1] done processing\n",
      "02:10:28 - cmdstanpy - INFO - Chain [1] done processing\n",
      "02:10:28 - cmdstanpy - INFO - Chain [1] done processing\n",
      "02:10:28 - cmdstanpy - INFO - Chain [1] done processing\n"
     ]
    },
    {
     "name": "stdout",
     "output_type": "stream",
     "text": [
      "[I 2025-08-23 02:10:29,114] Trial 31 finished with value: 569.8290129881258 and parameters: {'changepoint_prior_scale': 0.00713461651356327, 'seasonality_prior_scale': 2.398758627872292, 'holidays_prior_scale': 4.694834597675287}. Best is trial 10 with value: 540.0462671730058.\n"
     ]
    },
    {
     "name": "stderr",
     "output_type": "stream",
     "text": [
      "02:10:29 - cmdstanpy - INFO - Chain [1] start processing\n",
      "02:10:29 - cmdstanpy - INFO - Chain [1] done processing\n",
      "02:10:30 - cmdstanpy - INFO - Chain [1] start processing\n",
      "02:10:30 - cmdstanpy - INFO - Chain [1] done processing\n",
      "02:10:31 - cmdstanpy - INFO - Chain [1] start processing\n",
      "02:10:31 - cmdstanpy - INFO - Chain [1] start processing\n",
      "02:10:31 - cmdstanpy - INFO - Chain [1] start processing\n",
      "02:10:31 - cmdstanpy - INFO - Chain [1] start processing\n",
      "02:10:31 - cmdstanpy - INFO - Chain [1] start processing\n",
      "02:10:31 - cmdstanpy - INFO - Chain [1] done processing\n",
      "02:10:31 - cmdstanpy - INFO - Chain [1] start processing\n",
      "02:10:31 - cmdstanpy - INFO - Chain [1] start processing\n",
      "02:10:31 - cmdstanpy - INFO - Chain [1] start processing\n",
      "02:10:31 - cmdstanpy - INFO - Chain [1] start processing\n",
      "02:10:31 - cmdstanpy - INFO - Chain [1] done processing\n",
      "02:10:31 - cmdstanpy - INFO - Chain [1] done processing\n",
      "02:10:31 - cmdstanpy - INFO - Chain [1] done processing\n",
      "02:10:31 - cmdstanpy - INFO - Chain [1] done processing\n",
      "02:10:31 - cmdstanpy - INFO - Chain [1] done processing\n",
      "02:10:31 - cmdstanpy - INFO - Chain [1] done processing\n",
      "02:10:31 - cmdstanpy - INFO - Chain [1] done processing\n",
      "02:10:31 - cmdstanpy - INFO - Chain [1] done processing\n",
      "02:10:32 - cmdstanpy - INFO - Chain [1] start processing\n"
     ]
    },
    {
     "name": "stdout",
     "output_type": "stream",
     "text": [
      "[I 2025-08-23 02:10:32,397] Trial 32 finished with value: 530.5179269603154 and parameters: {'changepoint_prior_scale': 0.0025178305740946876, 'seasonality_prior_scale': 1.6667875832972159, 'holidays_prior_scale': 7.845337399387722}. Best is trial 32 with value: 530.5179269603154.\n"
     ]
    },
    {
     "name": "stderr",
     "output_type": "stream",
     "text": [
      "02:10:32 - cmdstanpy - INFO - Chain [1] done processing\n",
      "02:10:33 - cmdstanpy - INFO - Chain [1] start processing\n",
      "02:10:34 - cmdstanpy - INFO - Chain [1] done processing\n",
      "02:10:34 - cmdstanpy - INFO - Chain [1] start processing\n",
      "02:10:34 - cmdstanpy - INFO - Chain [1] start processing\n",
      "02:10:34 - cmdstanpy - INFO - Chain [1] start processing\n",
      "02:10:34 - cmdstanpy - INFO - Chain [1] start processing\n",
      "02:10:34 - cmdstanpy - INFO - Chain [1] start processing\n",
      "02:10:34 - cmdstanpy - INFO - Chain [1] start processing\n",
      "02:10:34 - cmdstanpy - INFO - Chain [1] start processing\n",
      "02:10:34 - cmdstanpy - INFO - Chain [1] start processing\n",
      "02:10:34 - cmdstanpy - INFO - Chain [1] start processing\n",
      "02:10:34 - cmdstanpy - INFO - Chain [1] done processing\n",
      "02:10:34 - cmdstanpy - INFO - Chain [1] done processing\n",
      "02:10:34 - cmdstanpy - INFO - Chain [1] done processing\n",
      "02:10:34 - cmdstanpy - INFO - Chain [1] done processing\n",
      "02:10:35 - cmdstanpy - INFO - Chain [1] done processing\n",
      "02:10:35 - cmdstanpy - INFO - Chain [1] done processing\n",
      "02:10:35 - cmdstanpy - INFO - Chain [1] done processing\n",
      "02:10:35 - cmdstanpy - INFO - Chain [1] done processing\n",
      "02:10:35 - cmdstanpy - INFO - Chain [1] done processing\n"
     ]
    },
    {
     "name": "stdout",
     "output_type": "stream",
     "text": [
      "[I 2025-08-23 02:10:35,722] Trial 33 finished with value: 579.4843414553644 and parameters: {'changepoint_prior_scale': 0.0021225954543890838, 'seasonality_prior_scale': 1.2051014319583437, 'holidays_prior_scale': 33.570058155931676}. Best is trial 32 with value: 530.5179269603154.\n"
     ]
    },
    {
     "name": "stderr",
     "output_type": "stream",
     "text": [
      "02:10:35 - cmdstanpy - INFO - Chain [1] start processing\n",
      "02:10:36 - cmdstanpy - INFO - Chain [1] done processing\n",
      "02:10:37 - cmdstanpy - INFO - Chain [1] start processing\n",
      "02:10:37 - cmdstanpy - INFO - Chain [1] done processing\n",
      "02:10:37 - cmdstanpy - INFO - Chain [1] start processing\n",
      "02:10:37 - cmdstanpy - INFO - Chain [1] start processing\n",
      "02:10:37 - cmdstanpy - INFO - Chain [1] done processing\n",
      "02:10:37 - cmdstanpy - INFO - Chain [1] start processing\n",
      "02:10:37 - cmdstanpy - INFO - Chain [1] start processing\n",
      "02:10:37 - cmdstanpy - INFO - Chain [1] start processing\n",
      "02:10:37 - cmdstanpy - INFO - Chain [1] done processing\n",
      "02:10:37 - cmdstanpy - INFO - Chain [1] start processing\n",
      "02:10:37 - cmdstanpy - INFO - Chain [1] start processing\n",
      "02:10:37 - cmdstanpy - INFO - Chain [1] start processing\n",
      "02:10:37 - cmdstanpy - INFO - Chain [1] start processing\n",
      "02:10:38 - cmdstanpy - INFO - Chain [1] done processing\n",
      "02:10:38 - cmdstanpy - INFO - Chain [1] done processing\n",
      "02:10:38 - cmdstanpy - INFO - Chain [1] done processing\n",
      "02:10:38 - cmdstanpy - INFO - Chain [1] done processing\n",
      "02:10:38 - cmdstanpy - INFO - Chain [1] done processing\n",
      "02:10:38 - cmdstanpy - INFO - Chain [1] done processing\n",
      "02:10:38 - cmdstanpy - INFO - Chain [1] done processing\n"
     ]
    },
    {
     "name": "stdout",
     "output_type": "stream",
     "text": [
      "[I 2025-08-23 02:10:38,718] Trial 34 finished with value: 552.9719002825204 and parameters: {'changepoint_prior_scale': 0.0043675331605917255, 'seasonality_prior_scale': 3.4720605242829383, 'holidays_prior_scale': 8.091259716379216}. Best is trial 32 with value: 530.5179269603154.\n"
     ]
    },
    {
     "name": "stderr",
     "output_type": "stream",
     "text": [
      "02:10:38 - cmdstanpy - INFO - Chain [1] start processing\n",
      "02:10:39 - cmdstanpy - INFO - Chain [1] done processing\n",
      "02:10:40 - cmdstanpy - INFO - Chain [1] start processing\n",
      "02:10:40 - cmdstanpy - INFO - Chain [1] done processing\n",
      "02:10:40 - cmdstanpy - INFO - Chain [1] start processing\n",
      "02:10:40 - cmdstanpy - INFO - Chain [1] start processing\n",
      "02:10:40 - cmdstanpy - INFO - Chain [1] start processing\n",
      "02:10:40 - cmdstanpy - INFO - Chain [1] start processing\n",
      "02:10:40 - cmdstanpy - INFO - Chain [1] done processing\n",
      "02:10:41 - cmdstanpy - INFO - Chain [1] start processing\n",
      "02:10:41 - cmdstanpy - INFO - Chain [1] start processing\n",
      "02:10:41 - cmdstanpy - INFO - Chain [1] done processing\n",
      "02:10:41 - cmdstanpy - INFO - Chain [1] done processing\n",
      "02:10:41 - cmdstanpy - INFO - Chain [1] start processing\n",
      "02:10:41 - cmdstanpy - ERROR - Chain [1] error: error during processing Operation not permitted\n",
      "02:10:41 - cmdstanpy - INFO - Chain [1] start processing\n",
      "02:10:41 - cmdstanpy - ERROR - Chain [1] error: error during processing Operation not permitted\n",
      "02:10:41 - cmdstanpy - INFO - Chain [1] done processing\n",
      "02:10:41 - cmdstanpy - INFO - Chain [1] start processing\n",
      "Optimization terminated abnormally. Falling back to Newton.\n",
      "02:10:41 - cmdstanpy - ERROR - Chain [1] error: error during processing Operation not permitted\n",
      "Optimization terminated abnormally. Falling back to Newton.\n",
      "02:10:41 - cmdstanpy - INFO - Chain [1] done processing\n",
      "Optimization terminated abnormally. Falling back to Newton.\n",
      "02:10:41 - cmdstanpy - INFO - Chain [1] done processing\n",
      "02:10:41 - cmdstanpy - INFO - Chain [1] done processing\n",
      "02:10:41 - cmdstanpy - ERROR - Chain [1] error: error during processing Operation not permitted\n",
      "02:10:41 - cmdstanpy - INFO - Chain [1] done processing\n",
      "02:10:41 - cmdstanpy - INFO - Chain [1] done processing\n",
      "Optimization terminated abnormally. Falling back to Newton.\n",
      "02:10:41 - cmdstanpy - ERROR - Chain [1] error: error during processing Operation not permitted\n",
      "02:10:41 - cmdstanpy - INFO - Chain [1] start processing\n",
      "Optimization terminated abnormally. Falling back to Newton.\n",
      "02:10:41 - cmdstanpy - INFO - Chain [1] start processing\n",
      "02:10:42 - cmdstanpy - INFO - Chain [1] start processing\n",
      "02:10:42 - cmdstanpy - INFO - Chain [1] start processing\n",
      "02:10:42 - cmdstanpy - INFO - Chain [1] start processing\n",
      "02:10:44 - cmdstanpy - INFO - Chain [1] done processing\n",
      "02:10:45 - cmdstanpy - INFO - Chain [1] done processing\n",
      "02:10:46 - cmdstanpy - INFO - Chain [1] done processing\n",
      "02:10:46 - cmdstanpy - INFO - Chain [1] done processing\n",
      "02:11:00 - cmdstanpy - INFO - Chain [1] done processing\n"
     ]
    },
    {
     "name": "stdout",
     "output_type": "stream",
     "text": [
      "[I 2025-08-23 02:11:00,858] Trial 35 finished with value: 1051.7298890637082 and parameters: {'changepoint_prior_scale': 0.0007636208102984226, 'seasonality_prior_scale': 1.2695010219347576, 'holidays_prior_scale': 17.029103913782244}. Best is trial 32 with value: 530.5179269603154.\n"
     ]
    },
    {
     "name": "stderr",
     "output_type": "stream",
     "text": [
      "02:11:01 - cmdstanpy - INFO - Chain [1] start processing\n",
      "02:11:01 - cmdstanpy - INFO - Chain [1] done processing\n",
      "02:11:01 - cmdstanpy - INFO - Chain [1] start processing\n",
      "02:11:02 - cmdstanpy - INFO - Chain [1] done processing\n",
      "02:11:02 - cmdstanpy - INFO - Chain [1] start processing\n",
      "02:11:02 - cmdstanpy - INFO - Chain [1] start processing\n",
      "02:11:02 - cmdstanpy - INFO - Chain [1] start processing\n",
      "02:11:02 - cmdstanpy - INFO - Chain [1] start processing\n",
      "02:11:02 - cmdstanpy - INFO - Chain [1] start processing\n",
      "02:11:02 - cmdstanpy - INFO - Chain [1] start processing\n",
      "02:11:03 - cmdstanpy - INFO - Chain [1] start processing\n",
      "02:11:03 - cmdstanpy - INFO - Chain [1] start processing\n",
      "02:11:03 - cmdstanpy - INFO - Chain [1] start processing\n",
      "02:11:03 - cmdstanpy - INFO - Chain [1] done processing\n",
      "02:11:03 - cmdstanpy - INFO - Chain [1] done processing\n",
      "02:11:03 - cmdstanpy - INFO - Chain [1] done processing\n",
      "02:11:03 - cmdstanpy - INFO - Chain [1] done processing\n",
      "02:11:03 - cmdstanpy - INFO - Chain [1] done processing\n",
      "02:11:03 - cmdstanpy - INFO - Chain [1] done processing\n",
      "02:11:03 - cmdstanpy - INFO - Chain [1] done processing\n",
      "02:11:03 - cmdstanpy - INFO - Chain [1] done processing\n",
      "02:11:03 - cmdstanpy - INFO - Chain [1] done processing\n"
     ]
    },
    {
     "name": "stdout",
     "output_type": "stream",
     "text": [
      "[I 2025-08-23 02:11:03,914] Trial 36 finished with value: 566.882573087391 and parameters: {'changepoint_prior_scale': 0.01944492379109776, 'seasonality_prior_scale': 0.3398167443192598, 'holidays_prior_scale': 2.5127888351907246}. Best is trial 32 with value: 530.5179269603154.\n"
     ]
    },
    {
     "name": "stderr",
     "output_type": "stream",
     "text": [
      "02:11:04 - cmdstanpy - INFO - Chain [1] start processing\n",
      "02:11:04 - cmdstanpy - INFO - Chain [1] done processing\n",
      "02:11:05 - cmdstanpy - INFO - Chain [1] start processing\n",
      "02:11:05 - cmdstanpy - INFO - Chain [1] start processing\n",
      "02:11:05 - cmdstanpy - INFO - Chain [1] start processing\n",
      "02:11:05 - cmdstanpy - INFO - Chain [1] start processing\n",
      "02:11:05 - cmdstanpy - INFO - Chain [1] done processing\n",
      "02:11:06 - cmdstanpy - INFO - Chain [1] done processing\n",
      "02:11:06 - cmdstanpy - INFO - Chain [1] start processing\n",
      "02:11:06 - cmdstanpy - INFO - Chain [1] start processing\n",
      "02:11:06 - cmdstanpy - INFO - Chain [1] done processing\n",
      "02:11:06 - cmdstanpy - INFO - Chain [1] done processing\n",
      "02:11:06 - cmdstanpy - INFO - Chain [1] start processing\n",
      "02:11:06 - cmdstanpy - INFO - Chain [1] start processing\n",
      "02:11:06 - cmdstanpy - INFO - Chain [1] done processing\n",
      "02:11:06 - cmdstanpy - INFO - Chain [1] done processing\n",
      "02:11:06 - cmdstanpy - INFO - Chain [1] start processing\n",
      "02:11:06 - cmdstanpy - ERROR - Chain [1] error: error during processing Operation not permitted\n",
      "02:11:06 - cmdstanpy - INFO - Chain [1] start processing\n",
      "02:11:06 - cmdstanpy - INFO - Chain [1] done processing\n",
      "02:11:06 - cmdstanpy - INFO - Chain [1] done processing\n",
      "Optimization terminated abnormally. Falling back to Newton.\n",
      "02:11:06 - cmdstanpy - INFO - Chain [1] done processing\n",
      "02:11:06 - cmdstanpy - INFO - Chain [1] done processing\n",
      "02:11:07 - cmdstanpy - INFO - Chain [1] start processing\n",
      "02:11:08 - cmdstanpy - INFO - Chain [1] done processing\n",
      "02:11:09 - cmdstanpy - INFO - Chain [1] start processing\n"
     ]
    },
    {
     "name": "stdout",
     "output_type": "stream",
     "text": [
      "[I 2025-08-23 02:11:08,909] Trial 37 finished with value: 562.1849794205264 and parameters: {'changepoint_prior_scale': 0.001462752876444853, 'seasonality_prior_scale': 22.02662480232133, 'holidays_prior_scale': 1.3585419186794512}. Best is trial 32 with value: 530.5179269603154.\n"
     ]
    },
    {
     "name": "stderr",
     "output_type": "stream",
     "text": [
      "02:11:09 - cmdstanpy - INFO - Chain [1] done processing\n",
      "02:11:09 - cmdstanpy - ERROR - Chain [1] error: error during processing Operation not permitted\n",
      "Optimization terminated abnormally. Falling back to Newton.\n",
      "02:11:09 - cmdstanpy - INFO - Chain [1] start processing\n",
      "02:11:11 - cmdstanpy - INFO - Chain [1] done processing\n",
      "02:11:12 - cmdstanpy - INFO - Chain [1] start processing\n",
      "02:11:12 - cmdstanpy - INFO - Chain [1] start processing\n",
      "02:11:12 - cmdstanpy - INFO - Chain [1] done processing\n",
      "02:11:12 - cmdstanpy - INFO - Chain [1] start processing\n",
      "02:11:12 - cmdstanpy - ERROR - Chain [1] error: error during processing Operation not permitted\n",
      "02:11:12 - cmdstanpy - INFO - Chain [1] start processing\n",
      "02:11:13 - cmdstanpy - INFO - Chain [1] done processing\n",
      "Optimization terminated abnormally. Falling back to Newton.\n",
      "02:11:13 - cmdstanpy - INFO - Chain [1] start processing\n",
      "02:11:13 - cmdstanpy - INFO - Chain [1] done processing\n",
      "02:11:13 - cmdstanpy - INFO - Chain [1] start processing\n",
      "02:11:13 - cmdstanpy - INFO - Chain [1] start processing\n",
      "02:11:13 - cmdstanpy - ERROR - Chain [1] error: error during processing Operation not permitted\n",
      "02:11:13 - cmdstanpy - INFO - Chain [1] start processing\n",
      "02:11:13 - cmdstanpy - ERROR - Chain [1] error: error during processing Operation not permitted\n",
      "02:11:13 - cmdstanpy - INFO - Chain [1] start processing\n",
      "02:11:13 - cmdstanpy - INFO - Chain [1] start processing\n",
      "02:11:13 - cmdstanpy - INFO - Chain [1] done processing\n",
      "Optimization terminated abnormally. Falling back to Newton.\n",
      "Optimization terminated abnormally. Falling back to Newton.\n",
      "02:11:13 - cmdstanpy - INFO - Chain [1] done processing\n",
      "02:11:13 - cmdstanpy - INFO - Chain [1] done processing\n",
      "02:11:13 - cmdstanpy - ERROR - Chain [1] error: error during processing Operation not permitted\n",
      "02:11:13 - cmdstanpy - INFO - Chain [1] done processing\n",
      "02:11:13 - cmdstanpy - ERROR - Chain [1] error: error during processing Operation not permitted\n",
      "Optimization terminated abnormally. Falling back to Newton.\n",
      "02:11:13 - cmdstanpy - ERROR - Chain [1] error: error during processing Operation not permitted\n",
      "02:11:13 - cmdstanpy - INFO - Chain [1] done processing\n",
      "02:11:13 - cmdstanpy - INFO - Chain [1] done processing\n",
      "Optimization terminated abnormally. Falling back to Newton.\n",
      "Optimization terminated abnormally. Falling back to Newton.\n",
      "02:11:13 - cmdstanpy - ERROR - Chain [1] error: error during processing Operation not permitted\n",
      "02:11:13 - cmdstanpy - INFO - Chain [1] start processing\n",
      "Optimization terminated abnormally. Falling back to Newton.\n",
      "02:11:13 - cmdstanpy - INFO - Chain [1] done processing\n",
      "02:11:13 - cmdstanpy - ERROR - Chain [1] error: error during processing Operation not permitted\n",
      "02:11:13 - cmdstanpy - ERROR - Chain [1] error: error during processing Operation not permitted\n",
      "02:11:13 - cmdstanpy - INFO - Chain [1] start processing\n",
      "Optimization terminated abnormally. Falling back to Newton.\n",
      "02:11:13 - cmdstanpy - INFO - Chain [1] start processing\n",
      "Optimization terminated abnormally. Falling back to Newton.\n",
      "02:11:13 - cmdstanpy - ERROR - Chain [1] error: error during processing Operation not permitted\n",
      "02:11:14 - cmdstanpy - INFO - Chain [1] start processing\n",
      "02:11:14 - cmdstanpy - INFO - Chain [1] start processing\n",
      "02:11:14 - cmdstanpy - INFO - Chain [1] start processing\n",
      "Optimization terminated abnormally. Falling back to Newton.\n",
      "02:11:14 - cmdstanpy - INFO - Chain [1] start processing\n",
      "02:11:14 - cmdstanpy - INFO - Chain [1] start processing\n",
      "02:11:14 - cmdstanpy - INFO - Chain [1] start processing\n",
      "02:11:14 - cmdstanpy - INFO - Chain [1] start processing\n",
      "02:11:18 - cmdstanpy - INFO - Chain [1] done processing\n",
      "02:11:19 - cmdstanpy - INFO - Chain [1] done processing\n",
      "02:11:24 - cmdstanpy - INFO - Chain [1] done processing\n",
      "02:11:26 - cmdstanpy - INFO - Chain [1] done processing\n",
      "02:11:27 - cmdstanpy - INFO - Chain [1] done processing\n",
      "02:11:31 - cmdstanpy - INFO - Chain [1] done processing\n",
      "02:11:44 - cmdstanpy - INFO - Chain [1] done processing\n",
      "02:11:49 - cmdstanpy - INFO - Chain [1] done processing\n",
      "02:12:19 - cmdstanpy - INFO - Chain [1] done processing\n",
      "02:12:44 - cmdstanpy - INFO - Chain [1] done processing\n"
     ]
    },
    {
     "name": "stdout",
     "output_type": "stream",
     "text": [
      "[I 2025-08-23 02:12:44,282] Trial 38 finished with value: 569.2314213979963 and parameters: {'changepoint_prior_scale': 0.00017789857436339713, 'seasonality_prior_scale': 0.6854330243677307, 'holidays_prior_scale': 3.803823535291698}. Best is trial 32 with value: 530.5179269603154.\n"
     ]
    },
    {
     "name": "stderr",
     "output_type": "stream",
     "text": [
      "02:12:44 - cmdstanpy - INFO - Chain [1] start processing\n",
      "02:12:44 - cmdstanpy - INFO - Chain [1] done processing\n",
      "02:12:45 - cmdstanpy - INFO - Chain [1] start processing\n",
      "02:12:45 - cmdstanpy - INFO - Chain [1] done processing\n",
      "02:12:46 - cmdstanpy - INFO - Chain [1] start processing\n",
      "02:12:46 - cmdstanpy - INFO - Chain [1] done processing\n",
      "02:12:46 - cmdstanpy - INFO - Chain [1] start processing\n",
      "02:12:46 - cmdstanpy - INFO - Chain [1] start processing\n",
      "02:12:46 - cmdstanpy - INFO - Chain [1] start processing\n",
      "02:12:46 - cmdstanpy - INFO - Chain [1] start processing\n",
      "02:12:46 - cmdstanpy - INFO - Chain [1] start processing\n",
      "02:12:46 - cmdstanpy - INFO - Chain [1] start processing\n",
      "02:12:46 - cmdstanpy - INFO - Chain [1] start processing\n",
      "02:12:46 - cmdstanpy - INFO - Chain [1] start processing\n",
      "02:12:46 - cmdstanpy - INFO - Chain [1] done processing\n",
      "02:12:46 - cmdstanpy - INFO - Chain [1] done processing\n",
      "02:12:46 - cmdstanpy - INFO - Chain [1] done processing\n",
      "02:12:46 - cmdstanpy - INFO - Chain [1] done processing\n",
      "02:12:46 - cmdstanpy - INFO - Chain [1] done processing\n",
      "02:12:46 - cmdstanpy - INFO - Chain [1] done processing\n",
      "02:12:46 - cmdstanpy - INFO - Chain [1] done processing\n",
      "02:12:46 - cmdstanpy - INFO - Chain [1] done processing\n"
     ]
    },
    {
     "name": "stdout",
     "output_type": "stream",
     "text": [
      "[I 2025-08-23 02:12:47,211] Trial 39 finished with value: 556.3204575535445 and parameters: {'changepoint_prior_scale': 0.0031388946598664446, 'seasonality_prior_scale': 6.2789147882113845, 'holidays_prior_scale': 0.5951072968868861}. Best is trial 32 with value: 530.5179269603154.\n"
     ]
    },
    {
     "name": "stderr",
     "output_type": "stream",
     "text": [
      "02:12:47 - cmdstanpy - INFO - Chain [1] start processing\n",
      "02:12:47 - cmdstanpy - INFO - Chain [1] done processing\n",
      "02:12:48 - cmdstanpy - INFO - Chain [1] start processing\n",
      "02:12:48 - cmdstanpy - INFO - Chain [1] done processing\n",
      "02:12:48 - cmdstanpy - ERROR - Chain [1] error: error during processing Operation not permitted\n",
      "Optimization terminated abnormally. Falling back to Newton.\n",
      "02:12:49 - cmdstanpy - INFO - Chain [1] start processing\n",
      "02:12:49 - cmdstanpy - INFO - Chain [1] start processing\n",
      "02:12:49 - cmdstanpy - INFO - Chain [1] start processing\n",
      "02:12:49 - cmdstanpy - INFO - Chain [1] done processing\n",
      "02:12:49 - cmdstanpy - ERROR - Chain [1] error: error during processing Operation not permitted\n",
      "02:12:49 - cmdstanpy - INFO - Chain [1] start processing\n",
      "02:12:49 - cmdstanpy - INFO - Chain [1] start processing\n",
      "02:12:49 - cmdstanpy - INFO - Chain [1] done processing\n",
      "02:12:49 - cmdstanpy - INFO - Chain [1] start processing\n",
      "Optimization terminated abnormally. Falling back to Newton.\n",
      "02:12:49 - cmdstanpy - INFO - Chain [1] start processing\n",
      "02:12:49 - cmdstanpy - ERROR - Chain [1] error: error during processing Operation not permitted\n",
      "02:12:49 - cmdstanpy - INFO - Chain [1] start processing\n",
      "02:12:49 - cmdstanpy - INFO - Chain [1] start processing\n",
      "02:12:49 - cmdstanpy - INFO - Chain [1] start processing\n",
      "Optimization terminated abnormally. Falling back to Newton.\n",
      "02:12:49 - cmdstanpy - INFO - Chain [1] done processing\n",
      "02:12:49 - cmdstanpy - INFO - Chain [1] done processing\n",
      "02:12:49 - cmdstanpy - ERROR - Chain [1] error: error during processing Operation not permitted\n",
      "02:12:49 - cmdstanpy - ERROR - Chain [1] error: error during processing Operation not permitted\n",
      "02:12:49 - cmdstanpy - INFO - Chain [1] done processing\n",
      "02:12:49 - cmdstanpy - INFO - Chain [1] done processing\n",
      "Optimization terminated abnormally. Falling back to Newton.\n",
      "02:12:49 - cmdstanpy - INFO - Chain [1] done processing\n",
      "Optimization terminated abnormally. Falling back to Newton.\n",
      "02:12:49 - cmdstanpy - INFO - Chain [1] done processing\n",
      "02:12:49 - cmdstanpy - INFO - Chain [1] done processing\n",
      "02:12:49 - cmdstanpy - INFO - Chain [1] start processing\n",
      "02:12:49 - cmdstanpy - ERROR - Chain [1] error: error during processing Operation not permitted\n",
      "02:12:49 - cmdstanpy - ERROR - Chain [1] error: error during processing Operation not permitted\n",
      "02:12:49 - cmdstanpy - ERROR - Chain [1] error: error during processing Operation not permitted\n",
      "02:12:49 - cmdstanpy - ERROR - Chain [1] error: error during processing Operation not permitted\n",
      "Optimization terminated abnormally. Falling back to Newton.\n",
      "02:12:49 - cmdstanpy - INFO - Chain [1] start processing\n",
      "Optimization terminated abnormally. Falling back to Newton.\n",
      "Optimization terminated abnormally. Falling back to Newton.\n",
      "Optimization terminated abnormally. Falling back to Newton.\n",
      "02:12:50 - cmdstanpy - INFO - Chain [1] start processing\n",
      "02:12:50 - cmdstanpy - INFO - Chain [1] start processing\n",
      "02:12:50 - cmdstanpy - INFO - Chain [1] start processing\n",
      "02:12:50 - cmdstanpy - INFO - Chain [1] start processing\n",
      "02:12:50 - cmdstanpy - INFO - Chain [1] start processing\n",
      "02:12:50 - cmdstanpy - INFO - Chain [1] start processing\n",
      "02:12:53 - cmdstanpy - INFO - Chain [1] done processing\n",
      "02:12:54 - cmdstanpy - INFO - Chain [1] done processing\n",
      "02:12:56 - cmdstanpy - INFO - Chain [1] done processing\n",
      "02:12:56 - cmdstanpy - INFO - Chain [1] done processing\n",
      "02:12:56 - cmdstanpy - INFO - Chain [1] done processing\n",
      "02:12:56 - cmdstanpy - INFO - Chain [1] done processing\n",
      "02:12:57 - cmdstanpy - INFO - Chain [1] done processing\n",
      "02:12:59 - cmdstanpy - INFO - Chain [1] done processing\n",
      "02:13:10 - cmdstanpy - INFO - Chain [1] done processing\n"
     ]
    },
    {
     "name": "stdout",
     "output_type": "stream",
     "text": [
      "[I 2025-08-23 02:13:10,248] Trial 40 finished with value: 669.9634630899611 and parameters: {'changepoint_prior_scale': 0.0004580744944305795, 'seasonality_prior_scale': 0.10829494403099826, 'holidays_prior_scale': 12.269616292513431}. Best is trial 32 with value: 530.5179269603154.\n"
     ]
    },
    {
     "name": "stderr",
     "output_type": "stream",
     "text": [
      "02:13:10 - cmdstanpy - INFO - Chain [1] start processing\n",
      "02:13:10 - cmdstanpy - INFO - Chain [1] done processing\n",
      "02:13:12 - cmdstanpy - INFO - Chain [1] start processing\n",
      "02:13:12 - cmdstanpy - INFO - Chain [1] start processing\n",
      "02:13:12 - cmdstanpy - INFO - Chain [1] done processing\n",
      "02:13:12 - cmdstanpy - INFO - Chain [1] start processing\n",
      "02:13:12 - cmdstanpy - INFO - Chain [1] start processing\n",
      "02:13:12 - cmdstanpy - INFO - Chain [1] start processing\n",
      "02:13:12 - cmdstanpy - INFO - Chain [1] start processing\n",
      "02:13:12 - cmdstanpy - INFO - Chain [1] start processing\n",
      "02:13:12 - cmdstanpy - INFO - Chain [1] start processing\n",
      "02:13:12 - cmdstanpy - INFO - Chain [1] start processing\n",
      "02:13:12 - cmdstanpy - INFO - Chain [1] start processing\n",
      "02:13:12 - cmdstanpy - INFO - Chain [1] done processing\n",
      "02:13:12 - cmdstanpy - INFO - Chain [1] done processing\n",
      "02:13:12 - cmdstanpy - ERROR - Chain [1] error: error during processing Operation not permitted\n",
      "02:13:12 - cmdstanpy - INFO - Chain [1] done processing\n",
      "Optimization terminated abnormally. Falling back to Newton.\n",
      "02:13:12 - cmdstanpy - INFO - Chain [1] done processing\n",
      "02:13:12 - cmdstanpy - INFO - Chain [1] done processing\n",
      "02:13:12 - cmdstanpy - INFO - Chain [1] done processing\n",
      "02:13:12 - cmdstanpy - INFO - Chain [1] done processing\n",
      "02:13:12 - cmdstanpy - INFO - Chain [1] done processing\n",
      "02:13:12 - cmdstanpy - INFO - Chain [1] done processing\n",
      "02:13:13 - cmdstanpy - INFO - Chain [1] start processing\n",
      "02:13:14 - cmdstanpy - INFO - Chain [1] done processing\n"
     ]
    },
    {
     "name": "stdout",
     "output_type": "stream",
     "text": [
      "[I 2025-08-23 02:13:14,445] Trial 41 finished with value: 541.7165509508533 and parameters: {'changepoint_prior_scale': 0.0015099665932779775, 'seasonality_prior_scale': 2.0238803427539085, 'holidays_prior_scale': 5.97525968477713}. Best is trial 32 with value: 530.5179269603154.\n"
     ]
    },
    {
     "name": "stderr",
     "output_type": "stream",
     "text": [
      "02:13:14 - cmdstanpy - INFO - Chain [1] start processing\n",
      "02:13:14 - cmdstanpy - INFO - Chain [1] done processing\n",
      "02:13:15 - cmdstanpy - INFO - Chain [1] start processing\n",
      "02:13:15 - cmdstanpy - INFO - Chain [1] done processing\n",
      "02:13:16 - cmdstanpy - INFO - Chain [1] start processing\n",
      "02:13:16 - cmdstanpy - INFO - Chain [1] start processing\n",
      "02:13:16 - cmdstanpy - INFO - Chain [1] start processing\n",
      "02:13:16 - cmdstanpy - INFO - Chain [1] start processing\n",
      "02:13:16 - cmdstanpy - INFO - Chain [1] start processing\n",
      "02:13:16 - cmdstanpy - INFO - Chain [1] start processing\n",
      "02:13:16 - cmdstanpy - INFO - Chain [1] start processing\n",
      "02:13:16 - cmdstanpy - INFO - Chain [1] done processing\n",
      "02:13:16 - cmdstanpy - INFO - Chain [1] start processing\n",
      "02:13:16 - cmdstanpy - INFO - Chain [1] start processing\n",
      "02:13:16 - cmdstanpy - INFO - Chain [1] done processing\n",
      "02:13:16 - cmdstanpy - INFO - Chain [1] done processing\n",
      "02:13:16 - cmdstanpy - INFO - Chain [1] done processing\n",
      "02:13:16 - cmdstanpy - INFO - Chain [1] done processing\n",
      "02:13:16 - cmdstanpy - ERROR - Chain [1] error: error during processing Operation not permitted\n",
      "02:13:16 - cmdstanpy - INFO - Chain [1] done processing\n",
      "02:13:16 - cmdstanpy - INFO - Chain [1] done processing\n",
      "02:13:17 - cmdstanpy - INFO - Chain [1] done processing\n",
      "Optimization terminated abnormally. Falling back to Newton.\n",
      "02:13:17 - cmdstanpy - INFO - Chain [1] done processing\n",
      "02:13:17 - cmdstanpy - INFO - Chain [1] start processing\n",
      "02:13:18 - cmdstanpy - INFO - Chain [1] done processing\n"
     ]
    },
    {
     "name": "stdout",
     "output_type": "stream",
     "text": [
      "[I 2025-08-23 02:13:19,042] Trial 42 finished with value: 559.6878271702227 and parameters: {'changepoint_prior_scale': 0.0014821981233479617, 'seasonality_prior_scale': 1.7304769607578332, 'holidays_prior_scale': 6.403227484910365}. Best is trial 32 with value: 530.5179269603154.\n"
     ]
    },
    {
     "name": "stderr",
     "output_type": "stream",
     "text": [
      "02:13:19 - cmdstanpy - INFO - Chain [1] start processing\n",
      "02:13:19 - cmdstanpy - INFO - Chain [1] done processing\n",
      "02:13:20 - cmdstanpy - INFO - Chain [1] start processing\n",
      "02:13:20 - cmdstanpy - INFO - Chain [1] done processing\n",
      "02:13:21 - cmdstanpy - INFO - Chain [1] start processing\n",
      "02:13:21 - cmdstanpy - INFO - Chain [1] start processing\n",
      "02:13:21 - cmdstanpy - INFO - Chain [1] start processing\n",
      "02:13:21 - cmdstanpy - INFO - Chain [1] start processing\n",
      "02:13:21 - cmdstanpy - INFO - Chain [1] start processing\n",
      "02:13:21 - cmdstanpy - INFO - Chain [1] start processing\n",
      "02:13:21 - cmdstanpy - INFO - Chain [1] start processing\n",
      "02:13:21 - cmdstanpy - INFO - Chain [1] start processing\n",
      "02:13:21 - cmdstanpy - INFO - Chain [1] start processing\n",
      "02:13:21 - cmdstanpy - INFO - Chain [1] done processing\n",
      "02:13:21 - cmdstanpy - INFO - Chain [1] done processing\n",
      "02:13:21 - cmdstanpy - INFO - Chain [1] done processing\n",
      "02:13:21 - cmdstanpy - INFO - Chain [1] done processing\n",
      "02:13:21 - cmdstanpy - INFO - Chain [1] done processing\n",
      "02:13:21 - cmdstanpy - INFO - Chain [1] done processing\n",
      "02:13:21 - cmdstanpy - INFO - Chain [1] done processing\n",
      "02:13:21 - cmdstanpy - INFO - Chain [1] done processing\n",
      "02:13:21 - cmdstanpy - INFO - Chain [1] done processing\n"
     ]
    },
    {
     "name": "stdout",
     "output_type": "stream",
     "text": [
      "[I 2025-08-23 02:13:22,461] Trial 43 finished with value: 569.1575738592242 and parameters: {'changepoint_prior_scale': 0.008609719572374316, 'seasonality_prior_scale': 3.384777285592956, 'holidays_prior_scale': 21.871322531536624}. Best is trial 32 with value: 530.5179269603154.\n"
     ]
    },
    {
     "name": "stderr",
     "output_type": "stream",
     "text": [
      "02:13:22 - cmdstanpy - INFO - Chain [1] start processing\n",
      "02:13:22 - cmdstanpy - INFO - Chain [1] done processing\n",
      "02:13:24 - cmdstanpy - INFO - Chain [1] start processing\n",
      "02:13:24 - cmdstanpy - INFO - Chain [1] done processing\n",
      "02:13:24 - cmdstanpy - INFO - Chain [1] start processing\n",
      "02:13:24 - cmdstanpy - INFO - Chain [1] start processing\n",
      "02:13:24 - cmdstanpy - INFO - Chain [1] start processing\n",
      "02:13:24 - cmdstanpy - INFO - Chain [1] start processing\n",
      "02:13:24 - cmdstanpy - INFO - Chain [1] start processing\n",
      "02:13:24 - cmdstanpy - INFO - Chain [1] start processing\n",
      "02:13:24 - cmdstanpy - INFO - Chain [1] start processing\n",
      "02:13:24 - cmdstanpy - INFO - Chain [1] start processing\n",
      "02:13:24 - cmdstanpy - INFO - Chain [1] start processing\n",
      "02:13:24 - cmdstanpy - INFO - Chain [1] done processing\n",
      "02:13:24 - cmdstanpy - INFO - Chain [1] done processing\n",
      "02:13:24 - cmdstanpy - INFO - Chain [1] done processing\n",
      "02:13:24 - cmdstanpy - INFO - Chain [1] done processing\n",
      "02:13:24 - cmdstanpy - INFO - Chain [1] done processing\n",
      "02:13:24 - cmdstanpy - INFO - Chain [1] done processing\n",
      "02:13:25 - cmdstanpy - INFO - Chain [1] done processing\n",
      "02:13:25 - cmdstanpy - INFO - Chain [1] done processing\n",
      "02:13:25 - cmdstanpy - INFO - Chain [1] done processing\n"
     ]
    },
    {
     "name": "stdout",
     "output_type": "stream",
     "text": [
      "[I 2025-08-23 02:13:25,582] Trial 44 finished with value: 565.3548215433892 and parameters: {'changepoint_prior_scale': 0.0057066739797291596, 'seasonality_prior_scale': 28.835956229163564, 'holidays_prior_scale': 2.8910403655194448}. Best is trial 32 with value: 530.5179269603154.\n"
     ]
    },
    {
     "name": "stderr",
     "output_type": "stream",
     "text": [
      "02:13:25 - cmdstanpy - INFO - Chain [1] start processing\n",
      "02:13:25 - cmdstanpy - INFO - Chain [1] done processing\n",
      "02:13:26 - cmdstanpy - INFO - Chain [1] start processing\n",
      "02:13:26 - cmdstanpy - INFO - Chain [1] done processing\n",
      "02:13:27 - cmdstanpy - INFO - Chain [1] start processing\n",
      "02:13:27 - cmdstanpy - INFO - Chain [1] start processing\n",
      "02:13:27 - cmdstanpy - INFO - Chain [1] done processing\n",
      "02:13:27 - cmdstanpy - INFO - Chain [1] start processing\n",
      "02:13:27 - cmdstanpy - INFO - Chain [1] start processing\n",
      "02:13:27 - cmdstanpy - ERROR - Chain [1] error: error during processing Operation not permitted\n",
      "02:13:27 - cmdstanpy - INFO - Chain [1] done processing\n",
      "02:13:27 - cmdstanpy - INFO - Chain [1] start processing\n",
      "02:13:27 - cmdstanpy - INFO - Chain [1] start processing\n",
      "02:13:27 - cmdstanpy - INFO - Chain [1] start processing\n",
      "02:13:27 - cmdstanpy - INFO - Chain [1] start processing\n",
      "Optimization terminated abnormally. Falling back to Newton.\n",
      "02:13:27 - cmdstanpy - INFO - Chain [1] start processing\n",
      "02:13:27 - cmdstanpy - INFO - Chain [1] done processing\n",
      "02:13:27 - cmdstanpy - INFO - Chain [1] done processing\n",
      "02:13:27 - cmdstanpy - INFO - Chain [1] done processing\n",
      "02:13:27 - cmdstanpy - INFO - Chain [1] done processing\n",
      "02:13:27 - cmdstanpy - ERROR - Chain [1] error: error during processing Operation not permitted\n",
      "02:13:27 - cmdstanpy - INFO - Chain [1] done processing\n",
      "02:13:27 - cmdstanpy - INFO - Chain [1] done processing\n",
      "02:13:27 - cmdstanpy - INFO - Chain [1] done processing\n",
      "Optimization terminated abnormally. Falling back to Newton.\n",
      "02:13:27 - cmdstanpy - ERROR - Chain [1] error: error during processing Operation not permitted\n",
      "02:13:27 - cmdstanpy - ERROR - Chain [1] error: error during processing Operation not permitted\n",
      "02:13:28 - cmdstanpy - ERROR - Chain [1] error: error during processing Operation not permitted\n",
      "Optimization terminated abnormally. Falling back to Newton.\n",
      "02:13:28 - cmdstanpy - INFO - Chain [1] start processing\n",
      "Optimization terminated abnormally. Falling back to Newton.\n",
      "Optimization terminated abnormally. Falling back to Newton.\n",
      "02:13:28 - cmdstanpy - INFO - Chain [1] start processing\n",
      "02:13:28 - cmdstanpy - INFO - Chain [1] start processing\n",
      "02:13:28 - cmdstanpy - INFO - Chain [1] start processing\n",
      "02:13:28 - cmdstanpy - INFO - Chain [1] start processing\n",
      "02:13:31 - cmdstanpy - INFO - Chain [1] done processing\n",
      "02:13:32 - cmdstanpy - INFO - Chain [1] done processing\n",
      "02:13:32 - cmdstanpy - INFO - Chain [1] done processing\n",
      "02:13:32 - cmdstanpy - INFO - Chain [1] done processing\n",
      "02:13:33 - cmdstanpy - INFO - Chain [1] done processing\n",
      "02:13:33 - cmdstanpy - INFO - Chain [1] start processing\n"
     ]
    },
    {
     "name": "stdout",
     "output_type": "stream",
     "text": [
      "[I 2025-08-23 02:13:33,666] Trial 45 finished with value: 1061.2201986053847 and parameters: {'changepoint_prior_scale': 0.0007555893903779641, 'seasonality_prior_scale': 4.586065681041895, 'holidays_prior_scale': 2.189582767654343}. Best is trial 32 with value: 530.5179269603154.\n"
     ]
    },
    {
     "name": "stderr",
     "output_type": "stream",
     "text": [
      "02:13:34 - cmdstanpy - INFO - Chain [1] done processing\n",
      "02:13:35 - cmdstanpy - INFO - Chain [1] start processing\n",
      "02:13:35 - cmdstanpy - INFO - Chain [1] done processing\n",
      "02:13:35 - cmdstanpy - INFO - Chain [1] start processing\n",
      "02:13:35 - cmdstanpy - INFO - Chain [1] done processing\n",
      "02:13:35 - cmdstanpy - INFO - Chain [1] start processing\n",
      "02:13:36 - cmdstanpy - INFO - Chain [1] start processing\n",
      "02:13:36 - cmdstanpy - INFO - Chain [1] done processing\n",
      "02:13:36 - cmdstanpy - INFO - Chain [1] start processing\n",
      "02:13:36 - cmdstanpy - INFO - Chain [1] start processing\n",
      "02:13:36 - cmdstanpy - INFO - Chain [1] start processing\n",
      "02:13:36 - cmdstanpy - INFO - Chain [1] start processing\n",
      "02:13:36 - cmdstanpy - INFO - Chain [1] start processing\n",
      "02:13:36 - cmdstanpy - INFO - Chain [1] start processing\n",
      "02:13:36 - cmdstanpy - INFO - Chain [1] done processing\n",
      "02:13:36 - cmdstanpy - INFO - Chain [1] done processing\n",
      "02:13:36 - cmdstanpy - INFO - Chain [1] done processing\n",
      "02:13:36 - cmdstanpy - INFO - Chain [1] done processing\n",
      "02:13:36 - cmdstanpy - INFO - Chain [1] done processing\n",
      "02:13:36 - cmdstanpy - INFO - Chain [1] done processing\n",
      "02:13:36 - cmdstanpy - INFO - Chain [1] done processing\n",
      "02:13:37 - cmdstanpy - INFO - Chain [1] start processing\n"
     ]
    },
    {
     "name": "stdout",
     "output_type": "stream",
     "text": [
      "[I 2025-08-23 02:13:37,177] Trial 46 finished with value: 568.6817534487059 and parameters: {'changepoint_prior_scale': 0.0031824400377123223, 'seasonality_prior_scale': 0.6460208878016314, 'holidays_prior_scale': 3.9036503076589666}. Best is trial 32 with value: 530.5179269603154.\n"
     ]
    },
    {
     "name": "stderr",
     "output_type": "stream",
     "text": [
      "02:13:37 - cmdstanpy - INFO - Chain [1] done processing\n",
      "02:13:38 - cmdstanpy - INFO - Chain [1] start processing\n",
      "02:13:38 - cmdstanpy - INFO - Chain [1] start processing\n",
      "02:13:38 - cmdstanpy - INFO - Chain [1] done processing\n",
      "02:13:38 - cmdstanpy - INFO - Chain [1] done processing\n",
      "02:13:39 - cmdstanpy - INFO - Chain [1] start processing\n",
      "02:13:39 - cmdstanpy - INFO - Chain [1] start processing\n",
      "02:13:39 - cmdstanpy - INFO - Chain [1] start processing\n",
      "02:13:39 - cmdstanpy - INFO - Chain [1] done processing\n",
      "02:13:39 - cmdstanpy - INFO - Chain [1] start processing\n",
      "02:13:39 - cmdstanpy - INFO - Chain [1] done processing\n",
      "02:13:39 - cmdstanpy - INFO - Chain [1] start processing\n",
      "02:13:39 - cmdstanpy - INFO - Chain [1] start processing\n",
      "02:13:39 - cmdstanpy - INFO - Chain [1] start processing\n",
      "02:13:39 - cmdstanpy - INFO - Chain [1] start processing\n",
      "02:13:39 - cmdstanpy - INFO - Chain [1] done processing\n",
      "02:13:39 - cmdstanpy - INFO - Chain [1] done processing\n",
      "02:13:39 - cmdstanpy - INFO - Chain [1] done processing\n",
      "02:13:39 - cmdstanpy - INFO - Chain [1] done processing\n",
      "02:13:39 - cmdstanpy - INFO - Chain [1] done processing\n",
      "02:13:39 - cmdstanpy - INFO - Chain [1] done processing\n"
     ]
    },
    {
     "name": "stdout",
     "output_type": "stream",
     "text": [
      "[I 2025-08-23 02:13:40,195] Trial 47 finished with value: 569.9179890460393 and parameters: {'changepoint_prior_scale': 0.0017995112619478943, 'seasonality_prior_scale': 14.98374762233035, 'holidays_prior_scale': 6.38791944694048}. Best is trial 32 with value: 530.5179269603154.\n"
     ]
    },
    {
     "name": "stderr",
     "output_type": "stream",
     "text": [
      "02:13:40 - cmdstanpy - INFO - Chain [1] start processing\n",
      "02:13:40 - cmdstanpy - INFO - Chain [1] done processing\n",
      "02:13:41 - cmdstanpy - INFO - Chain [1] start processing\n",
      "02:13:41 - cmdstanpy - INFO - Chain [1] done processing\n",
      "02:13:42 - cmdstanpy - INFO - Chain [1] start processing\n",
      "02:13:42 - cmdstanpy - INFO - Chain [1] start processing\n",
      "02:13:42 - cmdstanpy - INFO - Chain [1] start processing\n",
      "02:13:42 - cmdstanpy - INFO - Chain [1] done processing\n",
      "02:13:42 - cmdstanpy - INFO - Chain [1] start processing\n",
      "02:13:42 - cmdstanpy - INFO - Chain [1] start processing\n",
      "02:13:42 - cmdstanpy - INFO - Chain [1] start processing\n",
      "02:13:42 - cmdstanpy - INFO - Chain [1] start processing\n",
      "02:13:42 - cmdstanpy - INFO - Chain [1] start processing\n",
      "02:13:42 - cmdstanpy - INFO - Chain [1] start processing\n",
      "02:13:42 - cmdstanpy - INFO - Chain [1] done processing\n",
      "02:13:42 - cmdstanpy - INFO - Chain [1] done processing\n",
      "02:13:42 - cmdstanpy - INFO - Chain [1] done processing\n",
      "02:13:42 - cmdstanpy - INFO - Chain [1] done processing\n",
      "02:13:42 - cmdstanpy - INFO - Chain [1] done processing\n",
      "02:13:42 - cmdstanpy - INFO - Chain [1] done processing\n",
      "02:13:42 - cmdstanpy - INFO - Chain [1] done processing\n",
      "02:13:42 - cmdstanpy - INFO - Chain [1] done processing\n"
     ]
    },
    {
     "name": "stdout",
     "output_type": "stream",
     "text": [
      "[I 2025-08-23 02:13:43,488] Trial 48 finished with value: 588.6562496728183 and parameters: {'changepoint_prior_scale': 0.466289634907624, 'seasonality_prior_scale': 2.6065409338089838, 'holidays_prior_scale': 0.022613400776613553}. Best is trial 32 with value: 530.5179269603154.\n"
     ]
    },
    {
     "name": "stderr",
     "output_type": "stream",
     "text": [
      "02:13:43 - cmdstanpy - INFO - Chain [1] start processing\n",
      "02:13:43 - cmdstanpy - INFO - Chain [1] done processing\n",
      "02:13:44 - cmdstanpy - INFO - Chain [1] start processing\n",
      "02:13:44 - cmdstanpy - INFO - Chain [1] done processing\n",
      "02:13:45 - cmdstanpy - INFO - Chain [1] start processing\n",
      "02:13:45 - cmdstanpy - INFO - Chain [1] start processing\n",
      "02:13:45 - cmdstanpy - INFO - Chain [1] start processing\n",
      "02:13:45 - cmdstanpy - INFO - Chain [1] start processing\n",
      "02:13:45 - cmdstanpy - INFO - Chain [1] start processing\n",
      "02:13:45 - cmdstanpy - INFO - Chain [1] start processing\n",
      "02:13:45 - cmdstanpy - INFO - Chain [1] done processing\n",
      "02:13:45 - cmdstanpy - INFO - Chain [1] start processing\n",
      "02:13:45 - cmdstanpy - ERROR - Chain [1] error: error during processing Operation not permitted\n",
      "02:13:45 - cmdstanpy - INFO - Chain [1] start processing\n",
      "02:13:45 - cmdstanpy - INFO - Chain [1] start processing\n",
      "Optimization terminated abnormally. Falling back to Newton.\n",
      "02:13:46 - cmdstanpy - INFO - Chain [1] done processing\n",
      "02:13:46 - cmdstanpy - INFO - Chain [1] done processing\n",
      "02:13:46 - cmdstanpy - INFO - Chain [1] done processing\n",
      "02:13:46 - cmdstanpy - ERROR - Chain [1] error: error during processing Operation not permitted\n",
      "02:13:46 - cmdstanpy - INFO - Chain [1] done processing\n",
      "02:13:46 - cmdstanpy - INFO - Chain [1] done processing\n",
      "02:13:46 - cmdstanpy - INFO - Chain [1] done processing\n",
      "Optimization terminated abnormally. Falling back to Newton.\n",
      "02:13:46 - cmdstanpy - INFO - Chain [1] done processing\n",
      "02:13:46 - cmdstanpy - ERROR - Chain [1] error: error during processing Operation not permitted\n",
      "02:13:46 - cmdstanpy - INFO - Chain [1] done processing\n",
      "02:13:46 - cmdstanpy - INFO - Chain [1] start processing\n",
      "Optimization terminated abnormally. Falling back to Newton.\n",
      "02:13:46 - cmdstanpy - INFO - Chain [1] start processing\n",
      "02:13:46 - cmdstanpy - INFO - Chain [1] start processing\n",
      "02:13:48 - cmdstanpy - INFO - Chain [1] done processing\n",
      "02:13:48 - cmdstanpy - INFO - Chain [1] done processing\n",
      "02:13:52 - cmdstanpy - INFO - Chain [1] done processing\n",
      "02:13:52 - cmdstanpy - INFO - Chain [1] start processing\n"
     ]
    },
    {
     "name": "stdout",
     "output_type": "stream",
     "text": [
      "[I 2025-08-23 02:13:52,716] Trial 49 finished with value: 583.325261830857 and parameters: {'changepoint_prior_scale': 0.0010422736609525028, 'seasonality_prior_scale': 10.54736429081492, 'holidays_prior_scale': 11.341914732092341}. Best is trial 32 with value: 530.5179269603154.\n"
     ]
    },
    {
     "name": "stderr",
     "output_type": "stream",
     "text": [
      "02:13:52 - cmdstanpy - INFO - Chain [1] done processing\n",
      "02:13:54 - cmdstanpy - INFO - Chain [1] start processing\n",
      "02:13:54 - cmdstanpy - INFO - Chain [1] start processing\n",
      "02:13:54 - cmdstanpy - INFO - Chain [1] start processing\n",
      "02:13:54 - cmdstanpy - INFO - Chain [1] done processing\n",
      "02:13:54 - cmdstanpy - INFO - Chain [1] start processing\n",
      "02:13:54 - cmdstanpy - INFO - Chain [1] done processing\n",
      "02:13:54 - cmdstanpy - INFO - Chain [1] start processing\n",
      "02:13:54 - cmdstanpy - INFO - Chain [1] start processing\n",
      "02:13:54 - cmdstanpy - INFO - Chain [1] start processing\n",
      "02:13:54 - cmdstanpy - INFO - Chain [1] start processing\n",
      "02:13:54 - cmdstanpy - INFO - Chain [1] start processing\n",
      "02:13:54 - cmdstanpy - INFO - Chain [1] start processing\n",
      "02:13:54 - cmdstanpy - INFO - Chain [1] done processing\n",
      "02:13:54 - cmdstanpy - INFO - Chain [1] done processing\n",
      "02:13:54 - cmdstanpy - INFO - Chain [1] done processing\n",
      "02:13:55 - cmdstanpy - INFO - Chain [1] done processing\n",
      "02:13:55 - cmdstanpy - INFO - Chain [1] done processing\n",
      "02:13:55 - cmdstanpy - INFO - Chain [1] done processing\n",
      "02:13:55 - cmdstanpy - INFO - Chain [1] done processing\n",
      "02:13:55 - cmdstanpy - INFO - Chain [1] done processing\n"
     ]
    },
    {
     "name": "stdout",
     "output_type": "stream",
     "text": [
      "[I 2025-08-23 02:13:55,764] Trial 50 finished with value: 549.3564838813854 and parameters: {'changepoint_prior_scale': 0.003370458449575888, 'seasonality_prior_scale': 0.23915133412921163, 'holidays_prior_scale': 1.4156523620912178}. Best is trial 32 with value: 530.5179269603154.\n"
     ]
    },
    {
     "name": "stderr",
     "output_type": "stream",
     "text": [
      "02:13:55 - cmdstanpy - INFO - Chain [1] start processing\n",
      "02:13:57 - cmdstanpy - INFO - Chain [1] done processing\n",
      "02:13:58 - cmdstanpy - INFO - Chain [1] start processing\n",
      "02:13:58 - cmdstanpy - INFO - Chain [1] done processing\n",
      "02:13:58 - cmdstanpy - INFO - Chain [1] start processing\n",
      "02:13:58 - cmdstanpy - INFO - Chain [1] start processing\n",
      "02:13:58 - cmdstanpy - INFO - Chain [1] start processing\n",
      "02:13:59 - cmdstanpy - INFO - Chain [1] start processing\n",
      "02:13:59 - cmdstanpy - INFO - Chain [1] start processing\n",
      "02:13:59 - cmdstanpy - INFO - Chain [1] start processing\n",
      "02:13:59 - cmdstanpy - INFO - Chain [1] start processing\n",
      "02:13:59 - cmdstanpy - INFO - Chain [1] start processing\n",
      "02:13:59 - cmdstanpy - INFO - Chain [1] start processing\n",
      "02:13:59 - cmdstanpy - INFO - Chain [1] done processing\n",
      "02:13:59 - cmdstanpy - INFO - Chain [1] done processing\n",
      "02:13:59 - cmdstanpy - INFO - Chain [1] done processing\n",
      "02:13:59 - cmdstanpy - INFO - Chain [1] done processing\n",
      "02:13:59 - cmdstanpy - INFO - Chain [1] done processing\n",
      "02:13:59 - cmdstanpy - INFO - Chain [1] done processing\n",
      "02:13:59 - cmdstanpy - INFO - Chain [1] done processing\n",
      "02:13:59 - cmdstanpy - INFO - Chain [1] done processing\n",
      "02:13:59 - cmdstanpy - INFO - Chain [1] done processing\n"
     ]
    },
    {
     "name": "stdout",
     "output_type": "stream",
     "text": [
      "[I 2025-08-23 02:14:00,052] Trial 51 finished with value: 558.4623346372401 and parameters: {'changepoint_prior_scale': 0.003933158897521281, 'seasonality_prior_scale': 0.2316320051660047, 'holidays_prior_scale': 1.1195599477788802}. Best is trial 32 with value: 530.5179269603154.\n"
     ]
    },
    {
     "name": "stderr",
     "output_type": "stream",
     "text": [
      "02:14:00 - cmdstanpy - INFO - Chain [1] start processing\n",
      "02:14:00 - cmdstanpy - INFO - Chain [1] done processing\n",
      "02:14:01 - cmdstanpy - INFO - Chain [1] start processing\n",
      "02:14:01 - cmdstanpy - INFO - Chain [1] done processing\n",
      "02:14:02 - cmdstanpy - INFO - Chain [1] start processing\n",
      "02:14:02 - cmdstanpy - INFO - Chain [1] start processing\n",
      "02:14:02 - cmdstanpy - INFO - Chain [1] done processing\n",
      "02:14:02 - cmdstanpy - INFO - Chain [1] start processing\n",
      "02:14:02 - cmdstanpy - INFO - Chain [1] start processing\n",
      "02:14:02 - cmdstanpy - INFO - Chain [1] done processing\n",
      "02:14:02 - cmdstanpy - INFO - Chain [1] start processing\n",
      "02:14:02 - cmdstanpy - INFO - Chain [1] start processing\n",
      "02:14:02 - cmdstanpy - INFO - Chain [1] start processing\n",
      "02:14:02 - cmdstanpy - INFO - Chain [1] done processing\n",
      "02:14:02 - cmdstanpy - INFO - Chain [1] start processing\n",
      "02:14:02 - cmdstanpy - INFO - Chain [1] start processing\n",
      "02:14:02 - cmdstanpy - INFO - Chain [1] done processing\n",
      "02:14:02 - cmdstanpy - INFO - Chain [1] done processing\n",
      "02:14:02 - cmdstanpy - INFO - Chain [1] done processing\n",
      "02:14:02 - cmdstanpy - INFO - Chain [1] done processing\n",
      "02:14:02 - cmdstanpy - INFO - Chain [1] done processing\n",
      "02:14:02 - cmdstanpy - INFO - Chain [1] done processing\n"
     ]
    },
    {
     "name": "stdout",
     "output_type": "stream",
     "text": [
      "[I 2025-08-23 02:14:03,354] Trial 52 finished with value: 564.4645139803174 and parameters: {'changepoint_prior_scale': 0.0027769238866505366, 'seasonality_prior_scale': 0.11359925053138567, 'holidays_prior_scale': 0.8647753650054548}. Best is trial 32 with value: 530.5179269603154.\n"
     ]
    },
    {
     "name": "stderr",
     "output_type": "stream",
     "text": [
      "02:14:03 - cmdstanpy - INFO - Chain [1] start processing\n",
      "02:14:03 - cmdstanpy - INFO - Chain [1] done processing\n",
      "02:14:05 - cmdstanpy - INFO - Chain [1] start processing\n",
      "02:14:05 - cmdstanpy - INFO - Chain [1] start processing\n",
      "02:14:05 - cmdstanpy - INFO - Chain [1] start processing\n",
      "02:14:05 - cmdstanpy - INFO - Chain [1] done processing\n",
      "02:14:05 - cmdstanpy - INFO - Chain [1] done processing\n",
      "02:14:05 - cmdstanpy - INFO - Chain [1] start processing\n",
      "02:14:05 - cmdstanpy - INFO - Chain [1] start processing\n",
      "02:14:05 - cmdstanpy - INFO - Chain [1] done processing\n",
      "02:14:05 - cmdstanpy - INFO - Chain [1] start processing\n",
      "02:14:05 - cmdstanpy - INFO - Chain [1] start processing\n",
      "02:14:05 - cmdstanpy - INFO - Chain [1] start processing\n",
      "02:14:05 - cmdstanpy - INFO - Chain [1] start processing\n",
      "02:14:05 - cmdstanpy - INFO - Chain [1] start processing\n",
      "02:14:05 - cmdstanpy - INFO - Chain [1] done processing\n",
      "02:14:05 - cmdstanpy - INFO - Chain [1] done processing\n",
      "02:14:06 - cmdstanpy - INFO - Chain [1] done processing\n",
      "02:14:06 - cmdstanpy - INFO - Chain [1] done processing\n",
      "02:14:06 - cmdstanpy - INFO - Chain [1] done processing\n",
      "02:14:06 - cmdstanpy - INFO - Chain [1] done processing\n",
      "02:14:06 - cmdstanpy - INFO - Chain [1] done processing\n"
     ]
    },
    {
     "name": "stdout",
     "output_type": "stream",
     "text": [
      "[I 2025-08-23 02:14:06,656] Trial 53 finished with value: 569.9770807155945 and parameters: {'changepoint_prior_scale': 0.005130673930516409, 'seasonality_prior_scale': 0.074333122298463, 'holidays_prior_scale': 0.1302955976972901}. Best is trial 32 with value: 530.5179269603154.\n"
     ]
    },
    {
     "name": "stderr",
     "output_type": "stream",
     "text": [
      "02:14:06 - cmdstanpy - INFO - Chain [1] start processing\n",
      "02:14:07 - cmdstanpy - INFO - Chain [1] done processing\n",
      "02:14:07 - cmdstanpy - INFO - Chain [1] start processing\n",
      "02:14:07 - cmdstanpy - INFO - Chain [1] done processing\n",
      "02:14:08 - cmdstanpy - INFO - Chain [1] start processing\n",
      "02:14:08 - cmdstanpy - INFO - Chain [1] start processing\n",
      "02:14:08 - cmdstanpy - INFO - Chain [1] done processing\n",
      "02:14:08 - cmdstanpy - INFO - Chain [1] start processing\n",
      "02:14:08 - cmdstanpy - INFO - Chain [1] start processing\n",
      "02:14:08 - cmdstanpy - INFO - Chain [1] start processing\n",
      "02:14:09 - cmdstanpy - INFO - Chain [1] start processing\n",
      "02:14:09 - cmdstanpy - INFO - Chain [1] start processing\n",
      "02:14:09 - cmdstanpy - INFO - Chain [1] start processing\n",
      "02:14:09 - cmdstanpy - INFO - Chain [1] done processing\n",
      "02:14:09 - cmdstanpy - INFO - Chain [1] start processing\n",
      "02:14:09 - cmdstanpy - INFO - Chain [1] done processing\n",
      "02:14:09 - cmdstanpy - INFO - Chain [1] done processing\n",
      "02:14:09 - cmdstanpy - INFO - Chain [1] done processing\n",
      "02:14:09 - cmdstanpy - INFO - Chain [1] done processing\n",
      "02:14:09 - cmdstanpy - INFO - Chain [1] done processing\n",
      "02:14:09 - cmdstanpy - INFO - Chain [1] done processing\n",
      "02:14:09 - cmdstanpy - INFO - Chain [1] done processing\n"
     ]
    },
    {
     "name": "stdout",
     "output_type": "stream",
     "text": [
      "[I 2025-08-23 02:14:10,042] Trial 54 finished with value: 568.4559602599569 and parameters: {'changepoint_prior_scale': 0.010676544948785541, 'seasonality_prior_scale': 0.301881779742766, 'holidays_prior_scale': 3.417184968685105}. Best is trial 32 with value: 530.5179269603154.\n"
     ]
    },
    {
     "name": "stderr",
     "output_type": "stream",
     "text": [
      "02:14:10 - cmdstanpy - INFO - Chain [1] start processing\n",
      "02:14:10 - cmdstanpy - INFO - Chain [1] done processing\n",
      "02:14:11 - cmdstanpy - INFO - Chain [1] start processing\n",
      "02:14:11 - cmdstanpy - INFO - Chain [1] start processing\n",
      "02:14:12 - cmdstanpy - INFO - Chain [1] done processing\n",
      "02:14:12 - cmdstanpy - INFO - Chain [1] start processing\n",
      "02:14:12 - cmdstanpy - INFO - Chain [1] start processing\n",
      "02:14:12 - cmdstanpy - INFO - Chain [1] start processing\n",
      "02:14:12 - cmdstanpy - INFO - Chain [1] done processing\n",
      "02:14:12 - cmdstanpy - INFO - Chain [1] start processing\n",
      "02:14:12 - cmdstanpy - INFO - Chain [1] start processing\n",
      "02:14:12 - cmdstanpy - INFO - Chain [1] start processing\n",
      "02:14:12 - cmdstanpy - INFO - Chain [1] done processing\n",
      "02:14:12 - cmdstanpy - INFO - Chain [1] done processing\n",
      "02:14:12 - cmdstanpy - INFO - Chain [1] start processing\n",
      "02:14:12 - cmdstanpy - INFO - Chain [1] done processing\n",
      "02:14:12 - cmdstanpy - INFO - Chain [1] start processing\n",
      "02:14:12 - cmdstanpy - ERROR - Chain [1] error: error during processing Operation not permitted\n",
      "02:14:12 - cmdstanpy - INFO - Chain [1] done processing\n",
      "02:14:12 - cmdstanpy - INFO - Chain [1] done processing\n",
      "02:14:12 - cmdstanpy - INFO - Chain [1] done processing\n",
      "Optimization terminated abnormally. Falling back to Newton.\n",
      "02:14:12 - cmdstanpy - INFO - Chain [1] done processing\n",
      "02:14:12 - cmdstanpy - INFO - Chain [1] done processing\n",
      "02:14:13 - cmdstanpy - INFO - Chain [1] start processing\n",
      "02:14:14 - cmdstanpy - INFO - Chain [1] done processing\n"
     ]
    },
    {
     "name": "stdout",
     "output_type": "stream",
     "text": [
      "[I 2025-08-23 02:14:14,692] Trial 55 finished with value: 575.6268834509245 and parameters: {'changepoint_prior_scale': 0.0015561427472128005, 'seasonality_prior_scale': 0.5034587452482059, 'holidays_prior_scale': 1.4472931634938877}. Best is trial 32 with value: 530.5179269603154.\n"
     ]
    },
    {
     "name": "stderr",
     "output_type": "stream",
     "text": [
      "02:14:14 - cmdstanpy - INFO - Chain [1] start processing\n",
      "02:14:15 - cmdstanpy - INFO - Chain [1] done processing\n",
      "02:14:15 - cmdstanpy - INFO - Chain [1] start processing\n",
      "02:14:15 - cmdstanpy - INFO - Chain [1] done processing\n",
      "02:14:16 - cmdstanpy - INFO - Chain [1] start processing\n",
      "02:14:16 - cmdstanpy - INFO - Chain [1] start processing\n",
      "02:14:16 - cmdstanpy - INFO - Chain [1] start processing\n",
      "02:14:16 - cmdstanpy - INFO - Chain [1] start processing\n",
      "02:14:16 - cmdstanpy - INFO - Chain [1] start processing\n",
      "02:14:16 - cmdstanpy - INFO - Chain [1] start processing\n",
      "02:14:16 - cmdstanpy - INFO - Chain [1] start processing\n",
      "02:14:16 - cmdstanpy - INFO - Chain [1] start processing\n",
      "02:14:16 - cmdstanpy - INFO - Chain [1] start processing\n",
      "02:14:16 - cmdstanpy - INFO - Chain [1] done processing\n",
      "02:14:16 - cmdstanpy - INFO - Chain [1] done processing\n",
      "02:14:16 - cmdstanpy - INFO - Chain [1] done processing\n",
      "02:14:16 - cmdstanpy - INFO - Chain [1] done processing\n",
      "02:14:16 - cmdstanpy - INFO - Chain [1] done processing\n",
      "02:14:17 - cmdstanpy - INFO - Chain [1] done processing\n",
      "02:14:17 - cmdstanpy - INFO - Chain [1] done processing\n",
      "02:14:17 - cmdstanpy - INFO - Chain [1] done processing\n",
      "02:14:17 - cmdstanpy - INFO - Chain [1] done processing\n"
     ]
    },
    {
     "name": "stdout",
     "output_type": "stream",
     "text": [
      "[I 2025-08-23 02:14:17,641] Trial 56 finished with value: 567.9725451744639 and parameters: {'changepoint_prior_scale': 0.01949231404769011, 'seasonality_prior_scale': 0.18280004182178455, 'holidays_prior_scale': 2.1056544405457265}. Best is trial 32 with value: 530.5179269603154.\n"
     ]
    },
    {
     "name": "stderr",
     "output_type": "stream",
     "text": [
      "02:14:17 - cmdstanpy - INFO - Chain [1] start processing\n",
      "02:14:18 - cmdstanpy - INFO - Chain [1] done processing\n",
      "02:14:19 - cmdstanpy - INFO - Chain [1] start processing\n",
      "02:14:19 - cmdstanpy - INFO - Chain [1] start processing\n",
      "02:14:19 - cmdstanpy - INFO - Chain [1] done processing\n",
      "02:14:19 - cmdstanpy - ERROR - Chain [1] error: error during processing Operation not permitted\n",
      "02:14:19 - cmdstanpy - INFO - Chain [1] done processing\n",
      "Optimization terminated abnormally. Falling back to Newton.\n",
      "02:14:19 - cmdstanpy - INFO - Chain [1] start processing\n",
      "02:14:19 - cmdstanpy - INFO - Chain [1] start processing\n",
      "02:14:19 - cmdstanpy - INFO - Chain [1] start processing\n",
      "02:14:19 - cmdstanpy - INFO - Chain [1] start processing\n",
      "02:14:19 - cmdstanpy - INFO - Chain [1] start processing\n",
      "02:14:19 - cmdstanpy - INFO - Chain [1] done processing\n",
      "02:14:19 - cmdstanpy - INFO - Chain [1] start processing\n",
      "02:14:19 - cmdstanpy - INFO - Chain [1] done processing\n",
      "02:14:19 - cmdstanpy - INFO - Chain [1] start processing\n",
      "02:14:20 - cmdstanpy - INFO - Chain [1] done processing\n",
      "02:14:20 - cmdstanpy - INFO - Chain [1] done processing\n",
      "02:14:20 - cmdstanpy - ERROR - Chain [1] error: error during processing Operation not permitted\n",
      "02:14:20 - cmdstanpy - ERROR - Chain [1] error: error during processing Operation not permitted\n",
      "02:14:20 - cmdstanpy - INFO - Chain [1] start processing\n",
      "02:14:20 - cmdstanpy - INFO - Chain [1] done processing\n",
      "Optimization terminated abnormally. Falling back to Newton.\n",
      "02:14:20 - cmdstanpy - INFO - Chain [1] start processing\n",
      "02:14:20 - cmdstanpy - INFO - Chain [1] done processing\n",
      "Optimization terminated abnormally. Falling back to Newton.\n",
      "02:14:20 - cmdstanpy - INFO - Chain [1] done processing\n",
      "02:14:20 - cmdstanpy - ERROR - Chain [1] error: error during processing Operation not permitted\n",
      "02:14:20 - cmdstanpy - ERROR - Chain [1] error: error during processing Operation not permitted\n",
      "02:14:20 - cmdstanpy - INFO - Chain [1] done processing\n",
      "Optimization terminated abnormally. Falling back to Newton.\n",
      "02:14:20 - cmdstanpy - ERROR - Chain [1] error: error during processing Operation not permitted\n",
      "Optimization terminated abnormally. Falling back to Newton.\n",
      "Optimization terminated abnormally. Falling back to Newton.\n",
      "02:14:20 - cmdstanpy - INFO - Chain [1] start processing\n",
      "02:14:20 - cmdstanpy - INFO - Chain [1] start processing\n",
      "02:14:20 - cmdstanpy - INFO - Chain [1] start processing\n",
      "02:14:21 - cmdstanpy - INFO - Chain [1] start processing\n",
      "02:14:21 - cmdstanpy - INFO - Chain [1] start processing\n",
      "02:14:23 - cmdstanpy - INFO - Chain [1] done processing\n",
      "02:14:25 - cmdstanpy - INFO - Chain [1] done processing\n",
      "02:14:25 - cmdstanpy - INFO - Chain [1] done processing\n",
      "02:14:26 - cmdstanpy - INFO - Chain [1] done processing\n",
      "02:14:26 - cmdstanpy - INFO - Chain [1] done processing\n",
      "02:14:31 - cmdstanpy - INFO - Chain [1] done processing\n"
     ]
    },
    {
     "name": "stdout",
     "output_type": "stream",
     "text": [
      "[I 2025-08-23 02:14:31,203] Trial 57 finished with value: 965.3830638649047 and parameters: {'changepoint_prior_scale': 0.00054876510260208, 'seasonality_prior_scale': 0.013993377520374122, 'holidays_prior_scale': 6.788162138220546}. Best is trial 32 with value: 530.5179269603154.\n"
     ]
    },
    {
     "name": "stderr",
     "output_type": "stream",
     "text": [
      "02:14:31 - cmdstanpy - INFO - Chain [1] start processing\n",
      "02:14:31 - cmdstanpy - INFO - Chain [1] done processing\n",
      "02:14:32 - cmdstanpy - INFO - Chain [1] start processing\n",
      "02:14:32 - cmdstanpy - INFO - Chain [1] done processing\n",
      "02:14:33 - cmdstanpy - INFO - Chain [1] start processing\n",
      "02:14:33 - cmdstanpy - INFO - Chain [1] start processing\n",
      "02:14:33 - cmdstanpy - INFO - Chain [1] start processing\n",
      "02:14:33 - cmdstanpy - INFO - Chain [1] start processing\n",
      "02:14:33 - cmdstanpy - INFO - Chain [1] start processing\n",
      "02:14:33 - cmdstanpy - INFO - Chain [1] start processing\n",
      "02:14:33 - cmdstanpy - INFO - Chain [1] done processing\n",
      "02:14:33 - cmdstanpy - INFO - Chain [1] done processing\n",
      "02:14:33 - cmdstanpy - INFO - Chain [1] start processing\n",
      "02:14:33 - cmdstanpy - INFO - Chain [1] start processing\n",
      "02:14:33 - cmdstanpy - INFO - Chain [1] start processing\n",
      "02:14:33 - cmdstanpy - INFO - Chain [1] done processing\n",
      "02:14:33 - cmdstanpy - INFO - Chain [1] done processing\n",
      "02:14:33 - cmdstanpy - INFO - Chain [1] done processing\n",
      "02:14:33 - cmdstanpy - INFO - Chain [1] done processing\n",
      "02:14:33 - cmdstanpy - INFO - Chain [1] done processing\n",
      "02:14:33 - cmdstanpy - INFO - Chain [1] done processing\n",
      "02:14:33 - cmdstanpy - INFO - Chain [1] done processing\n"
     ]
    },
    {
     "name": "stdout",
     "output_type": "stream",
     "text": [
      "[I 2025-08-23 02:14:34,299] Trial 58 finished with value: 568.8583963982975 and parameters: {'changepoint_prior_scale': 0.003654334786859121, 'seasonality_prior_scale': 1.7699862764531038, 'holidays_prior_scale': 26.00702463098245}. Best is trial 32 with value: 530.5179269603154.\n"
     ]
    },
    {
     "name": "stderr",
     "output_type": "stream",
     "text": [
      "02:14:34 - cmdstanpy - INFO - Chain [1] start processing\n",
      "02:14:34 - cmdstanpy - INFO - Chain [1] done processing\n",
      "02:14:35 - cmdstanpy - INFO - Chain [1] start processing\n",
      "02:14:35 - cmdstanpy - INFO - Chain [1] done processing\n",
      "02:14:35 - cmdstanpy - ERROR - Chain [1] error: error during processing Operation not permitted\n",
      "Optimization terminated abnormally. Falling back to Newton.\n",
      "02:14:35 - cmdstanpy - INFO - Chain [1] start processing\n",
      "02:14:36 - cmdstanpy - INFO - Chain [1] start processing\n",
      "02:14:36 - cmdstanpy - INFO - Chain [1] start processing\n",
      "02:14:36 - cmdstanpy - INFO - Chain [1] done processing\n",
      "02:14:36 - cmdstanpy - INFO - Chain [1] start processing\n",
      "02:14:36 - cmdstanpy - INFO - Chain [1] start processing\n",
      "02:14:36 - cmdstanpy - INFO - Chain [1] start processing\n",
      "02:14:36 - cmdstanpy - INFO - Chain [1] done processing\n",
      "02:14:36 - cmdstanpy - INFO - Chain [1] start processing\n",
      "02:14:36 - cmdstanpy - INFO - Chain [1] start processing\n",
      "02:14:36 - cmdstanpy - INFO - Chain [1] done processing\n",
      "02:14:36 - cmdstanpy - INFO - Chain [1] start processing\n",
      "02:14:36 - cmdstanpy - INFO - Chain [1] start processing\n",
      "02:14:36 - cmdstanpy - INFO - Chain [1] done processing\n",
      "02:14:36 - cmdstanpy - INFO - Chain [1] done processing\n",
      "02:14:36 - cmdstanpy - ERROR - Chain [1] error: error during processing Operation not permitted\n",
      "02:14:36 - cmdstanpy - INFO - Chain [1] done processing\n",
      "Optimization terminated abnormally. Falling back to Newton.\n",
      "02:14:36 - cmdstanpy - INFO - Chain [1] done processing\n",
      "02:14:36 - cmdstanpy - INFO - Chain [1] done processing\n",
      "02:14:37 - cmdstanpy - INFO - Chain [1] done processing\n",
      "02:14:37 - cmdstanpy - INFO - Chain [1] start processing\n",
      "02:14:38 - cmdstanpy - INFO - Chain [1] done processing\n",
      "02:14:38 - cmdstanpy - INFO - Chain [1] done processing\n"
     ]
    },
    {
     "name": "stdout",
     "output_type": "stream",
     "text": [
      "[I 2025-08-23 02:14:39,168] Trial 59 finished with value: 551.0173681899063 and parameters: {'changepoint_prior_scale': 0.0012764767586165905, 'seasonality_prior_scale': 30.540848942619974, 'holidays_prior_scale': 9.279673805078499}. Best is trial 32 with value: 530.5179269603154.\n"
     ]
    },
    {
     "name": "stderr",
     "output_type": "stream",
     "text": [
      "02:14:39 - cmdstanpy - INFO - Chain [1] start processing\n",
      "02:14:39 - cmdstanpy - INFO - Chain [1] done processing\n",
      "02:14:39 - cmdstanpy - ERROR - Chain [1] error: error during processing Operation not permitted\n",
      "Optimization terminated abnormally. Falling back to Newton.\n",
      "02:14:39 - cmdstanpy - INFO - Chain [1] start processing\n",
      "02:14:41 - cmdstanpy - INFO - Chain [1] done processing\n",
      "02:14:43 - cmdstanpy - INFO - Chain [1] start processing\n",
      "02:14:43 - cmdstanpy - INFO - Chain [1] start processing\n",
      "02:14:43 - cmdstanpy - INFO - Chain [1] start processing\n",
      "02:14:43 - cmdstanpy - INFO - Chain [1] start processing\n",
      "02:14:43 - cmdstanpy - INFO - Chain [1] start processing\n",
      "02:14:43 - cmdstanpy - INFO - Chain [1] done processing\n",
      "02:14:43 - cmdstanpy - INFO - Chain [1] start processing\n",
      "02:14:43 - cmdstanpy - INFO - Chain [1] done processing\n",
      "02:14:43 - cmdstanpy - ERROR - Chain [1] error: error during processing Operation not permitted\n",
      "02:14:43 - cmdstanpy - INFO - Chain [1] start processing\n",
      "02:14:43 - cmdstanpy - INFO - Chain [1] start processing\n",
      "02:14:43 - cmdstanpy - INFO - Chain [1] start processing\n",
      "02:14:43 - cmdstanpy - ERROR - Chain [1] error: error during processing Operation not permitted\n",
      "02:14:43 - cmdstanpy - INFO - Chain [1] start processing\n",
      "02:14:43 - cmdstanpy - INFO - Chain [1] done processing\n",
      "02:14:43 - cmdstanpy - ERROR - Chain [1] error: error during processing Operation not permitted\n",
      "Optimization terminated abnormally. Falling back to Newton.\n",
      "Optimization terminated abnormally. Falling back to Newton.\n",
      "02:14:43 - cmdstanpy - INFO - Chain [1] done processing\n",
      "Optimization terminated abnormally. Falling back to Newton.\n",
      "02:14:43 - cmdstanpy - ERROR - Chain [1] error: error during processing Operation not permitted\n",
      "02:14:43 - cmdstanpy - INFO - Chain [1] done processing\n",
      "02:14:43 - cmdstanpy - INFO - Chain [1] done processing\n",
      "02:14:43 - cmdstanpy - INFO - Chain [1] done processing\n",
      "Optimization terminated abnormally. Falling back to Newton.\n",
      "02:14:43 - cmdstanpy - INFO - Chain [1] done processing\n",
      "02:14:43 - cmdstanpy - INFO - Chain [1] done processing\n",
      "02:14:43 - cmdstanpy - ERROR - Chain [1] error: error during processing Operation not permitted\n",
      "02:14:43 - cmdstanpy - INFO - Chain [1] done processing\n",
      "02:14:43 - cmdstanpy - ERROR - Chain [1] error: error during processing Operation not permitted\n",
      "02:14:43 - cmdstanpy - ERROR - Chain [1] error: error during processing Operation not permitted\n",
      "Optimization terminated abnormally. Falling back to Newton.\n",
      "02:14:43 - cmdstanpy - ERROR - Chain [1] error: error during processing Operation not permitted\n",
      "Optimization terminated abnormally. Falling back to Newton.\n",
      "Optimization terminated abnormally. Falling back to Newton.\n",
      "02:14:43 - cmdstanpy - ERROR - Chain [1] error: error during processing Operation not permitted\n",
      "02:14:43 - cmdstanpy - ERROR - Chain [1] error: error during processing Operation not permitted\n",
      "Optimization terminated abnormally. Falling back to Newton.\n",
      "02:14:44 - cmdstanpy - INFO - Chain [1] start processing\n",
      "02:14:44 - cmdstanpy - INFO - Chain [1] start processing\n",
      "Optimization terminated abnormally. Falling back to Newton.\n",
      "02:14:44 - cmdstanpy - INFO - Chain [1] start processing\n",
      "Optimization terminated abnormally. Falling back to Newton.\n",
      "02:14:44 - cmdstanpy - INFO - Chain [1] start processing\n",
      "02:14:44 - cmdstanpy - INFO - Chain [1] start processing\n",
      "02:14:44 - cmdstanpy - INFO - Chain [1] start processing\n",
      "02:14:44 - cmdstanpy - INFO - Chain [1] start processing\n",
      "02:14:44 - cmdstanpy - INFO - Chain [1] start processing\n",
      "02:14:44 - cmdstanpy - INFO - Chain [1] start processing\n",
      "02:14:44 - cmdstanpy - INFO - Chain [1] start processing\n",
      "02:14:47 - cmdstanpy - INFO - Chain [1] done processing\n",
      "02:14:48 - cmdstanpy - INFO - Chain [1] done processing\n",
      "02:14:49 - cmdstanpy - INFO - Chain [1] done processing\n",
      "02:14:50 - cmdstanpy - INFO - Chain [1] done processing\n",
      "02:14:50 - cmdstanpy - INFO - Chain [1] done processing\n",
      "02:14:52 - cmdstanpy - INFO - Chain [1] done processing\n",
      "02:14:54 - cmdstanpy - INFO - Chain [1] done processing\n",
      "02:15:10 - cmdstanpy - INFO - Chain [1] done processing\n",
      "02:15:47 - cmdstanpy - INFO - Chain [1] done processing\n",
      "02:16:21 - cmdstanpy - INFO - Chain [1] done processing\n"
     ]
    },
    {
     "name": "stdout",
     "output_type": "stream",
     "text": [
      "[I 2025-08-23 02:16:21,554] Trial 60 finished with value: 568.5077254988247 and parameters: {'changepoint_prior_scale': 0.00032266626816151897, 'seasonality_prior_scale': 38.982190284056735, 'holidays_prior_scale': 12.873792427838625}. Best is trial 32 with value: 530.5179269603154.\n"
     ]
    },
    {
     "name": "stderr",
     "output_type": "stream",
     "text": [
      "02:16:21 - cmdstanpy - INFO - Chain [1] start processing\n",
      "02:16:22 - cmdstanpy - INFO - Chain [1] done processing\n",
      "02:16:23 - cmdstanpy - INFO - Chain [1] start processing\n",
      "02:16:23 - cmdstanpy - INFO - Chain [1] start processing\n",
      "02:16:23 - cmdstanpy - INFO - Chain [1] start processing\n",
      "02:16:23 - cmdstanpy - INFO - Chain [1] start processing\n",
      "02:16:23 - cmdstanpy - INFO - Chain [1] done processing\n",
      "02:16:23 - cmdstanpy - INFO - Chain [1] start processing\n",
      "02:16:23 - cmdstanpy - INFO - Chain [1] start processing\n",
      "02:16:23 - cmdstanpy - INFO - Chain [1] start processing\n",
      "02:16:23 - cmdstanpy - INFO - Chain [1] start processing\n",
      "02:16:23 - cmdstanpy - INFO - Chain [1] start processing\n",
      "02:16:23 - cmdstanpy - INFO - Chain [1] start processing\n",
      "02:16:24 - cmdstanpy - INFO - Chain [1] done processing\n",
      "02:16:23 - cmdstanpy - INFO - Chain [1] done processing\n",
      "02:16:24 - cmdstanpy - INFO - Chain [1] done processing\n",
      "02:16:24 - cmdstanpy - INFO - Chain [1] done processing\n",
      "02:16:24 - cmdstanpy - INFO - Chain [1] done processing\n",
      "02:16:24 - cmdstanpy - INFO - Chain [1] done processing\n",
      "02:16:24 - cmdstanpy - INFO - Chain [1] done processing\n",
      "02:16:24 - cmdstanpy - INFO - Chain [1] done processing\n",
      "02:16:24 - cmdstanpy - INFO - Chain [1] done processing\n"
     ]
    },
    {
     "name": "stdout",
     "output_type": "stream",
     "text": [
      "[I 2025-08-23 02:16:24,996] Trial 61 finished with value: 549.6237888611054 and parameters: {'changepoint_prior_scale': 0.0018047445438397667, 'seasonality_prior_scale': 27.294717055299706, 'holidays_prior_scale': 9.554316534174063}. Best is trial 32 with value: 530.5179269603154.\n"
     ]
    },
    {
     "name": "stderr",
     "output_type": "stream",
     "text": [
      "02:16:25 - cmdstanpy - INFO - Chain [1] start processing\n",
      "02:16:25 - cmdstanpy - INFO - Chain [1] done processing\n",
      "02:16:26 - cmdstanpy - INFO - Chain [1] start processing\n",
      "02:16:26 - cmdstanpy - INFO - Chain [1] done processing\n",
      "02:16:26 - cmdstanpy - INFO - Chain [1] start processing\n",
      "02:16:27 - cmdstanpy - INFO - Chain [1] start processing\n",
      "02:16:27 - cmdstanpy - INFO - Chain [1] start processing\n",
      "02:16:27 - cmdstanpy - INFO - Chain [1] start processing\n",
      "02:16:27 - cmdstanpy - INFO - Chain [1] start processing\n",
      "02:16:27 - cmdstanpy - INFO - Chain [1] done processing\n",
      "02:16:27 - cmdstanpy - INFO - Chain [1] start processing\n",
      "02:16:27 - cmdstanpy - INFO - Chain [1] done processing\n",
      "02:16:27 - cmdstanpy - INFO - Chain [1] done processing\n",
      "02:16:27 - cmdstanpy - INFO - Chain [1] start processing\n",
      "02:16:27 - cmdstanpy - INFO - Chain [1] start processing\n",
      "02:16:27 - cmdstanpy - INFO - Chain [1] start processing\n",
      "02:16:27 - cmdstanpy - INFO - Chain [1] done processing\n",
      "02:16:27 - cmdstanpy - INFO - Chain [1] done processing\n",
      "02:16:27 - cmdstanpy - ERROR - Chain [1] error: error during processing Operation not permitted\n",
      "02:16:27 - cmdstanpy - INFO - Chain [1] done processing\n",
      "02:16:27 - cmdstanpy - INFO - Chain [1] done processing\n",
      "02:16:27 - cmdstanpy - INFO - Chain [1] done processing\n",
      "Optimization terminated abnormally. Falling back to Newton.\n",
      "02:16:27 - cmdstanpy - INFO - Chain [1] done processing\n",
      "02:16:27 - cmdstanpy - ERROR - Chain [1] error: error during processing Operation not permitted\n",
      "02:16:27 - cmdstanpy - ERROR - Chain [1] error: error during processing Operation not permitted\n",
      "Optimization terminated abnormally. Falling back to Newton.\n",
      "Optimization terminated abnormally. Falling back to Newton.\n",
      "02:16:28 - cmdstanpy - INFO - Chain [1] start processing\n",
      "02:16:28 - cmdstanpy - INFO - Chain [1] start processing\n",
      "02:16:28 - cmdstanpy - INFO - Chain [1] start processing\n",
      "02:16:30 - cmdstanpy - INFO - Chain [1] done processing\n",
      "02:16:31 - cmdstanpy - INFO - Chain [1] done processing\n",
      "02:16:31 - cmdstanpy - INFO - Chain [1] done processing\n"
     ]
    },
    {
     "name": "stdout",
     "output_type": "stream",
     "text": [
      "[I 2025-08-23 02:16:32,081] Trial 62 finished with value: 609.3652529563418 and parameters: {'changepoint_prior_scale': 0.0010738664104611845, 'seasonality_prior_scale': 29.310968639005747, 'holidays_prior_scale': 7.796970186226646}. Best is trial 32 with value: 530.5179269603154.\n"
     ]
    },
    {
     "name": "stderr",
     "output_type": "stream",
     "text": [
      "02:16:32 - cmdstanpy - INFO - Chain [1] start processing\n",
      "02:16:32 - cmdstanpy - INFO - Chain [1] done processing\n",
      "02:16:33 - cmdstanpy - INFO - Chain [1] start processing\n",
      "02:16:34 - cmdstanpy - INFO - Chain [1] start processing\n",
      "02:16:34 - cmdstanpy - INFO - Chain [1] done processing\n",
      "02:16:34 - cmdstanpy - INFO - Chain [1] start processing\n",
      "02:16:34 - cmdstanpy - INFO - Chain [1] start processing\n",
      "02:16:34 - cmdstanpy - INFO - Chain [1] done processing\n",
      "02:16:34 - cmdstanpy - INFO - Chain [1] start processing\n",
      "02:16:34 - cmdstanpy - INFO - Chain [1] start processing\n",
      "02:16:34 - cmdstanpy - INFO - Chain [1] start processing\n",
      "02:16:34 - cmdstanpy - INFO - Chain [1] start processing\n",
      "02:16:34 - cmdstanpy - INFO - Chain [1] start processing\n",
      "02:16:34 - cmdstanpy - INFO - Chain [1] start processing\n",
      "02:16:34 - cmdstanpy - INFO - Chain [1] done processing\n",
      "02:16:34 - cmdstanpy - INFO - Chain [1] done processing\n",
      "02:16:34 - cmdstanpy - INFO - Chain [1] done processing\n",
      "02:16:34 - cmdstanpy - INFO - Chain [1] done processing\n",
      "02:16:34 - cmdstanpy - INFO - Chain [1] done processing\n",
      "02:16:34 - cmdstanpy - INFO - Chain [1] done processing\n",
      "02:16:34 - cmdstanpy - INFO - Chain [1] done processing\n",
      "02:16:34 - cmdstanpy - INFO - Chain [1] done processing\n"
     ]
    },
    {
     "name": "stdout",
     "output_type": "stream",
     "text": [
      "[I 2025-08-23 02:16:35,405] Trial 63 finished with value: 593.2358540863213 and parameters: {'changepoint_prior_scale': 0.0017715467160127824, 'seasonality_prior_scale': 15.140653880549465, 'holidays_prior_scale': 9.910435101229432}. Best is trial 32 with value: 530.5179269603154.\n"
     ]
    },
    {
     "name": "stderr",
     "output_type": "stream",
     "text": [
      "02:16:35 - cmdstanpy - INFO - Chain [1] start processing\n",
      "02:16:35 - cmdstanpy - INFO - Chain [1] done processing\n",
      "02:16:36 - cmdstanpy - INFO - Chain [1] start processing\n",
      "02:16:36 - cmdstanpy - INFO - Chain [1] done processing\n",
      "02:16:36 - cmdstanpy - INFO - Chain [1] start processing\n",
      "02:16:37 - cmdstanpy - INFO - Chain [1] done processing\n",
      "02:16:37 - cmdstanpy - INFO - Chain [1] start processing\n",
      "02:16:37 - cmdstanpy - INFO - Chain [1] start processing\n",
      "02:16:37 - cmdstanpy - INFO - Chain [1] done processing\n",
      "02:16:37 - cmdstanpy - INFO - Chain [1] start processing\n",
      "02:16:37 - cmdstanpy - INFO - Chain [1] done processing\n",
      "02:16:37 - cmdstanpy - INFO - Chain [1] start processing\n",
      "02:16:37 - cmdstanpy - INFO - Chain [1] start processing\n",
      "02:16:37 - cmdstanpy - INFO - Chain [1] start processing\n",
      "02:16:37 - cmdstanpy - INFO - Chain [1] start processing\n",
      "02:16:37 - cmdstanpy - INFO - Chain [1] done processing\n",
      "02:16:37 - cmdstanpy - INFO - Chain [1] start processing\n",
      "02:16:37 - cmdstanpy - INFO - Chain [1] done processing\n",
      "02:16:37 - cmdstanpy - INFO - Chain [1] done processing\n",
      "02:16:38 - cmdstanpy - INFO - Chain [1] done processing\n",
      "02:16:38 - cmdstanpy - INFO - Chain [1] done processing\n",
      "02:16:38 - cmdstanpy - INFO - Chain [1] done processing\n"
     ]
    },
    {
     "name": "stdout",
     "output_type": "stream",
     "text": [
      "[I 2025-08-23 02:16:38,476] Trial 64 finished with value: 558.1048381661616 and parameters: {'changepoint_prior_scale': 0.002578119877331503, 'seasonality_prior_scale': 24.845966454818768, 'holidays_prior_scale': 5.289141519639229}. Best is trial 32 with value: 530.5179269603154.\n"
     ]
    },
    {
     "name": "stderr",
     "output_type": "stream",
     "text": [
      "02:16:38 - cmdstanpy - INFO - Chain [1] start processing\n",
      "02:16:38 - cmdstanpy - INFO - Chain [1] done processing\n",
      "02:16:39 - cmdstanpy - INFO - Chain [1] start processing\n",
      "02:16:39 - cmdstanpy - INFO - Chain [1] done processing\n",
      "02:16:40 - cmdstanpy - INFO - Chain [1] start processing\n",
      "02:16:40 - cmdstanpy - INFO - Chain [1] start processing\n",
      "02:16:40 - cmdstanpy - INFO - Chain [1] start processing\n",
      "02:16:40 - cmdstanpy - INFO - Chain [1] start processing\n",
      "02:16:40 - cmdstanpy - INFO - Chain [1] start processing\n",
      "02:16:40 - cmdstanpy - INFO - Chain [1] start processing\n",
      "02:16:40 - cmdstanpy - INFO - Chain [1] start processing\n",
      "02:16:40 - cmdstanpy - INFO - Chain [1] start processing\n",
      "02:16:40 - cmdstanpy - INFO - Chain [1] done processing\n",
      "02:16:40 - cmdstanpy - INFO - Chain [1] start processing\n",
      "02:16:40 - cmdstanpy - INFO - Chain [1] done processing\n",
      "02:16:40 - cmdstanpy - ERROR - Chain [1] error: error during processing Operation not permitted\n",
      "Optimization terminated abnormally. Falling back to Newton.\n",
      "02:16:40 - cmdstanpy - INFO - Chain [1] done processing\n",
      "02:16:40 - cmdstanpy - INFO - Chain [1] done processing\n",
      "02:16:40 - cmdstanpy - INFO - Chain [1] done processing\n",
      "02:16:40 - cmdstanpy - INFO - Chain [1] done processing\n",
      "02:16:40 - cmdstanpy - INFO - Chain [1] done processing\n",
      "02:16:40 - cmdstanpy - INFO - Chain [1] done processing\n",
      "02:16:40 - cmdstanpy - ERROR - Chain [1] error: error during processing Operation not permitted\n",
      "02:16:40 - cmdstanpy - INFO - Chain [1] done processing\n",
      "02:16:40 - cmdstanpy - ERROR - Chain [1] error: error during processing Operation not permitted\n",
      "02:16:40 - cmdstanpy - ERROR - Chain [1] error: error during processing Operation not permitted\n",
      "02:16:40 - cmdstanpy - ERROR - Chain [1] error: error during processing Operation not permitted\n",
      "02:16:40 - cmdstanpy - INFO - Chain [1] start processing\n",
      "Optimization terminated abnormally. Falling back to Newton.\n",
      "Optimization terminated abnormally. Falling back to Newton.\n",
      "Optimization terminated abnormally. Falling back to Newton.\n",
      "Optimization terminated abnormally. Falling back to Newton.\n",
      "02:16:41 - cmdstanpy - INFO - Chain [1] start processing\n",
      "02:16:41 - cmdstanpy - INFO - Chain [1] start processing\n",
      "02:16:41 - cmdstanpy - INFO - Chain [1] start processing\n",
      "02:16:41 - cmdstanpy - INFO - Chain [1] start processing\n",
      "02:16:43 - cmdstanpy - INFO - Chain [1] done processing\n",
      "02:16:44 - cmdstanpy - INFO - Chain [1] done processing\n",
      "02:16:45 - cmdstanpy - INFO - Chain [1] done processing\n",
      "02:16:45 - cmdstanpy - INFO - Chain [1] done processing\n",
      "02:16:49 - cmdstanpy - INFO - Chain [1] done processing\n",
      "02:16:49 - cmdstanpy - INFO - Chain [1] start processing\n"
     ]
    },
    {
     "name": "stdout",
     "output_type": "stream",
     "text": [
      "[I 2025-08-23 02:16:49,434] Trial 65 finished with value: 1203.6978583251055 and parameters: {'changepoint_prior_scale': 0.000570080126849954, 'seasonality_prior_scale': 0.8656970615511669, 'holidays_prior_scale': 15.799620429585111}. Best is trial 32 with value: 530.5179269603154.\n"
     ]
    },
    {
     "name": "stderr",
     "output_type": "stream",
     "text": [
      "02:16:49 - cmdstanpy - INFO - Chain [1] done processing\n",
      "02:16:50 - cmdstanpy - INFO - Chain [1] start processing\n",
      "02:16:50 - cmdstanpy - INFO - Chain [1] done processing\n",
      "02:16:50 - cmdstanpy - ERROR - Chain [1] error: error during processing Operation not permitted\n",
      "Optimization terminated abnormally. Falling back to Newton.\n",
      "02:16:51 - cmdstanpy - INFO - Chain [1] start processing\n",
      "02:16:51 - cmdstanpy - INFO - Chain [1] start processing\n",
      "02:16:51 - cmdstanpy - INFO - Chain [1] start processing\n",
      "02:16:51 - cmdstanpy - INFO - Chain [1] done processing\n",
      "02:16:51 - cmdstanpy - INFO - Chain [1] done processing\n",
      "02:16:51 - cmdstanpy - INFO - Chain [1] done processing\n",
      "02:16:51 - cmdstanpy - INFO - Chain [1] start processing\n",
      "02:16:51 - cmdstanpy - INFO - Chain [1] start processing\n",
      "02:16:51 - cmdstanpy - INFO - Chain [1] start processing\n",
      "02:16:51 - cmdstanpy - INFO - Chain [1] start processing\n",
      "02:16:51 - cmdstanpy - INFO - Chain [1] start processing\n",
      "02:16:51 - cmdstanpy - INFO - Chain [1] start processing\n",
      "02:16:51 - cmdstanpy - INFO - Chain [1] done processing\n",
      "02:16:51 - cmdstanpy - INFO - Chain [1] start processing\n",
      "02:16:51 - cmdstanpy - INFO - Chain [1] done processing\n",
      "02:16:51 - cmdstanpy - INFO - Chain [1] done processing\n",
      "02:16:51 - cmdstanpy - INFO - Chain [1] done processing\n",
      "02:16:51 - cmdstanpy - INFO - Chain [1] done processing\n",
      "02:16:52 - cmdstanpy - ERROR - Chain [1] error: error during processing Operation not permitted\n",
      "02:16:52 - cmdstanpy - INFO - Chain [1] done processing\n",
      "Optimization terminated abnormally. Falling back to Newton.\n",
      "02:16:52 - cmdstanpy - INFO - Chain [1] start processing\n",
      "02:16:53 - cmdstanpy - INFO - Chain [1] done processing\n",
      "02:16:54 - cmdstanpy - INFO - Chain [1] done processing\n"
     ]
    },
    {
     "name": "stdout",
     "output_type": "stream",
     "text": [
      "[I 2025-08-23 02:16:54,322] Trial 66 finished with value: 559.0159135387909 and parameters: {'changepoint_prior_scale': 0.0013216518572312878, 'seasonality_prior_scale': 33.13218597703227, 'holidays_prior_scale': 4.301043797389049}. Best is trial 32 with value: 530.5179269603154.\n"
     ]
    },
    {
     "name": "stderr",
     "output_type": "stream",
     "text": [
      "02:16:54 - cmdstanpy - INFO - Chain [1] start processing\n",
      "02:16:54 - cmdstanpy - INFO - Chain [1] done processing\n",
      "02:16:56 - cmdstanpy - INFO - Chain [1] start processing\n",
      "02:16:56 - cmdstanpy - INFO - Chain [1] start processing\n",
      "02:16:56 - cmdstanpy - INFO - Chain [1] start processing\n",
      "02:16:56 - cmdstanpy - INFO - Chain [1] done processing\n",
      "02:16:56 - cmdstanpy - INFO - Chain [1] start processing\n",
      "02:16:56 - cmdstanpy - INFO - Chain [1] start processing\n",
      "02:16:56 - cmdstanpy - INFO - Chain [1] start processing\n",
      "02:16:56 - cmdstanpy - INFO - Chain [1] start processing\n",
      "02:16:56 - cmdstanpy - INFO - Chain [1] start processing\n",
      "02:16:56 - cmdstanpy - INFO - Chain [1] done processing\n",
      "02:16:56 - cmdstanpy - INFO - Chain [1] start processing\n",
      "02:16:56 - cmdstanpy - INFO - Chain [1] start processing\n",
      "02:16:56 - cmdstanpy - INFO - Chain [1] done processing\n",
      "02:16:56 - cmdstanpy - INFO - Chain [1] done processing\n",
      "02:16:56 - cmdstanpy - INFO - Chain [1] done processing\n",
      "02:16:56 - cmdstanpy - INFO - Chain [1] done processing\n",
      "02:16:56 - cmdstanpy - INFO - Chain [1] done processing\n",
      "02:16:56 - cmdstanpy - INFO - Chain [1] done processing\n",
      "02:16:57 - cmdstanpy - INFO - Chain [1] done processing\n",
      "02:16:57 - cmdstanpy - INFO - Chain [1] done processing\n"
     ]
    },
    {
     "name": "stdout",
     "output_type": "stream",
     "text": [
      "[I 2025-08-23 02:16:57,664] Trial 67 finished with value: 564.4847304765276 and parameters: {'changepoint_prior_scale': 0.0020695348776918723, 'seasonality_prior_scale': 18.523749348345223, 'holidays_prior_scale': 8.945080553224873}. Best is trial 32 with value: 530.5179269603154.\n"
     ]
    },
    {
     "name": "stderr",
     "output_type": "stream",
     "text": [
      "02:16:57 - cmdstanpy - INFO - Chain [1] start processing\n",
      "02:16:58 - cmdstanpy - INFO - Chain [1] done processing\n",
      "02:16:59 - cmdstanpy - INFO - Chain [1] start processing\n",
      "02:16:59 - cmdstanpy - INFO - Chain [1] start processing\n",
      "02:16:59 - cmdstanpy - INFO - Chain [1] done processing\n",
      "02:16:59 - cmdstanpy - INFO - Chain [1] done processing\n",
      "02:16:59 - cmdstanpy - ERROR - Chain [1] error: error during processing Operation not permitted\n",
      "02:16:59 - cmdstanpy - INFO - Chain [1] start processing\n",
      "02:16:59 - cmdstanpy - INFO - Chain [1] start processing\n",
      "Optimization terminated abnormally. Falling back to Newton.\n",
      "02:16:59 - cmdstanpy - INFO - Chain [1] start processing\n",
      "02:16:59 - cmdstanpy - INFO - Chain [1] start processing\n",
      "02:16:59 - cmdstanpy - INFO - Chain [1] start processing\n",
      "02:16:59 - cmdstanpy - INFO - Chain [1] start processing\n",
      "02:16:59 - cmdstanpy - INFO - Chain [1] start processing\n",
      "02:16:59 - cmdstanpy - INFO - Chain [1] start processing\n",
      "02:16:59 - cmdstanpy - INFO - Chain [1] done processing\n",
      "02:16:59 - cmdstanpy - INFO - Chain [1] done processing\n",
      "02:16:59 - cmdstanpy - INFO - Chain [1] done processing\n",
      "02:16:59 - cmdstanpy - INFO - Chain [1] done processing\n",
      "02:17:00 - cmdstanpy - INFO - Chain [1] done processing\n",
      "02:17:00 - cmdstanpy - ERROR - Chain [1] error: error during processing Operation not permitted\n",
      "02:17:00 - cmdstanpy - INFO - Chain [1] start processing\n",
      "02:17:00 - cmdstanpy - INFO - Chain [1] done processing\n",
      "Optimization terminated abnormally. Falling back to Newton.\n",
      "02:17:00 - cmdstanpy - INFO - Chain [1] done processing\n",
      "02:17:00 - cmdstanpy - INFO - Chain [1] done processing\n",
      "02:17:00 - cmdstanpy - ERROR - Chain [1] error: error during processing Operation not permitted\n",
      "02:17:00 - cmdstanpy - ERROR - Chain [1] error: error during processing Operation not permitted\n",
      "Optimization terminated abnormally. Falling back to Newton.\n",
      "Optimization terminated abnormally. Falling back to Newton.\n",
      "02:17:00 - cmdstanpy - INFO - Chain [1] start processing\n",
      "02:17:00 - cmdstanpy - INFO - Chain [1] start processing\n",
      "02:17:00 - cmdstanpy - INFO - Chain [1] start processing\n",
      "02:17:03 - cmdstanpy - INFO - Chain [1] done processing\n",
      "02:17:04 - cmdstanpy - INFO - Chain [1] done processing\n",
      "02:17:04 - cmdstanpy - INFO - Chain [1] done processing\n",
      "02:17:07 - cmdstanpy - INFO - Chain [1] done processing\n"
     ]
    },
    {
     "name": "stdout",
     "output_type": "stream",
     "text": [
      "[I 2025-08-23 02:17:07,223] Trial 68 finished with value: 910.0979343546611 and parameters: {'changepoint_prior_scale': 0.0008867300172668438, 'seasonality_prior_scale': 0.16916437247685004, 'holidays_prior_scale': 2.8608368849425965}. Best is trial 32 with value: 530.5179269603154.\n"
     ]
    },
    {
     "name": "stderr",
     "output_type": "stream",
     "text": [
      "02:17:07 - cmdstanpy - INFO - Chain [1] start processing\n",
      "02:17:07 - cmdstanpy - INFO - Chain [1] done processing\n",
      "02:17:08 - cmdstanpy - INFO - Chain [1] start processing\n",
      "02:17:08 - cmdstanpy - INFO - Chain [1] start processing\n",
      "02:17:08 - cmdstanpy - INFO - Chain [1] start processing\n",
      "02:17:09 - cmdstanpy - INFO - Chain [1] start processing\n",
      "02:17:09 - cmdstanpy - INFO - Chain [1] done processing\n",
      "02:17:09 - cmdstanpy - INFO - Chain [1] done processing\n",
      "02:17:09 - cmdstanpy - INFO - Chain [1] done processing\n",
      "02:17:09 - cmdstanpy - INFO - Chain [1] start processing\n",
      "02:17:09 - cmdstanpy - INFO - Chain [1] start processing\n",
      "02:17:09 - cmdstanpy - INFO - Chain [1] start processing\n",
      "02:17:09 - cmdstanpy - INFO - Chain [1] start processing\n",
      "02:17:09 - cmdstanpy - INFO - Chain [1] start processing\n",
      "02:17:09 - cmdstanpy - INFO - Chain [1] start processing\n",
      "02:17:09 - cmdstanpy - INFO - Chain [1] done processing\n",
      "02:17:09 - cmdstanpy - INFO - Chain [1] done processing\n",
      "02:17:09 - cmdstanpy - INFO - Chain [1] done processing\n",
      "02:17:09 - cmdstanpy - INFO - Chain [1] done processing\n",
      "02:17:09 - cmdstanpy - INFO - Chain [1] done processing\n",
      "02:17:09 - cmdstanpy - INFO - Chain [1] done processing\n",
      "02:17:09 - cmdstanpy - INFO - Chain [1] done processing\n"
     ]
    },
    {
     "name": "stdout",
     "output_type": "stream",
     "text": [
      "[I 2025-08-23 02:17:10,211] Trial 69 finished with value: 577.9131150984388 and parameters: {'changepoint_prior_scale': 0.0054051945247293185, 'seasonality_prior_scale': 5.8257876693248365, 'holidays_prior_scale': 28.956425915789453}. Best is trial 32 with value: 530.5179269603154.\n",
      "SEC-006 best params: {'changepoint_prior_scale': 0.0025178305740946876, 'seasonality_prior_scale': 1.6667875832972159, 'holidays_prior_scale': 7.845337399387722}\n"
     ]
    },
    {
     "name": "stderr",
     "output_type": "stream",
     "text": [
      "02:17:10 - cmdstanpy - INFO - Chain [1] start processing\n",
      "02:17:10 - cmdstanpy - INFO - Chain [1] done processing\n"
     ]
    },
    {
     "ename": "ValueError",
     "evalue": "Could not interpret value `actual_task_minutes` for `x`. Value is a string, but `data` was not passed.",
     "output_type": "error",
     "traceback": [
      "\u001b[31m---------------------------------------------------------------------------\u001b[39m",
      "\u001b[31mValueError\u001b[39m                                Traceback (most recent call last)",
      "\u001b[36mCell\u001b[39m\u001b[36m \u001b[39m\u001b[32mIn[2]\u001b[39m\u001b[32m, line 139\u001b[39m\n\u001b[32m    137\u001b[39m df_plot = results_dict[sec]\n\u001b[32m    138\u001b[39m plt.figure(figsize=(\u001b[32m10\u001b[39m,\u001b[32m6\u001b[39m))\n\u001b[32m--> \u001b[39m\u001b[32m139\u001b[39m \u001b[43msns\u001b[49m\u001b[43m.\u001b[49m\u001b[43mscatterplot\u001b[49m\u001b[43m(\u001b[49m\u001b[43mx\u001b[49m\u001b[43m=\u001b[49m\u001b[33;43m'\u001b[39;49m\u001b[33;43mactual_task_minutes\u001b[39;49m\u001b[33;43m'\u001b[39;49m\u001b[43m,\u001b[49m\u001b[43m \u001b[49m\u001b[43my\u001b[49m\u001b[43m=\u001b[49m\u001b[33;43m'\u001b[39;49m\u001b[33;43mpredicted_task_minutes\u001b[39;49m\u001b[33;43m'\u001b[39;49m\u001b[43m,\u001b[49m\u001b[43m \u001b[49m\u001b[43malpha\u001b[49m\u001b[43m=\u001b[49m\u001b[32;43m0.7\u001b[39;49m\u001b[43m)\u001b[49m\n\u001b[32m    140\u001b[39m plt.plot([\u001b[32m0\u001b[39m, df_plot[\u001b[33m'\u001b[39m\u001b[33mactual_task_minutes\u001b[39m\u001b[33m'\u001b[39m].max()],\n\u001b[32m    141\u001b[39m          [\u001b[32m0\u001b[39m, df_plot[\u001b[33m'\u001b[39m\u001b[33mactual_task_minutes\u001b[39m\u001b[33m'\u001b[39m].max()],\n\u001b[32m    142\u001b[39m          \u001b[33m'\u001b[39m\u001b[33mr--\u001b[39m\u001b[33m'\u001b[39m, linewidth=\u001b[32m2\u001b[39m)\n\u001b[32m    143\u001b[39m plt.title(\u001b[33mf\u001b[39m\u001b[33m\"\u001b[39m\u001b[38;5;132;01m{\u001b[39;00msec\u001b[38;5;132;01m}\u001b[39;00m\u001b[33m Actual vs Predicted Task Minutes (2024)\u001b[39m\u001b[33m\"\u001b[39m)\n",
      "\u001b[36mFile \u001b[39m\u001b[32md:\\tech_triathlon_datathon\\venv\\Lib\\site-packages\\seaborn\\relational.py:615\u001b[39m, in \u001b[36mscatterplot\u001b[39m\u001b[34m(data, x, y, hue, size, style, palette, hue_order, hue_norm, sizes, size_order, size_norm, markers, style_order, legend, ax, **kwargs)\u001b[39m\n\u001b[32m    606\u001b[39m \u001b[38;5;28;01mdef\u001b[39;00m\u001b[38;5;250m \u001b[39m\u001b[34mscatterplot\u001b[39m(\n\u001b[32m    607\u001b[39m     data=\u001b[38;5;28;01mNone\u001b[39;00m, *,\n\u001b[32m    608\u001b[39m     x=\u001b[38;5;28;01mNone\u001b[39;00m, y=\u001b[38;5;28;01mNone\u001b[39;00m, hue=\u001b[38;5;28;01mNone\u001b[39;00m, size=\u001b[38;5;28;01mNone\u001b[39;00m, style=\u001b[38;5;28;01mNone\u001b[39;00m,\n\u001b[32m   (...)\u001b[39m\u001b[32m    612\u001b[39m     **kwargs\n\u001b[32m    613\u001b[39m ):\n\u001b[32m--> \u001b[39m\u001b[32m615\u001b[39m     p = \u001b[43m_ScatterPlotter\u001b[49m\u001b[43m(\u001b[49m\n\u001b[32m    616\u001b[39m \u001b[43m        \u001b[49m\u001b[43mdata\u001b[49m\u001b[43m=\u001b[49m\u001b[43mdata\u001b[49m\u001b[43m,\u001b[49m\n\u001b[32m    617\u001b[39m \u001b[43m        \u001b[49m\u001b[43mvariables\u001b[49m\u001b[43m=\u001b[49m\u001b[38;5;28;43mdict\u001b[39;49m\u001b[43m(\u001b[49m\u001b[43mx\u001b[49m\u001b[43m=\u001b[49m\u001b[43mx\u001b[49m\u001b[43m,\u001b[49m\u001b[43m \u001b[49m\u001b[43my\u001b[49m\u001b[43m=\u001b[49m\u001b[43my\u001b[49m\u001b[43m,\u001b[49m\u001b[43m \u001b[49m\u001b[43mhue\u001b[49m\u001b[43m=\u001b[49m\u001b[43mhue\u001b[49m\u001b[43m,\u001b[49m\u001b[43m \u001b[49m\u001b[43msize\u001b[49m\u001b[43m=\u001b[49m\u001b[43msize\u001b[49m\u001b[43m,\u001b[49m\u001b[43m \u001b[49m\u001b[43mstyle\u001b[49m\u001b[43m=\u001b[49m\u001b[43mstyle\u001b[49m\u001b[43m)\u001b[49m\u001b[43m,\u001b[49m\n\u001b[32m    618\u001b[39m \u001b[43m        \u001b[49m\u001b[43mlegend\u001b[49m\u001b[43m=\u001b[49m\u001b[43mlegend\u001b[49m\n\u001b[32m    619\u001b[39m \u001b[43m    \u001b[49m\u001b[43m)\u001b[49m\n\u001b[32m    621\u001b[39m     p.map_hue(palette=palette, order=hue_order, norm=hue_norm)\n\u001b[32m    622\u001b[39m     p.map_size(sizes=sizes, order=size_order, norm=size_norm)\n",
      "\u001b[36mFile \u001b[39m\u001b[32md:\\tech_triathlon_datathon\\venv\\Lib\\site-packages\\seaborn\\relational.py:396\u001b[39m, in \u001b[36m_ScatterPlotter.__init__\u001b[39m\u001b[34m(self, data, variables, legend)\u001b[39m\n\u001b[32m    387\u001b[39m \u001b[38;5;28;01mdef\u001b[39;00m\u001b[38;5;250m \u001b[39m\u001b[34m__init__\u001b[39m(\u001b[38;5;28mself\u001b[39m, *, data=\u001b[38;5;28;01mNone\u001b[39;00m, variables={}, legend=\u001b[38;5;28;01mNone\u001b[39;00m):\n\u001b[32m    388\u001b[39m \n\u001b[32m    389\u001b[39m     \u001b[38;5;66;03m# TODO this is messy, we want the mapping to be agnostic about\u001b[39;00m\n\u001b[32m    390\u001b[39m     \u001b[38;5;66;03m# the kind of plot to draw, but for the time being we need to set\u001b[39;00m\n\u001b[32m    391\u001b[39m     \u001b[38;5;66;03m# this information so the SizeMapping can use it\u001b[39;00m\n\u001b[32m    392\u001b[39m     \u001b[38;5;28mself\u001b[39m._default_size_range = (\n\u001b[32m    393\u001b[39m         np.r_[\u001b[32m.5\u001b[39m, \u001b[32m2\u001b[39m] * np.square(mpl.rcParams[\u001b[33m\"\u001b[39m\u001b[33mlines.markersize\u001b[39m\u001b[33m\"\u001b[39m])\n\u001b[32m    394\u001b[39m     )\n\u001b[32m--> \u001b[39m\u001b[32m396\u001b[39m     \u001b[38;5;28;43msuper\u001b[39;49m\u001b[43m(\u001b[49m\u001b[43m)\u001b[49m\u001b[43m.\u001b[49m\u001b[34;43m__init__\u001b[39;49m\u001b[43m(\u001b[49m\u001b[43mdata\u001b[49m\u001b[43m=\u001b[49m\u001b[43mdata\u001b[49m\u001b[43m,\u001b[49m\u001b[43m \u001b[49m\u001b[43mvariables\u001b[49m\u001b[43m=\u001b[49m\u001b[43mvariables\u001b[49m\u001b[43m)\u001b[49m\n\u001b[32m    398\u001b[39m     \u001b[38;5;28mself\u001b[39m.legend = legend\n",
      "\u001b[36mFile \u001b[39m\u001b[32md:\\tech_triathlon_datathon\\venv\\Lib\\site-packages\\seaborn\\_base.py:634\u001b[39m, in \u001b[36mVectorPlotter.__init__\u001b[39m\u001b[34m(self, data, variables)\u001b[39m\n\u001b[32m    629\u001b[39m \u001b[38;5;66;03m# var_ordered is relevant only for categorical axis variables, and may\u001b[39;00m\n\u001b[32m    630\u001b[39m \u001b[38;5;66;03m# be better handled by an internal axis information object that tracks\u001b[39;00m\n\u001b[32m    631\u001b[39m \u001b[38;5;66;03m# such information and is set up by the scale_* methods. The analogous\u001b[39;00m\n\u001b[32m    632\u001b[39m \u001b[38;5;66;03m# information for numeric axes would be information about log scales.\u001b[39;00m\n\u001b[32m    633\u001b[39m \u001b[38;5;28mself\u001b[39m._var_ordered = {\u001b[33m\"\u001b[39m\u001b[33mx\u001b[39m\u001b[33m\"\u001b[39m: \u001b[38;5;28;01mFalse\u001b[39;00m, \u001b[33m\"\u001b[39m\u001b[33my\u001b[39m\u001b[33m\"\u001b[39m: \u001b[38;5;28;01mFalse\u001b[39;00m}  \u001b[38;5;66;03m# alt., used DefaultDict\u001b[39;00m\n\u001b[32m--> \u001b[39m\u001b[32m634\u001b[39m \u001b[38;5;28;43mself\u001b[39;49m\u001b[43m.\u001b[49m\u001b[43massign_variables\u001b[49m\u001b[43m(\u001b[49m\u001b[43mdata\u001b[49m\u001b[43m,\u001b[49m\u001b[43m \u001b[49m\u001b[43mvariables\u001b[49m\u001b[43m)\u001b[49m\n\u001b[32m    636\u001b[39m \u001b[38;5;66;03m# TODO Lots of tests assume that these are called to initialize the\u001b[39;00m\n\u001b[32m    637\u001b[39m \u001b[38;5;66;03m# mappings to default values on class initialization. I'd prefer to\u001b[39;00m\n\u001b[32m    638\u001b[39m \u001b[38;5;66;03m# move away from that and only have a mapping when explicitly called.\u001b[39;00m\n\u001b[32m    639\u001b[39m \u001b[38;5;28;01mfor\u001b[39;00m var \u001b[38;5;129;01min\u001b[39;00m [\u001b[33m\"\u001b[39m\u001b[33mhue\u001b[39m\u001b[33m\"\u001b[39m, \u001b[33m\"\u001b[39m\u001b[33msize\u001b[39m\u001b[33m\"\u001b[39m, \u001b[33m\"\u001b[39m\u001b[33mstyle\u001b[39m\u001b[33m\"\u001b[39m]:\n",
      "\u001b[36mFile \u001b[39m\u001b[32md:\\tech_triathlon_datathon\\venv\\Lib\\site-packages\\seaborn\\_base.py:679\u001b[39m, in \u001b[36mVectorPlotter.assign_variables\u001b[39m\u001b[34m(self, data, variables)\u001b[39m\n\u001b[32m    674\u001b[39m \u001b[38;5;28;01melse\u001b[39;00m:\n\u001b[32m    675\u001b[39m     \u001b[38;5;66;03m# When dealing with long-form input, use the newer PlotData\u001b[39;00m\n\u001b[32m    676\u001b[39m     \u001b[38;5;66;03m# object (internal but introduced for the objects interface)\u001b[39;00m\n\u001b[32m    677\u001b[39m     \u001b[38;5;66;03m# to centralize / standardize data consumption logic.\u001b[39;00m\n\u001b[32m    678\u001b[39m     \u001b[38;5;28mself\u001b[39m.input_format = \u001b[33m\"\u001b[39m\u001b[33mlong\u001b[39m\u001b[33m\"\u001b[39m\n\u001b[32m--> \u001b[39m\u001b[32m679\u001b[39m     plot_data = \u001b[43mPlotData\u001b[49m\u001b[43m(\u001b[49m\u001b[43mdata\u001b[49m\u001b[43m,\u001b[49m\u001b[43m \u001b[49m\u001b[43mvariables\u001b[49m\u001b[43m)\u001b[49m\n\u001b[32m    680\u001b[39m     frame = plot_data.frame\n\u001b[32m    681\u001b[39m     names = plot_data.names\n",
      "\u001b[36mFile \u001b[39m\u001b[32md:\\tech_triathlon_datathon\\venv\\Lib\\site-packages\\seaborn\\_core\\data.py:58\u001b[39m, in \u001b[36mPlotData.__init__\u001b[39m\u001b[34m(self, data, variables)\u001b[39m\n\u001b[32m     51\u001b[39m \u001b[38;5;28;01mdef\u001b[39;00m\u001b[38;5;250m \u001b[39m\u001b[34m__init__\u001b[39m(\n\u001b[32m     52\u001b[39m     \u001b[38;5;28mself\u001b[39m,\n\u001b[32m     53\u001b[39m     data: DataSource,\n\u001b[32m     54\u001b[39m     variables: \u001b[38;5;28mdict\u001b[39m[\u001b[38;5;28mstr\u001b[39m, VariableSpec],\n\u001b[32m     55\u001b[39m ):\n\u001b[32m     57\u001b[39m     data = handle_data_source(data)\n\u001b[32m---> \u001b[39m\u001b[32m58\u001b[39m     frame, names, ids = \u001b[38;5;28;43mself\u001b[39;49m\u001b[43m.\u001b[49m\u001b[43m_assign_variables\u001b[49m\u001b[43m(\u001b[49m\u001b[43mdata\u001b[49m\u001b[43m,\u001b[49m\u001b[43m \u001b[49m\u001b[43mvariables\u001b[49m\u001b[43m)\u001b[49m\n\u001b[32m     60\u001b[39m     \u001b[38;5;28mself\u001b[39m.frame = frame\n\u001b[32m     61\u001b[39m     \u001b[38;5;28mself\u001b[39m.names = names\n",
      "\u001b[36mFile \u001b[39m\u001b[32md:\\tech_triathlon_datathon\\venv\\Lib\\site-packages\\seaborn\\_core\\data.py:232\u001b[39m, in \u001b[36mPlotData._assign_variables\u001b[39m\u001b[34m(self, data, variables)\u001b[39m\n\u001b[32m    230\u001b[39m     \u001b[38;5;28;01melse\u001b[39;00m:\n\u001b[32m    231\u001b[39m         err += \u001b[33m\"\u001b[39m\u001b[33mAn entry with this name does not appear in `data`.\u001b[39m\u001b[33m\"\u001b[39m\n\u001b[32m--> \u001b[39m\u001b[32m232\u001b[39m     \u001b[38;5;28;01mraise\u001b[39;00m \u001b[38;5;167;01mValueError\u001b[39;00m(err)\n\u001b[32m    234\u001b[39m \u001b[38;5;28;01melse\u001b[39;00m:\n\u001b[32m    235\u001b[39m \n\u001b[32m    236\u001b[39m     \u001b[38;5;66;03m# Otherwise, assume the value somehow represents data\u001b[39;00m\n\u001b[32m    237\u001b[39m \n\u001b[32m    238\u001b[39m     \u001b[38;5;66;03m# Ignore empty data structures\u001b[39;00m\n\u001b[32m    239\u001b[39m     \u001b[38;5;28;01mif\u001b[39;00m \u001b[38;5;28misinstance\u001b[39m(val, Sized) \u001b[38;5;129;01mand\u001b[39;00m \u001b[38;5;28mlen\u001b[39m(val) == \u001b[32m0\u001b[39m:\n",
      "\u001b[31mValueError\u001b[39m: Could not interpret value `actual_task_minutes` for `x`. Value is a string, but `data` was not passed."
     ]
    },
    {
     "data": {
      "text/plain": [
       "<Figure size 1000x600 with 0 Axes>"
      ]
     },
     "metadata": {},
     "output_type": "display_data"
    }
   ],
   "source": [
    "# ===============================\n",
    "# 1️⃣ IMPORTS\n",
    "# ===============================\n",
    "import pandas as pd\n",
    "import numpy as np\n",
    "from prophet import Prophet\n",
    "from prophet.diagnostics import performance_metrics, cross_validation\n",
    "import matplotlib.pyplot as plt\n",
    "import seaborn as sns\n",
    "import optuna\n",
    "import warnings\n",
    "warnings.filterwarnings('ignore')\n",
    "\n",
    "# ===============================\n",
    "# 2️⃣ LOAD DATA\n",
    "# ===============================\n",
    "df = pd.read_csv(\"final_df_binary.csv\", parse_dates=['date'])\n",
    "df = df.sort_values(['section_id', 'date']).reset_index(drop=True)\n",
    "\n",
    "# ===============================\n",
    "# 3️⃣ FEATURE ENGINEERING\n",
    "# ===============================\n",
    "df['year'] = df['date'].dt.year\n",
    "df['month'] = df['date'].dt.month\n",
    "df['dayofweek'] = df['date'].dt.dayofweek\n",
    "df['quarter'] = df['date'].dt.quarter\n",
    "df['is_working_day'] = ((df['is_holiday'] == 0) & (df['is_weekend'] == 0)).astype(int)\n",
    "\n",
    "# ===============================\n",
    "# 4️⃣ TRAIN/TEST SPLIT\n",
    "# ===============================\n",
    "train_df = df[df['year'] <= 2023].copy()\n",
    "test_df = df[df['year'] == 2024].copy()\n",
    "\n",
    "# ===============================\n",
    "# 5️⃣ SECTION LIST\n",
    "# ===============================\n",
    "sections = df['section_id'].unique()\n",
    "\n",
    "# ===============================\n",
    "# 6️⃣ FUNCTION TO TUNE PROPHET HYPERPARAMS WITH OPTUNA\n",
    "# ===============================\n",
    "def tune_prophet(train_section_df, n_trials=70):\n",
    "    section_id = train_section_df['section_id'].iloc[0]\n",
    "    print(f\"[Optuna] Tuning section: {section_id}\")\n",
    "\n",
    "    def objective(trial):\n",
    "        # Prophet dataframe\n",
    "        df_prophet = train_section_df.rename(columns={'date':'ds', 'total_task_time_minutes':'y'})\n",
    "        changepoint_prior_scale = trial.suggest_float('changepoint_prior_scale', 0.0001, 0.5, log=True)\n",
    "        seasonality_prior_scale = trial.suggest_float('seasonality_prior_scale', 0.01, 41.0, log=True)\n",
    "        holidays_prior_scale = trial.suggest_float('holidays_prior_scale', 0.01, 41.0, log=True)\n",
    "\n",
    "        model = Prophet(\n",
    "            yearly_seasonality=True,\n",
    "            weekly_seasonality=True,\n",
    "            daily_seasonality=False,\n",
    "            changepoint_prior_scale=changepoint_prior_scale,\n",
    "            seasonality_prior_scale=seasonality_prior_scale,\n",
    "            holidays_prior_scale=holidays_prior_scale\n",
    "        )\n",
    "        # Add regressors\n",
    "        model.add_regressor('is_weekend')\n",
    "        model.add_regressor('is_holiday')\n",
    "\n",
    "        model.fit(df_prophet[['ds','y','is_weekend','is_holiday']])\n",
    "\n",
    "        # Cross-validation\n",
    "        df_cv = cross_validation(model, horizon='90 days', period='30 days', initial='730 days', parallel=\"threads\")\n",
    "        df_p = performance_metrics(df_cv, rolling_window=0.1)\n",
    "        return df_p['mae'].values[0]\n",
    "\n",
    "    study = optuna.create_study(direction='minimize')\n",
    "    study.optimize(objective, n_trials=n_trials, show_progress_bar=True)\n",
    "    return study.best_params\n",
    "\n",
    "# ===============================\n",
    "# 7️⃣ SECTION-WISE MODELING & FORECASTING\n",
    "# ===============================\n",
    "results_dict = {}\n",
    "stats_dict = {}\n",
    "\n",
    "for sec in sections:\n",
    "    print(f\"\\n[Main Loop] Processing section: {sec}\")\n",
    "    # Prepare section data\n",
    "    train_sec = train_df[train_df['section_id']==sec].copy()\n",
    "    test_sec = test_df[test_df['section_id']==sec].copy()\n",
    "\n",
    "    # Tune Prophet hyperparameters\n",
    "    best_params = tune_prophet(train_sec)\n",
    "    print(f\"{sec} best params:\", best_params)\n",
    "\n",
    "    # Fit final model\n",
    "    model = Prophet(\n",
    "        yearly_seasonality=True,\n",
    "        weekly_seasonality=True,\n",
    "        daily_seasonality=False,\n",
    "        changepoint_prior_scale=best_params['changepoint_prior_scale'],\n",
    "        seasonality_prior_scale=best_params['seasonality_prior_scale'],\n",
    "        holidays_prior_scale=best_params['holidays_prior_scale']\n",
    "    )\n",
    "    model.add_regressor('is_weekend')\n",
    "    model.add_regressor('is_holiday')\n",
    "    model.fit(train_sec[['date','total_task_time_minutes','is_weekend','is_holiday']].rename(\n",
    "        columns={'date':'ds','total_task_time_minutes':'y'}\n",
    "    ))\n",
    "\n",
    "    # Predict 2024\n",
    "    forecast = model.predict(test_sec[['date','is_weekend','is_holiday']].rename(columns={'date':'ds'}))\n",
    "    test_sec['predicted_task_minutes'] = forecast['yhat'].values\n",
    "    test_sec['error'] = test_sec['total_task_time_minutes'] - test_sec['predicted_task_minutes']\n",
    "\n",
    "    # Store section results\n",
    "    results_dict[sec] = test_sec[['date','is_weekend','is_holiday','total_task_time_minutes','predicted_task_minutes','error']].rename(\n",
    "        columns={'total_task_time_minutes':'actual_task_minutes'}\n",
    "    )\n",
    "\n",
    "    # Section-wise stats\n",
    "    train_stats = {\n",
    "        'mean_minutes': train_sec['total_task_time_minutes'].mean(),\n",
    "        'median_minutes': train_sec['total_task_time_minutes'].median(),\n",
    "        'max_minutes': train_sec['total_task_time_minutes'].max(),\n",
    "        'abs_error_mean': np.nan\n",
    "    }\n",
    "    test_stats = {\n",
    "        'mean_minutes': test_sec['total_task_time_minutes'].mean(),\n",
    "        'median_minutes': test_sec['total_task_time_minutes'].median(),\n",
    "        'max_minutes': test_sec['total_task_time_minutes'].max(),\n",
    "        'abs_error_mean': test_sec['error'].abs().mean()\n",
    "    }\n",
    "    stats_dict[sec] = {'train': train_stats, 'test': test_stats}\n",
    "\n",
    "# ===============================\n",
    "# 8️⃣ SECTION-WISE VISUALIZATIONS\n",
    "# ===============================\n",
    "for sec in sections:\n",
    "    df_plot = results_dict[sec]\n",
    "    plt.figure(figsize=(10,6))\n",
    "    sns.scatterplot(x='actual_task_minutes', y='predicted_task_minutes', alpha=0.7)\n",
    "    plt.plot([0, df_plot['actual_task_minutes'].max()],\n",
    "             [0, df_plot['actual_task_minutes'].max()],\n",
    "             'r--', linewidth=2)\n",
    "    plt.title(f\"{sec} Actual vs Predicted Task Minutes (2024)\")\n",
    "    plt.xlabel(\"Actual\")\n",
    "    plt.ylabel(\"Predicted\")\n",
    "    plt.show()\n",
    "\n",
    "    plt.figure(figsize=(12,5))\n",
    "    plt.plot(df_plot['date'], df_plot['actual_task_minutes'], label='Actual')\n",
    "    plt.plot(df_plot['date'], df_plot['predicted_task_minutes'], label='Predicted')\n",
    "    plt.title(f\"{sec} Time Series Plot 2024\")\n",
    "    plt.xlabel(\"Date\")\n",
    "    plt.ylabel(\"Task Minutes\")\n",
    "    plt.legend()\n",
    "    plt.show()\n",
    "\n",
    "# ===============================\n",
    "# 9️⃣ RESULTS\n",
    "# ===============================\n",
    "# results_dict contains six DataFrames, one per section\n",
    "# stats_dict contains section-wise stats for train and test\n"
   ]
  },
  {
   "cell_type": "code",
   "execution_count": null,
   "id": "48b9438b",
   "metadata": {},
   "outputs": [],
   "source": []
  }
 ],
 "metadata": {
  "kernelspec": {
   "display_name": "venv",
   "language": "python",
   "name": "python3"
  },
  "language_info": {
   "codemirror_mode": {
    "name": "ipython",
    "version": 3
   },
   "file_extension": ".py",
   "mimetype": "text/x-python",
   "name": "python",
   "nbconvert_exporter": "python",
   "pygments_lexer": "ipython3",
   "version": "3.12.4"
  }
 },
 "nbformat": 4,
 "nbformat_minor": 5
}

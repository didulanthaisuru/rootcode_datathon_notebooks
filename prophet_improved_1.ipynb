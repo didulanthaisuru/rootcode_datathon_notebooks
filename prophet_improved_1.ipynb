{
 "cells": [
  {
   "cell_type": "code",
   "execution_count": 1,
   "id": "5d77b72c",
   "metadata": {},
   "outputs": [],
   "source": [
    "import pandas as pd\n",
    "import numpy as np\n",
    "from prophet import Prophet\n",
    "from sklearn.metrics import mean_absolute_error, mean_squared_error, r2_score\n",
    "from sklearn.linear_model import HuberRegressor\n",
    "import matplotlib.pyplot as plt\n",
    "import seaborn as sns\n",
    "import warnings\n",
    "warnings.filterwarnings('ignore')"
   ]
  },
  {
   "cell_type": "code",
   "execution_count": 2,
   "id": "22240721",
   "metadata": {},
   "outputs": [],
   "source": [
    "df=pd.read_csv('final_df_binary.csv')"
   ]
  },
  {
   "cell_type": "code",
   "execution_count": 3,
   "id": "bf1259f4",
   "metadata": {},
   "outputs": [
    {
     "name": "stdout",
     "output_type": "stream",
     "text": [
      "         date section_id  employees_on_duty  total_task_time_minutes  \\\n",
      "0  2021-01-01    SEC-001                  1               834.569483   \n",
      "1  2021-01-01    SEC-002                  4              1525.368990   \n",
      "2  2021-01-01    SEC-003                  2               662.095279   \n",
      "3  2021-01-01    SEC-004                  4              1499.112620   \n",
      "4  2021-01-01    SEC-005                  3              1238.533073   \n",
      "\n",
      "   is_holiday  is_weekend  \n",
      "0           0           0  \n",
      "1           0           0  \n",
      "2           0           0  \n",
      "3           0           0  \n",
      "4           0           0  \n"
     ]
    }
   ],
   "source": [
    "print(df.head())"
   ]
  },
  {
   "cell_type": "code",
   "execution_count": 4,
   "id": "265347df",
   "metadata": {},
   "outputs": [],
   "source": [
    "df['date'] = pd.to_datetime(df['date'])"
   ]
  },
  {
   "cell_type": "code",
   "execution_count": null,
   "id": "a9f2f7dd",
   "metadata": {},
   "outputs": [],
   "source": [
    "df['year'] = df['date'].dt.year\n",
    "df['month'] = df['date'].dt.month\n",
    "df['dayofweek'] = df['date'].dt.dayofweek\n",
    "df['quarter'] = df['date'].dt.quarter\n",
    "df['is_working_day'] = ((df['is_holiday'] == 0) & (df['is_weekend'] == 0)).astype(int)"
   ]
  },
  {
   "cell_type": "code",
   "execution_count": 6,
   "id": "6469f12d",
   "metadata": {},
   "outputs": [],
   "source": [
    "# Train-Test Split\n",
    "train_data = df[df['year'] <= 2023].copy()\n",
    "test_data = df[df['year'] == 2024].copy()"
   ]
  },
  {
   "cell_type": "code",
   "execution_count": 7,
   "id": "c43a2863",
   "metadata": {},
   "outputs": [
    {
     "name": "stdout",
     "output_type": "stream",
     "text": [
      "🧪 MODEL TESTING SETUP:\n",
      " Training data: 6,570 records (2021-2023)\n",
      " Test data: 2,196 records (2024)\n",
      " Sections: 6\n"
     ]
    }
   ],
   "source": [
    "print(f\"🧪 MODEL TESTING SETUP:\")\n",
    "print(f\" Training data: {len(train_data):,} records (2021-2023)\")\n",
    "print(f\" Test data: {len(test_data):,} records (2024)\")\n",
    "print(f\" Sections: {df['section_id'].nunique()}\")"
   ]
  },
  {
   "cell_type": "code",
   "execution_count": 9,
   "id": "74c3c99c",
   "metadata": {},
   "outputs": [
    {
     "name": "stdout",
     "output_type": "stream",
     "text": [
      "\n",
      "=== TRAINING DATA ANALYSIS (2021-2023) ===\n",
      "\n",
      "📊 CORRELATION ANALYSIS:\n",
      " SEC-001: 0.892\n",
      " SEC-002: 0.908\n",
      " SEC-003: 0.873\n",
      " SEC-004: 0.902\n",
      " SEC-005: 0.983\n",
      " SEC-006: 0.969\n",
      "\n",
      "📈 TRAINING STATISTICS:\n",
      " SEC-001:\n",
      " SEC-002:\n",
      " SEC-003:\n",
      " SEC-004:\n",
      " SEC-005:\n",
      " SEC-006:\n",
      " Working days: 727\n",
      " Employees: 6.5 ± 2.6 (range: 0-19)\n",
      " Task time: 2504 ± 1087 minutes\n"
     ]
    }
   ],
   "source": [
    "# Step 1: Analyze training data\n",
    "# =============================================================\n",
    "print(\"\\n=== TRAINING DATA ANALYSIS (2021-2023) ===\")\n",
    "working_train = train_data[train_data['is_working_day'] == 1]\n",
    "\n",
    "\n",
    "print(\"\\n📊 CORRELATION ANALYSIS:\")\n",
    "correlations = {}\n",
    "for section in working_train['section_id'].unique():\n",
    "    section_data = working_train[working_train['section_id'] == section]\n",
    "    if len(section_data) > 20:\n",
    "        corr = section_data['employees_on_duty'].corr(section_data['total_task_time_minutes'])\n",
    "        correlations[section] = corr\n",
    "        print(f\" {section}: {correlations[section]:.3f}\")\n",
    "\n",
    "\n",
    "print(f\"\\n📈 TRAINING STATISTICS:\")\n",
    "stats = working_train.groupby('section_id').agg({\n",
    "    'employees_on_duty': ['count', 'mean', 'std', 'min', 'max'],\n",
    "    'total_task_time_minutes': ['mean', 'std']\n",
    "}).round(2)\n",
    "\n",
    "\n",
    "for section in stats.index:\n",
    "    emp_stats = stats.loc[section, 'employees_on_duty']\n",
    "    task_stats = stats.loc[section, 'total_task_time_minutes']\n",
    "    print(f\" {section}:\")\n",
    "print(f\" Working days: {emp_stats['count']:.0f}\")\n",
    "print(f\" Employees: {emp_stats['mean']:.1f} ± {emp_stats['std']:.1f} (range: {emp_stats['min']:.0f}-{emp_stats['max']:.0f})\")\n",
    "print(f\" Task time: {task_stats['mean']:.0f} ± {task_stats['std']:.0f} minutes\")"
   ]
  },
  {
   "cell_type": "code",
   "execution_count": 10,
   "id": "5f57dd2a",
   "metadata": {},
   "outputs": [
    {
     "name": "stdout",
     "output_type": "stream",
     "text": [
      "\n",
      "=== BUILDING MODELS FROM TRAINING DATA ===\n",
      " SEC-001: R² = 0.795, Avg efficiency = 345.3 min/emp\n",
      " SEC-002: R² = 0.824, Avg efficiency = 374.1 min/emp\n",
      " SEC-003: R² = 0.762, Avg efficiency = 352.4 min/emp\n",
      " SEC-004: R² = 0.814, Avg efficiency = 355.5 min/emp\n",
      " SEC-005: R² = 0.967, Avg efficiency = 393.3 min/emp\n",
      " SEC-006: R² = 0.935, Avg efficiency = 388.7 min/emp\n"
     ]
    }
   ],
   "source": [
    "# =============================================================\n",
    "# Step 2: Build employee prediction models\n",
    "# =============================================================\n",
    "print(\"\\n=== BUILDING MODELS FROM TRAINING DATA ===\")\n",
    "\n",
    "\n",
    "employee_models = {}\n",
    "for section in working_train['section_id'].unique():\n",
    "    section_data = working_train[working_train['section_id'] == section]\n",
    "\n",
    "\n",
    "    if len(section_data) > 30:\n",
    "        X = section_data[['total_task_time_minutes']].values\n",
    "        y = section_data['employees_on_duty'].values\n",
    "\n",
    "\n",
    "        model = HuberRegressor(epsilon=1.35)\n",
    "        model.fit(X, y)\n",
    "\n",
    "\n",
    "        valid_data = section_data[section_data['employees_on_duty'] > 0].copy()\n",
    "        valid_data['task_per_emp'] = valid_data['total_task_time_minutes'] / valid_data['employees_on_duty']\n",
    "\n",
    "\n",
    "        employee_models[section] = {\n",
    "            'regression_model': model,\n",
    "            'avg_task_per_employee': valid_data['task_per_emp'].median(),\n",
    "            'min_employees': section_data['employees_on_duty'].min(),\n",
    "            'max_employees': section_data['employees_on_duty'].max(),\n",
    "            'training_r2': model.score(X, y)\n",
    "        }\n",
    "\n",
    "\n",
    "        print(f\" {section}: R² = {model.score(X, y):.3f}, Avg efficiency = {valid_data['task_per_emp'].median():.1f} min/emp\")\n",
    "\n"
   ]
  },
  {
   "cell_type": "code",
   "execution_count": 11,
   "id": "76370f13",
   "metadata": {},
   "outputs": [
    {
     "name": "stdout",
     "output_type": "stream",
     "text": [
      "\n",
      "=== FORECASTING 2024 TASK TIME ===\n",
      " Forecasting SEC-001...\n"
     ]
    },
    {
     "name": "stderr",
     "output_type": "stream",
     "text": [
      "13:58:36 - cmdstanpy - INFO - Chain [1] start processing\n",
      "13:58:38 - cmdstanpy - INFO - Chain [1] done processing\n",
      "13:58:38 - cmdstanpy - INFO - Chain [1] start processing\n"
     ]
    },
    {
     "name": "stdout",
     "output_type": "stream",
     "text": [
      " → Forecasted 241 working days\n",
      " Forecasting SEC-002...\n"
     ]
    },
    {
     "name": "stderr",
     "output_type": "stream",
     "text": [
      "13:58:38 - cmdstanpy - INFO - Chain [1] done processing\n",
      "13:58:39 - cmdstanpy - INFO - Chain [1] start processing\n"
     ]
    },
    {
     "name": "stdout",
     "output_type": "stream",
     "text": [
      " → Forecasted 241 working days\n",
      " Forecasting SEC-003...\n"
     ]
    },
    {
     "name": "stderr",
     "output_type": "stream",
     "text": [
      "13:58:39 - cmdstanpy - INFO - Chain [1] done processing\n",
      "13:58:39 - cmdstanpy - INFO - Chain [1] start processing\n"
     ]
    },
    {
     "name": "stdout",
     "output_type": "stream",
     "text": [
      " → Forecasted 241 working days\n",
      " Forecasting SEC-004...\n"
     ]
    },
    {
     "name": "stderr",
     "output_type": "stream",
     "text": [
      "13:58:39 - cmdstanpy - INFO - Chain [1] done processing\n",
      "13:58:40 - cmdstanpy - INFO - Chain [1] start processing\n"
     ]
    },
    {
     "name": "stdout",
     "output_type": "stream",
     "text": [
      " → Forecasted 241 working days\n",
      " Forecasting SEC-005...\n"
     ]
    },
    {
     "name": "stderr",
     "output_type": "stream",
     "text": [
      "13:58:40 - cmdstanpy - INFO - Chain [1] done processing\n",
      "13:58:40 - cmdstanpy - INFO - Chain [1] start processing\n"
     ]
    },
    {
     "name": "stdout",
     "output_type": "stream",
     "text": [
      " → Forecasted 241 working days\n",
      " Forecasting SEC-006...\n"
     ]
    },
    {
     "name": "stderr",
     "output_type": "stream",
     "text": [
      "13:58:40 - cmdstanpy - INFO - Chain [1] done processing\n"
     ]
    },
    {
     "name": "stdout",
     "output_type": "stream",
     "text": [
      " → Forecasted 241 working days\n"
     ]
    }
   ],
   "source": [
    "# Step 3: Forecast 2024 task time with Prophet\n",
    "# =============================================================\n",
    "print(\"\\n=== FORECASTING 2024 TASK TIME ===\")\n",
    "task_forecasts = {}\n",
    "task_time_models = {}\n",
    "\n",
    "\n",
    "for section in working_train['section_id'].unique():\n",
    "    print(f\" Forecasting {section}...\")\n",
    "    section_data = working_train[working_train['section_id'] == section].copy()\n",
    "\n",
    "\n",
    "    if len(section_data) < 50:\n",
    "        print(f\" ⚠️ Insufficient training data\")\n",
    "        continue\n",
    "\n",
    "\n",
    "    prophet_df = section_data[['date', 'total_task_time_minutes']].copy()\n",
    "    prophet_df.columns = ['ds', 'y']\n",
    "    prophet_df = prophet_df.sort_values('ds')\n",
    "\n",
    "\n",
    "    model = Prophet(\n",
    "        yearly_seasonality=True,\n",
    "        weekly_seasonality=False,\n",
    "        daily_seasonality=False,\n",
    "        changepoint_prior_scale=0.05,\n",
    "        seasonality_prior_scale=8.0\n",
    "    )\n",
    "\n",
    "\n",
    "    model.add_seasonality(name='monthly', period=30.5, fourier_order=5)\n",
    "    model.add_seasonality(name='quarterly', period=91.25, fourier_order=3)\n",
    "    model.fit(prophet_df)\n",
    "\n",
    "\n",
    "    test_working = test_data[(test_data['section_id'] == section) & (test_data['is_working_day'] == 1)]['date'].values\n",
    "\n",
    "\n",
    "    if len(test_working) > 0:\n",
    "        future_df = pd.DataFrame({'ds': test_working})\n",
    "        forecast = model.predict(future_df)\n",
    "        forecast['yhat'] = forecast['yhat'].clip(lower=0)\n",
    "\n",
    "\n",
    "        task_forecasts[section] = {\n",
    "        'dates': test_working,\n",
    "        'predictions': forecast['yhat'].values\n",
    "        }\n",
    "\n",
    "\n",
    "        task_time_models[section] = model\n",
    "        print(f\" → Forecasted {len(test_working)} working days\")"
   ]
  },
  {
   "cell_type": "code",
   "execution_count": 13,
   "id": "bda4eae6",
   "metadata": {},
   "outputs": [
    {
     "name": "stdout",
     "output_type": "stream",
     "text": [
      "\n",
      "=== CONVERTING TO 2024 EMPLOYEE PREDICTIONS ===\n"
     ]
    }
   ],
   "source": [
    "# Step 4: Convert task time forecasts into employee predictions\n",
    "# =============================================================\n",
    "print(\"\\n=== CONVERTING TO 2024 EMPLOYEE PREDICTIONS ===\")\n",
    "\n",
    "\n",
    "employee_predictions = {}\n",
    "for section, forecast_data in task_forecasts.items():\n",
    "    if section not in employee_models:\n",
    "        continue\n",
    "\n",
    "\n",
    "    model_info = employee_models[section]\n",
    "    dates = forecast_data['dates']\n",
    "    predicted_task_time = forecast_data['predictions']\n",
    "\n",
    "\n",
    "    predicted_employees_reg = model_info['regression_model'].predict(predicted_task_time.reshape(-1, 1))\n",
    "    predicted_employees_eff = predicted_task_time / model_info['avg_task_per_employee']\n",
    "\n",
    "\n",
    "    r2_val = model_info['training_r2']\n",
    "    weight_reg = 0.8 if r2_val > 0.9 else 0.6\n",
    "\n",
    "\n",
    "    final_predictions = weight_reg * predicted_employees_reg + (1 - weight_reg) * predicted_employees_eff\n",
    "    final_predictions = np.round(final_predictions).astype(int)\n",
    "    final_predictions = np.clip(\n",
    "        final_predictions,\n",
    "        max(1, model_info['min_employees']),\n",
    "        int(model_info['max_employees'] * 1.2)\n",
    "    )\n",
    "\n",
    "\n",
    "    employee_predictions[section] = {\n",
    "        'dates': dates,\n",
    "        'predictions': final_predictions\n",
    "    }"
   ]
  },
  {
   "cell_type": "code",
   "execution_count": 19,
   "id": "efee08e7",
   "metadata": {},
   "outputs": [],
   "source": [
    "# =============================================================\n",
    "# Step 5: Create predictions DataFrame\n",
    "# =============================================================\n",
    "predictions_df = test_data.copy()\n",
    "predictions_df['predicted_employee_count'] = 0\n",
    "\n",
    "for section, pred_data in employee_predictions.items():\n",
    "    for date, pred in zip(pred_data['dates'], pred_data['predictions']):\n",
    "        mask = (predictions_df['section_id'] == section) & (predictions_df['date'] == date)\n",
    "        predictions_df.loc[mask, 'predicted_employee_count'] = pred\n",
    "\n",
    "predictions_df = predictions_df[['date', 'section_id', 'employees_on_duty', \n",
    "                                'total_task_time_minutes', 'predicted_employee_count', 'is_working_day']]\n"
   ]
  },
  {
   "cell_type": "code",
   "execution_count": null,
   "id": "116eb4e6",
   "metadata": {},
   "outputs": [],
   "source": [
    "\n",
    "# =============================================================\n",
    "# Step 6: Evaluate predictions\n",
    "# =============================================================\n",
    "print(\"\\n=== COMPREHENSIVE EVALUATION ===\")\n",
    "working_predictions = predictions_df[predictions_df['is_working_day'] == 1].copy()\n",
    "\n",
    "mae_overall = mean_absolute_error(working_predictions['employees_on_duty'], working_predictions['predicted_employee_count'])\n",
    "rmse_overall = np.sqrt(mean_squared_error(working_predictions['employees_on_duty'], working_predictions['predicted_employee_count']))\n",
    "r2_overall = r2_score(working_predictions['employees_on_duty'], working_predictions['predicted_employee_count'])\n",
    "\n",
    "print(f\"🎯 OVERALL PERFORMANCE:\")\n",
    "print(f\"   MAE: {mae_overall:.2f} employees\")\n",
    "print(f\"   RMSE: {rmse_overall:.2f} employees\")\n",
    "print(f\"   R²: {r2_overall:.3f}\")\n",
    "print(f\"   Records evaluated: {len(working_predictions):,}\")\n",
    "\n",
    "print(f\"\\n📊 SECTION-WISE PERFORMANCE:\")\n",
    "section_results = []\n",
    "for section in working_predictions['section_id'].unique():\n",
    "    section_data = working_predictions[working_predictions['section_id'] == section]\n",
    "    if len(section_data) > 0:\n",
    "        mae_section = mean_absolute_error(section_data['employees_on_duty'], section_data['predicted_employee_count'])\n",
    "        rmse_section = np.sqrt(mean_squared_error(section_data['employees_on_duty'], section_data['predicted_employee_count']))\n",
    "        r2_section = r2_score(section_data['employees_on_duty'], section_data['predicted_employee_count'])\n",
    "\n",
    "        valid_section = section_data[section_data['employees_on_duty'] > 0].copy()\n",
    "        avg_task_per_emp = (valid_section['total_task_time_minutes'] / valid_section['employees_on_duty']).mean()\n",
    "\n",
    "        section_results.append({\n",
    "            'Section': section,\n",
    "            'MAE': mae_section,\n",
    "            'RMSE': rmse_section,\n",
    "            'R²': r2_section,\n",
    "            'Avg_Task_Per_Employee': avg_task_per_emp,\n",
    "            'Working_Days': len(section_data),\n",
    "            'Actual_Avg': section_data['employees_on_duty'].mean(),\n",
    "            'Predicted_Avg': section_data['predicted_employee_count'].mean()\n",
    "        })\n",
    "\n",
    "        print(f\"   {section}:\")\n",
    "        print(f\"      MAE: {mae_section:.2f}, RMSE: {rmse_section:.2f}, R²: {r2_section:.3f}\")\n",
    "        print(f\"      Avg task/employee: {avg_task_per_emp:.1f} minutes\")\n",
    "        print(f\"      Actual avg: {section_data['employees_on_duty'].mean():.1f}, Predicted avg: {section_data['predicted_employee_count'].mean():.1f}\")\n",
    "\n",
    "section_results_df = pd.DataFrame(section_results)\n"
   ]
  },
  {
   "cell_type": "code",
   "execution_count": null,
   "id": "fa7acdb0",
   "metadata": {},
   "outputs": [],
   "source": [
    "\n",
    "# =============================================================\n",
    "# Step 7: Visualizations\n",
    "# =============================================================\n",
    "print(\"\\n=== CREATING VISUALIZATIONS ===\")\n",
    "fig = plt.figure(figsize=(20, 16))\n",
    "\n",
    "plt.subplot(3, 3, 1)\n",
    "plt.scatter(working_predictions['employees_on_duty'], working_predictions['predicted_employee_count'], alpha=0.6, s=20)\n",
    "plt.plot([0, working_predictions['employees_on_duty'].max()], [0, working_predictions['employees_on_duty'].max()], 'r--', alpha=0.8)\n",
    "plt.xlabel('Actual Employees')\n",
    "plt.ylabel('Predicted Employees')\n",
    "plt.title(f'Overall Prediction Accuracy\\nR² = {r2_overall:.3f}')\n",
    "plt.grid(True, alpha=0.3)\n",
    "\n",
    "plt.subplot(3, 3, 2)\n",
    "plt.bar(section_results_df['Section'], section_results_df['MAE'])\n",
    "plt.xlabel('Section')\n",
    "plt.ylabel('MAE (employees)')\n",
    "plt.title('Mean Absolute Error by Section')\n",
    "plt.xticks(rotation=45)\n",
    "plt.grid(True, alpha=0.3)\n",
    "\n",
    "plt.subplot(3, 3, 3)\n",
    "plt.bar(section_results_df['Section'], section_results_df['R²'])\n",
    "plt.xlabel('Section')\n",
    "plt.ylabel('R² Score')\n",
    "plt.title('R² Score by Section')\n",
    "plt.xticks(rotation=45)\n",
    "plt.grid(True, alpha=0.3)\n",
    "\n",
    "plt.subplot(3, 3, 4)\n",
    "plt.bar(section_results_df['Section'], section_results_df['Avg_Task_Per_Employee'], color='skyblue')\n",
    "plt.xlabel('Section')\n",
    "plt.ylabel('Minutes per Employee')\n",
    "plt.title('Average Task Time per Employee')\n",
    "plt.xticks(rotation=45)\n",
    "plt.grid(True, alpha=0.3)\n",
    "\n",
    "plt.subplot(3, 3, 5)\n",
    "x = np.arange(len(section_results_df))\n",
    "width = 0.35\n",
    "plt.bar(x - width/2, section_results_df['Actual_Avg'], width, label='Actual', alpha=0.8)\n",
    "plt.bar(x + width/2, section_results_df['Predicted_Avg'], width, label='Predicted', alpha=0.8)\n",
    "plt.xlabel('Section')\n",
    "plt.ylabel('Average Employees')\n",
    "plt.title('Actual vs Predicted Average Employees')\n",
    "plt.xticks(x, section_results_df['Section'], rotation=45)\n",
    "plt.legend()\n",
    "plt.grid(True, alpha=0.3)\n",
    "\n",
    "sections = working_predictions['section_id'].unique()[:4]\n",
    "for i, section in enumerate(sections, 6):\n",
    "    plt.subplot(3, 3, i)\n",
    "    section_data = working_predictions[working_predictions['section_id'] == section]\n",
    "    plt.scatter(section_data['employees_on_duty'], section_data['predicted_employee_count'], alpha=0.6)\n",
    "    plt.plot([0, section_data['employees_on_duty'].max()], [0, section_data['employees_on_duty'].max()], 'r--', alpha=0.8)\n",
    "    plt.xlabel('Actual')\n",
    "    plt.ylabel('Predicted')\n",
    "    plt.title(f'{section} Predictions')\n",
    "    plt.grid(True, alpha=0.3)\n",
    "\n",
    "plt.tight_layout()\n",
    "plt.savefig('model_validation_results.png', dpi=300, bbox_inches='tight')\n",
    "plt.show()\n",
    "\n",
    "plt.figure(figsize=(15, 10))\n",
    "working_predictions['year_month'] = working_predictions['date'].dt.to_period('M')\n",
    "monthly_comparison = working_predictions.groupby(['year_month', 'section_id']).agg({\n",
    "    'employees_on_duty': 'mean',\n",
    "    'predicted_employee_count': 'mean'\n",
    "}).reset_index()\n",
    "\n",
    "sections = monthly_comparison['section_id'].unique()\n",
    "for i, section in enumerate(sections):\n",
    "    plt.subplot(2, 3, i+1)\n",
    "    section_monthly = monthly_comparison[monthly_comparison['section_id'] == section]\n",
    "    plt.plot(section_monthly['year_month'].astype(str), section_monthly['employees_on_duty'], 'o-', label='Actual', linewidth=2)\n",
    "    plt.plot(section_monthly['year_month'].astype(str), section_monthly['predicted_employee_count'], 's-', label='Predicted', linewidth=2)\n",
    "    plt.title(f'{section} - Monthly Average')\n",
    "    plt.xlabel('Month (2024)')\n",
    "    plt.ylabel('Avg Employees')\n",
    "    plt.legend()\n",
    "    plt.xticks(rotation=45)\n",
    "    plt.grid(True, alpha=0.3)\n",
    "\n",
    "plt.tight_layout()\n",
    "plt.savefig('monthly_trends_comparison.png', dpi=300, bbox_inches='tight')\n",
    "plt.show()\n"
   ]
  },
  {
   "cell_type": "code",
   "execution_count": null,
   "id": "08693ee6",
   "metadata": {},
   "outputs": [],
   "source": [
    "\n",
    "# =============================================================\n",
    "# Step 8: Save results\n",
    "# =============================================================\n",
    "predictions_df.to_csv('2024_validation_predictions.csv', index=False)\n",
    "section_results_df.to_csv('validation_performance_by_section.csv', index=False)\n",
    "\n",
    "print(\"\\n✅ VALIDATION COMPLETE!\")\n",
    "print(f\"📁 Files saved:\")\n",
    "print(f\"   - 2024_validation_predictions.csv\")\n",
    "print(f\"   - validation_performance_by_section.csv\")\n",
    "print(f\"   - model_validation_results.png\")\n",
    "print(f\"   - monthly_trends_comparison.png\")\n",
    "\n",
    "print(\"\\n📊 FINAL VALIDATION SUMMARY:\")\n",
    "print(section_results_df.round(3))\n",
    "\n",
    "if mae_overall < 1.0:\n",
    "    print(\"\\n✅ Model performance acceptable! Ready for 2025 forecasting.\")\n",
    "else:\n",
    "    print(\"\\n⚠️  Consider model improvements before 2025 forecasting.\")\n"
   ]
  },
  {
   "cell_type": "code",
   "execution_count": null,
   "id": "3358b1ae",
   "metadata": {},
   "outputs": [],
   "source": []
  }
 ],
 "metadata": {
  "kernelspec": {
   "display_name": "venv",
   "language": "python",
   "name": "python3"
  },
  "language_info": {
   "codemirror_mode": {
    "name": "ipython",
    "version": 3
   },
   "file_extension": ".py",
   "mimetype": "text/x-python",
   "name": "python",
   "nbconvert_exporter": "python",
   "pygments_lexer": "ipython3",
   "version": "3.12.4"
  }
 },
 "nbformat": 4,
 "nbformat_minor": 5
}

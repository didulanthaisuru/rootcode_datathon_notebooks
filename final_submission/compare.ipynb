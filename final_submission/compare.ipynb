{
 "cells": [
  {
   "cell_type": "code",
   "execution_count": 1,
   "id": "386c2d43",
   "metadata": {},
   "outputs": [],
   "source": [
    "import pandas as pd"
   ]
  },
  {
   "cell_type": "code",
   "execution_count": 2,
   "id": "26ae7f49",
   "metadata": {},
   "outputs": [],
   "source": [
    "df_verified=pd.read_csv(\"final_df_binary.csv\")\n",
    "df_test=pd.read_csv(\"final_binary_submission_df.csv\")"
   ]
  },
  {
   "cell_type": "code",
   "execution_count": 3,
   "id": "82f7ed83",
   "metadata": {},
   "outputs": [
    {
     "name": "stdout",
     "output_type": "stream",
     "text": [
      "The DataFrames are 100% identical.\n"
     ]
    }
   ],
   "source": [
    "# Compare if both DataFrames are exactly the same\n",
    "if df_verified.equals(df_test):\n",
    "    print('The DataFrames are 100% identical.')\n",
    "else:\n",
    "    print('The DataFrames are NOT 100% identical.')"
   ]
  },
  {
   "cell_type": "code",
   "execution_count": null,
   "id": "7ad1c628",
   "metadata": {},
   "outputs": [],
   "source": []
  }
 ],
 "metadata": {
  "kernelspec": {
   "display_name": "venv",
   "language": "python",
   "name": "python3"
  },
  "language_info": {
   "codemirror_mode": {
    "name": "ipython",
    "version": 3
   },
   "file_extension": ".py",
   "mimetype": "text/x-python",
   "name": "python",
   "nbconvert_exporter": "python",
   "pygments_lexer": "ipython3",
   "version": "3.12.4"
  }
 },
 "nbformat": 4,
 "nbformat_minor": 5
}

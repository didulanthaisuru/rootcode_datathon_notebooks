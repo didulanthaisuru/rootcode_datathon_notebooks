{
 "cells": [
  {
   "cell_type": "code",
   "execution_count": 12,
   "id": "cabd876b",
   "metadata": {},
   "outputs": [
    {
     "name": "stderr",
     "output_type": "stream",
     "text": [
      "[I 2025-08-22 18:55:10,563] A new study created in memory with name: no-name-481e39d5-821b-4c94-8723-a77751f6cb56\n"
     ]
    },
    {
     "name": "stdout",
     "output_type": "stream",
     "text": [
      "[Main Loop] Now tuning section: SEC-001\n",
      "[Optuna] Tuning section: SEC-001\n"
     ]
    },
    {
     "data": {
      "application/vnd.jupyter.widget-view+json": {
       "model_id": "e41ecb2addd74711910a944120804e40",
       "version_major": 2,
       "version_minor": 0
      },
      "text/plain": [
       "  0%|          | 0/40 [00:00<?, ?it/s]"
      ]
     },
     "metadata": {},
     "output_type": "display_data"
    },
    {
     "name": "stderr",
     "output_type": "stream",
     "text": [
      "18:55:10 - cmdstanpy - INFO - Chain [1] start processing\n",
      "18:55:10 - cmdstanpy - INFO - Chain [1] done processing\n",
      "18:55:10 - cmdstanpy - ERROR - Chain [1] error: error during processing Operation not permitted\n",
      "Optimization terminated abnormally. Falling back to Newton.\n",
      "18:55:10 - cmdstanpy - INFO - Chain [1] done processing\n",
      "18:55:10 - cmdstanpy - ERROR - Chain [1] error: error during processing Operation not permitted\n",
      "Optimization terminated abnormally. Falling back to Newton.\n",
      "18:55:10 - cmdstanpy - INFO - Chain [1] start processing\n",
      "18:55:10 - cmdstanpy - INFO - Chain [1] start processing\n",
      "18:55:12 - cmdstanpy - INFO - Chain [1] done processing\n",
      "18:55:12 - cmdstanpy - INFO - Chain [1] done processing\n"
     ]
    },
    {
     "name": "stdout",
     "output_type": "stream",
     "text": [
      "[I 2025-08-22 19:01:54,909] Trial 0 finished with value: 376.3318966367167 and parameters: {'changepoint_prior_scale': 0.0001334040405545397, 'seasonality_prior_scale': 14.470539260154986, 'holidays_prior_scale': 4.814086154301914}. Best is trial 0 with value: 376.3318966367167.\n"
     ]
    },
    {
     "name": "stderr",
     "output_type": "stream",
     "text": [
      "19:01:55 - cmdstanpy - INFO - Chain [1] start processing\n",
      "19:01:56 - cmdstanpy - INFO - Chain [1] done processing\n",
      "19:01:56 - cmdstanpy - INFO - Chain [1] done processing\n"
     ]
    },
    {
     "name": "stdout",
     "output_type": "stream",
     "text": [
      "[I 2025-08-22 19:02:11,647] Trial 1 finished with value: 324.2281295150155 and parameters: {'changepoint_prior_scale': 0.023363970684555563, 'seasonality_prior_scale': 0.28615061947286147, 'holidays_prior_scale': 0.015548237475210573}. Best is trial 1 with value: 324.2281295150155.\n"
     ]
    },
    {
     "name": "stderr",
     "output_type": "stream",
     "text": [
      "19:02:12 - cmdstanpy - INFO - Chain [1] start processing\n",
      "19:02:12 - cmdstanpy - INFO - Chain [1] done processing\n",
      "19:02:12 - cmdstanpy - INFO - Chain [1] done processing\n"
     ]
    },
    {
     "name": "stdout",
     "output_type": "stream",
     "text": [
      "[I 2025-08-22 19:02:17,465] Trial 2 finished with value: 315.5843976718351 and parameters: {'changepoint_prior_scale': 0.03557081224263138, 'seasonality_prior_scale': 0.014034987306115057, 'holidays_prior_scale': 22.725237514617003}. Best is trial 2 with value: 315.5843976718351.\n"
     ]
    },
    {
     "name": "stderr",
     "output_type": "stream",
     "text": [
      "19:02:17 - cmdstanpy - INFO - Chain [1] start processing\n",
      "19:02:17 - cmdstanpy - INFO - Chain [1] done processing\n",
      "19:02:17 - cmdstanpy - INFO - Chain [1] done processing\n"
     ]
    },
    {
     "name": "stdout",
     "output_type": "stream",
     "text": [
      "[I 2025-08-22 19:02:25,471] Trial 3 finished with value: 320.1941843044054 and parameters: {'changepoint_prior_scale': 0.030524213618822398, 'seasonality_prior_scale': 3.223823099386772, 'holidays_prior_scale': 0.40478646742250696}. Best is trial 2 with value: 315.5843976718351.\n"
     ]
    },
    {
     "name": "stderr",
     "output_type": "stream",
     "text": [
      "19:02:25 - cmdstanpy - INFO - Chain [1] start processing\n",
      "19:02:26 - cmdstanpy - INFO - Chain [1] done processing\n",
      "19:02:26 - cmdstanpy - INFO - Chain [1] done processing\n"
     ]
    },
    {
     "name": "stdout",
     "output_type": "stream",
     "text": [
      "[I 2025-08-22 19:02:36,116] Trial 4 finished with value: 319.102894350127 and parameters: {'changepoint_prior_scale': 0.01706607447194286, 'seasonality_prior_scale': 0.1092256552056065, 'holidays_prior_scale': 0.15442766188376747}. Best is trial 2 with value: 315.5843976718351.\n"
     ]
    },
    {
     "name": "stderr",
     "output_type": "stream",
     "text": [
      "19:02:36 - cmdstanpy - INFO - Chain [1] start processing\n",
      "19:02:37 - cmdstanpy - INFO - Chain [1] done processing\n",
      "19:02:37 - cmdstanpy - INFO - Chain [1] done processing\n"
     ]
    },
    {
     "name": "stdout",
     "output_type": "stream",
     "text": [
      "[I 2025-08-22 19:04:27,165] Trial 5 finished with value: 394.36453024841416 and parameters: {'changepoint_prior_scale': 0.0006883657566687066, 'seasonality_prior_scale': 8.092182230627321, 'holidays_prior_scale': 10.217519009409251}. Best is trial 2 with value: 315.5843976718351.\n"
     ]
    },
    {
     "name": "stderr",
     "output_type": "stream",
     "text": [
      "19:04:27 - cmdstanpy - INFO - Chain [1] start processing\n",
      "19:04:27 - cmdstanpy - INFO - Chain [1] done processing\n",
      "19:04:27 - cmdstanpy - INFO - Chain [1] done processing\n"
     ]
    },
    {
     "name": "stdout",
     "output_type": "stream",
     "text": [
      "[I 2025-08-22 19:04:37,957] Trial 6 finished with value: 405.87537376102415 and parameters: {'changepoint_prior_scale': 0.0005764293718851379, 'seasonality_prior_scale': 0.03823076683416147, 'holidays_prior_scale': 1.7596002557468915}. Best is trial 2 with value: 315.5843976718351.\n"
     ]
    },
    {
     "name": "stderr",
     "output_type": "stream",
     "text": [
      "19:04:38 - cmdstanpy - INFO - Chain [1] start processing\n",
      "19:04:38 - cmdstanpy - INFO - Chain [1] done processing\n",
      "19:04:38 - cmdstanpy - INFO - Chain [1] done processing\n"
     ]
    },
    {
     "name": "stdout",
     "output_type": "stream",
     "text": [
      "[I 2025-08-22 19:04:45,336] Trial 7 finished with value: 318.3258672971109 and parameters: {'changepoint_prior_scale': 0.32124958081947075, 'seasonality_prior_scale': 20.990024810042662, 'holidays_prior_scale': 0.1679912961746197}. Best is trial 2 with value: 315.5843976718351.\n"
     ]
    },
    {
     "name": "stderr",
     "output_type": "stream",
     "text": [
      "19:04:45 - cmdstanpy - INFO - Chain [1] start processing\n",
      "19:04:45 - cmdstanpy - INFO - Chain [1] done processing\n",
      "19:04:45 - cmdstanpy - INFO - Chain [1] done processing\n"
     ]
    },
    {
     "name": "stdout",
     "output_type": "stream",
     "text": [
      "[I 2025-08-22 19:04:52,134] Trial 8 finished with value: 319.95800344148176 and parameters: {'changepoint_prior_scale': 0.027978179075598485, 'seasonality_prior_scale': 0.045822251497836454, 'holidays_prior_scale': 25.262042609073013}. Best is trial 2 with value: 315.5843976718351.\n"
     ]
    },
    {
     "name": "stderr",
     "output_type": "stream",
     "text": [
      "19:04:52 - cmdstanpy - INFO - Chain [1] start processing\n",
      "19:04:52 - cmdstanpy - INFO - Chain [1] done processing\n",
      "19:04:52 - cmdstanpy - INFO - Chain [1] done processing\n"
     ]
    },
    {
     "name": "stdout",
     "output_type": "stream",
     "text": [
      "[I 2025-08-22 19:04:59,217] Trial 9 finished with value: 321.47243289126254 and parameters: {'changepoint_prior_scale': 0.14252824088603205, 'seasonality_prior_scale': 0.38119552546485086, 'holidays_prior_scale': 3.1538999673154966}. Best is trial 2 with value: 315.5843976718351.\n"
     ]
    },
    {
     "name": "stderr",
     "output_type": "stream",
     "text": [
      "19:04:59 - cmdstanpy - INFO - Chain [1] start processing\n",
      "19:04:59 - cmdstanpy - INFO - Chain [1] done processing\n",
      "19:04:59 - cmdstanpy - INFO - Chain [1] done processing\n"
     ]
    },
    {
     "name": "stdout",
     "output_type": "stream",
     "text": [
      "[I 2025-08-22 19:05:05,603] Trial 10 finished with value: 331.02105486573066 and parameters: {'changepoint_prior_scale': 0.00190965658032711, 'seasonality_prior_scale': 0.010373252469010347, 'holidays_prior_scale': 0.010221625195103983}. Best is trial 2 with value: 315.5843976718351.\n"
     ]
    },
    {
     "name": "stderr",
     "output_type": "stream",
     "text": [
      "19:05:06 - cmdstanpy - INFO - Chain [1] start processing\n",
      "19:05:06 - cmdstanpy - INFO - Chain [1] done processing\n",
      "19:05:06 - cmdstanpy - INFO - Chain [1] done processing\n"
     ]
    },
    {
     "name": "stdout",
     "output_type": "stream",
     "text": [
      "[I 2025-08-22 19:05:12,318] Trial 11 finished with value: 316.9015864484459 and parameters: {'changepoint_prior_scale': 0.47658049394129887, 'seasonality_prior_scale': 1.967424969631515, 'holidays_prior_scale': 0.09504318663432337}. Best is trial 2 with value: 315.5843976718351.\n"
     ]
    },
    {
     "name": "stderr",
     "output_type": "stream",
     "text": [
      "19:05:12 - cmdstanpy - INFO - Chain [1] start processing\n",
      "19:05:12 - cmdstanpy - INFO - Chain [1] done processing\n",
      "19:05:12 - cmdstanpy - INFO - Chain [1] done processing\n"
     ]
    },
    {
     "name": "stdout",
     "output_type": "stream",
     "text": [
      "[I 2025-08-22 19:05:19,117] Trial 12 finished with value: 316.8166308516313 and parameters: {'changepoint_prior_scale': 0.49142157912789297, 'seasonality_prior_scale': 1.8181783829099094, 'holidays_prior_scale': 0.04752365061656552}. Best is trial 2 with value: 315.5843976718351.\n"
     ]
    },
    {
     "name": "stderr",
     "output_type": "stream",
     "text": [
      "19:05:19 - cmdstanpy - INFO - Chain [1] start processing\n",
      "19:05:19 - cmdstanpy - INFO - Chain [1] done processing\n",
      "19:05:19 - cmdstanpy - INFO - Chain [1] done processing\n"
     ]
    },
    {
     "name": "stdout",
     "output_type": "stream",
     "text": [
      "[I 2025-08-22 19:05:25,608] Trial 13 finished with value: 323.6725021441368 and parameters: {'changepoint_prior_scale': 0.10205002079733548, 'seasonality_prior_scale': 1.2887161308345891, 'holidays_prior_scale': 0.04036494821152393}. Best is trial 2 with value: 315.5843976718351.\n"
     ]
    },
    {
     "name": "stderr",
     "output_type": "stream",
     "text": [
      "19:05:26 - cmdstanpy - INFO - Chain [1] start processing\n",
      "19:05:26 - cmdstanpy - INFO - Chain [1] done processing\n",
      "19:05:26 - cmdstanpy - INFO - Chain [1] done processing\n"
     ]
    },
    {
     "name": "stdout",
     "output_type": "stream",
     "text": [
      "[I 2025-08-22 19:05:32,885] Trial 14 finished with value: 320.9468600735905 and parameters: {'changepoint_prior_scale': 0.005638096128630023, 'seasonality_prior_scale': 0.6796827522076802, 'holidays_prior_scale': 0.8038164622837006}. Best is trial 2 with value: 315.5843976718351.\n"
     ]
    },
    {
     "name": "stderr",
     "output_type": "stream",
     "text": [
      "19:05:33 - cmdstanpy - INFO - Chain [1] start processing\n",
      "19:05:33 - cmdstanpy - INFO - Chain [1] done processing\n",
      "19:05:33 - cmdstanpy - INFO - Chain [1] done processing\n"
     ]
    },
    {
     "name": "stdout",
     "output_type": "stream",
     "text": [
      "[I 2025-08-22 19:05:40,159] Trial 15 finished with value: 316.5459067153913 and parameters: {'changepoint_prior_scale': 0.098035668843544, 'seasonality_prior_scale': 0.013248997511659257, 'holidays_prior_scale': 25.923223156869497}. Best is trial 2 with value: 315.5843976718351.\n"
     ]
    },
    {
     "name": "stderr",
     "output_type": "stream",
     "text": [
      "19:05:40 - cmdstanpy - INFO - Chain [1] start processing\n",
      "19:05:40 - cmdstanpy - INFO - Chain [1] done processing\n",
      "19:05:40 - cmdstanpy - INFO - Chain [1] done processing\n"
     ]
    },
    {
     "name": "stdout",
     "output_type": "stream",
     "text": [
      "[I 2025-08-22 19:05:46,725] Trial 16 finished with value: 313.78479064985265 and parameters: {'changepoint_prior_scale': 0.08110716510104525, 'seasonality_prior_scale': 0.01066043931191061, 'holidays_prior_scale': 24.280894140026746}. Best is trial 16 with value: 313.78479064985265.\n"
     ]
    },
    {
     "name": "stderr",
     "output_type": "stream",
     "text": [
      "19:05:47 - cmdstanpy - INFO - Chain [1] start processing\n",
      "19:05:47 - cmdstanpy - INFO - Chain [1] done processing\n",
      "19:05:47 - cmdstanpy - INFO - Chain [1] done processing\n"
     ]
    },
    {
     "name": "stdout",
     "output_type": "stream",
     "text": [
      "[I 2025-08-22 19:05:53,303] Trial 17 finished with value: 317.9509309089209 and parameters: {'changepoint_prior_scale': 0.007480345574370522, 'seasonality_prior_scale': 0.03122170825560401, 'holidays_prior_scale': 8.409908768365863}. Best is trial 16 with value: 313.78479064985265.\n"
     ]
    },
    {
     "name": "stderr",
     "output_type": "stream",
     "text": [
      "19:05:53 - cmdstanpy - INFO - Chain [1] start processing\n",
      "19:05:53 - cmdstanpy - INFO - Chain [1] done processing\n",
      "19:05:53 - cmdstanpy - INFO - Chain [1] done processing\n"
     ]
    },
    {
     "name": "stdout",
     "output_type": "stream",
     "text": [
      "[I 2025-08-22 19:06:00,417] Trial 18 finished with value: 321.5572071998248 and parameters: {'changepoint_prior_scale': 0.0642561385136334, 'seasonality_prior_scale': 0.12248827755249166, 'holidays_prior_scale': 12.106242891422827}. Best is trial 16 with value: 313.78479064985265.\n"
     ]
    },
    {
     "name": "stderr",
     "output_type": "stream",
     "text": [
      "19:06:00 - cmdstanpy - INFO - Chain [1] start processing\n",
      "19:06:00 - cmdstanpy - INFO - Chain [1] done processing\n",
      "19:06:00 - cmdstanpy - INFO - Chain [1] done processing\n"
     ]
    },
    {
     "name": "stdout",
     "output_type": "stream",
     "text": [
      "[I 2025-08-22 19:06:06,576] Trial 19 finished with value: 320.52985950485873 and parameters: {'changepoint_prior_scale': 0.007167273924713699, 'seasonality_prior_scale': 0.018308363713116105, 'holidays_prior_scale': 1.6577163360663496}. Best is trial 16 with value: 313.78479064985265.\n"
     ]
    },
    {
     "name": "stderr",
     "output_type": "stream",
     "text": [
      "19:06:07 - cmdstanpy - INFO - Chain [1] start processing\n",
      "19:06:07 - cmdstanpy - INFO - Chain [1] done processing\n",
      "19:06:07 - cmdstanpy - INFO - Chain [1] done processing\n"
     ]
    },
    {
     "name": "stdout",
     "output_type": "stream",
     "text": [
      "[I 2025-08-22 19:06:12,918] Trial 20 finished with value: 319.6640328219089 and parameters: {'changepoint_prior_scale': 0.19890101575417157, 'seasonality_prior_scale': 0.09286030550486603, 'holidays_prior_scale': 29.390280790612966}. Best is trial 16 with value: 313.78479064985265.\n"
     ]
    },
    {
     "name": "stderr",
     "output_type": "stream",
     "text": [
      "19:06:13 - cmdstanpy - INFO - Chain [1] start processing\n",
      "19:06:13 - cmdstanpy - INFO - Chain [1] done processing\n",
      "19:06:13 - cmdstanpy - INFO - Chain [1] done processing\n"
     ]
    },
    {
     "name": "stdout",
     "output_type": "stream",
     "text": [
      "[I 2025-08-22 19:06:18,924] Trial 21 finished with value: 313.5612522268375 and parameters: {'changepoint_prior_scale': 0.07687146789135614, 'seasonality_prior_scale': 0.01052293835770283, 'holidays_prior_scale': 18.075641251860574}. Best is trial 21 with value: 313.5612522268375.\n"
     ]
    },
    {
     "name": "stderr",
     "output_type": "stream",
     "text": [
      "19:06:19 - cmdstanpy - INFO - Chain [1] start processing\n",
      "19:06:19 - cmdstanpy - INFO - Chain [1] done processing\n",
      "19:06:19 - cmdstanpy - INFO - Chain [1] done processing\n"
     ]
    },
    {
     "name": "stdout",
     "output_type": "stream",
     "text": [
      "[I 2025-08-22 19:06:25,289] Trial 22 finished with value: 318.5968900760242 and parameters: {'changepoint_prior_scale': 0.05608569455400598, 'seasonality_prior_scale': 0.021911978064912532, 'holidays_prior_scale': 13.750796373465857}. Best is trial 21 with value: 313.5612522268375.\n"
     ]
    },
    {
     "name": "stderr",
     "output_type": "stream",
     "text": [
      "19:06:25 - cmdstanpy - INFO - Chain [1] start processing\n",
      "19:06:25 - cmdstanpy - INFO - Chain [1] done processing\n",
      "19:06:25 - cmdstanpy - INFO - Chain [1] done processing\n"
     ]
    },
    {
     "name": "stdout",
     "output_type": "stream",
     "text": [
      "[I 2025-08-22 19:06:31,439] Trial 23 finished with value: 320.34300376840736 and parameters: {'changepoint_prior_scale': 0.05382036912050721, 'seasonality_prior_scale': 0.058981907148564036, 'holidays_prior_scale': 5.309825565771518}. Best is trial 21 with value: 313.5612522268375.\n"
     ]
    },
    {
     "name": "stderr",
     "output_type": "stream",
     "text": [
      "19:06:31 - cmdstanpy - INFO - Chain [1] start processing\n",
      "19:06:32 - cmdstanpy - INFO - Chain [1] done processing\n",
      "19:06:32 - cmdstanpy - INFO - Chain [1] done processing\n"
     ]
    },
    {
     "name": "stdout",
     "output_type": "stream",
     "text": [
      "[I 2025-08-22 19:06:38,114] Trial 24 finished with value: 310.55341407543045 and parameters: {'changepoint_prior_scale': 0.013016599483883992, 'seasonality_prior_scale': 0.01025823033113344, 'holidays_prior_scale': 16.56861026433659}. Best is trial 24 with value: 310.55341407543045.\n"
     ]
    },
    {
     "name": "stderr",
     "output_type": "stream",
     "text": [
      "19:06:38 - cmdstanpy - INFO - Chain [1] start processing\n",
      "19:06:38 - cmdstanpy - INFO - Chain [1] done processing\n",
      "19:06:38 - cmdstanpy - INFO - Chain [1] done processing\n"
     ]
    },
    {
     "name": "stdout",
     "output_type": "stream",
     "text": [
      "[I 2025-08-22 19:06:44,723] Trial 25 finished with value: 310.0236550315243 and parameters: {'changepoint_prior_scale': 0.013645398799029733, 'seasonality_prior_scale': 0.010464431257306044, 'holidays_prior_scale': 3.5886100860641945}. Best is trial 25 with value: 310.0236550315243.\n"
     ]
    },
    {
     "name": "stderr",
     "output_type": "stream",
     "text": [
      "19:06:45 - cmdstanpy - INFO - Chain [1] start processing\n",
      "19:06:45 - cmdstanpy - INFO - Chain [1] done processing\n",
      "19:06:45 - cmdstanpy - INFO - Chain [1] done processing\n"
     ]
    },
    {
     "name": "stdout",
     "output_type": "stream",
     "text": [
      "[I 2025-08-22 19:06:51,311] Trial 26 finished with value: 317.652771258405 and parameters: {'changepoint_prior_scale': 0.012197259165955938, 'seasonality_prior_scale': 0.0246279806380534, 'holidays_prior_scale': 2.7741229850007145}. Best is trial 25 with value: 310.0236550315243.\n"
     ]
    },
    {
     "name": "stderr",
     "output_type": "stream",
     "text": [
      "19:06:51 - cmdstanpy - INFO - Chain [1] start processing\n",
      "19:06:51 - cmdstanpy - INFO - Chain [1] done processing\n",
      "19:06:51 - cmdstanpy - INFO - Chain [1] done processing\n"
     ]
    },
    {
     "name": "stdout",
     "output_type": "stream",
     "text": [
      "[I 2025-08-22 19:06:58,140] Trial 27 finished with value: 323.3034833026784 and parameters: {'changepoint_prior_scale': 0.0028371411131916185, 'seasonality_prior_scale': 0.22396227191579693, 'holidays_prior_scale': 5.948532796008506}. Best is trial 25 with value: 310.0236550315243.\n"
     ]
    },
    {
     "name": "stderr",
     "output_type": "stream",
     "text": [
      "19:06:58 - cmdstanpy - INFO - Chain [1] start processing\n",
      "19:06:58 - cmdstanpy - INFO - Chain [1] done processing\n",
      "19:06:58 - cmdstanpy - INFO - Chain [1] done processing\n"
     ]
    },
    {
     "name": "stdout",
     "output_type": "stream",
     "text": [
      "[I 2025-08-22 19:07:05,057] Trial 28 finished with value: 316.4779806667929 and parameters: {'changepoint_prior_scale': 0.0020606714863482243, 'seasonality_prior_scale': 0.06006356072887802, 'holidays_prior_scale': 0.9463773433845941}. Best is trial 25 with value: 310.0236550315243.\n"
     ]
    },
    {
     "name": "stderr",
     "output_type": "stream",
     "text": [
      "19:07:05 - cmdstanpy - INFO - Chain [1] start processing\n",
      "19:07:05 - cmdstanpy - INFO - Chain [1] done processing\n",
      "19:07:05 - cmdstanpy - ERROR - Chain [1] error: error during processing Operation not permitted\n",
      "19:07:05 - cmdstanpy - INFO - Chain [1] done processing\n",
      "19:07:05 - cmdstanpy - ERROR - Chain [1] error: error during processing Operation not permitted\n",
      "Optimization terminated abnormally. Falling back to Newton.\n",
      "Optimization terminated abnormally. Falling back to Newton.\n",
      "19:07:05 - cmdstanpy - INFO - Chain [1] start processing\n",
      "19:07:05 - cmdstanpy - INFO - Chain [1] start processing\n",
      "19:07:08 - cmdstanpy - INFO - Chain [1] done processing\n",
      "19:07:08 - cmdstanpy - INFO - Chain [1] done processing\n"
     ]
    },
    {
     "name": "stdout",
     "output_type": "stream",
     "text": [
      "[I 2025-08-22 19:08:44,519] Trial 29 finished with value: 382.86866336362226 and parameters: {'changepoint_prior_scale': 0.00010367589317401373, 'seasonality_prior_scale': 0.025129827488625443, 'holidays_prior_scale': 3.2374820960537827}. Best is trial 25 with value: 310.0236550315243.\n"
     ]
    },
    {
     "name": "stderr",
     "output_type": "stream",
     "text": [
      "19:08:45 - cmdstanpy - INFO - Chain [1] start processing\n",
      "19:08:45 - cmdstanpy - INFO - Chain [1] done processing\n",
      "19:08:45 - cmdstanpy - INFO - Chain [1] done processing\n"
     ]
    },
    {
     "name": "stdout",
     "output_type": "stream",
     "text": [
      "[I 2025-08-22 19:08:51,298] Trial 30 finished with value: 318.9565310701556 and parameters: {'changepoint_prior_scale': 0.014787602503208139, 'seasonality_prior_scale': 0.13954476314276912, 'holidays_prior_scale': 13.951924611833885}. Best is trial 25 with value: 310.0236550315243.\n"
     ]
    },
    {
     "name": "stderr",
     "output_type": "stream",
     "text": [
      "19:08:51 - cmdstanpy - INFO - Chain [1] start processing\n",
      "19:08:52 - cmdstanpy - INFO - Chain [1] done processing\n",
      "19:08:52 - cmdstanpy - INFO - Chain [1] done processing\n"
     ]
    },
    {
     "name": "stdout",
     "output_type": "stream",
     "text": [
      "[I 2025-08-22 19:08:58,125] Trial 31 finished with value: 311.6353918047273 and parameters: {'changepoint_prior_scale': 0.009522475227630693, 'seasonality_prior_scale': 0.010263695442993244, 'holidays_prior_scale': 6.821077868292592}. Best is trial 25 with value: 310.0236550315243.\n"
     ]
    },
    {
     "name": "stderr",
     "output_type": "stream",
     "text": [
      "19:08:58 - cmdstanpy - INFO - Chain [1] start processing\n",
      "19:08:58 - cmdstanpy - INFO - Chain [1] done processing\n",
      "19:08:58 - cmdstanpy - INFO - Chain [1] done processing\n"
     ]
    },
    {
     "name": "stdout",
     "output_type": "stream",
     "text": [
      "[I 2025-08-22 19:09:04,391] Trial 32 finished with value: 316.6291133022018 and parameters: {'changepoint_prior_scale': 0.003901477258475522, 'seasonality_prior_scale': 0.01704521082958037, 'holidays_prior_scale': 6.732029407805278}. Best is trial 25 with value: 310.0236550315243.\n"
     ]
    },
    {
     "name": "stderr",
     "output_type": "stream",
     "text": [
      "19:09:04 - cmdstanpy - INFO - Chain [1] start processing\n",
      "19:09:05 - cmdstanpy - INFO - Chain [1] done processing\n",
      "19:09:05 - cmdstanpy - INFO - Chain [1] done processing\n"
     ]
    },
    {
     "name": "stdout",
     "output_type": "stream",
     "text": [
      "[I 2025-08-22 19:09:10,507] Trial 33 finished with value: 313.8504710721841 and parameters: {'changepoint_prior_scale': 0.010541938209673328, 'seasonality_prior_scale': 0.010382801197362545, 'holidays_prior_scale': 16.74299185449909}. Best is trial 25 with value: 310.0236550315243.\n"
     ]
    },
    {
     "name": "stderr",
     "output_type": "stream",
     "text": [
      "19:09:11 - cmdstanpy - INFO - Chain [1] start processing\n",
      "19:09:11 - cmdstanpy - INFO - Chain [1] done processing\n",
      "19:09:11 - cmdstanpy - INFO - Chain [1] done processing\n"
     ]
    },
    {
     "name": "stdout",
     "output_type": "stream",
     "text": [
      "[I 2025-08-22 19:09:17,109] Trial 34 finished with value: 343.49365456698285 and parameters: {'changepoint_prior_scale': 0.0009365352631741105, 'seasonality_prior_scale': 0.019641857963164987, 'holidays_prior_scale': 3.934097795683853}. Best is trial 25 with value: 310.0236550315243.\n"
     ]
    },
    {
     "name": "stderr",
     "output_type": "stream",
     "text": [
      "19:09:17 - cmdstanpy - INFO - Chain [1] start processing\n",
      "19:09:17 - cmdstanpy - INFO - Chain [1] done processing\n",
      "19:09:17 - cmdstanpy - INFO - Chain [1] done processing\n"
     ]
    },
    {
     "name": "stdout",
     "output_type": "stream",
     "text": [
      "[I 2025-08-22 19:09:25,224] Trial 35 finished with value: 319.73200584932226 and parameters: {'changepoint_prior_scale': 0.023130581722339158, 'seasonality_prior_scale': 0.038310766221257536, 'holidays_prior_scale': 1.8093472963613826}. Best is trial 25 with value: 310.0236550315243.\n"
     ]
    },
    {
     "name": "stderr",
     "output_type": "stream",
     "text": [
      "19:09:25 - cmdstanpy - INFO - Chain [1] start processing\n",
      "19:09:25 - cmdstanpy - INFO - Chain [1] done processing\n",
      "19:09:25 - cmdstanpy - INFO - Chain [1] done processing\n"
     ]
    },
    {
     "name": "stdout",
     "output_type": "stream",
     "text": [
      "[I 2025-08-22 19:09:31,513] Trial 36 finished with value: 320.5592078444857 and parameters: {'changepoint_prior_scale': 0.04309817206442094, 'seasonality_prior_scale': 0.07335094645092537, 'holidays_prior_scale': 7.862809502153384}. Best is trial 25 with value: 310.0236550315243.\n"
     ]
    },
    {
     "name": "stderr",
     "output_type": "stream",
     "text": [
      "19:09:31 - cmdstanpy - INFO - Chain [1] start processing\n",
      "19:09:32 - cmdstanpy - INFO - Chain [1] done processing\n",
      "19:09:32 - cmdstanpy - INFO - Chain [1] done processing\n"
     ]
    },
    {
     "name": "stdout",
     "output_type": "stream",
     "text": [
      "[I 2025-08-22 19:09:37,996] Trial 37 finished with value: 318.97058429859857 and parameters: {'changepoint_prior_scale': 0.019386805204502557, 'seasonality_prior_scale': 6.995693864270418, 'holidays_prior_scale': 0.34848708872942225}. Best is trial 25 with value: 310.0236550315243.\n"
     ]
    },
    {
     "name": "stderr",
     "output_type": "stream",
     "text": [
      "19:09:38 - cmdstanpy - INFO - Chain [1] start processing\n",
      "19:09:38 - cmdstanpy - INFO - Chain [1] done processing\n",
      "19:09:38 - cmdstanpy - ERROR - Chain [1] error: error during processing Operation not permitted\n",
      "Optimization terminated abnormally. Falling back to Newton.\n",
      "19:09:38 - cmdstanpy - INFO - Chain [1] done processing\n",
      "19:09:38 - cmdstanpy - ERROR - Chain [1] error: error during processing Operation not permitted\n",
      "Optimization terminated abnormally. Falling back to Newton.\n",
      "19:09:38 - cmdstanpy - INFO - Chain [1] start processing\n",
      "19:09:38 - cmdstanpy - INFO - Chain [1] start processing\n",
      "19:09:40 - cmdstanpy - INFO - Chain [1] done processing\n",
      "19:09:40 - cmdstanpy - INFO - Chain [1] done processing\n"
     ]
    },
    {
     "name": "stdout",
     "output_type": "stream",
     "text": [
      "[I 2025-08-22 19:10:41,500] Trial 38 finished with value: 334.14066517703924 and parameters: {'changepoint_prior_scale': 0.00017957939162943575, 'seasonality_prior_scale': 0.015544998135561245, 'holidays_prior_scale': 9.705505251691227}. Best is trial 25 with value: 310.0236550315243.\n"
     ]
    },
    {
     "name": "stderr",
     "output_type": "stream",
     "text": [
      "19:10:41 - cmdstanpy - INFO - Chain [1] start processing\n",
      "19:10:42 - cmdstanpy - INFO - Chain [1] done processing\n",
      "19:10:42 - cmdstanpy - INFO - Chain [1] done processing\n"
     ]
    },
    {
     "name": "stdout",
     "output_type": "stream",
     "text": [
      "[I 2025-08-22 19:10:49,826] Trial 39 finished with value: 319.66785716632995 and parameters: {'changepoint_prior_scale': 0.03262319584729979, 'seasonality_prior_scale': 0.036360397905304466, 'holidays_prior_scale': 18.307917362023712}. Best is trial 25 with value: 310.0236550315243.\n",
      "SEC-001 best params: {'changepoint_prior_scale': 0.013645398799029733, 'seasonality_prior_scale': 0.010464431257306044, 'holidays_prior_scale': 3.5886100860641945}\n"
     ]
    },
    {
     "name": "stderr",
     "output_type": "stream",
     "text": [
      "19:10:50 - cmdstanpy - INFO - Chain [1] start processing\n",
      "19:10:50 - cmdstanpy - INFO - Chain [1] done processing\n",
      "19:10:50 - cmdstanpy - INFO - Chain [1] done processing\n",
      "[I 2025-08-22 19:10:50,804] A new study created in memory with name: no-name-a6d2bd5c-f787-43d8-bb0e-66abef662ea3\n",
      "[I 2025-08-22 19:10:50,804] A new study created in memory with name: no-name-a6d2bd5c-f787-43d8-bb0e-66abef662ea3\n"
     ]
    },
    {
     "name": "stdout",
     "output_type": "stream",
     "text": [
      "[Main Loop] Now tuning section: SEC-002\n",
      "[Optuna] Tuning section: SEC-002\n"
     ]
    },
    {
     "data": {
      "application/vnd.jupyter.widget-view+json": {
       "model_id": "ff31ac5e4b914eeb95db16a477d9aaca",
       "version_major": 2,
       "version_minor": 0
      },
      "text/plain": [
       "  0%|          | 0/40 [00:00<?, ?it/s]"
      ]
     },
     "metadata": {},
     "output_type": "display_data"
    },
    {
     "name": "stderr",
     "output_type": "stream",
     "text": [
      "19:10:51 - cmdstanpy - INFO - Chain [1] start processing\n",
      "19:10:51 - cmdstanpy - INFO - Chain [1] done processing\n",
      "19:10:51 - cmdstanpy - INFO - Chain [1] done processing\n"
     ]
    },
    {
     "name": "stdout",
     "output_type": "stream",
     "text": [
      "[I 2025-08-22 19:10:58,852] Trial 0 finished with value: 293.0377423670458 and parameters: {'changepoint_prior_scale': 0.034020087821897894, 'seasonality_prior_scale': 0.029799653432252483, 'holidays_prior_scale': 0.25142644244136525}. Best is trial 0 with value: 293.0377423670458.\n"
     ]
    },
    {
     "name": "stderr",
     "output_type": "stream",
     "text": [
      "19:10:59 - cmdstanpy - INFO - Chain [1] start processing\n",
      "19:10:59 - cmdstanpy - INFO - Chain [1] done processing\n",
      "19:10:59 - cmdstanpy - ERROR - Chain [1] error: error during processing Operation not permitted\n",
      "Optimization terminated abnormally. Falling back to Newton.\n",
      "19:10:59 - cmdstanpy - INFO - Chain [1] done processing\n",
      "19:10:59 - cmdstanpy - ERROR - Chain [1] error: error during processing Operation not permitted\n",
      "Optimization terminated abnormally. Falling back to Newton.\n",
      "19:10:59 - cmdstanpy - INFO - Chain [1] start processing\n",
      "19:10:59 - cmdstanpy - INFO - Chain [1] start processing\n",
      "19:11:01 - cmdstanpy - INFO - Chain [1] done processing\n",
      "19:11:01 - cmdstanpy - INFO - Chain [1] done processing\n"
     ]
    },
    {
     "name": "stdout",
     "output_type": "stream",
     "text": [
      "[I 2025-08-22 19:11:34,630] Trial 1 finished with value: 293.68455453786856 and parameters: {'changepoint_prior_scale': 0.00012099172791894396, 'seasonality_prior_scale': 2.297488766967447, 'holidays_prior_scale': 25.70827700521807}. Best is trial 0 with value: 293.0377423670458.\n"
     ]
    },
    {
     "name": "stderr",
     "output_type": "stream",
     "text": [
      "19:11:35 - cmdstanpy - INFO - Chain [1] start processing\n",
      "19:11:35 - cmdstanpy - INFO - Chain [1] done processing\n",
      "19:11:35 - cmdstanpy - INFO - Chain [1] done processing\n"
     ]
    },
    {
     "name": "stdout",
     "output_type": "stream",
     "text": [
      "[I 2025-08-22 19:11:41,094] Trial 2 finished with value: 288.96074587980513 and parameters: {'changepoint_prior_scale': 0.0064682169020384515, 'seasonality_prior_scale': 0.3194330913209017, 'holidays_prior_scale': 0.057992005152999536}. Best is trial 2 with value: 288.96074587980513.\n"
     ]
    },
    {
     "name": "stderr",
     "output_type": "stream",
     "text": [
      "19:11:41 - cmdstanpy - INFO - Chain [1] start processing\n",
      "19:11:41 - cmdstanpy - INFO - Chain [1] done processing\n",
      "19:11:41 - cmdstanpy - INFO - Chain [1] done processing\n"
     ]
    },
    {
     "name": "stdout",
     "output_type": "stream",
     "text": [
      "[I 2025-08-22 19:11:47,657] Trial 3 finished with value: 292.4034978242196 and parameters: {'changepoint_prior_scale': 0.06186658693278698, 'seasonality_prior_scale': 0.09645646949113824, 'holidays_prior_scale': 1.5686702064102476}. Best is trial 2 with value: 288.96074587980513.\n"
     ]
    },
    {
     "name": "stderr",
     "output_type": "stream",
     "text": [
      "19:11:48 - cmdstanpy - INFO - Chain [1] start processing\n",
      "19:11:48 - cmdstanpy - INFO - Chain [1] done processing\n",
      "19:11:48 - cmdstanpy - INFO - Chain [1] done processing\n"
     ]
    },
    {
     "name": "stdout",
     "output_type": "stream",
     "text": [
      "[I 2025-08-22 19:11:54,744] Trial 4 finished with value: 295.77970800296987 and parameters: {'changepoint_prior_scale': 0.04617524401132111, 'seasonality_prior_scale': 5.776175421811617, 'holidays_prior_scale': 0.04312329283398284}. Best is trial 2 with value: 288.96074587980513.\n"
     ]
    },
    {
     "name": "stderr",
     "output_type": "stream",
     "text": [
      "19:11:55 - cmdstanpy - INFO - Chain [1] start processing\n",
      "19:11:55 - cmdstanpy - INFO - Chain [1] done processing\n",
      "19:11:55 - cmdstanpy - INFO - Chain [1] done processing\n"
     ]
    },
    {
     "name": "stdout",
     "output_type": "stream",
     "text": [
      "[I 2025-08-22 19:12:01,044] Trial 5 finished with value: 289.40952113675144 and parameters: {'changepoint_prior_scale': 0.004893977790211605, 'seasonality_prior_scale': 4.556366941363482, 'holidays_prior_scale': 19.7268334140893}. Best is trial 2 with value: 288.96074587980513.\n"
     ]
    },
    {
     "name": "stderr",
     "output_type": "stream",
     "text": [
      "19:12:01 - cmdstanpy - INFO - Chain [1] start processing\n",
      "19:12:01 - cmdstanpy - INFO - Chain [1] done processing\n",
      "19:12:01 - cmdstanpy - ERROR - Chain [1] error: error during processing Operation not permitted\n",
      "Optimization terminated abnormally. Falling back to Newton.\n",
      "19:12:01 - cmdstanpy - INFO - Chain [1] done processing\n",
      "19:12:01 - cmdstanpy - ERROR - Chain [1] error: error during processing Operation not permitted\n",
      "Optimization terminated abnormally. Falling back to Newton.\n",
      "19:12:01 - cmdstanpy - INFO - Chain [1] start processing\n",
      "19:12:01 - cmdstanpy - INFO - Chain [1] start processing\n",
      "19:12:31 - cmdstanpy - INFO - Chain [1] done processing\n",
      "19:12:31 - cmdstanpy - INFO - Chain [1] done processing\n"
     ]
    },
    {
     "name": "stdout",
     "output_type": "stream",
     "text": [
      "[I 2025-08-22 19:13:24,812] Trial 6 finished with value: 359.9856473704897 and parameters: {'changepoint_prior_scale': 0.0002507302579699082, 'seasonality_prior_scale': 3.278061231179772, 'holidays_prior_scale': 0.3056514443690099}. Best is trial 2 with value: 288.96074587980513.\n"
     ]
    },
    {
     "name": "stderr",
     "output_type": "stream",
     "text": [
      "19:13:25 - cmdstanpy - INFO - Chain [1] start processing\n",
      "19:13:25 - cmdstanpy - INFO - Chain [1] done processing\n",
      "19:13:25 - cmdstanpy - ERROR - Chain [1] error: error during processing Operation not permitted\n",
      "Optimization terminated abnormally. Falling back to Newton.\n",
      "19:13:25 - cmdstanpy - INFO - Chain [1] done processing\n",
      "19:13:25 - cmdstanpy - ERROR - Chain [1] error: error during processing Operation not permitted\n",
      "Optimization terminated abnormally. Falling back to Newton.\n",
      "19:13:25 - cmdstanpy - INFO - Chain [1] start processing\n",
      "19:13:25 - cmdstanpy - INFO - Chain [1] start processing\n",
      "19:13:28 - cmdstanpy - INFO - Chain [1] done processing\n",
      "19:13:28 - cmdstanpy - INFO - Chain [1] done processing\n"
     ]
    },
    {
     "name": "stdout",
     "output_type": "stream",
     "text": [
      "[I 2025-08-22 19:13:46,628] Trial 7 finished with value: 322.67397125573854 and parameters: {'changepoint_prior_scale': 0.0003712628842810039, 'seasonality_prior_scale': 0.12026391219502272, 'holidays_prior_scale': 0.07997691143307904}. Best is trial 2 with value: 288.96074587980513.\n"
     ]
    },
    {
     "name": "stderr",
     "output_type": "stream",
     "text": [
      "19:13:47 - cmdstanpy - INFO - Chain [1] start processing\n",
      "19:13:47 - cmdstanpy - INFO - Chain [1] done processing\n",
      "19:13:47 - cmdstanpy - INFO - Chain [1] done processing\n"
     ]
    },
    {
     "name": "stdout",
     "output_type": "stream",
     "text": [
      "[I 2025-08-22 19:13:53,322] Trial 8 finished with value: 306.4752440063858 and parameters: {'changepoint_prior_scale': 0.021995457209886132, 'seasonality_prior_scale': 0.34940281944251994, 'holidays_prior_scale': 0.01828006214760231}. Best is trial 2 with value: 288.96074587980513.\n"
     ]
    },
    {
     "name": "stderr",
     "output_type": "stream",
     "text": [
      "19:13:53 - cmdstanpy - INFO - Chain [1] start processing\n",
      "19:13:54 - cmdstanpy - INFO - Chain [1] done processing\n",
      "19:13:54 - cmdstanpy - INFO - Chain [1] done processing\n"
     ]
    },
    {
     "name": "stdout",
     "output_type": "stream",
     "text": [
      "[I 2025-08-22 19:13:59,899] Trial 9 finished with value: 309.4237630003359 and parameters: {'changepoint_prior_scale': 0.06129590491226277, 'seasonality_prior_scale': 5.420169126254261, 'holidays_prior_scale': 0.01560679461213545}. Best is trial 2 with value: 288.96074587980513.\n"
     ]
    },
    {
     "name": "stderr",
     "output_type": "stream",
     "text": [
      "19:14:00 - cmdstanpy - INFO - Chain [1] start processing\n",
      "19:14:00 - cmdstanpy - INFO - Chain [1] done processing\n",
      "19:14:00 - cmdstanpy - INFO - Chain [1] done processing\n"
     ]
    },
    {
     "name": "stdout",
     "output_type": "stream",
     "text": [
      "[I 2025-08-22 19:14:05,935] Trial 10 finished with value: 293.6598187498885 and parameters: {'changepoint_prior_scale': 0.002517661383520657, 'seasonality_prior_scale': 0.016488527861857654, 'holidays_prior_scale': 2.673026434390558}. Best is trial 2 with value: 288.96074587980513.\n"
     ]
    },
    {
     "name": "stderr",
     "output_type": "stream",
     "text": [
      "19:14:06 - cmdstanpy - INFO - Chain [1] start processing\n",
      "19:14:06 - cmdstanpy - INFO - Chain [1] done processing\n",
      "19:14:06 - cmdstanpy - INFO - Chain [1] done processing\n"
     ]
    },
    {
     "name": "stdout",
     "output_type": "stream",
     "text": [
      "[I 2025-08-22 19:14:12,339] Trial 11 finished with value: 297.41527911500276 and parameters: {'changepoint_prior_scale': 0.44497196704022035, 'seasonality_prior_scale': 29.69551814690069, 'holidays_prior_scale': 20.0209069024408}. Best is trial 2 with value: 288.96074587980513.\n"
     ]
    },
    {
     "name": "stderr",
     "output_type": "stream",
     "text": [
      "19:14:13 - cmdstanpy - INFO - Chain [1] start processing\n",
      "19:14:13 - cmdstanpy - INFO - Chain [1] done processing\n",
      "19:14:13 - cmdstanpy - INFO - Chain [1] done processing\n"
     ]
    },
    {
     "name": "stdout",
     "output_type": "stream",
     "text": [
      "[I 2025-08-22 19:14:19,094] Trial 12 finished with value: 291.7098373405717 and parameters: {'changepoint_prior_scale': 0.002748631569344918, 'seasonality_prior_scale': 0.741995479793239, 'holidays_prior_scale': 3.2470271846594567}. Best is trial 2 with value: 288.96074587980513.\n"
     ]
    },
    {
     "name": "stderr",
     "output_type": "stream",
     "text": [
      "19:14:19 - cmdstanpy - INFO - Chain [1] start processing\n",
      "19:14:19 - cmdstanpy - INFO - Chain [1] done processing\n",
      "19:14:19 - cmdstanpy - INFO - Chain [1] done processing\n"
     ]
    },
    {
     "name": "stdout",
     "output_type": "stream",
     "text": [
      "[I 2025-08-22 19:14:26,486] Trial 13 finished with value: 291.4652763870299 and parameters: {'changepoint_prior_scale': 0.007921212129907925, 'seasonality_prior_scale': 30.172764215979676, 'holidays_prior_scale': 7.385651347297065}. Best is trial 2 with value: 288.96074587980513.\n"
     ]
    },
    {
     "name": "stderr",
     "output_type": "stream",
     "text": [
      "19:14:27 - cmdstanpy - INFO - Chain [1] start processing\n",
      "19:14:27 - cmdstanpy - INFO - Chain [1] done processing\n",
      "19:14:27 - cmdstanpy - INFO - Chain [1] done processing\n"
     ]
    },
    {
     "name": "stdout",
     "output_type": "stream",
     "text": [
      "[I 2025-08-22 19:14:38,962] Trial 14 finished with value: 306.54708556201183 and parameters: {'changepoint_prior_scale': 0.0016437851216661618, 'seasonality_prior_scale': 0.8701398166857081, 'holidays_prior_scale': 0.6571649134873471}. Best is trial 2 with value: 288.96074587980513.\n"
     ]
    },
    {
     "name": "stderr",
     "output_type": "stream",
     "text": [
      "19:14:39 - cmdstanpy - INFO - Chain [1] start processing\n",
      "19:14:39 - cmdstanpy - INFO - Chain [1] done processing\n",
      "19:14:39 - cmdstanpy - INFO - Chain [1] done processing\n"
     ]
    },
    {
     "name": "stdout",
     "output_type": "stream",
     "text": [
      "[I 2025-08-22 19:14:48,252] Trial 15 finished with value: 292.6819760716482 and parameters: {'changepoint_prior_scale': 0.007817640580262413, 'seasonality_prior_scale': 0.21515390103049073, 'holidays_prior_scale': 0.09618175076040897}. Best is trial 2 with value: 288.96074587980513.\n"
     ]
    },
    {
     "name": "stderr",
     "output_type": "stream",
     "text": [
      "19:14:48 - cmdstanpy - INFO - Chain [1] start processing\n",
      "19:14:49 - cmdstanpy - INFO - Chain [1] done processing\n",
      "19:14:49 - cmdstanpy - INFO - Chain [1] done processing\n"
     ]
    },
    {
     "name": "stdout",
     "output_type": "stream",
     "text": [
      "[I 2025-08-22 19:15:11,079] Trial 16 finished with value: 351.2615080592181 and parameters: {'changepoint_prior_scale': 0.0007807799331687971, 'seasonality_prior_scale': 1.1905779664448066, 'holidays_prior_scale': 0.73953714304182}. Best is trial 2 with value: 288.96074587980513.\n"
     ]
    },
    {
     "name": "stderr",
     "output_type": "stream",
     "text": [
      "19:15:11 - cmdstanpy - INFO - Chain [1] start processing\n",
      "19:15:11 - cmdstanpy - INFO - Chain [1] done processing\n",
      "19:15:11 - cmdstanpy - INFO - Chain [1] done processing\n"
     ]
    },
    {
     "name": "stdout",
     "output_type": "stream",
     "text": [
      "[I 2025-08-22 19:15:20,711] Trial 17 finished with value: 292.5667879184205 and parameters: {'changepoint_prior_scale': 0.2559245837015393, 'seasonality_prior_scale': 10.343969892044244, 'holidays_prior_scale': 9.904598725842376}. Best is trial 2 with value: 288.96074587980513.\n"
     ]
    },
    {
     "name": "stderr",
     "output_type": "stream",
     "text": [
      "19:15:21 - cmdstanpy - INFO - Chain [1] start processing\n",
      "19:15:21 - cmdstanpy - INFO - Chain [1] done processing\n",
      "19:15:21 - cmdstanpy - INFO - Chain [1] done processing\n"
     ]
    },
    {
     "name": "stdout",
     "output_type": "stream",
     "text": [
      "[I 2025-08-22 19:15:29,247] Trial 18 finished with value: 292.512787405773 and parameters: {'changepoint_prior_scale': 0.013552050066515095, 'seasonality_prior_scale': 0.07872572108812069, 'holidays_prior_scale': 0.12931524930338342}. Best is trial 2 with value: 288.96074587980513.\n"
     ]
    },
    {
     "name": "stderr",
     "output_type": "stream",
     "text": [
      "19:15:29 - cmdstanpy - INFO - Chain [1] start processing\n",
      "19:15:29 - cmdstanpy - INFO - Chain [1] done processing\n",
      "19:15:29 - cmdstanpy - INFO - Chain [1] done processing\n"
     ]
    },
    {
     "name": "stdout",
     "output_type": "stream",
     "text": [
      "[I 2025-08-22 19:15:35,775] Trial 19 finished with value: 294.5630022810525 and parameters: {'changepoint_prior_scale': 0.004244367318205297, 'seasonality_prior_scale': 1.5156565271686364, 'holidays_prior_scale': 0.03205092008470791}. Best is trial 2 with value: 288.96074587980513.\n"
     ]
    },
    {
     "name": "stderr",
     "output_type": "stream",
     "text": [
      "19:15:36 - cmdstanpy - INFO - Chain [1] start processing\n",
      "19:15:36 - cmdstanpy - INFO - Chain [1] done processing\n",
      "19:15:36 - cmdstanpy - INFO - Chain [1] done processing\n"
     ]
    },
    {
     "name": "stdout",
     "output_type": "stream",
     "text": [
      "[I 2025-08-22 19:15:43,974] Trial 20 finished with value: 305.2679769989066 and parameters: {'changepoint_prior_scale': 0.0013608839818455357, 'seasonality_prior_scale': 0.39934207261417853, 'holidays_prior_scale': 1.486288646436354}. Best is trial 2 with value: 288.96074587980513.\n"
     ]
    },
    {
     "name": "stderr",
     "output_type": "stream",
     "text": [
      "19:15:44 - cmdstanpy - INFO - Chain [1] start processing\n",
      "19:15:44 - cmdstanpy - INFO - Chain [1] done processing\n",
      "19:15:44 - cmdstanpy - INFO - Chain [1] done processing\n"
     ]
    },
    {
     "name": "stdout",
     "output_type": "stream",
     "text": [
      "[I 2025-08-22 19:15:51,383] Trial 21 finished with value: 295.4675545079177 and parameters: {'changepoint_prior_scale': 0.007122347428497478, 'seasonality_prior_scale': 29.645917195710435, 'holidays_prior_scale': 11.740736862370914}. Best is trial 2 with value: 288.96074587980513.\n"
     ]
    },
    {
     "name": "stderr",
     "output_type": "stream",
     "text": [
      "19:15:51 - cmdstanpy - INFO - Chain [1] start processing\n",
      "19:15:52 - cmdstanpy - INFO - Chain [1] done processing\n",
      "19:15:52 - cmdstanpy - INFO - Chain [1] done processing\n"
     ]
    },
    {
     "name": "stdout",
     "output_type": "stream",
     "text": [
      "[I 2025-08-22 19:15:58,279] Trial 22 finished with value: 291.1499894255852 and parameters: {'changepoint_prior_scale': 0.01222961606277532, 'seasonality_prior_scale': 11.28511371503773, 'holidays_prior_scale': 5.7250344517279785}. Best is trial 2 with value: 288.96074587980513.\n"
     ]
    },
    {
     "name": "stderr",
     "output_type": "stream",
     "text": [
      "19:15:58 - cmdstanpy - INFO - Chain [1] start processing\n",
      "19:15:58 - cmdstanpy - INFO - Chain [1] done processing\n",
      "19:15:58 - cmdstanpy - INFO - Chain [1] done processing\n"
     ]
    },
    {
     "name": "stdout",
     "output_type": "stream",
     "text": [
      "[I 2025-08-22 19:16:04,854] Trial 23 finished with value: 293.3209700827956 and parameters: {'changepoint_prior_scale': 0.02098879825885278, 'seasonality_prior_scale': 10.86505431720439, 'holidays_prior_scale': 4.90743896600609}. Best is trial 2 with value: 288.96074587980513.\n"
     ]
    },
    {
     "name": "stderr",
     "output_type": "stream",
     "text": [
      "19:16:05 - cmdstanpy - INFO - Chain [1] start processing\n",
      "19:16:05 - cmdstanpy - INFO - Chain [1] done processing\n",
      "19:16:05 - cmdstanpy - INFO - Chain [1] done processing\n"
     ]
    },
    {
     "name": "stdout",
     "output_type": "stream",
     "text": [
      "[I 2025-08-22 19:16:11,764] Trial 24 finished with value: 291.0796909476248 and parameters: {'changepoint_prior_scale': 0.1549406282909861, 'seasonality_prior_scale': 10.793086100539586, 'holidays_prior_scale': 26.63938728175497}. Best is trial 2 with value: 288.96074587980513.\n"
     ]
    },
    {
     "name": "stderr",
     "output_type": "stream",
     "text": [
      "19:16:12 - cmdstanpy - INFO - Chain [1] start processing\n",
      "19:16:12 - cmdstanpy - INFO - Chain [1] done processing\n",
      "19:16:12 - cmdstanpy - INFO - Chain [1] done processing\n"
     ]
    },
    {
     "name": "stdout",
     "output_type": "stream",
     "text": [
      "[I 2025-08-22 19:16:18,561] Trial 25 finished with value: 291.1866179851115 and parameters: {'changepoint_prior_scale': 0.1192892799254804, 'seasonality_prior_scale': 2.828943554144432, 'holidays_prior_scale': 16.84963399938214}. Best is trial 2 with value: 288.96074587980513.\n"
     ]
    },
    {
     "name": "stderr",
     "output_type": "stream",
     "text": [
      "19:16:19 - cmdstanpy - INFO - Chain [1] start processing\n",
      "19:16:19 - cmdstanpy - INFO - Chain [1] done processing\n",
      "19:16:19 - cmdstanpy - INFO - Chain [1] done processing\n"
     ]
    },
    {
     "name": "stdout",
     "output_type": "stream",
     "text": [
      "[I 2025-08-22 19:16:25,999] Trial 26 finished with value: 317.586553263274 and parameters: {'changepoint_prior_scale': 0.003971128517491419, 'seasonality_prior_scale': 0.21890047831765555, 'holidays_prior_scale': 0.010374001565635118}. Best is trial 2 with value: 288.96074587980513.\n"
     ]
    },
    {
     "name": "stderr",
     "output_type": "stream",
     "text": [
      "19:16:26 - cmdstanpy - INFO - Chain [1] start processing\n",
      "19:16:26 - cmdstanpy - INFO - Chain [1] done processing\n",
      "19:16:26 - cmdstanpy - INFO - Chain [1] done processing\n"
     ]
    },
    {
     "name": "stdout",
     "output_type": "stream",
     "text": [
      "[I 2025-08-22 19:16:33,715] Trial 27 finished with value: 290.8622730004356 and parameters: {'changepoint_prior_scale': 0.14623456105124216, 'seasonality_prior_scale': 5.4150879506153915, 'holidays_prior_scale': 27.15068808293246}. Best is trial 2 with value: 288.96074587980513.\n"
     ]
    },
    {
     "name": "stderr",
     "output_type": "stream",
     "text": [
      "19:16:34 - cmdstanpy - INFO - Chain [1] start processing\n",
      "19:16:34 - cmdstanpy - INFO - Chain [1] done processing\n",
      "19:16:34 - cmdstanpy - INFO - Chain [1] done processing\n"
     ]
    },
    {
     "name": "stdout",
     "output_type": "stream",
     "text": [
      "[I 2025-08-22 19:16:50,613] Trial 28 finished with value: 342.4998320583386 and parameters: {'changepoint_prior_scale': 0.0007771582500091372, 'seasonality_prior_scale': 5.134993011969092, 'holidays_prior_scale': 0.33400657620803836}. Best is trial 2 with value: 288.96074587980513.\n"
     ]
    },
    {
     "name": "stderr",
     "output_type": "stream",
     "text": [
      "19:16:51 - cmdstanpy - INFO - Chain [1] start processing\n",
      "19:16:51 - cmdstanpy - INFO - Chain [1] done processing\n",
      "19:16:51 - cmdstanpy - INFO - Chain [1] done processing\n"
     ]
    },
    {
     "name": "stdout",
     "output_type": "stream",
     "text": [
      "[I 2025-08-22 19:16:58,495] Trial 29 finished with value: 293.83802648069525 and parameters: {'changepoint_prior_scale': 0.03446005640121965, 'seasonality_prior_scale': 0.04750909630686623, 'holidays_prior_scale': 1.2441806588655988}. Best is trial 2 with value: 288.96074587980513.\n"
     ]
    },
    {
     "name": "stderr",
     "output_type": "stream",
     "text": [
      "19:16:59 - cmdstanpy - INFO - Chain [1] start processing\n",
      "19:16:59 - cmdstanpy - INFO - Chain [1] done processing\n",
      "19:16:59 - cmdstanpy - INFO - Chain [1] done processing\n"
     ]
    },
    {
     "name": "stdout",
     "output_type": "stream",
     "text": [
      "[I 2025-08-22 19:17:06,072] Trial 30 finished with value: 288.4637386403531 and parameters: {'changepoint_prior_scale': 0.0042561099525965105, 'seasonality_prior_scale': 0.5413969133248574, 'holidays_prior_scale': 12.683456932086553}. Best is trial 30 with value: 288.4637386403531.\n"
     ]
    },
    {
     "name": "stderr",
     "output_type": "stream",
     "text": [
      "19:17:06 - cmdstanpy - INFO - Chain [1] start processing\n",
      "19:17:06 - cmdstanpy - INFO - Chain [1] done processing\n",
      "19:17:06 - cmdstanpy - INFO - Chain [1] done processing\n"
     ]
    },
    {
     "name": "stdout",
     "output_type": "stream",
     "text": [
      "[I 2025-08-22 19:17:12,730] Trial 31 finished with value: 289.56154937374845 and parameters: {'changepoint_prior_scale': 0.0036087016770953205, 'seasonality_prior_scale': 0.4444297948021426, 'holidays_prior_scale': 12.867990355470171}. Best is trial 30 with value: 288.4637386403531.\n"
     ]
    },
    {
     "name": "stderr",
     "output_type": "stream",
     "text": [
      "19:17:13 - cmdstanpy - INFO - Chain [1] start processing\n",
      "19:17:13 - cmdstanpy - INFO - Chain [1] done processing\n",
      "19:17:13 - cmdstanpy - INFO - Chain [1] done processing\n"
     ]
    },
    {
     "name": "stdout",
     "output_type": "stream",
     "text": [
      "[I 2025-08-22 19:17:18,927] Trial 32 finished with value: 293.0818038536398 and parameters: {'changepoint_prior_scale': 0.0039021565241255645, 'seasonality_prior_scale': 0.42984386473907427, 'holidays_prior_scale': 12.803311306167187}. Best is trial 30 with value: 288.4637386403531.\n"
     ]
    },
    {
     "name": "stderr",
     "output_type": "stream",
     "text": [
      "19:17:19 - cmdstanpy - INFO - Chain [1] start processing\n",
      "19:17:19 - cmdstanpy - INFO - Chain [1] done processing\n",
      "19:17:19 - cmdstanpy - INFO - Chain [1] done processing\n"
     ]
    },
    {
     "name": "stdout",
     "output_type": "stream",
     "text": [
      "[I 2025-08-22 19:17:27,034] Trial 33 finished with value: 304.2351870945394 and parameters: {'changepoint_prior_scale': 0.0013932979103865042, 'seasonality_prior_scale': 0.21166706194217497, 'holidays_prior_scale': 2.7209421087417027}. Best is trial 30 with value: 288.4637386403531.\n"
     ]
    },
    {
     "name": "stderr",
     "output_type": "stream",
     "text": [
      "19:17:27 - cmdstanpy - INFO - Chain [1] start processing\n",
      "19:17:27 - cmdstanpy - INFO - Chain [1] done processing\n",
      "19:17:27 - cmdstanpy - INFO - Chain [1] done processing\n"
     ]
    },
    {
     "name": "stdout",
     "output_type": "stream",
     "text": [
      "[I 2025-08-22 19:17:34,359] Trial 34 finished with value: 292.09251433337477 and parameters: {'changepoint_prior_scale': 0.013082952740679239, 'seasonality_prior_scale': 1.6330861719139305, 'holidays_prior_scale': 7.583987753041266}. Best is trial 30 with value: 288.4637386403531.\n"
     ]
    },
    {
     "name": "stderr",
     "output_type": "stream",
     "text": [
      "19:17:34 - cmdstanpy - INFO - Chain [1] start processing\n",
      "19:17:35 - cmdstanpy - INFO - Chain [1] done processing\n",
      "19:17:35 - cmdstanpy - INFO - Chain [1] done processing\n"
     ]
    },
    {
     "name": "stdout",
     "output_type": "stream",
     "text": [
      "[I 2025-08-22 19:17:46,989] Trial 35 finished with value: 312.15294730727123 and parameters: {'changepoint_prior_scale': 0.0007528491887595603, 'seasonality_prior_scale': 0.617966478372881, 'holidays_prior_scale': 0.16878375381860564}. Best is trial 30 with value: 288.4637386403531.\n"
     ]
    },
    {
     "name": "stderr",
     "output_type": "stream",
     "text": [
      "19:17:47 - cmdstanpy - INFO - Chain [1] start processing\n",
      "19:17:47 - cmdstanpy - INFO - Chain [1] done processing\n",
      "19:17:47 - cmdstanpy - INFO - Chain [1] done processing\n"
     ]
    },
    {
     "name": "stdout",
     "output_type": "stream",
     "text": [
      "[I 2025-08-22 19:17:54,784] Trial 36 finished with value: 292.96507364978413 and parameters: {'changepoint_prior_scale': 0.005115338822548656, 'seasonality_prior_scale': 0.2721058189772692, 'holidays_prior_scale': 4.315652458599349}. Best is trial 30 with value: 288.4637386403531.\n"
     ]
    },
    {
     "name": "stderr",
     "output_type": "stream",
     "text": [
      "19:17:55 - cmdstanpy - INFO - Chain [1] start processing\n",
      "19:17:55 - cmdstanpy - INFO - Chain [1] done processing\n",
      "19:17:55 - cmdstanpy - INFO - Chain [1] done processing\n"
     ]
    },
    {
     "name": "stdout",
     "output_type": "stream",
     "text": [
      "[I 2025-08-22 19:18:02,230] Trial 37 finished with value: 288.71972558857965 and parameters: {'changepoint_prior_scale': 0.0022855371821698237, 'seasonality_prior_scale': 0.14206862899876402, 'holidays_prior_scale': 16.774307228288006}. Best is trial 30 with value: 288.4637386403531.\n"
     ]
    },
    {
     "name": "stderr",
     "output_type": "stream",
     "text": [
      "19:18:02 - cmdstanpy - INFO - Chain [1] start processing\n",
      "19:18:02 - cmdstanpy - INFO - Chain [1] done processing\n",
      "19:18:02 - cmdstanpy - ERROR - Chain [1] error: error during processing Operation not permitted\n",
      "Optimization terminated abnormally. Falling back to Newton.\n",
      "19:18:02 - cmdstanpy - INFO - Chain [1] done processing\n",
      "19:18:02 - cmdstanpy - ERROR - Chain [1] error: error during processing Operation not permitted\n",
      "Optimization terminated abnormally. Falling back to Newton.\n",
      "19:18:02 - cmdstanpy - INFO - Chain [1] start processing\n",
      "19:18:02 - cmdstanpy - INFO - Chain [1] start processing\n",
      "19:18:04 - cmdstanpy - INFO - Chain [1] done processing\n",
      "19:18:04 - cmdstanpy - INFO - Chain [1] done processing\n"
     ]
    },
    {
     "name": "stdout",
     "output_type": "stream",
     "text": [
      "[I 2025-08-22 19:19:01,338] Trial 38 finished with value: 368.03214284320046 and parameters: {'changepoint_prior_scale': 0.00017090892707339865, 'seasonality_prior_scale': 0.11824191489767627, 'holidays_prior_scale': 0.03851720254631714}. Best is trial 30 with value: 288.4637386403531.\n"
     ]
    },
    {
     "name": "stderr",
     "output_type": "stream",
     "text": [
      "19:19:01 - cmdstanpy - INFO - Chain [1] start processing\n",
      "19:19:02 - cmdstanpy - INFO - Chain [1] done processing\n",
      "19:19:02 - cmdstanpy - INFO - Chain [1] done processing\n"
     ]
    },
    {
     "name": "stdout",
     "output_type": "stream",
     "text": [
      "[I 2025-08-22 19:19:08,124] Trial 39 finished with value: 305.2625885153549 and parameters: {'changepoint_prior_scale': 0.002045941960794957, 'seasonality_prior_scale': 0.06140839875950777, 'holidays_prior_scale': 19.41976302477007}. Best is trial 30 with value: 288.4637386403531.\n",
      "SEC-002 best params: {'changepoint_prior_scale': 0.0042561099525965105, 'seasonality_prior_scale': 0.5413969133248574, 'holidays_prior_scale': 12.683456932086553}\n"
     ]
    },
    {
     "name": "stderr",
     "output_type": "stream",
     "text": [
      "19:19:08 - cmdstanpy - INFO - Chain [1] start processing\n",
      "19:19:08 - cmdstanpy - INFO - Chain [1] done processing\n",
      "19:19:08 - cmdstanpy - INFO - Chain [1] done processing\n",
      "[I 2025-08-22 19:19:09,294] A new study created in memory with name: no-name-46f1f101-1e1c-4bf5-935f-04ad891216b0\n",
      "[I 2025-08-22 19:19:09,294] A new study created in memory with name: no-name-46f1f101-1e1c-4bf5-935f-04ad891216b0\n"
     ]
    },
    {
     "name": "stdout",
     "output_type": "stream",
     "text": [
      "[Main Loop] Now tuning section: SEC-003\n",
      "[Optuna] Tuning section: SEC-003\n"
     ]
    },
    {
     "data": {
      "application/vnd.jupyter.widget-view+json": {
       "model_id": "a443527733924043b314f983761f07d3",
       "version_major": 2,
       "version_minor": 0
      },
      "text/plain": [
       "  0%|          | 0/40 [00:00<?, ?it/s]"
      ]
     },
     "metadata": {},
     "output_type": "display_data"
    },
    {
     "name": "stderr",
     "output_type": "stream",
     "text": [
      "19:19:09 - cmdstanpy - INFO - Chain [1] start processing\n",
      "19:19:09 - cmdstanpy - INFO - Chain [1] done processing\n",
      "19:19:09 - cmdstanpy - INFO - Chain [1] done processing\n"
     ]
    },
    {
     "name": "stdout",
     "output_type": "stream",
     "text": [
      "[I 2025-08-22 19:19:15,963] Trial 0 finished with value: 269.72672518379176 and parameters: {'changepoint_prior_scale': 0.003013943016287202, 'seasonality_prior_scale': 0.0923316053715279, 'holidays_prior_scale': 2.3188837057524636}. Best is trial 0 with value: 269.72672518379176.\n"
     ]
    },
    {
     "name": "stderr",
     "output_type": "stream",
     "text": [
      "19:19:16 - cmdstanpy - INFO - Chain [1] start processing\n",
      "19:19:16 - cmdstanpy - INFO - Chain [1] done processing\n",
      "19:19:16 - cmdstanpy - INFO - Chain [1] done processing\n"
     ]
    },
    {
     "name": "stdout",
     "output_type": "stream",
     "text": [
      "[I 2025-08-22 19:19:24,498] Trial 1 finished with value: 308.3713257936832 and parameters: {'changepoint_prior_scale': 0.0012342380216161194, 'seasonality_prior_scale': 0.21153218812223004, 'holidays_prior_scale': 21.14106043639908}. Best is trial 0 with value: 269.72672518379176.\n"
     ]
    },
    {
     "name": "stderr",
     "output_type": "stream",
     "text": [
      "19:19:25 - cmdstanpy - INFO - Chain [1] start processing\n",
      "19:19:25 - cmdstanpy - INFO - Chain [1] done processing\n",
      "19:19:25 - cmdstanpy - INFO - Chain [1] done processing\n"
     ]
    },
    {
     "name": "stdout",
     "output_type": "stream",
     "text": [
      "[I 2025-08-22 19:19:31,271] Trial 2 finished with value: 270.0159611157218 and parameters: {'changepoint_prior_scale': 0.002855586054366412, 'seasonality_prior_scale': 1.6006379962057344, 'holidays_prior_scale': 1.5340515292986443}. Best is trial 0 with value: 269.72672518379176.\n"
     ]
    },
    {
     "name": "stderr",
     "output_type": "stream",
     "text": [
      "19:19:32 - cmdstanpy - INFO - Chain [1] start processing\n",
      "19:19:32 - cmdstanpy - INFO - Chain [1] done processing\n",
      "19:19:32 - cmdstanpy - INFO - Chain [1] done processing\n"
     ]
    },
    {
     "name": "stdout",
     "output_type": "stream",
     "text": [
      "[I 2025-08-22 19:19:37,992] Trial 3 finished with value: 269.7894013107413 and parameters: {'changepoint_prior_scale': 0.0038558059151858975, 'seasonality_prior_scale': 0.3662855740484303, 'holidays_prior_scale': 3.4350609331689275}. Best is trial 0 with value: 269.72672518379176.\n"
     ]
    },
    {
     "name": "stderr",
     "output_type": "stream",
     "text": [
      "19:19:38 - cmdstanpy - INFO - Chain [1] start processing\n",
      "19:19:38 - cmdstanpy - INFO - Chain [1] done processing\n",
      "19:19:38 - cmdstanpy - ERROR - Chain [1] error: error during processing Operation not permitted\n",
      "Optimization terminated abnormally. Falling back to Newton.\n",
      "19:19:38 - cmdstanpy - INFO - Chain [1] done processing\n",
      "19:19:38 - cmdstanpy - ERROR - Chain [1] error: error during processing Operation not permitted\n",
      "Optimization terminated abnormally. Falling back to Newton.\n",
      "19:19:38 - cmdstanpy - INFO - Chain [1] start processing\n",
      "19:19:38 - cmdstanpy - INFO - Chain [1] start processing\n",
      "19:19:40 - cmdstanpy - INFO - Chain [1] done processing\n",
      "19:19:40 - cmdstanpy - INFO - Chain [1] done processing\n"
     ]
    },
    {
     "name": "stdout",
     "output_type": "stream",
     "text": [
      "[I 2025-08-22 19:20:00,055] Trial 4 finished with value: 288.0563258225653 and parameters: {'changepoint_prior_scale': 0.00015556813089841092, 'seasonality_prior_scale': 0.4232162695377577, 'holidays_prior_scale': 0.17039580622720144}. Best is trial 0 with value: 269.72672518379176.\n"
     ]
    },
    {
     "name": "stderr",
     "output_type": "stream",
     "text": [
      "19:20:00 - cmdstanpy - INFO - Chain [1] start processing\n",
      "19:20:00 - cmdstanpy - INFO - Chain [1] done processing\n",
      "19:20:00 - cmdstanpy - INFO - Chain [1] done processing\n"
     ]
    },
    {
     "name": "stdout",
     "output_type": "stream",
     "text": [
      "[I 2025-08-22 19:20:06,806] Trial 5 finished with value: 269.5716877710527 and parameters: {'changepoint_prior_scale': 0.16022925750275577, 'seasonality_prior_scale': 0.6522392070139594, 'holidays_prior_scale': 0.7447266035882143}. Best is trial 5 with value: 269.5716877710527.\n"
     ]
    },
    {
     "name": "stderr",
     "output_type": "stream",
     "text": [
      "19:20:07 - cmdstanpy - INFO - Chain [1] start processing\n",
      "19:20:07 - cmdstanpy - INFO - Chain [1] done processing\n",
      "19:20:07 - cmdstanpy - INFO - Chain [1] done processing\n"
     ]
    },
    {
     "name": "stdout",
     "output_type": "stream",
     "text": [
      "[I 2025-08-22 19:20:14,839] Trial 6 finished with value: 326.7440591646781 and parameters: {'changepoint_prior_scale': 0.001066310591423195, 'seasonality_prior_scale': 0.15950710651285963, 'holidays_prior_scale': 1.1841805120418176}. Best is trial 5 with value: 269.5716877710527.\n"
     ]
    },
    {
     "name": "stderr",
     "output_type": "stream",
     "text": [
      "19:20:15 - cmdstanpy - INFO - Chain [1] start processing\n",
      "19:20:15 - cmdstanpy - INFO - Chain [1] done processing\n",
      "19:20:15 - cmdstanpy - INFO - Chain [1] done processing\n"
     ]
    },
    {
     "name": "stdout",
     "output_type": "stream",
     "text": [
      "[I 2025-08-22 19:20:21,502] Trial 7 finished with value: 263.39803382862567 and parameters: {'changepoint_prior_scale': 0.007545547603503977, 'seasonality_prior_scale': 29.612578095588287, 'holidays_prior_scale': 2.8855160373375672}. Best is trial 7 with value: 263.39803382862567.\n"
     ]
    },
    {
     "name": "stderr",
     "output_type": "stream",
     "text": [
      "19:20:22 - cmdstanpy - INFO - Chain [1] start processing\n",
      "19:20:22 - cmdstanpy - INFO - Chain [1] done processing\n",
      "19:20:22 - cmdstanpy - INFO - Chain [1] done processing\n"
     ]
    },
    {
     "name": "stdout",
     "output_type": "stream",
     "text": [
      "[I 2025-08-22 19:20:29,085] Trial 8 finished with value: 277.7477985949042 and parameters: {'changepoint_prior_scale': 0.0020654064632975883, 'seasonality_prior_scale': 0.05454650816997377, 'holidays_prior_scale': 20.701621106211956}. Best is trial 7 with value: 263.39803382862567.\n"
     ]
    },
    {
     "name": "stderr",
     "output_type": "stream",
     "text": [
      "19:20:29 - cmdstanpy - INFO - Chain [1] start processing\n",
      "19:20:29 - cmdstanpy - INFO - Chain [1] done processing\n",
      "19:20:29 - cmdstanpy - INFO - Chain [1] done processing\n"
     ]
    },
    {
     "name": "stdout",
     "output_type": "stream",
     "text": [
      "[I 2025-08-22 19:20:36,125] Trial 9 finished with value: 271.3213406495558 and parameters: {'changepoint_prior_scale': 0.2303393991600328, 'seasonality_prior_scale': 1.3772244606957742, 'holidays_prior_scale': 0.6025258558337158}. Best is trial 7 with value: 263.39803382862567.\n"
     ]
    },
    {
     "name": "stderr",
     "output_type": "stream",
     "text": [
      "19:20:36 - cmdstanpy - INFO - Chain [1] start processing\n",
      "19:20:37 - cmdstanpy - INFO - Chain [1] done processing\n",
      "19:20:37 - cmdstanpy - INFO - Chain [1] done processing\n"
     ]
    },
    {
     "name": "stdout",
     "output_type": "stream",
     "text": [
      "[I 2025-08-22 19:20:43,443] Trial 10 finished with value: 271.5239574069602 and parameters: {'changepoint_prior_scale': 0.043493998436973304, 'seasonality_prior_scale': 22.895778841424878, 'holidays_prior_scale': 0.013125943212102361}. Best is trial 7 with value: 263.39803382862567.\n"
     ]
    },
    {
     "name": "stderr",
     "output_type": "stream",
     "text": [
      "19:20:44 - cmdstanpy - INFO - Chain [1] start processing\n",
      "19:20:44 - cmdstanpy - INFO - Chain [1] done processing\n",
      "19:20:44 - cmdstanpy - INFO - Chain [1] done processing\n"
     ]
    },
    {
     "name": "stdout",
     "output_type": "stream",
     "text": [
      "[I 2025-08-22 19:20:50,494] Trial 11 finished with value: 266.6887618977469 and parameters: {'changepoint_prior_scale': 0.030975776038719753, 'seasonality_prior_scale': 28.816708702045155, 'holidays_prior_scale': 0.1763640801825158}. Best is trial 7 with value: 263.39803382862567.\n"
     ]
    },
    {
     "name": "stderr",
     "output_type": "stream",
     "text": [
      "19:20:51 - cmdstanpy - INFO - Chain [1] start processing\n",
      "19:20:51 - cmdstanpy - INFO - Chain [1] done processing\n",
      "19:20:51 - cmdstanpy - INFO - Chain [1] done processing\n"
     ]
    },
    {
     "name": "stdout",
     "output_type": "stream",
     "text": [
      "[I 2025-08-22 19:20:57,209] Trial 12 finished with value: 266.14131972787345 and parameters: {'changepoint_prior_scale': 0.02333407062772629, 'seasonality_prior_scale': 21.843615580377424, 'holidays_prior_scale': 0.12064345719509277}. Best is trial 7 with value: 263.39803382862567.\n"
     ]
    },
    {
     "name": "stderr",
     "output_type": "stream",
     "text": [
      "19:20:57 - cmdstanpy - INFO - Chain [1] start processing\n",
      "19:20:58 - cmdstanpy - INFO - Chain [1] done processing\n",
      "19:20:58 - cmdstanpy - INFO - Chain [1] done processing\n"
     ]
    },
    {
     "name": "stdout",
     "output_type": "stream",
     "text": [
      "[I 2025-08-22 19:21:04,014] Trial 13 finished with value: 267.16046426239944 and parameters: {'changepoint_prior_scale': 0.01874658063567824, 'seasonality_prior_scale': 7.1351198915495715, 'holidays_prior_scale': 0.034459649840347446}. Best is trial 7 with value: 263.39803382862567.\n"
     ]
    },
    {
     "name": "stderr",
     "output_type": "stream",
     "text": [
      "19:21:04 - cmdstanpy - INFO - Chain [1] start processing\n",
      "19:21:04 - cmdstanpy - INFO - Chain [1] done processing\n",
      "19:21:04 - cmdstanpy - INFO - Chain [1] done processing\n"
     ]
    },
    {
     "name": "stdout",
     "output_type": "stream",
     "text": [
      "[I 2025-08-22 19:21:11,393] Trial 14 finished with value: 265.5563367256701 and parameters: {'changepoint_prior_scale': 0.011939785512925252, 'seasonality_prior_scale': 6.644687826213896, 'holidays_prior_scale': 0.15350535255324027}. Best is trial 7 with value: 263.39803382862567.\n"
     ]
    },
    {
     "name": "stderr",
     "output_type": "stream",
     "text": [
      "19:21:11 - cmdstanpy - INFO - Chain [1] start processing\n",
      "19:21:12 - cmdstanpy - INFO - Chain [1] done processing\n",
      "19:21:12 - cmdstanpy - INFO - Chain [1] done processing\n"
     ]
    },
    {
     "name": "stdout",
     "output_type": "stream",
     "text": [
      "[I 2025-08-22 19:21:19,009] Trial 15 finished with value: 264.407647076643 and parameters: {'changepoint_prior_scale': 0.010637931563667926, 'seasonality_prior_scale': 0.013553404834477268, 'holidays_prior_scale': 8.087031894083546}. Best is trial 7 with value: 263.39803382862567.\n"
     ]
    },
    {
     "name": "stderr",
     "output_type": "stream",
     "text": [
      "19:21:19 - cmdstanpy - INFO - Chain [1] start processing\n",
      "19:21:19 - cmdstanpy - INFO - Chain [1] done processing\n",
      "19:21:19 - cmdstanpy - ERROR - Chain [1] error: error during processing Operation not permitted\n",
      "Optimization terminated abnormally. Falling back to Newton.\n",
      "19:21:19 - cmdstanpy - INFO - Chain [1] done processing\n",
      "19:21:19 - cmdstanpy - ERROR - Chain [1] error: error during processing Operation not permitted\n",
      "Optimization terminated abnormally. Falling back to Newton.\n",
      "19:21:19 - cmdstanpy - INFO - Chain [1] start processing\n",
      "19:21:19 - cmdstanpy - INFO - Chain [1] start processing\n",
      "19:21:21 - cmdstanpy - INFO - Chain [1] done processing\n",
      "19:21:21 - cmdstanpy - INFO - Chain [1] done processing\n"
     ]
    },
    {
     "name": "stdout",
     "output_type": "stream",
     "text": [
      "[I 2025-08-22 19:21:41,718] Trial 16 finished with value: 277.36680413519053 and parameters: {'changepoint_prior_scale': 0.0005720126743779504, 'seasonality_prior_scale': 0.019825056990527553, 'holidays_prior_scale': 8.052640292323591}. Best is trial 7 with value: 263.39803382862567.\n"
     ]
    },
    {
     "name": "stderr",
     "output_type": "stream",
     "text": [
      "19:21:42 - cmdstanpy - INFO - Chain [1] start processing\n",
      "19:21:42 - cmdstanpy - INFO - Chain [1] done processing\n",
      "19:21:42 - cmdstanpy - INFO - Chain [1] done processing\n"
     ]
    },
    {
     "name": "stdout",
     "output_type": "stream",
     "text": [
      "[I 2025-08-22 19:21:49,137] Trial 17 finished with value: 266.1471192741787 and parameters: {'changepoint_prior_scale': 0.09974065993920425, 'seasonality_prior_scale': 0.011144137459088696, 'holidays_prior_scale': 6.709122421723285}. Best is trial 7 with value: 263.39803382862567.\n"
     ]
    },
    {
     "name": "stderr",
     "output_type": "stream",
     "text": [
      "19:21:49 - cmdstanpy - INFO - Chain [1] start processing\n",
      "19:21:49 - cmdstanpy - INFO - Chain [1] done processing\n",
      "19:21:49 - cmdstanpy - INFO - Chain [1] done processing\n"
     ]
    },
    {
     "name": "stdout",
     "output_type": "stream",
     "text": [
      "[I 2025-08-22 19:21:55,812] Trial 18 finished with value: 268.4616974891479 and parameters: {'changepoint_prior_scale': 0.0070859148514313686, 'seasonality_prior_scale': 0.04786170015096286, 'holidays_prior_scale': 10.145124838896614}. Best is trial 7 with value: 263.39803382862567.\n"
     ]
    },
    {
     "name": "stderr",
     "output_type": "stream",
     "text": [
      "19:21:56 - cmdstanpy - INFO - Chain [1] start processing\n",
      "19:21:56 - cmdstanpy - INFO - Chain [1] done processing\n",
      "19:21:56 - cmdstanpy - INFO - Chain [1] done processing\n"
     ]
    },
    {
     "name": "stdout",
     "output_type": "stream",
     "text": [
      "[I 2025-08-22 19:22:05,284] Trial 19 finished with value: 265.82192512233473 and parameters: {'changepoint_prior_scale': 0.07204877112442122, 'seasonality_prior_scale': 2.3366240537501626, 'holidays_prior_scale': 4.331258808438959}. Best is trial 7 with value: 263.39803382862567.\n"
     ]
    },
    {
     "name": "stderr",
     "output_type": "stream",
     "text": [
      "19:22:05 - cmdstanpy - INFO - Chain [1] start processing\n",
      "19:22:06 - cmdstanpy - INFO - Chain [1] done processing\n",
      "19:22:06 - cmdstanpy - INFO - Chain [1] done processing\n"
     ]
    },
    {
     "name": "stdout",
     "output_type": "stream",
     "text": [
      "[I 2025-08-22 19:22:13,306] Trial 20 finished with value: 265.7363640927414 and parameters: {'changepoint_prior_scale': 0.00762692520219071, 'seasonality_prior_scale': 5.997192354090914, 'holidays_prior_scale': 29.560758494305208}. Best is trial 7 with value: 263.39803382862567.\n"
     ]
    },
    {
     "name": "stderr",
     "output_type": "stream",
     "text": [
      "19:22:13 - cmdstanpy - INFO - Chain [1] start processing\n",
      "19:22:13 - cmdstanpy - INFO - Chain [1] done processing\n",
      "19:22:13 - cmdstanpy - INFO - Chain [1] done processing\n"
     ]
    },
    {
     "name": "stdout",
     "output_type": "stream",
     "text": [
      "[I 2025-08-22 19:22:19,859] Trial 21 finished with value: 266.69096555738923 and parameters: {'changepoint_prior_scale': 0.011407129269227895, 'seasonality_prior_scale': 4.788871033961373, 'holidays_prior_scale': 0.3120852231046404}. Best is trial 7 with value: 263.39803382862567.\n"
     ]
    },
    {
     "name": "stderr",
     "output_type": "stream",
     "text": [
      "19:22:20 - cmdstanpy - INFO - Chain [1] start processing\n",
      "19:22:20 - cmdstanpy - INFO - Chain [1] done processing\n",
      "19:22:20 - cmdstanpy - INFO - Chain [1] done processing\n"
     ]
    },
    {
     "name": "stdout",
     "output_type": "stream",
     "text": [
      "[I 2025-08-22 19:22:26,554] Trial 22 finished with value: 272.3328791140276 and parameters: {'changepoint_prior_scale': 0.472272280473315, 'seasonality_prior_scale': 13.169006822436442, 'holidays_prior_scale': 0.05613874255886224}. Best is trial 7 with value: 263.39803382862567.\n"
     ]
    },
    {
     "name": "stderr",
     "output_type": "stream",
     "text": [
      "19:22:27 - cmdstanpy - INFO - Chain [1] start processing\n",
      "19:22:27 - cmdstanpy - INFO - Chain [1] done processing\n",
      "19:22:27 - cmdstanpy - INFO - Chain [1] done processing\n"
     ]
    },
    {
     "name": "stdout",
     "output_type": "stream",
     "text": [
      "[I 2025-08-22 19:22:33,070] Trial 23 finished with value: 266.25934385839656 and parameters: {'changepoint_prior_scale': 0.015244968168816559, 'seasonality_prior_scale': 12.0379068198948, 'holidays_prior_scale': 0.4011666778901362}. Best is trial 7 with value: 263.39803382862567.\n"
     ]
    },
    {
     "name": "stderr",
     "output_type": "stream",
     "text": [
      "19:22:33 - cmdstanpy - INFO - Chain [1] start processing\n",
      "19:22:33 - cmdstanpy - INFO - Chain [1] done processing\n",
      "19:22:33 - cmdstanpy - INFO - Chain [1] done processing\n"
     ]
    },
    {
     "name": "stdout",
     "output_type": "stream",
     "text": [
      "[I 2025-08-22 19:22:40,325] Trial 24 finished with value: 265.85403954746533 and parameters: {'changepoint_prior_scale': 0.006950405181909445, 'seasonality_prior_scale': 3.163207123076669, 'holidays_prior_scale': 1.6258355009249228}. Best is trial 7 with value: 263.39803382862567.\n"
     ]
    },
    {
     "name": "stderr",
     "output_type": "stream",
     "text": [
      "19:22:41 - cmdstanpy - INFO - Chain [1] start processing\n",
      "19:22:41 - cmdstanpy - INFO - Chain [1] done processing\n",
      "19:22:41 - cmdstanpy - INFO - Chain [1] done processing\n"
     ]
    },
    {
     "name": "stdout",
     "output_type": "stream",
     "text": [
      "[I 2025-08-22 19:22:47,975] Trial 25 finished with value: 266.1798341380914 and parameters: {'changepoint_prior_scale': 0.048567403086930215, 'seasonality_prior_scale': 0.7680703761392806, 'holidays_prior_scale': 11.77427923229917}. Best is trial 7 with value: 263.39803382862567.\n"
     ]
    },
    {
     "name": "stderr",
     "output_type": "stream",
     "text": [
      "19:22:48 - cmdstanpy - INFO - Chain [1] start processing\n",
      "19:22:48 - cmdstanpy - INFO - Chain [1] done processing\n",
      "19:22:48 - cmdstanpy - ERROR - Chain [1] error: error during processing Operation not permitted\n",
      "Optimization terminated abnormally. Falling back to Newton.\n",
      "19:22:48 - cmdstanpy - INFO - Chain [1] done processing\n",
      "19:22:48 - cmdstanpy - ERROR - Chain [1] error: error during processing Operation not permitted\n",
      "Optimization terminated abnormally. Falling back to Newton.\n",
      "19:22:48 - cmdstanpy - INFO - Chain [1] start processing\n",
      "19:22:48 - cmdstanpy - INFO - Chain [1] start processing\n",
      "19:22:51 - cmdstanpy - INFO - Chain [1] done processing\n",
      "19:22:51 - cmdstanpy - INFO - Chain [1] done processing\n"
     ]
    },
    {
     "name": "stdout",
     "output_type": "stream",
     "text": [
      "[I 2025-08-22 19:23:10,480] Trial 26 finished with value: 278.84644165227553 and parameters: {'changepoint_prior_scale': 0.0004882568195123008, 'seasonality_prior_scale': 11.17559241593686, 'holidays_prior_scale': 3.5686300537550126}. Best is trial 7 with value: 263.39803382862567.\n"
     ]
    },
    {
     "name": "stderr",
     "output_type": "stream",
     "text": [
      "19:23:11 - cmdstanpy - INFO - Chain [1] start processing\n",
      "19:23:11 - cmdstanpy - INFO - Chain [1] done processing\n",
      "19:23:11 - cmdstanpy - INFO - Chain [1] done processing\n"
     ]
    },
    {
     "name": "stdout",
     "output_type": "stream",
     "text": [
      "[I 2025-08-22 19:23:17,115] Trial 27 finished with value: 269.7667026035646 and parameters: {'changepoint_prior_scale': 0.005073407576274589, 'seasonality_prior_scale': 0.025880605803485675, 'holidays_prior_scale': 0.039475229506148804}. Best is trial 7 with value: 263.39803382862567.\n"
     ]
    },
    {
     "name": "stderr",
     "output_type": "stream",
     "text": [
      "19:23:17 - cmdstanpy - INFO - Chain [1] start processing\n",
      "19:23:17 - cmdstanpy - INFO - Chain [1] done processing\n",
      "19:23:17 - cmdstanpy - INFO - Chain [1] done processing\n"
     ]
    },
    {
     "name": "stdout",
     "output_type": "stream",
     "text": [
      "[I 2025-08-22 19:23:23,929] Trial 28 finished with value: 267.78979331315924 and parameters: {'changepoint_prior_scale': 0.01163086832995615, 'seasonality_prior_scale': 4.027044530874613, 'holidays_prior_scale': 0.7816711688446316}. Best is trial 7 with value: 263.39803382862567.\n"
     ]
    },
    {
     "name": "stderr",
     "output_type": "stream",
     "text": [
      "19:23:24 - cmdstanpy - INFO - Chain [1] start processing\n",
      "19:23:24 - cmdstanpy - INFO - Chain [1] done processing\n",
      "19:23:24 - cmdstanpy - INFO - Chain [1] done processing\n"
     ]
    },
    {
     "name": "stdout",
     "output_type": "stream",
     "text": [
      "[I 2025-08-22 19:23:30,452] Trial 29 finished with value: 272.33017230273697 and parameters: {'changepoint_prior_scale': 0.0021702075339016737, 'seasonality_prior_scale': 0.14292414286501298, 'holidays_prior_scale': 2.6695550306570337}. Best is trial 7 with value: 263.39803382862567.\n"
     ]
    },
    {
     "name": "stderr",
     "output_type": "stream",
     "text": [
      "19:23:31 - cmdstanpy - INFO - Chain [1] start processing\n",
      "19:23:31 - cmdstanpy - INFO - Chain [1] done processing\n",
      "19:23:31 - cmdstanpy - INFO - Chain [1] done processing\n"
     ]
    },
    {
     "name": "stdout",
     "output_type": "stream",
     "text": [
      "[I 2025-08-22 19:23:36,995] Trial 30 finished with value: 265.143326931107 and parameters: {'changepoint_prior_scale': 0.02685680806807264, 'seasonality_prior_scale': 8.70700739030272, 'holidays_prior_scale': 5.305100706870959}. Best is trial 7 with value: 263.39803382862567.\n"
     ]
    },
    {
     "name": "stderr",
     "output_type": "stream",
     "text": [
      "19:23:37 - cmdstanpy - INFO - Chain [1] start processing\n",
      "19:23:37 - cmdstanpy - INFO - Chain [1] done processing\n",
      "19:23:37 - cmdstanpy - INFO - Chain [1] done processing\n"
     ]
    },
    {
     "name": "stdout",
     "output_type": "stream",
     "text": [
      "[I 2025-08-22 19:23:43,556] Trial 31 finished with value: 266.671500747059 and parameters: {'changepoint_prior_scale': 0.022817005073140776, 'seasonality_prior_scale': 9.04378489873209, 'holidays_prior_scale': 5.81616195937661}. Best is trial 7 with value: 263.39803382862567.\n"
     ]
    },
    {
     "name": "stderr",
     "output_type": "stream",
     "text": [
      "19:23:44 - cmdstanpy - INFO - Chain [1] start processing\n",
      "19:23:44 - cmdstanpy - INFO - Chain [1] done processing\n",
      "19:23:44 - cmdstanpy - INFO - Chain [1] done processing\n"
     ]
    },
    {
     "name": "stdout",
     "output_type": "stream",
     "text": [
      "[I 2025-08-22 19:23:51,015] Trial 32 finished with value: 266.73217462859037 and parameters: {'changepoint_prior_scale': 0.039675397006563494, 'seasonality_prior_scale': 30.895753212943447, 'holidays_prior_scale': 15.593875270897621}. Best is trial 7 with value: 263.39803382862567.\n"
     ]
    },
    {
     "name": "stderr",
     "output_type": "stream",
     "text": [
      "19:23:51 - cmdstanpy - INFO - Chain [1] start processing\n",
      "19:23:51 - cmdstanpy - INFO - Chain [1] done processing\n",
      "19:23:51 - cmdstanpy - INFO - Chain [1] done processing\n"
     ]
    },
    {
     "name": "stdout",
     "output_type": "stream",
     "text": [
      "[I 2025-08-22 19:23:58,136] Trial 33 finished with value: 266.61872186789753 and parameters: {'changepoint_prior_scale': 0.0099888839356556, 'seasonality_prior_scale': 15.171221025171178, 'holidays_prior_scale': 1.63769586590536}. Best is trial 7 with value: 263.39803382862567.\n"
     ]
    },
    {
     "name": "stderr",
     "output_type": "stream",
     "text": [
      "19:23:58 - cmdstanpy - INFO - Chain [1] start processing\n",
      "19:23:58 - cmdstanpy - INFO - Chain [1] done processing\n",
      "19:23:58 - cmdstanpy - INFO - Chain [1] done processing\n"
     ]
    },
    {
     "name": "stdout",
     "output_type": "stream",
     "text": [
      "[I 2025-08-22 19:24:05,891] Trial 34 finished with value: 267.3886945202275 and parameters: {'changepoint_prior_scale': 0.00335999485023562, 'seasonality_prior_scale': 1.193918018356016, 'holidays_prior_scale': 4.204125468363533}. Best is trial 7 with value: 263.39803382862567.\n"
     ]
    },
    {
     "name": "stderr",
     "output_type": "stream",
     "text": [
      "19:24:06 - cmdstanpy - INFO - Chain [1] start processing\n",
      "19:24:06 - cmdstanpy - INFO - Chain [1] done processing\n",
      "19:24:06 - cmdstanpy - INFO - Chain [1] done processing\n"
     ]
    },
    {
     "name": "stdout",
     "output_type": "stream",
     "text": [
      "[I 2025-08-22 19:24:13,156] Trial 35 finished with value: 264.994394442961 and parameters: {'changepoint_prior_scale': 0.07175212002285576, 'seasonality_prior_scale': 2.002702379250272, 'holidays_prior_scale': 2.3911656570056765}. Best is trial 7 with value: 263.39803382862567.\n"
     ]
    },
    {
     "name": "stderr",
     "output_type": "stream",
     "text": [
      "19:24:13 - cmdstanpy - INFO - Chain [1] start processing\n",
      "19:24:13 - cmdstanpy - INFO - Chain [1] done processing\n",
      "19:24:13 - cmdstanpy - INFO - Chain [1] done processing\n"
     ]
    },
    {
     "name": "stdout",
     "output_type": "stream",
     "text": [
      "[I 2025-08-22 19:24:19,996] Trial 36 finished with value: 268.04106543589654 and parameters: {'changepoint_prior_scale': 0.1307860117250166, 'seasonality_prior_scale': 0.2875018880766439, 'holidays_prior_scale': 1.986478321800042}. Best is trial 7 with value: 263.39803382862567.\n"
     ]
    },
    {
     "name": "stderr",
     "output_type": "stream",
     "text": [
      "19:24:20 - cmdstanpy - INFO - Chain [1] start processing\n",
      "19:24:20 - cmdstanpy - INFO - Chain [1] done processing\n",
      "19:24:20 - cmdstanpy - INFO - Chain [1] done processing\n"
     ]
    },
    {
     "name": "stdout",
     "output_type": "stream",
     "text": [
      "[I 2025-08-22 19:24:27,330] Trial 37 finished with value: 265.5027654764211 and parameters: {'changepoint_prior_scale': 0.0749227789147277, 'seasonality_prior_scale': 2.245415554249661, 'holidays_prior_scale': 1.0738424094870025}. Best is trial 7 with value: 263.39803382862567.\n"
     ]
    },
    {
     "name": "stderr",
     "output_type": "stream",
     "text": [
      "19:24:27 - cmdstanpy - INFO - Chain [1] start processing\n",
      "19:24:28 - cmdstanpy - INFO - Chain [1] done processing\n",
      "19:24:28 - cmdstanpy - INFO - Chain [1] done processing\n"
     ]
    },
    {
     "name": "stdout",
     "output_type": "stream",
     "text": [
      "[I 2025-08-22 19:24:34,915] Trial 38 finished with value: 272.4207788199273 and parameters: {'changepoint_prior_scale': 0.2812365387007722, 'seasonality_prior_scale': 0.761609777287489, 'holidays_prior_scale': 2.610183403452045}. Best is trial 7 with value: 263.39803382862567.\n"
     ]
    },
    {
     "name": "stderr",
     "output_type": "stream",
     "text": [
      "19:24:35 - cmdstanpy - INFO - Chain [1] start processing\n",
      "19:24:35 - cmdstanpy - INFO - Chain [1] done processing\n",
      "19:24:35 - cmdstanpy - INFO - Chain [1] done processing\n"
     ]
    },
    {
     "name": "stdout",
     "output_type": "stream",
     "text": [
      "[I 2025-08-22 19:24:42,184] Trial 39 finished with value: 267.13139671123815 and parameters: {'changepoint_prior_scale': 0.0048000562310103224, 'seasonality_prior_scale': 17.62217208470536, 'holidays_prior_scale': 5.888034552164988}. Best is trial 7 with value: 263.39803382862567.\n",
      "SEC-003 best params: {'changepoint_prior_scale': 0.007545547603503977, 'seasonality_prior_scale': 29.612578095588287, 'holidays_prior_scale': 2.8855160373375672}\n"
     ]
    },
    {
     "name": "stderr",
     "output_type": "stream",
     "text": [
      "19:24:42 - cmdstanpy - INFO - Chain [1] start processing\n",
      "19:24:42 - cmdstanpy - INFO - Chain [1] done processing\n",
      "19:24:42 - cmdstanpy - INFO - Chain [1] done processing\n",
      "[I 2025-08-22 19:24:42,974] A new study created in memory with name: no-name-0899ee5e-3755-4cc9-b7b8-b42fe87e7ff2\n",
      "[I 2025-08-22 19:24:42,974] A new study created in memory with name: no-name-0899ee5e-3755-4cc9-b7b8-b42fe87e7ff2\n"
     ]
    },
    {
     "name": "stdout",
     "output_type": "stream",
     "text": [
      "[Main Loop] Now tuning section: SEC-004\n",
      "[Optuna] Tuning section: SEC-004\n"
     ]
    },
    {
     "data": {
      "application/vnd.jupyter.widget-view+json": {
       "model_id": "dcedfde8855649e281fd53abcacffa70",
       "version_major": 2,
       "version_minor": 0
      },
      "text/plain": [
       "  0%|          | 0/40 [00:00<?, ?it/s]"
      ]
     },
     "metadata": {},
     "output_type": "display_data"
    },
    {
     "name": "stderr",
     "output_type": "stream",
     "text": [
      "19:24:43 - cmdstanpy - INFO - Chain [1] start processing\n",
      "19:24:43 - cmdstanpy - INFO - Chain [1] done processing\n",
      "19:24:43 - cmdstanpy - INFO - Chain [1] done processing\n"
     ]
    },
    {
     "name": "stdout",
     "output_type": "stream",
     "text": [
      "[I 2025-08-22 19:24:50,033] Trial 0 finished with value: 336.59021609799925 and parameters: {'changepoint_prior_scale': 0.28117486606245645, 'seasonality_prior_scale': 0.32141203365363213, 'holidays_prior_scale': 2.1026071276393963}. Best is trial 0 with value: 336.59021609799925.\n"
     ]
    },
    {
     "name": "stderr",
     "output_type": "stream",
     "text": [
      "19:24:50 - cmdstanpy - INFO - Chain [1] start processing\n",
      "19:24:50 - cmdstanpy - INFO - Chain [1] done processing\n",
      "19:24:50 - cmdstanpy - INFO - Chain [1] done processing\n"
     ]
    },
    {
     "name": "stdout",
     "output_type": "stream",
     "text": [
      "[I 2025-08-22 19:24:57,248] Trial 1 finished with value: 335.2911254158023 and parameters: {'changepoint_prior_scale': 0.008610348577282961, 'seasonality_prior_scale': 4.85899728165241, 'holidays_prior_scale': 13.169416631297457}. Best is trial 1 with value: 335.2911254158023.\n"
     ]
    },
    {
     "name": "stderr",
     "output_type": "stream",
     "text": [
      "19:24:57 - cmdstanpy - INFO - Chain [1] start processing\n",
      "19:24:57 - cmdstanpy - INFO - Chain [1] done processing\n",
      "19:24:57 - cmdstanpy - INFO - Chain [1] done processing\n"
     ]
    },
    {
     "name": "stdout",
     "output_type": "stream",
     "text": [
      "[I 2025-08-22 19:25:04,723] Trial 2 finished with value: 368.3275850753041 and parameters: {'changepoint_prior_scale': 0.0011911841690591847, 'seasonality_prior_scale': 2.3223438265064327, 'holidays_prior_scale': 0.18871398358545596}. Best is trial 1 with value: 335.2911254158023.\n"
     ]
    },
    {
     "name": "stderr",
     "output_type": "stream",
     "text": [
      "19:25:05 - cmdstanpy - INFO - Chain [1] start processing\n",
      "19:25:05 - cmdstanpy - INFO - Chain [1] done processing\n",
      "19:25:05 - cmdstanpy - INFO - Chain [1] done processing\n"
     ]
    },
    {
     "name": "stdout",
     "output_type": "stream",
     "text": [
      "[I 2025-08-22 19:25:23,418] Trial 3 finished with value: 556.1331037917549 and parameters: {'changepoint_prior_scale': 0.0004752871345031407, 'seasonality_prior_scale': 4.23748566264783, 'holidays_prior_scale': 1.6946143025591007}. Best is trial 1 with value: 335.2911254158023.\n"
     ]
    },
    {
     "name": "stderr",
     "output_type": "stream",
     "text": [
      "19:25:24 - cmdstanpy - INFO - Chain [1] start processing\n",
      "19:25:24 - cmdstanpy - INFO - Chain [1] done processing\n",
      "19:25:24 - cmdstanpy - INFO - Chain [1] done processing\n"
     ]
    },
    {
     "name": "stdout",
     "output_type": "stream",
     "text": [
      "[I 2025-08-22 19:25:31,464] Trial 4 finished with value: 336.777883724065 and parameters: {'changepoint_prior_scale': 0.029788353931608856, 'seasonality_prior_scale': 0.06728119889838396, 'holidays_prior_scale': 3.504749046762664}. Best is trial 1 with value: 335.2911254158023.\n"
     ]
    },
    {
     "name": "stderr",
     "output_type": "stream",
     "text": [
      "19:25:32 - cmdstanpy - INFO - Chain [1] start processing\n",
      "19:25:32 - cmdstanpy - INFO - Chain [1] done processing\n",
      "19:25:32 - cmdstanpy - INFO - Chain [1] done processing\n"
     ]
    },
    {
     "name": "stdout",
     "output_type": "stream",
     "text": [
      "[I 2025-08-22 19:25:39,515] Trial 5 finished with value: 336.10079051329495 and parameters: {'changepoint_prior_scale': 0.07544899346436511, 'seasonality_prior_scale': 0.07645474314283211, 'holidays_prior_scale': 1.014903867743927}. Best is trial 1 with value: 335.2911254158023.\n"
     ]
    },
    {
     "name": "stderr",
     "output_type": "stream",
     "text": [
      "19:25:40 - cmdstanpy - INFO - Chain [1] start processing\n",
      "19:25:40 - cmdstanpy - INFO - Chain [1] done processing\n",
      "19:25:40 - cmdstanpy - INFO - Chain [1] done processing\n"
     ]
    },
    {
     "name": "stdout",
     "output_type": "stream",
     "text": [
      "[I 2025-08-22 19:25:47,488] Trial 6 finished with value: 337.82413565396513 and parameters: {'changepoint_prior_scale': 0.3905409504306348, 'seasonality_prior_scale': 0.4885435615325642, 'holidays_prior_scale': 0.0693373808960515}. Best is trial 1 with value: 335.2911254158023.\n"
     ]
    },
    {
     "name": "stderr",
     "output_type": "stream",
     "text": [
      "19:25:48 - cmdstanpy - INFO - Chain [1] start processing\n",
      "19:25:48 - cmdstanpy - INFO - Chain [1] done processing\n",
      "19:25:48 - cmdstanpy - INFO - Chain [1] done processing\n"
     ]
    },
    {
     "name": "stdout",
     "output_type": "stream",
     "text": [
      "[I 2025-08-22 19:25:54,502] Trial 7 finished with value: 336.50801645246145 and parameters: {'changepoint_prior_scale': 0.16992732792205467, 'seasonality_prior_scale': 0.38029768222350163, 'holidays_prior_scale': 0.10252773539740344}. Best is trial 1 with value: 335.2911254158023.\n"
     ]
    },
    {
     "name": "stderr",
     "output_type": "stream",
     "text": [
      "19:25:55 - cmdstanpy - INFO - Chain [1] start processing\n",
      "19:25:55 - cmdstanpy - INFO - Chain [1] done processing\n",
      "19:25:55 - cmdstanpy - ERROR - Chain [1] error: error during processing Operation not permitted\n",
      "Optimization terminated abnormally. Falling back to Newton.\n",
      "19:25:55 - cmdstanpy - INFO - Chain [1] start processing\n",
      "19:25:55 - cmdstanpy - INFO - Chain [1] done processing\n",
      "19:25:55 - cmdstanpy - ERROR - Chain [1] error: error during processing Operation not permitted\n",
      "Optimization terminated abnormally. Falling back to Newton.\n",
      "19:25:55 - cmdstanpy - INFO - Chain [1] start processing\n",
      "19:25:58 - cmdstanpy - INFO - Chain [1] done processing\n",
      "19:25:58 - cmdstanpy - INFO - Chain [1] done processing\n"
     ]
    },
    {
     "name": "stdout",
     "output_type": "stream",
     "text": [
      "[I 2025-08-22 19:26:21,462] Trial 8 finished with value: 614.737048845016 and parameters: {'changepoint_prior_scale': 0.00023297210905278296, 'seasonality_prior_scale': 0.01196733778195577, 'holidays_prior_scale': 0.014278850718071173}. Best is trial 1 with value: 335.2911254158023.\n"
     ]
    },
    {
     "name": "stderr",
     "output_type": "stream",
     "text": [
      "19:26:22 - cmdstanpy - INFO - Chain [1] start processing\n",
      "19:26:22 - cmdstanpy - INFO - Chain [1] done processing\n",
      "19:26:22 - cmdstanpy - INFO - Chain [1] done processing\n"
     ]
    },
    {
     "name": "stdout",
     "output_type": "stream",
     "text": [
      "[I 2025-08-22 19:26:28,910] Trial 9 finished with value: 331.1337344951311 and parameters: {'changepoint_prior_scale': 0.004384184607774426, 'seasonality_prior_scale': 0.08568365351703626, 'holidays_prior_scale': 7.002940074741657}. Best is trial 9 with value: 331.1337344951311.\n"
     ]
    },
    {
     "name": "stderr",
     "output_type": "stream",
     "text": [
      "19:26:29 - cmdstanpy - INFO - Chain [1] start processing\n",
      "19:26:29 - cmdstanpy - INFO - Chain [1] done processing\n",
      "19:26:29 - cmdstanpy - INFO - Chain [1] done processing\n"
     ]
    },
    {
     "name": "stdout",
     "output_type": "stream",
     "text": [
      "[I 2025-08-22 19:26:35,563] Trial 10 finished with value: 338.4192621215178 and parameters: {'changepoint_prior_scale': 0.00254700670328568, 'seasonality_prior_scale': 26.001309467493105, 'holidays_prior_scale': 29.69980201830735}. Best is trial 9 with value: 331.1337344951311.\n"
     ]
    },
    {
     "name": "stderr",
     "output_type": "stream",
     "text": [
      "19:26:36 - cmdstanpy - INFO - Chain [1] start processing\n",
      "19:26:36 - cmdstanpy - INFO - Chain [1] done processing\n",
      "19:26:36 - cmdstanpy - INFO - Chain [1] done processing\n"
     ]
    },
    {
     "name": "stdout",
     "output_type": "stream",
     "text": [
      "[I 2025-08-22 19:26:42,975] Trial 11 finished with value: 336.5085112809041 and parameters: {'changepoint_prior_scale': 0.010016462577912923, 'seasonality_prior_scale': 5.443252528498716, 'holidays_prior_scale': 18.360123141318404}. Best is trial 9 with value: 331.1337344951311.\n"
     ]
    },
    {
     "name": "stderr",
     "output_type": "stream",
     "text": [
      "19:26:43 - cmdstanpy - INFO - Chain [1] start processing\n",
      "19:26:43 - cmdstanpy - INFO - Chain [1] done processing\n",
      "19:26:43 - cmdstanpy - INFO - Chain [1] done processing\n"
     ]
    },
    {
     "name": "stdout",
     "output_type": "stream",
     "text": [
      "[I 2025-08-22 19:26:49,810] Trial 12 finished with value: 333.5502151260314 and parameters: {'changepoint_prior_scale': 0.0067925431095205244, 'seasonality_prior_scale': 0.07729694228073974, 'holidays_prior_scale': 7.909067657427247}. Best is trial 9 with value: 331.1337344951311.\n"
     ]
    },
    {
     "name": "stderr",
     "output_type": "stream",
     "text": [
      "19:26:50 - cmdstanpy - INFO - Chain [1] start processing\n",
      "19:26:50 - cmdstanpy - INFO - Chain [1] done processing\n",
      "19:26:50 - cmdstanpy - INFO - Chain [1] done processing\n"
     ]
    },
    {
     "name": "stdout",
     "output_type": "stream",
     "text": [
      "[I 2025-08-22 19:26:56,891] Trial 13 finished with value: 336.7146510807655 and parameters: {'changepoint_prior_scale': 0.002751208815481784, 'seasonality_prior_scale': 0.055534975349982925, 'holidays_prior_scale': 5.783787133433655}. Best is trial 9 with value: 331.1337344951311.\n"
     ]
    },
    {
     "name": "stderr",
     "output_type": "stream",
     "text": [
      "19:26:57 - cmdstanpy - INFO - Chain [1] start processing\n",
      "19:26:57 - cmdstanpy - INFO - Chain [1] done processing\n",
      "19:26:57 - cmdstanpy - INFO - Chain [1] done processing\n"
     ]
    },
    {
     "name": "stdout",
     "output_type": "stream",
     "text": [
      "[I 2025-08-22 19:27:04,765] Trial 14 finished with value: 336.6406492604158 and parameters: {'changepoint_prior_scale': 0.019440405403550853, 'seasonality_prior_scale': 0.02226869033430808, 'holidays_prior_scale': 0.3781987678169016}. Best is trial 9 with value: 331.1337344951311.\n"
     ]
    },
    {
     "name": "stderr",
     "output_type": "stream",
     "text": [
      "19:27:05 - cmdstanpy - INFO - Chain [1] start processing\n",
      "19:27:05 - cmdstanpy - INFO - Chain [1] done processing\n",
      "19:27:05 - cmdstanpy - INFO - Chain [1] done processing\n"
     ]
    },
    {
     "name": "stdout",
     "output_type": "stream",
     "text": [
      "[I 2025-08-22 19:27:12,546] Trial 15 finished with value: 340.8843480697386 and parameters: {'changepoint_prior_scale': 0.002760173982650141, 'seasonality_prior_scale': 0.14167245350845, 'holidays_prior_scale': 7.346395770702229}. Best is trial 9 with value: 331.1337344951311.\n"
     ]
    },
    {
     "name": "stderr",
     "output_type": "stream",
     "text": [
      "19:27:13 - cmdstanpy - INFO - Chain [1] start processing\n",
      "19:27:13 - cmdstanpy - INFO - Chain [1] done processing\n",
      "19:27:13 - cmdstanpy - INFO - Chain [1] done processing\n"
     ]
    },
    {
     "name": "stdout",
     "output_type": "stream",
     "text": [
      "[I 2025-08-22 19:27:19,221] Trial 16 finished with value: 337.31421888832364 and parameters: {'changepoint_prior_scale': 0.042144398453574684, 'seasonality_prior_scale': 0.04315790119248115, 'holidays_prior_scale': 0.6724044658977911}. Best is trial 9 with value: 331.1337344951311.\n"
     ]
    },
    {
     "name": "stderr",
     "output_type": "stream",
     "text": [
      "19:27:19 - cmdstanpy - INFO - Chain [1] start processing\n",
      "19:27:20 - cmdstanpy - INFO - Chain [1] done processing\n",
      "19:27:20 - cmdstanpy - INFO - Chain [1] done processing\n"
     ]
    },
    {
     "name": "stdout",
     "output_type": "stream",
     "text": [
      "[I 2025-08-22 19:27:26,366] Trial 17 finished with value: 365.40659842444495 and parameters: {'changepoint_prior_scale': 0.000995738762748296, 'seasonality_prior_scale': 0.16758793689710785, 'holidays_prior_scale': 6.873361449939639}. Best is trial 9 with value: 331.1337344951311.\n"
     ]
    },
    {
     "name": "stderr",
     "output_type": "stream",
     "text": [
      "19:27:26 - cmdstanpy - INFO - Chain [1] start processing\n",
      "19:27:27 - cmdstanpy - INFO - Chain [1] done processing\n",
      "19:27:27 - cmdstanpy - INFO - Chain [1] done processing\n"
     ]
    },
    {
     "name": "stdout",
     "output_type": "stream",
     "text": [
      "[I 2025-08-22 19:27:33,417] Trial 18 finished with value: 334.78102455932446 and parameters: {'changepoint_prior_scale': 0.006125685785626961, 'seasonality_prior_scale': 1.509404813058741, 'holidays_prior_scale': 3.1562748317156895}. Best is trial 9 with value: 331.1337344951311.\n"
     ]
    },
    {
     "name": "stderr",
     "output_type": "stream",
     "text": [
      "19:27:33 - cmdstanpy - INFO - Chain [1] start processing\n",
      "19:27:34 - cmdstanpy - INFO - Chain [1] done processing\n",
      "19:27:34 - cmdstanpy - ERROR - Chain [1] error: error during processing Operation not permitted\n",
      "Optimization terminated abnormally. Falling back to Newton.\n",
      "19:27:34 - cmdstanpy - INFO - Chain [1] start processing\n",
      "19:27:34 - cmdstanpy - INFO - Chain [1] done processing\n",
      "19:27:34 - cmdstanpy - ERROR - Chain [1] error: error during processing Operation not permitted\n",
      "Optimization terminated abnormally. Falling back to Newton.\n",
      "19:27:34 - cmdstanpy - INFO - Chain [1] start processing\n",
      "19:27:36 - cmdstanpy - INFO - Chain [1] done processing\n",
      "19:27:36 - cmdstanpy - INFO - Chain [1] done processing\n"
     ]
    },
    {
     "name": "stdout",
     "output_type": "stream",
     "text": [
      "[I 2025-08-22 19:28:40,420] Trial 19 finished with value: 614.5025361661558 and parameters: {'changepoint_prior_scale': 0.00014393750088567624, 'seasonality_prior_scale': 0.01086688576805219, 'holidays_prior_scale': 14.336125141084642}. Best is trial 9 with value: 331.1337344951311.\n"
     ]
    },
    {
     "name": "stderr",
     "output_type": "stream",
     "text": [
      "19:28:41 - cmdstanpy - INFO - Chain [1] start processing\n",
      "19:28:41 - cmdstanpy - INFO - Chain [1] done processing\n",
      "19:28:41 - cmdstanpy - INFO - Chain [1] done processing\n"
     ]
    },
    {
     "name": "stdout",
     "output_type": "stream",
     "text": [
      "[I 2025-08-22 19:28:48,395] Trial 20 finished with value: 336.7488728998406 and parameters: {'changepoint_prior_scale': 0.014792446914564687, 'seasonality_prior_scale': 1.0914013928380577, 'holidays_prior_scale': 1.2323315847086953}. Best is trial 9 with value: 331.1337344951311.\n"
     ]
    },
    {
     "name": "stderr",
     "output_type": "stream",
     "text": [
      "19:28:48 - cmdstanpy - INFO - Chain [1] start processing\n",
      "19:28:48 - cmdstanpy - INFO - Chain [1] done processing\n",
      "19:28:48 - cmdstanpy - INFO - Chain [1] done processing\n"
     ]
    },
    {
     "name": "stdout",
     "output_type": "stream",
     "text": [
      "[I 2025-08-22 19:28:55,598] Trial 21 finished with value: 333.3015718655022 and parameters: {'changepoint_prior_scale': 0.004116308207192844, 'seasonality_prior_scale': 1.061283460456702, 'holidays_prior_scale': 3.472809187558004}. Best is trial 9 with value: 331.1337344951311.\n"
     ]
    },
    {
     "name": "stderr",
     "output_type": "stream",
     "text": [
      "19:28:56 - cmdstanpy - INFO - Chain [1] start processing\n",
      "19:28:56 - cmdstanpy - INFO - Chain [1] done processing\n",
      "19:28:56 - cmdstanpy - INFO - Chain [1] done processing\n"
     ]
    },
    {
     "name": "stdout",
     "output_type": "stream",
     "text": [
      "[I 2025-08-22 19:29:03,424] Trial 22 finished with value: 335.06468449356333 and parameters: {'changepoint_prior_scale': 0.004957784848787339, 'seasonality_prior_scale': 0.1700901660321151, 'holidays_prior_scale': 4.126023257157207}. Best is trial 9 with value: 331.1337344951311.\n"
     ]
    },
    {
     "name": "stderr",
     "output_type": "stream",
     "text": [
      "19:29:04 - cmdstanpy - INFO - Chain [1] start processing\n",
      "19:29:04 - cmdstanpy - INFO - Chain [1] done processing\n",
      "19:29:04 - cmdstanpy - INFO - Chain [1] done processing\n"
     ]
    },
    {
     "name": "stdout",
     "output_type": "stream",
     "text": [
      "[I 2025-08-22 19:29:10,849] Trial 23 finished with value: 370.5099320671977 and parameters: {'changepoint_prior_scale': 0.0010657324100832916, 'seasonality_prior_scale': 1.0015994234659131, 'holidays_prior_scale': 10.567714139364993}. Best is trial 9 with value: 331.1337344951311.\n"
     ]
    },
    {
     "name": "stderr",
     "output_type": "stream",
     "text": [
      "19:29:11 - cmdstanpy - INFO - Chain [1] start processing\n",
      "19:29:11 - cmdstanpy - INFO - Chain [1] done processing\n",
      "19:29:11 - cmdstanpy - INFO - Chain [1] done processing\n"
     ]
    },
    {
     "name": "stdout",
     "output_type": "stream",
     "text": [
      "[I 2025-08-22 19:29:18,235] Trial 24 finished with value: 336.3715941435132 and parameters: {'changepoint_prior_scale': 0.0051292699493197405, 'seasonality_prior_scale': 0.22287513532882644, 'holidays_prior_scale': 3.0636826567306525}. Best is trial 9 with value: 331.1337344951311.\n"
     ]
    },
    {
     "name": "stderr",
     "output_type": "stream",
     "text": [
      "19:29:19 - cmdstanpy - INFO - Chain [1] start processing\n",
      "19:29:19 - cmdstanpy - INFO - Chain [1] done processing\n",
      "19:29:19 - cmdstanpy - INFO - Chain [1] done processing\n"
     ]
    },
    {
     "name": "stdout",
     "output_type": "stream",
     "text": [
      "[I 2025-08-22 19:29:26,114] Trial 25 finished with value: 347.6564947899477 and parameters: {'changepoint_prior_scale': 0.001580542912800923, 'seasonality_prior_scale': 0.023414274184567027, 'holidays_prior_scale': 30.730015897614404}. Best is trial 9 with value: 331.1337344951311.\n"
     ]
    },
    {
     "name": "stderr",
     "output_type": "stream",
     "text": [
      "19:29:26 - cmdstanpy - INFO - Chain [1] start processing\n",
      "19:29:27 - cmdstanpy - INFO - Chain [1] done processing\n",
      "19:29:27 - cmdstanpy - INFO - Chain [1] done processing\n"
     ]
    },
    {
     "name": "stdout",
     "output_type": "stream",
     "text": [
      "[I 2025-08-22 19:29:44,724] Trial 26 finished with value: 542.8098253375896 and parameters: {'changepoint_prior_scale': 0.00047126632894939964, 'seasonality_prior_scale': 0.724143801789443, 'holidays_prior_scale': 0.5021406232892262}. Best is trial 9 with value: 331.1337344951311.\n"
     ]
    },
    {
     "name": "stderr",
     "output_type": "stream",
     "text": [
      "19:29:45 - cmdstanpy - INFO - Chain [1] start processing\n",
      "19:29:46 - cmdstanpy - INFO - Chain [1] done processing\n",
      "19:29:46 - cmdstanpy - INFO - Chain [1] done processing\n"
     ]
    },
    {
     "name": "stdout",
     "output_type": "stream",
     "text": [
      "[I 2025-08-22 19:29:53,779] Trial 27 finished with value: 336.2426642264047 and parameters: {'changepoint_prior_scale': 0.07048371844346593, 'seasonality_prior_scale': 0.1120964780335931, 'holidays_prior_scale': 7.669631659667282}. Best is trial 9 with value: 331.1337344951311.\n"
     ]
    },
    {
     "name": "stderr",
     "output_type": "stream",
     "text": [
      "19:29:54 - cmdstanpy - INFO - Chain [1] start processing\n",
      "19:29:54 - cmdstanpy - INFO - Chain [1] done processing\n",
      "19:29:54 - cmdstanpy - INFO - Chain [1] done processing\n"
     ]
    },
    {
     "name": "stdout",
     "output_type": "stream",
     "text": [
      "[I 2025-08-22 19:30:02,264] Trial 28 finished with value: 337.24867108646345 and parameters: {'changepoint_prior_scale': 0.01585525399634641, 'seasonality_prior_scale': 25.22403253515421, 'holidays_prior_scale': 2.27724904815234}. Best is trial 9 with value: 331.1337344951311.\n"
     ]
    },
    {
     "name": "stderr",
     "output_type": "stream",
     "text": [
      "19:30:02 - cmdstanpy - INFO - Chain [1] start processing\n",
      "19:30:03 - cmdstanpy - INFO - Chain [1] done processing\n",
      "19:30:03 - cmdstanpy - INFO - Chain [1] done processing\n"
     ]
    },
    {
     "name": "stdout",
     "output_type": "stream",
     "text": [
      "[I 2025-08-22 19:30:10,737] Trial 29 finished with value: 336.87766771455114 and parameters: {'changepoint_prior_scale': 0.0037900008670960724, 'seasonality_prior_scale': 0.2674371324638715, 'holidays_prior_scale': 1.6315510841318135}. Best is trial 9 with value: 331.1337344951311.\n"
     ]
    },
    {
     "name": "stderr",
     "output_type": "stream",
     "text": [
      "19:30:11 - cmdstanpy - INFO - Chain [1] start processing\n",
      "19:30:11 - cmdstanpy - INFO - Chain [1] done processing\n",
      "19:30:11 - cmdstanpy - INFO - Chain [1] done processing\n"
     ]
    },
    {
     "name": "stdout",
     "output_type": "stream",
     "text": [
      "[I 2025-08-22 19:30:24,139] Trial 30 finished with value: 560.8613499981061 and parameters: {'changepoint_prior_scale': 0.0005990992957753042, 'seasonality_prior_scale': 0.029435808881294854, 'holidays_prior_scale': 19.100147379432066}. Best is trial 9 with value: 331.1337344951311.\n"
     ]
    },
    {
     "name": "stderr",
     "output_type": "stream",
     "text": [
      "19:30:24 - cmdstanpy - INFO - Chain [1] start processing\n",
      "19:30:24 - cmdstanpy - INFO - Chain [1] done processing\n",
      "19:30:24 - cmdstanpy - INFO - Chain [1] done processing\n"
     ]
    },
    {
     "name": "stdout",
     "output_type": "stream",
     "text": [
      "[I 2025-08-22 19:30:33,280] Trial 31 finished with value: 336.6559450401581 and parameters: {'changepoint_prior_scale': 0.008074517368463784, 'seasonality_prior_scale': 1.6447161277132911, 'holidays_prior_scale': 3.130819811279384}. Best is trial 9 with value: 331.1337344951311.\n"
     ]
    },
    {
     "name": "stderr",
     "output_type": "stream",
     "text": [
      "19:30:34 - cmdstanpy - INFO - Chain [1] start processing\n",
      "19:30:34 - cmdstanpy - INFO - Chain [1] done processing\n",
      "19:30:34 - cmdstanpy - INFO - Chain [1] done processing\n"
     ]
    },
    {
     "name": "stdout",
     "output_type": "stream",
     "text": [
      "[I 2025-08-22 19:30:43,109] Trial 32 finished with value: 337.04219040652225 and parameters: {'changepoint_prior_scale': 0.006843062814141815, 'seasonality_prior_scale': 2.8718403466328972, 'holidays_prior_scale': 5.185150774994854}. Best is trial 9 with value: 331.1337344951311.\n"
     ]
    },
    {
     "name": "stderr",
     "output_type": "stream",
     "text": [
      "19:30:43 - cmdstanpy - INFO - Chain [1] start processing\n",
      "19:30:43 - cmdstanpy - INFO - Chain [1] done processing\n",
      "19:30:43 - cmdstanpy - INFO - Chain [1] done processing\n"
     ]
    },
    {
     "name": "stdout",
     "output_type": "stream",
     "text": [
      "[I 2025-08-22 19:30:51,353] Trial 33 finished with value: 342.33591437056157 and parameters: {'changepoint_prior_scale': 0.0016709740971529755, 'seasonality_prior_scale': 10.112254379690219, 'holidays_prior_scale': 10.698193845341633}. Best is trial 9 with value: 331.1337344951311.\n"
     ]
    },
    {
     "name": "stderr",
     "output_type": "stream",
     "text": [
      "19:30:52 - cmdstanpy - INFO - Chain [1] start processing\n",
      "19:30:52 - cmdstanpy - INFO - Chain [1] done processing\n",
      "19:30:52 - cmdstanpy - INFO - Chain [1] done processing\n"
     ]
    },
    {
     "name": "stdout",
     "output_type": "stream",
     "text": [
      "[I 2025-08-22 19:30:59,656] Trial 34 finished with value: 336.2912914285834 and parameters: {'changepoint_prior_scale': 0.0077503707899191174, 'seasonality_prior_scale': 0.5951812443767778, 'holidays_prior_scale': 1.9285960442780838}. Best is trial 9 with value: 331.1337344951311.\n"
     ]
    },
    {
     "name": "stderr",
     "output_type": "stream",
     "text": [
      "19:31:00 - cmdstanpy - INFO - Chain [1] start processing\n",
      "19:31:00 - cmdstanpy - INFO - Chain [1] done processing\n",
      "19:31:00 - cmdstanpy - INFO - Chain [1] done processing\n"
     ]
    },
    {
     "name": "stdout",
     "output_type": "stream",
     "text": [
      "[I 2025-08-22 19:31:07,791] Trial 35 finished with value: 335.84118381551406 and parameters: {'changepoint_prior_scale': 0.029040336551036616, 'seasonality_prior_scale': 1.8680259798913994, 'holidays_prior_scale': 0.9854586373973149}. Best is trial 9 with value: 331.1337344951311.\n"
     ]
    },
    {
     "name": "stderr",
     "output_type": "stream",
     "text": [
      "19:31:08 - cmdstanpy - INFO - Chain [1] start processing\n",
      "19:31:08 - cmdstanpy - INFO - Chain [1] done processing\n",
      "19:31:08 - cmdstanpy - INFO - Chain [1] done processing\n"
     ]
    },
    {
     "name": "stdout",
     "output_type": "stream",
     "text": [
      "[I 2025-08-22 19:31:16,080] Trial 36 finished with value: 336.5712911094408 and parameters: {'changepoint_prior_scale': 0.011850332008051589, 'seasonality_prior_scale': 1.074598356339035, 'holidays_prior_scale': 2.962859087029377}. Best is trial 9 with value: 331.1337344951311.\n"
     ]
    },
    {
     "name": "stderr",
     "output_type": "stream",
     "text": [
      "19:31:16 - cmdstanpy - INFO - Chain [1] start processing\n",
      "19:31:17 - cmdstanpy - INFO - Chain [1] done processing\n",
      "19:31:17 - cmdstanpy - INFO - Chain [1] done processing\n"
     ]
    },
    {
     "name": "stdout",
     "output_type": "stream",
     "text": [
      "[I 2025-08-22 19:31:25,112] Trial 37 finished with value: 334.29769374004167 and parameters: {'changepoint_prior_scale': 0.003968641915881308, 'seasonality_prior_scale': 6.980213875648414, 'holidays_prior_scale': 4.672588581286152}. Best is trial 9 with value: 331.1337344951311.\n"
     ]
    },
    {
     "name": "stderr",
     "output_type": "stream",
     "text": [
      "19:31:25 - cmdstanpy - INFO - Chain [1] start processing\n",
      "19:31:25 - cmdstanpy - INFO - Chain [1] done processing\n",
      "19:31:25 - cmdstanpy - INFO - Chain [1] done processing\n"
     ]
    },
    {
     "name": "stdout",
     "output_type": "stream",
     "text": [
      "[I 2025-08-22 19:31:34,221] Trial 38 finished with value: 332.5506306684386 and parameters: {'changepoint_prior_scale': 0.0037549659597311486, 'seasonality_prior_scale': 11.402317706377865, 'holidays_prior_scale': 9.964850439822499}. Best is trial 9 with value: 331.1337344951311.\n"
     ]
    },
    {
     "name": "stderr",
     "output_type": "stream",
     "text": [
      "19:31:34 - cmdstanpy - INFO - Chain [1] start processing\n",
      "19:31:35 - cmdstanpy - INFO - Chain [1] done processing\n",
      "19:31:35 - cmdstanpy - INFO - Chain [1] done processing\n"
     ]
    },
    {
     "name": "stdout",
     "output_type": "stream",
     "text": [
      "[I 2025-08-22 19:31:45,032] Trial 39 finished with value: 449.31519588082506 and parameters: {'changepoint_prior_scale': 0.0006654697890746827, 'seasonality_prior_scale': 0.1015391882569824, 'holidays_prior_scale': 10.704231016517483}. Best is trial 9 with value: 331.1337344951311.\n",
      "SEC-004 best params: {'changepoint_prior_scale': 0.004384184607774426, 'seasonality_prior_scale': 0.08568365351703626, 'holidays_prior_scale': 7.002940074741657}\n"
     ]
    },
    {
     "name": "stderr",
     "output_type": "stream",
     "text": [
      "19:31:45 - cmdstanpy - INFO - Chain [1] start processing\n",
      "19:31:45 - cmdstanpy - INFO - Chain [1] done processing\n",
      "[I 2025-08-22 19:31:46,163] A new study created in memory with name: no-name-420b4430-506b-4475-9733-15e49a2353d5\n",
      "19:31:45 - cmdstanpy - INFO - Chain [1] done processing\n",
      "[I 2025-08-22 19:31:46,163] A new study created in memory with name: no-name-420b4430-506b-4475-9733-15e49a2353d5\n"
     ]
    },
    {
     "name": "stdout",
     "output_type": "stream",
     "text": [
      "[Main Loop] Now tuning section: SEC-005\n",
      "[Optuna] Tuning section: SEC-005\n"
     ]
    },
    {
     "data": {
      "application/vnd.jupyter.widget-view+json": {
       "model_id": "2d411f3396234e538cb55d1fe496a3c5",
       "version_major": 2,
       "version_minor": 0
      },
      "text/plain": [
       "  0%|          | 0/40 [00:00<?, ?it/s]"
      ]
     },
     "metadata": {},
     "output_type": "display_data"
    },
    {
     "name": "stderr",
     "output_type": "stream",
     "text": [
      "19:31:46 - cmdstanpy - INFO - Chain [1] start processing\n",
      "19:31:46 - cmdstanpy - INFO - Chain [1] done processing\n",
      "19:31:46 - cmdstanpy - INFO - Chain [1] done processing\n"
     ]
    },
    {
     "name": "stdout",
     "output_type": "stream",
     "text": [
      "[I 2025-08-22 19:31:55,427] Trial 0 finished with value: 800.6154422602519 and parameters: {'changepoint_prior_scale': 0.17294218639695763, 'seasonality_prior_scale': 0.0706833106432974, 'holidays_prior_scale': 0.30484726329875317}. Best is trial 0 with value: 800.6154422602519.\n"
     ]
    },
    {
     "name": "stderr",
     "output_type": "stream",
     "text": [
      "19:31:55 - cmdstanpy - INFO - Chain [1] start processing\n",
      "19:31:56 - cmdstanpy - INFO - Chain [1] done processing\n",
      "19:31:56 - cmdstanpy - ERROR - Chain [1] error: error during processing Operation not permitted\n",
      "Optimization terminated abnormally. Falling back to Newton.\n",
      "19:31:56 - cmdstanpy - INFO - Chain [1] start processing\n",
      "19:31:56 - cmdstanpy - INFO - Chain [1] done processing\n",
      "19:31:56 - cmdstanpy - ERROR - Chain [1] error: error during processing Operation not permitted\n",
      "Optimization terminated abnormally. Falling back to Newton.\n",
      "19:31:56 - cmdstanpy - INFO - Chain [1] start processing\n",
      "19:31:59 - cmdstanpy - INFO - Chain [1] done processing\n",
      "19:31:59 - cmdstanpy - INFO - Chain [1] done processing\n"
     ]
    },
    {
     "name": "stdout",
     "output_type": "stream",
     "text": [
      "[I 2025-08-22 19:32:15,839] Trial 1 finished with value: 827.5445443113421 and parameters: {'changepoint_prior_scale': 0.0005977811719203722, 'seasonality_prior_scale': 3.5972646746670103, 'holidays_prior_scale': 0.09347548312309759}. Best is trial 0 with value: 800.6154422602519.\n"
     ]
    },
    {
     "name": "stderr",
     "output_type": "stream",
     "text": [
      "19:32:16 - cmdstanpy - INFO - Chain [1] start processing\n",
      "19:32:16 - cmdstanpy - INFO - Chain [1] done processing\n",
      "19:32:16 - cmdstanpy - INFO - Chain [1] done processing\n"
     ]
    },
    {
     "name": "stdout",
     "output_type": "stream",
     "text": [
      "[I 2025-08-22 19:32:24,249] Trial 2 finished with value: 797.0535745456433 and parameters: {'changepoint_prior_scale': 0.003992972610266497, 'seasonality_prior_scale': 2.299102950704866, 'holidays_prior_scale': 1.0147099174546124}. Best is trial 2 with value: 797.0535745456433.\n"
     ]
    },
    {
     "name": "stderr",
     "output_type": "stream",
     "text": [
      "19:32:24 - cmdstanpy - INFO - Chain [1] start processing\n",
      "19:32:24 - cmdstanpy - INFO - Chain [1] done processing\n",
      "19:32:24 - cmdstanpy - ERROR - Chain [1] error: error during processing Operation not permitted\n",
      "Optimization terminated abnormally. Falling back to Newton.\n",
      "19:32:25 - cmdstanpy - INFO - Chain [1] start processing\n",
      "19:32:24 - cmdstanpy - INFO - Chain [1] done processing\n",
      "19:32:24 - cmdstanpy - ERROR - Chain [1] error: error during processing Operation not permitted\n",
      "Optimization terminated abnormally. Falling back to Newton.\n",
      "19:32:25 - cmdstanpy - INFO - Chain [1] start processing\n",
      "19:32:29 - cmdstanpy - INFO - Chain [1] done processing\n",
      "19:32:29 - cmdstanpy - INFO - Chain [1] done processing\n"
     ]
    },
    {
     "name": "stdout",
     "output_type": "stream",
     "text": [
      "[I 2025-08-22 19:32:45,789] Trial 3 finished with value: 843.4740198898955 and parameters: {'changepoint_prior_scale': 0.0005488846615754529, 'seasonality_prior_scale': 0.19157063235775673, 'holidays_prior_scale': 7.9384151398495435}. Best is trial 2 with value: 797.0535745456433.\n"
     ]
    },
    {
     "name": "stderr",
     "output_type": "stream",
     "text": [
      "19:32:46 - cmdstanpy - INFO - Chain [1] start processing\n",
      "19:32:46 - cmdstanpy - INFO - Chain [1] done processing\n",
      "19:32:46 - cmdstanpy - INFO - Chain [1] done processing\n"
     ]
    },
    {
     "name": "stdout",
     "output_type": "stream",
     "text": [
      "[I 2025-08-22 19:32:54,287] Trial 4 finished with value: 861.4805800058604 and parameters: {'changepoint_prior_scale': 0.0014597522486045436, 'seasonality_prior_scale': 0.04666078131499477, 'holidays_prior_scale': 10.873501775137088}. Best is trial 2 with value: 797.0535745456433.\n"
     ]
    },
    {
     "name": "stderr",
     "output_type": "stream",
     "text": [
      "19:32:54 - cmdstanpy - INFO - Chain [1] start processing\n",
      "19:32:55 - cmdstanpy - INFO - Chain [1] done processing\n",
      "19:32:55 - cmdstanpy - INFO - Chain [1] done processing\n"
     ]
    },
    {
     "name": "stdout",
     "output_type": "stream",
     "text": [
      "[I 2025-08-22 19:33:07,598] Trial 5 finished with value: 808.1544278294659 and parameters: {'changepoint_prior_scale': 0.0006655208742392745, 'seasonality_prior_scale': 0.023759659276129275, 'holidays_prior_scale': 3.930979077608098}. Best is trial 2 with value: 797.0535745456433.\n"
     ]
    },
    {
     "name": "stderr",
     "output_type": "stream",
     "text": [
      "19:33:08 - cmdstanpy - INFO - Chain [1] start processing\n",
      "19:33:08 - cmdstanpy - INFO - Chain [1] done processing\n",
      "19:33:08 - cmdstanpy - ERROR - Chain [1] error: error during processing Operation not permitted\n",
      "Optimization terminated abnormally. Falling back to Newton.\n",
      "19:33:08 - cmdstanpy - INFO - Chain [1] start processing\n",
      "19:33:08 - cmdstanpy - INFO - Chain [1] done processing\n",
      "19:33:08 - cmdstanpy - ERROR - Chain [1] error: error during processing Operation not permitted\n",
      "Optimization terminated abnormally. Falling back to Newton.\n",
      "19:33:08 - cmdstanpy - INFO - Chain [1] start processing\n",
      "19:33:13 - cmdstanpy - INFO - Chain [1] done processing\n",
      "19:33:13 - cmdstanpy - INFO - Chain [1] done processing\n"
     ]
    },
    {
     "name": "stdout",
     "output_type": "stream",
     "text": [
      "[I 2025-08-22 19:33:25,750] Trial 6 finished with value: 859.6604448262729 and parameters: {'changepoint_prior_scale': 0.0004922566015297098, 'seasonality_prior_scale': 0.061342403997542407, 'holidays_prior_scale': 0.10910702996758824}. Best is trial 2 with value: 797.0535745456433.\n"
     ]
    },
    {
     "name": "stderr",
     "output_type": "stream",
     "text": [
      "19:33:26 - cmdstanpy - INFO - Chain [1] start processing\n",
      "19:33:26 - cmdstanpy - INFO - Chain [1] done processing\n",
      "19:33:26 - cmdstanpy - INFO - Chain [1] done processing\n"
     ]
    },
    {
     "name": "stdout",
     "output_type": "stream",
     "text": [
      "[I 2025-08-22 19:33:34,173] Trial 7 finished with value: 809.8615013101253 and parameters: {'changepoint_prior_scale': 0.05347505477750259, 'seasonality_prior_scale': 0.16182324982933138, 'holidays_prior_scale': 0.027218238713013935}. Best is trial 2 with value: 797.0535745456433.\n"
     ]
    },
    {
     "name": "stderr",
     "output_type": "stream",
     "text": [
      "19:33:34 - cmdstanpy - INFO - Chain [1] start processing\n",
      "19:33:35 - cmdstanpy - INFO - Chain [1] done processing\n",
      "19:33:35 - cmdstanpy - INFO - Chain [1] done processing\n"
     ]
    },
    {
     "name": "stdout",
     "output_type": "stream",
     "text": [
      "[I 2025-08-22 19:33:43,049] Trial 8 finished with value: 827.3306676408284 and parameters: {'changepoint_prior_scale': 0.03512188202529476, 'seasonality_prior_scale': 2.8987910455730588, 'holidays_prior_scale': 0.01037169395007075}. Best is trial 2 with value: 797.0535745456433.\n"
     ]
    },
    {
     "name": "stderr",
     "output_type": "stream",
     "text": [
      "19:33:43 - cmdstanpy - INFO - Chain [1] start processing\n",
      "19:33:44 - cmdstanpy - INFO - Chain [1] done processing\n",
      "19:33:44 - cmdstanpy - INFO - Chain [1] done processing\n"
     ]
    },
    {
     "name": "stdout",
     "output_type": "stream",
     "text": [
      "[I 2025-08-22 19:33:58,812] Trial 9 finished with value: 808.7260498755703 and parameters: {'changepoint_prior_scale': 0.0029152729313807646, 'seasonality_prior_scale': 0.07009751240562877, 'holidays_prior_scale': 24.415284474755794}. Best is trial 2 with value: 797.0535745456433.\n"
     ]
    },
    {
     "name": "stderr",
     "output_type": "stream",
     "text": [
      "19:33:59 - cmdstanpy - INFO - Chain [1] start processing\n",
      "19:33:59 - cmdstanpy - INFO - Chain [1] done processing\n",
      "19:33:59 - cmdstanpy - INFO - Chain [1] done processing\n"
     ]
    },
    {
     "name": "stdout",
     "output_type": "stream",
     "text": [
      "[I 2025-08-22 19:34:07,698] Trial 10 finished with value: 800.9243085656074 and parameters: {'changepoint_prior_scale': 0.013095811438348618, 'seasonality_prior_scale': 27.3065127165276, 'holidays_prior_scale': 1.9120708786087386}. Best is trial 2 with value: 797.0535745456433.\n"
     ]
    },
    {
     "name": "stderr",
     "output_type": "stream",
     "text": [
      "19:34:08 - cmdstanpy - INFO - Chain [1] start processing\n",
      "19:34:08 - cmdstanpy - INFO - Chain [1] done processing\n",
      "19:34:08 - cmdstanpy - INFO - Chain [1] done processing\n"
     ]
    },
    {
     "name": "stdout",
     "output_type": "stream",
     "text": [
      "[I 2025-08-22 19:34:17,323] Trial 11 finished with value: 814.508415044342 and parameters: {'changepoint_prior_scale': 0.3454886576874531, 'seasonality_prior_scale': 1.1538301616721767, 'holidays_prior_scale': 0.6001743399008407}. Best is trial 2 with value: 797.0535745456433.\n"
     ]
    },
    {
     "name": "stderr",
     "output_type": "stream",
     "text": [
      "19:34:18 - cmdstanpy - INFO - Chain [1] start processing\n",
      "19:34:18 - cmdstanpy - INFO - Chain [1] done processing\n",
      "19:34:18 - cmdstanpy - ERROR - Chain [1] error: error during processing Operation not permitted\n",
      "Optimization terminated abnormally. Falling back to Newton.\n",
      "19:34:18 - cmdstanpy - INFO - Chain [1] start processing\n",
      "19:34:18 - cmdstanpy - INFO - Chain [1] done processing\n",
      "19:34:18 - cmdstanpy - ERROR - Chain [1] error: error during processing Operation not permitted\n",
      "Optimization terminated abnormally. Falling back to Newton.\n",
      "19:34:18 - cmdstanpy - INFO - Chain [1] start processing\n",
      "19:34:23 - cmdstanpy - INFO - Chain [1] done processing\n",
      "19:34:23 - cmdstanpy - INFO - Chain [1] done processing\n"
     ]
    },
    {
     "name": "stdout",
     "output_type": "stream",
     "text": [
      "[I 2025-08-22 19:37:05,854] Trial 12 finished with value: 787.0550895529786 and parameters: {'changepoint_prior_scale': 0.00011663156197343311, 'seasonality_prior_scale': 0.745328213629567, 'holidays_prior_scale': 0.7070410784255158}. Best is trial 12 with value: 787.0550895529786.\n"
     ]
    },
    {
     "name": "stderr",
     "output_type": "stream",
     "text": [
      "19:37:06 - cmdstanpy - INFO - Chain [1] start processing\n",
      "19:37:06 - cmdstanpy - INFO - Chain [1] done processing\n",
      "19:37:06 - cmdstanpy - ERROR - Chain [1] error: error during processing Operation not permitted\n",
      "Optimization terminated abnormally. Falling back to Newton.\n",
      "19:37:07 - cmdstanpy - INFO - Chain [1] start processing\n",
      "19:37:06 - cmdstanpy - INFO - Chain [1] done processing\n",
      "19:37:06 - cmdstanpy - ERROR - Chain [1] error: error during processing Operation not permitted\n",
      "Optimization terminated abnormally. Falling back to Newton.\n",
      "19:37:07 - cmdstanpy - INFO - Chain [1] start processing\n",
      "19:37:21 - cmdstanpy - INFO - Chain [1] done processing\n",
      "19:37:21 - cmdstanpy - INFO - Chain [1] done processing\n"
     ]
    },
    {
     "name": "stdout",
     "output_type": "stream",
     "text": [
      "[I 2025-08-22 19:39:33,246] Trial 13 finished with value: 792.4594069239024 and parameters: {'changepoint_prior_scale': 0.00012880216586718768, 'seasonality_prior_scale': 0.5967479810863484, 'holidays_prior_scale': 1.0768786543987543}. Best is trial 12 with value: 787.0550895529786.\n"
     ]
    },
    {
     "name": "stderr",
     "output_type": "stream",
     "text": [
      "19:39:33 - cmdstanpy - INFO - Chain [1] start processing\n",
      "19:39:34 - cmdstanpy - INFO - Chain [1] done processing\n",
      "19:39:34 - cmdstanpy - ERROR - Chain [1] error: error during processing Operation not permitted\n",
      "Optimization terminated abnormally. Falling back to Newton.\n",
      "19:39:34 - cmdstanpy - INFO - Chain [1] start processing\n",
      "19:39:34 - cmdstanpy - INFO - Chain [1] done processing\n",
      "19:39:34 - cmdstanpy - ERROR - Chain [1] error: error during processing Operation not permitted\n",
      "Optimization terminated abnormally. Falling back to Newton.\n",
      "19:39:34 - cmdstanpy - INFO - Chain [1] start processing\n",
      "19:39:37 - cmdstanpy - INFO - Chain [1] done processing\n",
      "19:39:37 - cmdstanpy - INFO - Chain [1] done processing\n"
     ]
    },
    {
     "name": "stdout",
     "output_type": "stream",
     "text": [
      "[I 2025-08-22 19:40:24,721] Trial 14 finished with value: 797.6002513758652 and parameters: {'changepoint_prior_scale': 0.00014197971194466964, 'seasonality_prior_scale': 0.4529214869742947, 'holidays_prior_scale': 0.31328930737635613}. Best is trial 12 with value: 787.0550895529786.\n"
     ]
    },
    {
     "name": "stderr",
     "output_type": "stream",
     "text": [
      "19:40:25 - cmdstanpy - INFO - Chain [1] start processing\n",
      "19:40:25 - cmdstanpy - INFO - Chain [1] done processing\n",
      "19:40:25 - cmdstanpy - ERROR - Chain [1] error: error during processing Operation not permitted\n",
      "Optimization terminated abnormally. Falling back to Newton.\n",
      "19:40:25 - cmdstanpy - INFO - Chain [1] start processing\n",
      "19:40:25 - cmdstanpy - INFO - Chain [1] done processing\n",
      "19:40:25 - cmdstanpy - ERROR - Chain [1] error: error during processing Operation not permitted\n",
      "Optimization terminated abnormally. Falling back to Newton.\n",
      "19:40:25 - cmdstanpy - INFO - Chain [1] start processing\n",
      "19:40:27 - cmdstanpy - INFO - Chain [1] done processing\n",
      "19:40:27 - cmdstanpy - INFO - Chain [1] done processing\n"
     ]
    },
    {
     "name": "stdout",
     "output_type": "stream",
     "text": [
      "[I 2025-08-22 19:42:34,265] Trial 15 finished with value: 835.9944470871965 and parameters: {'changepoint_prior_scale': 0.00024045539900555252, 'seasonality_prior_scale': 9.426976161356922, 'holidays_prior_scale': 2.1590116901690344}. Best is trial 12 with value: 787.0550895529786.\n"
     ]
    },
    {
     "name": "stderr",
     "output_type": "stream",
     "text": [
      "19:42:35 - cmdstanpy - INFO - Chain [1] start processing\n",
      "19:42:36 - cmdstanpy - INFO - Chain [1] done processing\n",
      "19:42:36 - cmdstanpy - ERROR - Chain [1] error: error during processing Operation not permitted\n",
      "Optimization terminated abnormally. Falling back to Newton.\n",
      "19:42:37 - cmdstanpy - INFO - Chain [1] start processing\n",
      "19:42:36 - cmdstanpy - INFO - Chain [1] done processing\n",
      "19:42:36 - cmdstanpy - ERROR - Chain [1] error: error during processing Operation not permitted\n",
      "Optimization terminated abnormally. Falling back to Newton.\n",
      "19:42:37 - cmdstanpy - INFO - Chain [1] start processing\n",
      "19:42:42 - cmdstanpy - INFO - Chain [1] done processing\n",
      "19:42:42 - cmdstanpy - INFO - Chain [1] done processing\n"
     ]
    },
    {
     "name": "stdout",
     "output_type": "stream",
     "text": [
      "[I 2025-08-22 19:44:19,873] Trial 16 finished with value: 801.5204460663855 and parameters: {'changepoint_prior_scale': 0.00010231518295318336, 'seasonality_prior_scale': 0.7244925327227838, 'holidays_prior_scale': 0.19221853349375542}. Best is trial 12 with value: 787.0550895529786.\n"
     ]
    },
    {
     "name": "stderr",
     "output_type": "stream",
     "text": [
      "19:44:20 - cmdstanpy - INFO - Chain [1] start processing\n",
      "19:44:20 - cmdstanpy - INFO - Chain [1] done processing\n",
      "19:44:20 - cmdstanpy - ERROR - Chain [1] error: error during processing Operation not permitted\n",
      "19:44:20 - cmdstanpy - INFO - Chain [1] done processing\n",
      "19:44:20 - cmdstanpy - ERROR - Chain [1] error: error during processing Operation not permitted\n",
      "Optimization terminated abnormally. Falling back to Newton.\n",
      "Optimization terminated abnormally. Falling back to Newton.\n",
      "19:44:20 - cmdstanpy - INFO - Chain [1] start processing\n",
      "19:44:20 - cmdstanpy - INFO - Chain [1] start processing\n",
      "19:44:25 - cmdstanpy - INFO - Chain [1] done processing\n",
      "19:44:25 - cmdstanpy - INFO - Chain [1] done processing\n"
     ]
    },
    {
     "name": "stdout",
     "output_type": "stream",
     "text": [
      "[I 2025-08-22 19:44:50,254] Trial 17 finished with value: 841.0380901408789 and parameters: {'changepoint_prior_scale': 0.0002394239525547761, 'seasonality_prior_scale': 0.27913319532851805, 'holidays_prior_scale': 0.9563954952561816}. Best is trial 12 with value: 787.0550895529786.\n"
     ]
    },
    {
     "name": "stderr",
     "output_type": "stream",
     "text": [
      "19:44:50 - cmdstanpy - INFO - Chain [1] start processing\n",
      "19:44:50 - cmdstanpy - INFO - Chain [1] done processing\n",
      "19:44:50 - cmdstanpy - INFO - Chain [1] done processing\n"
     ]
    },
    {
     "name": "stdout",
     "output_type": "stream",
     "text": [
      "[I 2025-08-22 19:44:59,426] Trial 18 finished with value: 835.5043433773857 and parameters: {'changepoint_prior_scale': 0.0017352569934366044, 'seasonality_prior_scale': 1.035152703890124, 'holidays_prior_scale': 0.048901879436394166}. Best is trial 12 with value: 787.0550895529786.\n"
     ]
    },
    {
     "name": "stderr",
     "output_type": "stream",
     "text": [
      "19:45:00 - cmdstanpy - INFO - Chain [1] start processing\n",
      "19:45:00 - cmdstanpy - INFO - Chain [1] done processing\n",
      "19:45:00 - cmdstanpy - INFO - Chain [1] done processing\n"
     ]
    },
    {
     "name": "stdout",
     "output_type": "stream",
     "text": [
      "[I 2025-08-22 19:45:08,735] Trial 19 finished with value: 800.9389176831418 and parameters: {'changepoint_prior_scale': 0.01553202148725182, 'seasonality_prior_scale': 8.946461500372855, 'holidays_prior_scale': 3.397057345095677}. Best is trial 12 with value: 787.0550895529786.\n"
     ]
    },
    {
     "name": "stderr",
     "output_type": "stream",
     "text": [
      "19:45:09 - cmdstanpy - INFO - Chain [1] start processing\n",
      "19:45:09 - cmdstanpy - INFO - Chain [1] done processing\n",
      "19:45:09 - cmdstanpy - ERROR - Chain [1] error: error during processing Operation not permitted\n",
      "Optimization terminated abnormally. Falling back to Newton.\n",
      "19:45:10 - cmdstanpy - INFO - Chain [1] start processing\n",
      "19:45:09 - cmdstanpy - INFO - Chain [1] done processing\n",
      "19:45:09 - cmdstanpy - ERROR - Chain [1] error: error during processing Operation not permitted\n",
      "Optimization terminated abnormally. Falling back to Newton.\n",
      "19:45:10 - cmdstanpy - INFO - Chain [1] start processing\n",
      "19:45:13 - cmdstanpy - INFO - Chain [1] done processing\n",
      "19:45:13 - cmdstanpy - INFO - Chain [1] done processing\n"
     ]
    },
    {
     "name": "stdout",
     "output_type": "stream",
     "text": [
      "[W 2025-08-22 19:45:20,710] Trial 20 failed with parameters: {'changepoint_prior_scale': 0.0002318341318773229, 'seasonality_prior_scale': 0.013001104471164843, 'holidays_prior_scale': 0.7869197850852833} because of the following error: UnboundLocalError(\"cannot access local variable 'fd_out' where it is not associated with a value\").\n",
      "concurrent.futures.process._RemoteTraceback: \n",
      "\"\"\"\n",
      "Traceback (most recent call last):\n",
      "  File \"d:\\tech_triathlon_datathon\\venv\\Lib\\site-packages\\prophet\\models.py\", line 126, in fit\n",
      "    self.stan_fit = self.model.optimize(**args)\n",
      "                    ^^^^^^^^^^^^^^^^^^^^^^^^^^^\n",
      "  File \"d:\\tech_triathlon_datathon\\venv\\Lib\\site-packages\\cmdstanpy\\model.py\", line 659, in optimize\n",
      "    raise RuntimeError(msg)\n",
      "RuntimeError: Error during optimization! Command 'D:\\tech_triathlon_datathon\\venv\\Lib\\site-packages\\prophet\\stan_model\\prophet_model.bin random seed=53441 data file=C:\\Users\\isuru\\AppData\\Local\\Temp\\tmpbt4uiay4\\yeaiu9jh.json init=C:\\Users\\isuru\\AppData\\Local\\Temp\\tmpbt4uiay4\\pnjp7dvq.json output file=C:\\Users\\isuru\\AppData\\Local\\Temp\\tmpbt4uiay4\\prophet_model3jw3r1vt\\prophet_model-20250822194519.csv method=optimize algorithm=lbfgs iter=10000' failed: console log output:\n",
      "\n",
      "method = optimize\n",
      "  optimize\n",
      "    algorithm = lbfgs (Default)\n",
      "      lbfgs\n",
      "        init_alpha = 0.001 (Default)\n",
      "        tol_obj = 9.9999999999999998e-13 (Default)\n",
      "        tol_rel_obj = 10000 (Default)\n",
      "        tol_grad = 1e-08 (Default)\n",
      "        tol_rel_grad = 10000000 (Default)\n",
      "        tol_param = 1e-08 (Default)\n",
      "        history_size = 5 (Default)\n",
      "    jacobian = 0 (Default)\n",
      "    iter = 10000\n",
      "    save_iterations = 0 (Default)\n",
      "id = 1 (Default)\n",
      "data\n",
      "  file = C:\\Users\\isuru\\AppData\\Local\\Temp\\tmpbt4uiay4\\yeaiu9jh.json\n",
      "init = C:\\Users\\isuru\\AppData\\Local\\Temp\\tmpbt4uiay4\\pnjp7dvq.json\n",
      "random\n",
      "  seed = 53441\n",
      "output\n",
      "  file = C:\\Users\\isuru\\AppData\\Local\\Temp\\tmpbt4uiay4\\prophet_model3jw3r1vt\\prophet_model-20250822194519.csv\n",
      "  diagnostic_file =  (Default)\n",
      "  refresh = 100 (Default)\n",
      "  sig_figs = -1 (Default)\n",
      "  profile_file = profile.csv (Default)\n",
      "num_threads = 1 (Default)\n",
      "\n",
      "Initial log joint probability = -18.4139\n",
      "    Iter      log prob        ||dx||      ||grad||       alpha      alpha0  # evals  Notes \n",
      "       1      -18.4139             0       713.922       1e-12       0.001       23   \n",
      "Optimization terminated with error: \n",
      "  Line search failed to achieve a sufficient decrease, no more progress can be made\n",
      "\n",
      "\n",
      "During handling of the above exception, another exception occurred:\n",
      "\n",
      "Traceback (most recent call last):\n",
      "  File \"d:\\tech_triathlon_datathon\\venv\\Lib\\site-packages\\cmdstanpy\\model.py\", line 2060, in _run_cmdstan\n",
      "    fd_out = open(runset.stdout_files[idx], 'w')\n",
      "             ^^^^^^^^^^^^^^^^^^^^^^^^^^^^^^^^^^^\n",
      "FileNotFoundError: [Errno 2] No such file or directory: 'C:\\\\Users\\\\isuru\\\\AppData\\\\Local\\\\Temp\\\\tmpbt4uiay4\\\\prophet_modelqg_kwcwd\\\\prophet_model-20250822194520_0-stdout.txt'\n",
      "\n",
      "The above exception was the direct cause of the following exception:\n",
      "\n",
      "Traceback (most recent call last):\n",
      "  File \"d:\\tech_triathlon_datathon\\venv\\Lib\\site-packages\\cmdstanpy\\model.py\", line 2110, in _run_cmdstan\n",
      "    raise RuntimeError(msg) from e\n",
      "RuntimeError: Failed with error [Errno 2] No such file or directory: 'C:\\\\Users\\\\isuru\\\\AppData\\\\Local\\\\Temp\\\\tmpbt4uiay4\\\\prophet_modelqg_kwcwd\\\\prophet_model-20250822194520_0-stdout.txt'\n",
      "\n",
      "\n",
      "During handling of the above exception, another exception occurred:\n",
      "\n",
      "Traceback (most recent call last):\n",
      "  File \"C:\\Users\\isuru\\anaconda3\\Lib\\concurrent\\futures\\process.py\", line 263, in _process_worker\n",
      "    r = call_item.fn(*call_item.args, **call_item.kwargs)\n",
      "        ^^^^^^^^^^^^^^^^^^^^^^^^^^^^^^^^^^^^^^^^^^^^^^^^^\n",
      "  File \"C:\\Users\\isuru\\anaconda3\\Lib\\concurrent\\futures\\process.py\", line 212, in _process_chunk\n",
      "    return [fn(*args) for args in chunk]\n",
      "            ^^^^^^^^^\n",
      "  File \"d:\\tech_triathlon_datathon\\venv\\Lib\\site-packages\\prophet\\diagnostics.py\", line 246, in single_cutoff_forecast\n",
      "    m.fit(history_c, **model.fit_kwargs)\n",
      "  File \"d:\\tech_triathlon_datathon\\venv\\Lib\\site-packages\\prophet\\forecaster.py\", line 1235, in fit\n",
      "    self.params = self.stan_backend.fit(stan_init, dat, **kwargs)\n",
      "                  ^^^^^^^^^^^^^^^^^^^^^^^^^^^^^^^^^^^^^^^^^^^^^^^\n",
      "  File \"d:\\tech_triathlon_datathon\\venv\\Lib\\site-packages\\prophet\\models.py\", line 133, in fit\n",
      "    self.stan_fit = self.model.optimize(**args)\n",
      "                    ^^^^^^^^^^^^^^^^^^^^^^^^^^^\n",
      "  File \"d:\\tech_triathlon_datathon\\venv\\Lib\\site-packages\\cmdstanpy\\model.py\", line 644, in optimize\n",
      "    self._run_cmdstan(\n",
      "  File \"d:\\tech_triathlon_datathon\\venv\\Lib\\site-packages\\cmdstanpy\\model.py\", line 2112, in _run_cmdstan\n",
      "    fd_out.close()\n",
      "    ^^^^^^\n",
      "UnboundLocalError: cannot access local variable 'fd_out' where it is not associated with a value\n",
      "\"\"\"\n",
      "\n",
      "The above exception was the direct cause of the following exception:\n",
      "\n",
      "Traceback (most recent call last):\n",
      "  File \"d:\\tech_triathlon_datathon\\venv\\Lib\\site-packages\\optuna\\study\\_optimize.py\", line 201, in _run_trial\n",
      "    value_or_values = func(trial)\n",
      "                      ^^^^^^^^^^^\n",
      "  File \"C:\\Users\\isuru\\AppData\\Local\\Temp\\ipykernel_4516\\438668014.py\", line 58, in objective\n",
      "    df_cv = cross_validation(model, horizon='90 days', period='30 days', initial='730 days', parallel=\"processes\")\n",
      "            ^^^^^^^^^^^^^^^^^^^^^^^^^^^^^^^^^^^^^^^^^^^^^^^^^^^^^^^^^^^^^^^^^^^^^^^^^^^^^^^^^^^^^^^^^^^^^^^^^^^^^^\n",
      "  File \"d:\\tech_triathlon_datathon\\venv\\Lib\\site-packages\\prophet\\diagnostics.py\", line 212, in cross_validation\n",
      "    return pd.concat(predicts, axis=0).reset_index(drop=True)\n",
      "           ^^^^^^^^^^^^^^^^^^^^^^^^^^^\n",
      "  File \"d:\\tech_triathlon_datathon\\venv\\Lib\\site-packages\\pandas\\core\\reshape\\concat.py\", line 382, in concat\n",
      "    op = _Concatenator(\n",
      "         ^^^^^^^^^^^^^^\n",
      "  File \"d:\\tech_triathlon_datathon\\venv\\Lib\\site-packages\\pandas\\core\\reshape\\concat.py\", line 445, in __init__\n",
      "    objs, keys = self._clean_keys_and_objs(objs, keys)\n",
      "                 ^^^^^^^^^^^^^^^^^^^^^^^^^^^^^^^^^^^^^\n",
      "  File \"d:\\tech_triathlon_datathon\\venv\\Lib\\site-packages\\pandas\\core\\reshape\\concat.py\", line 504, in _clean_keys_and_objs\n",
      "    objs_list = list(objs)\n",
      "                ^^^^^^^^^^\n",
      "  File \"C:\\Users\\isuru\\anaconda3\\Lib\\concurrent\\futures\\process.py\", line 642, in _chain_from_iterable_of_lists\n",
      "    for element in iterable:\n",
      "  File \"C:\\Users\\isuru\\anaconda3\\Lib\\concurrent\\futures\\_base.py\", line 619, in result_iterator\n",
      "    yield _result_or_cancel(fs.pop())\n",
      "          ^^^^^^^^^^^^^^^^^^^^^^^^^^^\n",
      "  File \"C:\\Users\\isuru\\anaconda3\\Lib\\concurrent\\futures\\_base.py\", line 317, in _result_or_cancel\n",
      "    return fut.result(timeout)\n",
      "           ^^^^^^^^^^^^^^^^^^^\n",
      "  File \"C:\\Users\\isuru\\anaconda3\\Lib\\concurrent\\futures\\_base.py\", line 456, in result\n",
      "    return self.__get_result()\n",
      "           ^^^^^^^^^^^^^^^^^^^\n",
      "  File \"C:\\Users\\isuru\\anaconda3\\Lib\\concurrent\\futures\\_base.py\", line 401, in __get_result\n",
      "    raise self._exception\n",
      "UnboundLocalError: cannot access local variable 'fd_out' where it is not associated with a value\n",
      "[W 2025-08-22 19:45:20,755] Trial 20 failed with value None.\n"
     ]
    },
    {
     "ename": "UnboundLocalError",
     "evalue": "cannot access local variable 'fd_out' where it is not associated with a value",
     "output_type": "error",
     "traceback": [
      "\u001b[31m---------------------------------------------------------------------------\u001b[39m",
      "\u001b[31m_RemoteTraceback\u001b[39m                          Traceback (most recent call last)",
      "\u001b[31m_RemoteTraceback\u001b[39m: \n\"\"\"\nTraceback (most recent call last):\n  File \"d:\\tech_triathlon_datathon\\venv\\Lib\\site-packages\\prophet\\models.py\", line 126, in fit\n    self.stan_fit = self.model.optimize(**args)\n                    ^^^^^^^^^^^^^^^^^^^^^^^^^^^\n  File \"d:\\tech_triathlon_datathon\\venv\\Lib\\site-packages\\cmdstanpy\\model.py\", line 659, in optimize\n    raise RuntimeError(msg)\nRuntimeError: Error during optimization! Command 'D:\\tech_triathlon_datathon\\venv\\Lib\\site-packages\\prophet\\stan_model\\prophet_model.bin random seed=53441 data file=C:\\Users\\isuru\\AppData\\Local\\Temp\\tmpbt4uiay4\\yeaiu9jh.json init=C:\\Users\\isuru\\AppData\\Local\\Temp\\tmpbt4uiay4\\pnjp7dvq.json output file=C:\\Users\\isuru\\AppData\\Local\\Temp\\tmpbt4uiay4\\prophet_model3jw3r1vt\\prophet_model-20250822194519.csv method=optimize algorithm=lbfgs iter=10000' failed: console log output:\n\nmethod = optimize\n  optimize\n    algorithm = lbfgs (Default)\n      lbfgs\n        init_alpha = 0.001 (Default)\n        tol_obj = 9.9999999999999998e-13 (Default)\n        tol_rel_obj = 10000 (Default)\n        tol_grad = 1e-08 (Default)\n        tol_rel_grad = 10000000 (Default)\n        tol_param = 1e-08 (Default)\n        history_size = 5 (Default)\n    jacobian = 0 (Default)\n    iter = 10000\n    save_iterations = 0 (Default)\nid = 1 (Default)\ndata\n  file = C:\\Users\\isuru\\AppData\\Local\\Temp\\tmpbt4uiay4\\yeaiu9jh.json\ninit = C:\\Users\\isuru\\AppData\\Local\\Temp\\tmpbt4uiay4\\pnjp7dvq.json\nrandom\n  seed = 53441\noutput\n  file = C:\\Users\\isuru\\AppData\\Local\\Temp\\tmpbt4uiay4\\prophet_model3jw3r1vt\\prophet_model-20250822194519.csv\n  diagnostic_file =  (Default)\n  refresh = 100 (Default)\n  sig_figs = -1 (Default)\n  profile_file = profile.csv (Default)\nnum_threads = 1 (Default)\n\nInitial log joint probability = -18.4139\n    Iter      log prob        ||dx||      ||grad||       alpha      alpha0  # evals  Notes \n       1      -18.4139             0       713.922       1e-12       0.001       23   \nOptimization terminated with error: \n  Line search failed to achieve a sufficient decrease, no more progress can be made\n\n\nDuring handling of the above exception, another exception occurred:\n\nTraceback (most recent call last):\n  File \"d:\\tech_triathlon_datathon\\venv\\Lib\\site-packages\\cmdstanpy\\model.py\", line 2060, in _run_cmdstan\n    fd_out = open(runset.stdout_files[idx], 'w')\n             ^^^^^^^^^^^^^^^^^^^^^^^^^^^^^^^^^^^\nFileNotFoundError: [Errno 2] No such file or directory: 'C:\\\\Users\\\\isuru\\\\AppData\\\\Local\\\\Temp\\\\tmpbt4uiay4\\\\prophet_modelqg_kwcwd\\\\prophet_model-20250822194520_0-stdout.txt'\n\nThe above exception was the direct cause of the following exception:\n\nTraceback (most recent call last):\n  File \"d:\\tech_triathlon_datathon\\venv\\Lib\\site-packages\\cmdstanpy\\model.py\", line 2110, in _run_cmdstan\n    raise RuntimeError(msg) from e\nRuntimeError: Failed with error [Errno 2] No such file or directory: 'C:\\\\Users\\\\isuru\\\\AppData\\\\Local\\\\Temp\\\\tmpbt4uiay4\\\\prophet_modelqg_kwcwd\\\\prophet_model-20250822194520_0-stdout.txt'\n\n\nDuring handling of the above exception, another exception occurred:\n\nTraceback (most recent call last):\n  File \"C:\\Users\\isuru\\anaconda3\\Lib\\concurrent\\futures\\process.py\", line 263, in _process_worker\n    r = call_item.fn(*call_item.args, **call_item.kwargs)\n        ^^^^^^^^^^^^^^^^^^^^^^^^^^^^^^^^^^^^^^^^^^^^^^^^^\n  File \"C:\\Users\\isuru\\anaconda3\\Lib\\concurrent\\futures\\process.py\", line 212, in _process_chunk\n    return [fn(*args) for args in chunk]\n            ^^^^^^^^^\n  File \"d:\\tech_triathlon_datathon\\venv\\Lib\\site-packages\\prophet\\diagnostics.py\", line 246, in single_cutoff_forecast\n    m.fit(history_c, **model.fit_kwargs)\n  File \"d:\\tech_triathlon_datathon\\venv\\Lib\\site-packages\\prophet\\forecaster.py\", line 1235, in fit\n    self.params = self.stan_backend.fit(stan_init, dat, **kwargs)\n                  ^^^^^^^^^^^^^^^^^^^^^^^^^^^^^^^^^^^^^^^^^^^^^^^\n  File \"d:\\tech_triathlon_datathon\\venv\\Lib\\site-packages\\prophet\\models.py\", line 133, in fit\n    self.stan_fit = self.model.optimize(**args)\n                    ^^^^^^^^^^^^^^^^^^^^^^^^^^^\n  File \"d:\\tech_triathlon_datathon\\venv\\Lib\\site-packages\\cmdstanpy\\model.py\", line 644, in optimize\n    self._run_cmdstan(\n  File \"d:\\tech_triathlon_datathon\\venv\\Lib\\site-packages\\cmdstanpy\\model.py\", line 2112, in _run_cmdstan\n    fd_out.close()\n    ^^^^^^\nUnboundLocalError: cannot access local variable 'fd_out' where it is not associated with a value\n\"\"\"",
      "\nThe above exception was the direct cause of the following exception:\n",
      "\u001b[31mUnboundLocalError\u001b[39m                         Traceback (most recent call last)",
      "\u001b[36mCell\u001b[39m\u001b[36m \u001b[39m\u001b[32mIn[12]\u001b[39m\u001b[32m, line 82\u001b[39m\n\u001b[32m     79\u001b[39m test_sec = test_sec.rename(columns={\u001b[33m'\u001b[39m\u001b[33mdate\u001b[39m\u001b[33m'\u001b[39m:\u001b[33m'\u001b[39m\u001b[33mds\u001b[39m\u001b[33m'\u001b[39m, \u001b[33m'\u001b[39m\u001b[33mtotal_task_time_minutes\u001b[39m\u001b[33m'\u001b[39m:\u001b[33m'\u001b[39m\u001b[33my\u001b[39m\u001b[33m'\u001b[39m})\n\u001b[32m     81\u001b[39m \u001b[38;5;66;03m# Tune hyperparameters\u001b[39;00m\n\u001b[32m---> \u001b[39m\u001b[32m82\u001b[39m best_params = \u001b[43mtune_prophet\u001b[49m\u001b[43m(\u001b[49m\u001b[43mtrain_sec\u001b[49m\u001b[43m)\u001b[49m\n\u001b[32m     83\u001b[39m \u001b[38;5;28mprint\u001b[39m(\u001b[33mf\u001b[39m\u001b[33m\"\u001b[39m\u001b[38;5;132;01m{\u001b[39;00msec\u001b[38;5;132;01m}\u001b[39;00m\u001b[33m best params:\u001b[39m\u001b[33m\"\u001b[39m, best_params)\n\u001b[32m     85\u001b[39m \u001b[38;5;66;03m# Fit final model\u001b[39;00m\n",
      "\u001b[36mCell\u001b[39m\u001b[36m \u001b[39m\u001b[32mIn[12]\u001b[39m\u001b[32m, line 63\u001b[39m, in \u001b[36mtune_prophet\u001b[39m\u001b[34m(train_section_df)\u001b[39m\n\u001b[32m     60\u001b[39m     \u001b[38;5;28;01mreturn\u001b[39;00m df_p[\u001b[33m'\u001b[39m\u001b[33mmae\u001b[39m\u001b[33m'\u001b[39m].values[\u001b[32m0\u001b[39m]  \u001b[38;5;66;03m# Minimize MAE\u001b[39;00m\n\u001b[32m     62\u001b[39m study = optuna.create_study(direction=\u001b[33m'\u001b[39m\u001b[33mminimize\u001b[39m\u001b[33m'\u001b[39m)\n\u001b[32m---> \u001b[39m\u001b[32m63\u001b[39m \u001b[43mstudy\u001b[49m\u001b[43m.\u001b[49m\u001b[43moptimize\u001b[49m\u001b[43m(\u001b[49m\u001b[43mobjective\u001b[49m\u001b[43m,\u001b[49m\u001b[43m \u001b[49m\u001b[43mn_trials\u001b[49m\u001b[43m=\u001b[49m\u001b[32;43m40\u001b[39;49m\u001b[43m,\u001b[49m\u001b[43m \u001b[49m\u001b[43mshow_progress_bar\u001b[49m\u001b[43m=\u001b[49m\u001b[38;5;28;43;01mTrue\u001b[39;49;00m\u001b[43m)\u001b[49m\n\u001b[32m     64\u001b[39m \u001b[38;5;28;01mreturn\u001b[39;00m study.best_params\n",
      "\u001b[36mFile \u001b[39m\u001b[32md:\\tech_triathlon_datathon\\venv\\Lib\\site-packages\\optuna\\study\\study.py:490\u001b[39m, in \u001b[36mStudy.optimize\u001b[39m\u001b[34m(self, func, n_trials, timeout, n_jobs, catch, callbacks, gc_after_trial, show_progress_bar)\u001b[39m\n\u001b[32m    388\u001b[39m \u001b[38;5;28;01mdef\u001b[39;00m\u001b[38;5;250m \u001b[39m\u001b[34moptimize\u001b[39m(\n\u001b[32m    389\u001b[39m     \u001b[38;5;28mself\u001b[39m,\n\u001b[32m    390\u001b[39m     func: ObjectiveFuncType,\n\u001b[32m   (...)\u001b[39m\u001b[32m    397\u001b[39m     show_progress_bar: \u001b[38;5;28mbool\u001b[39m = \u001b[38;5;28;01mFalse\u001b[39;00m,\n\u001b[32m    398\u001b[39m ) -> \u001b[38;5;28;01mNone\u001b[39;00m:\n\u001b[32m    399\u001b[39m \u001b[38;5;250m    \u001b[39m\u001b[33;03m\"\"\"Optimize an objective function.\u001b[39;00m\n\u001b[32m    400\u001b[39m \n\u001b[32m    401\u001b[39m \u001b[33;03m    Optimization is done by choosing a suitable set of hyperparameter values from a given\u001b[39;00m\n\u001b[32m   (...)\u001b[39m\u001b[32m    488\u001b[39m \u001b[33;03m            If nested invocation of this method occurs.\u001b[39;00m\n\u001b[32m    489\u001b[39m \u001b[33;03m    \"\"\"\u001b[39;00m\n\u001b[32m--> \u001b[39m\u001b[32m490\u001b[39m     \u001b[43m_optimize\u001b[49m\u001b[43m(\u001b[49m\n\u001b[32m    491\u001b[39m \u001b[43m        \u001b[49m\u001b[43mstudy\u001b[49m\u001b[43m=\u001b[49m\u001b[38;5;28;43mself\u001b[39;49m\u001b[43m,\u001b[49m\n\u001b[32m    492\u001b[39m \u001b[43m        \u001b[49m\u001b[43mfunc\u001b[49m\u001b[43m=\u001b[49m\u001b[43mfunc\u001b[49m\u001b[43m,\u001b[49m\n\u001b[32m    493\u001b[39m \u001b[43m        \u001b[49m\u001b[43mn_trials\u001b[49m\u001b[43m=\u001b[49m\u001b[43mn_trials\u001b[49m\u001b[43m,\u001b[49m\n\u001b[32m    494\u001b[39m \u001b[43m        \u001b[49m\u001b[43mtimeout\u001b[49m\u001b[43m=\u001b[49m\u001b[43mtimeout\u001b[49m\u001b[43m,\u001b[49m\n\u001b[32m    495\u001b[39m \u001b[43m        \u001b[49m\u001b[43mn_jobs\u001b[49m\u001b[43m=\u001b[49m\u001b[43mn_jobs\u001b[49m\u001b[43m,\u001b[49m\n\u001b[32m    496\u001b[39m \u001b[43m        \u001b[49m\u001b[43mcatch\u001b[49m\u001b[43m=\u001b[49m\u001b[38;5;28;43mtuple\u001b[39;49m\u001b[43m(\u001b[49m\u001b[43mcatch\u001b[49m\u001b[43m)\u001b[49m\u001b[43m \u001b[49m\u001b[38;5;28;43;01mif\u001b[39;49;00m\u001b[43m \u001b[49m\u001b[38;5;28;43misinstance\u001b[39;49m\u001b[43m(\u001b[49m\u001b[43mcatch\u001b[49m\u001b[43m,\u001b[49m\u001b[43m \u001b[49m\u001b[43mIterable\u001b[49m\u001b[43m)\u001b[49m\u001b[43m \u001b[49m\u001b[38;5;28;43;01melse\u001b[39;49;00m\u001b[43m \u001b[49m\u001b[43m(\u001b[49m\u001b[43mcatch\u001b[49m\u001b[43m,\u001b[49m\u001b[43m)\u001b[49m\u001b[43m,\u001b[49m\n\u001b[32m    497\u001b[39m \u001b[43m        \u001b[49m\u001b[43mcallbacks\u001b[49m\u001b[43m=\u001b[49m\u001b[43mcallbacks\u001b[49m\u001b[43m,\u001b[49m\n\u001b[32m    498\u001b[39m \u001b[43m        \u001b[49m\u001b[43mgc_after_trial\u001b[49m\u001b[43m=\u001b[49m\u001b[43mgc_after_trial\u001b[49m\u001b[43m,\u001b[49m\n\u001b[32m    499\u001b[39m \u001b[43m        \u001b[49m\u001b[43mshow_progress_bar\u001b[49m\u001b[43m=\u001b[49m\u001b[43mshow_progress_bar\u001b[49m\u001b[43m,\u001b[49m\n\u001b[32m    500\u001b[39m \u001b[43m    \u001b[49m\u001b[43m)\u001b[49m\n",
      "\u001b[36mFile \u001b[39m\u001b[32md:\\tech_triathlon_datathon\\venv\\Lib\\site-packages\\optuna\\study\\_optimize.py:63\u001b[39m, in \u001b[36m_optimize\u001b[39m\u001b[34m(study, func, n_trials, timeout, n_jobs, catch, callbacks, gc_after_trial, show_progress_bar)\u001b[39m\n\u001b[32m     61\u001b[39m \u001b[38;5;28;01mtry\u001b[39;00m:\n\u001b[32m     62\u001b[39m     \u001b[38;5;28;01mif\u001b[39;00m n_jobs == \u001b[32m1\u001b[39m:\n\u001b[32m---> \u001b[39m\u001b[32m63\u001b[39m         \u001b[43m_optimize_sequential\u001b[49m\u001b[43m(\u001b[49m\n\u001b[32m     64\u001b[39m \u001b[43m            \u001b[49m\u001b[43mstudy\u001b[49m\u001b[43m,\u001b[49m\n\u001b[32m     65\u001b[39m \u001b[43m            \u001b[49m\u001b[43mfunc\u001b[49m\u001b[43m,\u001b[49m\n\u001b[32m     66\u001b[39m \u001b[43m            \u001b[49m\u001b[43mn_trials\u001b[49m\u001b[43m,\u001b[49m\n\u001b[32m     67\u001b[39m \u001b[43m            \u001b[49m\u001b[43mtimeout\u001b[49m\u001b[43m,\u001b[49m\n\u001b[32m     68\u001b[39m \u001b[43m            \u001b[49m\u001b[43mcatch\u001b[49m\u001b[43m,\u001b[49m\n\u001b[32m     69\u001b[39m \u001b[43m            \u001b[49m\u001b[43mcallbacks\u001b[49m\u001b[43m,\u001b[49m\n\u001b[32m     70\u001b[39m \u001b[43m            \u001b[49m\u001b[43mgc_after_trial\u001b[49m\u001b[43m,\u001b[49m\n\u001b[32m     71\u001b[39m \u001b[43m            \u001b[49m\u001b[43mreseed_sampler_rng\u001b[49m\u001b[43m=\u001b[49m\u001b[38;5;28;43;01mFalse\u001b[39;49;00m\u001b[43m,\u001b[49m\n\u001b[32m     72\u001b[39m \u001b[43m            \u001b[49m\u001b[43mtime_start\u001b[49m\u001b[43m=\u001b[49m\u001b[38;5;28;43;01mNone\u001b[39;49;00m\u001b[43m,\u001b[49m\n\u001b[32m     73\u001b[39m \u001b[43m            \u001b[49m\u001b[43mprogress_bar\u001b[49m\u001b[43m=\u001b[49m\u001b[43mprogress_bar\u001b[49m\u001b[43m,\u001b[49m\n\u001b[32m     74\u001b[39m \u001b[43m        \u001b[49m\u001b[43m)\u001b[49m\n\u001b[32m     75\u001b[39m     \u001b[38;5;28;01melse\u001b[39;00m:\n\u001b[32m     76\u001b[39m         \u001b[38;5;28;01mif\u001b[39;00m n_jobs == -\u001b[32m1\u001b[39m:\n",
      "\u001b[36mFile \u001b[39m\u001b[32md:\\tech_triathlon_datathon\\venv\\Lib\\site-packages\\optuna\\study\\_optimize.py:160\u001b[39m, in \u001b[36m_optimize_sequential\u001b[39m\u001b[34m(study, func, n_trials, timeout, catch, callbacks, gc_after_trial, reseed_sampler_rng, time_start, progress_bar)\u001b[39m\n\u001b[32m    157\u001b[39m         \u001b[38;5;28;01mbreak\u001b[39;00m\n\u001b[32m    159\u001b[39m \u001b[38;5;28;01mtry\u001b[39;00m:\n\u001b[32m--> \u001b[39m\u001b[32m160\u001b[39m     frozen_trial_id = \u001b[43m_run_trial\u001b[49m\u001b[43m(\u001b[49m\u001b[43mstudy\u001b[49m\u001b[43m,\u001b[49m\u001b[43m \u001b[49m\u001b[43mfunc\u001b[49m\u001b[43m,\u001b[49m\u001b[43m \u001b[49m\u001b[43mcatch\u001b[49m\u001b[43m)\u001b[49m\n\u001b[32m    161\u001b[39m \u001b[38;5;28;01mfinally\u001b[39;00m:\n\u001b[32m    162\u001b[39m     \u001b[38;5;66;03m# The following line mitigates memory problems that can be occurred in some\u001b[39;00m\n\u001b[32m    163\u001b[39m     \u001b[38;5;66;03m# environments (e.g., services that use computing containers such as GitHub Actions).\u001b[39;00m\n\u001b[32m    164\u001b[39m     \u001b[38;5;66;03m# Please refer to the following PR for further details:\u001b[39;00m\n\u001b[32m    165\u001b[39m     \u001b[38;5;66;03m# https://github.com/optuna/optuna/pull/325.\u001b[39;00m\n\u001b[32m    166\u001b[39m     \u001b[38;5;28;01mif\u001b[39;00m gc_after_trial:\n",
      "\u001b[36mFile \u001b[39m\u001b[32md:\\tech_triathlon_datathon\\venv\\Lib\\site-packages\\optuna\\study\\_optimize.py:258\u001b[39m, in \u001b[36m_run_trial\u001b[39m\u001b[34m(study, func, catch)\u001b[39m\n\u001b[32m    251\u001b[39m         \u001b[38;5;28;01massert\u001b[39;00m \u001b[38;5;28;01mFalse\u001b[39;00m, \u001b[33m\"\u001b[39m\u001b[33mShould not reach.\u001b[39m\u001b[33m\"\u001b[39m\n\u001b[32m    253\u001b[39m \u001b[38;5;28;01mif\u001b[39;00m (\n\u001b[32m    254\u001b[39m     updated_state == TrialState.FAIL\n\u001b[32m    255\u001b[39m     \u001b[38;5;129;01mand\u001b[39;00m func_err \u001b[38;5;129;01mis\u001b[39;00m \u001b[38;5;129;01mnot\u001b[39;00m \u001b[38;5;28;01mNone\u001b[39;00m\n\u001b[32m    256\u001b[39m     \u001b[38;5;129;01mand\u001b[39;00m \u001b[38;5;129;01mnot\u001b[39;00m \u001b[38;5;28misinstance\u001b[39m(func_err, catch)\n\u001b[32m    257\u001b[39m ):\n\u001b[32m--> \u001b[39m\u001b[32m258\u001b[39m     \u001b[38;5;28;01mraise\u001b[39;00m func_err\n\u001b[32m    259\u001b[39m \u001b[38;5;28;01mreturn\u001b[39;00m trial._trial_id\n",
      "\u001b[36mFile \u001b[39m\u001b[32md:\\tech_triathlon_datathon\\venv\\Lib\\site-packages\\optuna\\study\\_optimize.py:201\u001b[39m, in \u001b[36m_run_trial\u001b[39m\u001b[34m(study, func, catch)\u001b[39m\n\u001b[32m    199\u001b[39m \u001b[38;5;28;01mwith\u001b[39;00m get_heartbeat_thread(trial._trial_id, study._storage):\n\u001b[32m    200\u001b[39m     \u001b[38;5;28;01mtry\u001b[39;00m:\n\u001b[32m--> \u001b[39m\u001b[32m201\u001b[39m         value_or_values = \u001b[43mfunc\u001b[49m\u001b[43m(\u001b[49m\u001b[43mtrial\u001b[49m\u001b[43m)\u001b[49m\n\u001b[32m    202\u001b[39m     \u001b[38;5;28;01mexcept\u001b[39;00m exceptions.TrialPruned \u001b[38;5;28;01mas\u001b[39;00m e:\n\u001b[32m    203\u001b[39m         \u001b[38;5;66;03m# TODO(mamu): Handle multi-objective cases.\u001b[39;00m\n\u001b[32m    204\u001b[39m         state = TrialState.PRUNED\n",
      "\u001b[36mCell\u001b[39m\u001b[36m \u001b[39m\u001b[32mIn[12]\u001b[39m\u001b[32m, line 58\u001b[39m, in \u001b[36mtune_prophet.<locals>.objective\u001b[39m\u001b[34m(trial)\u001b[39m\n\u001b[32m     55\u001b[39m model.fit(df[[\u001b[33m'\u001b[39m\u001b[33mds\u001b[39m\u001b[33m'\u001b[39m,\u001b[33m'\u001b[39m\u001b[33my\u001b[39m\u001b[33m'\u001b[39m,\u001b[33m'\u001b[39m\u001b[33mis_weekend\u001b[39m\u001b[33m'\u001b[39m,\u001b[33m'\u001b[39m\u001b[33mis_holiday\u001b[39m\u001b[33m'\u001b[39m]])\n\u001b[32m     57\u001b[39m \u001b[38;5;66;03m# Cross-validation on last 90 days, initial window increased to 730 days\u001b[39;00m\n\u001b[32m---> \u001b[39m\u001b[32m58\u001b[39m df_cv = \u001b[43mcross_validation\u001b[49m\u001b[43m(\u001b[49m\u001b[43mmodel\u001b[49m\u001b[43m,\u001b[49m\u001b[43m \u001b[49m\u001b[43mhorizon\u001b[49m\u001b[43m=\u001b[49m\u001b[33;43m'\u001b[39;49m\u001b[33;43m90 days\u001b[39;49m\u001b[33;43m'\u001b[39;49m\u001b[43m,\u001b[49m\u001b[43m \u001b[49m\u001b[43mperiod\u001b[49m\u001b[43m=\u001b[49m\u001b[33;43m'\u001b[39;49m\u001b[33;43m30 days\u001b[39;49m\u001b[33;43m'\u001b[39;49m\u001b[43m,\u001b[49m\u001b[43m \u001b[49m\u001b[43minitial\u001b[49m\u001b[43m=\u001b[49m\u001b[33;43m'\u001b[39;49m\u001b[33;43m730 days\u001b[39;49m\u001b[33;43m'\u001b[39;49m\u001b[43m,\u001b[49m\u001b[43m \u001b[49m\u001b[43mparallel\u001b[49m\u001b[43m=\u001b[49m\u001b[33;43m\"\u001b[39;49m\u001b[33;43mprocesses\u001b[39;49m\u001b[33;43m\"\u001b[39;49m\u001b[43m)\u001b[49m\n\u001b[32m     59\u001b[39m df_p = performance_metrics(df_cv, rolling_window=\u001b[32m0.1\u001b[39m)\n\u001b[32m     60\u001b[39m \u001b[38;5;28;01mreturn\u001b[39;00m df_p[\u001b[33m'\u001b[39m\u001b[33mmae\u001b[39m\u001b[33m'\u001b[39m].values[\u001b[32m0\u001b[39m]\n",
      "\u001b[36mFile \u001b[39m\u001b[32md:\\tech_triathlon_datathon\\venv\\Lib\\site-packages\\prophet\\diagnostics.py:212\u001b[39m, in \u001b[36mcross_validation\u001b[39m\u001b[34m(model, horizon, period, initial, parallel, cutoffs, disable_tqdm, extra_output_columns)\u001b[39m\n\u001b[32m    206\u001b[39m     predicts = [\n\u001b[32m    207\u001b[39m         single_cutoff_forecast(df, model, cutoff, horizon, predict_columns) \n\u001b[32m    208\u001b[39m         \u001b[38;5;28;01mfor\u001b[39;00m cutoff \u001b[38;5;129;01min\u001b[39;00m (tqdm(cutoffs) \u001b[38;5;28;01mif\u001b[39;00m \u001b[38;5;129;01mnot\u001b[39;00m disable_tqdm \u001b[38;5;28;01melse\u001b[39;00m cutoffs)\n\u001b[32m    209\u001b[39m     ]\n\u001b[32m    211\u001b[39m \u001b[38;5;66;03m# Combine all predicted pd.DataFrame into one pd.DataFrame\u001b[39;00m\n\u001b[32m--> \u001b[39m\u001b[32m212\u001b[39m \u001b[38;5;28;01mreturn\u001b[39;00m \u001b[43mpd\u001b[49m\u001b[43m.\u001b[49m\u001b[43mconcat\u001b[49m\u001b[43m(\u001b[49m\u001b[43mpredicts\u001b[49m\u001b[43m,\u001b[49m\u001b[43m \u001b[49m\u001b[43maxis\u001b[49m\u001b[43m=\u001b[49m\u001b[32;43m0\u001b[39;49m\u001b[43m)\u001b[49m.reset_index(drop=\u001b[38;5;28;01mTrue\u001b[39;00m)\n",
      "\u001b[36mFile \u001b[39m\u001b[32md:\\tech_triathlon_datathon\\venv\\Lib\\site-packages\\pandas\\core\\reshape\\concat.py:382\u001b[39m, in \u001b[36mconcat\u001b[39m\u001b[34m(objs, axis, join, ignore_index, keys, levels, names, verify_integrity, sort, copy)\u001b[39m\n\u001b[32m    379\u001b[39m \u001b[38;5;28;01melif\u001b[39;00m copy \u001b[38;5;129;01mand\u001b[39;00m using_copy_on_write():\n\u001b[32m    380\u001b[39m     copy = \u001b[38;5;28;01mFalse\u001b[39;00m\n\u001b[32m--> \u001b[39m\u001b[32m382\u001b[39m op = \u001b[43m_Concatenator\u001b[49m\u001b[43m(\u001b[49m\n\u001b[32m    383\u001b[39m \u001b[43m    \u001b[49m\u001b[43mobjs\u001b[49m\u001b[43m,\u001b[49m\n\u001b[32m    384\u001b[39m \u001b[43m    \u001b[49m\u001b[43maxis\u001b[49m\u001b[43m=\u001b[49m\u001b[43maxis\u001b[49m\u001b[43m,\u001b[49m\n\u001b[32m    385\u001b[39m \u001b[43m    \u001b[49m\u001b[43mignore_index\u001b[49m\u001b[43m=\u001b[49m\u001b[43mignore_index\u001b[49m\u001b[43m,\u001b[49m\n\u001b[32m    386\u001b[39m \u001b[43m    \u001b[49m\u001b[43mjoin\u001b[49m\u001b[43m=\u001b[49m\u001b[43mjoin\u001b[49m\u001b[43m,\u001b[49m\n\u001b[32m    387\u001b[39m \u001b[43m    \u001b[49m\u001b[43mkeys\u001b[49m\u001b[43m=\u001b[49m\u001b[43mkeys\u001b[49m\u001b[43m,\u001b[49m\n\u001b[32m    388\u001b[39m \u001b[43m    \u001b[49m\u001b[43mlevels\u001b[49m\u001b[43m=\u001b[49m\u001b[43mlevels\u001b[49m\u001b[43m,\u001b[49m\n\u001b[32m    389\u001b[39m \u001b[43m    \u001b[49m\u001b[43mnames\u001b[49m\u001b[43m=\u001b[49m\u001b[43mnames\u001b[49m\u001b[43m,\u001b[49m\n\u001b[32m    390\u001b[39m \u001b[43m    \u001b[49m\u001b[43mverify_integrity\u001b[49m\u001b[43m=\u001b[49m\u001b[43mverify_integrity\u001b[49m\u001b[43m,\u001b[49m\n\u001b[32m    391\u001b[39m \u001b[43m    \u001b[49m\u001b[43mcopy\u001b[49m\u001b[43m=\u001b[49m\u001b[43mcopy\u001b[49m\u001b[43m,\u001b[49m\n\u001b[32m    392\u001b[39m \u001b[43m    \u001b[49m\u001b[43msort\u001b[49m\u001b[43m=\u001b[49m\u001b[43msort\u001b[49m\u001b[43m,\u001b[49m\n\u001b[32m    393\u001b[39m \u001b[43m\u001b[49m\u001b[43m)\u001b[49m\n\u001b[32m    395\u001b[39m \u001b[38;5;28;01mreturn\u001b[39;00m op.get_result()\n",
      "\u001b[36mFile \u001b[39m\u001b[32md:\\tech_triathlon_datathon\\venv\\Lib\\site-packages\\pandas\\core\\reshape\\concat.py:445\u001b[39m, in \u001b[36m_Concatenator.__init__\u001b[39m\u001b[34m(self, objs, axis, join, keys, levels, names, ignore_index, verify_integrity, copy, sort)\u001b[39m\n\u001b[32m    442\u001b[39m \u001b[38;5;28mself\u001b[39m.verify_integrity = verify_integrity\n\u001b[32m    443\u001b[39m \u001b[38;5;28mself\u001b[39m.copy = copy\n\u001b[32m--> \u001b[39m\u001b[32m445\u001b[39m objs, keys = \u001b[38;5;28;43mself\u001b[39;49m\u001b[43m.\u001b[49m\u001b[43m_clean_keys_and_objs\u001b[49m\u001b[43m(\u001b[49m\u001b[43mobjs\u001b[49m\u001b[43m,\u001b[49m\u001b[43m \u001b[49m\u001b[43mkeys\u001b[49m\u001b[43m)\u001b[49m\n\u001b[32m    447\u001b[39m \u001b[38;5;66;03m# figure out what our result ndim is going to be\u001b[39;00m\n\u001b[32m    448\u001b[39m ndims = \u001b[38;5;28mself\u001b[39m._get_ndims(objs)\n",
      "\u001b[36mFile \u001b[39m\u001b[32md:\\tech_triathlon_datathon\\venv\\Lib\\site-packages\\pandas\\core\\reshape\\concat.py:504\u001b[39m, in \u001b[36m_Concatenator._clean_keys_and_objs\u001b[39m\u001b[34m(self, objs, keys)\u001b[39m\n\u001b[32m    502\u001b[39m     objs_list = [objs[k] \u001b[38;5;28;01mfor\u001b[39;00m k \u001b[38;5;129;01min\u001b[39;00m keys]\n\u001b[32m    503\u001b[39m \u001b[38;5;28;01melse\u001b[39;00m:\n\u001b[32m--> \u001b[39m\u001b[32m504\u001b[39m     objs_list = \u001b[38;5;28;43mlist\u001b[39;49m\u001b[43m(\u001b[49m\u001b[43mobjs\u001b[49m\u001b[43m)\u001b[49m\n\u001b[32m    506\u001b[39m \u001b[38;5;28;01mif\u001b[39;00m \u001b[38;5;28mlen\u001b[39m(objs_list) == \u001b[32m0\u001b[39m:\n\u001b[32m    507\u001b[39m     \u001b[38;5;28;01mraise\u001b[39;00m \u001b[38;5;167;01mValueError\u001b[39;00m(\u001b[33m\"\u001b[39m\u001b[33mNo objects to concatenate\u001b[39m\u001b[33m\"\u001b[39m)\n",
      "\u001b[36mFile \u001b[39m\u001b[32m~\\anaconda3\\Lib\\concurrent\\futures\\process.py:642\u001b[39m, in \u001b[36m_chain_from_iterable_of_lists\u001b[39m\u001b[34m(iterable)\u001b[39m\n\u001b[32m    636\u001b[39m \u001b[38;5;28;01mdef\u001b[39;00m\u001b[38;5;250m \u001b[39m\u001b[34m_chain_from_iterable_of_lists\u001b[39m(iterable):\n\u001b[32m    637\u001b[39m \u001b[38;5;250m    \u001b[39m\u001b[33;03m\"\"\"\u001b[39;00m\n\u001b[32m    638\u001b[39m \u001b[33;03m    Specialized implementation of itertools.chain.from_iterable.\u001b[39;00m\n\u001b[32m    639\u001b[39m \u001b[33;03m    Each item in *iterable* should be a list.  This function is\u001b[39;00m\n\u001b[32m    640\u001b[39m \u001b[33;03m    careful not to keep references to yielded objects.\u001b[39;00m\n\u001b[32m    641\u001b[39m \u001b[33;03m    \"\"\"\u001b[39;00m\n\u001b[32m--> \u001b[39m\u001b[32m642\u001b[39m \u001b[43m    \u001b[49m\u001b[38;5;28;43;01mfor\u001b[39;49;00m\u001b[43m \u001b[49m\u001b[43melement\u001b[49m\u001b[43m \u001b[49m\u001b[38;5;129;43;01min\u001b[39;49;00m\u001b[43m \u001b[49m\u001b[43miterable\u001b[49m\u001b[43m:\u001b[49m\n\u001b[32m    643\u001b[39m \u001b[43m        \u001b[49m\u001b[43melement\u001b[49m\u001b[43m.\u001b[49m\u001b[43mreverse\u001b[49m\u001b[43m(\u001b[49m\u001b[43m)\u001b[49m\n\u001b[32m    644\u001b[39m \u001b[43m        \u001b[49m\u001b[38;5;28;43;01mwhile\u001b[39;49;00m\u001b[43m \u001b[49m\u001b[43melement\u001b[49m\u001b[43m:\u001b[49m\n",
      "\u001b[36mFile \u001b[39m\u001b[32m~\\anaconda3\\Lib\\concurrent\\futures\\_base.py:619\u001b[39m, in \u001b[36mExecutor.map.<locals>.result_iterator\u001b[39m\u001b[34m()\u001b[39m\n\u001b[32m    616\u001b[39m \u001b[38;5;28;01mwhile\u001b[39;00m fs:\n\u001b[32m    617\u001b[39m     \u001b[38;5;66;03m# Careful not to keep a reference to the popped future\u001b[39;00m\n\u001b[32m    618\u001b[39m     \u001b[38;5;28;01mif\u001b[39;00m timeout \u001b[38;5;129;01mis\u001b[39;00m \u001b[38;5;28;01mNone\u001b[39;00m:\n\u001b[32m--> \u001b[39m\u001b[32m619\u001b[39m         \u001b[38;5;28;01myield\u001b[39;00m \u001b[43m_result_or_cancel\u001b[49m\u001b[43m(\u001b[49m\u001b[43mfs\u001b[49m\u001b[43m.\u001b[49m\u001b[43mpop\u001b[49m\u001b[43m(\u001b[49m\u001b[43m)\u001b[49m\u001b[43m)\u001b[49m\n\u001b[32m    620\u001b[39m     \u001b[38;5;28;01melse\u001b[39;00m:\n\u001b[32m    621\u001b[39m         \u001b[38;5;28;01myield\u001b[39;00m _result_or_cancel(fs.pop(), end_time - time.monotonic())\n",
      "\u001b[36mFile \u001b[39m\u001b[32m~\\anaconda3\\Lib\\concurrent\\futures\\_base.py:317\u001b[39m, in \u001b[36m_result_or_cancel\u001b[39m\u001b[34m(***failed resolving arguments***)\u001b[39m\n\u001b[32m    315\u001b[39m \u001b[38;5;28;01mtry\u001b[39;00m:\n\u001b[32m    316\u001b[39m     \u001b[38;5;28;01mtry\u001b[39;00m:\n\u001b[32m--> \u001b[39m\u001b[32m317\u001b[39m         \u001b[38;5;28;01mreturn\u001b[39;00m \u001b[43mfut\u001b[49m\u001b[43m.\u001b[49m\u001b[43mresult\u001b[49m\u001b[43m(\u001b[49m\u001b[43mtimeout\u001b[49m\u001b[43m)\u001b[49m\n\u001b[32m    318\u001b[39m     \u001b[38;5;28;01mfinally\u001b[39;00m:\n\u001b[32m    319\u001b[39m         fut.cancel()\n",
      "\u001b[36mFile \u001b[39m\u001b[32m~\\anaconda3\\Lib\\concurrent\\futures\\_base.py:456\u001b[39m, in \u001b[36mFuture.result\u001b[39m\u001b[34m(self, timeout)\u001b[39m\n\u001b[32m    454\u001b[39m     \u001b[38;5;28;01mraise\u001b[39;00m CancelledError()\n\u001b[32m    455\u001b[39m \u001b[38;5;28;01melif\u001b[39;00m \u001b[38;5;28mself\u001b[39m._state == FINISHED:\n\u001b[32m--> \u001b[39m\u001b[32m456\u001b[39m     \u001b[38;5;28;01mreturn\u001b[39;00m \u001b[38;5;28;43mself\u001b[39;49m\u001b[43m.\u001b[49m\u001b[43m__get_result\u001b[49m\u001b[43m(\u001b[49m\u001b[43m)\u001b[49m\n\u001b[32m    457\u001b[39m \u001b[38;5;28;01melse\u001b[39;00m:\n\u001b[32m    458\u001b[39m     \u001b[38;5;28;01mraise\u001b[39;00m \u001b[38;5;167;01mTimeoutError\u001b[39;00m()\n",
      "\u001b[36mFile \u001b[39m\u001b[32m~\\anaconda3\\Lib\\concurrent\\futures\\_base.py:401\u001b[39m, in \u001b[36mFuture.__get_result\u001b[39m\u001b[34m(self)\u001b[39m\n\u001b[32m    399\u001b[39m \u001b[38;5;28;01mif\u001b[39;00m \u001b[38;5;28mself\u001b[39m._exception:\n\u001b[32m    400\u001b[39m     \u001b[38;5;28;01mtry\u001b[39;00m:\n\u001b[32m--> \u001b[39m\u001b[32m401\u001b[39m         \u001b[38;5;28;01mraise\u001b[39;00m \u001b[38;5;28mself\u001b[39m._exception\n\u001b[32m    402\u001b[39m     \u001b[38;5;28;01mfinally\u001b[39;00m:\n\u001b[32m    403\u001b[39m         \u001b[38;5;66;03m# Break a reference cycle with the exception in self._exception\u001b[39;00m\n\u001b[32m    404\u001b[39m         \u001b[38;5;28mself\u001b[39m = \u001b[38;5;28;01mNone\u001b[39;00m\n",
      "\u001b[31mUnboundLocalError\u001b[39m: cannot access local variable 'fd_out' where it is not associated with a value"
     ]
    }
   ],
   "source": [
    "# ===============================\n",
    "# 1️⃣ IMPORTS\n",
    "# ===============================\n",
    "import pandas as pd\n",
    "import numpy as np\n",
    "from prophet import Prophet\n",
    "from prophet.diagnostics import performance_metrics\n",
    "from prophet.diagnostics import cross_validation\n",
    "import matplotlib.pyplot as plt\n",
    "import seaborn as sns\n",
    "import optuna\n",
    "\n",
    "# ===============================\n",
    "# 2️⃣ LOAD DATA\n",
    "# ===============================\n",
    "df = pd.read_csv(\"final_df_binary.csv\", parse_dates=['date'])\n",
    "df = df.sort_values(['section_id', 'date']).reset_index(drop=True)\n",
    "\n",
    "# ===============================\n",
    "# 3️⃣ TRAIN/TEST SPLIT\n",
    "# ===============================\n",
    "train_df = df[df['date'].dt.year <= 2023].copy()\n",
    "test_df = df[df['date'].dt.year == 2024].copy()\n",
    "\n",
    "# ===============================\n",
    "# 4️⃣ SECTION LIST\n",
    "# ===============================\n",
    "sections = df['section_id'].unique()\n",
    "\n",
    "# ===============================\n",
    "# 5️⃣ FUNCTION TO TUNE PROPHET HYPERPARAMS WITH OPTUNA\n",
    "# ===============================\n",
    "def tune_prophet(train_section_df):\n",
    "    section_id = train_section_df['section_id'].iloc[0] if 'section_id' in train_section_df.columns else 'Unknown'\n",
    "    print(f\"[Optuna] Tuning section: {section_id}\")\n",
    "    def objective(trial):\n",
    "        # Ensure correct columns for Prophet\n",
    "        df = train_section_df.rename(columns={'date': 'ds', 'total_task_time_minutes': 'y'})\n",
    "        changepoint_prior_scale = trial.suggest_float('changepoint_prior_scale', 0.0001, 0.5, log=True)\n",
    "        seasonality_prior_scale = trial.suggest_float('seasonality_prior_scale', 0.01, 31.0, log=True)\n",
    "        holidays_prior_scale = trial.suggest_float('holidays_prior_scale', 0.01, 31.0, log=True)\n",
    "        \n",
    "        model = Prophet(\n",
    "            yearly_seasonality=True,\n",
    "            weekly_seasonality=True,\n",
    "            daily_seasonality=True,\n",
    "            changepoint_prior_scale=changepoint_prior_scale,\n",
    "            seasonality_prior_scale=seasonality_prior_scale,\n",
    "            holidays_prior_scale=holidays_prior_scale\n",
    "        )\n",
    "        # Add regressors\n",
    "        model.add_regressor('is_weekend')\n",
    "        model.add_regressor('is_holiday')\n",
    "        \n",
    "        model.fit(df[['ds','y','is_weekend','is_holiday']])\n",
    "        \n",
    "        # Cross-validation on last 90 days, initial window increased to 730 days\n",
    "        df_cv = cross_validation(model, horizon='90 days', period='30 days', initial='730 days', parallel=\"processes\")\n",
    "        df_p = performance_metrics(df_cv, rolling_window=0.1)\n",
    "        return df_p['mae'].values[0]  # Minimize MAE\n",
    "    \n",
    "    study = optuna.create_study(direction='minimize')\n",
    "    study.optimize(objective, n_trials=40, show_progress_bar=True)\n",
    "    return study.best_params\n",
    "\n",
    "# ===============================\n",
    "# 6️⃣ SECTION-WISE MODELING\n",
    "# ===============================\n",
    "results_dict = {}\n",
    "stats_dict = {}\n",
    "\n",
    "for sec in sections:\n",
    "    print(f\"[Main Loop] Now tuning section: {sec}\")\n",
    "    # Prepare data\n",
    "    train_sec = train_df[train_df['section_id']==sec].copy()\n",
    "    test_sec = test_df[test_df['section_id']==sec].copy()\n",
    "    # Prophet format (rename columns before passing to tune_prophet)\n",
    "    train_sec = train_sec.rename(columns={'date':'ds', 'total_task_time_minutes':'y'})\n",
    "    test_sec = test_sec.rename(columns={'date':'ds', 'total_task_time_minutes':'y'})\n",
    "\n",
    "    # Tune hyperparameters\n",
    "    best_params = tune_prophet(train_sec)\n",
    "    print(f\"{sec} best params:\", best_params)\n",
    "    \n",
    "    # Fit final model\n",
    "    model = Prophet(\n",
    "        yearly_seasonality=True,\n",
    "        weekly_seasonality=True,\n",
    "        daily_seasonality=False,\n",
    "        changepoint_prior_scale=best_params['changepoint_prior_scale'],\n",
    "        seasonality_prior_scale=best_params['seasonality_prior_scale'],\n",
    "        holidays_prior_scale=best_params['holidays_prior_scale']\n",
    "    )\n",
    "    model.add_regressor('is_weekend')\n",
    "    model.add_regressor('is_holiday')\n",
    "    model.fit(train_sec[['ds','y','is_weekend','is_holiday']])\n",
    "    \n",
    "    # Predict 2024\n",
    "    forecast = model.predict(test_sec[['ds','is_weekend','is_holiday']])\n",
    "    test_sec['predicted_task_minutes'] = forecast['yhat'].values\n",
    "    test_sec['error'] = test_sec['y'] - test_sec['predicted_task_minutes']\n",
    "    \n",
    "    # Save section DataFrame\n",
    "    results_dict[sec] = test_sec[['ds','is_weekend','is_holiday','y','predicted_task_minutes','error']].rename(\n",
    "        columns={'ds':'date','y':'actual_task_minutes'}\n",
    "    )\n",
    "    \n",
    "    # Section-wise stats\n",
    "    train_stats = {\n",
    "        'mean_minutes': train_sec['y'].mean(),\n",
    "        'mode_minutes': train_sec['y'].mode()[0],\n",
    "        'max_minutes': train_sec['y'].max(),\n",
    "        'median_minutes': train_sec['y'].median(),\n",
    "        'abs_error_mean': np.nan  # placeholder\n",
    "    }\n",
    "    test_stats = {\n",
    "        'mean_minutes': test_sec['y'].mean(),\n",
    "        'mode_minutes': test_sec['y'].mode()[0],\n",
    "        'max_minutes': test_sec['y'].max(),\n",
    "        'median_minutes': test_sec['y'].median(),\n",
    "        'abs_error_mean': test_sec['error'].abs().mean()\n",
    "    }\n",
    "    stats_dict[sec] = {'train': train_stats, 'test': test_stats}\n",
    "\n",
    "# ===============================\n",
    "# 7️⃣ VISUALIZATIONS SECTION-WISE\n",
    "# ===============================\n",
    "for sec in sections:\n",
    "    df_plot = results_dict[sec]\n",
    "    plt.figure(figsize=(10,6))\n",
    "    sns.scatterplot(x='actual_task_minutes', y='predicted_task_minutes', alpha=0.7)\n",
    "    plt.plot([0, df_plot['actual_task_minutes'].max()],\n",
    "             [0, df_plot['actual_task_minutes'].max()],\n",
    "             'r--', linewidth=2)\n",
    "    plt.title(f\"{sec} Actual vs Predicted Task Minutes (2024)\")\n",
    "    plt.xlabel(\"Actual\")\n",
    "    plt.ylabel(\"Predicted\")\n",
    "    plt.show()\n",
    "    \n",
    "    plt.figure(figsize=(12,5))\n",
    "    plt.plot(df_plot['date'], df_plot['actual_task_minutes'], label='Actual')\n",
    "    plt.plot(df_plot['date'], df_plot['predicted_task_minutes'], label='Predicted')\n",
    "    plt.title(f\"{sec} Time Series Plot 2024\")\n",
    "    plt.xlabel(\"Date\")\n",
    "    plt.ylabel(\"Task Minutes\")\n",
    "    plt.legend()\n",
    "    plt.show()\n",
    "\n",
    "# ===============================\n",
    "# 8️⃣ RESULTS\n",
    "# ===============================\n",
    "# results_dict contains six DataFrames, one per section\n",
    "# stats_dict contains section-wise stats for train and test\n"
   ]
  },
  {
   "cell_type": "code",
   "execution_count": null,
   "id": "a0964f4d",
   "metadata": {},
   "outputs": [],
   "source": []
  }
 ],
 "metadata": {
  "kernelspec": {
   "display_name": "venv",
   "language": "python",
   "name": "python3"
  },
  "language_info": {
   "codemirror_mode": {
    "name": "ipython",
    "version": 3
   },
   "file_extension": ".py",
   "mimetype": "text/x-python",
   "name": "python",
   "nbconvert_exporter": "python",
   "pygments_lexer": "ipython3",
   "version": "3.12.4"
  }
 },
 "nbformat": 4,
 "nbformat_minor": 5
}

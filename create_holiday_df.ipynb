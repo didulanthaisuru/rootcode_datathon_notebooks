{
 "cells": [
  {
   "cell_type": "code",
   "execution_count": 1,
   "id": "090d0682",
   "metadata": {},
   "outputs": [],
   "source": [
    "import holidays"
   ]
  },
  {
   "cell_type": "code",
   "execution_count": 2,
   "id": "2cc496c4",
   "metadata": {},
   "outputs": [],
   "source": [
    "years=[2021,2022,2023,2024,2025]"
   ]
  },
  {
   "cell_type": "code",
   "execution_count": 3,
   "id": "36c6712f",
   "metadata": {},
   "outputs": [],
   "source": [
    "sl_holidays = holidays.SriLanka(years=years)"
   ]
  },
  {
   "cell_type": "code",
   "execution_count": 4,
   "id": "1e1926b8",
   "metadata": {},
   "outputs": [
    {
     "name": "stdout",
     "output_type": "stream",
     "text": [
      "{datetime.date(2021, 1, 14): 'දෙමළ තෛපොංැලල් දිනය', datetime.date(2021, 2, 4): 'නිදහස් සමරු දිනය', datetime.date(2021, 4, 14): 'සිංහල හා දෙමළ අලුත් අවුරුදු දිනය', datetime.date(2021, 4, 13): 'සිංහල හා දෙමළ අලුත් අවුරුදු දිනට පෙර දිනය', datetime.date(2021, 5, 1): 'ලොක කම්කරු දිනය', datetime.date(2021, 3, 11): 'මහ සිවරාත්රි දිනය', datetime.date(2021, 11, 4): 'දීපවාලි උත්සව දිනය', datetime.date(2021, 4, 2): 'මහ සිකුරාදා දිනය', datetime.date(2021, 12, 25): 'නත්තල් උත්සව දිනය', datetime.date(2021, 1, 28): 'දුරුතු පුර පසළොස්වක පෝය දිනය', datetime.date(2021, 2, 26): 'නවම් පුර පසළොස්වක පෝය දිනය', datetime.date(2021, 3, 28): 'මැදින් පුර පසළොස්වක පෝය දිනය', datetime.date(2021, 4, 26): 'බක් පුර පසළොස්වක පෝය දිනය', datetime.date(2021, 5, 26): 'වෙසක් පුර පසළොස්වක පෝය දිනය', datetime.date(2021, 5, 27): 'වෙසක් පුර පසළොස්වක පෝය දිනට පසු දිනය', datetime.date(2021, 6, 24): 'පොසොන් පුර පසළොස්වක පෝය දිනය', datetime.date(2021, 7, 23): 'ඇසල පුර පසළොස්වක පෝය දිනය', datetime.date(2021, 8, 22): 'නිකිණි පුර පසළොස්වක පෝය දිනය', datetime.date(2021, 9, 20): 'බිනර පුර පසළොස්වක පෝය දිනය', datetime.date(2021, 10, 20): 'වප් පුර පසළොස්වක පෝය දිනය', datetime.date(2021, 11, 18): 'ඉල් පුර පසළොස්වක පෝය දිනය', datetime.date(2021, 12, 18): 'උඳුවප් පුර පසළොස්වක පෝය දිනය', datetime.date(2021, 5, 14): 'ඊදුල් ෆීතර්', datetime.date(2021, 7, 21): 'ඊදුල් අල්හා', datetime.date(2021, 10, 19): 'නබි නායකතුමාගේ උපන් දිනය', datetime.date(2022, 1, 14): 'දෙමළ තෛපොංැලල් දිනය', datetime.date(2022, 2, 4): 'නිදහස් සමරු දිනය', datetime.date(2022, 4, 14): 'සිංහල හා දෙමළ අලුත් අවුරුදු දිනය', datetime.date(2022, 4, 13): 'සිංහල හා දෙමළ අලුත් අවුරුදු දිනට පෙර දිනය', datetime.date(2022, 5, 1): 'ලොක කම්කරු දිනය', datetime.date(2022, 3, 1): 'මහ සිවරාත්රි දිනය', datetime.date(2022, 10, 24): 'දීපවාලි උත්සව දිනය', datetime.date(2022, 4, 15): 'මහ සිකුරාදා දිනය', datetime.date(2022, 12, 25): 'නත්තල් උත්සව දිනය', datetime.date(2022, 1, 17): 'දුරුතු පුර පසළොස්වක පෝය දිනය', datetime.date(2022, 2, 16): 'නවම් පුර පසළොස්වක පෝය දිනය', datetime.date(2022, 3, 17): 'මැදින් පුර පසළොස්වක පෝය දිනය', datetime.date(2022, 4, 16): 'බක් පුර පසළොස්වක පෝය දිනය', datetime.date(2022, 5, 15): 'වෙසක් පුර පසළොස්වක පෝය දිනය', datetime.date(2022, 5, 16): 'වෙසක් පුර පසළොස්වක පෝය දිනට පසු දිනය', datetime.date(2022, 6, 14): 'පොසොන් පුර පසළොස්වක පෝය දිනය', datetime.date(2022, 7, 13): 'ඇසල පුර පසළොස්වක පෝය දිනය', datetime.date(2022, 8, 11): 'නිකිණි පුර පසළොස්වක පෝය දිනය', datetime.date(2022, 9, 10): 'බිනර පුර පසළොස්වක පෝය දිනය', datetime.date(2022, 10, 9): 'නබි නායකතුමාගේ උපන් දිනය; වප් පුර පසළොස්වක පෝය දිනය', datetime.date(2022, 11, 7): 'ඉල් පුර පසළොස්වක පෝය දිනය', datetime.date(2022, 12, 7): 'උඳුවප් පුර පසළොස්වක පෝය දිනය', datetime.date(2022, 5, 3): 'ඊදුල් ෆීතර්', datetime.date(2022, 7, 10): 'ඊදුල් අල්හා', datetime.date(2022, 4, 11): 'විශේෂ රජයේ නිවාඩු දිනය', datetime.date(2022, 4, 12): 'විශේෂ රජයේ නිවාඩු දිනය', datetime.date(2022, 5, 2): 'විශේෂ රජයේ නිවාඩු දිනය', datetime.date(2023, 1, 15): 'දෙමළ තෛපොංැලල් දිනය', datetime.date(2023, 2, 4): 'නිදහස් සමරු දිනය', datetime.date(2023, 4, 14): 'සිංහල හා දෙමළ අලුත් අවුරුදු දිනය', datetime.date(2023, 4, 13): 'සිංහල හා දෙමළ අලුත් අවුරුදු දිනට පෙර දිනය', datetime.date(2023, 5, 1): 'ලොක කම්කරු දිනය', datetime.date(2023, 2, 18): 'මහ සිවරාත්රි දිනය', datetime.date(2023, 11, 12): 'දීපවාලි උත්සව දිනය', datetime.date(2023, 4, 7): 'මහ සිකුරාදා දිනය', datetime.date(2023, 12, 25): 'නත්තල් උත්සව දිනය', datetime.date(2023, 1, 6): 'දුරුතු පුර පසළොස්වක පෝය දිනය', datetime.date(2023, 2, 5): 'නවම් පුර පසළොස්වක පෝය දිනය', datetime.date(2023, 3, 6): 'මැදින් පුර පසළොස්වක පෝය දිනය', datetime.date(2023, 4, 5): 'බක් පුර පසළොස්වක පෝය දිනය', datetime.date(2023, 5, 5): 'වෙසක් පුර පසළොස්වක පෝය දිනය', datetime.date(2023, 5, 6): 'වෙසක් පුර පසළොස්වක පෝය දිනට පසු දිනය', datetime.date(2023, 6, 3): 'පොසොන් පුර පසළොස්වක පෝය දිනය', datetime.date(2023, 8, 1): 'ඇසල පුර පසළොස්වක පෝය දිනය', datetime.date(2023, 8, 30): 'නිකිණි පුර පසළොස්වක පෝය දිනය', datetime.date(2023, 9, 29): 'බිනර පුර පසළොස්වක පෝය දිනය', datetime.date(2023, 10, 28): 'වප් පුර පසළොස්වක පෝය දිනය', datetime.date(2023, 11, 26): 'ඉල් පුර පසළොස්වක පෝය දිනය', datetime.date(2023, 12, 26): 'උඳුවප් පුර පසළොස්වක පෝය දිනය', datetime.date(2023, 4, 22): 'ඊදුල් ෆීතර්', datetime.date(2023, 6, 29): 'ඊදුල් අල්හා', datetime.date(2023, 9, 28): 'නබි නායකතුමාගේ උපන් දිනය', datetime.date(2023, 7, 3): 'අධි ඇසල පුර පසළොස්වක පෝය දිනය', datetime.date(2024, 1, 15): 'දෙමළ තෛපොංැලල් දිනය', datetime.date(2024, 2, 4): 'නිදහස් සමරු දිනය', datetime.date(2024, 4, 13): 'සිංහල හා දෙමළ අලුත් අවුරුදු දිනය', datetime.date(2024, 4, 12): 'සිංහල හා දෙමළ අලුත් අවුරුදු දිනට පෙර දිනය', datetime.date(2024, 5, 1): 'ලොක කම්කරු දිනය', datetime.date(2024, 3, 8): 'මහ සිවරාත්රි දිනය', datetime.date(2024, 10, 31): 'දීපවාලි උත්සව දිනය', datetime.date(2024, 3, 29): 'මහ සිකුරාදා දිනය', datetime.date(2024, 12, 25): 'නත්තල් උත්සව දිනය', datetime.date(2024, 1, 25): 'දුරුතු පුර පසළොස්වක පෝය දිනය', datetime.date(2024, 2, 23): 'නවම් පුර පසළොස්වක පෝය දිනය', datetime.date(2024, 3, 24): 'මැදින් පුර පසළොස්වක පෝය දිනය', datetime.date(2024, 4, 23): 'බක් පුර පසළොස්වක පෝය දිනය', datetime.date(2024, 5, 23): 'වෙසක් පුර පසළොස්වක පෝය දිනය', datetime.date(2024, 5, 24): 'වෙසක් පුර පසළොස්වක පෝය දිනට පසු දිනය', datetime.date(2024, 6, 21): 'පොසොන් පුර පසළොස්වක පෝය දිනය', datetime.date(2024, 7, 20): 'ඇසල පුර පසළොස්වක පෝය දිනය', datetime.date(2024, 8, 19): 'නිකිණි පුර පසළොස්වක පෝය දිනය', datetime.date(2024, 9, 17): 'බිනර පුර පසළොස්වක පෝය දිනය', datetime.date(2024, 10, 17): 'වප් පුර පසළොස්වක පෝය දිනය', datetime.date(2024, 11, 15): 'ඉල් පුර පසළොස්වක පෝය දිනය', datetime.date(2024, 12, 14): 'උඳුවප් පුර පසළොස්වක පෝය දිනය', datetime.date(2024, 4, 11): 'ඊදුල් ෆීතර්', datetime.date(2024, 6, 17): 'ඊදුල් අල්හා', datetime.date(2024, 9, 16): 'නබි නායකතුමාගේ උපන් දිනය', datetime.date(2024, 4, 15): 'විශේෂ රජයේ නිවාඩු දිනය', datetime.date(2024, 9, 29): 'විශේෂ රජයේ නිවාඩු දිනය', datetime.date(2025, 1, 14): 'දෙමළ තෛපොංැලල් දිනය', datetime.date(2025, 2, 4): 'නිදහස් සමරු දිනය', datetime.date(2025, 4, 14): 'සිංහල හා දෙමළ අලුත් අවුරුදු දිනය', datetime.date(2025, 4, 13): 'සිංහල හා දෙමළ අලුත් අවුරුදු දිනට පෙර දිනය', datetime.date(2025, 5, 1): 'ලොක කම්කරු දිනය', datetime.date(2025, 2, 26): 'මහ සිවරාත්රි දිනය', datetime.date(2025, 10, 20): 'දීපවාලි උත්සව දිනය', datetime.date(2025, 4, 18): 'මහ සිකුරාදා දිනය', datetime.date(2025, 12, 25): 'නත්තල් උත්සව දිනය', datetime.date(2025, 1, 13): 'දුරුතු පුර පසළොස්වක පෝය දිනය', datetime.date(2025, 2, 12): 'නවම් පුර පසළොස්වක පෝය දිනය', datetime.date(2025, 3, 13): 'මැදින් පුර පසළොස්වක පෝය දිනය', datetime.date(2025, 4, 12): 'බක් පුර පසළොස්වක පෝය දිනය', datetime.date(2025, 5, 12): 'වෙසක් පුර පසළොස්වක පෝය දිනය', datetime.date(2025, 5, 13): 'වෙසක් පුර පසළොස්වක පෝය දිනට පසු දිනය', datetime.date(2025, 6, 10): 'පොසොන් පුර පසළොස්වක පෝය දිනය', datetime.date(2025, 7, 10): 'ඇසල පුර පසළොස්වක පෝය දිනය', datetime.date(2025, 8, 8): 'නිකිණි පුර පසළොස්වක පෝය දිනය', datetime.date(2025, 9, 7): 'බිනර පුර පසළොස්වක පෝය දිනය', datetime.date(2025, 10, 6): 'වප් පුර පසළොස්වක පෝය දිනය', datetime.date(2025, 11, 5): 'ඉල් පුර පසළොස්වක පෝය දිනය', datetime.date(2025, 12, 4): 'උඳුවප් පුර පසළොස්වක පෝය දිනය', datetime.date(2025, 3, 31): 'ඊදුල් ෆීතර්', datetime.date(2025, 6, 7): 'ඊදුල් අල්හා', datetime.date(2025, 9, 5): 'නබි නායකතුමාගේ උපන් දිනය'}\n"
     ]
    }
   ],
   "source": [
    "print(sl_holidays)"
   ]
  },
  {
   "cell_type": "code",
   "execution_count": 5,
   "id": "be81c792",
   "metadata": {},
   "outputs": [],
   "source": [
    "holiday_list=sl_holidays"
   ]
  },
  {
   "cell_type": "code",
   "execution_count": 6,
   "id": "d62f7c07",
   "metadata": {},
   "outputs": [
    {
     "name": "stdout",
     "output_type": "stream",
     "text": [
      "{datetime.date(2021, 1, 14): 'දෙමළ තෛපොංැලල් දිනය', datetime.date(2021, 2, 4): 'නිදහස් සමරු දිනය', datetime.date(2021, 4, 14): 'සිංහල හා දෙමළ අලුත් අවුරුදු දිනය', datetime.date(2021, 4, 13): 'සිංහල හා දෙමළ අලුත් අවුරුදු දිනට පෙර දිනය', datetime.date(2021, 5, 1): 'ලොක කම්කරු දිනය', datetime.date(2021, 3, 11): 'මහ සිවරාත්රි දිනය', datetime.date(2021, 11, 4): 'දීපවාලි උත්සව දිනය', datetime.date(2021, 4, 2): 'මහ සිකුරාදා දිනය', datetime.date(2021, 12, 25): 'නත්තල් උත්සව දිනය', datetime.date(2021, 1, 28): 'දුරුතු පුර පසළොස්වක පෝය දිනය', datetime.date(2021, 2, 26): 'නවම් පුර පසළොස්වක පෝය දිනය', datetime.date(2021, 3, 28): 'මැදින් පුර පසළොස්වක පෝය දිනය', datetime.date(2021, 4, 26): 'බක් පුර පසළොස්වක පෝය දිනය', datetime.date(2021, 5, 26): 'වෙසක් පුර පසළොස්වක පෝය දිනය', datetime.date(2021, 5, 27): 'වෙසක් පුර පසළොස්වක පෝය දිනට පසු දිනය', datetime.date(2021, 6, 24): 'පොසොන් පුර පසළොස්වක පෝය දිනය', datetime.date(2021, 7, 23): 'ඇසල පුර පසළොස්වක පෝය දිනය', datetime.date(2021, 8, 22): 'නිකිණි පුර පසළොස්වක පෝය දිනය', datetime.date(2021, 9, 20): 'බිනර පුර පසළොස්වක පෝය දිනය', datetime.date(2021, 10, 20): 'වප් පුර පසළොස්වක පෝය දිනය', datetime.date(2021, 11, 18): 'ඉල් පුර පසළොස්වක පෝය දිනය', datetime.date(2021, 12, 18): 'උඳුවප් පුර පසළොස්වක පෝය දිනය', datetime.date(2021, 5, 14): 'ඊදුල් ෆීතර්', datetime.date(2021, 7, 21): 'ඊදුල් අල්හා', datetime.date(2021, 10, 19): 'නබි නායකතුමාගේ උපන් දිනය', datetime.date(2022, 1, 14): 'දෙමළ තෛපොංැලල් දිනය', datetime.date(2022, 2, 4): 'නිදහස් සමරු දිනය', datetime.date(2022, 4, 14): 'සිංහල හා දෙමළ අලුත් අවුරුදු දිනය', datetime.date(2022, 4, 13): 'සිංහල හා දෙමළ අලුත් අවුරුදු දිනට පෙර දිනය', datetime.date(2022, 5, 1): 'ලොක කම්කරු දිනය', datetime.date(2022, 3, 1): 'මහ සිවරාත්රි දිනය', datetime.date(2022, 10, 24): 'දීපවාලි උත්සව දිනය', datetime.date(2022, 4, 15): 'මහ සිකුරාදා දිනය', datetime.date(2022, 12, 25): 'නත්තල් උත්සව දිනය', datetime.date(2022, 1, 17): 'දුරුතු පුර පසළොස්වක පෝය දිනය', datetime.date(2022, 2, 16): 'නවම් පුර පසළොස්වක පෝය දිනය', datetime.date(2022, 3, 17): 'මැදින් පුර පසළොස්වක පෝය දිනය', datetime.date(2022, 4, 16): 'බක් පුර පසළොස්වක පෝය දිනය', datetime.date(2022, 5, 15): 'වෙසක් පුර පසළොස්වක පෝය දිනය', datetime.date(2022, 5, 16): 'වෙසක් පුර පසළොස්වක පෝය දිනට පසු දිනය', datetime.date(2022, 6, 14): 'පොසොන් පුර පසළොස්වක පෝය දිනය', datetime.date(2022, 7, 13): 'ඇසල පුර පසළොස්වක පෝය දිනය', datetime.date(2022, 8, 11): 'නිකිණි පුර පසළොස්වක පෝය දිනය', datetime.date(2022, 9, 10): 'බිනර පුර පසළොස්වක පෝය දිනය', datetime.date(2022, 10, 9): 'නබි නායකතුමාගේ උපන් දිනය; වප් පුර පසළොස්වක පෝය දිනය', datetime.date(2022, 11, 7): 'ඉල් පුර පසළොස්වක පෝය දිනය', datetime.date(2022, 12, 7): 'උඳුවප් පුර පසළොස්වක පෝය දිනය', datetime.date(2022, 5, 3): 'ඊදුල් ෆීතර්', datetime.date(2022, 7, 10): 'ඊදුල් අල්හා', datetime.date(2022, 4, 11): 'විශේෂ රජයේ නිවාඩු දිනය', datetime.date(2022, 4, 12): 'විශේෂ රජයේ නිවාඩු දිනය', datetime.date(2022, 5, 2): 'විශේෂ රජයේ නිවාඩු දිනය', datetime.date(2023, 1, 15): 'දෙමළ තෛපොංැලල් දිනය', datetime.date(2023, 2, 4): 'නිදහස් සමරු දිනය', datetime.date(2023, 4, 14): 'සිංහල හා දෙමළ අලුත් අවුරුදු දිනය', datetime.date(2023, 4, 13): 'සිංහල හා දෙමළ අලුත් අවුරුදු දිනට පෙර දිනය', datetime.date(2023, 5, 1): 'ලොක කම්කරු දිනය', datetime.date(2023, 2, 18): 'මහ සිවරාත්රි දිනය', datetime.date(2023, 11, 12): 'දීපවාලි උත්සව දිනය', datetime.date(2023, 4, 7): 'මහ සිකුරාදා දිනය', datetime.date(2023, 12, 25): 'නත්තල් උත්සව දිනය', datetime.date(2023, 1, 6): 'දුරුතු පුර පසළොස්වක පෝය දිනය', datetime.date(2023, 2, 5): 'නවම් පුර පසළොස්වක පෝය දිනය', datetime.date(2023, 3, 6): 'මැදින් පුර පසළොස්වක පෝය දිනය', datetime.date(2023, 4, 5): 'බක් පුර පසළොස්වක පෝය දිනය', datetime.date(2023, 5, 5): 'වෙසක් පුර පසළොස්වක පෝය දිනය', datetime.date(2023, 5, 6): 'වෙසක් පුර පසළොස්වක පෝය දිනට පසු දිනය', datetime.date(2023, 6, 3): 'පොසොන් පුර පසළොස්වක පෝය දිනය', datetime.date(2023, 8, 1): 'ඇසල පුර පසළොස්වක පෝය දිනය', datetime.date(2023, 8, 30): 'නිකිණි පුර පසළොස්වක පෝය දිනය', datetime.date(2023, 9, 29): 'බිනර පුර පසළොස්වක පෝය දිනය', datetime.date(2023, 10, 28): 'වප් පුර පසළොස්වක පෝය දිනය', datetime.date(2023, 11, 26): 'ඉල් පුර පසළොස්වක පෝය දිනය', datetime.date(2023, 12, 26): 'උඳුවප් පුර පසළොස්වක පෝය දිනය', datetime.date(2023, 4, 22): 'ඊදුල් ෆීතර්', datetime.date(2023, 6, 29): 'ඊදුල් අල්හා', datetime.date(2023, 9, 28): 'නබි නායකතුමාගේ උපන් දිනය', datetime.date(2023, 7, 3): 'අධි ඇසල පුර පසළොස්වක පෝය දිනය', datetime.date(2024, 1, 15): 'දෙමළ තෛපොංැලල් දිනය', datetime.date(2024, 2, 4): 'නිදහස් සමරු දිනය', datetime.date(2024, 4, 13): 'සිංහල හා දෙමළ අලුත් අවුරුදු දිනය', datetime.date(2024, 4, 12): 'සිංහල හා දෙමළ අලුත් අවුරුදු දිනට පෙර දිනය', datetime.date(2024, 5, 1): 'ලොක කම්කරු දිනය', datetime.date(2024, 3, 8): 'මහ සිවරාත්රි දිනය', datetime.date(2024, 10, 31): 'දීපවාලි උත්සව දිනය', datetime.date(2024, 3, 29): 'මහ සිකුරාදා දිනය', datetime.date(2024, 12, 25): 'නත්තල් උත්සව දිනය', datetime.date(2024, 1, 25): 'දුරුතු පුර පසළොස්වක පෝය දිනය', datetime.date(2024, 2, 23): 'නවම් පුර පසළොස්වක පෝය දිනය', datetime.date(2024, 3, 24): 'මැදින් පුර පසළොස්වක පෝය දිනය', datetime.date(2024, 4, 23): 'බක් පුර පසළොස්වක පෝය දිනය', datetime.date(2024, 5, 23): 'වෙසක් පුර පසළොස්වක පෝය දිනය', datetime.date(2024, 5, 24): 'වෙසක් පුර පසළොස්වක පෝය දිනට පසු දිනය', datetime.date(2024, 6, 21): 'පොසොන් පුර පසළොස්වක පෝය දිනය', datetime.date(2024, 7, 20): 'ඇසල පුර පසළොස්වක පෝය දිනය', datetime.date(2024, 8, 19): 'නිකිණි පුර පසළොස්වක පෝය දිනය', datetime.date(2024, 9, 17): 'බිනර පුර පසළොස්වක පෝය දිනය', datetime.date(2024, 10, 17): 'වප් පුර පසළොස්වක පෝය දිනය', datetime.date(2024, 11, 15): 'ඉල් පුර පසළොස්වක පෝය දිනය', datetime.date(2024, 12, 14): 'උඳුවප් පුර පසළොස්වක පෝය දිනය', datetime.date(2024, 4, 11): 'ඊදුල් ෆීතර්', datetime.date(2024, 6, 17): 'ඊදුල් අල්හා', datetime.date(2024, 9, 16): 'නබි නායකතුමාගේ උපන් දිනය', datetime.date(2024, 4, 15): 'විශේෂ රජයේ නිවාඩු දිනය', datetime.date(2024, 9, 29): 'විශේෂ රජයේ නිවාඩු දිනය', datetime.date(2025, 1, 14): 'දෙමළ තෛපොංැලල් දිනය', datetime.date(2025, 2, 4): 'නිදහස් සමරු දිනය', datetime.date(2025, 4, 14): 'සිංහල හා දෙමළ අලුත් අවුරුදු දිනය', datetime.date(2025, 4, 13): 'සිංහල හා දෙමළ අලුත් අවුරුදු දිනට පෙර දිනය', datetime.date(2025, 5, 1): 'ලොක කම්කරු දිනය', datetime.date(2025, 2, 26): 'මහ සිවරාත්රි දිනය', datetime.date(2025, 10, 20): 'දීපවාලි උත්සව දිනය', datetime.date(2025, 4, 18): 'මහ සිකුරාදා දිනය', datetime.date(2025, 12, 25): 'නත්තල් උත්සව දිනය', datetime.date(2025, 1, 13): 'දුරුතු පුර පසළොස්වක පෝය දිනය', datetime.date(2025, 2, 12): 'නවම් පුර පසළොස්වක පෝය දිනය', datetime.date(2025, 3, 13): 'මැදින් පුර පසළොස්වක පෝය දිනය', datetime.date(2025, 4, 12): 'බක් පුර පසළොස්වක පෝය දිනය', datetime.date(2025, 5, 12): 'වෙසක් පුර පසළොස්වක පෝය දිනය', datetime.date(2025, 5, 13): 'වෙසක් පුර පසළොස්වක පෝය දිනට පසු දිනය', datetime.date(2025, 6, 10): 'පොසොන් පුර පසළොස්වක පෝය දිනය', datetime.date(2025, 7, 10): 'ඇසල පුර පසළොස්වක පෝය දිනය', datetime.date(2025, 8, 8): 'නිකිණි පුර පසළොස්වක පෝය දිනය', datetime.date(2025, 9, 7): 'බිනර පුර පසළොස්වක පෝය දිනය', datetime.date(2025, 10, 6): 'වප් පුර පසළොස්වක පෝය දිනය', datetime.date(2025, 11, 5): 'ඉල් පුර පසළොස්වක පෝය දිනය', datetime.date(2025, 12, 4): 'උඳුවප් පුර පසළොස්වක පෝය දිනය', datetime.date(2025, 3, 31): 'ඊදුල් ෆීතර්', datetime.date(2025, 6, 7): 'ඊදුල් අල්හා', datetime.date(2025, 9, 5): 'නබි නායකතුමාගේ උපන් දිනය'}\n"
     ]
    }
   ],
   "source": [
    "print(holiday_list)"
   ]
  },
  {
   "cell_type": "code",
   "execution_count": 7,
   "id": "b232d959",
   "metadata": {},
   "outputs": [
    {
     "data": {
      "text/html": [
       "<div>\n",
       "<style scoped>\n",
       "    .dataframe tbody tr th:only-of-type {\n",
       "        vertical-align: middle;\n",
       "    }\n",
       "\n",
       "    .dataframe tbody tr th {\n",
       "        vertical-align: top;\n",
       "    }\n",
       "\n",
       "    .dataframe thead th {\n",
       "        text-align: right;\n",
       "    }\n",
       "</style>\n",
       "<table border=\"1\" class=\"dataframe\">\n",
       "  <thead>\n",
       "    <tr style=\"text-align: right;\">\n",
       "      <th></th>\n",
       "      <th>date</th>\n",
       "      <th>holiday_name</th>\n",
       "    </tr>\n",
       "  </thead>\n",
       "  <tbody>\n",
       "    <tr>\n",
       "      <th>0</th>\n",
       "      <td>2021-01-14</td>\n",
       "      <td>දෙමළ තෛපොංැලල් දිනය</td>\n",
       "    </tr>\n",
       "    <tr>\n",
       "      <th>1</th>\n",
       "      <td>2021-02-04</td>\n",
       "      <td>නිදහස් සමරු දිනය</td>\n",
       "    </tr>\n",
       "    <tr>\n",
       "      <th>2</th>\n",
       "      <td>2021-04-14</td>\n",
       "      <td>සිංහල හා දෙමළ අලුත් අවුරුදු දිනය</td>\n",
       "    </tr>\n",
       "    <tr>\n",
       "      <th>3</th>\n",
       "      <td>2021-04-13</td>\n",
       "      <td>සිංහල හා දෙමළ අලුත් අවුරුදු දිනට පෙර දිනය</td>\n",
       "    </tr>\n",
       "    <tr>\n",
       "      <th>4</th>\n",
       "      <td>2021-05-01</td>\n",
       "      <td>ලොක කම්කරු දිනය</td>\n",
       "    </tr>\n",
       "  </tbody>\n",
       "</table>\n",
       "</div>"
      ],
      "text/plain": [
       "        date                               holiday_name\n",
       "0 2021-01-14                        දෙමළ තෛපොංැලල් දිනය\n",
       "1 2021-02-04                           නිදහස් සමරු දිනය\n",
       "2 2021-04-14           සිංහල හා දෙමළ අලුත් අවුරුදු දිනය\n",
       "3 2021-04-13  සිංහල හා දෙමළ අලුත් අවුරුදු දිනට පෙර දිනය\n",
       "4 2021-05-01                            ලොක කම්කරු දිනය"
      ]
     },
     "execution_count": 7,
     "metadata": {},
     "output_type": "execute_result"
    }
   ],
   "source": [
    "import pandas as pd\n",
    "\n",
    "holiday_list = [(date, name) for date, name in sl_holidays.items()]\n",
    "holiday_df = pd.DataFrame(holiday_list, columns=['date', 'holiday_name'])\n",
    "holiday_df['date'] = pd.to_datetime(holiday_df['date'])\n",
    "holiday_df.head()"
   ]
  },
  {
   "cell_type": "code",
   "execution_count": 8,
   "id": "b3c8dc1a",
   "metadata": {},
   "outputs": [
    {
     "data": {
      "text/html": [
       "<div>\n",
       "<style scoped>\n",
       "    .dataframe tbody tr th:only-of-type {\n",
       "        vertical-align: middle;\n",
       "    }\n",
       "\n",
       "    .dataframe tbody tr th {\n",
       "        vertical-align: top;\n",
       "    }\n",
       "\n",
       "    .dataframe thead th {\n",
       "        text-align: right;\n",
       "    }\n",
       "</style>\n",
       "<table border=\"1\" class=\"dataframe\">\n",
       "  <thead>\n",
       "    <tr style=\"text-align: right;\">\n",
       "      <th></th>\n",
       "      <th>date</th>\n",
       "      <th>holiday_name</th>\n",
       "    </tr>\n",
       "  </thead>\n",
       "  <tbody>\n",
       "    <tr>\n",
       "      <th>125</th>\n",
       "      <td>2025-11-05</td>\n",
       "      <td>ඉල් පුර පසළොස්වක පෝය දිනය</td>\n",
       "    </tr>\n",
       "    <tr>\n",
       "      <th>126</th>\n",
       "      <td>2025-12-04</td>\n",
       "      <td>උඳුවප් පුර පසළොස්වක පෝය දිනය</td>\n",
       "    </tr>\n",
       "    <tr>\n",
       "      <th>127</th>\n",
       "      <td>2025-03-31</td>\n",
       "      <td>ඊදුල් ෆීතර්</td>\n",
       "    </tr>\n",
       "    <tr>\n",
       "      <th>128</th>\n",
       "      <td>2025-06-07</td>\n",
       "      <td>ඊදුල් අල්හා</td>\n",
       "    </tr>\n",
       "    <tr>\n",
       "      <th>129</th>\n",
       "      <td>2025-09-05</td>\n",
       "      <td>නබි නායකතුමාගේ උපන් දිනය</td>\n",
       "    </tr>\n",
       "  </tbody>\n",
       "</table>\n",
       "</div>"
      ],
      "text/plain": [
       "          date                  holiday_name\n",
       "125 2025-11-05     ඉල් පුර පසළොස්වක පෝය දිනය\n",
       "126 2025-12-04  උඳුවප් පුර පසළොස්වක පෝය දිනය\n",
       "127 2025-03-31                   ඊදුල් ෆීතර්\n",
       "128 2025-06-07                   ඊදුල් අල්හා\n",
       "129 2025-09-05      නබි නායකතුමාගේ උපන් දිනය"
      ]
     },
     "execution_count": 8,
     "metadata": {},
     "output_type": "execute_result"
    }
   ],
   "source": [
    "holiday_df.tail()"
   ]
  },
  {
   "cell_type": "code",
   "execution_count": 9,
   "id": "123b7da7",
   "metadata": {},
   "outputs": [
    {
     "name": "stdout",
     "output_type": "stream",
     "text": [
      "<class 'pandas.core.frame.DataFrame'>\n",
      "RangeIndex: 130 entries, 0 to 129\n",
      "Data columns (total 2 columns):\n",
      " #   Column        Non-Null Count  Dtype         \n",
      "---  ------        --------------  -----         \n",
      " 0   date          130 non-null    datetime64[ns]\n",
      " 1   holiday_name  130 non-null    object        \n",
      "dtypes: datetime64[ns](1), object(1)\n",
      "memory usage: 2.2+ KB\n"
     ]
    }
   ],
   "source": [
    "holiday_df.info()"
   ]
  },
  {
   "cell_type": "code",
   "execution_count": 10,
   "id": "bf52884f",
   "metadata": {},
   "outputs": [],
   "source": [
    "staff_df=pd.read_csv(\"staffing_train.csv\")"
   ]
  },
  {
   "cell_type": "code",
   "execution_count": 11,
   "id": "162d74e7",
   "metadata": {},
   "outputs": [
    {
     "name": "stdout",
     "output_type": "stream",
     "text": [
      "         date section_id  employees_on_duty  total_task_time_minutes\n",
      "0  2021-01-01    SEC-001                  1               834.569483\n",
      "1  2021-01-01    SEC-002                  4              1525.368990\n",
      "2  2021-01-01    SEC-003                  2               662.095279\n",
      "3  2021-01-01    SEC-004                  4              1499.112620\n",
      "4  2021-01-01    SEC-005                  3              1238.533073\n"
     ]
    }
   ],
   "source": [
    "print(staff_df.head())"
   ]
  },
  {
   "cell_type": "code",
   "execution_count": 12,
   "id": "10540205",
   "metadata": {},
   "outputs": [
    {
     "name": "stdout",
     "output_type": "stream",
     "text": [
      "<class 'pandas.core.frame.DataFrame'>\n",
      "RangeIndex: 5802 entries, 0 to 5801\n",
      "Data columns (total 4 columns):\n",
      " #   Column                   Non-Null Count  Dtype  \n",
      "---  ------                   --------------  -----  \n",
      " 0   date                     5802 non-null   object \n",
      " 1   section_id               5802 non-null   object \n",
      " 2   employees_on_duty        5802 non-null   int64  \n",
      " 3   total_task_time_minutes  5802 non-null   float64\n",
      "dtypes: float64(1), int64(1), object(2)\n",
      "memory usage: 181.4+ KB\n"
     ]
    }
   ],
   "source": [
    "staff_df.info()"
   ]
  },
  {
   "cell_type": "code",
   "execution_count": 13,
   "id": "e36ebf35",
   "metadata": {},
   "outputs": [],
   "source": [
    "staff_df['date']=pd.to_datetime(staff_df['date'])"
   ]
  },
  {
   "cell_type": "code",
   "execution_count": 14,
   "id": "1e842bdb",
   "metadata": {},
   "outputs": [
    {
     "name": "stdout",
     "output_type": "stream",
     "text": [
      "<class 'pandas.core.frame.DataFrame'>\n",
      "RangeIndex: 5802 entries, 0 to 5801\n",
      "Data columns (total 4 columns):\n",
      " #   Column                   Non-Null Count  Dtype         \n",
      "---  ------                   --------------  -----         \n",
      " 0   date                     5802 non-null   datetime64[ns]\n",
      " 1   section_id               5802 non-null   object        \n",
      " 2   employees_on_duty        5802 non-null   int64         \n",
      " 3   total_task_time_minutes  5802 non-null   float64       \n",
      "dtypes: datetime64[ns](1), float64(1), int64(1), object(1)\n",
      "memory usage: 181.4+ KB\n"
     ]
    }
   ],
   "source": [
    "staff_df.info()"
   ]
  },
  {
   "cell_type": "code",
   "execution_count": 15,
   "id": "e6fc582e",
   "metadata": {},
   "outputs": [
    {
     "data": {
      "text/html": [
       "<div>\n",
       "<style scoped>\n",
       "    .dataframe tbody tr th:only-of-type {\n",
       "        vertical-align: middle;\n",
       "    }\n",
       "\n",
       "    .dataframe tbody tr th {\n",
       "        vertical-align: top;\n",
       "    }\n",
       "\n",
       "    .dataframe thead th {\n",
       "        text-align: right;\n",
       "    }\n",
       "</style>\n",
       "<table border=\"1\" class=\"dataframe\">\n",
       "  <thead>\n",
       "    <tr style=\"text-align: right;\">\n",
       "      <th></th>\n",
       "      <th>date</th>\n",
       "      <th>weekday</th>\n",
       "    </tr>\n",
       "  </thead>\n",
       "  <tbody>\n",
       "    <tr>\n",
       "      <th>0</th>\n",
       "      <td>2021-01-02</td>\n",
       "      <td>Saturday</td>\n",
       "    </tr>\n",
       "    <tr>\n",
       "      <th>1</th>\n",
       "      <td>2021-01-03</td>\n",
       "      <td>Sunday</td>\n",
       "    </tr>\n",
       "    <tr>\n",
       "      <th>2</th>\n",
       "      <td>2021-01-09</td>\n",
       "      <td>Saturday</td>\n",
       "    </tr>\n",
       "    <tr>\n",
       "      <th>3</th>\n",
       "      <td>2021-01-10</td>\n",
       "      <td>Sunday</td>\n",
       "    </tr>\n",
       "    <tr>\n",
       "      <th>4</th>\n",
       "      <td>2021-01-16</td>\n",
       "      <td>Saturday</td>\n",
       "    </tr>\n",
       "  </tbody>\n",
       "</table>\n",
       "</div>"
      ],
      "text/plain": [
       "        date   weekday\n",
       "0 2021-01-02  Saturday\n",
       "1 2021-01-03    Sunday\n",
       "2 2021-01-09  Saturday\n",
       "3 2021-01-10    Sunday\n",
       "4 2021-01-16  Saturday"
      ]
     },
     "execution_count": 15,
     "metadata": {},
     "output_type": "execute_result"
    }
   ],
   "source": [
    "import numpy as np\n",
    "from datetime import datetime, timedelta\n",
    "\n",
    "# Generate all dates from 2021-01-01 to 2025-12-31\n",
    "start_date = datetime(2021, 1, 1)\n",
    "end_date = datetime(2025, 12, 31)\n",
    "all_dates = pd.date_range(start=start_date, end=end_date)\n",
    "\n",
    "# Filter weekends (Saturday=5, Sunday=6)\n",
    "weekend_dates = all_dates[all_dates.weekday.isin([5, 6])]\n",
    "weekend_df = pd.DataFrame({'date': weekend_dates})\n",
    "weekend_df['weekday'] = weekend_df['date'].dt.day_name()\n",
    "weekend_df.head()"
   ]
  },
  {
   "cell_type": "code",
   "execution_count": 21,
   "id": "7c230920",
   "metadata": {},
   "outputs": [
    {
     "name": "stdout",
     "output_type": "stream",
     "text": [
      "         date section_id  employees_on_duty  total_task_time_minutes\n",
      "0  2021-01-01    SEC-001                  1               834.569483\n",
      "1  2021-01-01    SEC-002                  4              1525.368990\n",
      "2  2021-01-01    SEC-003                  2               662.095279\n",
      "3  2021-01-01    SEC-004                  4              1499.112620\n",
      "4  2021-01-01    SEC-005                  3              1238.533073\n",
      "5  2021-01-01    SEC-006                 11              4283.154645\n",
      "6  2021-01-04    SEC-001                  1               767.698506\n",
      "7  2021-01-04    SEC-002                  7              2717.770275\n",
      "8  2021-01-04    SEC-003                  6              2485.334696\n",
      "9  2021-01-04    SEC-004                  6              2097.884599\n",
      "10 2021-01-04    SEC-005                  4              1556.520829\n",
      "11 2021-01-04    SEC-006                  6              1873.923819\n",
      "12 2021-01-05    SEC-001                  4              1530.652495\n",
      "13 2021-01-05    SEC-002                  6              2177.474405\n",
      "14 2021-01-05    SEC-003                  3               459.171861\n",
      "15 2021-01-05    SEC-004                  4              1138.464777\n",
      "16 2021-01-05    SEC-005                  6              2411.319418\n",
      "17 2021-01-05    SEC-006                  5              1933.867596\n",
      "18 2021-01-06    SEC-001                  2               481.229090\n",
      "19 2021-01-06    SEC-002                  5              1814.401207\n"
     ]
    }
   ],
   "source": [
    "print(staff_df.head(20))"
   ]
  },
  {
   "cell_type": "code",
   "execution_count": null,
   "id": "a71010fe",
   "metadata": {},
   "outputs": [],
   "source": []
  },
  {
   "cell_type": "markdown",
   "id": "d0928714",
   "metadata": {},
   "source": []
  },
  {
   "cell_type": "code",
   "execution_count": 22,
   "id": "36d0f42c",
   "metadata": {},
   "outputs": [
    {
     "name": "stdout",
     "output_type": "stream",
     "text": [
      "Date | Type | Detail\n",
      "2023-09-29 | Holiday | බිනර පුර පසළොස්වක පෝය දිනය\n",
      "2022-05-02 | Holiday | විශේෂ රජයේ නිවාඩු දිනය\n",
      "2023-06-29 | Holiday | ඊදුල් අල්හා\n",
      "2023-08-30 | Holiday | නිකිණි පුර පසළොස්වක පෝය දිනය\n",
      "2023-03-06 | Holiday | මැදින් පුර පසළොස්වක පෝය දිනය\n"
     ]
    }
   ],
   "source": [
    "# Find dates in staff_df that are holidays or weekends, and print details\n",
    "staff_dates = set(staff_df['date'])\n",
    "holiday_dates = set(holiday_df['date'])\n",
    "weekend_dates_set = set(weekend_df['date'])\n",
    "result = []\n",
    "for date in staff_dates:\n",
    "    info = {'date': date.strftime('%Y-%m-%d')}\n",
    "    if date in holiday_dates:\n",
    "        holiday_name = holiday_df.loc[holiday_df['date'] == date, 'holiday_name'].values[0]\n",
    "        info['type'] = 'Holiday'\n",
    "        info['detail'] = holiday_name\n",
    "    elif date in weekend_dates_set:\n",
    "        weekday = weekend_df.loc[weekend_df['date'] == date, 'weekday'].values[0]\n",
    "        info['type'] = 'Weekend'\n",
    "        info['detail'] = weekday\n",
    "    else:\n",
    "        continue  # Only interested in holidays or weekends\n",
    "    result.append(info)\n",
    "if result:\n",
    "    print('Date | Type | Detail')\n",
    "    for r in result:\n",
    "        print(f\"{r['date']} | {r['type']} | {r['detail']}\")\n",
    "else:\n",
    "    print('No staff dates found that are holidays or weekends.')"
   ]
  },
  {
   "cell_type": "code",
   "execution_count": 26,
   "id": "88cc5395",
   "metadata": {},
   "outputs": [
    {
     "name": "stdout",
     "output_type": "stream",
     "text": [
      "Dates not present in staff, holiday, or weekend datasets (2021-2024):\n",
      "2021-04-12\n",
      "2022-10-10\n",
      "2022-12-26\n",
      "2023-01-16\n"
     ]
    }
   ],
   "source": [
    "# Print dates not present in staff_df, holiday_df, or weekend_df, only for years 2021-2024\n",
    "all_dates_2021_2024 = [d for d in all_dates if d.year < 2025]\n",
    "all_dates_set = set(all_dates_2021_2024)\n",
    "staff_dates_set = set(staff_df['date'])\n",
    "holiday_dates_set = set(holiday_df['date'])\n",
    "weekend_dates_set = set(weekend_df['date'])\n",
    "excluded_dates = staff_dates_set | holiday_dates_set | weekend_dates_set\n",
    "missing_dates = sorted(list(all_dates_set - excluded_dates))\n",
    "if missing_dates:\n",
    "    print('Dates not present in staff, holiday, or weekend datasets (2021-2024):')\n",
    "    for d in missing_dates:\n",
    "        print(d.strftime('%Y-%m-%d'))\n",
    "else:\n",
    "    print('All dates are present in at least one of the datasets for 2021-2024.')"
   ]
  },
  {
   "cell_type": "code",
   "execution_count": null,
   "id": "7a80cd63",
   "metadata": {},
   "outputs": [],
   "source": []
  },
  {
   "cell_type": "code",
   "execution_count": null,
   "id": "832abf7c",
   "metadata": {},
   "outputs": [],
   "source": [
    "# Create an empty DataFrame for web holiday data, waiting for user input\n",
    "import pandas as pd\n",
    "web_holiday_df = pd.DataFrame(columns=['date', 'holiday_name'])\n",
    "web_holiday_df.head()"
   ]
  },
  {
   "cell_type": "code",
   "execution_count": null,
   "id": "17fd252d",
   "metadata": {},
   "outputs": [],
   "source": [
    "# Populate web_holiday_df with Sri Lanka holidays for 2021-2025\n",
    "web_holiday_data = [\n",
    "    # 2021 Holidays\n",
    "    ('2021-01-14', 'Tamil Thai Pongal Day'),\n",
    "    ('2021-01-28', 'Duruthu Full Moon Poya'),\n",
    "    ('2021-02-04', 'National Day'),\n",
    "    ('2021-02-26', 'Navam Full Moon Poya'),\n",
    "    ('2021-03-11', 'Mahasivarathri Day'),\n",
    "    ('2021-03-28', 'Madin Full Moon Poya'),\n",
    "    ('2021-04-02', 'Good Friday'),\n",
    "    ('2021-04-12', 'Sinhala and Tamil New Year Holiday'),\n",
    "    ('2021-04-13', 'Sinhala and Tamil New Year Eve'),\n",
    "    ('2021-04-14', 'Sinhala and Tamil New Year'),\n",
    "    ('2021-04-26', 'Bak Full Moon Poya'),\n",
    "    ('2021-05-01', 'Labour Day'),\n",
    "    ('2021-05-14', 'Id-Ul-Fitr (Ramazan Festival Day)'),\n",
    "    ('2021-05-24', 'Special Public Holiday'),\n",
    "    ('2021-05-25', 'Special Public Holiday'),\n",
    "    ('2021-05-26', 'Vesak Full Moon Poya'),\n",
    "    ('2021-05-27', 'Vesak Full Moon Poya Holiday'),\n",
    "    ('2021-06-24', 'Poson Full Moon Poya'),\n",
    "    ('2021-07-21', 'Idul Adha'),\n",
    "    ('2021-07-23', 'Esala Full Moon Poya'),\n",
    "    ('2021-08-22', 'Nikini Full Moon Poya'),\n",
    "    ('2021-09-20', 'Binara Full Moon Poya'),\n",
    "    ('2021-10-19', 'Milad-Un-Nabi'),\n",
    "    ('2021-10-20', 'Vap Full Moon Poya'),\n",
    "    ('2021-11-04', 'Deepavali Festival Day'),\n",
    "    ('2021-11-18', 'Ill Full Moon Poya'),\n",
    "    ('2021-12-18', 'Unduvap Full Moon Poya'),\n",
    "    ('2021-12-25', 'Christmas Day'),\n",
    "    # 2022 Holidays\n",
    "    ('2022-01-14', 'Tamil Thai Pongal Day'),\n",
    "    ('2022-01-17', 'Duruthu Full Moon Poya'),\n",
    "    ('2022-02-04', 'National Day'),\n",
    "    ('2022-02-16', 'Navam Full Moon Poya'),\n",
    "    ('2022-03-01', 'Mahasivarathri Day'),\n",
    "    ('2022-03-17', 'Madin Full Moon Poya'),\n",
    "    ('2022-04-11', 'Special Public Holiday'),\n",
    "    ('2022-04-12', 'Special Public Holiday'),\n",
    "    ('2022-04-13', 'Sinhala and Tamil New Year Eve'),\n",
    "    ('2022-04-14', 'Sinhala and Tamil New Year'),\n",
    "    ('2022-04-15', 'Good Friday'),\n",
    "    ('2022-04-16', 'Bak Full Moon Poya'),\n",
    "    ('2022-05-01', 'Labour Day'),\n",
    "    ('2022-05-02', 'Labour Day (in lieu)'),\n",
    "    ('2022-05-03', 'Id-Ul-Fitr'),\n",
    "    ('2022-05-15', 'Vesak Full Moon Poya'),\n",
    "    ('2022-05-16', 'Vesak Full Moon Poya Holiday'),\n",
    "    ('2022-06-13', 'Special Public Holiday'),\n",
    "    ('2022-06-14', 'Poson Full Moon Poya'),\n",
    "    ('2022-06-17', 'Sri Lanka Friday Holiday'),\n",
    "    ('2022-06-24', 'Sri Lanka Friday Holiday'),\n",
    "    ('2022-07-01', 'Sri Lanka Friday Holiday'),\n",
    "    ('2022-07-08', 'Sri Lanka Friday Holiday'),\n",
    "    ('2022-07-10', 'Idul Adha'),\n",
    "    ('2022-07-13', 'Esala Full Moon Poya'),\n",
    "    ('2022-07-15', 'Sri Lanka Friday Holiday'),\n",
    "    ('2022-07-22', 'Sri Lanka Friday Holiday'),\n",
    "    ('2022-07-29', 'Sri Lanka Friday Holiday'),\n",
    "    ('2022-08-11', 'Nikini Full Moon Poya'),\n",
    "    ('2022-09-10', 'Binara Full Moon Poya'),\n",
    "    ('2022-09-19', 'Special Public Holiday'),\n",
    "    ('2022-10-09', 'Vap Full Moon Poya'),\n",
    "    ('2022-10-09', 'Milad-Un-Nabi'),\n",
    "    ('2022-10-10', 'Milad-Un-Nabi (in lieu)'),\n",
    "    ('2022-10-24', 'Deepavali Festival Day'),\n",
    "    ('2022-11-07', 'Ill Full Moon Poya'),\n",
    "    ('2022-12-07', 'Unduvap Full Moon Poya'),\n",
    "    ('2022-12-25', 'Christmas Day'),\n",
    "    ('2022-12-26', 'Special Public Holiday (in lieu)'),\n",
    "    # 2023 Holidays\n",
    "    ('2023-01-06', 'Duruthu Full Moon Poya'),\n",
    "    ('2023-01-15', 'Tamil Thai Pongal Day'),\n",
    "    ('2023-02-04', 'National Day'),\n",
    "    ('2023-02-05', 'Navam Full Moon Poya'),\n",
    "    ('2023-02-18', 'Mahasivarathri Day'),\n",
    "    ('2023-03-06', 'Madin Full Moon Poya'),\n",
    "    ('2023-04-05', 'Bak Full Moon Poya'),\n",
    "    ('2023-04-07', 'Good Friday'),\n",
    "    ('2023-04-13', 'Sinhala and Tamil New Year Eve'),\n",
    "    ('2023-04-14', 'Sinhala and Tamil New Year'),\n",
    "    ('2023-04-22', 'Id-Ul-Fitr'),\n",
    "    ('2023-05-01', 'Labour Day'),\n",
    "    ('2023-05-05', 'Vesak Full Moon Poya'),\n",
    "    ('2023-05-06', 'Vesak Full Moon Poya Holiday'),\n",
    "    ('2023-06-03', 'Poson Full Moon Poya'),\n",
    "    ('2023-06-29', 'Idul Adha'),\n",
    "    ('2023-07-03', 'Esala Full Moon Poya'),\n",
    "    ('2023-08-01', 'Nikini Full Moon Poya'),\n",
    "    ('2023-08-30', 'Adhi Nikini Full Moon Poya'),\n",
    "    ('2023-09-28', 'Milad-Un-Nabi'),\n",
    "    ('2023-09-29', 'Binara Full Moon Poya'),\n",
    "    ('2023-10-28', 'Vap Full Moon Poya'),\n",
    "    ('2023-11-12', 'Deepavali Festival Day'),\n",
    "    ('2023-11-26', 'Ill Full Moon Poya'),\n",
    "    ('2023-12-25', 'Christmas Day'),\n",
    "    ('2023-12-26', 'Unduvap Full Moon Poya'),\n",
    "    # 2024 Holidays\n",
    "    ('2024-01-15', 'Tamil Thai Pongal Day'),\n",
    "    ('2024-01-25', 'Duruthu Full Moon Poya'),\n",
    "    ('2024-02-04', 'National Day'),\n",
    "    ('2024-02-23', 'Navam Full Moon Poya'),\n",
    "    ('2024-03-08', 'Mahasivarathri Day'),\n",
    "    ('2024-03-24', 'Madin Full Moon Poya'),\n",
    "    ('2024-03-29', 'Good Friday'),\n",
    "    ('2024-04-11', 'Id-Ul-Fitr'),\n",
    "    ('2024-04-12', 'Sinhala and Tamil New Year Eve'),\n",
    "    ('2024-04-13', 'Sinhala and Tamil New Year'),\n",
    "    ('2024-04-15', 'Sinhala and Tamil New Year (in lieu)'),\n",
    "    ('2024-04-23', 'Bak Full Moon Poya'),\n",
    "    ('2024-05-01', 'Labour Day'),\n",
    "    ('2024-05-23', 'Vesak Full Moon Poya'),\n",
    "    ('2024-05-24', 'Vesak Full Moon Poya Holiday'),\n",
    "    ('2024-06-17', 'Idul Adha'),\n",
    "    ('2024-06-21', 'Poson Full Moon Poya'),\n",
    "    ('2024-07-20', 'Esala Full Moon Poya'),\n",
    "    ('2024-08-19', 'Nikini Full Moon Poya'),\n",
    "    ('2024-09-16', 'Milad-Un-Nabi'),\n",
    "    ('2024-09-17', 'Binara Full Moon Poya'),\n",
    "    ('2024-09-23', 'Public Holiday'),\n",
    "    ('2024-10-17', 'Vap Full Moon Poya'),\n",
    "    ('2024-10-31', 'Deepavali Festival Day'),\n",
    "    ('2024-11-15', 'Ill Full Moon Poya'),\n",
    "    ('2024-12-14', 'Unduvap Full Moon Poya'),\n",
    "    ('2024-12-25', 'Christmas Day'),\n",
    "    # 2025 Holidays\n",
    "    ('2025-01-13', 'Duruthu Full Moon Poya'),\n",
    "    ('2025-01-14', 'Tamil Thai Pongal Day'),\n",
    "    ('2025-02-04', 'National Day'),\n",
    "    ('2025-02-12', 'Navam Full Moon Poya'),\n",
    "    ('2025-02-26', 'Mahasivarathri Day'),\n",
    "    ('2025-03-13', 'Madin Full Moon Poya'),\n",
    "    ('2025-03-31', 'Id-Ul-Fitr'),\n",
    "    ('2025-04-12', 'Bak Full Moon Poya'),\n",
    "    ('2025-04-13', 'Sinhala and Tamil New Year Eve'),\n",
    "    ('2025-04-14', 'Sinhala and Tamil New Year'),\n",
    "    ('2025-04-15', 'Special Bank Holiday'),\n",
    "    ('2025-04-18', 'Good Friday'),\n",
    "    ('2025-05-01', 'Labour Day'),\n",
    "    ('2025-05-12', 'Vesak Full Moon Poya'),\n",
    "    ('2025-05-13', 'Vesak Full Moon Poya Holiday'),\n",
    "    ('2025-06-07', 'Idul Adha'),\n",
    "    ('2025-06-10', 'Poson Full Moon Poya'),\n",
    "    ('2025-07-10', 'Esala Full Moon Poya'),\n",
    "    ('2025-08-08', 'Nikini Full Moon Poya'),\n",
    "    ('2025-09-05', 'Milad-Un-Nabi'),\n",
    "    ('2025-09-07', 'Binara Full Moon Poya'),\n",
    "    ('2025-10-06', 'Vap Full Moon Poya'),\n",
    "    ('2025-10-20', 'Deepavali Festival Day'),\n",
    "    ('2025-11-05', 'Ill Full Moon Poya'),\n",
    "    ('2025-12-04', 'Unduvap Full Moon Poya'),\n",
    "    ('2025-12-25', 'Christmas Day'),\n",
    " ]\n",
    "web_holiday_df = pd.DataFrame(web_holiday_data, columns=['date', 'holiday_name'])\n",
    "web_holiday_df['date'] = pd.to_datetime(web_holiday_df['date'])\n",
    "web_holiday_df.head()"
   ]
  }
 ],
 "metadata": {
  "kernelspec": {
   "display_name": "venv",
   "language": "python",
   "name": "python3"
  },
  "language_info": {
   "codemirror_mode": {
    "name": "ipython",
    "version": 3
   },
   "file_extension": ".py",
   "mimetype": "text/x-python",
   "name": "python",
   "nbconvert_exporter": "python",
   "pygments_lexer": "ipython3",
   "version": "3.12.4"
  }
 },
 "nbformat": 4,
 "nbformat_minor": 5
}
